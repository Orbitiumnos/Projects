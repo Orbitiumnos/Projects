{
 "cells": [
  {
   "cell_type": "code",
   "execution_count": 1,
   "metadata": {},
   "outputs": [
    {
     "ename": "ModuleNotFoundError",
     "evalue": "No module named 'Image'",
     "output_type": "error",
     "traceback": [
      "\u001b[1;31m---------------------------------------------------------------------------\u001b[0m",
      "\u001b[1;31mModuleNotFoundError\u001b[0m                       Traceback (most recent call last)",
      "\u001b[1;32m<ipython-input-1-19c527927cac>\u001b[0m in \u001b[0;36m<module>\u001b[1;34m\u001b[0m\n\u001b[0;32m      3\u001b[0m \u001b[1;32mimport\u001b[0m \u001b[0mnumpy\u001b[0m \u001b[1;32mas\u001b[0m \u001b[0mnp\u001b[0m\u001b[1;33m\u001b[0m\u001b[1;33m\u001b[0m\u001b[0m\n\u001b[0;32m      4\u001b[0m \u001b[1;32mimport\u001b[0m \u001b[0mrandom\u001b[0m\u001b[1;33m\u001b[0m\u001b[1;33m\u001b[0m\u001b[0m\n\u001b[1;32m----> 5\u001b[1;33m \u001b[1;32mimport\u001b[0m \u001b[0mImage\u001b[0m\u001b[1;33m\u001b[0m\u001b[1;33m\u001b[0m\u001b[0m\n\u001b[0m\u001b[0;32m      6\u001b[0m \u001b[1;32mimport\u001b[0m \u001b[0mos\u001b[0m\u001b[1;33m\u001b[0m\u001b[1;33m\u001b[0m\u001b[0m\n\u001b[0;32m      7\u001b[0m \u001b[1;32mimport\u001b[0m \u001b[0mre\u001b[0m\u001b[1;33m\u001b[0m\u001b[1;33m\u001b[0m\u001b[0m\n",
      "\u001b[1;31mModuleNotFoundError\u001b[0m: No module named 'Image'"
     ]
    }
   ],
   "source": [
    "#This is the sample code of discrere hopfield network\n",
    "\n",
    "import numpy as np\n",
    "import random\n",
    "import Image\n",
    "import os\n",
    "import re"
   ]
  },
  {
   "cell_type": "code",
   "execution_count": null,
   "metadata": {},
   "outputs": [],
   "source": [
    "#convert matrix to a vector\n",
    "def mat2vec(x):\n",
    "    m = x.shape[0]*x.shape[1]\n",
    "    tmp1 = np.zeros(m)\n",
    "\n",
    "    c = 0\n",
    "    for i in range(x.shape[0]):\n",
    "        for j in range(x.shape[1]):\n",
    "            tmp1[c] = x[i,j]\n",
    "            c +=1\n",
    "    return tmp1"
   ]
  },
  {
   "cell_type": "code",
   "execution_count": null,
   "metadata": {},
   "outputs": [],
   "source": [
    "#Create Weight matrix for a single image\n",
    "def create_W(x):\n",
    "    if len(x.shape) != 1:\n",
    "        print \"The input is not vector\"\n",
    "        return\n",
    "    else:\n",
    "        w = np.zeros([len(x),len(x)])\n",
    "        for i in range(len(x)):\n",
    "            for j in range(i,len(x)):\n",
    "                if i == j:\n",
    "                    w[i,j] = 0\n",
    "                else:\n",
    "                    w[i,j] = x[i]*x[j]\n",
    "                    w[j,i] = w[i,j]\n",
    "    return w"
   ]
  },
  {
   "cell_type": "code",
   "execution_count": null,
   "metadata": {},
   "outputs": [],
   "source": [
    "#Read Image file and convert it to Numpy array\n",
    "def readImg2array(file,size, threshold= 145):\n",
    "    pilIN = Image.open(file).convert(mode=\"L\")\n",
    "    pilIN= pilIN.resize(size)\n",
    "    #pilIN.thumbnail(size,Image.ANTIALIAS)\n",
    "    imgArray = np.asarray(pilIN,dtype=np.uint8)\n",
    "    x = np.zeros(imgArray.shape,dtype=np.float)\n",
    "    x[imgArray > threshold] = 1\n",
    "    x[x==0] = -1\n",
    "    return x"
   ]
  },
  {
   "cell_type": "code",
   "execution_count": null,
   "metadata": {},
   "outputs": [],
   "source": [
    "#Convert Numpy array to Image file like Jpeg\n",
    "def array2img(data, outFile = None):\n",
    "\n",
    "    #data is 1 or -1 matrix\n",
    "    y = np.zeros(data.shape,dtype=np.uint8)\n",
    "    y[data==1] = 255\n",
    "    y[data==-1] = 0\n",
    "    img = Image.fromarray(y,mode=\"L\")\n",
    "    if outFile is not None:\n",
    "        img.save(outFile)\n",
    "    return img"
   ]
  },
  {
   "cell_type": "code",
   "execution_count": null,
   "metadata": {},
   "outputs": [],
   "source": [
    "#Update\n",
    "def update(w,y_vec,theta=0.5,time=100):\n",
    "    for s in range(time):\n",
    "        m = len(y_vec)\n",
    "        i = random.randint(0,m-1)\n",
    "        u = np.dot(w[i][:],y_vec) - theta\n",
    "\n",
    "        if u > 0:\n",
    "            y_vec[i] = 1\n",
    "        elif u < 0:\n",
    "            y_vec[i] = -1\n",
    "\n",
    "    return y_vec"
   ]
  },
  {
   "cell_type": "code",
   "execution_count": null,
   "metadata": {},
   "outputs": [],
   "source": [
    "#The following is training pipeline\n",
    "#Initial setting\n",
    "def hopfield(train_files, test_files,theta=0.5, time=1000, size=(100,100),threshold=60, current_path=None):\n",
    "\n",
    "    #read image and convert it to Numpy array\n",
    "    print \"Importing images and creating weight matrix....\"\n",
    "\n",
    "    #num_files is the number of files\n",
    "    num_files = 0\n",
    "    for path in train_files:\n",
    "        print path\n",
    "        x = readImg2array(file=path,size=size,threshold=threshold)\n",
    "        x_vec = mat2vec(x)\n",
    "        print len(x_vec)\n",
    "        if num_files == 0:\n",
    "            w = create_W(x_vec)\n",
    "            num_files = 1\n",
    "        else:\n",
    "            tmp_w = create_W(x_vec)\n",
    "            w = w + tmp_w\n",
    "            num_files +=1\n",
    "\n",
    "    print \"Weight matrix is done!!\"\n",
    "    \n",
    "    #Import test data\n",
    "    counter = 0\n",
    "    for path in test_files:\n",
    "        y = readImg2array(file=path,size=size,threshold=threshold)\n",
    "        oshape = y.shape\n",
    "        y_img = array2img(y)\n",
    "        y_img.show()\n",
    "        print \"Imported test data\"\n",
    "\n",
    "        y_vec = mat2vec(y)\n",
    "        print \"Updating...\"\n",
    "        y_vec_after = update(w=w,y_vec=y_vec,theta=theta,time=time)\n",
    "        y_vec_after = y_vec_after.reshape(oshape)\n",
    "        if current_path is not None:\n",
    "            outfile = current_path+\"/after_\"+str(counter)+\".jpeg\"\n",
    "            array2img(y_vec_after,outFile=outfile)\n",
    "        else:\n",
    "            after_img = array2img(y_vec_after,outFile=None)\n",
    "            after_img.show()\n",
    "        counter +=1"
   ]
  },
  {
   "cell_type": "code",
   "execution_count": null,
   "metadata": {},
   "outputs": [],
   "source": [
    "#Main\n",
    "#First, you can create a list of input file path\n",
    "current_path = os.getcwd()\n",
    "train_paths = []\n",
    "path = current_path+\"/train_pics/\"\n",
    "for i in os.listdir(path):\n",
    "    if re.match(r'[0-9a-zA-Z-]*.jp[e]*g',i):\n",
    "        train_paths.append(path+i)\n",
    "\n",
    "#Second, you can create a list of sungallses file path\n",
    "test_paths = []\n",
    "path = current_path+\"/test_pics/\"\n",
    "for i in os.listdir(path):\n",
    "    if re.match(r'[0-9a-zA-Z-_]*.jp[e]*g',i):\n",
    "        test_paths.append(path+i)"
   ]
  },
  {
   "cell_type": "code",
   "execution_count": null,
   "metadata": {},
   "outputs": [],
   "source": [
    "#Hopfield network starts!\n",
    "hopfield(train_files=train_paths, test_files=test_paths, theta=0.5,time=20000,size=(100,100),threshold=60, current_path = current_path)"
   ]
  }
 ],
 "metadata": {
  "kernelspec": {
   "display_name": "Python 3",
   "language": "python",
   "name": "python3"
  },
  "language_info": {
   "codemirror_mode": {
    "name": "ipython",
    "version": 3
   },
   "file_extension": ".py",
   "mimetype": "text/x-python",
   "name": "python",
   "nbconvert_exporter": "python",
   "pygments_lexer": "ipython3",
   "version": "3.6.8"
  }
 },
 "nbformat": 4,
 "nbformat_minor": 2
}
