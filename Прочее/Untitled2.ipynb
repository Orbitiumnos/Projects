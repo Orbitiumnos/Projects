{
 "cells": [
  {
   "cell_type": "markdown",
   "metadata": {},
   "source": []
  },
  {
   "cell_type": "code",
   "execution_count": 26,
   "metadata": {
    "scrolled": false
   },
   "outputs": [
    {
     "name": "stdout",
     "output_type": "stream",
     "text": [
      "Result set\n",
      "<DOM Element: name at 0x1c5fce6ab90>\n"
     ]
    }
   ],
   "source": [
    "import xml.dom.minidom as mdom\n",
    "import codecs\n",
    "\n",
    "xml_path = \"C:\\Jypiter\\specialities.xml\" \n",
    "with codecs.open(xml_path, \"r\", \"utf_8_sig\") as file_obj: \n",
    "    doc = mdom.parse(file_obj) \n",
    "    node = doc.documentElement \n",
    "    print('Result set')\n",
    "    names = node.getElementsByTagName(\"name\") \n",
    "    print(name.value)\n",
    "    #for name in names: \n",
    "    #    print('%s: %s' % (name.attributes['code'].value, year.childNodes[0].nodeValue))\n",
    "    file_obj.close()    "
   ]
  },
  {
   "cell_type": "code",
   "execution_count": null,
   "metadata": {},
   "outputs": [],
   "source": []
  },
  {
   "cell_type": "code",
   "execution_count": null,
   "metadata": {},
   "outputs": [],
   "source": []
  }
 ],
 "metadata": {
  "kernelspec": {
   "display_name": "Python 3",
   "language": "python",
   "name": "python3"
  },
  "language_info": {
   "codemirror_mode": {
    "name": "ipython",
    "version": 3
   },
   "file_extension": ".py",
   "mimetype": "text/x-python",
   "name": "python",
   "nbconvert_exporter": "python",
   "pygments_lexer": "ipython3",
   "version": "3.7.0"
  }
 },
 "nbformat": 4,
 "nbformat_minor": 2
}
