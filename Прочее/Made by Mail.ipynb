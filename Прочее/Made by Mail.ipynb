{
 "cells": [
  {
   "cell_type": "code",
   "execution_count": 1,
   "metadata": {},
   "outputs": [
    {
     "name": "stdout",
     "output_type": "stream",
     "text": [
      "1 2 3 4\n"
     ]
    },
    {
     "ename": "ValueError",
     "evalue": "too many values to unpack (expected 2)",
     "output_type": "error",
     "traceback": [
      "\u001b[1;31m---------------------------------------------------------------------------\u001b[0m",
      "\u001b[1;31mValueError\u001b[0m                                Traceback (most recent call last)",
      "\u001b[1;32m<ipython-input-1-527f324c4461>\u001b[0m in \u001b[0;36m<module>\u001b[1;34m\u001b[0m\n\u001b[1;32m----> 1\u001b[1;33m \u001b[0ma\u001b[0m\u001b[1;33m,\u001b[0m \u001b[0mb\u001b[0m \u001b[1;33m=\u001b[0m \u001b[0mmap\u001b[0m\u001b[1;33m(\u001b[0m\u001b[0mint\u001b[0m\u001b[1;33m,\u001b[0m \u001b[0minput\u001b[0m\u001b[1;33m(\u001b[0m\u001b[1;33m)\u001b[0m\u001b[1;33m.\u001b[0m\u001b[0msplit\u001b[0m\u001b[1;33m(\u001b[0m\u001b[1;34m\" \"\u001b[0m\u001b[1;33m)\u001b[0m\u001b[1;33m)\u001b[0m\u001b[1;33m\u001b[0m\u001b[1;33m\u001b[0m\u001b[0m\n\u001b[0m\u001b[0;32m      2\u001b[0m \u001b[0mprint\u001b[0m\u001b[1;33m(\u001b[0m\u001b[0ma\u001b[0m \u001b[1;33m+\u001b[0m \u001b[0mb\u001b[0m\u001b[1;33m)\u001b[0m\u001b[1;33m\u001b[0m\u001b[1;33m\u001b[0m\u001b[0m\n",
      "\u001b[1;31mValueError\u001b[0m: too many values to unpack (expected 2)"
     ]
    }
   ],
   "source": [
    "a, b = map(int, input().split(\" \"))\n",
    "print(a + b)"
   ]
  },
  {
   "cell_type": "code",
   "execution_count": 2,
   "metadata": {},
   "outputs": [
    {
     "name": "stdout",
     "output_type": "stream",
     "text": [
      "1 2 3 4\n",
      "10\n"
     ]
    }
   ],
   "source": [
    "n = input()\n",
    "l = list(map(int,input().split()))\n",
    "print(sum(l))"
   ]
  },
  {
   "cell_type": "code",
   "execution_count": 33,
   "metadata": {},
   "outputs": [
    {
     "name": "stdout",
     "output_type": "stream",
     "text": [
      "20 20 20\n",
      "0\n"
     ]
    }
   ],
   "source": [
    "#1\n",
    "n = input()\n",
    "l = list(map(int,input().split()))\n",
    "minim = -1\n",
    "\n",
    "def findmin(dur, minim):\n",
    "    if minim == -1:\n",
    "        minim = dur\n",
    "    else:\n",
    "        if minim >= dur:\n",
    "            minim = dur\n",
    "    return minim\n",
    "\n",
    "for i in range(len(l)-1):\n",
    "    for j in range(i+1,len(l)):\n",
    "        dif = abs(l[i] - l[j])\n",
    "        if dif<=5:\n",
    "            dur = abs(j-i-1)\n",
    "            minim = findmin(dur,minim)\n",
    "print(minim)\n",
    "    "
   ]
  },
  {
   "cell_type": "code",
   "execution_count": 13,
   "metadata": {},
   "outputs": [
    {
     "name": "stdout",
     "output_type": "stream",
     "text": [
      "1 2 1 2 3\n",
      "[1, 2, 1, 2, 3] [1, 2, 1, 1, 1]\n",
      "[1, 2, 1, 2, 3] [1, 2, 1, 1, 1]\n",
      "[1, 2, 1, 2, 3] [1, 2, 1, 2, 1]\n",
      "[1, 2, 1, 2, 3] [1, 2, 1, 2, 1]\n"
     ]
    }
   ],
   "source": [
    "#2\n",
    "# 1 2 1 2 3\n",
    "\n",
    "#n = int(input())\n",
    "l = list(map(int,input().split()))\n",
    "l2 = [1] * len(l)\n",
    "c = [1]\n",
    "\n",
    "def choose(c,col):\n",
    "    c.append(c[-1]+1)\n",
    "    for i in range(len(c)):\n",
    "        if c[i] != col:\n",
    "            return(c[i])\n",
    "\n",
    "for i in range(1,len(l)-1):\n",
    "    if l[i] != l[i-1]:\n",
    "        col = l2[i-1]\n",
    "        l2[i] = choose(c,col)\n",
    "\n",
    "        print(l,l2)\n",
    "        \n"
   ]
  },
  {
   "cell_type": "code",
   "execution_count": 10,
   "metadata": {},
   "outputs": [
    {
     "name": "stdout",
     "output_type": "stream",
     "text": [
      "30 37 20 25 7 19 18 0  1 8\n",
      "1 1 1 1 1 1 1 10 1 1\n",
      "1 1 1 1 1 1 1 10 9 1\n",
      "1 1 1 1 8 1 1 10 9 1\n",
      "1 1 1 1 8 1 1 10 9 7\n",
      "1 1 6 1 8 1 1 10 9 7\n",
      "5 1 6 1 8 1 1 10 9 7\n",
      "5 1 6 1 8 1 4 10 9 7\n",
      "5 1 6 1 8 3 4 10 9 7\n",
      "5 1 6 2 8 3 4 10 9 7\n",
      "5 1 6 2 8 3 4 10 9 7\n"
     ]
    }
   ],
   "source": [
    "#3\n",
    "\n",
    "#30 37 20 25 7 19 18 0  1 8\n",
    "#5  1  6  2  8 3  4  10 9 7\n",
    "\n",
    "#n = int(input())\n",
    "l = list(map(int,input().split()))\n",
    "l2 = [1] * len(l)\n",
    "\n",
    "\n",
    "for j in range(len(l)):\n",
    "    \n",
    "    res = l.index(0)\n",
    "    l2[res] = l2[res] * len(l)-j\n",
    "    \n",
    "    for i in range(len(l)):\n",
    "        l[i] = l[i]-abs(res-i)\n",
    "    \n",
    "    \n",
    "    l[res] = l[res] - 1\n",
    "        \n",
    "print(' '.join(map(str,l2)))"
   ]
  },
  {
   "cell_type": "code",
   "execution_count": null,
   "metadata": {},
   "outputs": [],
   "source": []
  }
 ],
 "metadata": {
  "kernelspec": {
   "display_name": "Python 3",
   "language": "python",
   "name": "python3"
  },
  "language_info": {
   "codemirror_mode": {
    "name": "ipython",
    "version": 3
   },
   "file_extension": ".py",
   "mimetype": "text/x-python",
   "name": "python",
   "nbconvert_exporter": "python",
   "pygments_lexer": "ipython3",
   "version": "3.6.8"
  }
 },
 "nbformat": 4,
 "nbformat_minor": 2
}
