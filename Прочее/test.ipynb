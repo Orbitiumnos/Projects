{
 "cells": [
  {
   "cell_type": "code",
   "execution_count": 1,
   "metadata": {},
   "outputs": [
    {
     "output_type": "stream",
     "name": "stdout",
     "text": "hello world\n"
    }
   ],
   "source": [
    "print('hello world')"
   ]
  },
  {
   "cell_type": "code",
   "execution_count": 26,
   "metadata": {
    "scrolled": false
   },
   "outputs": [],
   "source": [
    "import pandas as pd\n",
    "import matplotlib.pyplot as plt\n",
    "import numpy as np\n",
    "\n",
    "from sklearn.preprocessing import scale\n",
    "from sklearn.cluster import AgglomerativeClustering, KMeans\n",
    "from scipy.cluster import hierarchy\n",
    "\n",
    "%matplotlib inline \n",
    "# авто вывод графиков (отпадает необходимость писать plt.show())"
   ]
  },
  {
   "cell_type": "code",
   "execution_count": 13,
   "metadata": {
    "scrolled": true
   },
   "outputs": [
    {
     "name": "stdout",
     "output_type": "stream",
     "text": [
      "  key       time  x1    x2  x3     x4\n",
      "1   a 2013-01-02  23  1002   1  23343\n",
      "2   b 2013-01-02  67  3456   1  34676\n",
      "3   c 2013-01-02  56  2356   0  34322\n",
      "4   d 2013-01-02  58  6432   1  23456\n",
      "5   e 2013-01-02  44  2345   1  21323\n",
      "6   f 2013-01-02  22  2324   0  45468\n",
      "  key       time  x5    x6  x7     x8\n",
      "1   a 2013-01-02  45  1234   0  23334\n",
      "2   g 2013-01-02  56  2344   1  34334\n",
      "3   c 2013-01-02  67  2345   1  34345\n",
      "4   d 2013-01-02  78  3353   1  23163\n",
      "5   e 2013-01-02  89  3532   1  21879\n",
      "6   f 2013-01-02  23  2314   0  45333\n",
      "  key       time  x1    x2  x3     x4 key       time  x5    x6  x7     x8\n",
      "1   a 2013-01-02  23  1002   1  23343   a 2013-01-02  45  1234   0  23334\n",
      "2   b 2013-01-02  67  3456   1  34676   g 2013-01-02  56  2344   1  34334\n",
      "3   c 2013-01-02  56  2356   0  34322   c 2013-01-02  67  2345   1  34345\n",
      "4   d 2013-01-02  58  6432   1  23456   d 2013-01-02  78  3353   1  23163\n",
      "5   e 2013-01-02  44  2345   1  21323   e 2013-01-02  89  3532   1  21879\n",
      "6   f 2013-01-02  22  2324   0  45468   f 2013-01-02  23  2314   0  45333\n",
      "  key       time    x1      x2   x3       x4    x5      x6   x7       x8\n",
      "1   a 2013-01-02   NaN     NaN  NaN      NaN  45.0  1234.0  0.0  23334.0\n",
      "2   g 2013-01-02   NaN     NaN  NaN      NaN  56.0  2344.0  1.0  34334.0\n",
      "3   c 2013-01-02   NaN     NaN  NaN      NaN  67.0  2345.0  1.0  34345.0\n",
      "4   d 2013-01-02   NaN     NaN  NaN      NaN  78.0  3353.0  1.0  23163.0\n",
      "5   e 2013-01-02   NaN     NaN  NaN      NaN  89.0  3532.0  1.0  21879.0\n",
      "6   f 2013-01-02   NaN     NaN  NaN      NaN  23.0  2314.0  0.0  45333.0\n",
      "1   a 2013-01-02  23.0  1002.0  1.0  23343.0   NaN     NaN  NaN      NaN\n",
      "2   b 2013-01-02  67.0  3456.0  1.0  34676.0   NaN     NaN  NaN      NaN\n",
      "3   c 2013-01-02  56.0  2356.0  0.0  34322.0   NaN     NaN  NaN      NaN\n",
      "4   d 2013-01-02  58.0  6432.0  1.0  23456.0   NaN     NaN  NaN      NaN\n",
      "5   e 2013-01-02  44.0  2345.0  1.0  21323.0   NaN     NaN  NaN      NaN\n",
      "6   f 2013-01-02  22.0  2324.0  0.0  45468.0   NaN     NaN  NaN      NaN\n",
      "  key       time  x1    x2  x3     x4    x5      x6   x7       x8\n",
      "0   a 2013-01-02  23  1002   1  23343  45.0  1234.0  0.0  23334.0\n",
      "1   b 2013-01-02  67  3456   1  34676   NaN     NaN  NaN      NaN\n",
      "2   c 2013-01-02  56  2356   0  34322  67.0  2345.0  1.0  34345.0\n",
      "3   d 2013-01-02  58  6432   1  23456  78.0  3353.0  1.0  23163.0\n",
      "4   e 2013-01-02  44  2345   1  21323  89.0  3532.0  1.0  21879.0\n",
      "5   f 2013-01-02  22  2324   0  45468  23.0  2314.0  0.0  45333.0\n"
     ]
    },
    {
     "name": "stderr",
     "output_type": "stream",
     "text": [
      "C:\\Programs\\Anaconda\\Anaconda\\lib\\site-packages\\pandas\\core\\frame.py:6211: FutureWarning: Sorting because non-concatenation axis is not aligned. A future version\n",
      "of pandas will change to not sort by default.\n",
      "\n",
      "To accept the future behavior, pass 'sort=False'.\n",
      "\n",
      "To retain the current behavior and silence the warning, pass 'sort=True'.\n",
      "\n",
      "  sort=sort)\n"
     ]
    }
   ],
   "source": [
    "time = pd.Timestamp('20130102')\n",
    "d_1 = {\n",
    "    'key': pd.Series(['a','b','c','d','e','f'], index = [1,2,3,4,5,6]),\n",
    "    'time': pd.Series([time, time, time, time, time, time], index = [1,2,3,4,5,6]),\n",
    "    'x1': pd.Series([23, 67, 56, 58, 44, 22], index = [1,2,3,4,5,6]),\n",
    "    'x2': pd.Series([1002, 3456, 2356, 6432, 2345, 2324], index = [1,2,3,4,5,6]),\n",
    "    'x3': pd.Series([1, 1, 0, 1, 1, 0], index = [1,2,3,4,5,6]),\n",
    "    'x4': pd.Series([23343, 34676, 34322, 23456, 21323, 45468], index = [1,2,3,4,5,6])   \n",
    "}\n",
    "df_1 = pd.DataFrame(d_1)\n",
    "print(df_1)\n",
    "\n",
    "d_2 = {\n",
    "    'key': pd.Series(['a','g','c','d','e','f'], index = [1,2,3,4,5,6]),\n",
    "    'time': pd.Series([time, time, time, time, time, time], index = [1,2,3,4,5,6]),\n",
    "    'x5': pd.Series([45, 56, 67, 78, 89, 23], index = [1,2,3,4,5,6]),\n",
    "    'x6': pd.Series([1234, 2344, 2345, 3353, 3532, 2314], index = [1,2,3,4,5,6]),\n",
    "    'x7': pd.Series([0, 1, 1, 1, 1, 0], index = [1,2,3,4,5,6]),\n",
    "    'x8': pd.Series([23334, 34334, 34345, 23163, 21879, 45333], index = [1,2,3,4,5,6])   \n",
    "}\n",
    "df_2 = pd.DataFrame(d_2)\n",
    "print(df_2)\n",
    "\n",
    "data = pd.concat([df_1,df_2], axis=1)\n",
    "print(data)\n",
    "data_1 = df_2.append(df_1)\n",
    "print(data_1)\n",
    "data_2 = pd.merge(df_1, df_2, how='left', on=['key','time'])\n",
    "print(data_2)"
   ]
  },
  {
   "cell_type": "code",
   "execution_count": 3,
   "metadata": {},
   "outputs": [
    {
     "name": "stderr",
     "output_type": "stream",
     "text": [
      "C:\\Programs\\Anaconda\\Anaconda\\lib\\site-packages\\matplotlib\\figure.py:457: UserWarning: matplotlib is currently using a non-GUI backend, so cannot show the figure\n",
      "  \"matplotlib is currently using a non-GUI backend, \"\n"
     ]
    },
    {
     "data": {
      "text/plain": [
       "<Figure size 432x288 with 0 Axes>"
      ]
     },
     "metadata": {},
     "output_type": "display_data"
    },
    {
     "data": {
      "image/png": "[encoded data removed]",
      "text/plain": [
       "<Figure size 432x288 with 4 Axes>"
      ]
     },
     "metadata": {
      "needs_background": "light"
     },
     "output_type": "display_data"
    }
   ],
   "source": [
    "fig = plt.figure()  # an empty figure with no axes\n",
    "fig.suptitle('No axes on this figure')  # Add a title so we know which it is\n",
    "\n",
    "fig, ax_lst = plt.subplots(2, 2)  # a figure with a 2x2 grid of Axes\n",
    "fig.show()"
   ]
  },
  {
   "cell_type": "code",
   "execution_count": 22,
   "metadata": {
    "scrolled": true
   },
   "outputs": [
    {
     "name": "stdout",
     "output_type": "stream",
     "text": [
      "    PassengerID                                               Name PClass  \\\n",
      "0             1                       Allen, Miss Elisabeth Walton    1st   \n",
      "1             2                        Allison, Miss Helen Loraine    1st   \n",
      "2             3                Allison, Mr Hudson Joshua Creighton    1st   \n",
      "3             4      Allison, Mrs Hudson JC (Bessie Waldo Daniels)    1st   \n",
      "4             5                      Allison, Master Hudson Trevor    1st   \n",
      "5             6                                 Anderson, Mr Harry    1st   \n",
      "6             7                   Andrews, Miss Kornelia Theodosia    1st   \n",
      "7             8                             Andrews, Mr Thomas, jr    1st   \n",
      "8             9       Appleton, Mrs Edward Dale (Charlotte Lamson)    1st   \n",
      "9            10                             Artagaveytia, Mr Ramon    1st   \n",
      "10           11                          Astor, Colonel John Jacob    1st   \n",
      "11           12   Astor, Mrs John Jacob (Madeleine Talmadge Force)    1st   \n",
      "12           13                       Aubert, Mrs Leontine Pauline    1st   \n",
      "13           14                           Barkworth, Mr Algernon H    1st   \n",
      "14           15                                 Baumann, Mr John D    1st   \n",
      "15           16     Baxter, Mrs James (Helene DeLaudeniere Chaput)    1st   \n",
      "16           17                            Baxter, Mr Quigg Edmond    1st   \n",
      "17           18                                Beattie, Mr Thomson    1st   \n",
      "18           19                       Beckwith, Mr Richard Leonard    1st   \n",
      "19           20    Beckwith, Mrs Richard Leonard (Sallie Monypeny)    1st   \n",
      "20           21                               Behr, Mr Karl Howell    1st   \n",
      "21           22                                 Birnbaum, Mr Jakob    1st   \n",
      "22           23                             Bishop, Mr Dickinson H    1st   \n",
      "23           24             Bishop, Mrs Dickinson H (Helen Walton)    1st   \n",
      "24           25            Bjornstrm-Steffansson, Mr Mauritz Hakan    1st   \n",
      "25           26                        Blackwell, Mr Stephen Weart    1st   \n",
      "26           27                                    Blank, Mr Henry    1st   \n",
      "27           28                             Bonnell, Miss Caroline    1st   \n",
      "28           29                            Bonnell, Miss Elizabeth    1st   \n",
      "29           30                            Borebank, Mr John James    1st   \n",
      "..          ...                                                ...    ...   \n",
      "70           71  Cornell, Mrs Robert Clifford (Malvina Helen La...    1st   \n",
      "71           72                           Crafton, Mr John Bertram    1st   \n",
      "72           73                     Crosby, Captain Edward Gifford    1st   \n",
      "73           74  Crosby, Mrs Edward Gifford (Catherine Elizabet...    1st   \n",
      "74           75                             Crosby, Miss Harriet R    1st   \n",
      "75           76                           Cumings, Mr John Bradley    1st   \n",
      "76           77  Cumings, Mrs John Bradley (Florence Briggs Tha...    1st   \n",
      "77           78                              Daly, Mr Peter Denis     1st   \n",
      "78           79                         Daniel, Mr Robert Williams    1st   \n",
      "79           80                              Davidson, Mr Thornton    1st   \n",
      "80           81                Davidson, Mrs Thornton (Orian Hays)    1st   \n",
      "81           82                         de Villiers, Madame Berthe    1st   \n",
      "82           83                             Dick, Mr Albert Adrian    1st   \n",
      "83           84             Dick, Mrs Albert Adrian Vera Gillespie    1st   \n",
      "84           85                               Dodge, Dr Washington    1st   \n",
      "85           86               Dodge, Mrs Washington (Ruth Vidaver)    1st   \n",
      "86           87                           Dodge, Master Washington    1st   \n",
      "87           88    Douglas, Mrs Frederick Charles (Suzette Baxter)    1st   \n",
      "88           89                          Douglas, Mr Walter Donald    1st   \n",
      "89           90         Douglas, Mrs Walter Donald (Mahala Dutton)    1st   \n",
      "90           91                      Duff Gordon, Sir Cosmo Edmund    1st   \n",
      "91           92     Duff Gordon, Lady (Lucille Wallace Sutherland)    1st   \n",
      "92           93                        Dulles, Mr William Crothers    1st   \n",
      "93           94               Earnshaw, Mrs Boulton (Olive Potter)    1st   \n",
      "94           95                      Eustis, Miss Elizabeth Mussey    1st   \n",
      "95           96                            Evans, Miss Edith Corse    1st   \n",
      "96           97                Flegenheim, Mrs Alfred (Antoinette)    1st   \n",
      "97           98                              Flynn, Mr John Irving    1st   \n",
      "98           99                     Foreman, Mr Benjamin Laventall    1st   \n",
      "99          100                      Fortune, Miss Alice Elizabeth    1st   \n",
      "\n",
      "      Age     Sex  Survived  SexCode  \n",
      "0   29.00  female         1        1  \n",
      "1    2.00  female         0        1  \n",
      "2   30.00    male         0        0  \n",
      "3   25.00  female         0        1  \n",
      "4    0.92    male         1        0  \n",
      "5   47.00    male         1        0  \n",
      "6   63.00  female         1        1  \n",
      "7   39.00    male         0        0  \n",
      "8   58.00  female         1        1  \n",
      "9   71.00    male         0        0  \n",
      "10  47.00    male         0        0  \n",
      "11  19.00  female         1        1  \n",
      "12    NaN  female         1        1  \n",
      "13    NaN    male         1        0  \n",
      "14    NaN    male         0        0  \n",
      "15  50.00  female         1        1  \n",
      "16  24.00    male         0        0  \n",
      "17  36.00    male         0        0  \n",
      "18  37.00    male         1        0  \n",
      "19  47.00  female         1        1  \n",
      "20  26.00    male         1        0  \n",
      "21  25.00    male         0        0  \n",
      "22  25.00    male         1        0  \n",
      "23  19.00  female         1        1  \n",
      "24  28.00    male         1        0  \n",
      "25  45.00    male         0        0  \n",
      "26  39.00    male         1        0  \n",
      "27  30.00  female         1        1  \n",
      "28  58.00  female         1        1  \n",
      "29    NaN    male         0        0  \n",
      "..    ...     ...       ...      ...  \n",
      "70  55.00  female         1        1  \n",
      "71    NaN    male         0        0  \n",
      "72  70.00    male         0        0  \n",
      "73  69.00  female         1        1  \n",
      "74  36.00  female         1        1  \n",
      "75  39.00    male         0        0  \n",
      "76  38.00  female         1        1  \n",
      "77    NaN    male         1        0  \n",
      "78  27.00    male         1        0  \n",
      "79  31.00    male         0        0  \n",
      "80  27.00  female         1        1  \n",
      "81    NaN  female         1        1  \n",
      "82  31.00    male         1        0  \n",
      "83  17.00  female         1        1  \n",
      "84    NaN    male         1        0  \n",
      "85    NaN  female         1        1  \n",
      "86   4.00    male         1        0  \n",
      "87  27.00  female         1        1  \n",
      "88  50.00    male         0        0  \n",
      "89  48.00  female         1        1  \n",
      "90  49.00    male         1        0  \n",
      "91  48.00  female         1        1  \n",
      "92  39.00    male         0        0  \n",
      "93  23.00  female         1        1  \n",
      "94  53.00  female         1        1  \n",
      "95  36.00  female         0        1  \n",
      "96    NaN  female         1        1  \n",
      "97    NaN    male         1        0  \n",
      "98  30.00    male         0        0  \n",
      "99  24.00  female         1        1  \n",
      "\n",
      "[100 rows x 7 columns]\n"
     ]
    }
   ],
   "source": [
    "titanic_df = pd.read_csv(r'C:\\Games\\Ekonometrika\\titanic_is_the_best.csv')\n",
    "print(titanic_df.head(100))"
   ]
  },
  {
   "cell_type": "code",
   "execution_count": 50,
   "metadata": {
    "scrolled": false
   },
   "outputs": [
    {
     "name": "stdout",
     "output_type": "stream",
     "text": [
      "       PassengerID\n",
      "Age               \n",
      "0.17             1\n",
      "0.33             1\n",
      "0.80             1\n",
      "0.83             2\n",
      "0.92             1\n",
      "1.00             5\n",
      "1.50             2\n",
      "2.00             7\n",
      "3.00             6\n",
      "4.00             7\n",
      "5.00             3\n",
      "6.00             5\n",
      "7.00             1\n",
      "8.00             4\n",
      "9.00             7\n",
      "10.00            2\n",
      "11.00            3\n",
      "12.00            2\n",
      "13.00            4\n",
      "14.00            4\n",
      "15.00            5\n",
      "16.00           10\n",
      "17.00           13\n",
      "18.00           30\n",
      "19.00           23\n",
      "20.00           23\n",
      "21.00           31\n",
      "22.00           35\n",
      "23.00           23\n",
      "24.00           27\n",
      "...            ...\n",
      "40.00           13\n",
      "41.00            8\n",
      "42.00           11\n",
      "43.00            7\n",
      "44.00            8\n",
      "45.00           20\n",
      "46.00            8\n",
      "47.00            9\n",
      "48.00           12\n",
      "49.00           10\n",
      "50.00           11\n",
      "51.00            4\n",
      "52.00            6\n",
      "53.00            3\n",
      "54.00            7\n",
      "55.00            6\n",
      "56.00            4\n",
      "57.00            4\n",
      "58.00            6\n",
      "59.00            3\n",
      "60.00            5\n",
      "61.00            3\n",
      "62.00            2\n",
      "63.00            3\n",
      "64.00            6\n",
      "65.00            2\n",
      "67.00            1\n",
      "69.00            1\n",
      "70.00            1\n",
      "71.00            3\n",
      "\n",
      "[75 rows x 1 columns]\n"
     ]
    }
   ],
   "source": [
    "group = pd.DataFrame((titanic_df.groupby(['Age'])['PassengerID'].count()))\n",
    "#group = titanic_df.groupby(['PClass', 'Survived'])['PassengerID'].count()\n",
    "print(group)\n",
    "\n",
    "#group.plot()\n",
    "#plt.show()\n",
    "#print(graph)"
   ]
  },
  {
   "cell_type": "code",
   "execution_count": 61,
   "metadata": {},
   "outputs": [
    {
     "ename": "SyntaxError",
     "evalue": "positional argument follows keyword argument (<ipython-input-61-29531a553f78>, line 3)",
     "output_type": "error",
     "traceback": [
      "\u001b[1;36m  File \u001b[1;32m\"<ipython-input-61-29531a553f78>\"\u001b[1;36m, line \u001b[1;32m3\u001b[0m\n\u001b[1;33m    hist, bins = np.histogram(bins=50, df_1['x4'])\u001b[0m\n\u001b[1;37m                                      ^\u001b[0m\n\u001b[1;31mSyntaxError\u001b[0m\u001b[1;31m:\u001b[0m positional argument follows keyword argument\n"
     ]
    }
   ],
   "source": [
    "#x = pd.Series([3,7,23,54])\n",
    "print(df_1['x4'])\n",
    "hist, bins = np.histogram(df_1['x4'], bins = 50)\n",
    "width = 0.7 * (bins[1] - bins[0])\n",
    "center = (bins[:-1] + bins[1:]) / 2\n",
    "plt.bar(center, hist, align='center', width=width)\n",
    "plt.show()"
   ]
  },
  {
   "cell_type": "code",
   "execution_count": null,
   "metadata": {},
   "outputs": [],
   "source": []
  },
  {
   "cell_type": "code",
   "execution_count": null,
   "metadata": {},
   "outputs": [],
   "source": []
  }
 ],
 "metadata": {
  "kernelspec": {
   "display_name": "Python 3",
   "language": "python",
   "name": "python3"
  },
  "language_info": {
   "codemirror_mode": {
    "name": "ipython",
    "version": 3
   },
   "file_extension": ".py",
   "mimetype": "text/x-python",
   "name": "python",
   "nbconvert_exporter": "python",
   "pygments_lexer": "ipython3",
   "version": "3.8.0-final"
  }
 },
 "nbformat": 4,
 "nbformat_minor": 2
}