{
 "cells": [
  {
   "cell_type": "code",
   "execution_count": 28,
   "metadata": {
    "scrolled": true
   },
   "outputs": [
    {
     "name": "stdout",
     "output_type": "stream",
     "text": [
      "3\n",
      "40850\n",
      "93025\n",
      "289\n",
      "5476\n",
      "1\n",
      "65732\n",
      "16\n",
      "9\n",
      "32\n",
      "55696\n",
      "9604\n",
      "4386\n",
      "3419\n",
      "729\n",
      "10609\n",
      "0\n",
      " 10609 729 9604 55696 9 16 1 5476 289 93025\n"
     ]
    }
   ],
   "source": [
    "def square(s):\n",
    "    \n",
    "    n = int(input())\n",
    "    \n",
    "    if n == 0:\n",
    "        return s\n",
    "    \n",
    "    s = square(s)\n",
    "    \n",
    "    if (n**(0.5))%1==0:\n",
    "        s = s + ' ' + str(n)\n",
    "    \n",
    "    return s\n",
    "\n",
    "s = ''\n",
    "print(square(s))"
   ]
  }
 ],
 "metadata": {
  "kernelspec": {
   "display_name": "Python 3",
   "language": "python",
   "name": "python3"
  },
  "language_info": {
   "codemirror_mode": {
    "name": "ipython",
    "version": 3
   },
   "file_extension": ".py",
   "mimetype": "text/x-python",
   "name": "python",
   "nbconvert_exporter": "python",
   "pygments_lexer": "ipython3",
   "version": "3.7.0"
  }
 },
 "nbformat": 4,
 "nbformat_minor": 2
}
