{
 "cells": [
  {
   "cell_type": "code",
   "execution_count": 67,
   "metadata": {},
   "outputs": [
    {
     "name": "stdout",
     "output_type": "stream",
     "text": [
      "2018-09-02\n",
      "2018-09-03\n",
      "2018-09-04\n"
     ]
    }
   ],
   "source": [
    "import json\n",
    "import datetime\n",
    "\n",
    "with open(r'C:\\Users\\Николай\\Desktop\\data.json') as f:\n",
    "    data = json.load(f)\n",
    "\n",
    "for i in range(len(data)):\n",
    "    if i == 0:\n",
    "        mini = data[i]['count']\n",
    "    else:\n",
    "        if mini > data[i]['count']:\n",
    "            mini = data[i]['count']\n",
    "\n",
    "res=[]\n",
    "for i in range(len(data)):\n",
    "    if data[i]['count'] == mini:\n",
    "        res.append(datetime.datetime.strptime(data[i]['date'], '%Y-%m-%d').date())\n",
    "res.sort()\n",
    "for i in range(len(res)):\n",
    "    print(res[i])"
   ]
  },
  {
   "cell_type": "code",
   "execution_count": 72,
   "metadata": {},
   "outputs": [
    {
     "name": "stdout",
     "output_type": "stream",
     "text": [
      "2018-09-03\n"
     ]
    }
   ],
   "source": [
    "import json\n",
    "import datetime\n",
    "\n",
    "with open(r'C:\\Users\\Николай\\Desktop\\data.json') as f:\n",
    "    data = json.load(f)\n",
    "\n",
    "for i in range(len(data)):\n",
    "    if i == 0:\n",
    "        mini = data[i]['count']\n",
    "    else:\n",
    "        if mini > data[i]['count']:\n",
    "            mini = data[i]['count']\n",
    "\n",
    "res=[]\n",
    "for i in range(len(data)):\n",
    "    if data[i]['count'] == mini:\n",
    "        res.append(data[i]['date'])\n",
    "res.sort()\n",
    "for i in range(len(res)):\n",
    "    print(res[i])"
   ]
  },
  {
   "cell_type": "code",
   "execution_count": 46,
   "metadata": {},
   "outputs": [
    {
     "name": "stdout",
     "output_type": "stream",
     "text": [
      "<_io.TextIOWrapper name='C:\\\\Users\\\\Николай\\\\Desktop\\\\data.json' mode='r' encoding='cp1251'>\n"
     ]
    }
   ],
   "source": [
    "f=open(r'C:\\Users\\Николай\\Desktop\\data.json', \"r\")\n",
    "print(f)"
   ]
  }
 ],
 "metadata": {
  "kernelspec": {
   "display_name": "Python 3",
   "language": "python",
   "name": "python3"
  },
  "language_info": {
   "codemirror_mode": {
    "name": "ipython",
    "version": 3
   },
   "file_extension": ".py",
   "mimetype": "text/x-python",
   "name": "python",
   "nbconvert_exporter": "python",
   "pygments_lexer": "ipython3",
   "version": "3.6.8"
  }
 },
 "nbformat": 4,
 "nbformat_minor": 2
}
