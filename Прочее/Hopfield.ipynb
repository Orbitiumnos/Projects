{
 "cells": [
  {
   "cell_type": "code",
   "execution_count": 1,
   "metadata": {},
   "outputs": [],
   "source": [
    "import numpy as np"
   ]
  },
  {
   "cell_type": "code",
   "execution_count": 13,
   "metadata": {},
   "outputs": [
    {
     "name": "stdout",
     "output_type": "stream",
     "text": [
      "2\n",
      " 1 1 1 1 1 -1 -1 1 1 -1 -1 1 1 1 1 1\n",
      "1 -1 -1 1 1 1 -1 1 1 -1 1 1 1 -1 -1 1\n"
     ]
    },
    {
     "data": {
      "text/plain": [
       "[[1, 1, 1, 1, 1, -1, -1, 1, 1, -1, -1, 1, 1, 1, 1, 1],\n",
       " [1, -1, -1, 1, 1, 1, -1, 1, 1, -1, 1, 1, 1, -1, -1, 1]]"
      ]
     },
     "execution_count": 13,
     "metadata": {},
     "output_type": "execute_result"
    }
   ],
   "source": [
    "n = int(input())\n",
    "data = []\n",
    "for i in range(n):\n",
    "    inp = list(map(int, input().split()))\n",
    "    data.append(inp)\n",
    "data"
   ]
  },
  {
   "cell_type": "code",
   "execution_count": null,
   "metadata": {},
   "outputs": [],
   "source": [
    "'''\n",
    "len1 = int(input())\n",
    "x_new = np.zeros([len1, len1])\n",
    "print(x_new)\n",
    "print()\n",
    "\n",
    "c = 0\n",
    "for i in range(x_new.shape[0]):\n",
    "    for j in range(x_new.shape[1]):\n",
    "        x_new[i][j] = data[c]\n",
    "        c = c + 1\n",
    "print(x_new)\n",
    "print()\n",
    "\n",
    "m = x_new.shape[0] * x_new.shape[1]\n",
    "x_vec = np.zeros(m)\n",
    "\n",
    "c = 0\n",
    "for i in range(x_new.shape[0]):\n",
    "    for j in range(x_new.shape[1]):\n",
    "        x_vec[c] = x_new[i][j]\n",
    "        c = c + 1\n",
    "print(x_vec)\n",
    "print()\n",
    "'''"
   ]
  },
  {
   "cell_type": "code",
   "execution_count": 14,
   "metadata": {},
   "outputs": [],
   "source": [
    "def weight_m (data):\n",
    "    w1 = np.zeros([len(data), len(data)])\n",
    "    for i in range(len(data)):\n",
    "        for j in range(i, len(data)):\n",
    "            if i == j:\n",
    "                w1[i, j] = 0\n",
    "            else:\n",
    "                w1[i, j] = data[i] * data[j]\n",
    "                w1[j, i] = w1[i, j]\n",
    "    #print(w1)\n",
    "    return w1\n",
    "\n",
    "def validation(res, data):\n",
    "    for i in range(len(res)):\n",
    "        if res[i] != data[i]:\n",
    "            return False\n",
    "        return True\n",
    "    \n",
    "def validate(test, data):\n",
    "    w = weight_m(data)\n",
    "    res = []\n",
    "    for i in range(len(w)):\n",
    "        net = 0\n",
    "        for j in range(len(w[1])):\n",
    "            net = net + test[j] * w[i,j]\n",
    "        if net > 0:\n",
    "            net = 1\n",
    "        else:\n",
    "            net = -1\n",
    "        res.append(net)\n",
    "        \n",
    "    if validation(res, data) == True:\n",
    "        print('yes',res, data)\n",
    "    else:\n",
    "        print('no',res, data)"
   ]
  },
  {
   "cell_type": "code",
   "execution_count": 15,
   "metadata": {
    "scrolled": false
   },
   "outputs": [
    {
     "name": "stdout",
     "output_type": "stream",
     "text": [
      "1 1 1 1 1 -1 -1 1 1 -1 -1 1 1 -1 -1 1\n",
      "yes [1, 1, 1, 1, 1, -1, -1, 1, 1, -1, -1, 1, 1, 1, 1, 1] [1, 1, 1, 1, 1, -1, -1, 1, 1, -1, -1, 1, 1, 1, 1, 1]\n",
      "yes [1, -1, -1, 1, 1, 1, -1, 1, 1, -1, 1, 1, 1, -1, -1, 1] [1, -1, -1, 1, 1, 1, -1, 1, 1, -1, 1, 1, 1, -1, -1, 1]\n"
     ]
    }
   ],
   "source": [
    "test = list(map(int,input().split()))\n",
    "for k in range(len(data)):\n",
    "    validate(test, data[k])"
   ]
  },
  {
   "cell_type": "code",
   "execution_count": null,
   "metadata": {},
   "outputs": [],
   "source": []
  }
 ],
 "metadata": {
  "kernelspec": {
   "display_name": "Python 3",
   "language": "python",
   "name": "python3"
  },
  "language_info": {
   "codemirror_mode": {
    "name": "ipython",
    "version": 3
   },
   "file_extension": ".py",
   "mimetype": "text/x-python",
   "name": "python",
   "nbconvert_exporter": "python",
   "pygments_lexer": "ipython3",
   "version": "3.6.8"
  }
 },
 "nbformat": 4,
 "nbformat_minor": 2
}
