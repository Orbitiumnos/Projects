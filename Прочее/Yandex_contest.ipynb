{
 "cells": [
  {
   "cell_type": "code",
   "execution_count": 7,
   "metadata": {
    "scrolled": true
   },
   "outputs": [
    {
     "name": "stdout",
     "output_type": "stream",
     "text": [
      "5\n",
      "Enter a three value: 3 7 1\n",
      "Enter a three value: 7 8 2\n",
      "Enter a three value: 3 4 1\n",
      "Enter a three value: 1 2 2\n",
      "Enter a three value: 4 7 3\n",
      "{'eff_tm': '3', 'end_tm': '7', 'vote': '1', 'res': 4, 'opt_vote': 7}\n",
      "{'eff_tm': '7', 'end_tm': '8', 'vote': '2', 'res': 3, 'opt_vote': 6}\n",
      "{'eff_tm': '3', 'end_tm': '4', 'vote': '1', 'res': 3, 'opt_vote': 5}\n",
      "{'eff_tm': '1', 'end_tm': '2', 'vote': '2', 'res': 1, 'opt_vote': 2}\n",
      "{'eff_tm': '4', 'end_tm': '7', 'vote': '3', 'res': 4, 'opt_vote': 7}\n",
      "7\n"
     ]
    },
    {
     "data": {
      "text/plain": [
       "'\\n5\\n3 7 1\\n7 8 2\\n3 4 1\\n1 2 2\\n4 7 3\\n'"
      ]
     },
     "execution_count": 7,
     "metadata": {},
     "output_type": "execute_result"
    }
   ],
   "source": [
    "n = int(input())\n",
    "i = 0\n",
    "l = []\n",
    "while i != n:\n",
    "    eff_tm,end_tm,vote = input(\"Enter a three value: \").split()\n",
    "    d = dict(eff_tm = eff_tm, end_tm = end_tm, vote = vote)\n",
    "    l.append(d)\n",
    "    i = i + 1\n",
    "#print(l)\n",
    "\n",
    "def calc(eff_time, end_time, ch_eff_tm, ch_end_tm, res, vote, opt_vote):\n",
    "    #print (end_time,ch_eff_tm,ch_end_tm,eff_time)\n",
    "    if end_time >= ch_eff_tm:\n",
    "        if ch_end_tm >= eff_time:\n",
    "            res = res + 1\n",
    "            opt_vote = opt_vote + int(vote)\n",
    "    return res, opt_vote\n",
    "\n",
    "i_1 = 0\n",
    "while i_1 < n:\n",
    "    ch_eff_tm = l[i_1].get('eff_tm')\n",
    "    ch_end_tm = l[i_1].get('end_tm')\n",
    "    i_2 = 0\n",
    "    res = 0\n",
    "    opt_vote = 0\n",
    "    while i_2 < n:\n",
    "        res, opt_vote = calc(l[i_2].get('eff_tm'), l[i_2].get('end_tm'), ch_eff_tm, ch_end_tm, res, l[i_2].get('vote'), opt_vote)\n",
    "        i_2 = i_2 + 1\n",
    "        \n",
    "    l[i_1]['res'] = res\n",
    "    l[i_1]['opt_vote'] = opt_vote\n",
    "    i_1 = i_1 + 1\n",
    "\n",
    "i_5 = 0\n",
    "max = 0\n",
    "while i_5 < n:\n",
    "    print (l[i_5])\n",
    "    i_5 = i_5 + 1    \n",
    "    \n",
    "i_3 = 0\n",
    "max = 0\n",
    "while i_3 < n:\n",
    "    if l[i_3].get('res') > max:\n",
    "        max = l[i_3].get('res')\n",
    "    i_3 = i_3 + 1  \n",
    "    \n",
    "i_4 = 0\n",
    "max_2 = 0\n",
    "while i_4 < n:\n",
    "    if l[i_4].get('res') == max:\n",
    "        if l[i_4].get('opt_vote') > max_2:\n",
    "            max_2 = l[i_4].get('opt_vote')    \n",
    "    i_4 = i_4 + 1\n",
    "print(max_2)\n",
    "\n",
    "    \n",
    "    \n",
    "'''\n",
    "5\n",
    "3 7 1\n",
    "7 8 2\n",
    "3 4 1\n",
    "1 2 2\n",
    "4 7 3\n",
    "'''"
   ]
  },
  {
   "cell_type": "code",
   "execution_count": null,
   "metadata": {},
   "outputs": [],
   "source": []
  }
 ],
 "metadata": {
  "kernelspec": {
   "display_name": "Python 3",
   "language": "python",
   "name": "python3"
  },
  "language_info": {
   "codemirror_mode": {
    "name": "ipython",
    "version": 3
   },
   "file_extension": ".py",
   "mimetype": "text/x-python",
   "name": "python",
   "nbconvert_exporter": "python",
   "pygments_lexer": "ipython3",
   "version": "3.7.0"
  }
 },
 "nbformat": 4,
 "nbformat_minor": 2
}
