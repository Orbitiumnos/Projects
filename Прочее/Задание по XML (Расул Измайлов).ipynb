{
 "cells": [
  {
   "cell_type": "code",
   "execution_count": 37,
   "metadata": {},
   "outputs": [
    {
     "name": "stdout",
     "output_type": "stream",
     "text": [
      "Курс гонконгского доллара к рублю на 23.07.2020: 91,3265\n"
     ]
    }
   ],
   "source": [
    "import urllib.request\n",
    "import lxml.etree as etree\n",
    "\n",
    "\n",
    "def get_xml(url):  \n",
    "    with urllib.request.urlopen(url) as url:\n",
    "        s = url.read()\n",
    "    return s\n",
    "\n",
    "xml = get_xml('http://www.cbr.ru/scripts/XML_daily.asp')\n",
    "xml_data = etree.fromstring(xml)\n",
    "\n",
    "today = xml_data.xpath(\"/ValCurs\")[0].attrib['Date']\n",
    "hkd_rub = xml_data.xpath(\"/ValCurs/Valute[@ID='R01200']/Value\")[0].text\n",
    "\n",
    "print('Курс гонконгского доллара к рублю на ' + today + ': ' + hkd_rub)"
   ]
  },
  {
   "cell_type": "code",
   "execution_count": 34,
   "metadata": {},
   "outputs": [
    {
     "name": "stdout",
     "output_type": "stream",
     "text": [
      "[<Element ValCurs at 0x23994965ac0>]\n",
      "Date: 23.07.2020\n",
      "tag: <ValCurs Date=\"23.07.2020\" name=\"Foreign Currency Market\"><Valute ID=\"R01010\"><NumCode>036</NumCode><CharCode>AUD</CharCode><Nominal>1</Nominal><Name>Австралийский доллар</Name><Value>50,4365</Value></Valute><Valute ID=\"R01020A\"><NumCode>944</NumCode><CharCode>AZN</CharCode><Nominal>1</Nominal><Name>Азербайджанский манат</Name><Value>41,6646</Value></Valute><Valute ID=\"R01035\"><NumCode>826</NumCode><CharCode>GBP</CharCode><Nominal>1</Nominal><Name>Фунт стерлингов Соединенного королевства</Name><Value>89,5611</Value></Valute><Valute ID=\"R01060\"><NumCode>051</NumCode><CharCode>AMD</CharCode><Nominal>100</Nominal><Name>Армянских драмов</Name><Value>14,6015</Value></Valute><Valute ID=\"R01090B\"><NumCode>933</NumCode><CharCode>BYN</CharCode><Nominal>1</Nominal><Name>Белорусский рубль</Name><Value>29,7030</Value></Valute><Valute ID=\"R01100\"><NumCode>975</NumCode><CharCode>BGN</CharCode><Nominal>1</Nominal><Name>Болгарский лев</Name><Value>41,6793</Value></Valute><Valute ID=\"R01115\"><NumCode>986</NumCode><CharCode>BRL</CharCode><Nominal>1</Nominal><Name>Бразильский реал</Name><Value>13,6902</Value></Valute><Valute ID=\"R01135\"><NumCode>348</NumCode><CharCode>HUF</CharCode><Nominal>100</Nominal><Name>Венгерских форинтов</Name><Value>23,2481</Value></Valute><Valute ID=\"R01200\"><NumCode>344</NumCode><CharCode>HKD</CharCode><Nominal>10</Nominal><Name>Гонконгских долларов</Name><Value>91,3265</Value></Valute><Valute ID=\"R01215\"><NumCode>208</NumCode><CharCode>DKK</CharCode><Nominal>1</Nominal><Name>Датская крона</Name><Value>10,9530</Value></Valute><Valute ID=\"R01235\"><NumCode>840</NumCode><CharCode>USD</CharCode><Nominal>1</Nominal><Name>Доллар США</Name><Value>70,7881</Value></Valute><Valute ID=\"R01239\"><NumCode>978</NumCode><CharCode>EUR</CharCode><Nominal>1</Nominal><Name>Евро</Name><Value>81,5904</Value></Valute><Valute ID=\"R01270\"><NumCode>356</NumCode><CharCode>INR</CharCode><Nominal>100</Nominal><Name>Индийских рупий</Name><Value>94,6859</Value></Valute><Valute ID=\"R01335\"><NumCode>398</NumCode><CharCode>KZT</CharCode><Nominal>100</Nominal><Name>Казахстанских тенге</Name><Value>17,1553</Value></Valute><Valute ID=\"R01350\"><NumCode>124</NumCode><CharCode>CAD</CharCode><Nominal>1</Nominal><Name>Канадский доллар</Name><Value>52,5329</Value></Valute><Valute ID=\"R01370\"><NumCode>417</NumCode><CharCode>KGS</CharCode><Nominal>100</Nominal><Name>Киргизских сомов</Name><Value>91,2609</Value></Valute><Valute ID=\"R01375\"><NumCode>156</NumCode><CharCode>CNY</CharCode><Nominal>1</Nominal><Name>Китайский юань</Name><Value>10,1055</Value></Valute><Valute ID=\"R01500\"><NumCode>498</NumCode><CharCode>MDL</CharCode><Nominal>10</Nominal><Name>Молдавских леев</Name><Value>41,7752</Value></Valute><Valute ID=\"R01535\"><NumCode>578</NumCode><CharCode>NOK</CharCode><Nominal>10</Nominal><Name>Норвежских крон</Name><Value>77,3057</Value></Valute><Valute ID=\"R01565\"><NumCode>985</NumCode><CharCode>PLN</CharCode><Nominal>1</Nominal><Name>Польский злотый</Name><Value>18,3555</Value></Valute><Valute ID=\"R01585F\"><NumCode>946</NumCode><CharCode>RON</CharCode><Nominal>1</Nominal><Name>Румынский лей</Name><Value>16,8407</Value></Valute><Valute ID=\"R01589\"><NumCode>960</NumCode><CharCode>XDR</CharCode><Nominal>1</Nominal><Name>СДР (специальные права заимствования)</Name><Value>98,4330</Value></Valute><Valute ID=\"R01625\"><NumCode>702</NumCode><CharCode>SGD</CharCode><Nominal>1</Nominal><Name>Сингапурский доллар</Name><Value>51,0626</Value></Valute><Valute ID=\"R01670\"><NumCode>972</NumCode><CharCode>TJS</CharCode><Nominal>10</Nominal><Name>Таджикских сомони</Name><Value>68,7263</Value></Valute><Valute ID=\"R01700J\"><NumCode>949</NumCode><CharCode>TRY</CharCode><Nominal>1</Nominal><Name>Турецкая лира</Name><Value>10,3328</Value></Valute><Valute ID=\"R01710A\"><NumCode>934</NumCode><CharCode>TMT</CharCode><Nominal>1</Nominal><Name>Новый туркменский манат</Name><Value>20,2541</Value></Valute><Valute ID=\"R01717\"><NumCode>860</NumCode><CharCode>UZS</CharCode><Nominal>10000</Nominal><Name>Узбекских сумов</Name><Value>69,3295</Value></Valute><Valute ID=\"R01720\"><NumCode>980</NumCode><CharCode>UAH</CharCode><Nominal>10</Nominal><Name>Украинских гривен</Name><Value>25,4794</Value></Valute><Valute ID=\"R01760\"><NumCode>203</NumCode><CharCode>CZK</CharCode><Nominal>10</Nominal><Name>Чешских крон</Name><Value>30,8620</Value></Valute><Valute ID=\"R01770\"><NumCode>752</NumCode><CharCode>SEK</CharCode><Nominal>10</Nominal><Name>Шведских крон</Name><Value>79,5024</Value></Valute><Valute ID=\"R01775\"><NumCode>756</NumCode><CharCode>CHF</CharCode><Nominal>1</Nominal><Name>Швейцарский франк</Name><Value>75,8309</Value></Valute><Valute ID=\"R01810\"><NumCode>710</NumCode><CharCode>ZAR</CharCode><Nominal>10</Nominal><Name>Южноафриканских рэндов</Name><Value>42,9235</Value></Valute><Valute ID=\"R01815\"><NumCode>410</NumCode><CharCode>KRW</CharCode><Nominal>1000</Nominal><Name>Вон Республики Корея</Name><Value>59,0960</Value></Valute><Valute ID=\"R01820\"><NumCode>392</NumCode><CharCode>JPY</CharCode><Nominal>100</Nominal><Name>Японских иен</Name><Value>66,1788</Value></Valute></ValCurs>\n",
      "\n",
      "a: <ValCurs Date=\"23.07.2020\" name=\"Foreign Currency Market\"><Valute ID=\"R01010\"><NumCode>036</NumCode><CharCode>AUD</CharCode><Nominal>1</Nominal><Name>Австралийский доллар</Name><Value>50,4365</Value></Valute><Valute ID=\"R01020A\"><NumCode>944</NumCode><CharCode>AZN</CharCode><Nominal>1</Nominal><Name>Азербайджанский манат</Name><Value>41,6646</Value></Valute><Valute ID=\"R01035\"><NumCode>826</NumCode><CharCode>GBP</CharCode><Nominal>1</Nominal><Name>Фунт стерлингов Соединенного королевства</Name><Value>89,5611</Value></Valute><Valute ID=\"R01060\"><NumCode>051</NumCode><CharCode>AMD</CharCode><Nominal>100</Nominal><Name>Армянских драмов</Name><Value>14,6015</Value></Valute><Valute ID=\"R01090B\"><NumCode>933</NumCode><CharCode>BYN</CharCode><Nominal>1</Nominal><Name>Белорусский рубль</Name><Value>29,7030</Value></Valute><Valute ID=\"R01100\"><NumCode>975</NumCode><CharCode>BGN</CharCode><Nominal>1</Nominal><Name>Болгарский лев</Name><Value>41,6793</Value></Valute><Valute ID=\"R01115\"><NumCode>986</NumCode><CharCode>BRL</CharCode><Nominal>1</Nominal><Name>Бразильский реал</Name><Value>13,6902</Value></Valute><Valute ID=\"R01135\"><NumCode>348</NumCode><CharCode>HUF</CharCode><Nominal>100</Nominal><Name>Венгерских форинтов</Name><Value>23,2481</Value></Valute><Valute ID=\"R01200\"><NumCode>344</NumCode><CharCode>HKD</CharCode><Nominal>10</Nominal><Name>Гонконгских долларов</Name><Value>91,3265</Value></Valute><Valute ID=\"R01215\"><NumCode>208</NumCode><CharCode>DKK</CharCode><Nominal>1</Nominal><Name>Датская крона</Name><Value>10,9530</Value></Valute><Valute ID=\"R01235\"><NumCode>840</NumCode><CharCode>USD</CharCode><Nominal>1</Nominal><Name>Доллар США</Name><Value>70,7881</Value></Valute><Valute ID=\"R01239\"><NumCode>978</NumCode><CharCode>EUR</CharCode><Nominal>1</Nominal><Name>Евро</Name><Value>81,5904</Value></Valute><Valute ID=\"R01270\"><NumCode>356</NumCode><CharCode>INR</CharCode><Nominal>100</Nominal><Name>Индийских рупий</Name><Value>94,6859</Value></Valute><Valute ID=\"R01335\"><NumCode>398</NumCode><CharCode>KZT</CharCode><Nominal>100</Nominal><Name>Казахстанских тенге</Name><Value>17,1553</Value></Valute><Valute ID=\"R01350\"><NumCode>124</NumCode><CharCode>CAD</CharCode><Nominal>1</Nominal><Name>Канадский доллар</Name><Value>52,5329</Value></Valute><Valute ID=\"R01370\"><NumCode>417</NumCode><CharCode>KGS</CharCode><Nominal>100</Nominal><Name>Киргизских сомов</Name><Value>91,2609</Value></Valute><Valute ID=\"R01375\"><NumCode>156</NumCode><CharCode>CNY</CharCode><Nominal>1</Nominal><Name>Китайский юань</Name><Value>10,1055</Value></Valute><Valute ID=\"R01500\"><NumCode>498</NumCode><CharCode>MDL</CharCode><Nominal>10</Nominal><Name>Молдавских леев</Name><Value>41,7752</Value></Valute><Valute ID=\"R01535\"><NumCode>578</NumCode><CharCode>NOK</CharCode><Nominal>10</Nominal><Name>Норвежских крон</Name><Value>77,3057</Value></Valute><Valute ID=\"R01565\"><NumCode>985</NumCode><CharCode>PLN</CharCode><Nominal>1</Nominal><Name>Польский злотый</Name><Value>18,3555</Value></Valute><Valute ID=\"R01585F\"><NumCode>946</NumCode><CharCode>RON</CharCode><Nominal>1</Nominal><Name>Румынский лей</Name><Value>16,8407</Value></Valute><Valute ID=\"R01589\"><NumCode>960</NumCode><CharCode>XDR</CharCode><Nominal>1</Nominal><Name>СДР (специальные права заимствования)</Name><Value>98,4330</Value></Valute><Valute ID=\"R01625\"><NumCode>702</NumCode><CharCode>SGD</CharCode><Nominal>1</Nominal><Name>Сингапурский доллар</Name><Value>51,0626</Value></Valute><Valute ID=\"R01670\"><NumCode>972</NumCode><CharCode>TJS</CharCode><Nominal>10</Nominal><Name>Таджикских сомони</Name><Value>68,7263</Value></Valute><Valute ID=\"R01700J\"><NumCode>949</NumCode><CharCode>TRY</CharCode><Nominal>1</Nominal><Name>Турецкая лира</Name><Value>10,3328</Value></Valute><Valute ID=\"R01710A\"><NumCode>934</NumCode><CharCode>TMT</CharCode><Nominal>1</Nominal><Name>Новый туркменский манат</Name><Value>20,2541</Value></Valute><Valute ID=\"R01717\"><NumCode>860</NumCode><CharCode>UZS</CharCode><Nominal>10000</Nominal><Name>Узбекских сумов</Name><Value>69,3295</Value></Valute><Valute ID=\"R01720\"><NumCode>980</NumCode><CharCode>UAH</CharCode><Nominal>10</Nominal><Name>Украинских гривен</Name><Value>25,4794</Value></Valute><Valute ID=\"R01760\"><NumCode>203</NumCode><CharCode>CZK</CharCode><Nominal>10</Nominal><Name>Чешских крон</Name><Value>30,8620</Value></Valute><Valute ID=\"R01770\"><NumCode>752</NumCode><CharCode>SEK</CharCode><Nominal>10</Nominal><Name>Шведских крон</Name><Value>79,5024</Value></Valute><Valute ID=\"R01775\"><NumCode>756</NumCode><CharCode>CHF</CharCode><Nominal>1</Nominal><Name>Швейцарский франк</Name><Value>75,8309</Value></Valute><Valute ID=\"R01810\"><NumCode>710</NumCode><CharCode>ZAR</CharCode><Nominal>10</Nominal><Name>Южноафриканских рэндов</Name><Value>42,9235</Value></Valute><Valute ID=\"R01815\"><NumCode>410</NumCode><CharCode>KRW</CharCode><Nominal>1000</Nominal><Name>Вон Республики Корея</Name><Value>59,0960</Value></Valute><Valute ID=\"R01820\"><NumCode>392</NumCode><CharCode>JPY</CharCode><Nominal>100</Nominal><Name>Японских иен</Name><Value>66,1788</Value></Valute></ValCurs>\n"
     ]
    }
   ],
   "source": [
    "items = xml_data.xpath(\"//ValCurs\")[0].attrib['Date']\n",
    "print(items)\n",
    "print('Date:', items)\n",
    "print('tag:', etree.tostring(items[0], encoding='unicode'))\n",
    "print()\n",
    "for a in items:\n",
    "    print('a:', etree.tostring(a, encoding='unicode'))"
   ]
  },
  {
   "cell_type": "code",
   "execution_count": 22,
   "metadata": {},
   "outputs": [
    {
     "name": "stdout",
     "output_type": "stream",
     "text": [
      "<lxml.etree._ElementTree object at 0x0000023994BEC2C0>\n"
     ]
    }
   ],
   "source": [
    "nt = etree.ElementTree(xml_data)\n",
    "print(nt)"
   ]
  },
  {
   "cell_type": "code",
   "execution_count": 14,
   "metadata": {},
   "outputs": [
    {
     "name": "stdout",
     "output_type": "stream",
     "text": [
      "NumCode => 036\n",
      "CharCode => AUD\n",
      "Nominal => 1\n",
      "Name => Австралийский доллар\n",
      "Value => 50,4365\n",
      "NumCode => 944\n",
      "CharCode => AZN\n",
      "Nominal => 1\n",
      "Name => Азербайджанский манат\n",
      "Value => 41,6646\n",
      "NumCode => 826\n",
      "CharCode => GBP\n",
      "Nominal => 1\n",
      "Name => Фунт стерлингов Соединенного королевства\n",
      "Value => 89,5611\n",
      "NumCode => 051\n",
      "CharCode => AMD\n",
      "Nominal => 100\n",
      "Name => Армянских драмов\n",
      "Value => 14,6015\n",
      "NumCode => 933\n",
      "CharCode => BYN\n",
      "Nominal => 1\n",
      "Name => Белорусский рубль\n",
      "Value => 29,7030\n",
      "NumCode => 975\n",
      "CharCode => BGN\n",
      "Nominal => 1\n",
      "Name => Болгарский лев\n",
      "Value => 41,6793\n",
      "NumCode => 986\n",
      "CharCode => BRL\n",
      "Nominal => 1\n",
      "Name => Бразильский реал\n",
      "Value => 13,6902\n",
      "NumCode => 348\n",
      "CharCode => HUF\n",
      "Nominal => 100\n",
      "Name => Венгерских форинтов\n",
      "Value => 23,2481\n",
      "NumCode => 344\n",
      "CharCode => HKD\n",
      "Nominal => 10\n",
      "Name => Гонконгских долларов\n",
      "Value => 91,3265\n",
      "NumCode => 208\n",
      "CharCode => DKK\n",
      "Nominal => 1\n",
      "Name => Датская крона\n",
      "Value => 10,9530\n",
      "NumCode => 840\n",
      "CharCode => USD\n",
      "Nominal => 1\n",
      "Name => Доллар США\n",
      "Value => 70,7881\n",
      "NumCode => 978\n",
      "CharCode => EUR\n",
      "Nominal => 1\n",
      "Name => Евро\n",
      "Value => 81,5904\n",
      "NumCode => 356\n",
      "CharCode => INR\n",
      "Nominal => 100\n",
      "Name => Индийских рупий\n",
      "Value => 94,6859\n",
      "NumCode => 398\n",
      "CharCode => KZT\n",
      "Nominal => 100\n",
      "Name => Казахстанских тенге\n",
      "Value => 17,1553\n",
      "NumCode => 124\n",
      "CharCode => CAD\n",
      "Nominal => 1\n",
      "Name => Канадский доллар\n",
      "Value => 52,5329\n",
      "NumCode => 417\n",
      "CharCode => KGS\n",
      "Nominal => 100\n",
      "Name => Киргизских сомов\n",
      "Value => 91,2609\n",
      "NumCode => 156\n",
      "CharCode => CNY\n",
      "Nominal => 1\n",
      "Name => Китайский юань\n",
      "Value => 10,1055\n",
      "NumCode => 498\n",
      "CharCode => MDL\n",
      "Nominal => 10\n",
      "Name => Молдавских леев\n",
      "Value => 41,7752\n",
      "NumCode => 578\n",
      "CharCode => NOK\n",
      "Nominal => 10\n",
      "Name => Норвежских крон\n",
      "Value => 77,3057\n",
      "NumCode => 985\n",
      "CharCode => PLN\n",
      "Nominal => 1\n",
      "Name => Польский злотый\n",
      "Value => 18,3555\n",
      "NumCode => 946\n",
      "CharCode => RON\n",
      "Nominal => 1\n",
      "Name => Румынский лей\n",
      "Value => 16,8407\n",
      "NumCode => 960\n",
      "CharCode => XDR\n",
      "Nominal => 1\n",
      "Name => СДР (специальные права заимствования)\n",
      "Value => 98,4330\n",
      "NumCode => 702\n",
      "CharCode => SGD\n",
      "Nominal => 1\n",
      "Name => Сингапурский доллар\n",
      "Value => 51,0626\n",
      "NumCode => 972\n",
      "CharCode => TJS\n",
      "Nominal => 10\n",
      "Name => Таджикских сомони\n",
      "Value => 68,7263\n",
      "NumCode => 949\n",
      "CharCode => TRY\n",
      "Nominal => 1\n",
      "Name => Турецкая лира\n",
      "Value => 10,3328\n",
      "NumCode => 934\n",
      "CharCode => TMT\n",
      "Nominal => 1\n",
      "Name => Новый туркменский манат\n",
      "Value => 20,2541\n",
      "NumCode => 860\n",
      "CharCode => UZS\n",
      "Nominal => 10000\n",
      "Name => Узбекских сумов\n",
      "Value => 69,3295\n",
      "NumCode => 980\n",
      "CharCode => UAH\n",
      "Nominal => 10\n",
      "Name => Украинских гривен\n",
      "Value => 25,4794\n",
      "NumCode => 203\n",
      "CharCode => CZK\n",
      "Nominal => 10\n",
      "Name => Чешских крон\n",
      "Value => 30,8620\n",
      "NumCode => 752\n",
      "CharCode => SEK\n",
      "Nominal => 10\n",
      "Name => Шведских крон\n",
      "Value => 79,5024\n",
      "NumCode => 756\n",
      "CharCode => CHF\n",
      "Nominal => 1\n",
      "Name => Швейцарский франк\n",
      "Value => 75,8309\n",
      "NumCode => 710\n",
      "CharCode => ZAR\n",
      "Nominal => 10\n",
      "Name => Южноафриканских рэндов\n",
      "Value => 42,9235\n",
      "NumCode => 410\n",
      "CharCode => KRW\n",
      "Nominal => 1000\n",
      "Name => Вон Республики Корея\n",
      "Value => 59,0960\n",
      "NumCode => 392\n",
      "CharCode => JPY\n",
      "Nominal => 100\n",
      "Name => Японских иен\n",
      "Value => 66,1788\n"
     ]
    },
    {
     "ename": "SyntaxError",
     "evalue": "'return' outside function (<ipython-input-14-c69514865d58>, line 16)",
     "output_type": "error",
     "traceback": [
      "\u001b[1;36m  File \u001b[1;32m\"<ipython-input-14-c69514865d58>\"\u001b[1;36m, line \u001b[1;32m16\u001b[0m\n\u001b[1;33m    return books\u001b[0m\n\u001b[1;37m    ^\u001b[0m\n\u001b[1;31mSyntaxError\u001b[0m\u001b[1;31m:\u001b[0m 'return' outside function\n"
     ]
    }
   ],
   "source": [
    "\n",
    "    book_dict = {}\n",
    "    books = []\n",
    "    for book in xml_data.getchildren():\n",
    "        for elem in book.getchildren():\n",
    "            if not elem.text:\n",
    "                text = \"None\"\n",
    "            else:\n",
    "                text = elem.text\n",
    "            print(elem.tag + \" => \" + text)\n",
    "            book_dict[elem.tag] = text\n",
    "        \n",
    "        if book.tag == \"book\":\n",
    "            books.append(book_dict)\n",
    "            book_dict = {}\n",
    "    \n",
    "    return books"
   ]
  },
  {
   "cell_type": "code",
   "execution_count": 32,
   "metadata": {
    "scrolled": true
   },
   "outputs": [
    {
     "ename": "AttributeError",
     "evalue": "'bytes' object has no attribute 'read'",
     "output_type": "error",
     "traceback": [
      "\u001b[1;31m---------------------------------------------------------------------------\u001b[0m",
      "\u001b[1;31mAttributeError\u001b[0m                            Traceback (most recent call last)",
      "\u001b[1;32m<ipython-input-32-422b863f0e17>\u001b[0m in \u001b[0;36m<module>\u001b[1;34m\u001b[0m\n\u001b[0;32m      1\u001b[0m \u001b[1;32mfrom\u001b[0m \u001b[0mxml\u001b[0m\u001b[1;33m.\u001b[0m\u001b[0mdom\u001b[0m \u001b[1;32mimport\u001b[0m \u001b[0mminidom\u001b[0m\u001b[1;33m\u001b[0m\u001b[1;33m\u001b[0m\u001b[0m\n\u001b[1;32m----> 2\u001b[1;33m \u001b[0mdoc\u001b[0m \u001b[1;33m=\u001b[0m \u001b[0mminidom\u001b[0m\u001b[1;33m.\u001b[0m\u001b[0mparse\u001b[0m\u001b[1;33m(\u001b[0m\u001b[0mxml\u001b[0m\u001b[1;33m)\u001b[0m\u001b[1;33m\u001b[0m\u001b[1;33m\u001b[0m\u001b[0m\n\u001b[0m\u001b[0;32m      3\u001b[0m \u001b[0mroot\u001b[0m \u001b[1;33m=\u001b[0m \u001b[0mdoc\u001b[0m\u001b[1;33m.\u001b[0m\u001b[0mgetElementsByTagName\u001b[0m\u001b[1;33m(\u001b[0m\u001b[1;34m\"ValCurs\"\u001b[0m\u001b[1;33m)\u001b[0m\u001b[1;33m[\u001b[0m\u001b[1;36m0\u001b[0m\u001b[1;33m]\u001b[0m\u001b[1;33m\u001b[0m\u001b[1;33m\u001b[0m\u001b[0m\n\u001b[0;32m      4\u001b[0m \u001b[1;33m\u001b[0m\u001b[0m\n\u001b[0;32m      5\u001b[0m \u001b[0mdate\u001b[0m \u001b[1;33m=\u001b[0m \u001b[1;34m\"Текущий курс валют на {date}г. \\n\"\u001b[0m\u001b[1;33m.\u001b[0m\u001b[0mformat\u001b[0m\u001b[1;33m(\u001b[0m\u001b[0mdate\u001b[0m\u001b[1;33m=\u001b[0m \u001b[0mroot\u001b[0m\u001b[1;33m.\u001b[0m\u001b[0mgetAttribute\u001b[0m\u001b[1;33m(\u001b[0m\u001b[1;34m'Date'\u001b[0m\u001b[1;33m)\u001b[0m\u001b[1;33m)\u001b[0m\u001b[1;33m\u001b[0m\u001b[1;33m\u001b[0m\u001b[0m\n",
      "\u001b[1;32mc:\\programs\\python\\lib\\xml\\dom\\minidom.py\u001b[0m in \u001b[0;36mparse\u001b[1;34m(file, parser, bufsize)\u001b[0m\n\u001b[0;32m   1957\u001b[0m     \u001b[1;32mif\u001b[0m \u001b[0mparser\u001b[0m \u001b[1;32mis\u001b[0m \u001b[1;32mNone\u001b[0m \u001b[1;32mand\u001b[0m \u001b[1;32mnot\u001b[0m \u001b[0mbufsize\u001b[0m\u001b[1;33m:\u001b[0m\u001b[1;33m\u001b[0m\u001b[1;33m\u001b[0m\u001b[0m\n\u001b[0;32m   1958\u001b[0m         \u001b[1;32mfrom\u001b[0m \u001b[0mxml\u001b[0m\u001b[1;33m.\u001b[0m\u001b[0mdom\u001b[0m \u001b[1;32mimport\u001b[0m \u001b[0mexpatbuilder\u001b[0m\u001b[1;33m\u001b[0m\u001b[1;33m\u001b[0m\u001b[0m\n\u001b[1;32m-> 1959\u001b[1;33m         \u001b[1;32mreturn\u001b[0m \u001b[0mexpatbuilder\u001b[0m\u001b[1;33m.\u001b[0m\u001b[0mparse\u001b[0m\u001b[1;33m(\u001b[0m\u001b[0mfile\u001b[0m\u001b[1;33m)\u001b[0m\u001b[1;33m\u001b[0m\u001b[1;33m\u001b[0m\u001b[0m\n\u001b[0m\u001b[0;32m   1960\u001b[0m     \u001b[1;32melse\u001b[0m\u001b[1;33m:\u001b[0m\u001b[1;33m\u001b[0m\u001b[1;33m\u001b[0m\u001b[0m\n\u001b[0;32m   1961\u001b[0m         \u001b[1;32mfrom\u001b[0m \u001b[0mxml\u001b[0m\u001b[1;33m.\u001b[0m\u001b[0mdom\u001b[0m \u001b[1;32mimport\u001b[0m \u001b[0mpulldom\u001b[0m\u001b[1;33m\u001b[0m\u001b[1;33m\u001b[0m\u001b[0m\n",
      "\u001b[1;32mc:\\programs\\python\\lib\\xml\\dom\\expatbuilder.py\u001b[0m in \u001b[0;36mparse\u001b[1;34m(file, namespaces)\u001b[0m\n\u001b[0;32m    911\u001b[0m             \u001b[0mresult\u001b[0m \u001b[1;33m=\u001b[0m \u001b[0mbuilder\u001b[0m\u001b[1;33m.\u001b[0m\u001b[0mparseFile\u001b[0m\u001b[1;33m(\u001b[0m\u001b[0mfp\u001b[0m\u001b[1;33m)\u001b[0m\u001b[1;33m\u001b[0m\u001b[1;33m\u001b[0m\u001b[0m\n\u001b[0;32m    912\u001b[0m     \u001b[1;32melse\u001b[0m\u001b[1;33m:\u001b[0m\u001b[1;33m\u001b[0m\u001b[1;33m\u001b[0m\u001b[0m\n\u001b[1;32m--> 913\u001b[1;33m         \u001b[0mresult\u001b[0m \u001b[1;33m=\u001b[0m \u001b[0mbuilder\u001b[0m\u001b[1;33m.\u001b[0m\u001b[0mparseFile\u001b[0m\u001b[1;33m(\u001b[0m\u001b[0mfile\u001b[0m\u001b[1;33m)\u001b[0m\u001b[1;33m\u001b[0m\u001b[1;33m\u001b[0m\u001b[0m\n\u001b[0m\u001b[0;32m    914\u001b[0m     \u001b[1;32mreturn\u001b[0m \u001b[0mresult\u001b[0m\u001b[1;33m\u001b[0m\u001b[1;33m\u001b[0m\u001b[0m\n\u001b[0;32m    915\u001b[0m \u001b[1;33m\u001b[0m\u001b[0m\n",
      "\u001b[1;32mc:\\programs\\python\\lib\\xml\\dom\\expatbuilder.py\u001b[0m in \u001b[0;36mparseFile\u001b[1;34m(self, file)\u001b[0m\n\u001b[0;32m    202\u001b[0m         \u001b[1;32mtry\u001b[0m\u001b[1;33m:\u001b[0m\u001b[1;33m\u001b[0m\u001b[1;33m\u001b[0m\u001b[0m\n\u001b[0;32m    203\u001b[0m             \u001b[1;32mwhile\u001b[0m \u001b[1;36m1\u001b[0m\u001b[1;33m:\u001b[0m\u001b[1;33m\u001b[0m\u001b[1;33m\u001b[0m\u001b[0m\n\u001b[1;32m--> 204\u001b[1;33m                 \u001b[0mbuffer\u001b[0m \u001b[1;33m=\u001b[0m \u001b[0mfile\u001b[0m\u001b[1;33m.\u001b[0m\u001b[0mread\u001b[0m\u001b[1;33m(\u001b[0m\u001b[1;36m16\u001b[0m\u001b[1;33m*\u001b[0m\u001b[1;36m1024\u001b[0m\u001b[1;33m)\u001b[0m\u001b[1;33m\u001b[0m\u001b[1;33m\u001b[0m\u001b[0m\n\u001b[0m\u001b[0;32m    205\u001b[0m                 \u001b[1;32mif\u001b[0m \u001b[1;32mnot\u001b[0m \u001b[0mbuffer\u001b[0m\u001b[1;33m:\u001b[0m\u001b[1;33m\u001b[0m\u001b[1;33m\u001b[0m\u001b[0m\n\u001b[0;32m    206\u001b[0m                     \u001b[1;32mbreak\u001b[0m\u001b[1;33m\u001b[0m\u001b[1;33m\u001b[0m\u001b[0m\n",
      "\u001b[1;31mAttributeError\u001b[0m: 'bytes' object has no attribute 'read'"
     ]
    }
   ],
   "source": [
    "from xml.dom import minidom\n",
    "doc = minidom.parse(xml)\n",
    "root = doc.getElementsByTagName(\"ValCurs\")[0]\n",
    "\n",
    "date = \"Текущий курс валют на {date}г. \\n\".format(date= root.getAttribute('Date'))\n",
    "\n",
    "valutes = xmldoc.getElementsByTagName(\"Valute\")\n",
    "\n",
    "for valute in valutes:\n",
    "    id = valute.getAttribute(\"ID\")\n",
    "    value = valute.getElementsByTagName(\"Value\")[0]\n",
    "    char_code = valute.getElementsByTagName(\"CharCode\")[0]\n",
    "    #if id == 'R01200':\n",
    "        #print (\"exchange rate:%s, char code:%s\" % (value.firstChild.data, char_code.firstChild.data))"
   ]
  },
  {
   "cell_type": "code",
   "execution_count": 33,
   "metadata": {},
   "outputs": [
    {
     "ename": "OSError",
     "evalue": "Error reading file '<?xml version=\"1.0\" encoding=\"windows-1251\"?><ValCurs Date=\"23.07.2020\" name=\"Foreign Currency Market\"><Valute ID=\"R01010\"><NumCode>036</NumCode><CharCode>AUD</CharCode><Nominal>1</Nominal><Name>Àâñòðàëèéñêèé äîëëàð</Name><Value>50,4365</Value></Valute><Valute ID=\"R01020A\"><NumCode>944</NumCode><CharCode>AZN</CharCode><Nominal>1</Nominal><Name>Àçåðáàéäæàíñêèé ìàíàò</Name><Value>41,6646</Value></Valute><Valute ID=\"R01035\"><NumCode>826</NumCode><CharCode>GBP</CharCode><Nominal>1</Nominal><Name>Ôóíò ñòåðëèíãîâ Ñîåäèíåííîãî êîðîëåâñòâà</Name><Value>89,5611</Value></Valute><Valute ID=\"R01060\"><NumCode>051</NumCode><CharCode>AMD</CharCode><Nominal>100</Nominal><Name>Àðìÿíñêèõ äðàìîâ</Name><Value>14,6015</Value></Valute><Valute ID=\"R01090B\"><NumCode>933</NumCode><CharCode>BYN</CharCode><Nominal>1</Nominal><Name>Áåëîðóññêèé ðóáëü</Name><Value>29,7030</Value></Valute><Valute ID=\"R01100\"><NumCode>975</NumCode><CharCode>BGN</CharCode><Nominal>1</Nominal><Name>Áîëãàðñêèé ëåâ</Name><Value>41,6793</Value></Valute><Valute ID=\"R01115\"><NumCode>986</NumCode><CharCode>BRL</CharCode><Nominal>1</Nominal><Name>Áðàçèëüñêèé ðåàë</Name><Value>13,6902</Value></Valute><Valute ID=\"R01135\"><NumCode>348</NumCode><CharCode>HUF</CharCode><Nominal>100</Nominal><Name>Âåíãåðñêèõ ôîðèíòîâ</Name><Value>23,2481</Value></Valute><Valute ID=\"R01200\"><NumCode>344</NumCode><CharCode>HKD</CharCode><Nominal>10</Nominal><Name>Ãîíêîíãñêèõ äîëëàðîâ</Name><Value>91,3265</Value></Valute><Valute ID=\"R01215\"><NumCode>208</NumCode><CharCode>DKK</CharCode><Nominal>1</Nominal><Name>Äàòñêàÿ êðîíà</Name><Value>10,9530</Value></Valute><Valute ID=\"R01235\"><NumCode>840</NumCode><CharCode>USD</CharCode><Nominal>1</Nominal><Name>Äîëëàð ÑØÀ</Name><Value>70,7881</Value></Valute><Valute ID=\"R01239\"><NumCode>978</NumCode><CharCode>EUR</CharCode><Nominal>1</Nominal><Name>Åâðî</Name><Value>81,5904</Value></Valute><Valute ID=\"R01270\"><NumCode>356</NumCode><CharCode>INR</CharCode><Nominal>100</Nominal><Name>Èíäèéñêèõ ðóïèé</Name><Value>94,6859</Value></Valute><Valute ID=\"R01335\"><NumCode>398</NumCode><CharCode>KZT</CharCode><Nominal>100</Nominal><Name>Êàçàõñòàíñêèõ òåíãå</Name><Value>17,1553</Value></Valute><Valute ID=\"R01350\"><NumCode>124</NumCode><CharCode>CAD</CharCode><Nominal>1</Nominal><Name>Êàíàäñêèé äîëëàð</Name><Value>52,5329</Value></Valute><Valute ID=\"R01370\"><NumCode>417</NumCode><CharCode>KGS</CharCode><Nominal>100</Nominal><Name>Êèðãèçñêèõ ñîìîâ</Name><Value>91,2609</Value></Valute><Valute ID=\"R01375\"><NumCode>156</NumCode><CharCode>CNY</CharCode><Nominal>1</Nominal><Name>Êèòàéñêèé þàíü</Name><Value>10,1055</Value></Valute><Valute ID=\"R01500\"><NumCode>498</NumCode><CharCode>MDL</CharCode><Nominal>10</Nominal><Name>Ìîëäàâñêèõ ëååâ</Name><Value>41,7752</Value></Valute><Valute ID=\"R01535\"><NumCode>578</NumCode><CharCode>NOK</CharCode><Nominal>10</Nominal><Name>Íîðâåæñêèõ êðîí</Name><Value>77,3057</Value></Valute><Valute ID=\"R01565\"><NumCode>985</NumCode><CharCode>PLN</CharCode><Nominal>1</Nominal><Name>Ïîëüñêèé çëîòûé</Name><Value>18,3555</Value></Valute><Valute ID=\"R01585F\"><NumCode>946</NumCode><CharCode>RON</CharCode><Nominal>1</Nominal><Name>Ðóìûíñêèé ëåé</Name><Value>16,8407</Value></Valute><Valute ID=\"R01589\"><NumCode>960</NumCode><CharCode>XDR</CharCode><Nominal>1</Nominal><Name>ÑÄÐ (ñïåöèàëüíûå ïðàâà çàèìñòâîâàíèÿ)</Name><Value>98,4330</Value></Valute><Valute ID=\"R01625\"><NumCode>702</NumCode><CharCode>SGD</CharCode><Nominal>1</Nominal><Name>Ñèíãàïóðñêèé äîëëàð</Name><Value>51,0626</Value></Valute><Valute ID=\"R01670\"><NumCode>972</NumCode><CharCode>TJS</CharCode><Nominal>10</Nominal><Name>Òàäæèêñêèõ ñîìîíè</Name><Value>68,7263</Value></Valute><Valute ID=\"R01700J\"><NumCode>949</NumCode><CharCode>TRY</CharCode><Nominal>1</Nominal><Name>Òóðåöêàÿ ëèðà</Name><Value>10,3328</Value></Valute><Valute ID=\"R01710A\"><NumCode>934</NumCode><CharCode>TMT</CharCode><Nominal>1</Nominal><Name>Íîâûé òóðêìåíñêèé ìàíàò</Name><Value>20,2541</Value></Valute><Valute ID=\"R01717\"><NumCode>860</NumCode><CharCode>UZS</CharCode><Nominal>10000</Nominal><Name>Óçáåêñêèõ ñóìîâ</Name><Value>69,3295</Value></Valute><Valute ID=\"R01720\"><NumCode>980</NumCode><CharCode>UAH</CharCode><Nominal>10</Nominal><Name>Óêðàèíñêèõ ãðèâåí</Name><Value>25,4794</Value></Valute><Valute ID=\"R01760\"><NumCode>203</NumCode><CharCode>CZK</CharCode><Nominal>10</Nominal><Name>×åøñêèõ êðîí</Name><Value>30,8620</Value></Valute><Valute ID=\"R01770\"><NumCode>752</NumCode><CharCode>SEK</CharCode><Nominal>10</Nominal><Name>Øâåäñêèõ êðîí</Name><Value>79,5024</Value></Valute><Valute ID=\"R01775\"><NumCode>756</NumCode><CharCode>CHF</CharCode><Nominal>1</Nominal><Name>Øâåéöàðñêèé ôðàíê</Name><Value>75,8309</Value></Valute><Valute ID=\"R01810\"><NumCode>710</NumCode><CharCode>ZAR</CharCode><Nominal>10</Nominal><Name>Þæíîàôðèêàíñêèõ ðýíäîâ</Name><Value>42,9235</Value></Valute><Valute ID=\"R01815\"><NumCode>410</NumCode><CharCode>KRW</CharCode><Nominal>1000</Nominal><Name>Âîí Ðåñïóáëèêè Êîðåÿ</Name><Value>59,0960</Value></Valute><Valute ID=\"R01820\"><NumCode>392</NumCode><CharCode>JPY</CharCode><Nominal>100</Nominal><Name>ßïîíñêèõ èåí</Name><Value>66,1788</Value></Valute></ValCurs>': failed to load external entity \"<?xml version=\"1.0\" encoding=\"windows-1251\"?><ValCurs Date=\"23.07.2020\" name=\"Foreign Currency Market\"><Valute ID=\"R01010\"><NumCode>036</NumCode><CharCode>AUD</CharCode><Nominal>1</Nominal><Name>Àâñòðàëèéñêèé äîëëàð</Name><Value>50,4365</Value></Valute><Valute ID=\"R01020A\"><NumCode>944</NumCode><CharCode>AZN</CharCode><Nominal>1</Nominal><Name>Àçåðáàéäæàíñêèé ìàíàò</Name><Value>41,6646</Value></Valute><Valute ID=\"R01035\"><NumCode>826</NumCode><CharCode>GBP</CharCode><Nominal>1</Nominal><Name>Ôóíò ñòåðëèíãîâ Ñîåäèíåííîãî êîðîëåâñòâà</Name><Value>89,5611</Value></Valute><Valute ID=\"R01060\"><NumCode>051</NumCode><CharCode>AMD</CharCode><Nominal>100</Nominal><Name>Àðìÿíñêèõ äðàìîâ</Name><Value>14,6015</Value></Valute><Valute ID=\"R01090B\"><NumCode>933</NumCode><CharCode>BYN</CharCode><Nominal>1</Nominal><Name>Áåëîðóññêèé ðóáëü</Name><Value>29,7030</Value></Valute><Valute ID=\"R01100\"><NumCode>975</NumCode><CharCode>BGN</CharCode><Nominal>1</Nominal><Name>Áîëãàðñêèé ëåâ</Name><Value>41,6793</Value></Valute><Valute ID=\"R01115\"><NumCode>986</NumCode><CharCode>BRL</CharCode><Nominal>1</Nominal><Name>Áðàçèëüñêèé ðåàë</Name><Value>13,6902</Value></Valute><Valute ID=\"R01135\"><NumCode>348</NumCode><CharCode>HUF</CharCode><Nominal>100</Nominal><Name>Âåíãåðñêèõ ôîðèíòîâ</Name><Value>23,2481</Value></Valute><Valute ID=\"R01200\"><NumCode>344</NumCode><CharCode>HKD</CharCode><Nominal>10</Nominal><Name>Ãîíêîíãñêèõ äîëëàðîâ</Name><Value>91,3265</Value></Valute><Valute ID=\"R01215\"><NumCode>208</NumCode><CharCode>DKK</CharCode><Nominal>1</Nominal><Name>Äàòñêàÿ êðîíà</Name><Value>10,9530</Value></Valute><Valute ID=\"R01235\"><NumCode>840</NumCode><CharCode>USD</CharCode><Nominal>1</Nominal><Name>Äîëëàð ÑØÀ</Name><Value>70,7881</Value></Valute><Valute ID=\"R01239\"><NumCode>978</NumCode><CharCode>EUR</CharCode><Nominal>1</Nominal><Name>Åâðî</Name><Value>81,5904</Value></Valute><Valute ID=\"R01270\"><NumCode>356</NumCode><CharCode>INR</CharCode><Nominal>100</Nominal><Name>Èíäèéñêèõ ðóïèé</Name><Value>94,6859</Value></Valute><Valute ID=\"R01335\"><NumCode>398</NumCode><CharCode>KZT</CharCode><Nominal>100</Nominal><Name>Êàçàõñòàíñêèõ òåíãå</Name><Value>17,1553</Value></Valute><Valute ID=\"R01350\"><NumCode>124</NumCode><CharCode>CAD</CharCode><Nominal>1</Nominal><Name>Êàíàäñêèé äîëëàð</Name><Value>52,5329</Value></Valute><Valute ID=\"R01370\"><NumCode>417</NumCode><CharCode>KGS</CharCode><Nominal>100</Nominal><Name>Êèðãèçñêèõ ñîìîâ</Name><Value>91,2609</Value></Valute><Valute ID=\"R01375\"><NumCode>156</NumCode><CharCode>CNY</CharCode><Nominal>1</Nominal><Name>Êèòàéñêèé þàíü</Name><Value>10,1055</Value></Valute><Valute ID=\"R01500\"><NumCode>498</NumCode><CharCode>MDL</CharCode><Nominal>10</Nominal><Name>Ìîëäàâñêèõ ëååâ</Name><Value>41,7752</Value></Valute><Valute ID=\"R01535\"><NumCode>578</NumCode><CharCode>NOK</CharCode><Nominal>10</Nominal><Name>Íîðâåæñêèõ êðîí</Name><Value>77,3057</Value></Valute><Valute ID=\"R01565\"><NumCode>985</NumCode><CharCode>PLN</CharCode><Nominal>1</Nominal><Name>Ïîëüñêèé çëîòûé</Name><Value>18,3555</Value></Valute><Valute ID=\"R01585F\"><NumCode>946</NumCode><CharCode>RON</CharCode><Nominal>1</Nominal><Name>Ðóìûíñêèé ëåé</Name><Value>16,8407</Value></Valute><Valute ID=\"R01589\"><NumCode>960</NumCode><CharCode>XDR</CharCode><Nominal>1</Nominal><Name>ÑÄÐ (ñïåöèàëüíûå ïðàâà çàèìñòâîâàíèÿ)</Name><Value>98,4330</Value></Valute><Valute ID=\"R01625\"><NumCode>702</NumCode><CharCode>SGD</CharCode><Nominal>1</Nominal><Name>Ñèíãàïóðñêèé äîëëàð</Name><Value>51,0626</Value></Valute><Valute ID=\"R01670\"><NumCode>972</NumCode><CharCode>TJS</CharCode><Nominal>10</Nominal><Name>Òàäæèêñêèõ ñîìîíè</Name><Value>68,7263</Value></Valute><Valute ID=\"R01700J\"><NumCode>949</NumCode><CharCode>TRY</CharCode><Nominal>1</Nominal><Name>Òóðåöêàÿ ëèðà</Name><Value>10,3328</Value></Valute><Valute ID=\"R01710A\"><NumCode>934</NumCode><CharCode>TMT</CharCode><Nominal>1</Nominal><Name>Íîâûé òóðêìåíñêèé ìàíàò</Name><Value>20,2541</Value></Valute><Valute ID=\"R01717\"><NumCode>860</NumCode><CharCode>UZS</CharCode><Nominal>10000</Nominal><Name>Óçáåêñêèõ ñóìîâ</Name><Value>69,3295</Value></Valute><Valute ID=\"R01720\"><NumCode>980</NumCode><CharCode>UAH</CharCode><Nominal>10</Nominal><Name>Óêðàèíñêèõ ãðèâåí</Name><Value>25,4794</Value></Valute><Valute ID=\"R01760\"><NumCode>203</NumCode><CharCode>CZK</CharCode><Nominal>10</Nominal><Name>×åøñêèõ êðîí</Name><Value>30,8620</Value></Valute><Valute ID=\"R01770\"><NumCode>752</NumCode><CharCode>SEK</CharCode><Nominal>10</Nominal><Name>Øâåäñêèõ êðîí</Name><Value>79,5024</Value></Valute><Valute ID=\"R01775\"><NumCode>756</NumCode><CharCode>CHF</CharCode><Nominal>1</Nominal><Name>Øâåéöàðñêèé ôðàíê</Name><Value>75,8309</Value></Valute><Valute ID=\"R01810\"><NumCode>710</NumCode><CharCode>ZAR</CharCode><Nominal>10</Nominal><Name>Þæíîàôðèêàíñêèõ ðýíäîâ</Name><Value>42,9235</Value></Valute><Valute ID=\"R01815\"><NumCode>410</NumCode><CharCode>KRW</CharCode><Nominal>1000</Nominal><Name>Âîí Ðåñïóáëèêè Êîðåÿ</Name><Value>59,0960</Value></Valute><Valute ID=\"R01820\"><NumCode>392</NumCode><CharCode>JPY</CharCode><Nominal>100</Nominal><Name>ßïîíñêèõ èåí</Name><Value>66,1788</Value></Valute></ValCurs>\"",
     "output_type": "error",
     "traceback": [
      "\u001b[1;31m---------------------------------------------------------------------------\u001b[0m",
      "\u001b[1;31mOSError\u001b[0m                                   Traceback (most recent call last)",
      "\u001b[1;32m<ipython-input-33-c22c2e0a1bc0>\u001b[0m in \u001b[0;36m<module>\u001b[1;34m\u001b[0m\n\u001b[0;32m      2\u001b[0m \u001b[1;33m\u001b[0m\u001b[0m\n\u001b[0;32m      3\u001b[0m \u001b[0mparser\u001b[0m \u001b[1;33m=\u001b[0m \u001b[0metree\u001b[0m\u001b[1;33m.\u001b[0m\u001b[0mXMLParser\u001b[0m\u001b[1;33m(\u001b[0m\u001b[0mremove_blank_text\u001b[0m\u001b[1;33m=\u001b[0m\u001b[1;32mTrue\u001b[0m\u001b[1;33m)\u001b[0m\u001b[1;33m\u001b[0m\u001b[1;33m\u001b[0m\u001b[0m\n\u001b[1;32m----> 4\u001b[1;33m \u001b[0mtree\u001b[0m \u001b[1;33m=\u001b[0m \u001b[0metree\u001b[0m\u001b[1;33m.\u001b[0m\u001b[0mparse\u001b[0m\u001b[1;33m(\u001b[0m\u001b[0mxml\u001b[0m\u001b[1;33m,\u001b[0m \u001b[0mparser\u001b[0m\u001b[1;33m)\u001b[0m\u001b[1;33m\u001b[0m\u001b[1;33m\u001b[0m\u001b[0m\n\u001b[0m",
      "\u001b[1;32msrc\\lxml\\etree.pyx\u001b[0m in \u001b[0;36mlxml.etree.parse\u001b[1;34m()\u001b[0m\n",
      "\u001b[1;32msrc\\lxml\\parser.pxi\u001b[0m in \u001b[0;36mlxml.etree._parseDocument\u001b[1;34m()\u001b[0m\n",
      "\u001b[1;32msrc\\lxml\\parser.pxi\u001b[0m in \u001b[0;36mlxml.etree._parseDocumentFromURL\u001b[1;34m()\u001b[0m\n",
      "\u001b[1;32msrc\\lxml\\parser.pxi\u001b[0m in \u001b[0;36mlxml.etree._parseDocFromFile\u001b[1;34m()\u001b[0m\n",
      "\u001b[1;32msrc\\lxml\\parser.pxi\u001b[0m in \u001b[0;36mlxml.etree._BaseParser._parseDocFromFile\u001b[1;34m()\u001b[0m\n",
      "\u001b[1;32msrc\\lxml\\parser.pxi\u001b[0m in \u001b[0;36mlxml.etree._ParserContext._handleParseResultDoc\u001b[1;34m()\u001b[0m\n",
      "\u001b[1;32msrc\\lxml\\parser.pxi\u001b[0m in \u001b[0;36mlxml.etree._handleParseResult\u001b[1;34m()\u001b[0m\n",
      "\u001b[1;32msrc\\lxml\\parser.pxi\u001b[0m in \u001b[0;36mlxml.etree._raiseParseError\u001b[1;34m()\u001b[0m\n",
      "\u001b[1;31mOSError\u001b[0m: Error reading file '<?xml version=\"1.0\" encoding=\"windows-1251\"?><ValCurs Date=\"23.07.2020\" name=\"Foreign Currency Market\"><Valute ID=\"R01010\"><NumCode>036</NumCode><CharCode>AUD</CharCode><Nominal>1</Nominal><Name>Àâñòðàëèéñêèé äîëëàð</Name><Value>50,4365</Value></Valute><Valute ID=\"R01020A\"><NumCode>944</NumCode><CharCode>AZN</CharCode><Nominal>1</Nominal><Name>Àçåðáàéäæàíñêèé ìàíàò</Name><Value>41,6646</Value></Valute><Valute ID=\"R01035\"><NumCode>826</NumCode><CharCode>GBP</CharCode><Nominal>1</Nominal><Name>Ôóíò ñòåðëèíãîâ Ñîåäèíåííîãî êîðîëåâñòâà</Name><Value>89,5611</Value></Valute><Valute ID=\"R01060\"><NumCode>051</NumCode><CharCode>AMD</CharCode><Nominal>100</Nominal><Name>Àðìÿíñêèõ äðàìîâ</Name><Value>14,6015</Value></Valute><Valute ID=\"R01090B\"><NumCode>933</NumCode><CharCode>BYN</CharCode><Nominal>1</Nominal><Name>Áåëîðóññêèé ðóáëü</Name><Value>29,7030</Value></Valute><Valute ID=\"R01100\"><NumCode>975</NumCode><CharCode>BGN</CharCode><Nominal>1</Nominal><Name>Áîëãàðñêèé ëåâ</Name><Value>41,6793</Value></Valute><Valute ID=\"R01115\"><NumCode>986</NumCode><CharCode>BRL</CharCode><Nominal>1</Nominal><Name>Áðàçèëüñêèé ðåàë</Name><Value>13,6902</Value></Valute><Valute ID=\"R01135\"><NumCode>348</NumCode><CharCode>HUF</CharCode><Nominal>100</Nominal><Name>Âåíãåðñêèõ ôîðèíòîâ</Name><Value>23,2481</Value></Valute><Valute ID=\"R01200\"><NumCode>344</NumCode><CharCode>HKD</CharCode><Nominal>10</Nominal><Name>Ãîíêîíãñêèõ äîëëàðîâ</Name><Value>91,3265</Value></Valute><Valute ID=\"R01215\"><NumCode>208</NumCode><CharCode>DKK</CharCode><Nominal>1</Nominal><Name>Äàòñêàÿ êðîíà</Name><Value>10,9530</Value></Valute><Valute ID=\"R01235\"><NumCode>840</NumCode><CharCode>USD</CharCode><Nominal>1</Nominal><Name>Äîëëàð ÑØÀ</Name><Value>70,7881</Value></Valute><Valute ID=\"R01239\"><NumCode>978</NumCode><CharCode>EUR</CharCode><Nominal>1</Nominal><Name>Åâðî</Name><Value>81,5904</Value></Valute><Valute ID=\"R01270\"><NumCode>356</NumCode><CharCode>INR</CharCode><Nominal>100</Nominal><Name>Èíäèéñêèõ ðóïèé</Name><Value>94,6859</Value></Valute><Valute ID=\"R01335\"><NumCode>398</NumCode><CharCode>KZT</CharCode><Nominal>100</Nominal><Name>Êàçàõñòàíñêèõ òåíãå</Name><Value>17,1553</Value></Valute><Valute ID=\"R01350\"><NumCode>124</NumCode><CharCode>CAD</CharCode><Nominal>1</Nominal><Name>Êàíàäñêèé äîëëàð</Name><Value>52,5329</Value></Valute><Valute ID=\"R01370\"><NumCode>417</NumCode><CharCode>KGS</CharCode><Nominal>100</Nominal><Name>Êèðãèçñêèõ ñîìîâ</Name><Value>91,2609</Value></Valute><Valute ID=\"R01375\"><NumCode>156</NumCode><CharCode>CNY</CharCode><Nominal>1</Nominal><Name>Êèòàéñêèé þàíü</Name><Value>10,1055</Value></Valute><Valute ID=\"R01500\"><NumCode>498</NumCode><CharCode>MDL</CharCode><Nominal>10</Nominal><Name>Ìîëäàâñêèõ ëååâ</Name><Value>41,7752</Value></Valute><Valute ID=\"R01535\"><NumCode>578</NumCode><CharCode>NOK</CharCode><Nominal>10</Nominal><Name>Íîðâåæñêèõ êðîí</Name><Value>77,3057</Value></Valute><Valute ID=\"R01565\"><NumCode>985</NumCode><CharCode>PLN</CharCode><Nominal>1</Nominal><Name>Ïîëüñêèé çëîòûé</Name><Value>18,3555</Value></Valute><Valute ID=\"R01585F\"><NumCode>946</NumCode><CharCode>RON</CharCode><Nominal>1</Nominal><Name>Ðóìûíñêèé ëåé</Name><Value>16,8407</Value></Valute><Valute ID=\"R01589\"><NumCode>960</NumCode><CharCode>XDR</CharCode><Nominal>1</Nominal><Name>ÑÄÐ (ñïåöèàëüíûå ïðàâà çàèìñòâîâàíèÿ)</Name><Value>98,4330</Value></Valute><Valute ID=\"R01625\"><NumCode>702</NumCode><CharCode>SGD</CharCode><Nominal>1</Nominal><Name>Ñèíãàïóðñêèé äîëëàð</Name><Value>51,0626</Value></Valute><Valute ID=\"R01670\"><NumCode>972</NumCode><CharCode>TJS</CharCode><Nominal>10</Nominal><Name>Òàäæèêñêèõ ñîìîíè</Name><Value>68,7263</Value></Valute><Valute ID=\"R01700J\"><NumCode>949</NumCode><CharCode>TRY</CharCode><Nominal>1</Nominal><Name>Òóðåöêàÿ ëèðà</Name><Value>10,3328</Value></Valute><Valute ID=\"R01710A\"><NumCode>934</NumCode><CharCode>TMT</CharCode><Nominal>1</Nominal><Name>Íîâûé òóðêìåíñêèé ìàíàò</Name><Value>20,2541</Value></Valute><Valute ID=\"R01717\"><NumCode>860</NumCode><CharCode>UZS</CharCode><Nominal>10000</Nominal><Name>Óçáåêñêèõ ñóìîâ</Name><Value>69,3295</Value></Valute><Valute ID=\"R01720\"><NumCode>980</NumCode><CharCode>UAH</CharCode><Nominal>10</Nominal><Name>Óêðàèíñêèõ ãðèâåí</Name><Value>25,4794</Value></Valute><Valute ID=\"R01760\"><NumCode>203</NumCode><CharCode>CZK</CharCode><Nominal>10</Nominal><Name>×åøñêèõ êðîí</Name><Value>30,8620</Value></Valute><Valute ID=\"R01770\"><NumCode>752</NumCode><CharCode>SEK</CharCode><Nominal>10</Nominal><Name>Øâåäñêèõ êðîí</Name><Value>79,5024</Value></Valute><Valute ID=\"R01775\"><NumCode>756</NumCode><CharCode>CHF</CharCode><Nominal>1</Nominal><Name>Øâåéöàðñêèé ôðàíê</Name><Value>75,8309</Value></Valute><Valute ID=\"R01810\"><NumCode>710</NumCode><CharCode>ZAR</CharCode><Nominal>10</Nominal><Name>Þæíîàôðèêàíñêèõ ðýíäîâ</Name><Value>42,9235</Value></Valute><Valute ID=\"R01815\"><NumCode>410</NumCode><CharCode>KRW</CharCode><Nominal>1000</Nominal><Name>Âîí Ðåñïóáëèêè Êîðåÿ</Name><Value>59,0960</Value></Valute><Valute ID=\"R01820\"><NumCode>392</NumCode><CharCode>JPY</CharCode><Nominal>100</Nominal><Name>ßïîíñêèõ èåí</Name><Value>66,1788</Value></Valute></ValCurs>': failed to load external entity \"<?xml version=\"1.0\" encoding=\"windows-1251\"?><ValCurs Date=\"23.07.2020\" name=\"Foreign Currency Market\"><Valute ID=\"R01010\"><NumCode>036</NumCode><CharCode>AUD</CharCode><Nominal>1</Nominal><Name>Àâñòðàëèéñêèé äîëëàð</Name><Value>50,4365</Value></Valute><Valute ID=\"R01020A\"><NumCode>944</NumCode><CharCode>AZN</CharCode><Nominal>1</Nominal><Name>Àçåðáàéäæàíñêèé ìàíàò</Name><Value>41,6646</Value></Valute><Valute ID=\"R01035\"><NumCode>826</NumCode><CharCode>GBP</CharCode><Nominal>1</Nominal><Name>Ôóíò ñòåðëèíãîâ Ñîåäèíåííîãî êîðîëåâñòâà</Name><Value>89,5611</Value></Valute><Valute ID=\"R01060\"><NumCode>051</NumCode><CharCode>AMD</CharCode><Nominal>100</Nominal><Name>Àðìÿíñêèõ äðàìîâ</Name><Value>14,6015</Value></Valute><Valute ID=\"R01090B\"><NumCode>933</NumCode><CharCode>BYN</CharCode><Nominal>1</Nominal><Name>Áåëîðóññêèé ðóáëü</Name><Value>29,7030</Value></Valute><Valute ID=\"R01100\"><NumCode>975</NumCode><CharCode>BGN</CharCode><Nominal>1</Nominal><Name>Áîëãàðñêèé ëåâ</Name><Value>41,6793</Value></Valute><Valute ID=\"R01115\"><NumCode>986</NumCode><CharCode>BRL</CharCode><Nominal>1</Nominal><Name>Áðàçèëüñêèé ðåàë</Name><Value>13,6902</Value></Valute><Valute ID=\"R01135\"><NumCode>348</NumCode><CharCode>HUF</CharCode><Nominal>100</Nominal><Name>Âåíãåðñêèõ ôîðèíòîâ</Name><Value>23,2481</Value></Valute><Valute ID=\"R01200\"><NumCode>344</NumCode><CharCode>HKD</CharCode><Nominal>10</Nominal><Name>Ãîíêîíãñêèõ äîëëàðîâ</Name><Value>91,3265</Value></Valute><Valute ID=\"R01215\"><NumCode>208</NumCode><CharCode>DKK</CharCode><Nominal>1</Nominal><Name>Äàòñêàÿ êðîíà</Name><Value>10,9530</Value></Valute><Valute ID=\"R01235\"><NumCode>840</NumCode><CharCode>USD</CharCode><Nominal>1</Nominal><Name>Äîëëàð ÑØÀ</Name><Value>70,7881</Value></Valute><Valute ID=\"R01239\"><NumCode>978</NumCode><CharCode>EUR</CharCode><Nominal>1</Nominal><Name>Åâðî</Name><Value>81,5904</Value></Valute><Valute ID=\"R01270\"><NumCode>356</NumCode><CharCode>INR</CharCode><Nominal>100</Nominal><Name>Èíäèéñêèõ ðóïèé</Name><Value>94,6859</Value></Valute><Valute ID=\"R01335\"><NumCode>398</NumCode><CharCode>KZT</CharCode><Nominal>100</Nominal><Name>Êàçàõñòàíñêèõ òåíãå</Name><Value>17,1553</Value></Valute><Valute ID=\"R01350\"><NumCode>124</NumCode><CharCode>CAD</CharCode><Nominal>1</Nominal><Name>Êàíàäñêèé äîëëàð</Name><Value>52,5329</Value></Valute><Valute ID=\"R01370\"><NumCode>417</NumCode><CharCode>KGS</CharCode><Nominal>100</Nominal><Name>Êèðãèçñêèõ ñîìîâ</Name><Value>91,2609</Value></Valute><Valute ID=\"R01375\"><NumCode>156</NumCode><CharCode>CNY</CharCode><Nominal>1</Nominal><Name>Êèòàéñêèé þàíü</Name><Value>10,1055</Value></Valute><Valute ID=\"R01500\"><NumCode>498</NumCode><CharCode>MDL</CharCode><Nominal>10</Nominal><Name>Ìîëäàâñêèõ ëååâ</Name><Value>41,7752</Value></Valute><Valute ID=\"R01535\"><NumCode>578</NumCode><CharCode>NOK</CharCode><Nominal>10</Nominal><Name>Íîðâåæñêèõ êðîí</Name><Value>77,3057</Value></Valute><Valute ID=\"R01565\"><NumCode>985</NumCode><CharCode>PLN</CharCode><Nominal>1</Nominal><Name>Ïîëüñêèé çëîòûé</Name><Value>18,3555</Value></Valute><Valute ID=\"R01585F\"><NumCode>946</NumCode><CharCode>RON</CharCode><Nominal>1</Nominal><Name>Ðóìûíñêèé ëåé</Name><Value>16,8407</Value></Valute><Valute ID=\"R01589\"><NumCode>960</NumCode><CharCode>XDR</CharCode><Nominal>1</Nominal><Name>ÑÄÐ (ñïåöèàëüíûå ïðàâà çàèìñòâîâàíèÿ)</Name><Value>98,4330</Value></Valute><Valute ID=\"R01625\"><NumCode>702</NumCode><CharCode>SGD</CharCode><Nominal>1</Nominal><Name>Ñèíãàïóðñêèé äîëëàð</Name><Value>51,0626</Value></Valute><Valute ID=\"R01670\"><NumCode>972</NumCode><CharCode>TJS</CharCode><Nominal>10</Nominal><Name>Òàäæèêñêèõ ñîìîíè</Name><Value>68,7263</Value></Valute><Valute ID=\"R01700J\"><NumCode>949</NumCode><CharCode>TRY</CharCode><Nominal>1</Nominal><Name>Òóðåöêàÿ ëèðà</Name><Value>10,3328</Value></Valute><Valute ID=\"R01710A\"><NumCode>934</NumCode><CharCode>TMT</CharCode><Nominal>1</Nominal><Name>Íîâûé òóðêìåíñêèé ìàíàò</Name><Value>20,2541</Value></Valute><Valute ID=\"R01717\"><NumCode>860</NumCode><CharCode>UZS</CharCode><Nominal>10000</Nominal><Name>Óçáåêñêèõ ñóìîâ</Name><Value>69,3295</Value></Valute><Valute ID=\"R01720\"><NumCode>980</NumCode><CharCode>UAH</CharCode><Nominal>10</Nominal><Name>Óêðàèíñêèõ ãðèâåí</Name><Value>25,4794</Value></Valute><Valute ID=\"R01760\"><NumCode>203</NumCode><CharCode>CZK</CharCode><Nominal>10</Nominal><Name>×åøñêèõ êðîí</Name><Value>30,8620</Value></Valute><Valute ID=\"R01770\"><NumCode>752</NumCode><CharCode>SEK</CharCode><Nominal>10</Nominal><Name>Øâåäñêèõ êðîí</Name><Value>79,5024</Value></Valute><Valute ID=\"R01775\"><NumCode>756</NumCode><CharCode>CHF</CharCode><Nominal>1</Nominal><Name>Øâåéöàðñêèé ôðàíê</Name><Value>75,8309</Value></Valute><Valute ID=\"R01810\"><NumCode>710</NumCode><CharCode>ZAR</CharCode><Nominal>10</Nominal><Name>Þæíîàôðèêàíñêèõ ðýíäîâ</Name><Value>42,9235</Value></Valute><Valute ID=\"R01815\"><NumCode>410</NumCode><CharCode>KRW</CharCode><Nominal>1000</Nominal><Name>Âîí Ðåñïóáëèêè Êîðåÿ</Name><Value>59,0960</Value></Valute><Valute ID=\"R01820\"><NumCode>392</NumCode><CharCode>JPY</CharCode><Nominal>100</Nominal><Name>ßïîíñêèõ èåí</Name><Value>66,1788</Value></Valute></ValCurs>\""
     ]
    }
   ],
   "source": [
    "#tree = etree.iterparse(xml, events = (\"start\",\"end\"));\n",
    "\n",
    "parser = etree.XMLParser(remove_blank_text=True)\n",
    "tree = etree.parse(xml, parser)"
   ]
  },
  {
   "cell_type": "code",
   "execution_count": null,
   "metadata": {},
   "outputs": [],
   "source": []
  }
 ],
 "metadata": {
  "kernelspec": {
   "display_name": "Python 3",
   "language": "python",
   "name": "python3"
  },
  "language_info": {
   "codemirror_mode": {
    "name": "ipython",
    "version": 3
   },
   "file_extension": ".py",
   "mimetype": "text/x-python",
   "name": "python",
   "nbconvert_exporter": "python",
   "pygments_lexer": "ipython3",
   "version": "3.8.0"
  }
 },
 "nbformat": 4,
 "nbformat_minor": 4
}
