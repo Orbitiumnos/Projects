{
 "cells": [
  {
   "cell_type": "markdown",
   "metadata": {},
   "source": [
    "# Лабораторная работа №2. Дискриминантный анализ.\n"
   ]
  },
  {
   "cell_type": "markdown",
   "metadata": {},
   "source": [
    "### 1. Подготовка библиотек\n",
    "Импортируем необходимые библиотеки:"
   ]
  },
  {
   "cell_type": "code",
   "execution_count": 1,
   "metadata": {},
   "outputs": [],
   "source": [
    "import numpy as np # поддерживает матрицы, массивы, мат.функции для них\n",
    "import pandas as pd # библиотека для анализа данных\n",
    "from scipy.stats import f\n",
    "from scipy.spatial.distance import mahalanobis\n",
    "from sklearn.discriminant_analysis import LinearDiscriminantAnalysis"
   ]
  },
  {
   "cell_type": "markdown",
   "metadata": {},
   "source": [
    "### 2. Преддискриминантный этап анализа\n",
    "Целью дискриминантного анализа является разделение рассматриваемой совокупности объектов или явлений на заданные обучающими выборками классы. Исходные данные для анализа представлены в виде матрицы.\n",
    "\n",
    "Есть два способа создания тренировочной выборки - с помощью списка TRAIN_SAMPLES или заполнение вручную стобца в Excel-файле."
   ]
  },
  {
   "cell_type": "code",
   "execution_count": 2,
   "metadata": {},
   "outputs": [],
   "source": [
    "_ = \\\n",
    "\"\"\"\n",
    "    Что поменять:\n",
    "        0) названия файлов, для считывания и для записи(этот в самом конце)\n",
    "        1) FEATURES\n",
    "        2) задать TRAIN_SAMPLES, если не задается, то удалить параметр из вызова функции gen_train_data\n",
    "        3) задать F to enter в sda\n",
    "\"\"\""
   ]
  },
  {
   "cell_type": "code",
   "execution_count": 3,
   "metadata": {},
   "outputs": [],
   "source": [
    "# В переменную FEATURES записываем названия показателей\n",
    "FEATURES = [\"Население\",\"ОК(кроме 6001) Возм. не представлено (объем)\",\"ОК(кроме 6001) Возм. не представлено (кол-во)\",\"Расходные операции 6001(кол-во)\",\"Приходные операции 6001(кол-во)\",\"Расходные операции 6001\",\"Доли выв. ДС в заруб. банки\",\"Кол-во риск-ориентировок запросы\",\"Кол-во проверок\",\"КВО 4005 Всего (объем)\",\"КВО 4005 Всего (кол-во)\",\"ВК (6001) Всего (объем)\",\"ВК (6001) Всего (кол-во)\",\"Приходные операции 6001\",\"05 Доли сомнительных операций\",\"Общий объем опер.90дн.\",\"Общее кол-во опер.90дн.\",\"ВК (6001) Всего (объем)90дн.\",\"Общий объем опер.30дн.\",\"ВК (6001) Всего (кол-во)90дн.\",\"Общее кол-во опер.30дн.\",\"09 Доли возм. не представленных сообщений\",\"08 Доли кол-во КВО 5007 возм. не предст. сообщений\",\"КВО 5007 Всего (кол-во)\",\"КВО 5007 Всего (объем)\",\"КВО 5007 Возм. не представлено (объем)\",\"07 Доли объема возм. не предст. сообщений по ВК\",\"КВО 5007 Возм. не представлено (кол-во)\",\"06 Доли объема возм. не предст. сообщений по ОК\",\"03 Доли выв. ДС в заруб. банки(без оффш.)\",\"04 Доли выв. ДС в оффшор. банки\",\"02 Доли опер. обналич\",\"01 Доли опер. с фиктивными\",\"КВО 4007 Всего (кол-во)\",\"КВО 4007 Всего (объем)\",\"КВО 4007 Возм. не представлено (объем)\",\"КВО 4007 Возм. не представлено (кол-во)\",\"ВК(6001) Возм. не представлено (объем)\",\"ВК(6001) Возм. не представлено (кол-во)\",\"Сообщения объем 4077 (3041)\",\"Сообщения кол-во 4077 (3041)\",\"Приход/расход 6001\",\"Приход/расход\",\"Снятие наличных денежных средств\",\"Сомнительные операции\",\"Перечисления со счетов оффшорных банков\",\"Перечисления со счетов зарубежных банков\",\"Перечисления на счета в оффшорных банках\",\"Перечисления на счета в зарубежных банках(без оффш.)\",\"Перечисления на счета в зарубежных банках\",\"Операции с организациями, имеющими признаки фиктивности(кол-во)\",\"Операции с организациями, имеющими признаки фиктивности\",\"Общий объем операций 6001\",\"ВК(6001) Всего (кол-во)\",\"ВК(6001) Всего (объем)\",\"Общий объем операций (руб.)\",\"Общее кол-во операций 6001\",\"Общее кол-во операций\",\"Обороты за отчетный период по кредиту «итого», тыс.руб.;счета Депо – в штуках\",\"Сотня по активам\",\"Общий объем операций с бюдж. орг.\",\"Обороты за отчетный период по дебету «итого», тыс.руб.;счета Депо – в штуках\",\"Кол-во юр. лиц\",\"Кол-во фиктивности  юр. лиц\",\"Кол-во физ. лиц\",\"Кол-во получ. бюджетных средств\",\"Кол-во не опоз. юл/фл\",\"Кол-во клиентов-нерезидентов\",\"Доли фиктивности  юр. лиц\",\"Кол-во клиентов есть счет\",\"Кол-во клиентов\",\"Доли клиентов физ. лиц\",\"Доли клиентов юр. лиц\",\"Доли  клиентов-нерезидентов\"] \n"
   ]
  },
  {
   "cell_type": "code",
   "execution_count": 4,
   "metadata": {
    "scrolled": true
   },
   "outputs": [
    {
     "data": {
      "text/html": [
       "<div>\n",
       "<style scoped>\n",
       "    .dataframe tbody tr th:only-of-type {\n",
       "        vertical-align: middle;\n",
       "    }\n",
       "\n",
       "    .dataframe tbody tr th {\n",
       "        vertical-align: top;\n",
       "    }\n",
       "\n",
       "    .dataframe thead th {\n",
       "        text-align: right;\n",
       "    }\n",
       "</style>\n",
       "<table border=\"1\" class=\"dataframe\">\n",
       "  <thead>\n",
       "    <tr style=\"text-align: right;\">\n",
       "      <th></th>\n",
       "      <th>Население</th>\n",
       "      <th>ОК(кроме 6001) Возм. не представлено (объем)</th>\n",
       "      <th>ОК(кроме 6001) Возм. не представлено (кол-во)</th>\n",
       "      <th>Расходные операции 6001(кол-во)</th>\n",
       "      <th>Приходные операции 6001(кол-во)</th>\n",
       "      <th>Расходные операции 6001</th>\n",
       "      <th>Доли выв. ДС в заруб. банки</th>\n",
       "      <th>Кол-во риск-ориентировок запросы</th>\n",
       "      <th>Кол-во проверок</th>\n",
       "      <th>КВО 4005 Всего (объем)</th>\n",
       "      <th>...</th>\n",
       "      <th>Кол-во получ. бюджетных средств</th>\n",
       "      <th>Кол-во не опоз. юл/фл</th>\n",
       "      <th>Кол-во клиентов-нерезидентов</th>\n",
       "      <th>Доли фиктивности  юр. лиц</th>\n",
       "      <th>Кол-во клиентов есть счет</th>\n",
       "      <th>Кол-во клиентов</th>\n",
       "      <th>Доли клиентов физ. лиц</th>\n",
       "      <th>Доли клиентов юр. лиц</th>\n",
       "      <th>Доли  клиентов-нерезидентов</th>\n",
       "      <th>Train sample</th>\n",
       "    </tr>\n",
       "  </thead>\n",
       "  <tbody>\n",
       "    <tr>\n",
       "      <th>0</th>\n",
       "      <td>12263861</td>\n",
       "      <td>280074328480</td>\n",
       "      <td>18766</td>\n",
       "      <td>11492</td>\n",
       "      <td>21298</td>\n",
       "      <td>20183270043</td>\n",
       "      <td>6.863105</td>\n",
       "      <td>1</td>\n",
       "      <td>0</td>\n",
       "      <td>52373287768</td>\n",
       "      <td>...</td>\n",
       "      <td>25</td>\n",
       "      <td>56</td>\n",
       "      <td>396</td>\n",
       "      <td>7.448889</td>\n",
       "      <td>18304</td>\n",
       "      <td>19261</td>\n",
       "      <td>39.171766</td>\n",
       "      <td>61.461976</td>\n",
       "      <td>2.163462</td>\n",
       "      <td>0.0</td>\n",
       "    </tr>\n",
       "    <tr>\n",
       "      <th>1</th>\n",
       "      <td>5208690</td>\n",
       "      <td>157537353</td>\n",
       "      <td>205</td>\n",
       "      <td>223</td>\n",
       "      <td>114</td>\n",
       "      <td>169231559</td>\n",
       "      <td>0.000000</td>\n",
       "      <td>0</td>\n",
       "      <td>0</td>\n",
       "      <td>1623086106</td>\n",
       "      <td>...</td>\n",
       "      <td>0</td>\n",
       "      <td>0</td>\n",
       "      <td>1</td>\n",
       "      <td>7.171315</td>\n",
       "      <td>277</td>\n",
       "      <td>304</td>\n",
       "      <td>9.386282</td>\n",
       "      <td>90.613718</td>\n",
       "      <td>0.361011</td>\n",
       "      <td>0.0</td>\n",
       "    </tr>\n",
       "    <tr>\n",
       "      <th>2</th>\n",
       "      <td>12263861</td>\n",
       "      <td>0</td>\n",
       "      <td>0</td>\n",
       "      <td>0</td>\n",
       "      <td>0</td>\n",
       "      <td>0</td>\n",
       "      <td>0.000000</td>\n",
       "      <td>0</td>\n",
       "      <td>0</td>\n",
       "      <td>0</td>\n",
       "      <td>...</td>\n",
       "      <td>0</td>\n",
       "      <td>0</td>\n",
       "      <td>0</td>\n",
       "      <td>0.000000</td>\n",
       "      <td>0</td>\n",
       "      <td>0</td>\n",
       "      <td>0.000000</td>\n",
       "      <td>0.000000</td>\n",
       "      <td>0.000000</td>\n",
       "      <td>0.0</td>\n",
       "    </tr>\n",
       "    <tr>\n",
       "      <th>3</th>\n",
       "      <td>12263861</td>\n",
       "      <td>8123066430</td>\n",
       "      <td>994</td>\n",
       "      <td>487</td>\n",
       "      <td>360</td>\n",
       "      <td>529987788</td>\n",
       "      <td>0.222585</td>\n",
       "      <td>0</td>\n",
       "      <td>0</td>\n",
       "      <td>879015244</td>\n",
       "      <td>...</td>\n",
       "      <td>12</td>\n",
       "      <td>3</td>\n",
       "      <td>5</td>\n",
       "      <td>8.755130</td>\n",
       "      <td>812</td>\n",
       "      <td>854</td>\n",
       "      <td>10.344828</td>\n",
       "      <td>90.024631</td>\n",
       "      <td>0.615764</td>\n",
       "      <td>0.0</td>\n",
       "    </tr>\n",
       "    <tr>\n",
       "      <th>4</th>\n",
       "      <td>12263861</td>\n",
       "      <td>0</td>\n",
       "      <td>0</td>\n",
       "      <td>0</td>\n",
       "      <td>0</td>\n",
       "      <td>0</td>\n",
       "      <td>0.000000</td>\n",
       "      <td>0</td>\n",
       "      <td>0</td>\n",
       "      <td>0</td>\n",
       "      <td>...</td>\n",
       "      <td>0</td>\n",
       "      <td>0</td>\n",
       "      <td>0</td>\n",
       "      <td>0.000000</td>\n",
       "      <td>24</td>\n",
       "      <td>24</td>\n",
       "      <td>37.500000</td>\n",
       "      <td>62.500000</td>\n",
       "      <td>0.000000</td>\n",
       "      <td>1.0</td>\n",
       "    </tr>\n",
       "  </tbody>\n",
       "</table>\n",
       "<p>5 rows × 75 columns</p>\n",
       "</div>"
      ],
      "text/plain": [
       "   Население  ОК(кроме 6001) Возм. не представлено (объем)  \\\n",
       "0   12263861                                  280074328480   \n",
       "1    5208690                                     157537353   \n",
       "2   12263861                                             0   \n",
       "3   12263861                                    8123066430   \n",
       "4   12263861                                             0   \n",
       "\n",
       "   ОК(кроме 6001) Возм. не представлено (кол-во)  \\\n",
       "0                                          18766   \n",
       "1                                            205   \n",
       "2                                              0   \n",
       "3                                            994   \n",
       "4                                              0   \n",
       "\n",
       "   Расходные операции 6001(кол-во)  Приходные операции 6001(кол-во)  \\\n",
       "0                            11492                            21298   \n",
       "1                              223                              114   \n",
       "2                                0                                0   \n",
       "3                              487                              360   \n",
       "4                                0                                0   \n",
       "\n",
       "   Расходные операции 6001  Доли выв. ДС в заруб. банки  \\\n",
       "0              20183270043                     6.863105   \n",
       "1                169231559                     0.000000   \n",
       "2                        0                     0.000000   \n",
       "3                529987788                     0.222585   \n",
       "4                        0                     0.000000   \n",
       "\n",
       "   Кол-во риск-ориентировок запросы  Кол-во проверок  КВО 4005 Всего (объем)  \\\n",
       "0                                 1                0             52373287768   \n",
       "1                                 0                0              1623086106   \n",
       "2                                 0                0                       0   \n",
       "3                                 0                0               879015244   \n",
       "4                                 0                0                       0   \n",
       "\n",
       "       ...       Кол-во получ. бюджетных средств  Кол-во не опоз. юл/фл  \\\n",
       "0      ...                                    25                     56   \n",
       "1      ...                                     0                      0   \n",
       "2      ...                                     0                      0   \n",
       "3      ...                                    12                      3   \n",
       "4      ...                                     0                      0   \n",
       "\n",
       "   Кол-во клиентов-нерезидентов  Доли фиктивности  юр. лиц  \\\n",
       "0                           396                   7.448889   \n",
       "1                             1                   7.171315   \n",
       "2                             0                   0.000000   \n",
       "3                             5                   8.755130   \n",
       "4                             0                   0.000000   \n",
       "\n",
       "   Кол-во клиентов есть счет  Кол-во клиентов  Доли клиентов физ. лиц  \\\n",
       "0                      18304            19261               39.171766   \n",
       "1                        277              304                9.386282   \n",
       "2                          0                0                0.000000   \n",
       "3                        812              854               10.344828   \n",
       "4                         24               24               37.500000   \n",
       "\n",
       "   Доли клиентов юр. лиц  Доли  клиентов-нерезидентов  Train sample  \n",
       "0              61.461976                     2.163462           0.0  \n",
       "1              90.613718                     0.361011           0.0  \n",
       "2               0.000000                     0.000000           0.0  \n",
       "3              90.024631                     0.615764           0.0  \n",
       "4              62.500000                     0.000000           1.0  \n",
       "\n",
       "[5 rows x 75 columns]"
      ]
     },
     "execution_count": 4,
     "metadata": {},
     "output_type": "execute_result"
    }
   ],
   "source": [
    "data = pd.read_excel(r'C:\\Users\\Николай\\Downloads\\Dannye_UIR.xlsx',0)\n",
    "FEATURES = list(data.columns.values)\n",
    "f_len = len (FEATURES)                \n",
    "data.head()"
   ]
  },
  {
   "cell_type": "code",
   "execution_count": 5,
   "metadata": {},
   "outputs": [],
   "source": [
    "val = []\n",
    "i = 0\n",
    "for name in FEATURES:\n",
    "    #print(name)\n",
    "    val.append(data.columns[i].replace(name,'X'+str(i+1)))\n",
    "    i = i+1\n",
    "data.columns = val\n",
    "\n",
    "FEATURES = list(data.columns.values)"
   ]
  },
  {
   "cell_type": "markdown",
   "metadata": {},
   "source": [
    "Создаем новую переменную, в которую будем записывать все данные, которые необходимо включить в итоговый Excel-файл."
   ]
  },
  {
   "cell_type": "code",
   "execution_count": 6,
   "metadata": {},
   "outputs": [],
   "source": [
    "data_to_excel = data[FEATURES]"
   ]
  },
  {
   "cell_type": "markdown",
   "metadata": {},
   "source": [
    "Далее, вводим функцию gen_train_data по созданию тренировочной выборки.\n",
    "<br>Аргументы функции: \n",
    "- data - данные для анализа\n",
    "- features - названия признаков \n",
    "- train_samples - опциональный параметр: если он передан, то разбиение классов обучающей выборкой задается при помощи train_samples (1 часть ЛР), в противном случае разбиение должно присутствовать в одном из столбцов data (2 часть ЛР)"
   ]
  },
  {
   "cell_type": "code",
   "execution_count": 7,
   "metadata": {},
   "outputs": [],
   "source": [
    "def gen_train_data(data, features, train_samples=None):\n",
    "    if train_samples: # если опциональный параметр задан\n",
    "        train_data = pd.DataFrame() # создаем тренировочную выборку, пока пустую\n",
    "        for cls, samples in train_samples.items(): # в cls записываем номера классов, в samples список объектов этого класса\n",
    "            train_samps = data[features].loc[samples] # выбираем объекты обучающей выборки\n",
    "            train_samps[\"Class\"] = cls # добавляем к ним колонку с номером класса\n",
    "            train_data = pd.concat([train_data, train_samps]) # concat - функция объединения таблиц\n",
    "    else:\n",
    "        assert data.shape[1] == len(features) + 1 # если в исходном файле нет доп.колонки с разбиением, выдаст ошибку\n",
    "        train_data = data.dropna() # берем в тренировочную выборку только те строки, где проставлены классы\n",
    "        cls_col = train_data.drop(columns=features).columns[0] \n",
    "        train_data = train_data.rename({cls_col: \"Class\"}, axis=1) # переименовываем колонку с обучающей выборкой на  \"Class\"\n",
    "    train_data = train_data.astype({\"Class\": 'int32'}) # присваем колонке \"Class\" тип int\n",
    "    return train_data"
   ]
  },
  {
   "cell_type": "code",
   "execution_count": 8,
   "metadata": {},
   "outputs": [
    {
     "ename": "AssertionError",
     "evalue": "",
     "output_type": "error",
     "traceback": [
      "\u001b[1;31m---------------------------------------------------------------------------\u001b[0m",
      "\u001b[1;31mAssertionError\u001b[0m                            Traceback (most recent call last)",
      "\u001b[1;32m<ipython-input-8-61795050d126>\u001b[0m in \u001b[0;36m<module>\u001b[1;34m()\u001b[0m\n\u001b[0;32m      1\u001b[0m \u001b[1;31m# если классы заданы в файле - TRAIN_SAMPLES надо удалить\u001b[0m\u001b[1;33m\u001b[0m\u001b[1;33m\u001b[0m\u001b[0m\n\u001b[1;32m----> 2\u001b[1;33m \u001b[0mtrain_data\u001b[0m \u001b[1;33m=\u001b[0m \u001b[0mgen_train_data\u001b[0m\u001b[1;33m(\u001b[0m\u001b[0mdata\u001b[0m\u001b[1;33m,\u001b[0m \u001b[0mFEATURES\u001b[0m\u001b[1;33m)\u001b[0m\u001b[1;33m\u001b[0m\u001b[0m\n\u001b[0m\u001b[0;32m      3\u001b[0m \u001b[0mtrain_data\u001b[0m\u001b[1;33m.\u001b[0m\u001b[0mhead\u001b[0m\u001b[1;33m(\u001b[0m\u001b[1;36m5\u001b[0m\u001b[1;33m)\u001b[0m \u001b[1;31m# смотрим результаты работы функции gen_train_data\u001b[0m\u001b[1;33m\u001b[0m\u001b[0m\n",
      "\u001b[1;32m<ipython-input-7-c81aa923dd77>\u001b[0m in \u001b[0;36mgen_train_data\u001b[1;34m(data, features, train_samples)\u001b[0m\n\u001b[0;32m      7\u001b[0m             \u001b[0mtrain_data\u001b[0m \u001b[1;33m=\u001b[0m \u001b[0mpd\u001b[0m\u001b[1;33m.\u001b[0m\u001b[0mconcat\u001b[0m\u001b[1;33m(\u001b[0m\u001b[1;33m[\u001b[0m\u001b[0mtrain_data\u001b[0m\u001b[1;33m,\u001b[0m \u001b[0mtrain_samps\u001b[0m\u001b[1;33m]\u001b[0m\u001b[1;33m)\u001b[0m \u001b[1;31m# concat - функция объединения таблиц\u001b[0m\u001b[1;33m\u001b[0m\u001b[0m\n\u001b[0;32m      8\u001b[0m     \u001b[1;32melse\u001b[0m\u001b[1;33m:\u001b[0m\u001b[1;33m\u001b[0m\u001b[0m\n\u001b[1;32m----> 9\u001b[1;33m         \u001b[1;32massert\u001b[0m \u001b[0mdata\u001b[0m\u001b[1;33m.\u001b[0m\u001b[0mshape\u001b[0m\u001b[1;33m[\u001b[0m\u001b[1;36m1\u001b[0m\u001b[1;33m]\u001b[0m \u001b[1;33m==\u001b[0m \u001b[0mlen\u001b[0m\u001b[1;33m(\u001b[0m\u001b[0mfeatures\u001b[0m\u001b[1;33m)\u001b[0m \u001b[1;33m+\u001b[0m \u001b[1;36m1\u001b[0m \u001b[1;31m# если в исходном файле нет доп.колонки с разбиением, выдаст ошибку\u001b[0m\u001b[1;33m\u001b[0m\u001b[0m\n\u001b[0m\u001b[0;32m     10\u001b[0m         \u001b[0mtrain_data\u001b[0m \u001b[1;33m=\u001b[0m \u001b[0mdata\u001b[0m\u001b[1;33m.\u001b[0m\u001b[0mdropna\u001b[0m\u001b[1;33m(\u001b[0m\u001b[1;33m)\u001b[0m \u001b[1;31m# берем в тренировочную выборку только те строки, где проставлены классы\u001b[0m\u001b[1;33m\u001b[0m\u001b[0m\n\u001b[0;32m     11\u001b[0m         \u001b[0mcls_col\u001b[0m \u001b[1;33m=\u001b[0m \u001b[0mtrain_data\u001b[0m\u001b[1;33m.\u001b[0m\u001b[0mdrop\u001b[0m\u001b[1;33m(\u001b[0m\u001b[0mcolumns\u001b[0m\u001b[1;33m=\u001b[0m\u001b[0mfeatures\u001b[0m\u001b[1;33m)\u001b[0m\u001b[1;33m.\u001b[0m\u001b[0mcolumns\u001b[0m\u001b[1;33m[\u001b[0m\u001b[1;36m0\u001b[0m\u001b[1;33m]\u001b[0m\u001b[1;33m\u001b[0m\u001b[0m\n",
      "\u001b[1;31mAssertionError\u001b[0m: "
     ]
    }
   ],
   "source": [
    "# если классы заданы в файле - TRAIN_SAMPLES надо удалить\n",
    "train_data = gen_train_data(data, FEATURES)\n",
    "train_data.head(5) # смотрим результаты работы функции gen_train_data"
   ]
  },
  {
   "cell_type": "markdown",
   "metadata": {},
   "source": [
    "Добавим столбец с обучающей выборкой в переменную."
   ]
  },
  {
   "cell_type": "code",
   "execution_count": null,
   "metadata": {},
   "outputs": [],
   "source": [
    "data_to_excel[\"Train sample\"] = train_data.Class"
   ]
  },
  {
   "attachments": {
    "image.png": {
     "image/png": "[encoded data removed]"
    }
   },
   "cell_type": "markdown",
   "metadata": {},
   "source": [
    "Для расчета Лямбды Уилкса необходимо знать: <br>\n",
    "1) общая матрица рассеяния: \n",
    "![image.png](attachment:image.png)"
   ]
  },
  {
   "attachments": {
    "image.png": {
     "image/png": "[encoded data removed]"
    }
   },
   "cell_type": "markdown",
   "metadata": {},
   "source": [
    "2) внутриклассовые матрицы разброса\n",
    "![image.png](attachment:image.png)"
   ]
  },
  {
   "attachments": {
    "image.png": {
     "image/png": "[encoded data removed]"
    }
   },
   "cell_type": "markdown",
   "metadata": {},
   "source": [
    "где ![image.png](attachment:image.png)"
   ]
  },
  {
   "cell_type": "code",
   "execution_count": null,
   "metadata": {},
   "outputs": [],
   "source": [
    "# проведем расчет матрицы рассеяния \n",
    "\n",
    "def scatter_matrix(samples):\n",
    "    if isinstance(samples, pd.Series):\n",
    "        samples = samples.to_frame()\n",
    "    d = samples - samples.mean()\n",
    "    res = np.zeros((d.shape[1], d.shape[1]))\n",
    "    for _, row in d.iterrows():\n",
    "        col = row.to_frame()\n",
    "        res += np.dot(col,col.T)\n",
    "    return res"
   ]
  },
  {
   "cell_type": "code",
   "execution_count": null,
   "metadata": {},
   "outputs": [],
   "source": [
    "# проведем расчет внутриклассовых матриц разброса\n",
    "\n",
    "def classes_scatter_matrix(samples, labels):\n",
    "    A = np.zeros((samples.shape[1], samples.shape[1]))\n",
    "    for cls in labels.unique():\n",
    "        A += scatter_matrix(samples[labels == cls])\n",
    "    return A"
   ]
  },
  {
   "cell_type": "markdown",
   "metadata": {},
   "source": [
    "Рассчитаем ковариационную матрицу:"
   ]
  },
  {
   "cell_type": "code",
   "execution_count": null,
   "metadata": {},
   "outputs": [],
   "source": [
    "# выведем ковариационную матрицу\n",
    "# она рассчитывается как классовая матрица рассеяния \"classes_scatter_matrix\", деленная на (кол-во объектов - кол-во классов)\n",
    "\n",
    "cov = pd.DataFrame(\n",
    "    classes_scatter_matrix(train_data[FEATURES], train_data.Class) / (train_data.shape[0] - train_data.Class.unique().size), \n",
    "    index=FEATURES, \n",
    "    columns=FEATURES\n",
    ")\n",
    "\n",
    "cov"
   ]
  },
  {
   "cell_type": "markdown",
   "metadata": {},
   "source": [
    "Для проведения дискриминантного анализа используем возможности класса LinearDiscriminantAnalysis."
   ]
  },
  {
   "cell_type": "code",
   "execution_count": null,
   "metadata": {},
   "outputs": [],
   "source": [
    "# \"обучаем\" модель с помощью метода fit класса LinearDiscriminantAnalysis \n",
    "# в метод fit передаем исходные данные\n",
    "lda = LinearDiscriminantAnalysis().fit(train_data[FEATURES], train_data.Class)"
   ]
  },
  {
   "cell_type": "markdown",
   "metadata": {},
   "source": [
    "Рассчитаем оценки математических ожиданий в классах."
   ]
  },
  {
   "cell_type": "code",
   "execution_count": null,
   "metadata": {},
   "outputs": [],
   "source": [
    "# выведем средние значения параметров для каждого класса обучающей выборки\n",
    "means = pd.DataFrame(lda.means_, index=lda.classes_, columns=FEATURES)\n",
    "means"
   ]
  },
  {
   "cell_type": "markdown",
   "metadata": {},
   "source": [
    "### 3.\tДискриминантный анализ"
   ]
  },
  {
   "cell_type": "markdown",
   "metadata": {},
   "source": [
    "Определим линейные дискриминантные функции Фишера.\n",
    "Зададим функцию вывода коэффициентов функции Фишера."
   ]
  },
  {
   "cell_type": "code",
   "execution_count": null,
   "metadata": {},
   "outputs": [],
   "source": [
    "def get_df_coef(lda, features):\n",
    "    if lda.classes_.size == 2: #если 2 класса, то lda вернет разность коэффициентов функций\n",
    "        return pd.DataFrame(\n",
    "            np.concatenate([lda.intercept_, lda.coef_.ravel()]),\n",
    "            index=[\"Intercept\"] + features,\n",
    "            columns=[\"Discriminant F\"]\n",
    "        )\n",
    "# если 3 и более классов, то lda вернет несколько функций (аналогично ППП Statistica)\n",
    "    return pd.DataFrame(\n",
    "        np.vstack([lda.intercept_, lda.coef_.T]),\n",
    "        index=[\"Intercept\"] + features,\n",
    "        columns=lda.classes_\n",
    "    )"
   ]
  },
  {
   "cell_type": "code",
   "execution_count": null,
   "metadata": {},
   "outputs": [],
   "source": [
    "df_coef = get_df_coef(lda, FEATURES) # применим эту функцию для наших параметров\n",
    "df_coef"
   ]
  },
  {
   "cell_type": "markdown",
   "metadata": {},
   "source": [
    "Зададим функцию расчета квадратов расстояний Махаланобиса между классами, где:\n",
    " - centers - центры классов\n",
    " - samples - объекты, для которых считаем расстояния\n",
    " - cov - ковариационная матрицы"
   ]
  },
  {
   "cell_type": "code",
   "execution_count": null,
   "metadata": {},
   "outputs": [],
   "source": [
    "def calc_mahalanobis_square_dist(centers, samples, cov):\n",
    "    # создаем матрицу расстояний между классами и объекnами\n",
    "    res = pd.DataFrame(index=samples.index, columns=centers.index)\n",
    "    for i in centers.index: # проходим по всем центрам классов\n",
    "        for j in samples.index: # проходим по всем объектам\n",
    "            # считаем расстояние между текущим классом и объектом\n",
    "            res[i][j] = mahalanobis(centers.loc[i], samples.loc[j], np.linalg.inv(cov)) ** 2 \n",
    "    res.head(10)        \n",
    "    return res"
   ]
  },
  {
   "cell_type": "code",
   "execution_count": null,
   "metadata": {
    "scrolled": true
   },
   "outputs": [],
   "source": [
    "# выведем квадраты расстояний Махаланобиса между классами\n",
    "center_distance = calc_mahalanobis_square_dist(means, means, cov)\n",
    "center_distance"
   ]
  },
  {
   "cell_type": "markdown",
   "metadata": {},
   "source": [
    "Выведем оценки априорных вероятностей:"
   ]
  },
  {
   "cell_type": "code",
   "execution_count": null,
   "metadata": {},
   "outputs": [],
   "source": [
    "lda.priors_ "
   ]
  },
  {
   "cell_type": "markdown",
   "metadata": {},
   "source": [
    "Далее, определим функцию вывода номеров классов для переданных X:"
   ]
  },
  {
   "cell_type": "code",
   "execution_count": null,
   "metadata": {},
   "outputs": [],
   "source": [
    "def LDA_predict(lda, X):\n",
    "    return pd.DataFrame(\n",
    "        lda.predict(X),\n",
    "        columns=[\"Class\"],\n",
    "        index=X.index\n",
    "    )"
   ]
  },
  {
   "cell_type": "markdown",
   "metadata": {},
   "source": [
    "Поведем повторную классификацию объектов тренировочной выборки:"
   ]
  },
  {
   "cell_type": "code",
   "execution_count": null,
   "metadata": {},
   "outputs": [],
   "source": [
    "lda_predict_train = LDA_predict(lda, train_data[FEATURES])\n",
    "# сравниваем полученные классы с теми, которые были заданы в начале, и смотрим долю совпадения\n",
    "(lda_predict_train.Class == train_data.Class).value_counts(normalize=True)"
   ]
  },
  {
   "cell_type": "markdown",
   "metadata": {},
   "source": [
    "Получим полную картину классификации всех объектов:"
   ]
  },
  {
   "cell_type": "code",
   "execution_count": null,
   "metadata": {},
   "outputs": [],
   "source": [
    "lda_predict = LDA_predict(lda, data[FEATURES])\n",
    "lda_predict.head"
   ]
  },
  {
   "cell_type": "markdown",
   "metadata": {},
   "source": [
    "Запишем результаты классификации в переменную."
   ]
  },
  {
   "cell_type": "code",
   "execution_count": null,
   "metadata": {},
   "outputs": [],
   "source": [
    "data_to_excel[\"Results lda\"] = lda_predict"
   ]
  },
  {
   "cell_type": "markdown",
   "metadata": {},
   "source": [
    "Выведем квадраты расстояний Махаланобиса между классами и объектами:"
   ]
  },
  {
   "cell_type": "code",
   "execution_count": null,
   "metadata": {},
   "outputs": [],
   "source": [
    "samp_dist = calc_mahalanobis_square_dist(means, data[FEATURES], cov)\n",
    "samp_dist.head()"
   ]
  },
  {
   "cell_type": "code",
   "execution_count": null,
   "metadata": {},
   "outputs": [],
   "source": [
    "data_to_excel = pd.concat([data_to_excel, samp_dist.add_prefix(\"lda mahalanobis \")], axis=1)"
   ]
  },
  {
   "cell_type": "markdown",
   "metadata": {},
   "source": [
    "Зададим функцию для вывода апостериорных вероятностей:"
   ]
  },
  {
   "cell_type": "code",
   "execution_count": null,
   "metadata": {},
   "outputs": [],
   "source": [
    "def LDA_predict_proba(lda, X):\n",
    "    return pd.DataFrame(\n",
    "        lda.predict_proba(X),\n",
    "        columns=lda.classes_,\n",
    "        index=X.index\n",
    "    )"
   ]
  },
  {
   "cell_type": "markdown",
   "metadata": {},
   "source": [
    "Применим функцию LDA_predict_proba для наших данных:"
   ]
  },
  {
   "cell_type": "code",
   "execution_count": null,
   "metadata": {},
   "outputs": [],
   "source": [
    "lda_post_prob = LDA_predict_proba(lda, data[FEATURES])\n",
    "lda_post_prob.head()"
   ]
  },
  {
   "cell_type": "code",
   "execution_count": null,
   "metadata": {},
   "outputs": [],
   "source": [
    "data_to_excel = pd.concat([data_to_excel, lda_post_prob.add_prefix(\"lda post prob \")], axis=1)"
   ]
  },
  {
   "cell_type": "markdown",
   "metadata": {},
   "source": [
    "### 4.\tПошаговый дискриминантный анализ"
   ]
  },
  {
   "cell_type": "markdown",
   "metadata": {},
   "source": [
    "Зададим функцию расчета Лямбды Уилкса:"
   ]
  },
  {
   "cell_type": "code",
   "execution_count": null,
   "metadata": {},
   "outputs": [],
   "source": [
    "def wilks_lambda(samples, labels):\n",
    "    if isinstance(samples, pd.Series):\n",
    "        samples = samples.to_frame()\n",
    "    dT = np.linalg.det(scatter_matrix(samples)) # расчет определителя матрицы рассеяния\n",
    "    dE = np.linalg.det(classes_scatter_matrix(samples, labels)) # расчет определителя матрицы классового рассеяния\n",
    "    return dE / dT # их частное и есть Лямбда Уилкса"
   ]
  },
  {
   "cell_type": "markdown",
   "metadata": {},
   "source": [
    "Зададим функцию расчета f value и p value :\n",
    "- lmbda - Лямбда Уилкса\n",
    "- n_obs - кол-во объектов\n",
    "- n_var - кол-во признаков\n",
    "- n_cls - кол-во классов"
   ]
  },
  {
   "cell_type": "code",
   "execution_count": null,
   "metadata": {},
   "outputs": [],
   "source": [
    "def f_value_wilks_lambda(lmbda, n_obs, n_var, n_cls):\n",
    "    num = (1 - lmbda) * (n_obs - n_cls - n_var)\n",
    "    den = lmbda * (n_cls - 1)\n",
    "    f_value = num / den #значение статистики Фишера\n",
    "    # f.sf считает p value для определенного значения статистики Фишера и заданных степеней свободы\n",
    "    p_value = f.sf(f_value, n_cls - 1, n_obs - n_cls - n_var) \n",
    "    return f_value, p_value"
   ]
  },
  {
   "cell_type": "markdown",
   "metadata": {},
   "source": [
    "sda - функция для проведения пошагового дискриминантного анализа:\n",
    " - samples - набор объектов\n",
    " - labels - названия классов\n",
    " - F_in=1e-4 - установленное нами значение F_to_Enter\n",
    "Функция выводит для каждого шага переменные в модели(into) и вне модели(out) и их характеристики."
   ]
  },
  {
   "cell_type": "code",
   "execution_count": null,
   "metadata": {},
   "outputs": [],
   "source": [
    "def sda(samples, labels, F_in=1):\n",
    "    stat_columns = [\"Wilk's lambda\", \"Partial lambda\", \"F to enter\", \"p-value\"]\n",
    "    n_cls = labels.unique().size # количество классов\n",
    "    n_obs = samples.shape[0] # количество объектов\n",
    "    \n",
    "    # словари для вывода переменных в модели и вне модели на каждом шаге\n",
    "    out = {0: pd.DataFrame(columns=stat_columns, index=samples.columns, dtype=float)} \n",
    "    into = {0: pd.DataFrame(columns=stat_columns, dtype=float)}\n",
    "    \n",
    "    step = 0\n",
    "    while True:\n",
    "        model_lambda = wilks_lambda(samples[into[step].index], labels) #посчитали Лямбду Уилкса для модели на данном шаге\n",
    "        \n",
    "        for x in out[step].index: # проходим по переменным вне модели на данном шаге\n",
    "        # далее рассчитываем характеристики для данных переменных и записываем их в таблицу    \n",
    "            lmbda = wilks_lambda(samples[into[step].index.tolist() + [x]], labels) \n",
    "            partial_lambda = lmbda / model_lambda\n",
    "            f_lambda, p_value = f_value_wilks_lambda(partial_lambda, n_obs, into[step].index.size, n_cls)\n",
    "            out[step].loc[x] = lmbda, partial_lambda, f_lambda, p_value \n",
    "            \n",
    "        for x in into[step].index: # проходим по переменным в модели на данном шаге\n",
    "        # далее рассчитываем характеристики для данных переменных и записываем их в таблицу  \n",
    "            lmbda = wilks_lambda(samples[into[step].index.drop(x)], labels)\n",
    "            partial_lambda = model_lambda / lmbda\n",
    "            f_lambda, p_value = f_value_wilks_lambda(partial_lambda, n_obs, into[step].index.size - 1, n_cls)\n",
    "            into[step].loc[x] = lmbda, partial_lambda, f_lambda, p_value\n",
    "            \n",
    "        # критерий для остановки цикла \n",
    "        # если вне модели нет переменных ИЛИ новая переменная обладает f_to_enter меньше порогового значения, цикл остановлен\n",
    "        if out[step].index.size == 0 or out[step][\"F to enter\"].max() < F_in:\n",
    "            break\n",
    "        \n",
    "        # ищем элемент с max f_to_enter\n",
    "        x_to_enter = out[step][\"F to enter\"].idxmax()\n",
    "        # переносим его из элементов \"вне модели\" в элементы \"в модели\"\n",
    "        into[step + 1] = into[step].append(out[step].loc[x_to_enter])\n",
    "        out[step + 1] = out[step].drop(index=x_to_enter)\n",
    "        \n",
    "        step += 1 # переходим к следующему шагу\n",
    "        \n",
    "    return into, out "
   ]
  },
  {
   "cell_type": "markdown",
   "metadata": {},
   "source": [
    "Вызываем результаты работы заданной выше функции:"
   ]
  },
  {
   "cell_type": "code",
   "execution_count": null,
   "metadata": {},
   "outputs": [],
   "source": [
    "into, out = sda(train_data[FEATURES], train_data.Class, 2.2)"
   ]
  },
  {
   "cell_type": "markdown",
   "metadata": {},
   "source": [
    "Выводим результаты работы для переменных \"в модели\" на экран:"
   ]
  },
  {
   "cell_type": "code",
   "execution_count": null,
   "metadata": {},
   "outputs": [],
   "source": [
    "for i, t in into.items():\n",
    "    print(\"Step \", i)\n",
    "    print(t, end=\"\\n\\n\")"
   ]
  },
  {
   "cell_type": "markdown",
   "metadata": {},
   "source": [
    "Выводим результаты работы для переменных \"вне модели\" на экран:"
   ]
  },
  {
   "cell_type": "code",
   "execution_count": null,
   "metadata": {},
   "outputs": [],
   "source": [
    "for i, t in out.items():\n",
    "    print(\"Step \", i)\n",
    "    print(t, end=\"\\n\\n\")"
   ]
  },
  {
   "cell_type": "markdown",
   "metadata": {},
   "source": [
    "Выводим названия признаков в модели:"
   ]
  },
  {
   "cell_type": "code",
   "execution_count": null,
   "metadata": {},
   "outputs": [],
   "source": [
    "stepwise_features = into[len(into) - 2].index.tolist()\n",
    "stepwise_features"
   ]
  },
  {
   "cell_type": "markdown",
   "metadata": {},
   "source": [
    "Проводим дискриминантный анализ для отобранных признаков."
   ]
  },
  {
   "cell_type": "code",
   "execution_count": null,
   "metadata": {},
   "outputs": [],
   "source": [
    "stepwise_lda = LinearDiscriminantAnalysis().fit(train_data[stepwise_features], train_data.Class)"
   ]
  },
  {
   "cell_type": "markdown",
   "metadata": {},
   "source": [
    " Выводим коэффициенты функции Фишера на экран."
   ]
  },
  {
   "cell_type": "code",
   "execution_count": null,
   "metadata": {},
   "outputs": [],
   "source": [
    "stepwise_df_coef = get_df_coef(stepwise_lda, stepwise_features)\n",
    "stepwise_df_coef"
   ]
  },
  {
   "cell_type": "markdown",
   "metadata": {},
   "source": [
    "Пполучим полную картину классификации всех объектов."
   ]
  },
  {
   "cell_type": "code",
   "execution_count": null,
   "metadata": {},
   "outputs": [],
   "source": [
    "stepwise_lda_predict = LDA_predict(stepwise_lda, data[stepwise_features])\n",
    "stepwise_lda_predict.head()"
   ]
  },
  {
   "cell_type": "markdown",
   "metadata": {},
   "source": [
    "Запишем результаты классификации в переменную."
   ]
  },
  {
   "cell_type": "code",
   "execution_count": null,
   "metadata": {},
   "outputs": [],
   "source": [
    "data_to_excel[\"Results stepwise lda\"] = stepwise_lda_predict"
   ]
  },
  {
   "cell_type": "code",
   "execution_count": null,
   "metadata": {},
   "outputs": [],
   "source": [
    "stepwise_cov = classes_scatter_matrix(train_data[stepwise_features], train_data.Class) \\\n",
    "    / (train_data.shape[0] - train_data.Class.unique().size)\n",
    "\n",
    "stepwise_means = pd.DataFrame(stepwise_lda.means_, index=stepwise_lda.classes_, columns=stepwise_features)\n",
    "\n",
    "stepwise_samp_dist = calc_mahalanobis_square_dist(stepwise_means, data[stepwise_features], stepwise_cov)\n",
    "stepwise_samp_dist.head()"
   ]
  },
  {
   "cell_type": "code",
   "execution_count": null,
   "metadata": {},
   "outputs": [],
   "source": [
    "data_to_excel = pd.concat([data_to_excel, stepwise_samp_dist.add_prefix(\"stepwise lda mahalanobis \")], axis=1)"
   ]
  },
  {
   "cell_type": "code",
   "execution_count": null,
   "metadata": {},
   "outputs": [],
   "source": [
    "stepwise_lda_post_prob = LDA_predict_proba(stepwise_lda, data[stepwise_features])\n",
    "stepwise_lda_post_prob.head()"
   ]
  },
  {
   "cell_type": "code",
   "execution_count": null,
   "metadata": {},
   "outputs": [],
   "source": [
    "data_to_excel = pd.concat([data_to_excel, stepwise_lda_post_prob.add_prefix(\"stepwise lda post prob \")], axis=1)\n",
    "data_to_excel.head()"
   ]
  },
  {
   "cell_type": "markdown",
   "metadata": {},
   "source": [
    "Записываем результаты проведенной работы в файл."
   ]
  },
  {
   "cell_type": "code",
   "execution_count": null,
   "metadata": {},
   "outputs": [],
   "source": [
    "data_to_excel.to_excel(\"лр2.xlsx\")"
   ]
  },
  {
   "cell_type": "code",
   "execution_count": null,
   "metadata": {},
   "outputs": [],
   "source": []
  },
  {
   "cell_type": "code",
   "execution_count": null,
   "metadata": {},
   "outputs": [],
   "source": []
  }
 ],
 "metadata": {
  "kernelspec": {
   "display_name": "Python 3",
   "language": "python",
   "name": "python3"
  },
  "language_info": {
   "codemirror_mode": {
    "name": "ipython",
    "version": 3
   },
   "file_extension": ".py",
   "mimetype": "text/x-python",
   "name": "python",
   "nbconvert_exporter": "python",
   "pygments_lexer": "ipython3",
   "version": "3.7.0"
  }
 },
 "nbformat": 4,
 "nbformat_minor": 2
}
