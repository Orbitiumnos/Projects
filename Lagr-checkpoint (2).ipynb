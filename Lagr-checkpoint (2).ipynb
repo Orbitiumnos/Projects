{
 "cells": [
  {
   "cell_type": "code",
   "execution_count": 101,
   "metadata": {
    "scrolled": true
   },
   "outputs": [
    {
     "ename": "SyntaxError",
     "evalue": "invalid syntax (<ipython-input-101-aa04f89397c2>, line 18)",
     "output_type": "error",
     "traceback": [
      "\u001b[1;36m  File \u001b[1;32m\"<ipython-input-101-aa04f89397c2>\"\u001b[1;36m, line \u001b[1;32m18\u001b[0m\n\u001b[1;33m    if k=0:\u001b[0m\n\u001b[1;37m        ^\u001b[0m\n\u001b[1;31mSyntaxError\u001b[0m\u001b[1;31m:\u001b[0m invalid syntax\n"
     ]
    }
   ],
   "source": [
    "def lag(n, num, s):\n",
    "    res = False\n",
    "    k = n\n",
    "    while k**2 > n:\n",
    "        k = k-1\n",
    "    num = num+1\n",
    "    \n",
    "    if k == 0:\n",
    "        return True,string\n",
    "    if num > 4:\n",
    "        #print('another one bites the dust')\n",
    "        return False,s\n",
    "    \n",
    "    while res != True:\n",
    "        #print(\"{0}-{1} = {3} : ({2}^2) : {4}\".format(n,k**2,k,n-(k)**2,num))\n",
    "        res,s = lag(n-(k)**2, num,s)\n",
    "        k = k-1\n",
    "        if k<0:\n",
    "            return False,s\n",
    "        \n",
    "        if res == True:\n",
    "            s = s + str(k+1) + ' '\n",
    "    \n",
    "    if num != 1:\n",
    "        return True,s\n",
    "    else:\n",
    "        print(s)\n",
    "    \n",
    "    \n",
    "n = int(input())\n",
    "num = 0\n",
    "s = ''\n",
    "lag(n, num, s)"
   ]
  },
  {
   "cell_type": "code",
   "execution_count": 102,
   "metadata": {
    "scrolled": false
   },
   "outputs": [
    {
     "name": "stdout",
     "output_type": "stream",
     "text": [
      "23\n",
      "23-8 = 15 : (2^3) : 1\n",
      "15-8 = 7 : (2^3) : 2\n",
      "7-1 = 6 : (1^3) : 3\n",
      "6-1 = 5 : (1^3) : 4\n",
      "5-1 = 4 : (1^3) : 5\n",
      "4-1 = 3 : (1^3) : 6\n",
      "3-1 = 2 : (1^3) : 7\n",
      "15-1 = 14 : (1^3) : 2\n",
      "14-8 = 6 : (2^3) : 3\n",
      "6-1 = 5 : (1^3) : 4\n",
      "5-1 = 4 : (1^3) : 5\n",
      "4-1 = 3 : (1^3) : 6\n",
      "3-1 = 2 : (1^3) : 7\n",
      "14-1 = 13 : (1^3) : 3\n",
      "13-8 = 5 : (2^3) : 4\n",
      "5-1 = 4 : (1^3) : 5\n",
      "4-1 = 3 : (1^3) : 6\n",
      "3-1 = 2 : (1^3) : 7\n",
      "13-1 = 12 : (1^3) : 4\n",
      "12-8 = 4 : (2^3) : 5\n",
      "4-1 = 3 : (1^3) : 6\n",
      "3-1 = 2 : (1^3) : 7\n",
      "12-1 = 11 : (1^3) : 5\n",
      "11-8 = 3 : (2^3) : 6\n",
      "3-1 = 2 : (1^3) : 7\n",
      "11-1 = 10 : (1^3) : 6\n",
      "10-8 = 2 : (2^3) : 7\n",
      "10-1 = 9 : (1^3) : 7\n",
      "23-1 = 22 : (1^3) : 1\n",
      "22-8 = 14 : (2^3) : 2\n",
      "14-8 = 6 : (2^3) : 3\n",
      "6-1 = 5 : (1^3) : 4\n",
      "5-1 = 4 : (1^3) : 5\n",
      "4-1 = 3 : (1^3) : 6\n",
      "3-1 = 2 : (1^3) : 7\n",
      "14-1 = 13 : (1^3) : 3\n",
      "13-8 = 5 : (2^3) : 4\n",
      "5-1 = 4 : (1^3) : 5\n",
      "4-1 = 3 : (1^3) : 6\n",
      "3-1 = 2 : (1^3) : 7\n",
      "13-1 = 12 : (1^3) : 4\n",
      "12-8 = 4 : (2^3) : 5\n",
      "4-1 = 3 : (1^3) : 6\n",
      "3-1 = 2 : (1^3) : 7\n",
      "12-1 = 11 : (1^3) : 5\n",
      "11-8 = 3 : (2^3) : 6\n",
      "3-1 = 2 : (1^3) : 7\n",
      "11-1 = 10 : (1^3) : 6\n",
      "10-8 = 2 : (2^3) : 7\n",
      "10-1 = 9 : (1^3) : 7\n",
      "22-1 = 21 : (1^3) : 2\n",
      "21-8 = 13 : (2^3) : 3\n",
      "13-8 = 5 : (2^3) : 4\n",
      "5-1 = 4 : (1^3) : 5\n",
      "4-1 = 3 : (1^3) : 6\n",
      "3-1 = 2 : (1^3) : 7\n",
      "13-1 = 12 : (1^3) : 4\n",
      "12-8 = 4 : (2^3) : 5\n",
      "4-1 = 3 : (1^3) : 6\n",
      "3-1 = 2 : (1^3) : 7\n",
      "12-1 = 11 : (1^3) : 5\n",
      "11-8 = 3 : (2^3) : 6\n",
      "3-1 = 2 : (1^3) : 7\n",
      "11-1 = 10 : (1^3) : 6\n",
      "10-8 = 2 : (2^3) : 7\n",
      "10-1 = 9 : (1^3) : 7\n",
      "21-1 = 20 : (1^3) : 3\n",
      "20-8 = 12 : (2^3) : 4\n",
      "12-8 = 4 : (2^3) : 5\n",
      "4-1 = 3 : (1^3) : 6\n",
      "3-1 = 2 : (1^3) : 7\n",
      "12-1 = 11 : (1^3) : 5\n",
      "11-8 = 3 : (2^3) : 6\n",
      "3-1 = 2 : (1^3) : 7\n",
      "11-1 = 10 : (1^3) : 6\n",
      "10-8 = 2 : (2^3) : 7\n",
      "10-1 = 9 : (1^3) : 7\n",
      "20-1 = 19 : (1^3) : 4\n",
      "19-8 = 11 : (2^3) : 5\n",
      "11-8 = 3 : (2^3) : 6\n",
      "3-1 = 2 : (1^3) : 7\n",
      "11-1 = 10 : (1^3) : 6\n",
      "10-8 = 2 : (2^3) : 7\n",
      "10-1 = 9 : (1^3) : 7\n",
      "19-1 = 18 : (1^3) : 5\n",
      "18-8 = 10 : (2^3) : 6\n",
      "10-8 = 2 : (2^3) : 7\n",
      "10-1 = 9 : (1^3) : 7\n",
      "18-1 = 17 : (1^3) : 6\n",
      "17-8 = 9 : (2^3) : 7\n",
      "17-1 = 16 : (1^3) : 7\n"
     ]
    },
    {
     "data": {
      "text/plain": [
       "(False, '')"
      ]
     },
     "execution_count": 102,
     "metadata": {},
     "output_type": "execute_result"
    }
   ],
   "source": [
    "def cube(n, num, s):\n",
    "    res = False\n",
    "    k = n\n",
    "    while k**3 > n:\n",
    "        k = k-1\n",
    "        \n",
    "    num = num+1\n",
    "    \n",
    "    if k == 0:\n",
    "        return True,s\n",
    "    \n",
    "    if num > 7:\n",
    "        #print('another one bites the dust')\n",
    "        return False,s\n",
    "    \n",
    "    while res != True:\n",
    "        print(\"{0}-{1} = {3} : ({2}^3) : {4}\".format(n,k**3,k,n-(k)**3,num))\n",
    "        res,s = cube(n-(k)**3, num,s)\n",
    "        k = k-1\n",
    "        if k==0:\n",
    "            return False,s\n",
    "        \n",
    "        if res == True:\n",
    "            s = s + str(k+1) + ' '\n",
    "    \n",
    "    if res == True:\n",
    "        if num != 1:\n",
    "            return True,s\n",
    "        else:\n",
    "            print(s)\n",
    "    else:\n",
    "        if num !=1:\n",
    "            return False,s\n",
    "        else:\n",
    "            print('0')\n",
    "    \n",
    "    \n",
    "n = int(input())\n",
    "num = 0\n",
    "s = ''\n",
    "cube(n, num, s)"
   ]
  },
  {
   "cell_type": "code",
   "execution_count": null,
   "metadata": {
    "collapsed": true
   },
   "outputs": [],
   "source": []
  },
  {
   "cell_type": "code",
   "execution_count": null,
   "metadata": {
    "collapsed": true
   },
   "outputs": [],
   "source": []
  }
 ],
 "metadata": {
  "kernelspec": {
   "display_name": "Python 3",
   "language": "python",
   "name": "python3"
  },
  "language_info": {
   "codemirror_mode": {
    "name": "ipython",
    "version": 3
   },
   "file_extension": ".py",
   "mimetype": "text/x-python",
   "name": "python",
   "nbconvert_exporter": "python",
   "pygments_lexer": "ipython3",
   "version": "3.7.0"
  }
 },
 "nbformat": 4,
 "nbformat_minor": 2
}
