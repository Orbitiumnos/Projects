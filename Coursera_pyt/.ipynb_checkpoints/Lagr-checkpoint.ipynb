{
 "cells": [
  {
   "cell_type": "code",
   "execution_count": 101,
   "metadata": {
    "scrolled": true
   },
   "outputs": [
    {
     "ename": "SyntaxError",
     "evalue": "invalid syntax (<ipython-input-101-aa04f89397c2>, line 18)",
     "output_type": "error",
     "traceback": [
      "\u001b[1;36m  File \u001b[1;32m\"<ipython-input-101-aa04f89397c2>\"\u001b[1;36m, line \u001b[1;32m18\u001b[0m\n\u001b[1;33m    if k=0:\u001b[0m\n\u001b[1;37m        ^\u001b[0m\n\u001b[1;31mSyntaxError\u001b[0m\u001b[1;31m:\u001b[0m invalid syntax\n"
     ]
    }
   ],
   "source": [
    "def lag(n, num, s):\n",
    "    res = False\n",
    "    k = n\n",
    "    while k**2 > n:\n",
    "        k = k-1\n",
    "    num = num+1\n",
    "    \n",
    "    if k == 0:\n",
    "        return True,string\n",
    "    if num > 4:\n",
    "        #print('another one bites the dust')\n",
    "        return False,s\n",
    "    \n",
    "    while res != True:\n",
    "        #print(\"{0}-{1} = {3} : ({2}^2) : {4}\".format(n,k**2,k,n-(k)**2,num))\n",
    "        res,s = lag(n-(k)**2, num,s)\n",
    "        k = k-1\n",
    "        if k<0:\n",
    "            return False,s\n",
    "        \n",
    "        if res == True:\n",
    "            s = s + str(k+1) + ' '\n",
    "    \n",
    "    if num != 1:\n",
    "        return True,s\n",
    "    else:\n",
    "        print(s)\n",
    "    \n",
    "    \n",
    "n = int(input())\n",
    "num = 0\n",
    "s = ''\n",
    "lag(n, num, s)"
   ]
  },
  {
   "cell_type": "code",
   "execution_count": null,
   "metadata": {
    "scrolled": false
   },
   "outputs": [],
   "source": [
    "def cube(n, num, s):\n",
    "    print(\"start of iteration {0}\".format(num+1))\n",
    "    \n",
    "    res = False\n",
    "    k = n\n",
    "    num = num+1\n",
    "    \n",
    "    while k**3 > n:\n",
    "        k = k-1    \n",
    "    \n",
    "    if k == 0:\n",
    "        return True,s\n",
    "    \n",
    "    if num > 7:\n",
    "        return False,s\n",
    "    \n",
    "    while res != True:\n",
    "        print(\"   {0}-{1} = {3} : ({2}^3) : {4}\".format(n,k**3,k,n-(k)**3,num))\n",
    "        res,s = cube(n-(k)**3, num,s)\n",
    "        k = k-1\n",
    "        \n",
    "        if k==0:\n",
    "            continue\n",
    "    \n",
    "    print('choice1')\n",
    "    if num == 1:\n",
    "            if res == True:\n",
    "                print(s)\n",
    "            if res == False:\n",
    "                print(0)\n",
    "                \n",
    "    print('choice2')\n",
    "    if res == True:\n",
    "        s = s + str(k+1) + ' '\n",
    "        return True,s\n",
    "    else:\n",
    "        return False,s\n",
    "   \n",
    "    print(\"end of iteration {0}\".format(num+1))\n",
    "    print('')\n",
    "\n",
    "n = int(input())\n",
    "num = 0\n",
    "s = ''\n",
    "cuberes, s = cube(n, num, s)\n",
    "print(s)\n",
    "\n",
    "#23"
   ]
  }
 ],
 "metadata": {
  "kernelspec": {
   "display_name": "Python 3",
   "language": "python",
   "name": "python3"
  },
  "language_info": {
   "codemirror_mode": {
    "name": "ipython",
    "version": 3
   },
   "file_extension": ".py",
   "mimetype": "text/x-python",
   "name": "python",
   "nbconvert_exporter": "python",
   "pygments_lexer": "ipython3",
   "version": "3.7.0"
  }
 },
 "nbformat": 4,
 "nbformat_minor": 2
}
