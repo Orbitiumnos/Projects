{
 "cells": [
  {
   "cell_type": "code",
   "execution_count": 1,
   "metadata": {},
   "outputs": [],
   "source": [
    "import numpy as np\n",
    "import random\n",
    "\n",
    "def func(x, t):\n",
    "    if x <= 0:\n",
    "        return 0\n",
    "    elif x <= t:\n",
    "        return x\n",
    "    else:\n",
    "        return t\n",
    "\n",
    "def summing(i,m,y2):\n",
    "    sumy = 0\n",
    "    for j in range(m):\n",
    "        sumy = sumy + y2[j]\n",
    "    return sumy - y2[i]\n",
    "\n",
    "def subtract_vectors(v, w):\n",
    "    return [vi - wi for vi, wi in zip(v, w)]"
   ]
  },
  {
   "cell_type": "code",
   "execution_count": 2,
   "metadata": {},
   "outputs": [],
   "source": [
    "train = []\n",
    "\n",
    "file = open('train_samples.txt','r')\n",
    "text = file.read()\n",
    "file.close()\n",
    "\n",
    "text = text.splitlines()\n",
    "\n",
    "for i in range(len(text)):\n",
    "    train.append(list(map(int,text[i].split())))\n",
    "\n",
    "data = train.copy()\n",
    "\n",
    "n = len(data[0])\n",
    "m = len(data)\n"
   ]
  },
  {
   "cell_type": "code",
   "execution_count": 3,
   "metadata": {},
   "outputs": [],
   "source": [
    "w = []\n",
    "for i in range(m):\n",
    "    inp_w = list(map(lambda x: x/2, data[i]))\n",
    "    w.append(inp_w)\n",
    "\n",
    "t = n/2\n",
    "    \n",
    "#e = random.uniform(0,1/m)\n",
    "e = 0.3\n",
    "emax = 0.1\n",
    "\n",
    "u = np.zeros([m,m])\n",
    "for i in range(m):\n",
    "    for j in range(m):\n",
    "        if i == j:\n",
    "            u[i,j] = 1\n",
    "        else:\n",
    "            u[i,j] = -1*e\n",
    "            \n",
    "#print(e)\n",
    "#print(t)\n",
    "#print(u)"
   ]
  },
  {
   "cell_type": "code",
   "execution_count": 4,
   "metadata": {},
   "outputs": [
    {
     "name": "stdout",
     "output_type": "stream",
     "text": [
      "[56.0, 62.0, 52.0, 61.0]\n",
      "[56.0, 62.0, 52.0, 61.0]\n"
     ]
    }
   ],
   "source": [
    "file = open(\"test_samples.txt\",\"r\") \n",
    "test = file.read()\n",
    "file.close()\n",
    "x = list(map(int,test.split()))\n",
    "\n",
    "s1 = []\n",
    "for i in range(m):\n",
    "    sumx = 0\n",
    "    for j in range(n):\n",
    "        sumx = sumx + x[j]*w[i][j]\n",
    "    sumx = sumx + t\n",
    "    s1.append(sumx)\n",
    "print(s1)\n",
    "\n",
    "y2 = []\n",
    "for i in range(m):\n",
    "    #y2.append(func(s1[i],t))\n",
    "    y2.append(s1[i])\n",
    "print(y2)"
   ]
  },
  {
   "cell_type": "code",
   "execution_count": 5,
   "metadata": {
    "scrolled": true
   },
   "outputs": [
    {
     "name": "stdout",
     "output_type": "stream",
     "text": [
      "0 ['56.00', '62.00', '52.00', '61.00'] ['3.50', '11.30', '0.00', '10.00'] -206.20\n",
      "1 ['3.50', '11.30', '0.00', '10.00'] ['0.00', '7.25', '0.00', '5.56'] -11.99\n",
      "2 ['0.00', '7.25', '0.00', '5.56'] ['0.00', '5.58', '0.00', '3.38'] -3.84\n",
      "3 ['0.00', '5.58', '0.00', '3.38'] ['0.00', '4.57', '0.00', '1.71'] -2.69\n",
      "4 ['0.00', '4.57', '0.00', '1.71'] ['0.00', '4.05', '0.00', '0.34'] -1.88\n",
      "5 ['0.00', '4.05', '0.00', '0.34'] ['0.00', '3.95', '0.00', '0.00'] -0.44\n",
      "6 ['0.00', '3.95', '0.00', '0.00'] ['0.00', '3.95', '0.00', '0.00'] 0.00\n"
     ]
    }
   ],
   "source": [
    "for z in range(10):\n",
    "\n",
    "    s2 = []\n",
    "    for i in range(m):\n",
    "        sumy = summing(i,m,y2)\n",
    "        inp_s2 = y2[i] - e*sumy\n",
    "        s2.append(inp_s2)\n",
    "    #print(s2)\n",
    "    \n",
    "    y2_prev = y2.copy()\n",
    "    \n",
    "    y2 = []\n",
    "    for i in range(m):\n",
    "        y2.append(func(s2[i],t))\n",
    "        \n",
    "    razn = sum(subtract_vectors(y2,y2_prev))\n",
    "    \n",
    "    print(z,[\"{:.2f}\".format(value) for value in y2_prev],[\"{:.2f}\".format(value) for value in y2],\"{:.2f}\".format(razn),end = '\\n')\n",
    "    \n",
    "    if abs(((razn)**2)**(1/2)) < emax:\n",
    "        break"
   ]
  },
  {
   "cell_type": "code",
   "execution_count": 6,
   "metadata": {},
   "outputs": [
    {
     "name": "stdout",
     "output_type": "stream",
     "text": [
      "['0.00', '3.95', '0.00', '0.00']\n"
     ]
    }
   ],
   "source": [
    "y2 = [\"{:.2f}\".format(value) for value in y2_prev]\n",
    "print(y2)"
   ]
  },
  {
   "cell_type": "code",
   "execution_count": 7,
   "metadata": {},
   "outputs": [],
   "source": [
    "file = open(\"result_hem.txt\",'w')\n",
    "file.write(' '.join(map(str, y2)))\n",
    "file.close()"
   ]
  },
  {
   "cell_type": "markdown",
   "metadata": {},
   "source": [
    "1 -1  1 -1  1 -1  1 -1  1\n",
    "-1 1 -1  1  1  1 -1  1 -1\n",
    "1  1  1  1 -1  1  1  1  1\n",
    "1 -1 -1 -1 1 -1 1 -1 1\n",
    "\n",
    "N = 16 (размерность каждого образа) входных синапса и размерность входных векторов\n",
    "M = 4 (число образов) нейрона\n",
    "\n",
    "Веса первого слоя\n",
    "Матрица 16*4 (n*m)\n",
    "Делим каждый ее элемент на два\n",
    "Порог каждого образа равен = n/2 \n",
    "\n",
    "Веса второго слоя\n",
    "0 < рандомно < 1/число образов\n",
    "\n",
    "Алгоритм\n",
    "Подаем X размерностью n\n",
    "Считаем, s образа = сумма (x*вес) + T\n",
    "\n",
    "аксон второго слоя (y) = S\n",
    "\n",
    "затем y = y - вес второго * сумма всех y кроме указанного\n",
    "\n",
    "https://neuronus.com/theory/nn/965-nejronnye-seti-khemminga.html#sel=214:1,214:2"
   ]
  }
 ],
 "metadata": {
  "kernelspec": {
   "display_name": "Python 3",
   "language": "python",
   "name": "python3"
  },
  "language_info": {
   "codemirror_mode": {
    "name": "ipython",
    "version": 3
   },
   "file_extension": ".py",
   "mimetype": "text/x-python",
   "name": "python",
   "nbconvert_exporter": "python",
   "pygments_lexer": "ipython3",
   "version": "3.6.8"
  }
 },
 "nbformat": 4,
 "nbformat_minor": 2
}
