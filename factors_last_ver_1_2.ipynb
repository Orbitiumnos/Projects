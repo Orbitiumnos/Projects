{
 "cells": [
  {
   "cell_type": "markdown",
   "metadata": {},
   "source": [
    "# Лабораторная №4. Снижение размерности признакового пространства методом главных факторов."
   ]
  },
  {
   "cell_type": "markdown",
   "metadata": {},
   "source": [
    "### Импорт библиотек"
   ]
  },
  {
   "cell_type": "code",
   "execution_count": 1,
   "metadata": {
    "scrolled": true
   },
   "outputs": [],
   "source": [
    "import pandas as pd\n",
    "import numpy as np\n",
    "import matplotlib.pyplot as plt\n",
    "import math\n",
    "import scipy.stats as ss\n",
    "import seaborn as sns\n",
    "\n",
    "from math import  sin, cos, pi \n",
    "from statsmodels.formula.api import ols\n",
    "from scipy.stats import chi2\n",
    "from numpy import arange"
   ]
  },
  {
   "cell_type": "markdown",
   "metadata": {},
   "source": [
    "### Считывание данных"
   ]
  },
  {
   "cell_type": "code",
   "execution_count": 2,
   "metadata": {
    "scrolled": true
   },
   "outputs": [
    {
     "data": {
      "text/html": [
       "<div>\n",
       "<style scoped>\n",
       "    .dataframe tbody tr th:only-of-type {\n",
       "        vertical-align: middle;\n",
       "    }\n",
       "\n",
       "    .dataframe tbody tr th {\n",
       "        vertical-align: top;\n",
       "    }\n",
       "\n",
       "    .dataframe thead th {\n",
       "        text-align: right;\n",
       "    }\n",
       "</style>\n",
       "<table border=\"1\" class=\"dataframe\">\n",
       "  <thead>\n",
       "    <tr style=\"text-align: right;\">\n",
       "      <th></th>\n",
       "      <th>X7</th>\n",
       "      <th>X15</th>\n",
       "      <th>X17</th>\n",
       "      <th>X23</th>\n",
       "      <th>X27</th>\n",
       "    </tr>\n",
       "  </thead>\n",
       "  <tbody>\n",
       "    <tr>\n",
       "      <th>Абдулинский</th>\n",
       "      <td>19.8</td>\n",
       "      <td>0.3</td>\n",
       "      <td>5.7</td>\n",
       "      <td>24.9</td>\n",
       "      <td>25.0</td>\n",
       "    </tr>\n",
       "    <tr>\n",
       "      <th>Адамовский</th>\n",
       "      <td>14.3</td>\n",
       "      <td>2.3</td>\n",
       "      <td>7.7</td>\n",
       "      <td>19.9</td>\n",
       "      <td>69.6</td>\n",
       "    </tr>\n",
       "    <tr>\n",
       "      <th>Акбулакский</th>\n",
       "      <td>4.5</td>\n",
       "      <td>0.5</td>\n",
       "      <td>6.8</td>\n",
       "      <td>17.4</td>\n",
       "      <td>37.8</td>\n",
       "    </tr>\n",
       "    <tr>\n",
       "      <th>Александровский</th>\n",
       "      <td>4.2</td>\n",
       "      <td>3.8</td>\n",
       "      <td>6.9</td>\n",
       "      <td>18.9</td>\n",
       "      <td>94.2</td>\n",
       "    </tr>\n",
       "    <tr>\n",
       "      <th>Асекеевский</th>\n",
       "      <td>3.5</td>\n",
       "      <td>1.7</td>\n",
       "      <td>7.7</td>\n",
       "      <td>20.4</td>\n",
       "      <td>37.3</td>\n",
       "    </tr>\n",
       "  </tbody>\n",
       "</table>\n",
       "</div>"
      ],
      "text/plain": [
       "                   X7  X15  X17   X23   X27\n",
       "Абдулинский      19.8  0.3  5.7  24.9  25.0\n",
       "Адамовский       14.3  2.3  7.7  19.9  69.6\n",
       "Акбулакский       4.5  0.5  6.8  17.4  37.8\n",
       "Александровский   4.2  3.8  6.9  18.9  94.2\n",
       "Асекеевский       3.5  1.7  7.7  20.4  37.3"
      ]
     },
     "execution_count": 2,
     "metadata": {},
     "output_type": "execute_result"
    }
   ],
   "source": [
    "features =[\"X7\", \"X15\", \"X17\", \"X23\", \"X27\"] \n",
    "#features =[\"X6\", \"X16\", \"X26\", \"X31\", \"X39\"] \n",
    "f_len = len (features)\n",
    "unclr_data = pd.read_excel (r'C:\\Games\\Ekonometrika\\data_for_3_and_4.xlsx').loc[:,features]\n",
    "unclr_data.head()"
   ]
  },
  {
   "cell_type": "code",
   "execution_count": 3,
   "metadata": {
    "scrolled": true
   },
   "outputs": [
    {
     "data": {
      "text/html": [
       "<div>\n",
       "<style scoped>\n",
       "    .dataframe tbody tr th:only-of-type {\n",
       "        vertical-align: middle;\n",
       "    }\n",
       "\n",
       "    .dataframe tbody tr th {\n",
       "        vertical-align: top;\n",
       "    }\n",
       "\n",
       "    .dataframe thead th {\n",
       "        text-align: right;\n",
       "    }\n",
       "</style>\n",
       "<table border=\"1\" class=\"dataframe\">\n",
       "  <thead>\n",
       "    <tr style=\"text-align: right;\">\n",
       "      <th></th>\n",
       "      <th>X7</th>\n",
       "      <th>X15</th>\n",
       "      <th>X17</th>\n",
       "      <th>X23</th>\n",
       "      <th>X27</th>\n",
       "    </tr>\n",
       "  </thead>\n",
       "  <tbody>\n",
       "    <tr>\n",
       "      <th>Абдулинский</th>\n",
       "      <td>1.655966</td>\n",
       "      <td>-0.969221</td>\n",
       "      <td>-1.870407</td>\n",
       "      <td>2.342609</td>\n",
       "      <td>-1.977346</td>\n",
       "    </tr>\n",
       "    <tr>\n",
       "      <th>Адамовский</th>\n",
       "      <td>0.797083</td>\n",
       "      <td>-0.168634</td>\n",
       "      <td>-0.205461</td>\n",
       "      <td>-0.329785</td>\n",
       "      <td>0.313800</td>\n",
       "    </tr>\n",
       "    <tr>\n",
       "      <th>Акбулакский</th>\n",
       "      <td>-0.733290</td>\n",
       "      <td>-0.889162</td>\n",
       "      <td>-0.954687</td>\n",
       "      <td>-1.665981</td>\n",
       "      <td>-1.319798</td>\n",
       "    </tr>\n",
       "    <tr>\n",
       "      <th>Александровский</th>\n",
       "      <td>-0.780138</td>\n",
       "      <td>0.431806</td>\n",
       "      <td>-0.871440</td>\n",
       "      <td>-0.864263</td>\n",
       "      <td>1.577527</td>\n",
       "    </tr>\n",
       "    <tr>\n",
       "      <th>Асекеевский</th>\n",
       "      <td>-0.889451</td>\n",
       "      <td>-0.408810</td>\n",
       "      <td>-0.205461</td>\n",
       "      <td>-0.062545</td>\n",
       "      <td>-1.345483</td>\n",
       "    </tr>\n",
       "  </tbody>\n",
       "</table>\n",
       "</div>"
      ],
      "text/plain": [
       "                       X7       X15       X17       X23       X27\n",
       "Абдулинский      1.655966 -0.969221 -1.870407  2.342609 -1.977346\n",
       "Адамовский       0.797083 -0.168634 -0.205461 -0.329785  0.313800\n",
       "Акбулакский     -0.733290 -0.889162 -0.954687 -1.665981 -1.319798\n",
       "Александровский -0.780138  0.431806 -0.871440 -0.864263  1.577527\n",
       "Асекеевский     -0.889451 -0.408810 -0.205461 -0.062545 -1.345483"
      ]
     },
     "execution_count": 3,
     "metadata": {},
     "output_type": "execute_result"
    }
   ],
   "source": [
    "unsc_data = unclr_data[unclr_data!='-'].dropna().astype('float64') # для которых нет значений, удаляем, потом стандартизуем\n",
    "index = unsc_data.index #записываем в переменную index названия строк исходной матрицы\n",
    "columns = unsc_data.columns #записываем в переменную columns названия столбцов исходной матрицы\n",
    "\n",
    "index = unsc_data.index\n",
    "columns = unsc_data.columns\n",
    "\n",
    "scaled = (unsc_data - unsc_data.mean(axis=0))/unsc_data.std()\n",
    "data = pd.DataFrame(scaled, columns=columns, index=index) \n",
    "\n",
    "data.head()"
   ]
  },
  {
   "cell_type": "markdown",
   "metadata": {},
   "source": [
    "### Рассчитаем оценку корреляционной матрицы и проверим ее на значимость."
   ]
  },
  {
   "cell_type": "code",
   "execution_count": 4,
   "metadata": {
    "scrolled": true
   },
   "outputs": [
    {
     "data": {
      "text/html": [
       "<div>\n",
       "<style scoped>\n",
       "    .dataframe tbody tr th:only-of-type {\n",
       "        vertical-align: middle;\n",
       "    }\n",
       "\n",
       "    .dataframe tbody tr th {\n",
       "        vertical-align: top;\n",
       "    }\n",
       "\n",
       "    .dataframe thead th {\n",
       "        text-align: right;\n",
       "    }\n",
       "</style>\n",
       "<table border=\"1\" class=\"dataframe\">\n",
       "  <thead>\n",
       "    <tr style=\"text-align: right;\">\n",
       "      <th></th>\n",
       "      <th>X7</th>\n",
       "      <th>X15</th>\n",
       "      <th>X17</th>\n",
       "      <th>X23</th>\n",
       "      <th>X27</th>\n",
       "    </tr>\n",
       "  </thead>\n",
       "  <tbody>\n",
       "    <tr>\n",
       "      <th>X7</th>\n",
       "      <td>1.000000</td>\n",
       "      <td>-0.278069</td>\n",
       "      <td>-0.219503</td>\n",
       "      <td>0.351428</td>\n",
       "      <td>-0.377511</td>\n",
       "    </tr>\n",
       "    <tr>\n",
       "      <th>X15</th>\n",
       "      <td>-0.278069</td>\n",
       "      <td>1.000000</td>\n",
       "      <td>-0.105018</td>\n",
       "      <td>-0.142029</td>\n",
       "      <td>0.258800</td>\n",
       "    </tr>\n",
       "    <tr>\n",
       "      <th>X17</th>\n",
       "      <td>-0.219503</td>\n",
       "      <td>-0.105018</td>\n",
       "      <td>1.000000</td>\n",
       "      <td>-0.052014</td>\n",
       "      <td>0.291052</td>\n",
       "    </tr>\n",
       "    <tr>\n",
       "      <th>X23</th>\n",
       "      <td>0.351428</td>\n",
       "      <td>-0.142029</td>\n",
       "      <td>-0.052014</td>\n",
       "      <td>1.000000</td>\n",
       "      <td>-0.167727</td>\n",
       "    </tr>\n",
       "    <tr>\n",
       "      <th>X27</th>\n",
       "      <td>-0.377511</td>\n",
       "      <td>0.258800</td>\n",
       "      <td>0.291052</td>\n",
       "      <td>-0.167727</td>\n",
       "      <td>1.000000</td>\n",
       "    </tr>\n",
       "  </tbody>\n",
       "</table>\n",
       "</div>"
      ],
      "text/plain": [
       "           X7       X15       X17       X23       X27\n",
       "X7   1.000000 -0.278069 -0.219503  0.351428 -0.377511\n",
       "X15 -0.278069  1.000000 -0.105018 -0.142029  0.258800\n",
       "X17 -0.219503 -0.105018  1.000000 -0.052014  0.291052\n",
       "X23  0.351428 -0.142029 -0.052014  1.000000 -0.167727\n",
       "X27 -0.377511  0.258800  0.291052 -0.167727  1.000000"
      ]
     },
     "execution_count": 4,
     "metadata": {},
     "output_type": "execute_result"
    }
   ],
   "source": [
    "correlations = data.corr()\n",
    "correlations"
   ]
  },
  {
   "cell_type": "code",
   "execution_count": 5,
   "metadata": {},
   "outputs": [
    {
     "data": {
      "image/png": "[encoded data removed]",
      "text/plain": [
       "<Figure size 432x648 with 2 Axes>"
      ]
     },
     "metadata": {
      "needs_background": "light"
     },
     "output_type": "display_data"
    }
   ],
   "source": [
    "plt.figure(figsize=(6,9))\n",
    "sns.heatmap(correlations, vmax=1,vmin=-1, center=0, square=True,annot=True,cmap='coolwarm',annot_kws={\"size\": 16}, \n",
    "            linewidths=1, linecolor='black')\n",
    "plt.title('Correlation between different fearures')\n",
    "plt.show()"
   ]
  },
  {
   "cell_type": "markdown",
   "metadata": {},
   "source": [
    "Далее согласно алгоритму, предполагая, что выборка извлечена из нормально распределенной генеральной совокупности, на уровне значимости α = 0,05 проверим гипотезу о незначимости корреляционной матрицы."
   ]
  },
  {
   "cell_type": "code",
   "execution_count": 6,
   "metadata": {
    "scrolled": true
   },
   "outputs": [
    {
     "name": "stdout",
     "output_type": "stream",
     "text": [
      "Наблюдаемое значение составило 24.800958503757464\n",
      "Значение p-value равно 0.0057358254797657705\n",
      "Отвергаем гипотезу, матрица парных коэффициентов корреляции значима\n"
     ]
    }
   ],
   "source": [
    "def chi_2(n,k,R):\n",
    "    return -(n-1/6*(2*k+5))*math.log(np.linalg.det(R), math.e)\n",
    "\n",
    "chi_2_crt=chi_2(data.shape[0],data.shape[1],correlations)\n",
    "print('Наблюдаемое значение составило',chi_2_crt)\n",
    "p_value=chi2.sf(chi_2_crt, data.shape[1]*(data.shape[1]-1)/2)\n",
    "print ('Значение p-value равно {}'.format(p_value))\n",
    "if p_value>0.05:\n",
    "    print('Принимаем гипотезу, матрица парных коэффициентов корреляции незначима')\n",
    "else:\n",
    "    print('Отвергаем гипотезу, матрица парных коэффициентов корреляции значима')"
   ]
  },
  {
   "cell_type": "markdown",
   "metadata": {},
   "source": [
    "# Снижение размерности методом главных компонент."
   ]
  },
  {
   "cell_type": "markdown",
   "metadata": {},
   "source": [
    "## Рассчитаем оценки собственных чисел корреляционной матрицы."
   ]
  },
  {
   "cell_type": "code",
   "execution_count": 7,
   "metadata": {
    "scrolled": true
   },
   "outputs": [],
   "source": [
    "uns_eigenvalues,eigenvectors=np.linalg.eig(correlations)\n",
    "couple_lst=[]\n",
    "for i in range(len(uns_eigenvalues)):\n",
    "    couple_lst.append((uns_eigenvalues[i],eigenvectors[:,i]))\n",
    "    \n",
    "from operator import itemgetter\n",
    "couple_lst = sorted(couple_lst, key = itemgetter(0),reverse=True)\n",
    "#список со значениями оценок собственных чисел (eigenvalues), расположенных по убыванию\n",
    "eigenvalues=sorted(uns_eigenvalues,reverse=True)"
   ]
  },
  {
   "cell_type": "code",
   "execution_count": 8,
   "metadata": {
    "scrolled": true
   },
   "outputs": [
    {
     "data": {
      "text/html": [
       "<div>\n",
       "<style scoped>\n",
       "    .dataframe tbody tr th:only-of-type {\n",
       "        vertical-align: middle;\n",
       "    }\n",
       "\n",
       "    .dataframe tbody tr th {\n",
       "        vertical-align: top;\n",
       "    }\n",
       "\n",
       "    .dataframe thead th {\n",
       "        text-align: right;\n",
       "    }\n",
       "</style>\n",
       "<table border=\"1\" class=\"dataframe\">\n",
       "  <thead>\n",
       "    <tr style=\"text-align: right;\">\n",
       "      <th></th>\n",
       "      <th>eigenvalues</th>\n",
       "    </tr>\n",
       "  </thead>\n",
       "  <tbody>\n",
       "    <tr>\n",
       "      <th>1</th>\n",
       "      <td>1.883631</td>\n",
       "    </tr>\n",
       "    <tr>\n",
       "      <th>2</th>\n",
       "      <td>1.124561</td>\n",
       "    </tr>\n",
       "    <tr>\n",
       "      <th>3</th>\n",
       "      <td>0.887302</td>\n",
       "    </tr>\n",
       "    <tr>\n",
       "      <th>4</th>\n",
       "      <td>0.568365</td>\n",
       "    </tr>\n",
       "    <tr>\n",
       "      <th>5</th>\n",
       "      <td>0.536142</td>\n",
       "    </tr>\n",
       "  </tbody>\n",
       "</table>\n",
       "</div>"
      ],
      "text/plain": [
       "   eigenvalues\n",
       "1     1.883631\n",
       "2     1.124561\n",
       "3     0.887302\n",
       "4     0.568365\n",
       "5     0.536142"
      ]
     },
     "execution_count": 8,
     "metadata": {},
     "output_type": "execute_result"
    }
   ],
   "source": [
    "pd.DataFrame(eigenvalues, index=list(range(1,f_len+1)), columns = ['eigenvalues'])"
   ]
  },
  {
   "cell_type": "markdown",
   "metadata": {},
   "source": [
    "## Доверительные интервалы для собственных значений"
   ]
  },
  {
   "cell_type": "markdown",
   "metadata": {},
   "source": [
    "С вероятностью γ=0,95 построим доверительные интервалы для собственных чисел матрицы парных коэффициентов корреляции.\n",
    "Доверительный интервал для i-ого собственного числа λi при большом объеме выборки имеет вид:\n",
    "\n",
    "$$ \\frac {\\hat \\lambda_i}{1 +  u_{\\frac {1+\\gamma} {2}} \\sqrt {\\frac {2}{n-1}} } < \\lambda_i < \\frac {\\hat \\lambda_i}{1 -  u_{\\frac {1+\\gamma} {2}} \\sqrt {\\frac {2}{n-1}} } $$ \n",
    "\n",
    "где $ u_{\\frac {1+\\gamma} {2}} $ – квантиль уровня $ \\frac {1+\\gamma}{2} $ стандартного нормального распределения\n",
    "<br>\n",
    "n – объем выборки."
   ]
  },
  {
   "cell_type": "code",
   "execution_count": 9,
   "metadata": {
    "scrolled": true
   },
   "outputs": [
    {
     "data": {
      "text/html": [
       "<div>\n",
       "<style scoped>\n",
       "    .dataframe tbody tr th:only-of-type {\n",
       "        vertical-align: middle;\n",
       "    }\n",
       "\n",
       "    .dataframe tbody tr th {\n",
       "        vertical-align: top;\n",
       "    }\n",
       "\n",
       "    .dataframe thead th {\n",
       "        text-align: right;\n",
       "    }\n",
       "</style>\n",
       "<table border=\"1\" class=\"dataframe\">\n",
       "  <thead>\n",
       "    <tr style=\"text-align: right;\">\n",
       "      <th></th>\n",
       "      <th>Нижняя граница</th>\n",
       "      <th>Собственное значение</th>\n",
       "      <th>Верхняя граница</th>\n",
       "    </tr>\n",
       "  </thead>\n",
       "  <tbody>\n",
       "    <tr>\n",
       "      <th>0</th>\n",
       "      <td>1.337160</td>\n",
       "      <td>1.883631</td>\n",
       "      <td>3.185473</td>\n",
       "    </tr>\n",
       "    <tr>\n",
       "      <th>1</th>\n",
       "      <td>0.798308</td>\n",
       "      <td>1.124561</td>\n",
       "      <td>1.901782</td>\n",
       "    </tr>\n",
       "    <tr>\n",
       "      <th>2</th>\n",
       "      <td>0.629881</td>\n",
       "      <td>0.887302</td>\n",
       "      <td>1.500546</td>\n",
       "    </tr>\n",
       "    <tr>\n",
       "      <th>3</th>\n",
       "      <td>0.403473</td>\n",
       "      <td>0.568365</td>\n",
       "      <td>0.961181</td>\n",
       "    </tr>\n",
       "    <tr>\n",
       "      <th>4</th>\n",
       "      <td>0.380599</td>\n",
       "      <td>0.536142</td>\n",
       "      <td>0.906688</td>\n",
       "    </tr>\n",
       "  </tbody>\n",
       "</table>\n",
       "</div>"
      ],
      "text/plain": [
       "   Нижняя граница  Собственное значение  Верхняя граница\n",
       "0        1.337160              1.883631         3.185473\n",
       "1        0.798308              1.124561         1.901782\n",
       "2        0.629881              0.887302         1.500546\n",
       "3        0.403473              0.568365         0.961181\n",
       "4        0.380599              0.536142         0.906688"
      ]
     },
     "execution_count": 9,
     "metadata": {},
     "output_type": "execute_result"
    }
   ],
   "source": [
    "def eigenval_left(l,n):\n",
    "    return l/(1+ss.norm.ppf(0.975)*math.sqrt(2/(n-1))) #находим нижнюю границу интервала\n",
    "\n",
    "def eigenval_right(l,n):\n",
    "    return l/(1-ss.norm.ppf(0.975)*math.sqrt(2/(n-1))) #находим верхнюю границу интервала\n",
    "\n",
    "conf_interval=np.empty((5, 3)) # создание матрицы для каждого из значений интервала и соответствующего ему собственного числа\n",
    "for i in range(conf_interval.shape[0]):\n",
    "    conf_interval[i,0]=eigenval_left(eigenvalues[i],data.shape[0])\n",
    "    conf_interval[i,1]=eigenvalues[i]\n",
    "    conf_interval[i,2]=eigenval_right(eigenvalues[i],data.shape[0])\n",
    "    \n",
    "conf_interval_df=pd.DataFrame(\n",
    "    conf_interval,\n",
    "    columns=['Нижняя граница','Собственное значение','Верхняя граница'])\n",
    "conf_interval_df"
   ]
  },
  {
   "cell_type": "markdown",
   "metadata": {},
   "source": [
    "Так как оценки собственных чисел не попадают в доверительные интервалы других собственных чисел, то нет оснований заподозрить кратность собственных чисел."
   ]
  },
  {
   "cell_type": "markdown",
   "metadata": {},
   "source": [
    "## Определение количества ГК"
   ]
  },
  {
   "cell_type": "markdown",
   "metadata": {},
   "source": [
    "Рассчтаем вклад главных компонент в суммарную дисперсию исходных признаков."
   ]
  },
  {
   "cell_type": "code",
   "execution_count": 10,
   "metadata": {
    "scrolled": true
   },
   "outputs": [],
   "source": [
    "dispersion=np.zeros(len(eigenvalues))\n",
    "for i in range(dispersion.shape[0]):\n",
    "    dispersion[i]=eigenvalues[i]/uns_eigenvalues.sum()"
   ]
  },
  {
   "cell_type": "code",
   "execution_count": 11,
   "metadata": {
    "scrolled": true
   },
   "outputs": [],
   "source": [
    "cumlt_dispersion = np.zeros(f_len)\n",
    "cur=0\n",
    "for i in range(len(features)):\n",
    "    cur=cur+dispersion[i]\n",
    "    cumlt_dispersion[i]=cur"
   ]
  },
  {
   "cell_type": "code",
   "execution_count": 12,
   "metadata": {
    "scrolled": true
   },
   "outputs": [],
   "source": [
    "cumlt=np.zeros(f_len)\n",
    "cur=0\n",
    "for i in range(len(features)):\n",
    "    cur=cur+eigenvalues[i]\n",
    "    cumlt[i]=cur"
   ]
  },
  {
   "cell_type": "code",
   "execution_count": 13,
   "metadata": {
    "scrolled": true
   },
   "outputs": [
    {
     "data": {
      "text/html": [
       "<div>\n",
       "<style scoped>\n",
       "    .dataframe tbody tr th:only-of-type {\n",
       "        vertical-align: middle;\n",
       "    }\n",
       "\n",
       "    .dataframe tbody tr th {\n",
       "        vertical-align: top;\n",
       "    }\n",
       "\n",
       "    .dataframe thead th {\n",
       "        text-align: right;\n",
       "    }\n",
       "</style>\n",
       "<table border=\"1\" class=\"dataframe\">\n",
       "  <thead>\n",
       "    <tr style=\"text-align: right;\">\n",
       "      <th></th>\n",
       "      <th>eig</th>\n",
       "      <th>variance</th>\n",
       "      <th>cumlt_eig</th>\n",
       "      <th>cumlt_variance</th>\n",
       "    </tr>\n",
       "  </thead>\n",
       "  <tbody>\n",
       "    <tr>\n",
       "      <th>0</th>\n",
       "      <td>1.883631</td>\n",
       "      <td>0.376726</td>\n",
       "      <td>1.883631</td>\n",
       "      <td>0.376726</td>\n",
       "    </tr>\n",
       "    <tr>\n",
       "      <th>1</th>\n",
       "      <td>1.124561</td>\n",
       "      <td>0.224912</td>\n",
       "      <td>3.008192</td>\n",
       "      <td>0.601638</td>\n",
       "    </tr>\n",
       "    <tr>\n",
       "      <th>2</th>\n",
       "      <td>0.887302</td>\n",
       "      <td>0.177460</td>\n",
       "      <td>3.895493</td>\n",
       "      <td>0.779099</td>\n",
       "    </tr>\n",
       "    <tr>\n",
       "      <th>3</th>\n",
       "      <td>0.568365</td>\n",
       "      <td>0.113673</td>\n",
       "      <td>4.463858</td>\n",
       "      <td>0.892772</td>\n",
       "    </tr>\n",
       "    <tr>\n",
       "      <th>4</th>\n",
       "      <td>0.536142</td>\n",
       "      <td>0.107228</td>\n",
       "      <td>5.000000</td>\n",
       "      <td>1.000000</td>\n",
       "    </tr>\n",
       "  </tbody>\n",
       "</table>\n",
       "</div>"
      ],
      "text/plain": [
       "        eig  variance  cumlt_eig  cumlt_variance\n",
       "0  1.883631  0.376726   1.883631        0.376726\n",
       "1  1.124561  0.224912   3.008192        0.601638\n",
       "2  0.887302  0.177460   3.895493        0.779099\n",
       "3  0.568365  0.113673   4.463858        0.892772\n",
       "4  0.536142  0.107228   5.000000        1.000000"
      ]
     },
     "execution_count": 13,
     "metadata": {},
     "output_type": "execute_result"
    }
   ],
   "source": [
    "d=np.array([eigenvalues,dispersion,cumlt,cumlt_dispersion]).T\n",
    "s=pd.DataFrame(\n",
    "    data=d,\n",
    "    columns=['eig','variance','cumlt_eig','cumlt_variance'])\n",
    "s"
   ]
  },
  {
   "cell_type": "code",
   "execution_count": 14,
   "metadata": {
    "scrolled": true
   },
   "outputs": [
    {
     "name": "stdout",
     "output_type": "stream",
     "text": [
      "Нижняя граница уровня информативности: 42.71%\n"
     ]
    }
   ],
   "source": [
    "#нижняя граница уровня информативности\n",
    "low_inf = (conf_interval[0,0] + conf_interval[1,0])*100/5\n",
    "print ('Нижняя граница уровня информативности:',\"%5.2f\"%(low_inf)+'%')"
   ]
  },
  {
   "cell_type": "markdown",
   "metadata": {},
   "source": [
    "### Критерий Кайзера"
   ]
  },
  {
   "cell_type": "markdown",
   "metadata": {},
   "source": [
    "Посмотрим, сколько главных компонент предлагает взять критерий Кайзера."
   ]
  },
  {
   "cell_type": "code",
   "execution_count": 15,
   "metadata": {
    "scrolled": true
   },
   "outputs": [
    {
     "name": "stdout",
     "output_type": "stream",
     "text": [
      "Критерий Кайзера предлагает 2 ГК.\n"
     ]
    }
   ],
   "source": [
    "print(('Критерий Кайзера предлагает {} ГК.').format(len(s.eig[s.eig > 1])))"
   ]
  },
  {
   "cell_type": "markdown",
   "metadata": {},
   "source": [
    "### Критерий каменистой осыпи"
   ]
  },
  {
   "cell_type": "markdown",
   "metadata": {},
   "source": [
    "Построим график собственных чисел корреляционной матрицы."
   ]
  },
  {
   "cell_type": "code",
   "execution_count": 16,
   "metadata": {
    "scrolled": true
   },
   "outputs": [],
   "source": [
    "sum_lmbd=uns_eigenvalues.sum()\n",
    "dft = pd.DataFrame([])\n",
    "dft['y'] = eigenvalues #собственные значения в порядке убывания\n",
    "dft['x'] = list(range(1,f_len+1))\n",
    "dft['Tot_var'] = (dft['y']/sum_lmbd).apply(lambda x: round(x * 100, 2)).apply(str) + '%' #относительный вклад каждой \n",
    "#главной компоненты в суммарную дисперсию"
   ]
  },
  {
   "cell_type": "code",
   "execution_count": 17,
   "metadata": {},
   "outputs": [
    {
     "data": {
      "text/html": [
       "<div>\n",
       "<style scoped>\n",
       "    .dataframe tbody tr th:only-of-type {\n",
       "        vertical-align: middle;\n",
       "    }\n",
       "\n",
       "    .dataframe tbody tr th {\n",
       "        vertical-align: top;\n",
       "    }\n",
       "\n",
       "    .dataframe thead th {\n",
       "        text-align: right;\n",
       "    }\n",
       "</style>\n",
       "<table border=\"1\" class=\"dataframe\">\n",
       "  <thead>\n",
       "    <tr style=\"text-align: right;\">\n",
       "      <th></th>\n",
       "      <th>y</th>\n",
       "      <th>x</th>\n",
       "      <th>Tot_var</th>\n",
       "    </tr>\n",
       "  </thead>\n",
       "  <tbody>\n",
       "    <tr>\n",
       "      <th>0</th>\n",
       "      <td>1.883631</td>\n",
       "      <td>1</td>\n",
       "      <td>37.67%</td>\n",
       "    </tr>\n",
       "    <tr>\n",
       "      <th>1</th>\n",
       "      <td>1.124561</td>\n",
       "      <td>2</td>\n",
       "      <td>22.49%</td>\n",
       "    </tr>\n",
       "    <tr>\n",
       "      <th>2</th>\n",
       "      <td>0.887302</td>\n",
       "      <td>3</td>\n",
       "      <td>17.75%</td>\n",
       "    </tr>\n",
       "    <tr>\n",
       "      <th>3</th>\n",
       "      <td>0.568365</td>\n",
       "      <td>4</td>\n",
       "      <td>11.37%</td>\n",
       "    </tr>\n",
       "    <tr>\n",
       "      <th>4</th>\n",
       "      <td>0.536142</td>\n",
       "      <td>5</td>\n",
       "      <td>10.72%</td>\n",
       "    </tr>\n",
       "  </tbody>\n",
       "</table>\n",
       "</div>"
      ],
      "text/plain": [
       "          y  x Tot_var\n",
       "0  1.883631  1  37.67%\n",
       "1  1.124561  2  22.49%\n",
       "2  0.887302  3  17.75%\n",
       "3  0.568365  4  11.37%\n",
       "4  0.536142  5  10.72%"
      ]
     },
     "execution_count": 17,
     "metadata": {},
     "output_type": "execute_result"
    }
   ],
   "source": [
    "dft"
   ]
  },
  {
   "cell_type": "code",
   "execution_count": 18,
   "metadata": {
    "scrolled": true
   },
   "outputs": [
    {
     "data": {
      "image/png": "[encoded data removed]",
      "text/plain": [
       "<Figure size 432x288 with 1 Axes>"
      ]
     },
     "metadata": {
      "needs_background": "light"
     },
     "output_type": "display_data"
    }
   ],
   "source": [
    "#plt.figure(figsize=(9,6))\n",
    "plt.plot(dft['x'], dft['y'], marker='o')\n",
    "ax = plt.gca()\n",
    "dft.apply(lambda x: ax.annotate(x['Tot_var'], (x['x'], x['y'])), axis=1);\n",
    "plt.title('Eigenvalues of correlation matrix')\n",
    "plt.grid(axis='y')\n",
    "plt.show()"
   ]
  },
  {
   "cell_type": "markdown",
   "metadata": {},
   "source": [
    "Выбираем количество главных компонент на основе критериев"
   ]
  },
  {
   "cell_type": "code",
   "execution_count": 19,
   "metadata": {},
   "outputs": [],
   "source": [
    "pc = 3"
   ]
  },
  {
   "cell_type": "markdown",
   "metadata": {},
   "source": [
    "## Матрица U"
   ]
  },
  {
   "cell_type": "markdown",
   "metadata": {},
   "source": [
    "Матрица коэффициентов линейного преобразования имеет вид:"
   ]
  },
  {
   "cell_type": "code",
   "execution_count": 20,
   "metadata": {
    "scrolled": true
   },
   "outputs": [],
   "source": [
    "u=np.empty((f_len,f_len))\n",
    "for i in range(f_len):\n",
    "    u[i]=couple_lst[i][1] #достаем главные компоненты(собственные векторы корреляционной матрицы) из матрицы couple_list\n",
    "    \n",
    "#pd.DataFrame(u)"
   ]
  },
  {
   "cell_type": "code",
   "execution_count": 21,
   "metadata": {
    "scrolled": true
   },
   "outputs": [
    {
     "data": {
      "text/html": [
       "<div>\n",
       "<style scoped>\n",
       "    .dataframe tbody tr th:only-of-type {\n",
       "        vertical-align: middle;\n",
       "    }\n",
       "\n",
       "    .dataframe tbody tr th {\n",
       "        vertical-align: top;\n",
       "    }\n",
       "\n",
       "    .dataframe thead th {\n",
       "        text-align: right;\n",
       "    }\n",
       "</style>\n",
       "<table border=\"1\" class=\"dataframe\">\n",
       "  <thead>\n",
       "    <tr style=\"text-align: right;\">\n",
       "      <th></th>\n",
       "      <th>X7</th>\n",
       "      <th>X15</th>\n",
       "      <th>X17</th>\n",
       "      <th>X23</th>\n",
       "      <th>X27</th>\n",
       "    </tr>\n",
       "  </thead>\n",
       "  <tbody>\n",
       "    <tr>\n",
       "      <th>Factor_1</th>\n",
       "      <td>-0.576686</td>\n",
       "      <td>0.366244</td>\n",
       "      <td>0.297820</td>\n",
       "      <td>-0.406131</td>\n",
       "      <td>0.528828</td>\n",
       "    </tr>\n",
       "    <tr>\n",
       "      <th>Factor_2</th>\n",
       "      <td>0.032425</td>\n",
       "      <td>-0.588337</td>\n",
       "      <td>0.760574</td>\n",
       "      <td>0.209045</td>\n",
       "      <td>0.175029</td>\n",
       "    </tr>\n",
       "    <tr>\n",
       "      <th>Factor_3</th>\n",
       "      <td>-0.133058</td>\n",
       "      <td>-0.469677</td>\n",
       "      <td>-0.053971</td>\n",
       "      <td>-0.779764</td>\n",
       "      <td>-0.388272</td>\n",
       "    </tr>\n",
       "    <tr>\n",
       "      <th>Factor_4</th>\n",
       "      <td>0.525319</td>\n",
       "      <td>-0.247440</td>\n",
       "      <td>-0.301702</td>\n",
       "      <td>-0.271192</td>\n",
       "      <td>0.705864</td>\n",
       "    </tr>\n",
       "    <tr>\n",
       "      <th>Factor_5</th>\n",
       "      <td>0.610506</td>\n",
       "      <td>0.487752</td>\n",
       "      <td>0.488767</td>\n",
       "      <td>-0.331332</td>\n",
       "      <td>-0.201758</td>\n",
       "    </tr>\n",
       "  </tbody>\n",
       "</table>\n",
       "</div>"
      ],
      "text/plain": [
       "                X7       X15       X17       X23       X27\n",
       "Factor_1 -0.576686  0.366244  0.297820 -0.406131  0.528828\n",
       "Factor_2  0.032425 -0.588337  0.760574  0.209045  0.175029\n",
       "Factor_3 -0.133058 -0.469677 -0.053971 -0.779764 -0.388272\n",
       "Factor_4  0.525319 -0.247440 -0.301702 -0.271192  0.705864\n",
       "Factor_5  0.610506  0.487752  0.488767 -0.331332 -0.201758"
      ]
     },
     "execution_count": 21,
     "metadata": {},
     "output_type": "execute_result"
    }
   ],
   "source": [
    "df_u=pd.DataFrame(\n",
    "    data=u,\n",
    "    index=['Factor_' + str(i + 1) for i in range(f_len)],\n",
    "    columns=features)\n",
    "df_u # eigenvectors of correlation matrix\n",
    "# ВНИМАНИЕ !!!!!\n",
    "#Она не сходится со статистикой !!! Но правильная именно в питоне ( в статистике матрица не нормирована, см. методичку) !!!"
   ]
  },
  {
   "cell_type": "markdown",
   "metadata": {},
   "source": [
    "Главные компоненты связаны с центрировано-нормированными исходными признаками следующими линейными комбинациями:"
   ]
  },
  {
   "cell_type": "code",
   "execution_count": 22,
   "metadata": {
    "scrolled": true
   },
   "outputs": [
    {
     "name": "stdout",
     "output_type": "stream",
     "text": [
      "Z1 = -0.577*X1 + 0.366*X2 + 0.298*X3 + -0.406*X4 + 0.529*X5\n",
      "Z2 = 0.032*X1 + -0.588*X2 + 0.761*X3 + 0.209*X4 + 0.175*X5\n",
      "Z3 = -0.133*X1 + -0.470*X2 + -0.054*X3 + -0.780*X4 + -0.388*X5\n"
     ]
    }
   ],
   "source": [
    "for i in range(0,pc):\n",
    "    print(('Z{:1} = '+'{:2.3f}*X{:1} + '*4+'{:2.3f}*X{:1}').format(i+1,u[i][0],1,u[i][1],2,u[i][2],3,u[i][3],4,u[i][4],5))"
   ]
  },
  {
   "cell_type": "markdown",
   "metadata": {},
   "source": [
    "## Матрица нагрузок А"
   ]
  },
  {
   "cell_type": "markdown",
   "metadata": {},
   "source": [
    "Рассчитаем матрицу нагрузок."
   ]
  },
  {
   "cell_type": "code",
   "execution_count": 23,
   "metadata": {
    "scrolled": true
   },
   "outputs": [
    {
     "data": {
      "text/html": [
       "<div>\n",
       "<style scoped>\n",
       "    .dataframe tbody tr th:only-of-type {\n",
       "        vertical-align: middle;\n",
       "    }\n",
       "\n",
       "    .dataframe tbody tr th {\n",
       "        vertical-align: top;\n",
       "    }\n",
       "\n",
       "    .dataframe thead th {\n",
       "        text-align: right;\n",
       "    }\n",
       "</style>\n",
       "<table border=\"1\" class=\"dataframe\">\n",
       "  <thead>\n",
       "    <tr style=\"text-align: right;\">\n",
       "      <th></th>\n",
       "      <th>Factor_1</th>\n",
       "      <th>Factor_2</th>\n",
       "      <th>Factor_3</th>\n",
       "      <th>Factor_4</th>\n",
       "      <th>Factor_5</th>\n",
       "    </tr>\n",
       "  </thead>\n",
       "  <tbody>\n",
       "    <tr>\n",
       "      <th>X7</th>\n",
       "      <td>-0.791475</td>\n",
       "      <td>0.034385</td>\n",
       "      <td>-0.125337</td>\n",
       "      <td>0.396038</td>\n",
       "      <td>0.447023</td>\n",
       "    </tr>\n",
       "    <tr>\n",
       "      <th>X15</th>\n",
       "      <td>0.502654</td>\n",
       "      <td>-0.623903</td>\n",
       "      <td>-0.442420</td>\n",
       "      <td>-0.186545</td>\n",
       "      <td>0.357140</td>\n",
       "    </tr>\n",
       "    <tr>\n",
       "      <th>X17</th>\n",
       "      <td>0.408744</td>\n",
       "      <td>0.806553</td>\n",
       "      <td>-0.050839</td>\n",
       "      <td>-0.227453</td>\n",
       "      <td>0.357884</td>\n",
       "    </tr>\n",
       "    <tr>\n",
       "      <th>X23</th>\n",
       "      <td>-0.557397</td>\n",
       "      <td>0.221683</td>\n",
       "      <td>-0.734511</td>\n",
       "      <td>-0.204452</td>\n",
       "      <td>-0.242607</td>\n",
       "    </tr>\n",
       "    <tr>\n",
       "      <th>X27</th>\n",
       "      <td>0.725793</td>\n",
       "      <td>0.185610</td>\n",
       "      <td>-0.365739</td>\n",
       "      <td>0.532151</td>\n",
       "      <td>-0.147731</td>\n",
       "    </tr>\n",
       "  </tbody>\n",
       "</table>\n",
       "</div>"
      ],
      "text/plain": [
       "     Factor_1  Factor_2  Factor_3  Factor_4  Factor_5\n",
       "X7  -0.791475  0.034385 -0.125337  0.396038  0.447023\n",
       "X15  0.502654 -0.623903 -0.442420 -0.186545  0.357140\n",
       "X17  0.408744  0.806553 -0.050839 -0.227453  0.357884\n",
       "X23 -0.557397  0.221683 -0.734511 -0.204452 -0.242607\n",
       "X27  0.725793  0.185610 -0.365739  0.532151 -0.147731"
      ]
     },
     "execution_count": 23,
     "metadata": {},
     "output_type": "execute_result"
    }
   ],
   "source": [
    "#матрица нагрузок\n",
    "lmbd = np.zeros((f_len,f_len))\n",
    "for i in range(f_len):\n",
    "    lmbd[i][i]= math.sqrt(eigenvalues[i])\n",
    "            \n",
    "A = np.dot(u.T, lmbd)\n",
    "df_A = pd.DataFrame(data=A,columns=['Factor_' + str(i + 1) for i in range(f_len)],index=features)\n",
    "df_A"
   ]
  },
  {
   "cell_type": "code",
   "execution_count": 24,
   "metadata": {
    "scrolled": false
   },
   "outputs": [],
   "source": [
    "# Могут не совпасть отдельные столбики со Statistica, так как собственные вектора берутся с точностью до знака\n",
    "# Если очень хочется подогнать, можно написать:\n",
    "#df_A['Factor_1'] *= -1  # если не совпал первый столбик\n",
    "#df_A['Factor_2'] *= -1  # если не совпал второй столбик\n",
    "#df_A['Factor_3'] *= -1  # если не совпал третий столбик\n",
    "#df_A['Factor_4'] *= -1  #если не совпал четвертый столбик\n",
    "#df_A['Factor_5'] *= -1  #если не совпал пятый столбик\n",
    "#df_A#проверить, сходится ли теперь"
   ]
  },
  {
   "cell_type": "markdown",
   "metadata": {},
   "source": [
    "Так как размерность признакового пространства снижена до двух, то матрица факторных нагрузок имеет размерность 5х2."
   ]
  },
  {
   "cell_type": "code",
   "execution_count": 25,
   "metadata": {
    "scrolled": true
   },
   "outputs": [
    {
     "data": {
      "text/html": [
       "<div>\n",
       "<style scoped>\n",
       "    .dataframe tbody tr th:only-of-type {\n",
       "        vertical-align: middle;\n",
       "    }\n",
       "\n",
       "    .dataframe tbody tr th {\n",
       "        vertical-align: top;\n",
       "    }\n",
       "\n",
       "    .dataframe thead th {\n",
       "        text-align: right;\n",
       "    }\n",
       "</style>\n",
       "<table border=\"1\" class=\"dataframe\">\n",
       "  <thead>\n",
       "    <tr style=\"text-align: right;\">\n",
       "      <th></th>\n",
       "      <th>Factor_1</th>\n",
       "      <th>Factor_2</th>\n",
       "      <th>Factor_3</th>\n",
       "    </tr>\n",
       "  </thead>\n",
       "  <tbody>\n",
       "    <tr>\n",
       "      <th>X7</th>\n",
       "      <td>-0.791475</td>\n",
       "      <td>0.034385</td>\n",
       "      <td>-0.125337</td>\n",
       "    </tr>\n",
       "    <tr>\n",
       "      <th>X15</th>\n",
       "      <td>0.502654</td>\n",
       "      <td>-0.623903</td>\n",
       "      <td>-0.442420</td>\n",
       "    </tr>\n",
       "    <tr>\n",
       "      <th>X17</th>\n",
       "      <td>0.408744</td>\n",
       "      <td>0.806553</td>\n",
       "      <td>-0.050839</td>\n",
       "    </tr>\n",
       "    <tr>\n",
       "      <th>X23</th>\n",
       "      <td>-0.557397</td>\n",
       "      <td>0.221683</td>\n",
       "      <td>-0.734511</td>\n",
       "    </tr>\n",
       "    <tr>\n",
       "      <th>X27</th>\n",
       "      <td>0.725793</td>\n",
       "      <td>0.185610</td>\n",
       "      <td>-0.365739</td>\n",
       "    </tr>\n",
       "  </tbody>\n",
       "</table>\n",
       "</div>"
      ],
      "text/plain": [
       "     Factor_1  Factor_2  Factor_3\n",
       "X7  -0.791475  0.034385 -0.125337\n",
       "X15  0.502654 -0.623903 -0.442420\n",
       "X17  0.408744  0.806553 -0.050839\n",
       "X23 -0.557397  0.221683 -0.734511\n",
       "X27  0.725793  0.185610 -0.365739"
      ]
     },
     "execution_count": 25,
     "metadata": {},
     "output_type": "execute_result"
    }
   ],
   "source": [
    "df_A_cut = pd.DataFrame(data=A[:,:pc],columns=['Factor_' + str(i) for i in range(1,pc+1)],index=features)\n",
    "df_A_cut"
   ]
  },
  {
   "cell_type": "markdown",
   "metadata": {},
   "source": [
    "Получим расположение признаков в пространстве первых двух главных компонент.\n",
    "Если вы вдруг взяли 3 главные компоненты, то тут можно получать сравненение только по двум координатам,\n",
    "меняя в 'Factor_' цифры\n",
    "Трехмерное изображение не предусмотрено"
   ]
  },
  {
   "cell_type": "code",
   "execution_count": 26,
   "metadata": {
    "scrolled": false
   },
   "outputs": [
    {
     "data": {
      "image/png": "[encoded data removed]",
      "text/plain": [
       "<Figure size 432x288 with 1 Axes>"
      ]
     },
     "metadata": {
      "needs_background": "light"
     },
     "output_type": "display_data"
    }
   ],
   "source": [
    "#plt.figure(figsize=(9,6))\n",
    "plt.scatter(df_A_cut['Factor_1'], df_A_cut['Factor_2'])\n",
    "plt.scatter (0,0,c = 'r')\n",
    "for i in features:\n",
    "    plt.annotate('{}'.format(i), xy=(df_A_cut['Factor_1'][i], df_A_cut['Factor_2'][i]))\n",
    "plt.title('loadings')\n",
    "plt.grid()\n",
    "plt.show()"
   ]
  },
  {
   "cell_type": "markdown",
   "metadata": {},
   "source": [
    "Центрировано-нормированные исходные признаки связаны с центрировано-нормированными главными компонентами следующими выражениями:"
   ]
  },
  {
   "cell_type": "code",
   "execution_count": 27,
   "metadata": {
    "scrolled": true
   },
   "outputs": [
    {
     "name": "stdout",
     "output_type": "stream",
     "text": [
      "X1 = -0.791*F1 + 0.034*F2 + -0.125*F3\n",
      "X2 = 0.503*F1 + -0.624*F2 + -0.442*F3\n",
      "X3 = 0.409*F1 + 0.807*F2 + -0.051*F3\n",
      "X4 = -0.557*F1 + 0.222*F2 + -0.735*F3\n",
      "X5 = 0.726*F1 + 0.186*F2 + -0.366*F3\n"
     ]
    }
   ],
   "source": [
    "for i in range(0,f_len):\n",
    "    print(('X{:1} = '+'{:2.3f}*F{:1} + {:2.3f}*F{:1} + {:2.3f}*F{:1}').format(i+1,A[i][0],1,A[i][1],2,A[i][2],3))"
   ]
  },
  {
   "cell_type": "markdown",
   "metadata": {},
   "source": [
    "## Расчет индивидуальных значений (матрица F)"
   ]
  },
  {
   "cell_type": "markdown",
   "metadata": {},
   "source": [
    "Рассчитаем матрицу индивидуальных значений центрировано-нормированных главных компонент."
   ]
  },
  {
   "cell_type": "code",
   "execution_count": 28,
   "metadata": {
    "scrolled": true
   },
   "outputs": [
    {
     "data": {
      "text/html": [
       "<div>\n",
       "<style scoped>\n",
       "    .dataframe tbody tr th:only-of-type {\n",
       "        vertical-align: middle;\n",
       "    }\n",
       "\n",
       "    .dataframe tbody tr th {\n",
       "        vertical-align: top;\n",
       "    }\n",
       "\n",
       "    .dataframe thead th {\n",
       "        text-align: right;\n",
       "    }\n",
       "</style>\n",
       "<table border=\"1\" class=\"dataframe\">\n",
       "  <thead>\n",
       "    <tr style=\"text-align: right;\">\n",
       "      <th></th>\n",
       "      <th>Factor1</th>\n",
       "      <th>Factor2</th>\n",
       "      <th>Factor3</th>\n",
       "    </tr>\n",
       "  </thead>\n",
       "  <tbody>\n",
       "    <tr>\n",
       "      <th>Абдулинский</th>\n",
       "      <td>-2.815446</td>\n",
       "      <td>-0.617699</td>\n",
       "      <td>-0.767654</td>\n",
       "    </tr>\n",
       "    <tr>\n",
       "      <th>Адамовский</th>\n",
       "      <td>-0.206008</td>\n",
       "      <td>-0.042647</td>\n",
       "      <td>0.126913</td>\n",
       "    </tr>\n",
       "    <tr>\n",
       "      <th>Акбулакский</th>\n",
       "      <td>-0.151871</td>\n",
       "      <td>-0.760080</td>\n",
       "      <td>2.524746</td>\n",
       "    </tr>\n",
       "    <tr>\n",
       "      <th>Александровский</th>\n",
       "      <td>1.117527</td>\n",
       "      <td>-0.798429</td>\n",
       "      <td>0.010020</td>\n",
       "    </tr>\n",
       "    <tr>\n",
       "      <th>Асекеевский</th>\n",
       "      <td>-0.279870</td>\n",
       "      <td>-0.182153</td>\n",
       "      <td>0.947624</td>\n",
       "    </tr>\n",
       "  </tbody>\n",
       "</table>\n",
       "</div>"
      ],
      "text/plain": [
       "                  Factor1   Factor2   Factor3\n",
       "Абдулинский     -2.815446 -0.617699 -0.767654\n",
       "Адамовский      -0.206008 -0.042647  0.126913\n",
       "Акбулакский     -0.151871 -0.760080  2.524746\n",
       "Александровский  1.117527 -0.798429  0.010020\n",
       "Асекеевский     -0.279870 -0.182153  0.947624"
      ]
     },
     "execution_count": 28,
     "metadata": {},
     "output_type": "execute_result"
    }
   ],
   "source": [
    "F=np.dot(np.dot(np.linalg.inv(np.dot(A[:,:pc].T,A[:,:pc])),A[:,:pc].T),data.T)\n",
    "df_F = pd.DataFrame(data=F.T, columns=['Factor'+str(i) for i in range(1,pc+1)], index=data.index).head()\n",
    "df_F"
   ]
  },
  {
   "cell_type": "markdown",
   "metadata": {},
   "source": [
    "# Снижение размерности признакового пространства методом главных факторов"
   ]
  },
  {
   "cell_type": "markdown",
   "metadata": {},
   "source": [
    "## Оценки общностей и ОЦЕНКА редуцированной матрицы"
   ]
  },
  {
   "cell_type": "markdown",
   "metadata": {},
   "source": [
    "### Оценки общностей"
   ]
  },
  {
   "cell_type": "markdown",
   "metadata": {},
   "source": [
    "Оценками общностей будут служить квадраты оценок множественных коэффициентов корреляции."
   ]
  },
  {
   "cell_type": "code",
   "execution_count": 29,
   "metadata": {},
   "outputs": [],
   "source": [
    "communalities=[]\n",
    "for variable in features:\n",
    "    communalities.append(ols(formula=\"{} ~ {}\".format(variable, ' + '.join(set(features)-set([variable]))),\n",
    "                             data=data).fit().rsquared)"
   ]
  },
  {
   "cell_type": "code",
   "execution_count": 30,
   "metadata": {
    "scrolled": true
   },
   "outputs": [
    {
     "data": {
      "text/html": [
       "<div>\n",
       "<style scoped>\n",
       "    .dataframe tbody tr th:only-of-type {\n",
       "        vertical-align: middle;\n",
       "    }\n",
       "\n",
       "    .dataframe tbody tr th {\n",
       "        vertical-align: top;\n",
       "    }\n",
       "\n",
       "    .dataframe thead th {\n",
       "        text-align: right;\n",
       "    }\n",
       "</style>\n",
       "<table border=\"1\" class=\"dataframe\">\n",
       "  <thead>\n",
       "    <tr style=\"text-align: right;\">\n",
       "      <th></th>\n",
       "      <th>Communalities</th>\n",
       "    </tr>\n",
       "  </thead>\n",
       "  <tbody>\n",
       "    <tr>\n",
       "      <th>X7</th>\n",
       "      <td>0.274396</td>\n",
       "    </tr>\n",
       "    <tr>\n",
       "      <th>X15</th>\n",
       "      <td>0.151881</td>\n",
       "    </tr>\n",
       "    <tr>\n",
       "      <th>X17</th>\n",
       "      <td>0.145664</td>\n",
       "    </tr>\n",
       "    <tr>\n",
       "      <th>X23</th>\n",
       "      <td>0.127281</td>\n",
       "    </tr>\n",
       "    <tr>\n",
       "      <th>X27</th>\n",
       "      <td>0.229682</td>\n",
       "    </tr>\n",
       "  </tbody>\n",
       "</table>\n",
       "</div>"
      ],
      "text/plain": [
       "     Communalities\n",
       "X7        0.274396\n",
       "X15       0.151881\n",
       "X17       0.145664\n",
       "X23       0.127281\n",
       "X27       0.229682"
      ]
     },
     "execution_count": 30,
     "metadata": {},
     "output_type": "execute_result"
    }
   ],
   "source": [
    "pd.DataFrame(communalities,index = features,columns = ['Communalities']) # это те самые множественные коэффициенты корреляции, которые являются оценками общностей"
   ]
  },
  {
   "cell_type": "markdown",
   "metadata": {},
   "source": [
    "### Оценка матрицы Rh"
   ]
  },
  {
   "cell_type": "markdown",
   "metadata": {},
   "source": [
    "На основе оценки матрицы парных коэффициентов корреляции и оценок общностей можно составить ОЦЕНКУ редуцированной матрицы R<sub><small>h</small></sub>."
   ]
  },
  {
   "cell_type": "code",
   "execution_count": 31,
   "metadata": {
    "scrolled": true
   },
   "outputs": [
    {
     "data": {
      "text/html": [
       "<div>\n",
       "<style scoped>\n",
       "    .dataframe tbody tr th:only-of-type {\n",
       "        vertical-align: middle;\n",
       "    }\n",
       "\n",
       "    .dataframe tbody tr th {\n",
       "        vertical-align: top;\n",
       "    }\n",
       "\n",
       "    .dataframe thead th {\n",
       "        text-align: right;\n",
       "    }\n",
       "</style>\n",
       "<table border=\"1\" class=\"dataframe\">\n",
       "  <thead>\n",
       "    <tr style=\"text-align: right;\">\n",
       "      <th></th>\n",
       "      <th>X7</th>\n",
       "      <th>X15</th>\n",
       "      <th>X17</th>\n",
       "      <th>X23</th>\n",
       "      <th>X27</th>\n",
       "    </tr>\n",
       "  </thead>\n",
       "  <tbody>\n",
       "    <tr>\n",
       "      <th>X7</th>\n",
       "      <td>0.274396</td>\n",
       "      <td>-0.278069</td>\n",
       "      <td>-0.219503</td>\n",
       "      <td>0.351428</td>\n",
       "      <td>-0.377511</td>\n",
       "    </tr>\n",
       "    <tr>\n",
       "      <th>X15</th>\n",
       "      <td>-0.278069</td>\n",
       "      <td>0.151881</td>\n",
       "      <td>-0.105018</td>\n",
       "      <td>-0.142029</td>\n",
       "      <td>0.258800</td>\n",
       "    </tr>\n",
       "    <tr>\n",
       "      <th>X17</th>\n",
       "      <td>-0.219503</td>\n",
       "      <td>-0.105018</td>\n",
       "      <td>0.145664</td>\n",
       "      <td>-0.052014</td>\n",
       "      <td>0.291052</td>\n",
       "    </tr>\n",
       "    <tr>\n",
       "      <th>X23</th>\n",
       "      <td>0.351428</td>\n",
       "      <td>-0.142029</td>\n",
       "      <td>-0.052014</td>\n",
       "      <td>0.127281</td>\n",
       "      <td>-0.167727</td>\n",
       "    </tr>\n",
       "    <tr>\n",
       "      <th>X27</th>\n",
       "      <td>-0.377511</td>\n",
       "      <td>0.258800</td>\n",
       "      <td>0.291052</td>\n",
       "      <td>-0.167727</td>\n",
       "      <td>0.229682</td>\n",
       "    </tr>\n",
       "  </tbody>\n",
       "</table>\n",
       "</div>"
      ],
      "text/plain": [
       "           X7       X15       X17       X23       X27\n",
       "X7   0.274396 -0.278069 -0.219503  0.351428 -0.377511\n",
       "X15 -0.278069  0.151881 -0.105018 -0.142029  0.258800\n",
       "X17 -0.219503 -0.105018  0.145664 -0.052014  0.291052\n",
       "X23  0.351428 -0.142029 -0.052014  0.127281 -0.167727\n",
       "X27 -0.377511  0.258800  0.291052 -0.167727  0.229682"
      ]
     },
     "execution_count": 31,
     "metadata": {},
     "output_type": "execute_result"
    }
   ],
   "source": [
    "Rh_eval = np.empty((f_len,f_len)) # оценка матрицы Rh - она как R, но на диагоналях оценки общностей\n",
    "for i in range (f_len):\n",
    "    for j in range (f_len):\n",
    "        if i==j:\n",
    "            Rh_eval[i][j] = communalities[i]\n",
    "        else:\n",
    "            Rh_eval[i][j] = correlations.values [i][j]\n",
    "            \n",
    "pd.DataFrame(Rh_eval, index=features, columns=features)"
   ]
  },
  {
   "cell_type": "markdown",
   "metadata": {},
   "source": [
    "## Выбор количества факторов"
   ]
  },
  {
   "cell_type": "markdown",
   "metadata": {},
   "source": [
    "Рассчитаем оценку собственных чисел оцененной матрицы R<sub><small>h</small></sub>."
   ]
  },
  {
   "cell_type": "code",
   "execution_count": 32,
   "metadata": {
    "scrolled": true
   },
   "outputs": [],
   "source": [
    "uns_eigenvalues_Rh_eval,eigenvectors_Rh_eval=np.linalg.eig(Rh_eval)\n",
    "couple_lst=[]\n",
    "for i in range(len(uns_eigenvalues_Rh_eval)): # список по убыванию сз с соответствующими св\n",
    "    couple_lst.append((uns_eigenvalues_Rh_eval[i],eigenvectors_Rh_eval[:,i]))\n",
    "    \n",
    "from operator import itemgetter\n",
    "couple_lst = sorted(couple_lst, key = itemgetter(0),reverse=True)\n",
    "#значениями оценок собственных чисел (eigenvalues), расположенных по убыванию\n",
    "eigenvalues_Rh_eval=sorted(uns_eigenvalues_Rh_eval,reverse=True)\n"
   ]
  },
  {
   "cell_type": "markdown",
   "metadata": {},
   "source": [
    "Выведем собственные значения и соответсвующие им собственые вектора оцененной матрицы R<sub><small>h</small></sub>."
   ]
  },
  {
   "cell_type": "code",
   "execution_count": 33,
   "metadata": {
    "scrolled": true
   },
   "outputs": [
    {
     "data": {
      "text/plain": [
       "[(1.0959859136797714,\n",
       "  array([-0.6034735 ,  0.35006797,  0.28585428, -0.37856324,  0.53688859])),\n",
       " (0.27471085818793256,\n",
       "  array([ 0.05430905, -0.59266597,  0.74978205,  0.21139014,  0.19732879])),\n",
       " (0.04346216615482449,\n",
       "  array([0.23919042, 0.45709624, 0.01866845, 0.71788468, 0.46705894])),\n",
       " (-0.20554761794181142,\n",
       "  array([-0.66685459,  0.09973086,  0.12551297,  0.49965772, -0.52910052])),\n",
       " (-0.27970824190529636,\n",
       "  array([ 0.36188832,  0.55436111,  0.58310564, -0.21676678, -0.41799591]))]"
      ]
     },
     "execution_count": 33,
     "metadata": {},
     "output_type": "execute_result"
    }
   ],
   "source": [
    "couple_lst"
   ]
  },
  {
   "cell_type": "markdown",
   "metadata": {},
   "source": [
    "### Сравнение общности с суммой лямбд"
   ]
  },
  {
   "cell_type": "code",
   "execution_count": 34,
   "metadata": {
    "scrolled": true
   },
   "outputs": [
    {
     "name": "stdout",
     "output_type": "stream",
     "text": [
      "Суммарная общность:  0.9289030781754185\n",
      "Сумма оценок первых двух собственных чисел редуцированной матрицы: 1.370696771867704\n",
      "Размерность признакового пространства можно снизить до двух общих факторов.\n"
     ]
    }
   ],
   "source": [
    "print('Суммарная общность: ', np.trace(Rh_eval))\n",
    "print('Сумма оценок первых двух собственных чисел редуцированной матрицы:', eigenvalues_Rh_eval[0]+eigenvalues_Rh_eval[1])\n",
    "if  np.trace(Rh_eval) < eigenvalues_Rh_eval[0]+eigenvalues_Rh_eval[1]:\n",
    "    print('Размерность признакового пространства можно снизить до двух общих факторов.')\n",
    "else:\n",
    "    print ('До двух факторов снизить нельзя')"
   ]
  },
  {
   "cell_type": "markdown",
   "metadata": {},
   "source": [
    "### Критерий каменистой осыпи"
   ]
  },
  {
   "cell_type": "code",
   "execution_count": 35,
   "metadata": {
    "scrolled": true
   },
   "outputs": [
    {
     "data": {
      "text/html": [
       "<div>\n",
       "<style scoped>\n",
       "    .dataframe tbody tr th:only-of-type {\n",
       "        vertical-align: middle;\n",
       "    }\n",
       "\n",
       "    .dataframe tbody tr th {\n",
       "        vertical-align: top;\n",
       "    }\n",
       "\n",
       "    .dataframe thead th {\n",
       "        text-align: right;\n",
       "    }\n",
       "</style>\n",
       "<table border=\"1\" class=\"dataframe\">\n",
       "  <thead>\n",
       "    <tr style=\"text-align: right;\">\n",
       "      <th></th>\n",
       "      <th>y</th>\n",
       "      <th>x</th>\n",
       "      <th>Tot_var</th>\n",
       "    </tr>\n",
       "  </thead>\n",
       "  <tbody>\n",
       "    <tr>\n",
       "      <th>0</th>\n",
       "      <td>1.095986</td>\n",
       "      <td>0</td>\n",
       "      <td>21.92%</td>\n",
       "    </tr>\n",
       "    <tr>\n",
       "      <th>1</th>\n",
       "      <td>0.274711</td>\n",
       "      <td>1</td>\n",
       "      <td>5.49%</td>\n",
       "    </tr>\n",
       "    <tr>\n",
       "      <th>2</th>\n",
       "      <td>0.043462</td>\n",
       "      <td>2</td>\n",
       "      <td>0.87%</td>\n",
       "    </tr>\n",
       "  </tbody>\n",
       "</table>\n",
       "</div>"
      ],
      "text/plain": [
       "          y  x Tot_var\n",
       "0  1.095986  0  21.92%\n",
       "1  0.274711  1   5.49%\n",
       "2  0.043462  2   0.87%"
      ]
     },
     "execution_count": 35,
     "metadata": {},
     "output_type": "execute_result"
    }
   ],
   "source": [
    "dft = pd.DataFrame([])\n",
    "eigenvalues_pos=[]\n",
    "for i in range (len(eigenvalues_Rh_eval)):\n",
    "    if eigenvalues_Rh_eval[i] >= 0:\n",
    "        eigenvalues_pos.append(eigenvalues_Rh_eval[i])\n",
    "dft['y'] = eigenvalues_pos\n",
    "dft['x'] = list (range(len(eigenvalues_pos)))\n",
    "dft['Tot_var'] = (dft['y']/f_len).apply(lambda x: round(x * 100, 2)).apply(str) + '%'\n",
    "dft"
   ]
  },
  {
   "cell_type": "markdown",
   "metadata": {},
   "source": [
    "Построим график собственных чисел (положительных)."
   ]
  },
  {
   "cell_type": "code",
   "execution_count": 36,
   "metadata": {
    "scrolled": true
   },
   "outputs": [
    {
     "data": {
      "image/png": "[encoded data removed]",
      "text/plain": [
       "<Figure size 432x288 with 1 Axes>"
      ]
     },
     "metadata": {
      "needs_background": "light"
     },
     "output_type": "display_data"
    }
   ],
   "source": [
    "plt.figure(figsize=(6,4))\n",
    "plt.plot(dft['x'], dft['y'], marker='o')\n",
    "ax = plt.gca()\n",
    "dft.apply(lambda x: ax.annotate(x['Tot_var'], (x['x'], x['y'])), axis=1)\n",
    "plt.title('Positive eigenvalues of Rh_eval matrix')\n",
    "plt.grid(axis='y')\n",
    "plt.show()"
   ]
  },
  {
   "cell_type": "markdown",
   "metadata": {},
   "source": [
    "### Критерий Кайзера"
   ]
  },
  {
   "cell_type": "markdown",
   "metadata": {},
   "source": [
    "Посмотрим, сколько факторов предлагает брать критерий Кайзера."
   ]
  },
  {
   "cell_type": "code",
   "execution_count": 37,
   "metadata": {
    "scrolled": true
   },
   "outputs": [
    {
     "name": "stdout",
     "output_type": "stream",
     "text": [
      "Критерий Кайзера предлагает 1 фактор(-а/ов).\n"
     ]
    }
   ],
   "source": [
    "print('Критерий Кайзера предлагает {} фактор(-а/ов).'\n",
    "      .format(len(uns_eigenvalues_Rh_eval[uns_eigenvalues_Rh_eval > 1])))"
   ]
  },
  {
   "cell_type": "markdown",
   "metadata": {},
   "source": [
    "### Итоговое решение (на самом деле придется всегда брать 2)"
   ]
  },
  {
   "cell_type": "markdown",
   "metadata": {},
   "source": [
    "Установим число факторов равное двум."
   ]
  },
  {
   "cell_type": "code",
   "execution_count": 38,
   "metadata": {
    "scrolled": true
   },
   "outputs": [],
   "source": [
    "fact = 2"
   ]
  },
  {
   "cell_type": "markdown",
   "metadata": {},
   "source": [
    "## матрица U"
   ]
  },
  {
   "cell_type": "markdown",
   "metadata": {},
   "source": [
    "Рассчитаем матрицу U."
   ]
  },
  {
   "cell_type": "code",
   "execution_count": 39,
   "metadata": {
    "scrolled": true
   },
   "outputs": [
    {
     "data": {
      "text/html": [
       "<div>\n",
       "<style scoped>\n",
       "    .dataframe tbody tr th:only-of-type {\n",
       "        vertical-align: middle;\n",
       "    }\n",
       "\n",
       "    .dataframe tbody tr th {\n",
       "        vertical-align: top;\n",
       "    }\n",
       "\n",
       "    .dataframe thead th {\n",
       "        text-align: right;\n",
       "    }\n",
       "</style>\n",
       "<table border=\"1\" class=\"dataframe\">\n",
       "  <thead>\n",
       "    <tr style=\"text-align: right;\">\n",
       "      <th></th>\n",
       "      <th>X7</th>\n",
       "      <th>X15</th>\n",
       "      <th>X17</th>\n",
       "      <th>X23</th>\n",
       "      <th>X27</th>\n",
       "    </tr>\n",
       "  </thead>\n",
       "  <tbody>\n",
       "    <tr>\n",
       "      <th>Factor_1</th>\n",
       "      <td>-0.603474</td>\n",
       "      <td>0.350068</td>\n",
       "      <td>0.285854</td>\n",
       "      <td>-0.378563</td>\n",
       "      <td>0.536889</td>\n",
       "    </tr>\n",
       "    <tr>\n",
       "      <th>Factor_2</th>\n",
       "      <td>0.054309</td>\n",
       "      <td>-0.592666</td>\n",
       "      <td>0.749782</td>\n",
       "      <td>0.211390</td>\n",
       "      <td>0.197329</td>\n",
       "    </tr>\n",
       "  </tbody>\n",
       "</table>\n",
       "</div>"
      ],
      "text/plain": [
       "                X7       X15       X17       X23       X27\n",
       "Factor_1 -0.603474  0.350068  0.285854 -0.378563  0.536889\n",
       "Factor_2  0.054309 -0.592666  0.749782  0.211390  0.197329"
      ]
     },
     "execution_count": 39,
     "metadata": {},
     "output_type": "execute_result"
    }
   ],
   "source": [
    "U = np.empty ((fact,f_len)) # матрица U (у неё по строкам собств. вектора, соотв. положительным значениям РЕДУЦИРОВАННОЙ МАТРИЦЫ (уточнить у Домашовой))\n",
    "for i in range(fact):\n",
    "    U[i]=couple_lst[i][1]\n",
    "    \n",
    "df_U=pd.DataFrame( # обертка в датафрейм\n",
    "    data=U,\n",
    "    index=['Factor_' + str(i + 1) for i in range(fact)],\n",
    "    columns=features)\n",
    "df_U"
   ]
  },
  {
   "cell_type": "markdown",
   "metadata": {},
   "source": [
    "### Матрица нагрузок A"
   ]
  },
  {
   "cell_type": "markdown",
   "metadata": {},
   "source": [
    "Рассчитаем матрицу нагрузок."
   ]
  },
  {
   "cell_type": "code",
   "execution_count": 40,
   "metadata": {
    "scrolled": true
   },
   "outputs": [
    {
     "data": {
      "text/html": [
       "<div>\n",
       "<style scoped>\n",
       "    .dataframe tbody tr th:only-of-type {\n",
       "        vertical-align: middle;\n",
       "    }\n",
       "\n",
       "    .dataframe tbody tr th {\n",
       "        vertical-align: top;\n",
       "    }\n",
       "\n",
       "    .dataframe thead th {\n",
       "        text-align: right;\n",
       "    }\n",
       "</style>\n",
       "<table border=\"1\" class=\"dataframe\">\n",
       "  <thead>\n",
       "    <tr style=\"text-align: right;\">\n",
       "      <th></th>\n",
       "      <th>Factor_1</th>\n",
       "      <th>Factor_2</th>\n",
       "    </tr>\n",
       "  </thead>\n",
       "  <tbody>\n",
       "    <tr>\n",
       "      <th>X7</th>\n",
       "      <td>-0.631772</td>\n",
       "      <td>0.028465</td>\n",
       "    </tr>\n",
       "    <tr>\n",
       "      <th>X15</th>\n",
       "      <td>0.366484</td>\n",
       "      <td>-0.310633</td>\n",
       "    </tr>\n",
       "    <tr>\n",
       "      <th>X17</th>\n",
       "      <td>0.299259</td>\n",
       "      <td>0.392982</td>\n",
       "    </tr>\n",
       "    <tr>\n",
       "      <th>X23</th>\n",
       "      <td>-0.396315</td>\n",
       "      <td>0.110796</td>\n",
       "    </tr>\n",
       "    <tr>\n",
       "      <th>X27</th>\n",
       "      <td>0.562065</td>\n",
       "      <td>0.103426</td>\n",
       "    </tr>\n",
       "  </tbody>\n",
       "</table>\n",
       "</div>"
      ],
      "text/plain": [
       "     Factor_1  Factor_2\n",
       "X7  -0.631772  0.028465\n",
       "X15  0.366484 -0.310633\n",
       "X17  0.299259  0.392982\n",
       "X23 -0.396315  0.110796\n",
       "X27  0.562065  0.103426"
      ]
     },
     "execution_count": 40,
     "metadata": {},
     "output_type": "execute_result"
    }
   ],
   "source": [
    "sqrt_l=np.eye(fact)\n",
    "for i in range(fact):\n",
    "    sqrt_l[i][i]=math.sqrt(eigenvalues_Rh_eval[i])  \n",
    "A=np.dot(U.T,sqrt_l)\n",
    "df_A = pd.DataFrame(\n",
    "    data=A,\n",
    "    columns=['Factor_' + str(i + 1) for i in range(fact)],\n",
    "    index=features)\n",
    "df_A # на этом этапе матрица может не совпасть со statistica во всех знаках 1-ого или 2-ого столбца (или в обоих)\n",
    "# Это НЕ ОШИБКА, так как собственные вектора матрицы U (а по ней по сути и строится А) берутся с точностью до знака"
   ]
  },
  {
   "cell_type": "markdown",
   "metadata": {},
   "source": [
    "Если очень хочется подогнать под statistica, то можно написать:"
   ]
  },
  {
   "cell_type": "code",
   "execution_count": 41,
   "metadata": {},
   "outputs": [],
   "source": [
    "#df_A['Factor_1'] *= -1  # если не совпал первый столбец"
   ]
  },
  {
   "cell_type": "code",
   "execution_count": 42,
   "metadata": {},
   "outputs": [],
   "source": [
    "#df_A['Factor_2'] *= -1 #   если не совпал второй столбец"
   ]
  },
  {
   "cell_type": "code",
   "execution_count": 43,
   "metadata": {},
   "outputs": [],
   "source": [
    "#df_A # проверить, совпадает ли теперь"
   ]
  },
  {
   "cell_type": "markdown",
   "metadata": {},
   "source": [
    "Построим расположение исходных признаков на плоскости, образованной двумя главными факторами."
   ]
  },
  {
   "cell_type": "code",
   "execution_count": 44,
   "metadata": {
    "scrolled": true
   },
   "outputs": [
    {
     "data": {
      "image/png": "[encoded data removed]",
      "text/plain": [
       "<Figure size 432x288 with 1 Axes>"
      ]
     },
     "metadata": {
      "needs_background": "light"
     },
     "output_type": "display_data"
    }
   ],
   "source": [
    "plt.scatter(df_A['Factor_1'],df_A['Factor_2'])\n",
    "plt.scatter (0,0,c = 'r') # чтобы было видно, относительно чего потом будем поворачивать\n",
    "plt.grid()\n",
    "plt.title ('factor loadings A')\n",
    "for variable in features :\n",
    "    plt.annotate('{}'.format(variable),xy = (df_A['Factor_1'][variable],df_A['Factor_2'][variable]))"
   ]
  },
  {
   "cell_type": "markdown",
   "metadata": {},
   "source": [
    "## Вращение факторов"
   ]
  },
  {
   "cell_type": "code",
   "execution_count": 45,
   "metadata": {
    "scrolled": true
   },
   "outputs": [],
   "source": [
    "_ = \\\n",
    "'''\n",
    "задумка, чтобы максимально подогнать под статистику\n",
    "\n",
    "Будем осуществлять повороты на углы от 0 до pi/2 с очень маленьким шагом и считать квартимакс(варимакс) \n",
    "для каждого угла\n",
    "По максимальному квартимаксу(варимаксу) отбираем соответствующую матрицу B\n",
    "'''"
   ]
  },
  {
   "cell_type": "code",
   "execution_count": 46,
   "metadata": {
    "scrolled": true
   },
   "outputs": [],
   "source": [
    "def quartimax (X): # ФУНКЦИИ ДЛЯ ВЫБОРА И  РАСЧЕТА КРИТЕРИЯ\n",
    "    value = 0\n",
    "    m = X.shape[1]\n",
    "    for row in X:\n",
    "        value += (sum (row**4) - (sum(row**2))**2)/m**2\n",
    "    return value\n",
    "\n",
    "def varimax (X) :\n",
    "    value = 0\n",
    "    k = X.shape[0]\n",
    "    for row in X.T:\n",
    "        value += (k*sum(row**4) - sum(row**2)**2)/k**2\n",
    "    return value\n",
    "    \n",
    "def criteria (method,X):\n",
    "    if method == 'varimax':\n",
    "        return varimax(X)\n",
    "    elif method == 'quartimax':\n",
    "        return quartimax (X)\n",
    "    else :\n",
    "        print ('wrong input')"
   ]
  },
  {
   "cell_type": "code",
   "execution_count": 47,
   "metadata": {
    "scrolled": true
   },
   "outputs": [],
   "source": [
    "rad_column = [] # это список, в который будут складываться углы в радианах\n",
    "grad_column=[] # это список, в который будут складывать углы в градусах\n",
    "\n",
    "criteria_column = [] # это список, в который будут складываться квартимаксы\n",
    "dict_for_B = {} # это словарь, где ключами будут квартимаксы, а значениями - матрицы\n",
    "\n",
    "for alpha in arange (0,pi/2,0.0001): # Проходим от 0 до pi/2 с шагом 0.0001\n",
    "    \n",
    "    rad_column.append(alpha)\n",
    "    grad_column.append(alpha*180/pi)\n",
    "    \n",
    "    grad = alpha\n",
    "    T = [[cos(grad),sin(grad)],\n",
    "         [-sin(grad),cos(grad)]]\n",
    "    B = np.dot (A,T)\n",
    "    dict_for_B[criteria('quartimax',B)] = B # здесь пишем метод, который мы хотим\n",
    "    criteria_column.append (criteria('quartimax',B)) # и здесь тоже"
   ]
  },
  {
   "cell_type": "code",
   "execution_count": 48,
   "metadata": {
    "scrolled": true
   },
   "outputs": [],
   "source": [
    "df_rotation = pd.DataFrame([]) # дата фрейм, в который мы положим заполненные списки\n",
    "df_rotation['rad'] = rad_column\n",
    "df_rotation['grad'] = grad_column\n",
    "df_rotation ['criteria'] = criteria_column\n",
    "#df_rotation # это по сути и есть та самая сетка"
   ]
  },
  {
   "cell_type": "markdown",
   "metadata": {},
   "source": [
    "### Максимальное значение критерия"
   ]
  },
  {
   "cell_type": "code",
   "execution_count": 49,
   "metadata": {
    "scrolled": true
   },
   "outputs": [
    {
     "data": {
      "text/plain": [
       "-0.016012823514628398"
      ]
     },
     "execution_count": 49,
     "metadata": {},
     "output_type": "execute_result"
    }
   ],
   "source": [
    "criteria_best = df_rotation ['criteria'].max() # ищем максимальное значение критерия\n",
    "criteria_best"
   ]
  },
  {
   "cell_type": "markdown",
   "metadata": {},
   "source": [
    "### Лучший угол для вращения"
   ]
  },
  {
   "cell_type": "code",
   "execution_count": 50,
   "metadata": {
    "scrolled": true
   },
   "outputs": [
    {
     "name": "stdout",
     "output_type": "stream",
     "text": [
      "Лучший угол для вращения :0.051 радиан или 2.928 градусов\n"
     ]
    }
   ],
   "source": [
    "rad_best = df_rotation.loc[df_rotation['criteria'].idxmax(),'rad']# вывод лучшего угла\n",
    "grad_best = df_rotation.loc [df_rotation['criteria'].idxmax(),'grad']\n",
    "print ('Лучший угол для вращения :{:.3f} радиан или {:.3f} градусов'.format (rad_best,grad_best)) "
   ]
  },
  {
   "cell_type": "markdown",
   "metadata": {},
   "source": [
    "### Матрица B "
   ]
  },
  {
   "cell_type": "markdown",
   "metadata": {},
   "source": [
    "Весовые коэффициенты факторов после вращения:"
   ]
  },
  {
   "cell_type": "code",
   "execution_count": 51,
   "metadata": {
    "scrolled": true
   },
   "outputs": [
    {
     "data": {
      "text/html": [
       "<div>\n",
       "<style scoped>\n",
       "    .dataframe tbody tr th:only-of-type {\n",
       "        vertical-align: middle;\n",
       "    }\n",
       "\n",
       "    .dataframe tbody tr th {\n",
       "        vertical-align: top;\n",
       "    }\n",
       "\n",
       "    .dataframe thead th {\n",
       "        text-align: right;\n",
       "    }\n",
       "</style>\n",
       "<table border=\"1\" class=\"dataframe\">\n",
       "  <thead>\n",
       "    <tr style=\"text-align: right;\">\n",
       "      <th></th>\n",
       "      <th>Factor_1</th>\n",
       "      <th>Factor_2</th>\n",
       "    </tr>\n",
       "  </thead>\n",
       "  <tbody>\n",
       "    <tr>\n",
       "      <th>X7</th>\n",
       "      <td>-0.632402</td>\n",
       "      <td>-0.003842</td>\n",
       "    </tr>\n",
       "    <tr>\n",
       "      <th>X15</th>\n",
       "      <td>0.381872</td>\n",
       "      <td>-0.291509</td>\n",
       "    </tr>\n",
       "    <tr>\n",
       "      <th>X17</th>\n",
       "      <td>0.278796</td>\n",
       "      <td>0.407755</td>\n",
       "    </tr>\n",
       "    <tr>\n",
       "      <th>X23</th>\n",
       "      <td>-0.401457</td>\n",
       "      <td>0.090408</td>\n",
       "    </tr>\n",
       "    <tr>\n",
       "      <th>X27</th>\n",
       "      <td>0.556049</td>\n",
       "      <td>0.132000</td>\n",
       "    </tr>\n",
       "  </tbody>\n",
       "</table>\n",
       "</div>"
      ],
      "text/plain": [
       "     Factor_1  Factor_2\n",
       "X7  -0.632402 -0.003842\n",
       "X15  0.381872 -0.291509\n",
       "X17  0.278796  0.407755\n",
       "X23 -0.401457  0.090408\n",
       "X27  0.556049  0.132000"
      ]
     },
     "execution_count": 51,
     "metadata": {},
     "output_type": "execute_result"
    }
   ],
   "source": [
    "B = dict_for_B [criteria_best] # вывод лучшей матрицы\n",
    "df_B = pd.DataFrame(data=B, columns=['Factor_' + str(i + 1) for i in range(fact)], index=features)\n",
    "df_B"
   ]
  },
  {
   "cell_type": "code",
   "execution_count": 52,
   "metadata": {},
   "outputs": [],
   "source": [
    "_ = \\\n",
    "'''\n",
    "Результат может не сходиться со statistica (могут не совпадать все знаки в столбце(-цах), \n",
    "а также в statistica может быть другой порядок столбцов (или всё вместе))\n",
    "Это НЕ ОШИБКА, так как данное несоответствие обуславливается тем, что: \n",
    " a) Могло быть несоответствие в матрице A и его не поправляли\n",
    " б) Угол поворота в statistica был не в интервале [0;pi/2]\n",
    "Если очень хочется подогнать под статистику,то:\n",
    "1)подгоните матрицу A (если надо) \n",
    "2)попробуйте поменять промежуток в цикле на :\n",
    "\n",
    "2a)[pi/2 ; pi]  в случае, если столбцы  поменялись местами и не совпадает знак ПЕРВОГО столбца в полученной матрице\n",
    "2б) [pi;3*pi/2] в случае если столбцы на месте, но отличаются АБСОЛЮТНО ВСЕ ЗНАКИ\n",
    "2в) [3*pi/2;2*pi] в случае если столбцы поменялись местами и не совпадает знак ВТОРОГО столбца в полученной матрице\n",
    "\n",
    "Если у вас матрица B не сходится со статистикой и при этом не подходит ни одному из случаев, то вы либо\n",
    "не подогнали A, либо накосячили ещё где-то )))\n",
    "\n",
    "'''"
   ]
  },
  {
   "cell_type": "code",
   "execution_count": 53,
   "metadata": {
    "scrolled": true
   },
   "outputs": [
    {
     "data": {
      "image/png": "[encoded data removed]",
      "text/plain": [
       "<Figure size 432x288 with 1 Axes>"
      ]
     },
     "metadata": {
      "needs_background": "light"
     },
     "output_type": "display_data"
    }
   ],
   "source": [
    "plt.scatter(df_B['Factor_1'],df_B['Factor_2'])\n",
    "plt.scatter (0,0,c= 'r')\n",
    "plt.grid()\n",
    "plt.title ('factor loadings B')\n",
    "for variable in features :\n",
    "    plt.annotate('{}'.format(variable),xy = (df_B['Factor_1'][variable],df_B['Factor_2'][variable]))\n",
    "    #график может не совпасть со statistica по описанным ранее причинам"
   ]
  },
  {
   "cell_type": "markdown",
   "metadata": {},
   "source": [
    "### Теперь сравниваем два графика (две матрицы) A и B и решаем, помогло ли вращение.Если НЕ помогло, то следует снять комментарий и прораннить следующую строчку:"
   ]
  },
  {
   "cell_type": "code",
   "execution_count": 54,
   "metadata": {
    "scrolled": true
   },
   "outputs": [],
   "source": [
    "#B = A"
   ]
  },
  {
   "cell_type": "markdown",
   "metadata": {},
   "source": [
    "## Rh, D2, значения характерностей"
   ]
  },
  {
   "cell_type": "markdown",
   "metadata": {},
   "source": [
    "Рассчитаем характерности. Для этого нам необходимо получить матрицы R<sub><small>h</small></sub> (оценка редуцированной матрицы) и D<sup>2</sup> (оценка остаточной матрицы парных коэффициентов корреляции)."
   ]
  },
  {
   "cell_type": "code",
   "execution_count": 55,
   "metadata": {
    "scrolled": true
   },
   "outputs": [
    {
     "data": {
      "text/html": [
       "<div>\n",
       "<style scoped>\n",
       "    .dataframe tbody tr th:only-of-type {\n",
       "        vertical-align: middle;\n",
       "    }\n",
       "\n",
       "    .dataframe tbody tr th {\n",
       "        vertical-align: top;\n",
       "    }\n",
       "\n",
       "    .dataframe thead th {\n",
       "        text-align: right;\n",
       "    }\n",
       "</style>\n",
       "<table border=\"1\" class=\"dataframe\">\n",
       "  <thead>\n",
       "    <tr style=\"text-align: right;\">\n",
       "      <th></th>\n",
       "      <th>X7</th>\n",
       "      <th>X15</th>\n",
       "      <th>X17</th>\n",
       "      <th>X23</th>\n",
       "      <th>X27</th>\n",
       "    </tr>\n",
       "  </thead>\n",
       "  <tbody>\n",
       "    <tr>\n",
       "      <th>X7</th>\n",
       "      <td>0.399947</td>\n",
       "      <td>-0.240377</td>\n",
       "      <td>-0.177877</td>\n",
       "      <td>0.253535</td>\n",
       "      <td>-0.352153</td>\n",
       "    </tr>\n",
       "    <tr>\n",
       "      <th>X15</th>\n",
       "      <td>-0.240377</td>\n",
       "      <td>0.230803</td>\n",
       "      <td>-0.012400</td>\n",
       "      <td>-0.179660</td>\n",
       "      <td>0.173860</td>\n",
       "    </tr>\n",
       "    <tr>\n",
       "      <th>X17</th>\n",
       "      <td>-0.177877</td>\n",
       "      <td>-0.012400</td>\n",
       "      <td>0.243991</td>\n",
       "      <td>-0.075060</td>\n",
       "      <td>0.208847</td>\n",
       "    </tr>\n",
       "    <tr>\n",
       "      <th>X23</th>\n",
       "      <td>0.253535</td>\n",
       "      <td>-0.179660</td>\n",
       "      <td>-0.075060</td>\n",
       "      <td>0.169342</td>\n",
       "      <td>-0.211296</td>\n",
       "    </tr>\n",
       "    <tr>\n",
       "      <th>X27</th>\n",
       "      <td>-0.352153</td>\n",
       "      <td>0.173860</td>\n",
       "      <td>0.208847</td>\n",
       "      <td>-0.211296</td>\n",
       "      <td>0.326614</td>\n",
       "    </tr>\n",
       "  </tbody>\n",
       "</table>\n",
       "</div>"
      ],
      "text/plain": [
       "           X7       X15       X17       X23       X27\n",
       "X7   0.399947 -0.240377 -0.177877  0.253535 -0.352153\n",
       "X15 -0.240377  0.230803 -0.012400 -0.179660  0.173860\n",
       "X17 -0.177877 -0.012400  0.243991 -0.075060  0.208847\n",
       "X23  0.253535 -0.179660 -0.075060  0.169342 -0.211296\n",
       "X27 -0.352153  0.173860  0.208847 -0.211296  0.326614"
      ]
     },
     "execution_count": 55,
     "metadata": {},
     "output_type": "execute_result"
    }
   ],
   "source": [
    "Rh_real = np.dot(B,B.T)\n",
    "pd.DataFrame(Rh_real,index = features,columns = features) # в statistica это reproduced corr"
   ]
  },
  {
   "cell_type": "code",
   "execution_count": 56,
   "metadata": {
    "scrolled": true
   },
   "outputs": [
    {
     "data": {
      "text/html": [
       "<div>\n",
       "<style scoped>\n",
       "    .dataframe tbody tr th:only-of-type {\n",
       "        vertical-align: middle;\n",
       "    }\n",
       "\n",
       "    .dataframe tbody tr th {\n",
       "        vertical-align: top;\n",
       "    }\n",
       "\n",
       "    .dataframe thead th {\n",
       "        text-align: right;\n",
       "    }\n",
       "</style>\n",
       "<table border=\"1\" class=\"dataframe\">\n",
       "  <thead>\n",
       "    <tr style=\"text-align: right;\">\n",
       "      <th></th>\n",
       "      <th>X7</th>\n",
       "      <th>X15</th>\n",
       "      <th>X17</th>\n",
       "      <th>X23</th>\n",
       "      <th>X27</th>\n",
       "    </tr>\n",
       "  </thead>\n",
       "  <tbody>\n",
       "    <tr>\n",
       "      <th>X7</th>\n",
       "      <td>0.600053</td>\n",
       "      <td>-0.037692</td>\n",
       "      <td>-0.041626</td>\n",
       "      <td>0.097893</td>\n",
       "      <td>-0.025358</td>\n",
       "    </tr>\n",
       "    <tr>\n",
       "      <th>X15</th>\n",
       "      <td>-0.037692</td>\n",
       "      <td>0.769197</td>\n",
       "      <td>-0.092618</td>\n",
       "      <td>0.037631</td>\n",
       "      <td>0.084939</td>\n",
       "    </tr>\n",
       "    <tr>\n",
       "      <th>X17</th>\n",
       "      <td>-0.041626</td>\n",
       "      <td>-0.092618</td>\n",
       "      <td>0.756009</td>\n",
       "      <td>0.023046</td>\n",
       "      <td>0.082204</td>\n",
       "    </tr>\n",
       "    <tr>\n",
       "      <th>X23</th>\n",
       "      <td>0.097893</td>\n",
       "      <td>0.037631</td>\n",
       "      <td>0.023046</td>\n",
       "      <td>0.830658</td>\n",
       "      <td>0.043569</td>\n",
       "    </tr>\n",
       "    <tr>\n",
       "      <th>X27</th>\n",
       "      <td>-0.025358</td>\n",
       "      <td>0.084939</td>\n",
       "      <td>0.082204</td>\n",
       "      <td>0.043569</td>\n",
       "      <td>0.673386</td>\n",
       "    </tr>\n",
       "  </tbody>\n",
       "</table>\n",
       "</div>"
      ],
      "text/plain": [
       "           X7       X15       X17       X23       X27\n",
       "X7   0.600053 -0.037692 -0.041626  0.097893 -0.025358\n",
       "X15 -0.037692  0.769197 -0.092618  0.037631  0.084939\n",
       "X17 -0.041626 -0.092618  0.756009  0.023046  0.082204\n",
       "X23  0.097893  0.037631  0.023046  0.830658  0.043569\n",
       "X27 -0.025358  0.084939  0.082204  0.043569  0.673386"
      ]
     },
     "execution_count": 56,
     "metadata": {},
     "output_type": "execute_result"
    }
   ],
   "source": [
    "D2 = correlations.values - Rh_real\n",
    "pd.DataFrame(D2,index = features,columns = features) # в statistica это residual corr"
   ]
  },
  {
   "cell_type": "code",
   "execution_count": 57,
   "metadata": {
    "scrolled": true
   },
   "outputs": [
    {
     "data": {
      "text/plain": [
       "[0.7746310775133721,\n",
       " 0.8770385231556297,\n",
       " 0.8694877812833258,\n",
       " 0.9114046576009538,\n",
       " 0.8206009377803851]"
      ]
     },
     "execution_count": 57,
     "metadata": {},
     "output_type": "execute_result"
    }
   ],
   "source": [
    "charact =[]\n",
    "for i in range(D2.shape[0]):\n",
    "    charact.append (math.sqrt(D2[i][i]))\n",
    "    \n",
    "charact"
   ]
  },
  {
   "cell_type": "code",
   "execution_count": 58,
   "metadata": {
    "scrolled": true
   },
   "outputs": [
    {
     "name": "stdout",
     "output_type": "stream",
     "text": [
      "X1 = -0.632*F1 + -0.004*F2 + 0.775*D1\n",
      "X2 = 0.382*F1 + -0.292*F2 + 0.877*D2\n",
      "X3 = 0.279*F1 + 0.408*F2 + 0.869*D3\n",
      "X4 = -0.401*F1 + 0.090*F2 + 0.911*D4\n",
      "X5 = 0.556*F1 + 0.132*F2 + 0.821*D5\n"
     ]
    }
   ],
   "source": [
    "for i in range(0,f_len):\n",
    "    print('X{} = {:.3f}*F{} + {:.3f}*F{} + {:.3f}*D{}'.format(i+1,B[i,0],1,B[i,1],2,charact[i],i+1))"
   ]
  },
  {
   "cell_type": "markdown",
   "metadata": {},
   "source": [
    "## Матрица индивидуальных значений обобщенных факторов (как считает Statistica)"
   ]
  },
  {
   "cell_type": "code",
   "execution_count": 59,
   "metadata": {
    "scrolled": true
   },
   "outputs": [
    {
     "data": {
      "text/plain": [
       "array([[-0.37583147,  0.013227  ],\n",
       "       [ 0.18562557, -0.26932923],\n",
       "       [ 0.11868953,  0.35233547],\n",
       "       [-0.18647231,  0.08571307],\n",
       "       [ 0.30030725,  0.1185239 ]])"
      ]
     },
     "execution_count": 59,
     "metadata": {},
     "output_type": "execute_result"
    }
   ],
   "source": [
    "factor_score_coefficients = np.dot(np.linalg.inv(correlations),B)\n",
    "factor_score_coefficients "
   ]
  },
  {
   "cell_type": "code",
   "execution_count": 60,
   "metadata": {
    "scrolled": true
   },
   "outputs": [
    {
     "data": {
      "text/html": [
       "<div>\n",
       "<style scoped>\n",
       "    .dataframe tbody tr th:only-of-type {\n",
       "        vertical-align: middle;\n",
       "    }\n",
       "\n",
       "    .dataframe tbody tr th {\n",
       "        vertical-align: top;\n",
       "    }\n",
       "\n",
       "    .dataframe thead th {\n",
       "        text-align: right;\n",
       "    }\n",
       "</style>\n",
       "<table border=\"1\" class=\"dataframe\">\n",
       "  <thead>\n",
       "    <tr style=\"text-align: right;\">\n",
       "      <th></th>\n",
       "      <th>Factor1_stat</th>\n",
       "      <th>Factor2_stat</th>\n",
       "    </tr>\n",
       "  </thead>\n",
       "  <tbody>\n",
       "    <tr>\n",
       "      <th>Абдулинский</th>\n",
       "      <td>-2.054917</td>\n",
       "      <td>-0.409638</td>\n",
       "    </tr>\n",
       "    <tr>\n",
       "      <th>Адамовский</th>\n",
       "      <td>-0.199526</td>\n",
       "      <td>-0.007504</td>\n",
       "    </tr>\n",
       "    <tr>\n",
       "      <th>Акбулакский</th>\n",
       "      <td>-0.088454</td>\n",
       "      <td>-0.405816</td>\n",
       "    </tr>\n",
       "    <tr>\n",
       "      <th>Александровский</th>\n",
       "      <td>0.904828</td>\n",
       "      <td>-0.320760</td>\n",
       "    </tr>\n",
       "    <tr>\n",
       "      <th>Асекеевский</th>\n",
       "      <td>-0.158384</td>\n",
       "      <td>-0.138884</td>\n",
       "    </tr>\n",
       "    <tr>\n",
       "      <th>Беляевский</th>\n",
       "      <td>-0.012638</td>\n",
       "      <td>-0.221573</td>\n",
       "    </tr>\n",
       "    <tr>\n",
       "      <th>Бугурусланский</th>\n",
       "      <td>-0.440321</td>\n",
       "      <td>0.290030</td>\n",
       "    </tr>\n",
       "    <tr>\n",
       "      <th>Бузулукский</th>\n",
       "      <td>-0.220042</td>\n",
       "      <td>0.964909</td>\n",
       "    </tr>\n",
       "    <tr>\n",
       "      <th>Гайский</th>\n",
       "      <td>-1.330736</td>\n",
       "      <td>-1.015071</td>\n",
       "    </tr>\n",
       "    <tr>\n",
       "      <th>Грачевский</th>\n",
       "      <td>-0.132164</td>\n",
       "      <td>0.332254</td>\n",
       "    </tr>\n",
       "    <tr>\n",
       "      <th>Домбаровский</th>\n",
       "      <td>-1.198548</td>\n",
       "      <td>0.286908</td>\n",
       "    </tr>\n",
       "    <tr>\n",
       "      <th>Илекский</th>\n",
       "      <td>0.870277</td>\n",
       "      <td>-0.551147</td>\n",
       "    </tr>\n",
       "    <tr>\n",
       "      <th>Кваркенский</th>\n",
       "      <td>-0.613880</td>\n",
       "      <td>0.241580</td>\n",
       "    </tr>\n",
       "    <tr>\n",
       "      <th>Красногвардейский</th>\n",
       "      <td>0.676373</td>\n",
       "      <td>0.415848</td>\n",
       "    </tr>\n",
       "    <tr>\n",
       "      <th>Кувандыкский</th>\n",
       "      <td>0.470479</td>\n",
       "      <td>-0.896432</td>\n",
       "    </tr>\n",
       "    <tr>\n",
       "      <th>Курманаевский</th>\n",
       "      <td>-0.445983</td>\n",
       "      <td>0.227198</td>\n",
       "    </tr>\n",
       "    <tr>\n",
       "      <th>Матвеевский</th>\n",
       "      <td>0.228264</td>\n",
       "      <td>-0.196092</td>\n",
       "    </tr>\n",
       "    <tr>\n",
       "      <th>Новоорский</th>\n",
       "      <td>-0.467806</td>\n",
       "      <td>1.044880</td>\n",
       "    </tr>\n",
       "    <tr>\n",
       "      <th>Новосергиевский</th>\n",
       "      <td>-0.080043</td>\n",
       "      <td>0.183395</td>\n",
       "    </tr>\n",
       "    <tr>\n",
       "      <th>Октябрьский</th>\n",
       "      <td>0.442406</td>\n",
       "      <td>-0.225012</td>\n",
       "    </tr>\n",
       "    <tr>\n",
       "      <th>Оренбургский</th>\n",
       "      <td>0.363900</td>\n",
       "      <td>0.478016</td>\n",
       "    </tr>\n",
       "    <tr>\n",
       "      <th>Первомайский</th>\n",
       "      <td>0.098793</td>\n",
       "      <td>-0.280011</td>\n",
       "    </tr>\n",
       "    <tr>\n",
       "      <th>Переволоцкий</th>\n",
       "      <td>0.444349</td>\n",
       "      <td>0.965136</td>\n",
       "    </tr>\n",
       "    <tr>\n",
       "      <th>Пономаревский</th>\n",
       "      <td>-1.695248</td>\n",
       "      <td>-0.067821</td>\n",
       "    </tr>\n",
       "    <tr>\n",
       "      <th>Сакмарский</th>\n",
       "      <td>0.077704</td>\n",
       "      <td>0.024774</td>\n",
       "    </tr>\n",
       "    <tr>\n",
       "      <th>Саракташский</th>\n",
       "      <td>-0.128151</td>\n",
       "      <td>0.310654</td>\n",
       "    </tr>\n",
       "    <tr>\n",
       "      <th>Светлинский</th>\n",
       "      <td>-0.111926</td>\n",
       "      <td>-0.020490</td>\n",
       "    </tr>\n",
       "    <tr>\n",
       "      <th>Северный</th>\n",
       "      <td>0.072125</td>\n",
       "      <td>-0.526228</td>\n",
       "    </tr>\n",
       "    <tr>\n",
       "      <th>Соль-Илецкий</th>\n",
       "      <td>-0.173260</td>\n",
       "      <td>-0.507043</td>\n",
       "    </tr>\n",
       "    <tr>\n",
       "      <th>Сорочинский</th>\n",
       "      <td>-1.130008</td>\n",
       "      <td>-0.356579</td>\n",
       "    </tr>\n",
       "    <tr>\n",
       "      <th>Ташлинский</th>\n",
       "      <td>0.093562</td>\n",
       "      <td>-0.485729</td>\n",
       "    </tr>\n",
       "    <tr>\n",
       "      <th>Тоцкий</th>\n",
       "      <td>0.654402</td>\n",
       "      <td>0.407018</td>\n",
       "    </tr>\n",
       "    <tr>\n",
       "      <th>Тюльганский</th>\n",
       "      <td>0.565064</td>\n",
       "      <td>0.214989</td>\n",
       "    </tr>\n",
       "    <tr>\n",
       "      <th>Шарлыкский</th>\n",
       "      <td>-1.094024</td>\n",
       "      <td>-0.329925</td>\n",
       "    </tr>\n",
       "    <tr>\n",
       "      <th>Ясненский</th>\n",
       "      <td>1.351138</td>\n",
       "      <td>-1.401205</td>\n",
       "    </tr>\n",
       "    <tr>\n",
       "      <th>г.Абдулино</th>\n",
       "      <td>-0.519230</td>\n",
       "      <td>0.355572</td>\n",
       "    </tr>\n",
       "    <tr>\n",
       "      <th>г.Бугуруслан</th>\n",
       "      <td>-0.128749</td>\n",
       "      <td>-0.106999</td>\n",
       "    </tr>\n",
       "    <tr>\n",
       "      <th>г.Бузулук</th>\n",
       "      <td>0.004702</td>\n",
       "      <td>0.070922</td>\n",
       "    </tr>\n",
       "    <tr>\n",
       "      <th>г.Гай</th>\n",
       "      <td>0.428996</td>\n",
       "      <td>0.495302</td>\n",
       "    </tr>\n",
       "    <tr>\n",
       "      <th>г.Кувандык</th>\n",
       "      <td>0.099043</td>\n",
       "      <td>-0.003600</td>\n",
       "    </tr>\n",
       "    <tr>\n",
       "      <th>г.Медногорск</th>\n",
       "      <td>-0.925580</td>\n",
       "      <td>-0.051207</td>\n",
       "    </tr>\n",
       "    <tr>\n",
       "      <th>г.Новотроицк</th>\n",
       "      <td>0.874006</td>\n",
       "      <td>-0.298309</td>\n",
       "    </tr>\n",
       "    <tr>\n",
       "      <th>г.Оренбург</th>\n",
       "      <td>1.116990</td>\n",
       "      <td>-0.286955</td>\n",
       "    </tr>\n",
       "    <tr>\n",
       "      <th>г.Орск</th>\n",
       "      <td>0.038126</td>\n",
       "      <td>0.342034</td>\n",
       "    </tr>\n",
       "    <tr>\n",
       "      <th>г.Соль-Илецк</th>\n",
       "      <td>1.189652</td>\n",
       "      <td>0.334216</td>\n",
       "    </tr>\n",
       "    <tr>\n",
       "      <th>г.Сорочинск</th>\n",
       "      <td>0.967990</td>\n",
       "      <td>0.527348</td>\n",
       "    </tr>\n",
       "    <tr>\n",
       "      <th>г.Ясный</th>\n",
       "      <td>1.316449</td>\n",
       "      <td>0.597046</td>\n",
       "    </tr>\n",
       "  </tbody>\n",
       "</table>\n",
       "</div>"
      ],
      "text/plain": [
       "                   Factor1_stat  Factor2_stat\n",
       "Абдулинский           -2.054917     -0.409638\n",
       "Адамовский            -0.199526     -0.007504\n",
       "Акбулакский           -0.088454     -0.405816\n",
       "Александровский        0.904828     -0.320760\n",
       "Асекеевский           -0.158384     -0.138884\n",
       "Беляевский            -0.012638     -0.221573\n",
       "Бугурусланский        -0.440321      0.290030\n",
       "Бузулукский           -0.220042      0.964909\n",
       "Гайский               -1.330736     -1.015071\n",
       "Грачевский            -0.132164      0.332254\n",
       "Домбаровский          -1.198548      0.286908\n",
       "Илекский               0.870277     -0.551147\n",
       "Кваркенский           -0.613880      0.241580\n",
       "Красногвардейский      0.676373      0.415848\n",
       "Кувандыкский           0.470479     -0.896432\n",
       "Курманаевский         -0.445983      0.227198\n",
       "Матвеевский            0.228264     -0.196092\n",
       "Новоорский            -0.467806      1.044880\n",
       "Новосергиевский       -0.080043      0.183395\n",
       "Октябрьский            0.442406     -0.225012\n",
       "Оренбургский           0.363900      0.478016\n",
       "Первомайский           0.098793     -0.280011\n",
       "Переволоцкий           0.444349      0.965136\n",
       "Пономаревский         -1.695248     -0.067821\n",
       "Сакмарский             0.077704      0.024774\n",
       "Саракташский          -0.128151      0.310654\n",
       "Светлинский           -0.111926     -0.020490\n",
       "Северный               0.072125     -0.526228\n",
       "Соль-Илецкий          -0.173260     -0.507043\n",
       "Сорочинский           -1.130008     -0.356579\n",
       "Ташлинский             0.093562     -0.485729\n",
       "Тоцкий                 0.654402      0.407018\n",
       "Тюльганский            0.565064      0.214989\n",
       "Шарлыкский            -1.094024     -0.329925\n",
       "Ясненский              1.351138     -1.401205\n",
       "г.Абдулино            -0.519230      0.355572\n",
       "г.Бугуруслан          -0.128749     -0.106999\n",
       "г.Бузулук              0.004702      0.070922\n",
       "г.Гай                  0.428996      0.495302\n",
       "г.Кувандык             0.099043     -0.003600\n",
       "г.Медногорск          -0.925580     -0.051207\n",
       "г.Новотроицк           0.874006     -0.298309\n",
       "г.Оренбург             1.116990     -0.286955\n",
       "г.Орск                 0.038126      0.342034\n",
       "г.Соль-Илецк           1.189652      0.334216\n",
       "г.Сорочинск            0.967990      0.527348\n",
       "г.Ясный                1.316449      0.597046"
      ]
     },
     "execution_count": 60,
     "metadata": {},
     "output_type": "execute_result"
    }
   ],
   "source": [
    "factor_scores = np.dot (data.values,factor_score_coefficients)\n",
    "df_factor_scores_stat = pd.DataFrame (data = factor_scores,index = index , columns = ['Factor1_stat','Factor2_stat'])\n",
    "df_factor_scores_stat # если в матрицах A или B были несовпадения со статистикой по знаку или в порядке столбцов\n",
    "# и вы их не исправляли, то они  иначе отобразятся и здесь\n",
    "# НО ЭТО НЕ ОШИБКА"
   ]
  },
  {
   "cell_type": "markdown",
   "metadata": {},
   "source": [
    " ### Значения факторов (по формулам из лекции)"
   ]
  },
  {
   "cell_type": "code",
   "execution_count": 61,
   "metadata": {
    "scrolled": true
   },
   "outputs": [
    {
     "data": {
      "text/html": [
       "<div>\n",
       "<style scoped>\n",
       "    .dataframe tbody tr th:only-of-type {\n",
       "        vertical-align: middle;\n",
       "    }\n",
       "\n",
       "    .dataframe tbody tr th {\n",
       "        vertical-align: top;\n",
       "    }\n",
       "\n",
       "    .dataframe thead th {\n",
       "        text-align: right;\n",
       "    }\n",
       "</style>\n",
       "<table border=\"1\" class=\"dataframe\">\n",
       "  <thead>\n",
       "    <tr style=\"text-align: right;\">\n",
       "      <th></th>\n",
       "      <th>Factor1_lect</th>\n",
       "      <th>Factor2_lect</th>\n",
       "    </tr>\n",
       "  </thead>\n",
       "  <tbody>\n",
       "    <tr>\n",
       "      <th>Абдулинский</th>\n",
       "      <td>-3.477110</td>\n",
       "      <td>-1.406292</td>\n",
       "    </tr>\n",
       "    <tr>\n",
       "      <th>Адамовский</th>\n",
       "      <td>-0.341795</td>\n",
       "      <td>-0.004796</td>\n",
       "    </tr>\n",
       "    <tr>\n",
       "      <th>Акбулакский</th>\n",
       "      <td>-0.099397</td>\n",
       "      <td>-1.645378</td>\n",
       "    </tr>\n",
       "    <tr>\n",
       "      <th>Александровский</th>\n",
       "      <td>1.595958</td>\n",
       "      <td>-1.426765</td>\n",
       "    </tr>\n",
       "    <tr>\n",
       "      <th>Асекеевский</th>\n",
       "      <td>-0.254101</td>\n",
       "      <td>-0.546513</td>\n",
       "    </tr>\n",
       "    <tr>\n",
       "      <th>Беляевский</th>\n",
       "      <td>0.006987</td>\n",
       "      <td>-0.902986</td>\n",
       "    </tr>\n",
       "    <tr>\n",
       "      <th>Бугурусланский</th>\n",
       "      <td>-0.793996</td>\n",
       "      <td>1.241143</td>\n",
       "    </tr>\n",
       "    <tr>\n",
       "      <th>Бузулукский</th>\n",
       "      <td>-0.502985</td>\n",
       "      <td>3.967958</td>\n",
       "    </tr>\n",
       "    <tr>\n",
       "      <th>Гайский</th>\n",
       "      <td>-2.154616</td>\n",
       "      <td>-3.971903</td>\n",
       "    </tr>\n",
       "    <tr>\n",
       "      <th>Грачевский</th>\n",
       "      <td>-0.270078</td>\n",
       "      <td>1.373621</td>\n",
       "    </tr>\n",
       "    <tr>\n",
       "      <th>Домбаровский</th>\n",
       "      <td>-2.096158</td>\n",
       "      <td>1.326601</td>\n",
       "    </tr>\n",
       "    <tr>\n",
       "      <th>Илекский</th>\n",
       "      <td>1.566441</td>\n",
       "      <td>-2.362896</td>\n",
       "    </tr>\n",
       "    <tr>\n",
       "      <th>Кваркенский</th>\n",
       "      <td>-1.085880</td>\n",
       "      <td>1.065813</td>\n",
       "    </tr>\n",
       "    <tr>\n",
       "      <th>Красногвардейский</th>\n",
       "      <td>1.108090</td>\n",
       "      <td>1.610189</td>\n",
       "    </tr>\n",
       "    <tr>\n",
       "      <th>Кувандыкский</th>\n",
       "      <td>0.924344</td>\n",
       "      <td>-3.720820</td>\n",
       "    </tr>\n",
       "    <tr>\n",
       "      <th>Курманаевский</th>\n",
       "      <td>-0.795584</td>\n",
       "      <td>0.985350</td>\n",
       "    </tr>\n",
       "    <tr>\n",
       "      <th>Матвеевский</th>\n",
       "      <td>0.417534</td>\n",
       "      <td>-0.830155</td>\n",
       "    </tr>\n",
       "    <tr>\n",
       "      <th>Новоорский</th>\n",
       "      <td>-0.938979</td>\n",
       "      <td>4.326548</td>\n",
       "    </tr>\n",
       "    <tr>\n",
       "      <th>Новосергиевский</th>\n",
       "      <td>-0.161259</td>\n",
       "      <td>0.759119</td>\n",
       "    </tr>\n",
       "    <tr>\n",
       "      <th>Октябрьский</th>\n",
       "      <td>0.789158</td>\n",
       "      <td>-0.975963</td>\n",
       "    </tr>\n",
       "    <tr>\n",
       "      <th>Оренбургский</th>\n",
       "      <td>0.563237</td>\n",
       "      <td>1.904478</td>\n",
       "    </tr>\n",
       "    <tr>\n",
       "      <th>Первомайский</th>\n",
       "      <td>0.205984</td>\n",
       "      <td>-1.156005</td>\n",
       "    </tr>\n",
       "    <tr>\n",
       "      <th>Переволоцкий</th>\n",
       "      <td>0.638349</td>\n",
       "      <td>3.882834</td>\n",
       "    </tr>\n",
       "    <tr>\n",
       "      <th>Пономаревский</th>\n",
       "      <td>-2.903502</td>\n",
       "      <td>-0.057332</td>\n",
       "    </tr>\n",
       "    <tr>\n",
       "      <th>Сакмарский</th>\n",
       "      <td>0.130280</td>\n",
       "      <td>0.091079</td>\n",
       "    </tr>\n",
       "    <tr>\n",
       "      <th>Саракташский</th>\n",
       "      <td>-0.260388</td>\n",
       "      <td>1.284911</td>\n",
       "    </tr>\n",
       "    <tr>\n",
       "      <th>Светлинский</th>\n",
       "      <td>-0.189625</td>\n",
       "      <td>-0.069158</td>\n",
       "    </tr>\n",
       "    <tr>\n",
       "      <th>Северный</th>\n",
       "      <td>0.192059</td>\n",
       "      <td>-2.157785</td>\n",
       "    </tr>\n",
       "    <tr>\n",
       "      <th>Соль-Илецкий</th>\n",
       "      <td>-0.231974</td>\n",
       "      <td>-2.047677</td>\n",
       "    </tr>\n",
       "    <tr>\n",
       "      <th>Сорочинский</th>\n",
       "      <td>-1.895071</td>\n",
       "      <td>-1.309456</td>\n",
       "    </tr>\n",
       "    <tr>\n",
       "      <th>Ташлинский</th>\n",
       "      <td>0.223641</td>\n",
       "      <td>-1.995214</td>\n",
       "    </tr>\n",
       "    <tr>\n",
       "      <th>Тоцкий</th>\n",
       "      <td>1.071489</td>\n",
       "      <td>1.576985</td>\n",
       "    </tr>\n",
       "    <tr>\n",
       "      <th>Тюльганский</th>\n",
       "      <td>0.942885</td>\n",
       "      <td>0.804556</td>\n",
       "    </tr>\n",
       "    <tr>\n",
       "      <th>Шарлыкский</th>\n",
       "      <td>-1.836704</td>\n",
       "      <td>-1.205298</td>\n",
       "    </tr>\n",
       "    <tr>\n",
       "      <th>Ясненский</th>\n",
       "      <td>2.502615</td>\n",
       "      <td>-5.895729</td>\n",
       "    </tr>\n",
       "    <tr>\n",
       "      <th>г.Абдулино</th>\n",
       "      <td>-0.938044</td>\n",
       "      <td>1.518951</td>\n",
       "    </tr>\n",
       "    <tr>\n",
       "      <th>г.Бугуруслан</th>\n",
       "      <td>-0.207321</td>\n",
       "      <td>-0.420174</td>\n",
       "    </tr>\n",
       "    <tr>\n",
       "      <th>г.Бузулук</th>\n",
       "      <td>-0.001109</td>\n",
       "      <td>0.288948</td>\n",
       "    </tr>\n",
       "    <tr>\n",
       "      <th>г.Гай</th>\n",
       "      <td>0.672827</td>\n",
       "      <td>1.966621</td>\n",
       "    </tr>\n",
       "    <tr>\n",
       "      <th>г.Кувандык</th>\n",
       "      <td>0.170613</td>\n",
       "      <td>-0.027524</td>\n",
       "    </tr>\n",
       "    <tr>\n",
       "      <th>г.Медногорск</th>\n",
       "      <td>-1.583433</td>\n",
       "      <td>-0.089184</td>\n",
       "    </tr>\n",
       "    <tr>\n",
       "      <th>г.Новотроицк</th>\n",
       "      <td>1.540101</td>\n",
       "      <td>-1.331114</td>\n",
       "    </tr>\n",
       "    <tr>\n",
       "      <th>г.Оренбург</th>\n",
       "      <td>1.956054</td>\n",
       "      <td>-1.316226</td>\n",
       "    </tr>\n",
       "    <tr>\n",
       "      <th>г.Орск</th>\n",
       "      <td>0.021198</td>\n",
       "      <td>1.391491</td>\n",
       "    </tr>\n",
       "    <tr>\n",
       "      <th>г.Соль-Илецк</th>\n",
       "      <td>2.000429</td>\n",
       "      <td>1.210433</td>\n",
       "    </tr>\n",
       "    <tr>\n",
       "      <th>г.Сорочинск</th>\n",
       "      <td>1.594620</td>\n",
       "      <td>2.027643</td>\n",
       "    </tr>\n",
       "    <tr>\n",
       "      <th>г.Ясный</th>\n",
       "      <td>2.184214</td>\n",
       "      <td>2.267073</td>\n",
       "    </tr>\n",
       "  </tbody>\n",
       "</table>\n",
       "</div>"
      ],
      "text/plain": [
       "                   Factor1_lect  Factor2_lect\n",
       "Абдулинский           -3.477110     -1.406292\n",
       "Адамовский            -0.341795     -0.004796\n",
       "Акбулакский           -0.099397     -1.645378\n",
       "Александровский        1.595958     -1.426765\n",
       "Асекеевский           -0.254101     -0.546513\n",
       "Беляевский             0.006987     -0.902986\n",
       "Бугурусланский        -0.793996      1.241143\n",
       "Бузулукский           -0.502985      3.967958\n",
       "Гайский               -2.154616     -3.971903\n",
       "Грачевский            -0.270078      1.373621\n",
       "Домбаровский          -2.096158      1.326601\n",
       "Илекский               1.566441     -2.362896\n",
       "Кваркенский           -1.085880      1.065813\n",
       "Красногвардейский      1.108090      1.610189\n",
       "Кувандыкский           0.924344     -3.720820\n",
       "Курманаевский         -0.795584      0.985350\n",
       "Матвеевский            0.417534     -0.830155\n",
       "Новоорский            -0.938979      4.326548\n",
       "Новосергиевский       -0.161259      0.759119\n",
       "Октябрьский            0.789158     -0.975963\n",
       "Оренбургский           0.563237      1.904478\n",
       "Первомайский           0.205984     -1.156005\n",
       "Переволоцкий           0.638349      3.882834\n",
       "Пономаревский         -2.903502     -0.057332\n",
       "Сакмарский             0.130280      0.091079\n",
       "Саракташский          -0.260388      1.284911\n",
       "Светлинский           -0.189625     -0.069158\n",
       "Северный               0.192059     -2.157785\n",
       "Соль-Илецкий          -0.231974     -2.047677\n",
       "Сорочинский           -1.895071     -1.309456\n",
       "Ташлинский             0.223641     -1.995214\n",
       "Тоцкий                 1.071489      1.576985\n",
       "Тюльганский            0.942885      0.804556\n",
       "Шарлыкский            -1.836704     -1.205298\n",
       "Ясненский              2.502615     -5.895729\n",
       "г.Абдулино            -0.938044      1.518951\n",
       "г.Бугуруслан          -0.207321     -0.420174\n",
       "г.Бузулук             -0.001109      0.288948\n",
       "г.Гай                  0.672827      1.966621\n",
       "г.Кувандык             0.170613     -0.027524\n",
       "г.Медногорск          -1.583433     -0.089184\n",
       "г.Новотроицк           1.540101     -1.331114\n",
       "г.Оренбург             1.956054     -1.316226\n",
       "г.Орск                 0.021198      1.391491\n",
       "г.Соль-Илецк           2.000429      1.210433\n",
       "г.Сорочинск            1.594620      2.027643\n",
       "г.Ясный                2.184214      2.267073"
      ]
     },
     "execution_count": 61,
     "metadata": {},
     "output_type": "execute_result"
    }
   ],
   "source": [
    "Q = np.linalg.inv(np.dot(np.dot(B.T,np.linalg.inv(D2)),B)) # первый множитель в той длинной формуле (чтоб не нагромождать)\n",
    "W = np.dot(np.dot (B.T,np.linalg.inv(D2)),data.values.T) # второй множитель \n",
    "F = np.dot (Q,W)\n",
    "df_factor_scores_lect = pd.DataFrame (data =F.T,index = index, columns = ['Factor1_lect','Factor2_lect'] )\n",
    "df_factor_scores_lect"
   ]
  },
  {
   "cell_type": "markdown",
   "metadata": {},
   "source": [
    "## Объединение двух датафреймов в один и выгрузка в файл"
   ]
  },
  {
   "cell_type": "code",
   "execution_count": 62,
   "metadata": {
    "scrolled": true
   },
   "outputs": [
    {
     "data": {
      "text/html": [
       "<div>\n",
       "<style scoped>\n",
       "    .dataframe tbody tr th:only-of-type {\n",
       "        vertical-align: middle;\n",
       "    }\n",
       "\n",
       "    .dataframe tbody tr th {\n",
       "        vertical-align: top;\n",
       "    }\n",
       "\n",
       "    .dataframe thead th {\n",
       "        text-align: right;\n",
       "    }\n",
       "</style>\n",
       "<table border=\"1\" class=\"dataframe\">\n",
       "  <thead>\n",
       "    <tr style=\"text-align: right;\">\n",
       "      <th></th>\n",
       "      <th>Factor1_lect</th>\n",
       "      <th>Factor2_lect</th>\n",
       "      <th>Factor1_stat</th>\n",
       "      <th>Factor2_stat</th>\n",
       "    </tr>\n",
       "  </thead>\n",
       "  <tbody>\n",
       "    <tr>\n",
       "      <th>Абдулинский</th>\n",
       "      <td>-3.477110</td>\n",
       "      <td>-1.406292</td>\n",
       "      <td>-2.054917</td>\n",
       "      <td>-0.409638</td>\n",
       "    </tr>\n",
       "    <tr>\n",
       "      <th>Адамовский</th>\n",
       "      <td>-0.341795</td>\n",
       "      <td>-0.004796</td>\n",
       "      <td>-0.199526</td>\n",
       "      <td>-0.007504</td>\n",
       "    </tr>\n",
       "    <tr>\n",
       "      <th>Акбулакский</th>\n",
       "      <td>-0.099397</td>\n",
       "      <td>-1.645378</td>\n",
       "      <td>-0.088454</td>\n",
       "      <td>-0.405816</td>\n",
       "    </tr>\n",
       "    <tr>\n",
       "      <th>Александровский</th>\n",
       "      <td>1.595958</td>\n",
       "      <td>-1.426765</td>\n",
       "      <td>0.904828</td>\n",
       "      <td>-0.320760</td>\n",
       "    </tr>\n",
       "    <tr>\n",
       "      <th>Асекеевский</th>\n",
       "      <td>-0.254101</td>\n",
       "      <td>-0.546513</td>\n",
       "      <td>-0.158384</td>\n",
       "      <td>-0.138884</td>\n",
       "    </tr>\n",
       "    <tr>\n",
       "      <th>Беляевский</th>\n",
       "      <td>0.006987</td>\n",
       "      <td>-0.902986</td>\n",
       "      <td>-0.012638</td>\n",
       "      <td>-0.221573</td>\n",
       "    </tr>\n",
       "    <tr>\n",
       "      <th>Бугурусланский</th>\n",
       "      <td>-0.793996</td>\n",
       "      <td>1.241143</td>\n",
       "      <td>-0.440321</td>\n",
       "      <td>0.290030</td>\n",
       "    </tr>\n",
       "    <tr>\n",
       "      <th>Бузулукский</th>\n",
       "      <td>-0.502985</td>\n",
       "      <td>3.967958</td>\n",
       "      <td>-0.220042</td>\n",
       "      <td>0.964909</td>\n",
       "    </tr>\n",
       "    <tr>\n",
       "      <th>Гайский</th>\n",
       "      <td>-2.154616</td>\n",
       "      <td>-3.971903</td>\n",
       "      <td>-1.330736</td>\n",
       "      <td>-1.015071</td>\n",
       "    </tr>\n",
       "    <tr>\n",
       "      <th>Грачевский</th>\n",
       "      <td>-0.270078</td>\n",
       "      <td>1.373621</td>\n",
       "      <td>-0.132164</td>\n",
       "      <td>0.332254</td>\n",
       "    </tr>\n",
       "    <tr>\n",
       "      <th>Домбаровский</th>\n",
       "      <td>-2.096158</td>\n",
       "      <td>1.326601</td>\n",
       "      <td>-1.198548</td>\n",
       "      <td>0.286908</td>\n",
       "    </tr>\n",
       "    <tr>\n",
       "      <th>Илекский</th>\n",
       "      <td>1.566441</td>\n",
       "      <td>-2.362896</td>\n",
       "      <td>0.870277</td>\n",
       "      <td>-0.551147</td>\n",
       "    </tr>\n",
       "    <tr>\n",
       "      <th>Кваркенский</th>\n",
       "      <td>-1.085880</td>\n",
       "      <td>1.065813</td>\n",
       "      <td>-0.613880</td>\n",
       "      <td>0.241580</td>\n",
       "    </tr>\n",
       "    <tr>\n",
       "      <th>Красногвардейский</th>\n",
       "      <td>1.108090</td>\n",
       "      <td>1.610189</td>\n",
       "      <td>0.676373</td>\n",
       "      <td>0.415848</td>\n",
       "    </tr>\n",
       "    <tr>\n",
       "      <th>Кувандыкский</th>\n",
       "      <td>0.924344</td>\n",
       "      <td>-3.720820</td>\n",
       "      <td>0.470479</td>\n",
       "      <td>-0.896432</td>\n",
       "    </tr>\n",
       "    <tr>\n",
       "      <th>Курманаевский</th>\n",
       "      <td>-0.795584</td>\n",
       "      <td>0.985350</td>\n",
       "      <td>-0.445983</td>\n",
       "      <td>0.227198</td>\n",
       "    </tr>\n",
       "    <tr>\n",
       "      <th>Матвеевский</th>\n",
       "      <td>0.417534</td>\n",
       "      <td>-0.830155</td>\n",
       "      <td>0.228264</td>\n",
       "      <td>-0.196092</td>\n",
       "    </tr>\n",
       "    <tr>\n",
       "      <th>Новоорский</th>\n",
       "      <td>-0.938979</td>\n",
       "      <td>4.326548</td>\n",
       "      <td>-0.467806</td>\n",
       "      <td>1.044880</td>\n",
       "    </tr>\n",
       "    <tr>\n",
       "      <th>Новосергиевский</th>\n",
       "      <td>-0.161259</td>\n",
       "      <td>0.759119</td>\n",
       "      <td>-0.080043</td>\n",
       "      <td>0.183395</td>\n",
       "    </tr>\n",
       "    <tr>\n",
       "      <th>Октябрьский</th>\n",
       "      <td>0.789158</td>\n",
       "      <td>-0.975963</td>\n",
       "      <td>0.442406</td>\n",
       "      <td>-0.225012</td>\n",
       "    </tr>\n",
       "    <tr>\n",
       "      <th>Оренбургский</th>\n",
       "      <td>0.563237</td>\n",
       "      <td>1.904478</td>\n",
       "      <td>0.363900</td>\n",
       "      <td>0.478016</td>\n",
       "    </tr>\n",
       "    <tr>\n",
       "      <th>Первомайский</th>\n",
       "      <td>0.205984</td>\n",
       "      <td>-1.156005</td>\n",
       "      <td>0.098793</td>\n",
       "      <td>-0.280011</td>\n",
       "    </tr>\n",
       "    <tr>\n",
       "      <th>Переволоцкий</th>\n",
       "      <td>0.638349</td>\n",
       "      <td>3.882834</td>\n",
       "      <td>0.444349</td>\n",
       "      <td>0.965136</td>\n",
       "    </tr>\n",
       "    <tr>\n",
       "      <th>Пономаревский</th>\n",
       "      <td>-2.903502</td>\n",
       "      <td>-0.057332</td>\n",
       "      <td>-1.695248</td>\n",
       "      <td>-0.067821</td>\n",
       "    </tr>\n",
       "    <tr>\n",
       "      <th>Сакмарский</th>\n",
       "      <td>0.130280</td>\n",
       "      <td>0.091079</td>\n",
       "      <td>0.077704</td>\n",
       "      <td>0.024774</td>\n",
       "    </tr>\n",
       "    <tr>\n",
       "      <th>Саракташский</th>\n",
       "      <td>-0.260388</td>\n",
       "      <td>1.284911</td>\n",
       "      <td>-0.128151</td>\n",
       "      <td>0.310654</td>\n",
       "    </tr>\n",
       "    <tr>\n",
       "      <th>Светлинский</th>\n",
       "      <td>-0.189625</td>\n",
       "      <td>-0.069158</td>\n",
       "      <td>-0.111926</td>\n",
       "      <td>-0.020490</td>\n",
       "    </tr>\n",
       "    <tr>\n",
       "      <th>Северный</th>\n",
       "      <td>0.192059</td>\n",
       "      <td>-2.157785</td>\n",
       "      <td>0.072125</td>\n",
       "      <td>-0.526228</td>\n",
       "    </tr>\n",
       "    <tr>\n",
       "      <th>Соль-Илецкий</th>\n",
       "      <td>-0.231974</td>\n",
       "      <td>-2.047677</td>\n",
       "      <td>-0.173260</td>\n",
       "      <td>-0.507043</td>\n",
       "    </tr>\n",
       "    <tr>\n",
       "      <th>Сорочинский</th>\n",
       "      <td>-1.895071</td>\n",
       "      <td>-1.309456</td>\n",
       "      <td>-1.130008</td>\n",
       "      <td>-0.356579</td>\n",
       "    </tr>\n",
       "    <tr>\n",
       "      <th>Ташлинский</th>\n",
       "      <td>0.223641</td>\n",
       "      <td>-1.995214</td>\n",
       "      <td>0.093562</td>\n",
       "      <td>-0.485729</td>\n",
       "    </tr>\n",
       "    <tr>\n",
       "      <th>Тоцкий</th>\n",
       "      <td>1.071489</td>\n",
       "      <td>1.576985</td>\n",
       "      <td>0.654402</td>\n",
       "      <td>0.407018</td>\n",
       "    </tr>\n",
       "    <tr>\n",
       "      <th>Тюльганский</th>\n",
       "      <td>0.942885</td>\n",
       "      <td>0.804556</td>\n",
       "      <td>0.565064</td>\n",
       "      <td>0.214989</td>\n",
       "    </tr>\n",
       "    <tr>\n",
       "      <th>Шарлыкский</th>\n",
       "      <td>-1.836704</td>\n",
       "      <td>-1.205298</td>\n",
       "      <td>-1.094024</td>\n",
       "      <td>-0.329925</td>\n",
       "    </tr>\n",
       "    <tr>\n",
       "      <th>Ясненский</th>\n",
       "      <td>2.502615</td>\n",
       "      <td>-5.895729</td>\n",
       "      <td>1.351138</td>\n",
       "      <td>-1.401205</td>\n",
       "    </tr>\n",
       "    <tr>\n",
       "      <th>г.Абдулино</th>\n",
       "      <td>-0.938044</td>\n",
       "      <td>1.518951</td>\n",
       "      <td>-0.519230</td>\n",
       "      <td>0.355572</td>\n",
       "    </tr>\n",
       "    <tr>\n",
       "      <th>г.Бугуруслан</th>\n",
       "      <td>-0.207321</td>\n",
       "      <td>-0.420174</td>\n",
       "      <td>-0.128749</td>\n",
       "      <td>-0.106999</td>\n",
       "    </tr>\n",
       "    <tr>\n",
       "      <th>г.Бузулук</th>\n",
       "      <td>-0.001109</td>\n",
       "      <td>0.288948</td>\n",
       "      <td>0.004702</td>\n",
       "      <td>0.070922</td>\n",
       "    </tr>\n",
       "    <tr>\n",
       "      <th>г.Гай</th>\n",
       "      <td>0.672827</td>\n",
       "      <td>1.966621</td>\n",
       "      <td>0.428996</td>\n",
       "      <td>0.495302</td>\n",
       "    </tr>\n",
       "    <tr>\n",
       "      <th>г.Кувандык</th>\n",
       "      <td>0.170613</td>\n",
       "      <td>-0.027524</td>\n",
       "      <td>0.099043</td>\n",
       "      <td>-0.003600</td>\n",
       "    </tr>\n",
       "    <tr>\n",
       "      <th>г.Медногорск</th>\n",
       "      <td>-1.583433</td>\n",
       "      <td>-0.089184</td>\n",
       "      <td>-0.925580</td>\n",
       "      <td>-0.051207</td>\n",
       "    </tr>\n",
       "    <tr>\n",
       "      <th>г.Новотроицк</th>\n",
       "      <td>1.540101</td>\n",
       "      <td>-1.331114</td>\n",
       "      <td>0.874006</td>\n",
       "      <td>-0.298309</td>\n",
       "    </tr>\n",
       "    <tr>\n",
       "      <th>г.Оренбург</th>\n",
       "      <td>1.956054</td>\n",
       "      <td>-1.316226</td>\n",
       "      <td>1.116990</td>\n",
       "      <td>-0.286955</td>\n",
       "    </tr>\n",
       "    <tr>\n",
       "      <th>г.Орск</th>\n",
       "      <td>0.021198</td>\n",
       "      <td>1.391491</td>\n",
       "      <td>0.038126</td>\n",
       "      <td>0.342034</td>\n",
       "    </tr>\n",
       "    <tr>\n",
       "      <th>г.Соль-Илецк</th>\n",
       "      <td>2.000429</td>\n",
       "      <td>1.210433</td>\n",
       "      <td>1.189652</td>\n",
       "      <td>0.334216</td>\n",
       "    </tr>\n",
       "    <tr>\n",
       "      <th>г.Сорочинск</th>\n",
       "      <td>1.594620</td>\n",
       "      <td>2.027643</td>\n",
       "      <td>0.967990</td>\n",
       "      <td>0.527348</td>\n",
       "    </tr>\n",
       "    <tr>\n",
       "      <th>г.Ясный</th>\n",
       "      <td>2.184214</td>\n",
       "      <td>2.267073</td>\n",
       "      <td>1.316449</td>\n",
       "      <td>0.597046</td>\n",
       "    </tr>\n",
       "  </tbody>\n",
       "</table>\n",
       "</div>"
      ],
      "text/plain": [
       "                   Factor1_lect  Factor2_lect  Factor1_stat  Factor2_stat\n",
       "Абдулинский           -3.477110     -1.406292     -2.054917     -0.409638\n",
       "Адамовский            -0.341795     -0.004796     -0.199526     -0.007504\n",
       "Акбулакский           -0.099397     -1.645378     -0.088454     -0.405816\n",
       "Александровский        1.595958     -1.426765      0.904828     -0.320760\n",
       "Асекеевский           -0.254101     -0.546513     -0.158384     -0.138884\n",
       "Беляевский             0.006987     -0.902986     -0.012638     -0.221573\n",
       "Бугурусланский        -0.793996      1.241143     -0.440321      0.290030\n",
       "Бузулукский           -0.502985      3.967958     -0.220042      0.964909\n",
       "Гайский               -2.154616     -3.971903     -1.330736     -1.015071\n",
       "Грачевский            -0.270078      1.373621     -0.132164      0.332254\n",
       "Домбаровский          -2.096158      1.326601     -1.198548      0.286908\n",
       "Илекский               1.566441     -2.362896      0.870277     -0.551147\n",
       "Кваркенский           -1.085880      1.065813     -0.613880      0.241580\n",
       "Красногвардейский      1.108090      1.610189      0.676373      0.415848\n",
       "Кувандыкский           0.924344     -3.720820      0.470479     -0.896432\n",
       "Курманаевский         -0.795584      0.985350     -0.445983      0.227198\n",
       "Матвеевский            0.417534     -0.830155      0.228264     -0.196092\n",
       "Новоорский            -0.938979      4.326548     -0.467806      1.044880\n",
       "Новосергиевский       -0.161259      0.759119     -0.080043      0.183395\n",
       "Октябрьский            0.789158     -0.975963      0.442406     -0.225012\n",
       "Оренбургский           0.563237      1.904478      0.363900      0.478016\n",
       "Первомайский           0.205984     -1.156005      0.098793     -0.280011\n",
       "Переволоцкий           0.638349      3.882834      0.444349      0.965136\n",
       "Пономаревский         -2.903502     -0.057332     -1.695248     -0.067821\n",
       "Сакмарский             0.130280      0.091079      0.077704      0.024774\n",
       "Саракташский          -0.260388      1.284911     -0.128151      0.310654\n",
       "Светлинский           -0.189625     -0.069158     -0.111926     -0.020490\n",
       "Северный               0.192059     -2.157785      0.072125     -0.526228\n",
       "Соль-Илецкий          -0.231974     -2.047677     -0.173260     -0.507043\n",
       "Сорочинский           -1.895071     -1.309456     -1.130008     -0.356579\n",
       "Ташлинский             0.223641     -1.995214      0.093562     -0.485729\n",
       "Тоцкий                 1.071489      1.576985      0.654402      0.407018\n",
       "Тюльганский            0.942885      0.804556      0.565064      0.214989\n",
       "Шарлыкский            -1.836704     -1.205298     -1.094024     -0.329925\n",
       "Ясненский              2.502615     -5.895729      1.351138     -1.401205\n",
       "г.Абдулино            -0.938044      1.518951     -0.519230      0.355572\n",
       "г.Бугуруслан          -0.207321     -0.420174     -0.128749     -0.106999\n",
       "г.Бузулук             -0.001109      0.288948      0.004702      0.070922\n",
       "г.Гай                  0.672827      1.966621      0.428996      0.495302\n",
       "г.Кувандык             0.170613     -0.027524      0.099043     -0.003600\n",
       "г.Медногорск          -1.583433     -0.089184     -0.925580     -0.051207\n",
       "г.Новотроицк           1.540101     -1.331114      0.874006     -0.298309\n",
       "г.Оренбург             1.956054     -1.316226      1.116990     -0.286955\n",
       "г.Орск                 0.021198      1.391491      0.038126      0.342034\n",
       "г.Соль-Илецк           2.000429      1.210433      1.189652      0.334216\n",
       "г.Сорочинск            1.594620      2.027643      0.967990      0.527348\n",
       "г.Ясный                2.184214      2.267073      1.316449      0.597046"
      ]
     },
     "execution_count": 62,
     "metadata": {},
     "output_type": "execute_result"
    }
   ],
   "source": [
    "df_result = pd.concat([df_factor_scores_lect, df_factor_scores_stat], axis=1)\n",
    "df_result"
   ]
  },
  {
   "cell_type": "code",
   "execution_count": 63,
   "metadata": {
    "scrolled": true
   },
   "outputs": [
    {
     "ename": "PermissionError",
     "evalue": "[Errno 13] Permission denied: '4lab_result.xlsx'",
     "output_type": "error",
     "traceback": [
      "\u001b[1;31m---------------------------------------------------------------------------\u001b[0m",
      "\u001b[1;31mPermissionError\u001b[0m                           Traceback (most recent call last)",
      "\u001b[1;32m<ipython-input-63-34c6639953b7>\u001b[0m in \u001b[0;36m<module>\u001b[1;34m()\u001b[0m\n\u001b[1;32m----> 1\u001b[1;33m \u001b[0mdf_result\u001b[0m\u001b[1;33m.\u001b[0m\u001b[0mto_excel\u001b[0m\u001b[1;33m(\u001b[0m\u001b[1;34m'4lab_result.xlsx'\u001b[0m\u001b[1;33m)\u001b[0m\u001b[1;33m\u001b[0m\u001b[0m\n\u001b[0m",
      "\u001b[1;32mC:\\Programs\\Anaconda\\Anaconda\\lib\\site-packages\\pandas\\core\\frame.py\u001b[0m in \u001b[0;36mto_excel\u001b[1;34m(self, excel_writer, sheet_name, na_rep, float_format, columns, header, index, index_label, startrow, startcol, engine, merge_cells, encoding, inf_rep, verbose, freeze_panes)\u001b[0m\n\u001b[0;32m   1764\u001b[0m         formatter.write(excel_writer, sheet_name=sheet_name, startrow=startrow,\n\u001b[0;32m   1765\u001b[0m                         \u001b[0mstartcol\u001b[0m\u001b[1;33m=\u001b[0m\u001b[0mstartcol\u001b[0m\u001b[1;33m,\u001b[0m \u001b[0mfreeze_panes\u001b[0m\u001b[1;33m=\u001b[0m\u001b[0mfreeze_panes\u001b[0m\u001b[1;33m,\u001b[0m\u001b[1;33m\u001b[0m\u001b[0m\n\u001b[1;32m-> 1766\u001b[1;33m                         engine=engine)\n\u001b[0m\u001b[0;32m   1767\u001b[0m \u001b[1;33m\u001b[0m\u001b[0m\n\u001b[0;32m   1768\u001b[0m     def to_stata(self, fname, convert_dates=None, write_index=True,\n",
      "\u001b[1;32mC:\\Programs\\Anaconda\\Anaconda\\lib\\site-packages\\pandas\\io\\formats\\excel.py\u001b[0m in \u001b[0;36mwrite\u001b[1;34m(self, writer, sheet_name, startrow, startcol, freeze_panes, engine)\u001b[0m\n\u001b[0;32m    652\u001b[0m                            freeze_panes=freeze_panes)\n\u001b[0;32m    653\u001b[0m         \u001b[1;32mif\u001b[0m \u001b[0mneed_save\u001b[0m\u001b[1;33m:\u001b[0m\u001b[1;33m\u001b[0m\u001b[0m\n\u001b[1;32m--> 654\u001b[1;33m             \u001b[0mwriter\u001b[0m\u001b[1;33m.\u001b[0m\u001b[0msave\u001b[0m\u001b[1;33m(\u001b[0m\u001b[1;33m)\u001b[0m\u001b[1;33m\u001b[0m\u001b[0m\n\u001b[0m",
      "\u001b[1;32mC:\\Programs\\Anaconda\\Anaconda\\lib\\site-packages\\pandas\\io\\excel.py\u001b[0m in \u001b[0;36msave\u001b[1;34m(self)\u001b[0m\n\u001b[0;32m   1730\u001b[0m         \"\"\"\n\u001b[0;32m   1731\u001b[0m \u001b[1;33m\u001b[0m\u001b[0m\n\u001b[1;32m-> 1732\u001b[1;33m         \u001b[1;32mreturn\u001b[0m \u001b[0mself\u001b[0m\u001b[1;33m.\u001b[0m\u001b[0mbook\u001b[0m\u001b[1;33m.\u001b[0m\u001b[0mclose\u001b[0m\u001b[1;33m(\u001b[0m\u001b[1;33m)\u001b[0m\u001b[1;33m\u001b[0m\u001b[0m\n\u001b[0m\u001b[0;32m   1733\u001b[0m \u001b[1;33m\u001b[0m\u001b[0m\n\u001b[0;32m   1734\u001b[0m     def write_cells(self, cells, sheet_name=None, startrow=0, startcol=0,\n",
      "\u001b[1;32mC:\\Programs\\Anaconda\\Anaconda\\lib\\site-packages\\xlsxwriter\\workbook.py\u001b[0m in \u001b[0;36mclose\u001b[1;34m(self)\u001b[0m\n\u001b[0;32m    304\u001b[0m         \u001b[1;32mif\u001b[0m \u001b[1;32mnot\u001b[0m \u001b[0mself\u001b[0m\u001b[1;33m.\u001b[0m\u001b[0mfileclosed\u001b[0m\u001b[1;33m:\u001b[0m\u001b[1;33m\u001b[0m\u001b[0m\n\u001b[0;32m    305\u001b[0m             \u001b[0mself\u001b[0m\u001b[1;33m.\u001b[0m\u001b[0mfileclosed\u001b[0m \u001b[1;33m=\u001b[0m \u001b[1;36m1\u001b[0m\u001b[1;33m\u001b[0m\u001b[0m\n\u001b[1;32m--> 306\u001b[1;33m             \u001b[0mself\u001b[0m\u001b[1;33m.\u001b[0m\u001b[0m_store_workbook\u001b[0m\u001b[1;33m(\u001b[0m\u001b[1;33m)\u001b[0m\u001b[1;33m\u001b[0m\u001b[0m\n\u001b[0m\u001b[0;32m    307\u001b[0m \u001b[1;33m\u001b[0m\u001b[0m\n\u001b[0;32m    308\u001b[0m     \u001b[1;32mdef\u001b[0m \u001b[0mset_size\u001b[0m\u001b[1;33m(\u001b[0m\u001b[0mself\u001b[0m\u001b[1;33m,\u001b[0m \u001b[0mwidth\u001b[0m\u001b[1;33m,\u001b[0m \u001b[0mheight\u001b[0m\u001b[1;33m)\u001b[0m\u001b[1;33m:\u001b[0m\u001b[1;33m\u001b[0m\u001b[0m\n",
      "\u001b[1;32mC:\\Programs\\Anaconda\\Anaconda\\lib\\site-packages\\xlsxwriter\\workbook.py\u001b[0m in \u001b[0;36m_store_workbook\u001b[1;34m(self)\u001b[0m\n\u001b[0;32m    653\u001b[0m \u001b[1;33m\u001b[0m\u001b[0m\n\u001b[0;32m    654\u001b[0m         xlsx_file = ZipFile(self.filename, \"w\", compression=ZIP_DEFLATED,\n\u001b[1;32m--> 655\u001b[1;33m                             allowZip64=self.allow_zip64)\n\u001b[0m\u001b[0;32m    656\u001b[0m \u001b[1;33m\u001b[0m\u001b[0m\n\u001b[0;32m    657\u001b[0m         \u001b[1;31m# Add XML sub-files to the Zip file with their Excel filename.\u001b[0m\u001b[1;33m\u001b[0m\u001b[1;33m\u001b[0m\u001b[0m\n",
      "\u001b[1;32mC:\\Programs\\Anaconda\\Anaconda\\lib\\zipfile.py\u001b[0m in \u001b[0;36m__init__\u001b[1;34m(self, file, mode, compression, allowZip64, compresslevel)\u001b[0m\n\u001b[0;32m   1180\u001b[0m             \u001b[1;32mwhile\u001b[0m \u001b[1;32mTrue\u001b[0m\u001b[1;33m:\u001b[0m\u001b[1;33m\u001b[0m\u001b[0m\n\u001b[0;32m   1181\u001b[0m                 \u001b[1;32mtry\u001b[0m\u001b[1;33m:\u001b[0m\u001b[1;33m\u001b[0m\u001b[0m\n\u001b[1;32m-> 1182\u001b[1;33m                     \u001b[0mself\u001b[0m\u001b[1;33m.\u001b[0m\u001b[0mfp\u001b[0m \u001b[1;33m=\u001b[0m \u001b[0mio\u001b[0m\u001b[1;33m.\u001b[0m\u001b[0mopen\u001b[0m\u001b[1;33m(\u001b[0m\u001b[0mfile\u001b[0m\u001b[1;33m,\u001b[0m \u001b[0mfilemode\u001b[0m\u001b[1;33m)\u001b[0m\u001b[1;33m\u001b[0m\u001b[0m\n\u001b[0m\u001b[0;32m   1183\u001b[0m                 \u001b[1;32mexcept\u001b[0m \u001b[0mOSError\u001b[0m\u001b[1;33m:\u001b[0m\u001b[1;33m\u001b[0m\u001b[0m\n\u001b[0;32m   1184\u001b[0m                     \u001b[1;32mif\u001b[0m \u001b[0mfilemode\u001b[0m \u001b[1;32min\u001b[0m \u001b[0mmodeDict\u001b[0m\u001b[1;33m:\u001b[0m\u001b[1;33m\u001b[0m\u001b[0m\n",
      "\u001b[1;31mPermissionError\u001b[0m: [Errno 13] Permission denied: '4lab_result.xlsx'"
     ]
    }
   ],
   "source": [
    "df_result.to_excel('4lab_result.xlsx')"
   ]
  },
  {
   "cell_type": "code",
   "execution_count": null,
   "metadata": {},
   "outputs": [],
   "source": []
  },
  {
   "cell_type": "code",
   "execution_count": null,
   "metadata": {},
   "outputs": [],
   "source": []
  }
 ],
 "metadata": {
  "kernelspec": {
   "display_name": "Python 3",
   "language": "python",
   "name": "python3"
  },
  "language_info": {
   "codemirror_mode": {
    "name": "ipython",
    "version": 3
   },
   "file_extension": ".py",
   "mimetype": "text/x-python",
   "name": "python",
   "nbconvert_exporter": "python",
   "pygments_lexer": "ipython3",
   "version": "3.7.0"
  }
 },
 "nbformat": 4,
 "nbformat_minor": 2
}
