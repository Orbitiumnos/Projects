{
 "cells": [
  {
   "cell_type": "code",
   "execution_count": 8,
   "metadata": {},
   "outputs": [],
   "source": [
    "import pandas as pd\n",
    "import numpy as np\n",
    "from sklearn.preprocessing import scale\n",
    "import pylab as pl\n",
    "from sklearn.cluster import KMeans\n",
    "from sklearn.decomposition import PCA\n",
    "from sklearn.tree import DecisionTreeClassifier\n",
    "import matplotlib.pyplot as plt\n",
    "%matplotlib inline"
   ]
  },
  {
   "cell_type": "code",
   "execution_count": 9,
   "metadata": {},
   "outputs": [
    {
     "data": {
      "text/html": [
       "<div>\n",
       "<style scoped>\n",
       "    .dataframe tbody tr th:only-of-type {\n",
       "        vertical-align: middle;\n",
       "    }\n",
       "\n",
       "    .dataframe tbody tr th {\n",
       "        vertical-align: top;\n",
       "    }\n",
       "\n",
       "    .dataframe thead th {\n",
       "        text-align: right;\n",
       "    }\n",
       "</style>\n",
       "<table border=\"1\" class=\"dataframe\">\n",
       "  <thead>\n",
       "    <tr style=\"text-align: right;\">\n",
       "      <th></th>\n",
       "      <th>latitude</th>\n",
       "      <th>longitude</th>\n",
       "    </tr>\n",
       "  </thead>\n",
       "  <tbody>\n",
       "    <tr>\n",
       "      <th>0</th>\n",
       "      <td>18.456792</td>\n",
       "      <td>-69.951164</td>\n",
       "    </tr>\n",
       "    <tr>\n",
       "      <th>5</th>\n",
       "      <td>37.005105</td>\n",
       "      <td>-89.176269</td>\n",
       "    </tr>\n",
       "    <tr>\n",
       "      <th>6</th>\n",
       "      <td>-34.891151</td>\n",
       "      <td>-56.187214</td>\n",
       "    </tr>\n",
       "    <tr>\n",
       "      <th>7</th>\n",
       "      <td>37.791927</td>\n",
       "      <td>-122.225906</td>\n",
       "    </tr>\n",
       "    <tr>\n",
       "      <th>8</th>\n",
       "      <td>43.076592</td>\n",
       "      <td>-89.412488</td>\n",
       "    </tr>\n",
       "    <tr>\n",
       "      <th>9</th>\n",
       "      <td>43.072950</td>\n",
       "      <td>-89.386694</td>\n",
       "    </tr>\n",
       "    <tr>\n",
       "      <th>10</th>\n",
       "      <td>43.468500</td>\n",
       "      <td>-89.744299</td>\n",
       "    </tr>\n",
       "    <tr>\n",
       "      <th>11</th>\n",
       "      <td>39.758968</td>\n",
       "      <td>-104.876305</td>\n",
       "    </tr>\n",
       "    <tr>\n",
       "      <th>12</th>\n",
       "      <td>41.890961</td>\n",
       "      <td>12.490069</td>\n",
       "    </tr>\n",
       "    <tr>\n",
       "      <th>13</th>\n",
       "      <td>42.331685</td>\n",
       "      <td>-83.047924</td>\n",
       "    </tr>\n",
       "  </tbody>\n",
       "</table>\n",
       "</div>"
      ],
      "text/plain": [
       "     latitude   longitude\n",
       "0   18.456792  -69.951164\n",
       "5   37.005105  -89.176269\n",
       "6  -34.891151  -56.187214\n",
       "7   37.791927 -122.225906\n",
       "8   43.076592  -89.412488\n",
       "9   43.072950  -89.386694\n",
       "10  43.468500  -89.744299\n",
       "11  39.758968 -104.876305\n",
       "12  41.890961   12.490069\n",
       "13  42.331685  -83.047924"
      ]
     },
     "execution_count": 9,
     "metadata": {},
     "output_type": "execute_result"
    }
   ],
   "source": [
    "df = pd.read_excel(r'C:\\Jypiter\\data_for_lab_3.xlsx')\n",
    "data = ['latitude','longitude']\n",
    "df = df.loc[:, data]\n",
    "#len_pr = df.shape[0]\n",
    "df.head(10)"
   ]
  },
  {
   "cell_type": "code",
   "execution_count": 10,
   "metadata": {},
   "outputs": [],
   "source": [
    "y = df[['longitude']]\n",
    "x = df[['latitude']]"
   ]
  },
  {
   "cell_type": "code",
   "execution_count": 11,
   "metadata": {},
   "outputs": [
    {
     "data": {
      "image/png": "[encoded data removed]",
      "text/plain": [
       "<Figure size 432x288 with 1 Axes>"
      ]
     },
     "metadata": {
      "needs_background": "light"
     },
     "output_type": "display_data"
    }
   ],
   "source": [
    "Nc = range(1, 20)\n",
    "kmeans = [KMeans(n_clusters=i) for i in Nc]\n",
    "score = [kmeans[i].fit(y).score(y) for i in range(len(kmeans))]\n",
    "\n",
    "pl.plot(Nc,score)\n",
    "pl.xlabel('Number of Clusters')\n",
    "pl.ylabel('Score')\n",
    "pl.title('Elbow Curve')\n",
    "\n",
    "pl.show()"
   ]
  },
  {
   "cell_type": "code",
   "execution_count": 12,
   "metadata": {},
   "outputs": [
    {
     "data": {
      "text/plain": [
       "KMeans(algorithm='auto', copy_x=True, init='k-means++', max_iter=300,\n",
       "    n_clusters=3, n_init=10, n_jobs=1, precompute_distances='auto',\n",
       "    random_state=None, tol=0.0001, verbose=0)"
      ]
     },
     "execution_count": 12,
     "metadata": {},
     "output_type": "execute_result"
    }
   ],
   "source": [
    "pca = PCA(n_components=1).fit(y)\n",
    "\n",
    "pca_d = pca.transform(y)\n",
    "pca_c = pca.transform(x)\n",
    "\n",
    "kmeans=KMeans(n_clusters=3)\n",
    "kmeansoutput=kmeans.fit(y)\n",
    "kmeansoutput"
   ]
  },
  {
   "cell_type": "code",
   "execution_count": 13,
   "metadata": {},
   "outputs": [
    {
     "name": "stdout",
     "output_type": "stream",
     "text": [
      "         latitude   longitude  kmeans\n",
      "0       18.456792  -69.951164       0\n",
      "5       37.005105  -89.176269       0\n",
      "6      -34.891151  -56.187214       0\n",
      "7       37.791927 -122.225906       0\n",
      "8       43.076592  -89.412488       0\n",
      "9       43.072950  -89.386694       0\n",
      "10      43.468500  -89.744299       0\n",
      "11      39.758968 -104.876305       0\n",
      "12      41.890961   12.490069       2\n",
      "13      42.331685  -83.047924       0\n",
      "14      18.386932  -66.061127       0\n",
      "15      52.501530   13.401851       2\n",
      "16      40.697132  -73.931351       0\n",
      "17      18.379998  -65.830948       0\n",
      "18      47.610786 -122.331306       0\n",
      "19      40.116748  -88.239270       0\n",
      "20     -34.891151  -56.187214       0\n",
      "21      47.610786 -122.331306       0\n",
      "22      47.610786 -122.331306       0\n",
      "23      40.717892  -74.067467       0\n",
      "24      14.622869  -90.529068       0\n",
      "25      14.674280  121.057495       1\n",
      "26      10.482834  -66.962128       0\n",
      "27      42.470310  -96.413949       0\n",
      "28      33.606510  -88.650419       0\n",
      "29      40.697132  -73.931351       0\n",
      "30      33.606510  -88.650419       0\n",
      "31      40.697132  -73.931351       0\n",
      "32      41.241996  -82.615241       0\n",
      "33      52.501530   13.401851       2\n",
      "...           ...         ...     ...\n",
      "176360  14.529338   46.830488       2\n",
      "176361  10.227364  -68.016451       0\n",
      "176362  29.968432   67.626633       1\n",
      "176363  32.369560   70.088177       1\n",
      "176364  34.430836   44.934090       2\n",
      "176365  33.743240   44.623825       2\n",
      "176366  18.314753   42.725163       2\n",
      "176367  31.501270   34.558428       2\n",
      "176368  24.798346   93.940430       1\n",
      "176369   6.587095   29.733193       2\n",
      "176370  31.262022   35.214586       2\n",
      "176371   8.301305   30.146123       2\n",
      "176372  26.666494   87.283403       1\n",
      "176373  15.325443   44.211895       2\n",
      "176374  15.325443   44.211895       2\n",
      "176375  40.579722   22.950721       2\n",
      "176376   2.059819   45.326115       2\n",
      "176377   2.059819   45.326115       2\n",
      "176378  12.096358   13.980568       2\n",
      "176379  26.843568   80.061886       1\n",
      "176380   2.059819   45.326115       2\n",
      "176381   6.241925  101.809358       1\n",
      "176382  27.341841   68.708088       1\n",
      "176383  11.274796   49.179657       2\n",
      "176384  32.082523   35.331993       2\n",
      "176385   9.553592    8.803498       2\n",
      "176386  26.730808   85.925307       1\n",
      "176398   9.452652   12.062408       2\n",
      "176409  32.691023   35.975798       2\n",
      "176413  10.503236   11.841122       2\n",
      "\n",
      "[160596 rows x 3 columns]\n"
     ]
    }
   ],
   "source": [
    "df['kmeans'] = kmeans.labels_\n",
    "print(df)\n",
    "df.to_excel('result_lab_3.xlsx')"
   ]
  },
  {
   "cell_type": "code",
   "execution_count": 14,
   "metadata": {
    "scrolled": true
   },
   "outputs": [
    {
     "data": {
      "image/png": "[encoded data removed]",
      "text/plain": [
       "<Figure size 432x288 with 1 Axes>"
      ]
     },
     "metadata": {
      "needs_background": "light"
     },
     "output_type": "display_data"
    }
   ],
   "source": [
    "pl.figure('3 Cluster K-Means')\n",
    "pl.scatter(pca_c[:, 0], pca_d[:, 0], c=kmeansoutput.labels_)\n",
    "pl.xlabel('Latitude')\n",
    "pl.ylabel('Longitude')\n",
    "pl.title('3 Cluster K-Means')\n",
    "pl.show()"
   ]
  }
 ],
 "metadata": {
  "kernelspec": {
   "display_name": "Python 3",
   "language": "python",
   "name": "python3"
  },
  "language_info": {
   "codemirror_mode": {
    "name": "ipython",
    "version": 3
   },
   "file_extension": ".py",
   "mimetype": "text/x-python",
   "name": "python",
   "nbconvert_exporter": "python",
   "pygments_lexer": "ipython3",
   "version": "3.7.0"
  }
 },
 "nbformat": 4,
 "nbformat_minor": 2
}
