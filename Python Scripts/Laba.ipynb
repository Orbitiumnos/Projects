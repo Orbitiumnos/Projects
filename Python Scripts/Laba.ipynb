{
 "cells": [
  {
   "cell_type": "markdown",
   "metadata": {},
   "source": [
    "# Лабораторная работа №2. Дискриминантный анализ.\n"
   ]
  },
  {
   "cell_type": "markdown",
   "metadata": {},
   "source": [
    "### 1. Подготовка библиотек\n",
    "Импортируем необходимые библиотеки:"
   ]
  },
  {
   "cell_type": "code",
   "execution_count": 1,
   "metadata": {},
   "outputs": [],
   "source": [
    "import numpy as np # поддерживает матрицы, массивы, мат.функции для них\n",
    "import pandas as pd # библиотека для анализа данных\n",
    "from scipy.stats import f\n",
    "from scipy.spatial.distance import mahalanobis\n",
    "from sklearn.discriminant_analysis import LinearDiscriminantAnalysis"
   ]
  },
  {
   "cell_type": "markdown",
   "metadata": {},
   "source": [
    "### 2. Преддискриминантный этап анализа\n",
    "Целью дискриминантного анализа является разделение рассматриваемой совокупности объектов или явлений на заданные обучающими выборками классы. Исходные данные для анализа представлены в виде матрицы.\n",
    "\n",
    "Есть два способа создания тренировочной выборки - с помощью списка TRAIN_SAMPLES или заполнение вручную стобца в Excel-файле."
   ]
  },
  {
   "cell_type": "code",
   "execution_count": 2,
   "metadata": {},
   "outputs": [],
   "source": [
    "_ = \\\n",
    "\"\"\"\n",
    "    Что поменять:\n",
    "        0) названия файлов, для считывания и для записи(этот в самом конце)\n",
    "        1) FEATURES\n",
    "        2) задать TRAIN_SAMPLES, если не задается, то удалить параметр из вызова функции gen_train_data\n",
    "        3) задать F to enter в sda\n",
    "\"\"\""
   ]
  },
  {
   "cell_type": "code",
   "execution_count": 3,
   "metadata": {},
   "outputs": [],
   "source": [
    "# В переменную FEATURES записываем названия показателей\n",
    "FEATURES = [\"x1\", \"x2\", \"x3\", \"x4\", \"x5\"] \n",
    "\n",
    "# создаем словарь - для каждого класса перечисляем номера объектов тренировочной выборки в зависимости от варианта\n",
    "\n",
    "TRAIN_SAMPLES = {\n",
    "    1 : [5,9,12,15,20,24,26,34],\n",
    "    2 : [42, 44],\n",
    "    3 : [2,5,11,22,25,29,31,35],\n",
    "}"
   ]
  },
  {
   "cell_type": "code",
   "execution_count": 4,
   "metadata": {
    "scrolled": false
   },
   "outputs": [
    {
     "data": {
      "text/html": [
       "<div>\n",
       "<style scoped>\n",
       "    .dataframe tbody tr th:only-of-type {\n",
       "        vertical-align: middle;\n",
       "    }\n",
       "\n",
       "    .dataframe tbody tr th {\n",
       "        vertical-align: top;\n",
       "    }\n",
       "\n",
       "    .dataframe thead th {\n",
       "        text-align: right;\n",
       "    }\n",
       "</style>\n",
       "<table border=\"1\" class=\"dataframe\">\n",
       "  <thead>\n",
       "    <tr style=\"text-align: right;\">\n",
       "      <th></th>\n",
       "      <th>x1</th>\n",
       "      <th>x2</th>\n",
       "      <th>x3</th>\n",
       "      <th>x4</th>\n",
       "      <th>x5</th>\n",
       "      <th>x6</th>\n",
       "    </tr>\n",
       "  </thead>\n",
       "  <tbody>\n",
       "    <tr>\n",
       "      <th>1</th>\n",
       "      <td>20.8</td>\n",
       "      <td>58.5</td>\n",
       "      <td>69</td>\n",
       "      <td>15626</td>\n",
       "      <td>0.1</td>\n",
       "      <td>NaN</td>\n",
       "    </tr>\n",
       "    <tr>\n",
       "      <th>2</th>\n",
       "      <td>12.4</td>\n",
       "      <td>93.0</td>\n",
       "      <td>180</td>\n",
       "      <td>23410</td>\n",
       "      <td>1.4</td>\n",
       "      <td>3.0</td>\n",
       "    </tr>\n",
       "    <tr>\n",
       "      <th>3</th>\n",
       "      <td>11.9</td>\n",
       "      <td>39.8</td>\n",
       "      <td>224</td>\n",
       "      <td>9855</td>\n",
       "      <td>0.7</td>\n",
       "      <td>NaN</td>\n",
       "    </tr>\n",
       "    <tr>\n",
       "      <th>4</th>\n",
       "      <td>13.6</td>\n",
       "      <td>55.0</td>\n",
       "      <td>116</td>\n",
       "      <td>4881</td>\n",
       "      <td>0.2</td>\n",
       "      <td>3.0</td>\n",
       "    </tr>\n",
       "    <tr>\n",
       "      <th>5</th>\n",
       "      <td>17.2</td>\n",
       "      <td>63.5</td>\n",
       "      <td>172</td>\n",
       "      <td>15466</td>\n",
       "      <td>5.3</td>\n",
       "      <td>1.0</td>\n",
       "    </tr>\n",
       "  </tbody>\n",
       "</table>\n",
       "</div>"
      ],
      "text/plain": [
       "     x1    x2   x3     x4   x5   x6\n",
       "1  20.8  58.5   69  15626  0.1  NaN\n",
       "2  12.4  93.0  180  23410  1.4  3.0\n",
       "3  11.9  39.8  224   9855  0.7  NaN\n",
       "4  13.6  55.0  116   4881  0.2  3.0\n",
       "5  17.2  63.5  172  15466  5.3  1.0"
      ]
     },
     "execution_count": 4,
     "metadata": {},
     "output_type": "execute_result"
    }
   ],
   "source": [
    "data = pd.read_excel(\"C:\\Games\\Ekonometrika\\data_for_lab2_part2_1.xlsx\") # считываем данные из файла (файл, который содержит ВСЕ строки и ВСЕ признаки)\n",
    "data.head() #по умолчанию метод head выведет первые 5 строк"
   ]
  },
  {
   "cell_type": "markdown",
   "metadata": {},
   "source": [
    "Создаем новую переменную, в которую будем записывать все данные, которые необходимо включить в итоговый Excel-файл."
   ]
  },
  {
   "cell_type": "code",
   "execution_count": 5,
   "metadata": {},
   "outputs": [],
   "source": [
    "data_to_excel = data[FEATURES]"
   ]
  },
  {
   "cell_type": "markdown",
   "metadata": {},
   "source": [
    "Далее, вводим функцию gen_train_data по созданию тренировочной выборки.\n",
    "<br>Аргументы функции: \n",
    "- data - данные для анализа\n",
    "- features - названия признаков \n",
    "- train_samples - опциональный параметр: если он передан, то разбиение классов обучающей выборкой задается при помощи train_samples (1 часть ЛР), в противном случае разбиение должно присутствовать в одном из столбцов data (2 часть ЛР)"
   ]
  },
  {
   "cell_type": "code",
   "execution_count": 6,
   "metadata": {},
   "outputs": [],
   "source": [
    "def gen_train_data(data, features, train_samples=None):\n",
    "    if train_samples: # если опциональный параметр задан\n",
    "        train_data = pd.DataFrame() # создаем тренировочную выборку, пока пустую\n",
    "        for cls, samples in train_samples.items(): # в cls записываем номера классов, в samples список объектов этого класса\n",
    "            train_samps = data[features].loc[samples] # выбираем объекты обучающей выборки\n",
    "            train_samps[\"Class\"] = cls # добавляем к ним колонку с номером класса\n",
    "            train_data = pd.concat([train_data, train_samps]) # concat - функция объединения таблиц\n",
    "    else:\n",
    "        assert data.shape[1] == len(features) + 1 # если в исходном файле нет доп.колонки с разбиением, выдаст ошибку\n",
    "        train_data = data.dropna() # берем в тренировочную выборку только те строки, где проставлены классы\n",
    "        cls_col = train_data.drop(columns=features).columns[0] \n",
    "        train_data = train_data.rename({cls_col: \"Class\"}, axis=1) # переименовываем колонку с обучающей выборкой на  \"Class\"\n",
    "    train_data = train_data.astype({\"Class\": 'int32'}) # присваем колонке \"Class\" тип int\n",
    "    return train_data"
   ]
  },
  {
   "cell_type": "code",
   "execution_count": 7,
   "metadata": {
    "scrolled": true
   },
   "outputs": [
    {
     "data": {
      "text/html": [
       "<div>\n",
       "<style scoped>\n",
       "    .dataframe tbody tr th:only-of-type {\n",
       "        vertical-align: middle;\n",
       "    }\n",
       "\n",
       "    .dataframe tbody tr th {\n",
       "        vertical-align: top;\n",
       "    }\n",
       "\n",
       "    .dataframe thead th {\n",
       "        text-align: right;\n",
       "    }\n",
       "</style>\n",
       "<table border=\"1\" class=\"dataframe\">\n",
       "  <thead>\n",
       "    <tr style=\"text-align: right;\">\n",
       "      <th></th>\n",
       "      <th>x1</th>\n",
       "      <th>x2</th>\n",
       "      <th>x3</th>\n",
       "      <th>x4</th>\n",
       "      <th>x5</th>\n",
       "      <th>Class</th>\n",
       "    </tr>\n",
       "  </thead>\n",
       "  <tbody>\n",
       "    <tr>\n",
       "      <th>2</th>\n",
       "      <td>12.4</td>\n",
       "      <td>93.0</td>\n",
       "      <td>180</td>\n",
       "      <td>23410</td>\n",
       "      <td>1.4</td>\n",
       "      <td>3</td>\n",
       "    </tr>\n",
       "    <tr>\n",
       "      <th>4</th>\n",
       "      <td>13.6</td>\n",
       "      <td>55.0</td>\n",
       "      <td>116</td>\n",
       "      <td>4881</td>\n",
       "      <td>0.2</td>\n",
       "      <td>3</td>\n",
       "    </tr>\n",
       "    <tr>\n",
       "      <th>5</th>\n",
       "      <td>17.2</td>\n",
       "      <td>63.5</td>\n",
       "      <td>172</td>\n",
       "      <td>15466</td>\n",
       "      <td>5.3</td>\n",
       "      <td>1</td>\n",
       "    </tr>\n",
       "    <tr>\n",
       "      <th>9</th>\n",
       "      <td>17.7</td>\n",
       "      <td>75.3</td>\n",
       "      <td>77</td>\n",
       "      <td>28919</td>\n",
       "      <td>0.2</td>\n",
       "      <td>1</td>\n",
       "    </tr>\n",
       "    <tr>\n",
       "      <th>11</th>\n",
       "      <td>11.7</td>\n",
       "      <td>51.4</td>\n",
       "      <td>69</td>\n",
       "      <td>7589</td>\n",
       "      <td>7.9</td>\n",
       "      <td>3</td>\n",
       "    </tr>\n",
       "  </tbody>\n",
       "</table>\n",
       "</div>"
      ],
      "text/plain": [
       "      x1    x2   x3     x4   x5  Class\n",
       "2   12.4  93.0  180  23410  1.4      3\n",
       "4   13.6  55.0  116   4881  0.2      3\n",
       "5   17.2  63.5  172  15466  5.3      1\n",
       "9   17.7  75.3   77  28919  0.2      1\n",
       "11  11.7  51.4   69   7589  7.9      3"
      ]
     },
     "execution_count": 7,
     "metadata": {},
     "output_type": "execute_result"
    }
   ],
   "source": [
    "# если классы заданы в файле - TRAIN_SAMPLES надо удалить\n",
    "train_data = gen_train_data(data, FEATURES)\n",
    "train_data.head() # смотрим результаты работы функции gen_train_data"
   ]
  },
  {
   "cell_type": "markdown",
   "metadata": {},
   "source": [
    "Добавим столбец с обучающей выборкой в переменную."
   ]
  },
  {
   "cell_type": "code",
   "execution_count": 8,
   "metadata": {
    "scrolled": true
   },
   "outputs": [],
   "source": [
    "data_to_excel[\"Train sample\"] = train_data.Class"
   ]
  },
  {
   "cell_type": "code",
   "execution_count": null,
   "metadata": {},
   "outputs": [],
   "source": []
  },
  {
   "attachments": {
    "image.png": {
     "image/png": "[encoded data removed]"
    }
   },
   "cell_type": "markdown",
   "metadata": {},
   "source": [
    "Для расчета Лямбды Уилкса необходимо знать: <br>\n",
    "1) общая матрица рассеяния: \n",
    "![image.png](attachment:image.png)"
   ]
  },
  {
   "attachments": {
    "image.png": {
     "image/png": "[encoded data removed]"
    }
   },
   "cell_type": "markdown",
   "metadata": {},
   "source": [
    "2) внутриклассовые матрицы разброса\n",
    "![image.png](attachment:image.png)"
   ]
  },
  {
   "attachments": {
    "image.png": {
     "image/png": "[encoded data removed]"
    }
   },
   "cell_type": "markdown",
   "metadata": {},
   "source": [
    "где ![image.png](attachment:image.png)"
   ]
  },
  {
   "cell_type": "code",
   "execution_count": 9,
   "metadata": {},
   "outputs": [],
   "source": [
    "# проведем расчет матрицы рассеяния \n",
    "\n",
    "def scatter_matrix(samples):\n",
    "    if isinstance(samples, pd.Series):\n",
    "        samples = samples.to_frame()\n",
    "    d = samples - samples.mean()\n",
    "    res = np.zeros((d.shape[1], d.shape[1]))\n",
    "    for _, row in d.iterrows():\n",
    "        col = row.to_frame()\n",
    "        res += col @ col.T\n",
    "    return res"
   ]
  },
  {
   "cell_type": "code",
   "execution_count": 10,
   "metadata": {},
   "outputs": [],
   "source": [
    "# проведем расчет внутриклассовых матриц разброса\n",
    "\n",
    "def classes_scatter_matrix(samples, labels):\n",
    "    A = np.zeros((samples.shape[1], samples.shape[1])) #создаем массив с нулями\n",
    "    for cls in labels.unique(): #находит уникальные значения\n",
    "        A += scatter_matrix(samples[labels == cls])\n",
    "    return A"
   ]
  },
  {
   "cell_type": "markdown",
   "metadata": {},
   "source": [
    "Рассчитаем ковариационную матрицу:"
   ]
  },
  {
   "cell_type": "code",
   "execution_count": 11,
   "metadata": {},
   "outputs": [
    {
     "data": {
      "text/html": [
       "<div>\n",
       "<style scoped>\n",
       "    .dataframe tbody tr th:only-of-type {\n",
       "        vertical-align: middle;\n",
       "    }\n",
       "\n",
       "    .dataframe tbody tr th {\n",
       "        vertical-align: top;\n",
       "    }\n",
       "\n",
       "    .dataframe thead th {\n",
       "        text-align: right;\n",
       "    }\n",
       "</style>\n",
       "<table border=\"1\" class=\"dataframe\">\n",
       "  <thead>\n",
       "    <tr style=\"text-align: right;\">\n",
       "      <th></th>\n",
       "      <th>x1</th>\n",
       "      <th>x2</th>\n",
       "      <th>x3</th>\n",
       "      <th>x4</th>\n",
       "      <th>x5</th>\n",
       "    </tr>\n",
       "  </thead>\n",
       "  <tbody>\n",
       "    <tr>\n",
       "      <th>x1</th>\n",
       "      <td>0.972583</td>\n",
       "      <td>-2.306000</td>\n",
       "      <td>-4.034167e+00</td>\n",
       "      <td>-3.415050e+02</td>\n",
       "      <td>-1.730917</td>\n",
       "    </tr>\n",
       "    <tr>\n",
       "      <th>x2</th>\n",
       "      <td>-2.306000</td>\n",
       "      <td>228.072333</td>\n",
       "      <td>-2.928500e+02</td>\n",
       "      <td>1.228396e+05</td>\n",
       "      <td>-32.641667</td>\n",
       "    </tr>\n",
       "    <tr>\n",
       "      <th>x3</th>\n",
       "      <td>-4.034167</td>\n",
       "      <td>-292.850000</td>\n",
       "      <td>2.122649e+04</td>\n",
       "      <td>-2.142470e+06</td>\n",
       "      <td>1807.107500</td>\n",
       "    </tr>\n",
       "    <tr>\n",
       "      <th>x4</th>\n",
       "      <td>-341.505000</td>\n",
       "      <td>122839.590000</td>\n",
       "      <td>-2.142470e+06</td>\n",
       "      <td>2.966591e+08</td>\n",
       "      <td>-194841.238333</td>\n",
       "    </tr>\n",
       "    <tr>\n",
       "      <th>x5</th>\n",
       "      <td>-1.730917</td>\n",
       "      <td>-32.641667</td>\n",
       "      <td>1.807107e+03</td>\n",
       "      <td>-1.948412e+05</td>\n",
       "      <td>179.418500</td>\n",
       "    </tr>\n",
       "  </tbody>\n",
       "</table>\n",
       "</div>"
      ],
      "text/plain": [
       "            x1             x2            x3            x4             x5\n",
       "x1    0.972583      -2.306000 -4.034167e+00 -3.415050e+02      -1.730917\n",
       "x2   -2.306000     228.072333 -2.928500e+02  1.228396e+05     -32.641667\n",
       "x3   -4.034167    -292.850000  2.122649e+04 -2.142470e+06    1807.107500\n",
       "x4 -341.505000  122839.590000 -2.142470e+06  2.966591e+08 -194841.238333\n",
       "x5   -1.730917     -32.641667  1.807107e+03 -1.948412e+05     179.418500"
      ]
     },
     "execution_count": 11,
     "metadata": {},
     "output_type": "execute_result"
    }
   ],
   "source": [
    "# выведем ковариационную матрицу\n",
    "# она рассчитывается как классовая матрица рассеяния \"classes_scatter_matrix\", деленная на (кол-во объектов - кол-во классов)\n",
    "\n",
    "cov = pd.DataFrame(\n",
    "    classes_scatter_matrix(train_data[FEATURES], train_data.Class) / (train_data.shape[0] - train_data.Class.unique().size), \n",
    "    index=FEATURES, \n",
    "    columns=FEATURES\n",
    ")\n",
    "\n",
    "cov"
   ]
  },
  {
   "cell_type": "markdown",
   "metadata": {},
   "source": [
    "Для проведения дискриминантного анализа используем возможности класса LinearDiscriminantAnalysis."
   ]
  },
  {
   "cell_type": "code",
   "execution_count": 12,
   "metadata": {},
   "outputs": [],
   "source": [
    "# \"обучаем\" модель с помощью метода fit класса LinearDiscriminantAnalysis \n",
    "# в метод fit передаем исходные данные\n",
    "lda = LinearDiscriminantAnalysis().fit(train_data[FEATURES], train_data.Class)"
   ]
  },
  {
   "cell_type": "markdown",
   "metadata": {},
   "source": [
    "Рассчитаем оценки математических ожиданий в классах."
   ]
  },
  {
   "cell_type": "code",
   "execution_count": 13,
   "metadata": {},
   "outputs": [
    {
     "data": {
      "text/html": [
       "<div>\n",
       "<style scoped>\n",
       "    .dataframe tbody tr th:only-of-type {\n",
       "        vertical-align: middle;\n",
       "    }\n",
       "\n",
       "    .dataframe tbody tr th {\n",
       "        vertical-align: top;\n",
       "    }\n",
       "\n",
       "    .dataframe thead th {\n",
       "        text-align: right;\n",
       "    }\n",
       "</style>\n",
       "<table border=\"1\" class=\"dataframe\">\n",
       "  <thead>\n",
       "    <tr style=\"text-align: right;\">\n",
       "      <th></th>\n",
       "      <th>x1</th>\n",
       "      <th>x2</th>\n",
       "      <th>x3</th>\n",
       "      <th>x4</th>\n",
       "      <th>x5</th>\n",
       "    </tr>\n",
       "  </thead>\n",
       "  <tbody>\n",
       "    <tr>\n",
       "      <th>1</th>\n",
       "      <td>16.4500</td>\n",
       "      <td>70.55</td>\n",
       "      <td>136.000</td>\n",
       "      <td>16821.50</td>\n",
       "      <td>4.6875</td>\n",
       "    </tr>\n",
       "    <tr>\n",
       "      <th>2</th>\n",
       "      <td>16.6000</td>\n",
       "      <td>114.05</td>\n",
       "      <td>567.500</td>\n",
       "      <td>59785.50</td>\n",
       "      <td>121.6000</td>\n",
       "    </tr>\n",
       "    <tr>\n",
       "      <th>3</th>\n",
       "      <td>13.0875</td>\n",
       "      <td>75.10</td>\n",
       "      <td>115.875</td>\n",
       "      <td>15918.25</td>\n",
       "      <td>4.7125</td>\n",
       "    </tr>\n",
       "  </tbody>\n",
       "</table>\n",
       "</div>"
      ],
      "text/plain": [
       "        x1      x2       x3        x4        x5\n",
       "1  16.4500   70.55  136.000  16821.50    4.6875\n",
       "2  16.6000  114.05  567.500  59785.50  121.6000\n",
       "3  13.0875   75.10  115.875  15918.25    4.7125"
      ]
     },
     "execution_count": 13,
     "metadata": {},
     "output_type": "execute_result"
    }
   ],
   "source": [
    "# выведем средние значения параметров для каждого класса обучающей выборки\n",
    "means = pd.DataFrame(lda.means_, index=lda.classes_, columns=FEATURES)\n",
    "means"
   ]
  },
  {
   "cell_type": "markdown",
   "metadata": {},
   "source": [
    "### 3.\tДискриминантный анализ"
   ]
  },
  {
   "cell_type": "markdown",
   "metadata": {},
   "source": [
    "Определим линейные дискриминантные функции Фишера.\n",
    "Зададим функцию вывода коэффициентов функции Фишера."
   ]
  },
  {
   "cell_type": "code",
   "execution_count": 14,
   "metadata": {},
   "outputs": [],
   "source": [
    "def get_df_coef(lda, features):\n",
    "    if lda.classes_.size == 2: #если 2 класса, то lda вернет разность коэффициентов функций\n",
    "        return pd.DataFrame(\n",
    "            np.concatenate([lda.intercept_, lda.coef_.ravel()]), #хз, \n",
    "            index=[\"Intercept\"] + features,\n",
    "            columns=[\"Discriminant F\"]\n",
    "        )\n",
    "# если 3 и более классов, то lda вернет несколько функций (аналогично ППП Statistica)\n",
    "    return pd.DataFrame(\n",
    "        np.vstack([lda.intercept_, lda.coef_.T]),\n",
    "        index=[\"Intercept\"] + features,\n",
    "        columns=lda.classes_\n",
    "    )"
   ]
  },
  {
   "cell_type": "code",
   "execution_count": 15,
   "metadata": {},
   "outputs": [
    {
     "data": {
      "text/html": [
       "<div>\n",
       "<style scoped>\n",
       "    .dataframe tbody tr th:only-of-type {\n",
       "        vertical-align: middle;\n",
       "    }\n",
       "\n",
       "    .dataframe tbody tr th {\n",
       "        vertical-align: top;\n",
       "    }\n",
       "\n",
       "    .dataframe thead th {\n",
       "        text-align: right;\n",
       "    }\n",
       "</style>\n",
       "<table border=\"1\" class=\"dataframe\">\n",
       "  <thead>\n",
       "    <tr style=\"text-align: right;\">\n",
       "      <th></th>\n",
       "      <th>1</th>\n",
       "      <th>2</th>\n",
       "      <th>3</th>\n",
       "    </tr>\n",
       "  </thead>\n",
       "  <tbody>\n",
       "    <tr>\n",
       "      <th>Intercept</th>\n",
       "      <td>-11.455689</td>\n",
       "      <td>-423.228453</td>\n",
       "      <td>45.111224</td>\n",
       "    </tr>\n",
       "    <tr>\n",
       "      <th>x1</th>\n",
       "      <td>0.868085</td>\n",
       "      <td>8.154125</td>\n",
       "      <td>-2.906616</td>\n",
       "    </tr>\n",
       "    <tr>\n",
       "      <th>x2</th>\n",
       "      <td>0.055209</td>\n",
       "      <td>-0.557163</td>\n",
       "      <td>0.084082</td>\n",
       "    </tr>\n",
       "    <tr>\n",
       "      <th>x3</th>\n",
       "      <td>0.012508</td>\n",
       "      <td>-0.106458</td>\n",
       "      <td>0.014107</td>\n",
       "    </tr>\n",
       "    <tr>\n",
       "      <th>x4</th>\n",
       "      <td>-0.000225</td>\n",
       "      <td>0.002340</td>\n",
       "      <td>-0.000360</td>\n",
       "    </tr>\n",
       "    <tr>\n",
       "      <th>x5</th>\n",
       "      <td>-0.424308</td>\n",
       "      <td>4.169994</td>\n",
       "      <td>-0.618191</td>\n",
       "    </tr>\n",
       "  </tbody>\n",
       "</table>\n",
       "</div>"
      ],
      "text/plain": [
       "                   1           2          3\n",
       "Intercept -11.455689 -423.228453  45.111224\n",
       "x1          0.868085    8.154125  -2.906616\n",
       "x2          0.055209   -0.557163   0.084082\n",
       "x3          0.012508   -0.106458   0.014107\n",
       "x4         -0.000225    0.002340  -0.000360\n",
       "x5         -0.424308    4.169994  -0.618191"
      ]
     },
     "execution_count": 15,
     "metadata": {},
     "output_type": "execute_result"
    }
   ],
   "source": [
    "df_coef = get_df_coef(lda, FEATURES) # применим эту функцию для наших параметров\n",
    "df_coef"
   ]
  },
  {
   "cell_type": "markdown",
   "metadata": {},
   "source": [
    "Зададим функцию расчета квадратов расстояний Махаланобиса между классами, где:\n",
    " - centers - центры классов\n",
    " - samples - объекты, для которых считаем расстояния\n",
    " - cov - ковариационная матрицы"
   ]
  },
  {
   "cell_type": "code",
   "execution_count": 16,
   "metadata": {},
   "outputs": [],
   "source": [
    "def calc_mahalanobis_square_dist(centers, samples, cov):\n",
    "    # создаем матрицу расстояний между классами и объекnами\n",
    "    res = pd.DataFrame(index=samples.index, columns=centers.index)\n",
    "    for i in centers.index: # проходим по всем центрам классов\n",
    "        for j in samples.index: # проходим по всем объектам\n",
    "            # считаем расстояние между текущим классом и объектом\n",
    "            res[i][j] = mahalanobis(centers.loc[i], samples.loc[j], np.linalg.inv(cov)) ** 2 \n",
    "    return res"
   ]
  },
  {
   "cell_type": "code",
   "execution_count": 17,
   "metadata": {},
   "outputs": [
    {
     "data": {
      "text/html": [
       "<div>\n",
       "<style scoped>\n",
       "    .dataframe tbody tr th:only-of-type {\n",
       "        vertical-align: middle;\n",
       "    }\n",
       "\n",
       "    .dataframe tbody tr th {\n",
       "        vertical-align: top;\n",
       "    }\n",
       "\n",
       "    .dataframe thead th {\n",
       "        text-align: right;\n",
       "    }\n",
       "</style>\n",
       "<table border=\"1\" class=\"dataframe\">\n",
       "  <thead>\n",
       "    <tr style=\"text-align: right;\">\n",
       "      <th></th>\n",
       "      <th>1</th>\n",
       "      <th>2</th>\n",
       "      <th>3</th>\n",
       "    </tr>\n",
       "  </thead>\n",
       "  <tbody>\n",
       "    <tr>\n",
       "      <th>1</th>\n",
       "      <td>0</td>\n",
       "      <td>570.458</td>\n",
       "      <td>12.9088</td>\n",
       "    </tr>\n",
       "    <tr>\n",
       "      <th>2</th>\n",
       "      <td>570.458</td>\n",
       "      <td>0</td>\n",
       "      <td>637.554</td>\n",
       "    </tr>\n",
       "    <tr>\n",
       "      <th>3</th>\n",
       "      <td>12.9088</td>\n",
       "      <td>637.554</td>\n",
       "      <td>0</td>\n",
       "    </tr>\n",
       "  </tbody>\n",
       "</table>\n",
       "</div>"
      ],
      "text/plain": [
       "         1        2        3\n",
       "1        0  570.458  12.9088\n",
       "2  570.458        0  637.554\n",
       "3  12.9088  637.554        0"
      ]
     },
     "execution_count": 17,
     "metadata": {},
     "output_type": "execute_result"
    }
   ],
   "source": [
    "# выведем квадраты расстояний Махаланобиса между классами\n",
    "center_distance = calc_mahalanobis_square_dist(means, means, cov)\n",
    "center_distance"
   ]
  },
  {
   "cell_type": "markdown",
   "metadata": {},
   "source": [
    "Выведем оценки априорных вероятностей:"
   ]
  },
  {
   "cell_type": "code",
   "execution_count": 18,
   "metadata": {},
   "outputs": [
    {
     "data": {
      "text/plain": [
       "array([0.44444444, 0.11111111, 0.44444444])"
      ]
     },
     "execution_count": 18,
     "metadata": {},
     "output_type": "execute_result"
    }
   ],
   "source": [
    "lda.priors_ "
   ]
  },
  {
   "cell_type": "markdown",
   "metadata": {},
   "source": [
    "Далее, определим функцию вывода номеров классов для переданных X:"
   ]
  },
  {
   "cell_type": "code",
   "execution_count": 19,
   "metadata": {},
   "outputs": [],
   "source": [
    "def LDA_predict(lda, X):\n",
    "    return pd.DataFrame(\n",
    "        lda.predict(X),\n",
    "        columns=[\"Class\"],\n",
    "        index=X.index\n",
    "    )"
   ]
  },
  {
   "cell_type": "markdown",
   "metadata": {},
   "source": [
    "Поведем повторную классификацию объектов тренировочной выборки:"
   ]
  },
  {
   "cell_type": "code",
   "execution_count": 20,
   "metadata": {},
   "outputs": [
    {
     "data": {
      "text/plain": [
       "True    1.0\n",
       "Name: Class, dtype: float64"
      ]
     },
     "execution_count": 20,
     "metadata": {},
     "output_type": "execute_result"
    }
   ],
   "source": [
    "lda_predict_train = LDA_predict(lda, train_data[FEATURES])\n",
    "# сравниваем полученные классы с теми, которые были заданы в начале, и смотрим долю совпадения\n",
    "(lda_predict_train.Class == train_data.Class).value_counts(normalize=True)"
   ]
  },
  {
   "cell_type": "markdown",
   "metadata": {},
   "source": [
    "Получим полную картину классификации всех объектов:"
   ]
  },
  {
   "cell_type": "code",
   "execution_count": 21,
   "metadata": {},
   "outputs": [
    {
     "name": "stdout",
     "output_type": "stream",
     "text": [
      "    Class\n",
      "1       1\n",
      "2       3\n",
      "3       3\n",
      "4       3\n",
      "5       1\n",
      "6       3\n",
      "7       1\n",
      "8       1\n",
      "9       1\n",
      "10      1\n",
      "11      3\n",
      "12      1\n",
      "13      1\n",
      "14      2\n",
      "15      1\n",
      "16      1\n",
      "17      1\n",
      "18      1\n",
      "19      1\n",
      "20      1\n",
      "21      3\n",
      "22      3\n",
      "23      2\n",
      "24      1\n",
      "25      3\n",
      "26      1\n",
      "27      3\n",
      "28      1\n",
      "29      3\n",
      "30      1\n",
      "31      3\n",
      "32      3\n",
      "33      3\n",
      "34      1\n",
      "35      3\n",
      "36      1\n",
      "37      1\n",
      "38      2\n",
      "39      1\n",
      "40      1\n",
      "41      1\n",
      "42      2\n",
      "43      1\n",
      "44      2\n",
      "45      3\n",
      "46      3\n",
      "47      3\n"
     ]
    }
   ],
   "source": [
    "lda_predict = LDA_predict(lda, data[FEATURES])\n",
    "lda_predict.head()\n",
    "print(lda_predict)"
   ]
  },
  {
   "cell_type": "markdown",
   "metadata": {},
   "source": [
    "Запишем результаты классификации в переменную."
   ]
  },
  {
   "cell_type": "code",
   "execution_count": 22,
   "metadata": {},
   "outputs": [],
   "source": [
    "data_to_excel[\"Results lda\"] = lda_predict"
   ]
  },
  {
   "cell_type": "markdown",
   "metadata": {},
   "source": [
    "Выведем квадраты расстояний Махаланобиса между классами и объектами:"
   ]
  },
  {
   "cell_type": "code",
   "execution_count": 23,
   "metadata": {},
   "outputs": [
    {
     "name": "stdout",
     "output_type": "stream",
     "text": [
      "           1        2        3\n",
      "1    21.8561  546.512   66.413\n",
      "2    24.2327   688.08  5.63526\n",
      "3    47.9922  740.409  24.6164\n",
      "4    16.0357  706.711  3.42337\n",
      "5    1.33152  562.118  20.0655\n",
      "6     10.753  654.881  8.47284\n",
      "7    11.3442  591.705  43.6299\n",
      "8    7.95404  540.752  37.1539\n",
      "9    2.98299  526.177  26.7725\n",
      "10   22.7777  442.549  32.7601\n",
      "11   29.1642   647.29  6.28389\n",
      "12   5.55532  667.983  10.8848\n",
      "13   10.6162  646.454  22.6697\n",
      "14   217.862  188.214  232.061\n",
      "15   3.07666  540.032  13.5065\n",
      "16   27.1068  406.281  59.8527\n",
      "17   5.54992  599.447  24.3585\n",
      "18   55.4946  362.598  78.1241\n",
      "19   81.5448  329.411   125.25\n",
      "20   1.71936  600.804  5.38642\n",
      "21   152.601  421.481  147.131\n",
      "22   24.1987    599.6   4.8588\n",
      "23   319.199  162.598  338.657\n",
      "24    1.9069  538.917  23.7026\n",
      "25   10.1459  563.542  5.35462\n",
      "26   6.64653  561.004  15.9446\n",
      "27   17.3097  665.947  10.9342\n",
      "28   39.1669   603.93  72.9505\n",
      "29   10.0672  688.232  4.71991\n",
      "30   34.7816  556.213  66.5082\n",
      "31   16.5233  594.995  1.65143\n",
      "32   68.3715  776.297  35.1427\n",
      "33   29.0524  768.655  18.8435\n",
      "34  0.335128  590.187  10.5623\n",
      "35   10.2252  649.303  5.39491\n",
      "36   16.7785  711.515   27.063\n",
      "37   18.6648  601.314  25.9511\n",
      "38   1200.34  766.274  1256.66\n",
      "39   172.071  383.779  192.265\n",
      "40   24.2215  747.847  31.7204\n",
      "41   79.4222  265.178  120.292\n",
      "42   554.064   7.0617   619.09\n",
      "43   747.234  1203.94  749.646\n",
      "44   600.975   7.0617  670.142\n",
      "45     39.77  749.416  15.3363\n",
      "46   18.2067  708.683  14.3181\n",
      "47   58.8044  801.194  21.4591\n"
     ]
    }
   ],
   "source": [
    "samp_dist = calc_mahalanobis_square_dist(means, data[FEATURES], cov)\n",
    "samp_dist.head()\n",
    "print(samp_dist)"
   ]
  },
  {
   "cell_type": "code",
   "execution_count": 24,
   "metadata": {},
   "outputs": [],
   "source": [
    "data_to_excel = pd.concat([data_to_excel, samp_dist.add_prefix(\"lda mahalanobis \")], axis=1)"
   ]
  },
  {
   "cell_type": "markdown",
   "metadata": {},
   "source": [
    "Зададим функцию для вывода апостериорных вероятностей:"
   ]
  },
  {
   "cell_type": "code",
   "execution_count": 25,
   "metadata": {},
   "outputs": [],
   "source": [
    "def LDA_predict_proba(lda, X):\n",
    "    return pd.DataFrame(\n",
    "        lda.predict_proba(X),\n",
    "        columns=lda.classes_,\n",
    "        index=X.index\n",
    "    )"
   ]
  },
  {
   "cell_type": "markdown",
   "metadata": {},
   "source": [
    "Применим функцию LDA_predict_proba для наших данных:"
   ]
  },
  {
   "cell_type": "code",
   "execution_count": 26,
   "metadata": {},
   "outputs": [
    {
     "name": "stdout",
     "output_type": "stream",
     "text": [
      "               1              2             3\n",
      "1   9.999997e-01  3.713101e-112  2.654311e-07\n",
      "2   4.108247e-01  2.387588e-145  5.891753e-01\n",
      "3   4.431163e-01  2.386399e-151  5.568837e-01\n",
      "4   4.936277e-01  5.144863e-150  5.063723e-01\n",
      "5   9.973547e-01  1.307393e-121  2.645274e-03\n",
      "6   4.942529e-01  4.980774e-140  5.057471e-01\n",
      "7   9.998230e-01  4.296605e-124  1.770416e-04\n",
      "8   9.999699e-01  3.328679e-115  3.014983e-05\n",
      "9   9.999149e-01  7.646950e-114  8.509544e-05\n",
      "10  9.932368e-01   1.751894e-92  6.763201e-03\n",
      "11  6.150709e-02  9.816068e-137  9.384929e-01\n",
      "12  5.075683e-01  7.896784e-143  4.924317e-01\n",
      "13  6.592566e-01  6.197683e-137  3.407434e-01\n",
      "14  1.458583e-06   9.999985e-01  1.204392e-09\n",
      "15  9.879204e-01  1.410795e-117  1.207960e-02\n",
      "16  9.999999e-01   1.184026e-83  7.968216e-08\n",
      "17  9.845443e-01  5.186990e-128  1.545574e-02\n",
      "18  9.999878e-01   5.143275e-68  1.219216e-05\n",
      "19  1.000000e+00   3.753750e-55  3.233671e-10\n",
      "20  6.050343e-01  1.216302e-130  3.949657e-01\n",
      "21  6.092777e-02   6.254661e-61  9.390722e-01\n",
      "22  1.400533e-02  4.014912e-128  9.859947e-01\n",
      "23  1.736423e-16   1.000000e+00  1.034046e-20\n",
      "24  9.996882e-01  1.034134e-116  3.117557e-04\n",
      "25  1.518620e-01  2.852156e-122  8.481380e-01\n",
      "26  9.675844e-01  3.641377e-121  3.241555e-02\n",
      "27  4.845162e-01  2.731488e-141  5.154838e-01\n",
      "28  9.999509e-01  6.146740e-121  4.912576e-05\n",
      "29  4.976125e-01  6.670732e-147  5.023875e-01\n",
      "30  9.999920e-01  9.134742e-113  7.956125e-06\n",
      "31  4.257387e-02  2.710147e-128  9.574261e-01\n",
      "32  3.368380e-01  3.229793e-155  6.631620e-01\n",
      "33  4.997515e-01  3.119640e-159  5.002485e-01\n",
      "34  8.880139e-01  4.357213e-128  1.119861e-01\n",
      "35  4.824110e-01  2.719069e-139  5.175890e-01\n",
      "36  5.053567e-01  1.369275e-148  4.946433e-01\n",
      "37  8.374013e-01  5.658963e-127  1.625987e-01\n",
      "38  1.268829e-19   1.000000e+00  7.452886e-32\n",
      "39  9.999588e-01   2.666974e-47  4.118897e-05\n",
      "40  5.004924e-01  1.937786e-154  4.995076e-01\n",
      "41  1.000000e+00   1.152086e-41  1.334498e-09\n",
      "42  1.651884e-21   1.000000e+00  1.253062e-35\n",
      "43  7.692880e-01  1.296067e-100  2.307120e-01\n",
      "44  3.060770e-22   1.000000e+00  2.927664e-37\n",
      "45  4.706527e-01  8.473078e-155  5.293473e-01\n",
      "46  4.991954e-01  3.864760e-149  5.008046e-01\n",
      "47  4.243676e-01  2.501912e-162  5.756324e-01\n"
     ]
    }
   ],
   "source": [
    "lda_post_prob = LDA_predict_proba(lda, data[FEATURES])\n",
    "lda_post_prob.head()\n",
    "print(lda_post_prob)"
   ]
  },
  {
   "cell_type": "code",
   "execution_count": 27,
   "metadata": {},
   "outputs": [],
   "source": [
    "data_to_excel = pd.concat([data_to_excel, lda_post_prob.add_prefix(\"lda post prob \")], axis=1)"
   ]
  },
  {
   "cell_type": "markdown",
   "metadata": {},
   "source": [
    "### 4.\tПошаговый дискриминантный анализ"
   ]
  },
  {
   "cell_type": "markdown",
   "metadata": {},
   "source": [
    "Зададим функцию расчета Лямбды Уилкса:"
   ]
  },
  {
   "cell_type": "code",
   "execution_count": 28,
   "metadata": {},
   "outputs": [],
   "source": [
    "def wilks_lambda(samples, labels):\n",
    "    if isinstance(samples, pd.Series):\n",
    "        samples = samples.to_frame()\n",
    "    dT = np.linalg.det(scatter_matrix(samples)) # расчет определителя матрицы рассеяния\n",
    "    dE = np.linalg.det(classes_scatter_matrix(samples, labels)) # расчет определителя матрицы классового рассеяния\n",
    "    return dE / dT # их частное и есть Лямбда Уилкса"
   ]
  },
  {
   "cell_type": "markdown",
   "metadata": {},
   "source": [
    "Зададим функцию расчета f value и p value :\n",
    "- lmbda - Лямбда Уилкса\n",
    "- n_obs - кол-во объектов\n",
    "- n_var - кол-во признаков\n",
    "- n_cls - кол-во классов"
   ]
  },
  {
   "cell_type": "code",
   "execution_count": 29,
   "metadata": {},
   "outputs": [],
   "source": [
    "def f_value_wilks_lambda(lmbda, n_obs, n_var, n_cls):\n",
    "    num = (1 - lmbda) * (n_obs - n_cls - n_var)\n",
    "    den = lmbda * (n_cls - 1)\n",
    "    f_value = num / den #значение статистики Фишера\n",
    "    # f.sf считает p value для определенного значения статистики Фишера и заданных степеней свободы\n",
    "    p_value = f.sf(f_value, n_cls - 1, n_obs - n_cls - n_var) \n",
    "    return f_value, p_value"
   ]
  },
  {
   "cell_type": "markdown",
   "metadata": {},
   "source": [
    "sda - функция для проведения пошагового дискриминантного анализа:\n",
    " - samples - набор объектов\n",
    " - labels - названия классов\n",
    " - F_in=1e-4 - установленное нами значение F_to_Enter\n",
    "Функция выводит для каждого шага переменные в модели(into) и вне модели(out) и их характеристики."
   ]
  },
  {
   "cell_type": "code",
   "execution_count": 30,
   "metadata": {},
   "outputs": [],
   "source": [
    "def sda(samples, labels, F_in = 28.25):\n",
    "    stat_columns = [\"Wilk's lambda\", \"Partial lambda\", \"F to enter\", \"p-value\"]\n",
    "    n_cls = labels.unique().size # количество классов\n",
    "    n_obs = samples.shape[0] # количество объектов\n",
    "    \n",
    "    # словари для вывода переменных в модели и вне модели на каждом шаге\n",
    "    out = {0: pd.DataFrame(columns=stat_columns, index=samples.columns, dtype=float)} \n",
    "    into = {0: pd.DataFrame(columns=stat_columns, dtype=float)}\n",
    "    \n",
    "    step = 0\n",
    "    while True:\n",
    "        model_lambda = wilks_lambda(samples[into[step].index], labels) #посчитали Лямбду Уилкса для модели на данном шаге\n",
    "        \n",
    "        for x in out[step].index: # проходим по переменным вне модели на данном шаге\n",
    "        # далее рассчитываем характеристики для данных переменных и записываем их в таблицу    \n",
    "            lmbda = wilks_lambda(samples[into[step].index.tolist() + [x]], labels) \n",
    "            partial_lambda = lmbda / model_lambda\n",
    "            f_lambda, p_value = f_value_wilks_lambda(partial_lambda, n_obs, into[step].index.size, n_cls)\n",
    "            out[step].loc[x] = lmbda, partial_lambda, f_lambda, p_value \n",
    "            \n",
    "        for x in into[step].index: # проходим по переменным в модели на данном шаге\n",
    "        # далее рассчитываем характеристики для данных переменных и записываем их в таблицу  \n",
    "            lmbda = wilks_lambda(samples[into[step].index.drop(x)], labels)\n",
    "            partial_lambda = model_lambda / lmbda\n",
    "            f_lambda, p_value = f_value_wilks_lambda(partial_lambda, n_obs, into[step].index.size - 1, n_cls)\n",
    "            into[step].loc[x] = lmbda, partial_lambda, f_lambda, p_value\n",
    "            \n",
    "        # критерий для остановки цикла \n",
    "        # если вне модели нет переменных ИЛИ новая переменная обладает f_to_enter меньше порогового значения, цикл остановлен\n",
    "        if out[step].index.size == 0 or out[step][\"F to enter\"].max() < F_in:\n",
    "            break\n",
    "        \n",
    "        # ищем элемент с max f_to_enter\n",
    "        x_to_enter = out[step][\"F to enter\"].idxmax()\n",
    "        # переносим его из элементов \"вне модели\" в элементы \"в модели\"\n",
    "        into[step + 1] = into[step].append(out[step].loc[x_to_enter])\n",
    "        out[step + 1] = out[step].drop(index=x_to_enter)\n",
    "        \n",
    "        step += 1 # переходим к следующему шагу\n",
    "        \n",
    "    return into, out "
   ]
  },
  {
   "cell_type": "markdown",
   "metadata": {},
   "source": [
    "Вызываем результаты работы заданной выше функции:"
   ]
  },
  {
   "cell_type": "code",
   "execution_count": 31,
   "metadata": {},
   "outputs": [],
   "source": [
    "into, out = sda(train_data[FEATURES], train_data.Class, 2.2)"
   ]
  },
  {
   "cell_type": "markdown",
   "metadata": {},
   "source": [
    "Выводим результаты работы для переменных \"в модели\" на экран:"
   ]
  },
  {
   "cell_type": "code",
   "execution_count": 32,
   "metadata": {},
   "outputs": [
    {
     "name": "stdout",
     "output_type": "stream",
     "text": [
      "Step  0\n",
      "Empty DataFrame\n",
      "Columns: [Wilk's lambda, Partial lambda, F to enter, p-value]\n",
      "Index: []\n",
      "\n",
      "Step  1\n",
      "    Wilk's lambda  Partial lambda  F to enter       p-value\n",
      "x5            1.0         0.09973    67.70322  3.098748e-08\n",
      "\n",
      "Step  2\n",
      "    Wilk's lambda  Partial lambda  F to enter       p-value\n",
      "x5       0.570198        0.034736  194.521893  6.101416e-11\n",
      "x4       0.099730        0.198599   28.246958  1.218526e-05\n",
      "\n",
      "Step  3\n",
      "    Wilk's lambda  Partial lambda  F to enter       p-value\n",
      "x5       0.132079        0.033439  187.886644  2.556260e-10\n",
      "x4       0.023394        0.188790   27.929711  1.967297e-05\n",
      "x1       0.019806        0.222988   22.649611  5.805289e-05\n",
      "\n"
     ]
    }
   ],
   "source": [
    "for i, t in into.items():\n",
    "    print(\"Step \", i)\n",
    "    print(t, end=\"\\n\\n\")"
   ]
  },
  {
   "cell_type": "markdown",
   "metadata": {},
   "source": [
    "Выводим результаты работы для переменных \"вне модели\" на экран:"
   ]
  },
  {
   "cell_type": "code",
   "execution_count": 33,
   "metadata": {},
   "outputs": [
    {
     "name": "stdout",
     "output_type": "stream",
     "text": [
      "Step  0\n",
      "    Wilk's lambda  Partial lambda  F to enter       p-value\n",
      "x1       0.221794        0.221794   26.315154  1.243438e-05\n",
      "x2       0.524286        0.524286    6.805175  7.884254e-03\n",
      "x3       0.477612        0.477612    8.203113  3.918017e-03\n",
      "x4       0.570198        0.570198    5.653334  1.479758e-02\n",
      "x5       0.099730        0.099730   67.703220  3.098748e-08\n",
      "\n",
      "Step  1\n",
      "    Wilk's lambda  Partial lambda  F to enter   p-value\n",
      "x1       0.023394        0.234572   22.841526  0.000039\n",
      "x2       0.080912        0.811309    1.628028  0.231369\n",
      "x3       0.031643        0.317289   15.061906  0.000324\n",
      "x4       0.019806        0.198599   28.246958  0.000012\n",
      "\n",
      "Step  2\n",
      "    Wilk's lambda  Partial lambda  F to enter   p-value\n",
      "x1       0.004417        0.222988   22.649611  0.000058\n",
      "x2       0.015535        0.784363    1.786981  0.206234\n",
      "x3       0.016756        0.845997    1.183245  0.337207\n",
      "\n",
      "Step  3\n",
      "    Wilk's lambda  Partial lambda  F to enter   p-value\n",
      "x2       0.003711        0.840163    1.141470  0.351708\n",
      "x3       0.003782        0.856346    1.006514  0.394362\n",
      "\n"
     ]
    }
   ],
   "source": [
    "for i, t in out.items():\n",
    "    print(\"Step \", i)\n",
    "    print(t, end=\"\\n\\n\")"
   ]
  },
  {
   "cell_type": "markdown",
   "metadata": {},
   "source": [
    "Выводим названия признаков в модели:"
   ]
  },
  {
   "cell_type": "code",
   "execution_count": 34,
   "metadata": {},
   "outputs": [
    {
     "data": {
      "text/plain": [
       "['x5', 'x4', 'x1']"
      ]
     },
     "execution_count": 34,
     "metadata": {},
     "output_type": "execute_result"
    }
   ],
   "source": [
    "stepwise_features = into[len(into) - 1].index.tolist()\n",
    "stepwise_features"
   ]
  },
  {
   "cell_type": "markdown",
   "metadata": {},
   "source": [
    "Проводим дискриминантный анализ для отобранных признаков."
   ]
  },
  {
   "cell_type": "code",
   "execution_count": 35,
   "metadata": {},
   "outputs": [],
   "source": [
    "stepwise_lda = LinearDiscriminantAnalysis().fit(train_data[stepwise_features], train_data.Class)"
   ]
  },
  {
   "cell_type": "markdown",
   "metadata": {},
   "source": [
    " Выводим коэффициенты функции Фишера на экран."
   ]
  },
  {
   "cell_type": "code",
   "execution_count": 36,
   "metadata": {},
   "outputs": [
    {
     "data": {
      "text/html": [
       "<div>\n",
       "<style scoped>\n",
       "    .dataframe tbody tr th:only-of-type {\n",
       "        vertical-align: middle;\n",
       "    }\n",
       "\n",
       "    .dataframe tbody tr th {\n",
       "        vertical-align: top;\n",
       "    }\n",
       "\n",
       "    .dataframe thead th {\n",
       "        text-align: right;\n",
       "    }\n",
       "</style>\n",
       "<table border=\"1\" class=\"dataframe\">\n",
       "  <thead>\n",
       "    <tr style=\"text-align: right;\">\n",
       "      <th></th>\n",
       "      <th>1</th>\n",
       "      <th>2</th>\n",
       "      <th>3</th>\n",
       "    </tr>\n",
       "  </thead>\n",
       "  <tbody>\n",
       "    <tr>\n",
       "      <th>Intercept</th>\n",
       "      <td>-9.334832</td>\n",
       "      <td>-392.164509</td>\n",
       "      <td>48.850303</td>\n",
       "    </tr>\n",
       "    <tr>\n",
       "      <th>x5</th>\n",
       "      <td>-0.271714</td>\n",
       "      <td>2.790984</td>\n",
       "      <td>-0.426032</td>\n",
       "    </tr>\n",
       "    <tr>\n",
       "      <th>x4</th>\n",
       "      <td>-0.000192</td>\n",
       "      <td>0.001972</td>\n",
       "      <td>-0.000301</td>\n",
       "    </tr>\n",
       "    <tr>\n",
       "      <th>x1</th>\n",
       "      <td>0.968417</td>\n",
       "      <td>7.333100</td>\n",
       "      <td>-2.801692</td>\n",
       "    </tr>\n",
       "  </tbody>\n",
       "</table>\n",
       "</div>"
      ],
      "text/plain": [
       "                  1           2          3\n",
       "Intercept -9.334832 -392.164509  48.850303\n",
       "x5        -0.271714    2.790984  -0.426032\n",
       "x4        -0.000192    0.001972  -0.000301\n",
       "x1         0.968417    7.333100  -2.801692"
      ]
     },
     "execution_count": 36,
     "metadata": {},
     "output_type": "execute_result"
    }
   ],
   "source": [
    "stepwise_df_coef = get_df_coef(stepwise_lda, stepwise_features)\n",
    "stepwise_df_coef"
   ]
  },
  {
   "cell_type": "markdown",
   "metadata": {},
   "source": [
    "Пполучим полную картину классификации всех объектов."
   ]
  },
  {
   "cell_type": "code",
   "execution_count": 37,
   "metadata": {},
   "outputs": [
    {
     "name": "stdout",
     "output_type": "stream",
     "text": [
      "    Class\n",
      "1       1\n",
      "2       3\n",
      "3       3\n",
      "4       3\n",
      "5       1\n",
      "6       3\n",
      "7       1\n",
      "8       1\n",
      "9       1\n",
      "10      1\n",
      "11      3\n",
      "12      1\n",
      "13      1\n",
      "14      1\n",
      "15      1\n",
      "16      1\n",
      "17      1\n",
      "18      1\n",
      "19      1\n",
      "20      1\n",
      "21      3\n",
      "22      3\n",
      "23      2\n",
      "24      1\n",
      "25      3\n",
      "26      1\n",
      "27      3\n",
      "28      1\n",
      "29      3\n",
      "30      1\n",
      "31      3\n",
      "32      3\n",
      "33      3\n",
      "34      1\n",
      "35      3\n",
      "36      1\n",
      "37      1\n",
      "38      2\n",
      "39      1\n",
      "40      1\n",
      "41      1\n",
      "42      2\n",
      "43      1\n",
      "44      2\n",
      "45      3\n",
      "46      3\n",
      "47      3\n"
     ]
    }
   ],
   "source": [
    "stepwise_lda_predict = LDA_predict(stepwise_lda, data[stepwise_features])\n",
    "stepwise_lda_predict.head()\n",
    "print(stepwise_lda_predict)"
   ]
  },
  {
   "cell_type": "markdown",
   "metadata": {},
   "source": [
    "Запишем результаты классификации в переменную."
   ]
  },
  {
   "cell_type": "code",
   "execution_count": 38,
   "metadata": {},
   "outputs": [],
   "source": [
    "data_to_excel[\"Results stepwise lda\"] = stepwise_lda_predict"
   ]
  },
  {
   "cell_type": "code",
   "execution_count": 39,
   "metadata": {},
   "outputs": [
    {
     "name": "stdout",
     "output_type": "stream",
     "text": [
      "           1        2         3\n",
      "1    19.6957   449.58   63.5912\n",
      "2    18.0128  513.176  0.664489\n",
      "3    28.1488  592.622   3.86643\n",
      "4    15.8026  583.223    3.1025\n",
      "5   0.614086  445.164   18.9349\n",
      "6    5.86388  528.283   3.01587\n",
      "7    9.32817  479.423   41.5437\n",
      "8    4.92711  453.505   32.7069\n",
      "9    2.89412  414.103   26.3367\n",
      "10   5.58066  374.675    13.906\n",
      "11   26.8484  559.571   2.78737\n",
      "12   1.66527  503.229   8.14587\n",
      "13  0.110126  456.545   14.3838\n",
      "14   92.2896  168.457   100.197\n",
      "15  0.313958  450.231   9.39475\n",
      "16   9.37776  358.467   39.4105\n",
      "17   2.65921  503.696   20.2083\n",
      "18   21.1861  292.467   39.9365\n",
      "19   34.5217  263.893   76.1037\n",
      "20   1.59545  474.557   5.37663\n",
      "21   74.1298  267.826   65.0369\n",
      "22   22.3874  460.969   3.75484\n",
      "23    133.99  125.028   146.191\n",
      "24   1.66176  427.535   22.9958\n",
      "25   9.02891  433.197   4.22005\n",
      "26  0.435067  437.613   10.1575\n",
      "27   10.8144  562.777   3.03179\n",
      "28   10.4295  448.574   45.6333\n",
      "29   9.85635  567.581   4.54388\n",
      "30   8.32053   411.46     41.15\n",
      "31   16.2294  486.565  0.823744\n",
      "32   45.5981  635.855   11.0499\n",
      "33   9.39076  548.565   2.25048\n",
      "34   0.30262  472.914   10.3111\n",
      "35   5.68728    507.9   1.78534\n",
      "36    2.4912  516.688   15.2376\n",
      "37   1.79143  430.863   9.15524\n",
      "38   628.774  118.448   677.832\n",
      "39   89.9169  192.464   107.481\n",
      "40    2.0741  512.972   12.9169\n",
      "41   42.3567  229.657   79.8502\n",
      "42    428.82  6.91773    485.92\n",
      "43   99.5527   163.21   105.313\n",
      "44   488.982  6.91773    550.54\n",
      "45   24.0661   531.51   1.95936\n",
      "46   3.98639  495.006   2.71728\n",
      "47   44.2449  596.525   9.53646\n"
     ]
    }
   ],
   "source": [
    "stepwise_cov = classes_scatter_matrix(train_data[stepwise_features], train_data.Class) \\\n",
    "    / (train_data.shape[0] - train_data.Class.unique().size)\n",
    "\n",
    "stepwise_means = pd.DataFrame(stepwise_lda.means_, index=stepwise_lda.classes_, columns=stepwise_features)\n",
    "\n",
    "stepwise_samp_dist = calc_mahalanobis_square_dist(stepwise_means, data[stepwise_features], stepwise_cov)\n",
    "stepwise_samp_dist.head()\n",
    "print(stepwise_samp_dist)"
   ]
  },
  {
   "cell_type": "code",
   "execution_count": 40,
   "metadata": {},
   "outputs": [],
   "source": [
    "data_to_excel = pd.concat([data_to_excel, stepwise_samp_dist.add_prefix(\"stepwise lda mahalanobis \")], axis=1)"
   ]
  },
  {
   "cell_type": "code",
   "execution_count": 41,
   "metadata": {},
   "outputs": [
    {
     "name": "stdout",
     "output_type": "stream",
     "text": [
      "               1              2             3\n",
      "1   9.999993e-01   2.683277e-91  7.031496e-07\n",
      "2   9.057177e-02  7.534997e-110  9.094282e-01\n",
      "3   3.449154e-01  4.858879e-124  6.550846e-01\n",
      "4   4.858852e-01  1.349880e-123  5.141148e-01\n",
      "5   9.979710e-01   1.417648e-96  2.028963e-03\n",
      "6   4.856332e-01  5.965338e-114  5.143668e-01\n",
      "7   9.998317e-01  3.466848e-100  1.683474e-04\n",
      "8   9.998245e-01   1.849540e-96  1.754746e-04\n",
      "9   9.999188e-01   1.273525e-89  8.116392e-05\n",
      "10  9.842254e-01   1.803296e-81  1.577462e-02\n",
      "11  1.429466e-01  8.978771e-118  8.570534e-01\n",
      "12  6.372860e-01  6.307273e-109  3.627140e-01\n",
      "13  9.879837e-01   2.941488e-99  1.201631e-02\n",
      "14  9.811759e-01   7.080420e-18  1.882407e-02\n",
      "15  9.586756e-01   2.005412e-98  4.132439e-02\n",
      "16  9.999993e-01   8.777870e-77  6.723448e-07\n",
      "17  9.501529e-01  1.351629e-107  4.984709e-02\n",
      "18  9.999151e-01   3.093855e-60  8.490514e-05\n",
      "19  1.000000e+00   3.975934e-51  9.538968e-10\n",
      "20  6.917414e-01  1.551612e-103  3.082586e-01\n",
      "21  1.049351e-02   2.282328e-45  9.895065e-01\n",
      "22  3.643833e-03   5.301022e-99  9.963562e-01\n",
      "23  4.333564e-02   9.565672e-01  9.714589e-05\n",
      "24  9.996805e-01   1.142490e-92  3.194911e-04\n",
      "25  1.077969e-01   2.180111e-94  8.922031e-01\n",
      "26  9.790311e-01   8.031064e-96  2.096886e-02\n",
      "27  4.889784e-01  3.857733e-120  5.110216e-01\n",
      "28  9.999875e-01   9.908929e-94  1.245912e-05\n",
      "29  4.955559e-01  5.093076e-121  5.044441e-01\n",
      "30  9.999965e-01   3.404577e-87  3.514313e-06\n",
      "31  3.983021e-02  7.659312e-105  9.601698e-01\n",
      "32  2.438051e-01  6.045052e-130  7.561949e-01\n",
      "33  4.810468e-01  1.330520e-117  5.189532e-01\n",
      "34  9.167999e-01  8.008485e-103  8.320012e-02\n",
      "35  4.437571e-01  4.155130e-110  5.562429e-01\n",
      "36  7.665711e-01  1.082564e-110  2.334289e-01\n",
      "37  9.600480e-01   2.717331e-94  3.995198e-02\n",
      "38  1.555592e-19   1.000000e+00  3.461719e-30\n",
      "39  9.998465e-01   1.348804e-23  1.534542e-04\n",
      "40  7.227729e-01  2.907144e-110  2.772271e-01\n",
      "41  1.000000e+00   5.329059e-42  7.223489e-09\n",
      "42  1.263559e-16   1.000000e+00  5.039990e-29\n",
      "43  9.468457e-01   3.557327e-15  5.315427e-02\n",
      "44  1.203134e-17   1.000000e+00  5.164688e-31\n",
      "45  6.589380e-02  1.143941e-112  9.341062e-01\n",
      "46  4.698069e-01  1.152807e-107  5.301931e-01\n",
      "47  5.010098e-02  1.567434e-122  9.498990e-01\n"
     ]
    }
   ],
   "source": [
    "stepwise_lda_post_prob = LDA_predict_proba(stepwise_lda, data[stepwise_features])\n",
    "stepwise_lda_post_prob.head()\n",
    "print(stepwise_lda_post_prob)"
   ]
  },
  {
   "cell_type": "code",
   "execution_count": 42,
   "metadata": {},
   "outputs": [
    {
     "data": {
      "text/html": [
       "<div>\n",
       "<style scoped>\n",
       "    .dataframe tbody tr th:only-of-type {\n",
       "        vertical-align: middle;\n",
       "    }\n",
       "\n",
       "    .dataframe tbody tr th {\n",
       "        vertical-align: top;\n",
       "    }\n",
       "\n",
       "    .dataframe thead th {\n",
       "        text-align: right;\n",
       "    }\n",
       "</style>\n",
       "<table border=\"1\" class=\"dataframe\">\n",
       "  <thead>\n",
       "    <tr style=\"text-align: right;\">\n",
       "      <th></th>\n",
       "      <th>x1</th>\n",
       "      <th>x2</th>\n",
       "      <th>x3</th>\n",
       "      <th>x4</th>\n",
       "      <th>x5</th>\n",
       "      <th>Train sample</th>\n",
       "      <th>Results lda</th>\n",
       "      <th>lda mahalanobis 1</th>\n",
       "      <th>lda mahalanobis 2</th>\n",
       "      <th>lda mahalanobis 3</th>\n",
       "      <th>lda post prob 1</th>\n",
       "      <th>lda post prob 2</th>\n",
       "      <th>lda post prob 3</th>\n",
       "      <th>Results stepwise lda</th>\n",
       "      <th>stepwise lda mahalanobis 1</th>\n",
       "      <th>stepwise lda mahalanobis 2</th>\n",
       "      <th>stepwise lda mahalanobis 3</th>\n",
       "      <th>stepwise lda post prob 1</th>\n",
       "      <th>stepwise lda post prob 2</th>\n",
       "      <th>stepwise lda post prob 3</th>\n",
       "    </tr>\n",
       "  </thead>\n",
       "  <tbody>\n",
       "    <tr>\n",
       "      <th>1</th>\n",
       "      <td>20.8</td>\n",
       "      <td>58.5</td>\n",
       "      <td>69</td>\n",
       "      <td>15626</td>\n",
       "      <td>0.1</td>\n",
       "      <td>NaN</td>\n",
       "      <td>1</td>\n",
       "      <td>21.8561</td>\n",
       "      <td>546.512</td>\n",
       "      <td>66.413</td>\n",
       "      <td>1.000000</td>\n",
       "      <td>3.713101e-112</td>\n",
       "      <td>2.654311e-07</td>\n",
       "      <td>1</td>\n",
       "      <td>19.6957</td>\n",
       "      <td>449.58</td>\n",
       "      <td>63.5912</td>\n",
       "      <td>0.999999</td>\n",
       "      <td>2.683277e-91</td>\n",
       "      <td>7.031496e-07</td>\n",
       "    </tr>\n",
       "    <tr>\n",
       "      <th>2</th>\n",
       "      <td>12.4</td>\n",
       "      <td>93.0</td>\n",
       "      <td>180</td>\n",
       "      <td>23410</td>\n",
       "      <td>1.4</td>\n",
       "      <td>3.0</td>\n",
       "      <td>3</td>\n",
       "      <td>24.2327</td>\n",
       "      <td>688.08</td>\n",
       "      <td>5.63526</td>\n",
       "      <td>0.410825</td>\n",
       "      <td>2.387588e-145</td>\n",
       "      <td>5.891753e-01</td>\n",
       "      <td>3</td>\n",
       "      <td>18.0128</td>\n",
       "      <td>513.176</td>\n",
       "      <td>0.664489</td>\n",
       "      <td>0.090572</td>\n",
       "      <td>7.534997e-110</td>\n",
       "      <td>9.094282e-01</td>\n",
       "    </tr>\n",
       "    <tr>\n",
       "      <th>3</th>\n",
       "      <td>11.9</td>\n",
       "      <td>39.8</td>\n",
       "      <td>224</td>\n",
       "      <td>9855</td>\n",
       "      <td>0.7</td>\n",
       "      <td>NaN</td>\n",
       "      <td>3</td>\n",
       "      <td>47.9922</td>\n",
       "      <td>740.409</td>\n",
       "      <td>24.6164</td>\n",
       "      <td>0.443116</td>\n",
       "      <td>2.386399e-151</td>\n",
       "      <td>5.568837e-01</td>\n",
       "      <td>3</td>\n",
       "      <td>28.1488</td>\n",
       "      <td>592.622</td>\n",
       "      <td>3.86643</td>\n",
       "      <td>0.344915</td>\n",
       "      <td>4.858879e-124</td>\n",
       "      <td>6.550846e-01</td>\n",
       "    </tr>\n",
       "    <tr>\n",
       "      <th>4</th>\n",
       "      <td>13.6</td>\n",
       "      <td>55.0</td>\n",
       "      <td>116</td>\n",
       "      <td>4881</td>\n",
       "      <td>0.2</td>\n",
       "      <td>3.0</td>\n",
       "      <td>3</td>\n",
       "      <td>16.0357</td>\n",
       "      <td>706.711</td>\n",
       "      <td>3.42337</td>\n",
       "      <td>0.493628</td>\n",
       "      <td>5.144863e-150</td>\n",
       "      <td>5.063723e-01</td>\n",
       "      <td>3</td>\n",
       "      <td>15.8026</td>\n",
       "      <td>583.223</td>\n",
       "      <td>3.1025</td>\n",
       "      <td>0.485885</td>\n",
       "      <td>1.349880e-123</td>\n",
       "      <td>5.141148e-01</td>\n",
       "    </tr>\n",
       "    <tr>\n",
       "      <th>5</th>\n",
       "      <td>17.2</td>\n",
       "      <td>63.5</td>\n",
       "      <td>172</td>\n",
       "      <td>15466</td>\n",
       "      <td>5.3</td>\n",
       "      <td>1.0</td>\n",
       "      <td>1</td>\n",
       "      <td>1.33152</td>\n",
       "      <td>562.118</td>\n",
       "      <td>20.0655</td>\n",
       "      <td>0.997355</td>\n",
       "      <td>1.307393e-121</td>\n",
       "      <td>2.645274e-03</td>\n",
       "      <td>1</td>\n",
       "      <td>0.614086</td>\n",
       "      <td>445.164</td>\n",
       "      <td>18.9349</td>\n",
       "      <td>0.997971</td>\n",
       "      <td>1.417648e-96</td>\n",
       "      <td>2.028963e-03</td>\n",
       "    </tr>\n",
       "  </tbody>\n",
       "</table>\n",
       "</div>"
      ],
      "text/plain": [
       "     x1    x2   x3     x4   x5  Train sample  Results lda lda mahalanobis 1  \\\n",
       "1  20.8  58.5   69  15626  0.1           NaN            1           21.8561   \n",
       "2  12.4  93.0  180  23410  1.4           3.0            3           24.2327   \n",
       "3  11.9  39.8  224   9855  0.7           NaN            3           47.9922   \n",
       "4  13.6  55.0  116   4881  0.2           3.0            3           16.0357   \n",
       "5  17.2  63.5  172  15466  5.3           1.0            1           1.33152   \n",
       "\n",
       "  lda mahalanobis 2 lda mahalanobis 3  lda post prob 1  lda post prob 2  \\\n",
       "1           546.512            66.413         1.000000    3.713101e-112   \n",
       "2            688.08           5.63526         0.410825    2.387588e-145   \n",
       "3           740.409           24.6164         0.443116    2.386399e-151   \n",
       "4           706.711           3.42337         0.493628    5.144863e-150   \n",
       "5           562.118           20.0655         0.997355    1.307393e-121   \n",
       "\n",
       "   lda post prob 3  Results stepwise lda stepwise lda mahalanobis 1  \\\n",
       "1     2.654311e-07                     1                    19.6957   \n",
       "2     5.891753e-01                     3                    18.0128   \n",
       "3     5.568837e-01                     3                    28.1488   \n",
       "4     5.063723e-01                     3                    15.8026   \n",
       "5     2.645274e-03                     1                   0.614086   \n",
       "\n",
       "  stepwise lda mahalanobis 2 stepwise lda mahalanobis 3  \\\n",
       "1                     449.58                    63.5912   \n",
       "2                    513.176                   0.664489   \n",
       "3                    592.622                    3.86643   \n",
       "4                    583.223                     3.1025   \n",
       "5                    445.164                    18.9349   \n",
       "\n",
       "   stepwise lda post prob 1  stepwise lda post prob 2  \\\n",
       "1                  0.999999              2.683277e-91   \n",
       "2                  0.090572             7.534997e-110   \n",
       "3                  0.344915             4.858879e-124   \n",
       "4                  0.485885             1.349880e-123   \n",
       "5                  0.997971              1.417648e-96   \n",
       "\n",
       "   stepwise lda post prob 3  \n",
       "1              7.031496e-07  \n",
       "2              9.094282e-01  \n",
       "3              6.550846e-01  \n",
       "4              5.141148e-01  \n",
       "5              2.028963e-03  "
      ]
     },
     "execution_count": 42,
     "metadata": {},
     "output_type": "execute_result"
    }
   ],
   "source": [
    "data_to_excel = pd.concat([data_to_excel, stepwise_lda_post_prob.add_prefix(\"stepwise lda post prob \")], axis=1)\n",
    "data_to_excel.head()"
   ]
  },
  {
   "cell_type": "markdown",
   "metadata": {},
   "source": [
    "Записываем результаты проведенной работы в файл."
   ]
  },
  {
   "cell_type": "code",
   "execution_count": 43,
   "metadata": {},
   "outputs": [],
   "source": [
    "data_to_excel.to_excel(\"C:\\Games\\Ekonometrika\\data_for_lab2_part2_2.xlsx\")"
   ]
  },
  {
   "cell_type": "code",
   "execution_count": null,
   "metadata": {},
   "outputs": [],
   "source": []
  }
 ],
 "metadata": {
  "kernelspec": {
   "display_name": "Python 3",
   "language": "python",
   "name": "python3"
  },
  "language_info": {
   "codemirror_mode": {
    "name": "ipython",
    "version": 3
   },
   "file_extension": ".py",
   "mimetype": "text/x-python",
   "name": "python",
   "nbconvert_exporter": "python",
   "pygments_lexer": "ipython3",
   "version": "3.7.0"
  }
 },
 "nbformat": 4,
 "nbformat_minor": 2
}
