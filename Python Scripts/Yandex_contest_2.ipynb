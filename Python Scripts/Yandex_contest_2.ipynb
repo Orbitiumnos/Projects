{
 "cells": [
  {
   "cell_type": "code",
   "execution_count": 8,
   "metadata": {},
   "outputs": [
    {
     "name": "stdout",
     "output_type": "stream",
     "text": [
      "ab\n",
      "aabbccd\n",
      "4\n"
     ]
    }
   ],
   "source": [
    "j = list(input())\n",
    "s = list(input())\n",
    "res = 0\n",
    "for i in range(len(s)):\n",
    "    if s[i] in j:\n",
    "        res = res + 1\n",
    "print(res)"
   ]
  },
  {
   "cell_type": "code",
   "execution_count": 28,
   "metadata": {},
   "outputs": [
    {
     "name": "stdout",
     "output_type": "stream",
     "text": [
      "5\n",
      "0\n",
      "1\n",
      "1\n",
      "0\n",
      "1\n",
      "2\n"
     ]
    }
   ],
   "source": [
    "l = int(input())\n",
    "i = 0\n",
    "res = 0\n",
    "maxi = 0\n",
    "\n",
    "while i < l:\n",
    "    i_cur = int(input())\n",
    "    \n",
    "    if i_cur == 1:\n",
    "        res = res + 1\n",
    "        maxi = max(res, maxi)\n",
    "    elif i_cur == 0:\n",
    "        maxi = max(res, maxi)\n",
    "        res = 0\n",
    "    i = i+1\n",
    "print(maxi)"
   ]
  },
  {
   "cell_type": "code",
   "execution_count": 32,
   "metadata": {},
   "outputs": [
    {
     "name": "stdout",
     "output_type": "stream",
     "text": [
      "7\n",
      "1\n",
      "res 1\n",
      "1\n",
      "2\n",
      "res 2\n",
      "2\n",
      "2\n",
      "3\n",
      "res 3\n",
      "4\n",
      "res 4\n"
     ]
    }
   ],
   "source": [
    "l = int(input())\n",
    "res = []\n",
    "\n",
    "for i in range(l):\n",
    "    x = int(input())\n",
    "    \n",
    "    if i == 0:\n",
    "        prev_x = x\n",
    "        print(x)\n",
    "    else:\n",
    "        if x != prev_x:\n",
    "            print(x)\n",
    "    prev_x = x"
   ]
  },
  {
   "cell_type": "code",
   "execution_count": null,
   "metadata": {},
   "outputs": [],
   "source": []
  },
  {
   "cell_type": "code",
   "execution_count": 45,
   "metadata": {},
   "outputs": [
    {
     "name": "stdout",
     "output_type": "stream",
     "text": [
      "abcde\n",
      "abcdg\n",
      "['a', 'c', 'd', 'e'] ['b', 'c', 'd', 'g']\n"
     ]
    },
    {
     "ename": "ValueError",
     "evalue": "list.remove(x): x not in list",
     "output_type": "error",
     "traceback": [
      "\u001b[1;31m---------------------------------------------------------------------------\u001b[0m",
      "\u001b[1;31mValueError\u001b[0m                                Traceback (most recent call last)",
      "\u001b[1;32m<ipython-input-45-0d12a35ed03a>\u001b[0m in \u001b[0;36m<module>\u001b[1;34m\u001b[0m\n\u001b[0;32m      7\u001b[0m \u001b[1;32melse\u001b[0m\u001b[1;33m:\u001b[0m\u001b[1;33m\u001b[0m\u001b[1;33m\u001b[0m\u001b[0m\n\u001b[0;32m      8\u001b[0m     \u001b[1;32mfor\u001b[0m \u001b[0mi\u001b[0m \u001b[1;32min\u001b[0m \u001b[0mrange\u001b[0m\u001b[1;33m(\u001b[0m\u001b[0mlen\u001b[0m\u001b[1;33m(\u001b[0m\u001b[0ms1\u001b[0m\u001b[1;33m)\u001b[0m\u001b[1;33m)\u001b[0m\u001b[1;33m:\u001b[0m\u001b[1;33m\u001b[0m\u001b[1;33m\u001b[0m\u001b[0m\n\u001b[1;32m----> 9\u001b[1;33m         \u001b[0ms2\u001b[0m\u001b[1;33m.\u001b[0m\u001b[0mremove\u001b[0m\u001b[1;33m(\u001b[0m\u001b[0ms1\u001b[0m\u001b[1;33m[\u001b[0m\u001b[1;36m0\u001b[0m\u001b[1;33m]\u001b[0m\u001b[1;33m)\u001b[0m\u001b[1;33m\u001b[0m\u001b[1;33m\u001b[0m\u001b[0m\n\u001b[0m\u001b[0;32m     10\u001b[0m         \u001b[0ms1\u001b[0m\u001b[1;33m.\u001b[0m\u001b[0mremove\u001b[0m\u001b[1;33m(\u001b[0m\u001b[0ms2\u001b[0m\u001b[1;33m[\u001b[0m\u001b[1;36m0\u001b[0m\u001b[1;33m]\u001b[0m\u001b[1;33m)\u001b[0m\u001b[1;33m\u001b[0m\u001b[1;33m\u001b[0m\u001b[0m\n\u001b[0;32m     11\u001b[0m         \u001b[0mprint\u001b[0m\u001b[1;33m(\u001b[0m\u001b[0ms1\u001b[0m\u001b[1;33m,\u001b[0m\u001b[0ms2\u001b[0m\u001b[1;33m)\u001b[0m\u001b[1;33m\u001b[0m\u001b[1;33m\u001b[0m\u001b[0m\n",
      "\u001b[1;31mValueError\u001b[0m: list.remove(x): x not in list"
     ]
    }
   ],
   "source": [
    "s1 = list(input())\n",
    "s2 = list(input())\n",
    "res = 1\n",
    "\n",
    "if len(s1)!=len(s2):\n",
    "    res = 0\n",
    "else:\n",
    "    for i in range(len(s1)):\n",
    "        s2.remove(s1[0])\n",
    "        s1.remove(s1[0])\n",
    "        print(s1,s2)\n",
    "        \n",
    "        \n",
    "        \"\"\"\n",
    "         if s1[0] in s2:\n",
    "            s2.remove(s1[0])\n",
    "            s1.remove(s1[0])\n",
    "        else:\n",
    "            res = 0\n",
    "        \"\"\"\n",
    "\n",
    "print(res)"
   ]
  },
  {
   "cell_type": "markdown",
   "metadata": {},
   "source": [
    "n = int(input())\n",
    "res = list(map(int,input().split()))\n",
    "res.pop(0)\n",
    "\n",
    "def mer(a, b):\n",
    "    c = []\n",
    "    i, j = 0, 0\n",
    "    while i < len(a) and j < len(b):\n",
    "        if a[i] <= b[j]:\n",
    "            c.append(a[i])\n",
    "            i = i + 1\n",
    "        else:\n",
    "            c.append(b[j])\n",
    "            j = j + 1\n",
    "    c = c + a[i:]\n",
    "    c = c + b[j:]\n",
    "    return c\n",
    "\n",
    "for i in range(n-1):\n",
    "    x = list(map(int,input().split()))\n",
    "    x.pop(0)\n",
    "    res = mer(x, res)\n",
    "print(' '.join(map(str,res)))\n",
    "\n",
    "#print(res)"
   ]
  },
  {
   "cell_type": "code",
   "execution_count": null,
   "metadata": {},
   "outputs": [],
   "source": []
  }
 ],
 "metadata": {
  "kernelspec": {
   "display_name": "Python 3",
   "language": "python",
   "name": "python3"
  },
  "language_info": {
   "codemirror_mode": {
    "name": "ipython",
    "version": 3
   },
   "file_extension": ".py",
   "mimetype": "text/x-python",
   "name": "python",
   "nbconvert_exporter": "python",
   "pygments_lexer": "ipython3",
   "version": "3.6.8"
  }
 },
 "nbformat": 4,
 "nbformat_minor": 2
}
