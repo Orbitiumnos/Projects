{
 "cells": [
  {
   "cell_type": "markdown",
   "metadata": {},
   "source": [
    "# Лабораторная работа №2. Дискриминантный анализ.\n"
   ]
  },
  {
   "cell_type": "markdown",
   "metadata": {},
   "source": [
    "### 1. Подготовка библиотек\n",
    "Импортируем необходимые библиотеки:"
   ]
  },
  {
   "cell_type": "code",
   "execution_count": 1,
   "metadata": {},
   "outputs": [],
   "source": [
    "import numpy as np # поддерживает матрицы, массивы, мат.функции для них\n",
    "import pandas as pd # библиотека для анализа данных\n",
    "from scipy.stats import f\n",
    "from scipy.spatial.distance import mahalanobis\n",
    "from sklearn.discriminant_analysis import LinearDiscriminantAnalysis"
   ]
  },
  {
   "cell_type": "markdown",
   "metadata": {},
   "source": [
    "### 2. Преддискриминантный этап анализа\n",
    "Целью дискриминантного анализа является разделение рассматриваемой совокупности объектов или явлений на заданные обучающими выборками классы. Исходные данные для анализа представлены в виде матрицы.\n",
    "\n",
    "Есть два способа создания тренировочной выборки - с помощью списка TRAIN_SAMPLES или заполнение вручную стобца в Excel-файле."
   ]
  },
  {
   "cell_type": "code",
   "execution_count": 2,
   "metadata": {},
   "outputs": [],
   "source": [
    "_ = \\\n",
    "\"\"\"\n",
    "    Что поменять:\n",
    "        0) названия файлов, для считывания и для записи(этот в самом конце)\n",
    "        1) FEATURES\n",
    "        2) задать TRAIN_SAMPLES, если не задается, то удалить параметр из вызова функции gen_train_data\n",
    "        3) задать F to enter в sda\n",
    "\"\"\""
   ]
  },
  {
   "cell_type": "code",
   "execution_count": 3,
   "metadata": {},
   "outputs": [],
   "source": [
    "# В переменную FEATURES записываем названия показателей\n",
    "FEATURES = [\"X1\", \"X2\", \"X3\", \"X4\", \"X5\"] \n",
    "\n",
    "# создаем словарь - для каждого класса перечисляем номера объектов тренировочной выборки в зависимости от варианта\n",
    "TRAIN_SAMPLES = {\n",
    "    1 : [1, 3, 4, 5, 6, 8, 24, 29, 43],\n",
    "    2 : [14, 15, 16, 21, 23, 27, 28, 41],\n",
    "}"
   ]
  },
  {
   "cell_type": "code",
   "execution_count": 4,
   "metadata": {},
   "outputs": [
    {
     "data": {
      "text/html": [
       "<div>\n",
       "<style scoped>\n",
       "    .dataframe tbody tr th:only-of-type {\n",
       "        vertical-align: middle;\n",
       "    }\n",
       "\n",
       "    .dataframe tbody tr th {\n",
       "        vertical-align: top;\n",
       "    }\n",
       "\n",
       "    .dataframe thead th {\n",
       "        text-align: right;\n",
       "    }\n",
       "</style>\n",
       "<table border=\"1\" class=\"dataframe\">\n",
       "  <thead>\n",
       "    <tr style=\"text-align: right;\">\n",
       "      <th></th>\n",
       "      <th>X1</th>\n",
       "      <th>X2</th>\n",
       "      <th>X3</th>\n",
       "      <th>X4</th>\n",
       "      <th>X5</th>\n",
       "    </tr>\n",
       "  </thead>\n",
       "  <tbody>\n",
       "    <tr>\n",
       "      <th>1</th>\n",
       "      <td>9.26</td>\n",
       "      <td>0.78</td>\n",
       "      <td>1.37</td>\n",
       "      <td>0.23</td>\n",
       "      <td>1.45</td>\n",
       "    </tr>\n",
       "    <tr>\n",
       "      <th>2</th>\n",
       "      <td>9.38</td>\n",
       "      <td>0.75</td>\n",
       "      <td>1.49</td>\n",
       "      <td>0.39</td>\n",
       "      <td>1.30</td>\n",
       "    </tr>\n",
       "    <tr>\n",
       "      <th>3</th>\n",
       "      <td>12.11</td>\n",
       "      <td>0.68</td>\n",
       "      <td>1.44</td>\n",
       "      <td>0.43</td>\n",
       "      <td>1.37</td>\n",
       "    </tr>\n",
       "    <tr>\n",
       "      <th>4</th>\n",
       "      <td>10.81</td>\n",
       "      <td>0.70</td>\n",
       "      <td>1.42</td>\n",
       "      <td>0.18</td>\n",
       "      <td>1.65</td>\n",
       "    </tr>\n",
       "    <tr>\n",
       "      <th>5</th>\n",
       "      <td>9.35</td>\n",
       "      <td>0.62</td>\n",
       "      <td>1.35</td>\n",
       "      <td>0.15</td>\n",
       "      <td>1.91</td>\n",
       "    </tr>\n",
       "  </tbody>\n",
       "</table>\n",
       "</div>"
      ],
      "text/plain": [
       "      X1    X2    X3    X4    X5\n",
       "1   9.26  0.78  1.37  0.23  1.45\n",
       "2   9.38  0.75  1.49  0.39  1.30\n",
       "3  12.11  0.68  1.44  0.43  1.37\n",
       "4  10.81  0.70  1.42  0.18  1.65\n",
       "5   9.35  0.62  1.35  0.15  1.91"
      ]
     },
     "execution_count": 4,
     "metadata": {},
     "output_type": "execute_result"
    }
   ],
   "source": [
    "data = pd.read_excel(\"data_for_lab2_part1.xlsx\") # считываем данные из файла (файл, который содержит ВСЕ строки и ВСЕ признаки)\n",
    "data.head() #по умолчанию метод head выведет первые 5 строк"
   ]
  },
  {
   "cell_type": "markdown",
   "metadata": {},
   "source": [
    "Создаем новую переменную, в которую будем записывать все данные, которые необходимо включить в итоговый Excel-файл."
   ]
  },
  {
   "cell_type": "code",
   "execution_count": 5,
   "metadata": {},
   "outputs": [],
   "source": [
    "data_to_excel = data[FEATURES]"
   ]
  },
  {
   "cell_type": "markdown",
   "metadata": {},
   "source": [
    "Далее, вводим функцию gen_train_data по созданию тренировочной выборки.\n",
    "<br>Аргументы функции: \n",
    "- data - данные для анализа\n",
    "- features - названия признаков \n",
    "- train_samples - опциональный параметр: если он передан, то разбиение классов обучающей выборкой задается при помощи train_samples (1 часть ЛР), в противном случае разбиение должно присутствовать в одном из столбцов data (2 часть ЛР)"
   ]
  },
  {
   "cell_type": "code",
   "execution_count": 6,
   "metadata": {},
   "outputs": [],
   "source": [
    "def gen_train_data(data, features, train_samples=None):\n",
    "    if train_samples: # если опциональный параметр задан\n",
    "        train_data = pd.DataFrame() # создаем тренировочную выборку, пока пустую\n",
    "        for cls, samples in train_samples.items(): # в cls записываем номера классов, в samples список объектов этого класса\n",
    "            train_samps = data[features].loc[samples] # выбираем объекты обучающей выборки\n",
    "            train_samps[\"Class\"] = cls # добавляем к ним колонку с номером класса\n",
    "            train_data = pd.concat([train_data, train_samps]) # concat - функция объединения таблиц\n",
    "    else:\n",
    "        assert data.shape[1] == len(features) + 1 # если в исходном файле нет доп.колонки с разбиением, выдаст ошибку\n",
    "        train_data = data.dropna() # берем в тренировочную выборку только те строки, где проставлены классы\n",
    "        cls_col = train_data.drop(columns=features).columns[0] \n",
    "        train_data = train_data.rename({cls_col: \"Class\"}, axis=1) # переименовываем колонку с обучающей выборкой на  \"Class\"\n",
    "    train_data = train_data.astype({\"Class\": 'int32'}) # присваем колонке \"Class\" тип int\n",
    "    return train_data"
   ]
  },
  {
   "cell_type": "code",
   "execution_count": 7,
   "metadata": {},
   "outputs": [
    {
     "data": {
      "text/html": [
       "<div>\n",
       "<style scoped>\n",
       "    .dataframe tbody tr th:only-of-type {\n",
       "        vertical-align: middle;\n",
       "    }\n",
       "\n",
       "    .dataframe tbody tr th {\n",
       "        vertical-align: top;\n",
       "    }\n",
       "\n",
       "    .dataframe thead th {\n",
       "        text-align: right;\n",
       "    }\n",
       "</style>\n",
       "<table border=\"1\" class=\"dataframe\">\n",
       "  <thead>\n",
       "    <tr style=\"text-align: right;\">\n",
       "      <th></th>\n",
       "      <th>X1</th>\n",
       "      <th>X2</th>\n",
       "      <th>X3</th>\n",
       "      <th>X4</th>\n",
       "      <th>X5</th>\n",
       "      <th>Class</th>\n",
       "    </tr>\n",
       "  </thead>\n",
       "  <tbody>\n",
       "    <tr>\n",
       "      <th>1</th>\n",
       "      <td>9.26</td>\n",
       "      <td>0.78</td>\n",
       "      <td>1.37</td>\n",
       "      <td>0.23</td>\n",
       "      <td>1.45</td>\n",
       "      <td>1</td>\n",
       "    </tr>\n",
       "    <tr>\n",
       "      <th>3</th>\n",
       "      <td>12.11</td>\n",
       "      <td>0.68</td>\n",
       "      <td>1.44</td>\n",
       "      <td>0.43</td>\n",
       "      <td>1.37</td>\n",
       "      <td>1</td>\n",
       "    </tr>\n",
       "    <tr>\n",
       "      <th>4</th>\n",
       "      <td>10.81</td>\n",
       "      <td>0.70</td>\n",
       "      <td>1.42</td>\n",
       "      <td>0.18</td>\n",
       "      <td>1.65</td>\n",
       "      <td>1</td>\n",
       "    </tr>\n",
       "    <tr>\n",
       "      <th>5</th>\n",
       "      <td>9.35</td>\n",
       "      <td>0.62</td>\n",
       "      <td>1.35</td>\n",
       "      <td>0.15</td>\n",
       "      <td>1.91</td>\n",
       "      <td>1</td>\n",
       "    </tr>\n",
       "    <tr>\n",
       "      <th>6</th>\n",
       "      <td>9.87</td>\n",
       "      <td>0.76</td>\n",
       "      <td>1.39</td>\n",
       "      <td>0.34</td>\n",
       "      <td>1.68</td>\n",
       "      <td>1</td>\n",
       "    </tr>\n",
       "  </tbody>\n",
       "</table>\n",
       "</div>"
      ],
      "text/plain": [
       "      X1    X2    X3    X4    X5  Class\n",
       "1   9.26  0.78  1.37  0.23  1.45      1\n",
       "3  12.11  0.68  1.44  0.43  1.37      1\n",
       "4  10.81  0.70  1.42  0.18  1.65      1\n",
       "5   9.35  0.62  1.35  0.15  1.91      1\n",
       "6   9.87  0.76  1.39  0.34  1.68      1"
      ]
     },
     "execution_count": 7,
     "metadata": {},
     "output_type": "execute_result"
    }
   ],
   "source": [
    "# если классы заданы в файле - TRAIN_SAMPLES надо удалить\n",
    "train_data = gen_train_data(data, FEATURES, TRAIN_SAMPLES)\n",
    "train_data.head() # смотрим результаты работы функции gen_train_data"
   ]
  },
  {
   "cell_type": "markdown",
   "metadata": {},
   "source": [
    "Добавим столбец с обучающей выборкой в переменную."
   ]
  },
  {
   "cell_type": "code",
   "execution_count": 8,
   "metadata": {},
   "outputs": [],
   "source": [
    "data_to_excel[\"Train sample\"] = train_data.Class"
   ]
  },
  {
   "attachments": {
    "image.png": {
     "image/png": "[encoded data removed]"
    }
   },
   "cell_type": "markdown",
   "metadata": {},
   "source": [
    "Для расчета Лямбды Уилкса необходимо знать: <br>\n",
    "1) общая матрица рассеяния: \n",
    "![image.png](attachment:image.png)"
   ]
  },
  {
   "attachments": {
    "image.png": {
     "image/png": "[encoded data removed]"
    }
   },
   "cell_type": "markdown",
   "metadata": {},
   "source": [
    "2) внутриклассовые матрицы разброса\n",
    "![image.png](attachment:image.png)"
   ]
  },
  {
   "attachments": {
    "image.png": {
     "image/png": "[encoded data removed]"
    }
   },
   "cell_type": "markdown",
   "metadata": {},
   "source": [
    "где ![image.png](attachment:image.png)"
   ]
  },
  {
   "cell_type": "code",
   "execution_count": 9,
   "metadata": {},
   "outputs": [],
   "source": [
    "# проведем расчет матрицы рассеяния \n",
    "\n",
    "def scatter_matrix(samples):\n",
    "    if isinstance(samples, pd.Series):\n",
    "        samples = samples.to_frame()\n",
    "    d = samples - samples.mean()\n",
    "    res = np.zeros((d.shape[1], d.shape[1]))\n",
    "    for _, row in d.iterrows():\n",
    "        col = row.to_frame()\n",
    "        res += col @ col.T\n",
    "    return res"
   ]
  },
  {
   "cell_type": "code",
   "execution_count": 10,
   "metadata": {},
   "outputs": [],
   "source": [
    "# проведем расчет внутриклассовых матриц разброса\n",
    "\n",
    "def classes_scatter_matrix(samples, labels):\n",
    "    A = np.zeros((samples.shape[1], samples.shape[1]))\n",
    "    for cls in labels.unique():\n",
    "        A += scatter_matrix(samples[labels == cls])\n",
    "    return A"
   ]
  },
  {
   "cell_type": "markdown",
   "metadata": {},
   "source": [
    "Рассчитаем ковариационную матрицу:"
   ]
  },
  {
   "cell_type": "code",
   "execution_count": 11,
   "metadata": {},
   "outputs": [
    {
     "data": {
      "text/html": [
       "<div>\n",
       "<style scoped>\n",
       "    .dataframe tbody tr th:only-of-type {\n",
       "        vertical-align: middle;\n",
       "    }\n",
       "\n",
       "    .dataframe tbody tr th {\n",
       "        vertical-align: top;\n",
       "    }\n",
       "\n",
       "    .dataframe thead th {\n",
       "        text-align: right;\n",
       "    }\n",
       "</style>\n",
       "<table border=\"1\" class=\"dataframe\">\n",
       "  <thead>\n",
       "    <tr style=\"text-align: right;\">\n",
       "      <th></th>\n",
       "      <th>X1</th>\n",
       "      <th>X2</th>\n",
       "      <th>X3</th>\n",
       "      <th>X4</th>\n",
       "      <th>X5</th>\n",
       "    </tr>\n",
       "  </thead>\n",
       "  <tbody>\n",
       "    <tr>\n",
       "      <th>X1</th>\n",
       "      <td>0.964345</td>\n",
       "      <td>0.003818</td>\n",
       "      <td>0.022438</td>\n",
       "      <td>0.012281</td>\n",
       "      <td>-0.057013</td>\n",
       "    </tr>\n",
       "    <tr>\n",
       "      <th>X2</th>\n",
       "      <td>0.003818</td>\n",
       "      <td>0.002410</td>\n",
       "      <td>0.000349</td>\n",
       "      <td>0.000066</td>\n",
       "      <td>0.008273</td>\n",
       "    </tr>\n",
       "    <tr>\n",
       "      <th>X3</th>\n",
       "      <td>0.022438</td>\n",
       "      <td>0.000349</td>\n",
       "      <td>0.005926</td>\n",
       "      <td>-0.003190</td>\n",
       "      <td>-0.010197</td>\n",
       "    </tr>\n",
       "    <tr>\n",
       "      <th>X4</th>\n",
       "      <td>0.012281</td>\n",
       "      <td>0.000066</td>\n",
       "      <td>-0.003190</td>\n",
       "      <td>0.038130</td>\n",
       "      <td>-0.008176</td>\n",
       "    </tr>\n",
       "    <tr>\n",
       "      <th>X5</th>\n",
       "      <td>-0.057013</td>\n",
       "      <td>0.008273</td>\n",
       "      <td>-0.010197</td>\n",
       "      <td>-0.008176</td>\n",
       "      <td>0.161744</td>\n",
       "    </tr>\n",
       "  </tbody>\n",
       "</table>\n",
       "</div>"
      ],
      "text/plain": [
       "          X1        X2        X3        X4        X5\n",
       "X1  0.964345  0.003818  0.022438  0.012281 -0.057013\n",
       "X2  0.003818  0.002410  0.000349  0.000066  0.008273\n",
       "X3  0.022438  0.000349  0.005926 -0.003190 -0.010197\n",
       "X4  0.012281  0.000066 -0.003190  0.038130 -0.008176\n",
       "X5 -0.057013  0.008273 -0.010197 -0.008176  0.161744"
      ]
     },
     "execution_count": 11,
     "metadata": {},
     "output_type": "execute_result"
    }
   ],
   "source": [
    "# выведем ковариационную матрицу\n",
    "# она рассчитывается как классовая матрица рассеяния \"classes_scatter_matrix\", деленная на (кол-во объектов - кол-во классов)\n",
    "\n",
    "cov = pd.DataFrame(\n",
    "    classes_scatter_matrix(train_data[FEATURES], train_data.Class) / (train_data.shape[0] - train_data.Class.unique().size), \n",
    "    index=FEATURES, \n",
    "    columns=FEATURES\n",
    ")\n",
    "\n",
    "cov"
   ]
  },
  {
   "cell_type": "markdown",
   "metadata": {},
   "source": [
    "Для проведения дискриминантного анализа используем возможности класса LinearDiscriminantAnalysis."
   ]
  },
  {
   "cell_type": "code",
   "execution_count": 12,
   "metadata": {},
   "outputs": [],
   "source": [
    "# \"обучаем\" модель с помощью метода fit класса LinearDiscriminantAnalysis \n",
    "# в метод fit передаем исходные данные\n",
    "lda = LinearDiscriminantAnalysis().fit(train_data[FEATURES], train_data.Class)"
   ]
  },
  {
   "cell_type": "markdown",
   "metadata": {},
   "source": [
    "Рассчитаем оценки математических ожиданий в классах."
   ]
  },
  {
   "cell_type": "code",
   "execution_count": 13,
   "metadata": {},
   "outputs": [
    {
     "data": {
      "text/html": [
       "<div>\n",
       "<style scoped>\n",
       "    .dataframe tbody tr th:only-of-type {\n",
       "        vertical-align: middle;\n",
       "    }\n",
       "\n",
       "    .dataframe tbody tr th {\n",
       "        vertical-align: top;\n",
       "    }\n",
       "\n",
       "    .dataframe thead th {\n",
       "        text-align: right;\n",
       "    }\n",
       "</style>\n",
       "<table border=\"1\" class=\"dataframe\">\n",
       "  <thead>\n",
       "    <tr style=\"text-align: right;\">\n",
       "      <th></th>\n",
       "      <th>X1</th>\n",
       "      <th>X2</th>\n",
       "      <th>X3</th>\n",
       "      <th>X4</th>\n",
       "      <th>X5</th>\n",
       "    </tr>\n",
       "  </thead>\n",
       "  <tbody>\n",
       "    <tr>\n",
       "      <th>1</th>\n",
       "      <td>9.925556</td>\n",
       "      <td>0.722222</td>\n",
       "      <td>1.34000</td>\n",
       "      <td>0.247778</td>\n",
       "      <td>1.877778</td>\n",
       "    </tr>\n",
       "    <tr>\n",
       "      <th>2</th>\n",
       "      <td>6.007500</td>\n",
       "      <td>0.743750</td>\n",
       "      <td>1.31875</td>\n",
       "      <td>0.625000</td>\n",
       "      <td>1.135000</td>\n",
       "    </tr>\n",
       "  </tbody>\n",
       "</table>\n",
       "</div>"
      ],
      "text/plain": [
       "         X1        X2       X3        X4        X5\n",
       "1  9.925556  0.722222  1.34000  0.247778  1.877778\n",
       "2  6.007500  0.743750  1.31875  0.625000  1.135000"
      ]
     },
     "execution_count": 13,
     "metadata": {},
     "output_type": "execute_result"
    }
   ],
   "source": [
    "# выведем средние значения параметров для каждого класса обучающей выборки\n",
    "means = pd.DataFrame(lda.means_, index=lda.classes_, columns=FEATURES)\n",
    "means"
   ]
  },
  {
   "cell_type": "markdown",
   "metadata": {},
   "source": [
    "### 3.\tДискриминантный анализ"
   ]
  },
  {
   "cell_type": "markdown",
   "metadata": {},
   "source": [
    "Определим линейные дискриминантные функции Фишера.\n",
    "Зададим функцию вывода коэффициентов функции Фишера."
   ]
  },
  {
   "cell_type": "code",
   "execution_count": 14,
   "metadata": {},
   "outputs": [],
   "source": [
    "def get_df_coef(lda, features):\n",
    "    if lda.classes_.size == 2: #если 2 класса, то lda вернет разность коэффициентов функций\n",
    "        return pd.DataFrame(\n",
    "            np.concatenate([lda.intercept_, lda.coef_.ravel()]),\n",
    "            index=[\"Intercept\"] + features,\n",
    "            columns=[\"Discriminant F\"]\n",
    "        )\n",
    "# если 3 и более классов, то lda вернет несколько функций (аналогично ППП Statistica)\n",
    "    return pd.DataFrame(\n",
    "        np.vstack([lda.intercept_, lda.coef_.T]),\n",
    "        index=[\"Intercept\"] + features,\n",
    "        columns=lda.classes_\n",
    "    )"
   ]
  },
  {
   "cell_type": "code",
   "execution_count": 15,
   "metadata": {},
   "outputs": [
    {
     "data": {
      "text/html": [
       "<div>\n",
       "<style scoped>\n",
       "    .dataframe tbody tr th:only-of-type {\n",
       "        vertical-align: middle;\n",
       "    }\n",
       "\n",
       "    .dataframe tbody tr th {\n",
       "        vertical-align: top;\n",
       "    }\n",
       "\n",
       "    .dataframe thead th {\n",
       "        text-align: right;\n",
       "    }\n",
       "</style>\n",
       "<table border=\"1\" class=\"dataframe\">\n",
       "  <thead>\n",
       "    <tr style=\"text-align: right;\">\n",
       "      <th></th>\n",
       "      <th>Discriminant F</th>\n",
       "    </tr>\n",
       "  </thead>\n",
       "  <tbody>\n",
       "    <tr>\n",
       "      <th>Intercept</th>\n",
       "      <td>8.900887</td>\n",
       "    </tr>\n",
       "    <tr>\n",
       "      <th>X1</th>\n",
       "      <td>-4.925286</td>\n",
       "    </tr>\n",
       "    <tr>\n",
       "      <th>X2</th>\n",
       "      <td>42.035307</td>\n",
       "    </tr>\n",
       "    <tr>\n",
       "      <th>X3</th>\n",
       "      <td>4.889948</td>\n",
       "    </tr>\n",
       "    <tr>\n",
       "      <th>X4</th>\n",
       "      <td>10.173612</td>\n",
       "    </tr>\n",
       "    <tr>\n",
       "      <th>X5</th>\n",
       "      <td>-7.655902</td>\n",
       "    </tr>\n",
       "  </tbody>\n",
       "</table>\n",
       "</div>"
      ],
      "text/plain": [
       "           Discriminant F\n",
       "Intercept        8.900887\n",
       "X1              -4.925286\n",
       "X2              42.035307\n",
       "X3               4.889948\n",
       "X4              10.173612\n",
       "X5              -7.655902"
      ]
     },
     "execution_count": 15,
     "metadata": {},
     "output_type": "execute_result"
    }
   ],
   "source": [
    "df_coef = get_df_coef(lda, FEATURES) # применим эту функцию для наших параметров\n",
    "df_coef"
   ]
  },
  {
   "cell_type": "markdown",
   "metadata": {},
   "source": [
    "Зададим функцию расчета квадратов расстояний Махаланобиса между классами, где:\n",
    " - centers - центры классов\n",
    " - samples - объекты, для которых считаем расстояния\n",
    " - cov - ковариационная матрицы"
   ]
  },
  {
   "cell_type": "code",
   "execution_count": 16,
   "metadata": {},
   "outputs": [],
   "source": [
    "def calc_mahalanobis_square_dist(centers, samples, cov):\n",
    "    # создаем матрицу расстояний между классами и объекnами\n",
    "    res = pd.DataFrame(index=samples.index, columns=centers.index)\n",
    "    for i in centers.index: # проходим по всем центрам классов\n",
    "        for j in samples.index: # проходим по всем объектам\n",
    "            # считаем расстояние между текущим классом и объектом\n",
    "            res[i][j] = mahalanobis(centers.loc[i], samples.loc[j], np.linalg.inv(cov)) ** 2 \n",
    "    return res"
   ]
  },
  {
   "cell_type": "code",
   "execution_count": 17,
   "metadata": {},
   "outputs": [
    {
     "data": {
      "text/html": [
       "<div>\n",
       "<style scoped>\n",
       "    .dataframe tbody tr th:only-of-type {\n",
       "        vertical-align: middle;\n",
       "    }\n",
       "\n",
       "    .dataframe tbody tr th {\n",
       "        vertical-align: top;\n",
       "    }\n",
       "\n",
       "    .dataframe thead th {\n",
       "        text-align: right;\n",
       "    }\n",
       "</style>\n",
       "<table border=\"1\" class=\"dataframe\">\n",
       "  <thead>\n",
       "    <tr style=\"text-align: right;\">\n",
       "      <th></th>\n",
       "      <th>1</th>\n",
       "      <th>2</th>\n",
       "    </tr>\n",
       "  </thead>\n",
       "  <tbody>\n",
       "    <tr>\n",
       "      <th>1</th>\n",
       "      <td>0</td>\n",
       "      <td>29.6229</td>\n",
       "    </tr>\n",
       "    <tr>\n",
       "      <th>2</th>\n",
       "      <td>29.6229</td>\n",
       "      <td>0</td>\n",
       "    </tr>\n",
       "  </tbody>\n",
       "</table>\n",
       "</div>"
      ],
      "text/plain": [
       "         1        2\n",
       "1        0  29.6229\n",
       "2  29.6229        0"
      ]
     },
     "execution_count": 17,
     "metadata": {},
     "output_type": "execute_result"
    }
   ],
   "source": [
    "# выведем квадраты расстояний Махаланобиса между классами\n",
    "center_distance = calc_mahalanobis_square_dist(means, means, cov)\n",
    "center_distance"
   ]
  },
  {
   "cell_type": "markdown",
   "metadata": {},
   "source": [
    "Выведем оценки априорных вероятностей:"
   ]
  },
  {
   "cell_type": "code",
   "execution_count": 18,
   "metadata": {},
   "outputs": [
    {
     "data": {
      "text/plain": [
       "array([0.52941176, 0.47058824])"
      ]
     },
     "execution_count": 18,
     "metadata": {},
     "output_type": "execute_result"
    }
   ],
   "source": [
    "lda.priors_ "
   ]
  },
  {
   "cell_type": "markdown",
   "metadata": {},
   "source": [
    "Далее, определим функцию вывода номеров классов для переданных X:"
   ]
  },
  {
   "cell_type": "code",
   "execution_count": 19,
   "metadata": {},
   "outputs": [],
   "source": [
    "def LDA_predict(lda, X):\n",
    "    return pd.DataFrame(\n",
    "        lda.predict(X),\n",
    "        columns=[\"Class\"],\n",
    "        index=X.index\n",
    "    )"
   ]
  },
  {
   "cell_type": "markdown",
   "metadata": {},
   "source": [
    "Поведем повторную классификацию объектов тренировочной выборки:"
   ]
  },
  {
   "cell_type": "code",
   "execution_count": 20,
   "metadata": {},
   "outputs": [
    {
     "data": {
      "text/plain": [
       "True    1.0\n",
       "Name: Class, dtype: float64"
      ]
     },
     "execution_count": 20,
     "metadata": {},
     "output_type": "execute_result"
    }
   ],
   "source": [
    "lda_predict_train = LDA_predict(lda, train_data[FEATURES])\n",
    "# сравниваем полученные классы с теми, которые были заданы в начале, и смотрим долю совпадения\n",
    "(lda_predict_train.Class == train_data.Class).value_counts(normalize=True)"
   ]
  },
  {
   "cell_type": "markdown",
   "metadata": {},
   "source": [
    "Получим полную картину классификации всех объектов:"
   ]
  },
  {
   "cell_type": "code",
   "execution_count": 21,
   "metadata": {},
   "outputs": [
    {
     "data": {
      "text/html": [
       "<div>\n",
       "<style scoped>\n",
       "    .dataframe tbody tr th:only-of-type {\n",
       "        vertical-align: middle;\n",
       "    }\n",
       "\n",
       "    .dataframe tbody tr th {\n",
       "        vertical-align: top;\n",
       "    }\n",
       "\n",
       "    .dataframe thead th {\n",
       "        text-align: right;\n",
       "    }\n",
       "</style>\n",
       "<table border=\"1\" class=\"dataframe\">\n",
       "  <thead>\n",
       "    <tr style=\"text-align: right;\">\n",
       "      <th></th>\n",
       "      <th>Class</th>\n",
       "    </tr>\n",
       "  </thead>\n",
       "  <tbody>\n",
       "    <tr>\n",
       "      <th>1</th>\n",
       "      <td>1</td>\n",
       "    </tr>\n",
       "    <tr>\n",
       "      <th>2</th>\n",
       "      <td>1</td>\n",
       "    </tr>\n",
       "    <tr>\n",
       "      <th>3</th>\n",
       "      <td>1</td>\n",
       "    </tr>\n",
       "    <tr>\n",
       "      <th>4</th>\n",
       "      <td>1</td>\n",
       "    </tr>\n",
       "    <tr>\n",
       "      <th>5</th>\n",
       "      <td>1</td>\n",
       "    </tr>\n",
       "  </tbody>\n",
       "</table>\n",
       "</div>"
      ],
      "text/plain": [
       "   Class\n",
       "1      1\n",
       "2      1\n",
       "3      1\n",
       "4      1\n",
       "5      1"
      ]
     },
     "execution_count": 21,
     "metadata": {},
     "output_type": "execute_result"
    }
   ],
   "source": [
    "lda_predict = LDA_predict(lda, data[FEATURES])\n",
    "lda_predict.head()"
   ]
  },
  {
   "cell_type": "markdown",
   "metadata": {},
   "source": [
    "Запишем результаты классификации в переменную."
   ]
  },
  {
   "cell_type": "code",
   "execution_count": 22,
   "metadata": {},
   "outputs": [],
   "source": [
    "data_to_excel[\"Results lda\"] = lda_predict"
   ]
  },
  {
   "cell_type": "markdown",
   "metadata": {},
   "source": [
    "Выведем квадраты расстояний Махаланобиса между классами и объектами:"
   ]
  },
  {
   "cell_type": "code",
   "execution_count": 23,
   "metadata": {},
   "outputs": [
    {
     "data": {
      "text/html": [
       "<div>\n",
       "<style scoped>\n",
       "    .dataframe tbody tr th:only-of-type {\n",
       "        vertical-align: middle;\n",
       "    }\n",
       "\n",
       "    .dataframe tbody tr th {\n",
       "        vertical-align: top;\n",
       "    }\n",
       "\n",
       "    .dataframe thead th {\n",
       "        text-align: right;\n",
       "    }\n",
       "</style>\n",
       "<table border=\"1\" class=\"dataframe\">\n",
       "  <thead>\n",
       "    <tr style=\"text-align: right;\">\n",
       "      <th></th>\n",
       "      <th>1</th>\n",
       "      <th>2</th>\n",
       "    </tr>\n",
       "  </thead>\n",
       "  <tbody>\n",
       "    <tr>\n",
       "      <th>1</th>\n",
       "      <td>5.75425</td>\n",
       "      <td>17.4819</td>\n",
       "    </tr>\n",
       "    <tr>\n",
       "      <th>2</th>\n",
       "      <td>8.21605</td>\n",
       "      <td>16.922</td>\n",
       "    </tr>\n",
       "    <tr>\n",
       "      <th>3</th>\n",
       "      <td>7.6038</td>\n",
       "      <td>49.8337</td>\n",
       "    </tr>\n",
       "    <tr>\n",
       "      <th>4</th>\n",
       "      <td>1.85128</td>\n",
       "      <td>39.1637</td>\n",
       "    </tr>\n",
       "    <tr>\n",
       "      <th>5</th>\n",
       "      <td>6.30369</td>\n",
       "      <td>41.236</td>\n",
       "    </tr>\n",
       "  </tbody>\n",
       "</table>\n",
       "</div>"
      ],
      "text/plain": [
       "         1        2\n",
       "1  5.75425  17.4819\n",
       "2  8.21605   16.922\n",
       "3   7.6038  49.8337\n",
       "4  1.85128  39.1637\n",
       "5  6.30369   41.236"
      ]
     },
     "execution_count": 23,
     "metadata": {},
     "output_type": "execute_result"
    }
   ],
   "source": [
    "samp_dist = calc_mahalanobis_square_dist(means, data[FEATURES], cov)\n",
    "samp_dist.head()"
   ]
  },
  {
   "cell_type": "code",
   "execution_count": 24,
   "metadata": {},
   "outputs": [],
   "source": [
    "data_to_excel = pd.concat([data_to_excel, samp_dist.add_prefix(\"lda mahalanobis \")], axis=1)"
   ]
  },
  {
   "cell_type": "markdown",
   "metadata": {},
   "source": [
    "Зададим функцию для вывода апостериорных вероятностей:"
   ]
  },
  {
   "cell_type": "code",
   "execution_count": 25,
   "metadata": {},
   "outputs": [],
   "source": [
    "def LDA_predict_proba(lda, X):\n",
    "    return pd.DataFrame(\n",
    "        lda.predict_proba(X),\n",
    "        columns=lda.classes_,\n",
    "        index=X.index\n",
    "    )"
   ]
  },
  {
   "cell_type": "markdown",
   "metadata": {},
   "source": [
    "Применим функцию LDA_predict_proba для наших данных:"
   ]
  },
  {
   "cell_type": "code",
   "execution_count": 26,
   "metadata": {},
   "outputs": [
    {
     "data": {
      "text/html": [
       "<div>\n",
       "<style scoped>\n",
       "    .dataframe tbody tr th:only-of-type {\n",
       "        vertical-align: middle;\n",
       "    }\n",
       "\n",
       "    .dataframe tbody tr th {\n",
       "        vertical-align: top;\n",
       "    }\n",
       "\n",
       "    .dataframe thead th {\n",
       "        text-align: right;\n",
       "    }\n",
       "</style>\n",
       "<table border=\"1\" class=\"dataframe\">\n",
       "  <thead>\n",
       "    <tr style=\"text-align: right;\">\n",
       "      <th></th>\n",
       "      <th>1</th>\n",
       "      <th>2</th>\n",
       "    </tr>\n",
       "  </thead>\n",
       "  <tbody>\n",
       "    <tr>\n",
       "      <th>1</th>\n",
       "      <td>0.997482</td>\n",
       "      <td>2.518378e-03</td>\n",
       "    </tr>\n",
       "    <tr>\n",
       "      <th>2</th>\n",
       "      <td>0.988691</td>\n",
       "      <td>1.130931e-02</td>\n",
       "    </tr>\n",
       "    <tr>\n",
       "      <th>3</th>\n",
       "      <td>1.000000</td>\n",
       "      <td>6.008216e-10</td>\n",
       "    </tr>\n",
       "    <tr>\n",
       "      <th>4</th>\n",
       "      <td>1.000000</td>\n",
       "      <td>7.023529e-09</td>\n",
       "    </tr>\n",
       "    <tr>\n",
       "      <th>5</th>\n",
       "      <td>1.000000</td>\n",
       "      <td>2.308814e-08</td>\n",
       "    </tr>\n",
       "  </tbody>\n",
       "</table>\n",
       "</div>"
      ],
      "text/plain": [
       "          1             2\n",
       "1  0.997482  2.518378e-03\n",
       "2  0.988691  1.130931e-02\n",
       "3  1.000000  6.008216e-10\n",
       "4  1.000000  7.023529e-09\n",
       "5  1.000000  2.308814e-08"
      ]
     },
     "execution_count": 26,
     "metadata": {},
     "output_type": "execute_result"
    }
   ],
   "source": [
    "lda_post_prob = LDA_predict_proba(lda, data[FEATURES])\n",
    "lda_post_prob.head()"
   ]
  },
  {
   "cell_type": "code",
   "execution_count": 27,
   "metadata": {},
   "outputs": [],
   "source": [
    "data_to_excel = pd.concat([data_to_excel, lda_post_prob.add_prefix(\"lda post prob \")], axis=1)"
   ]
  },
  {
   "cell_type": "markdown",
   "metadata": {},
   "source": [
    "### 4.\tПошаговый дискриминантный анализ"
   ]
  },
  {
   "cell_type": "markdown",
   "metadata": {},
   "source": [
    "Зададим функцию расчета Лямбды Уилкса:"
   ]
  },
  {
   "cell_type": "code",
   "execution_count": 28,
   "metadata": {},
   "outputs": [],
   "source": [
    "def wilks_lambda(samples, labels):\n",
    "    if isinstance(samples, pd.Series):\n",
    "        samples = samples.to_frame()\n",
    "    dT = np.linalg.det(scatter_matrix(samples)) # расчет определителя матрицы рассеяния\n",
    "    dE = np.linalg.det(classes_scatter_matrix(samples, labels)) # расчет определителя матрицы классового рассеяния\n",
    "    return dE / dT # их частное и есть Лямбда Уилкса"
   ]
  },
  {
   "cell_type": "markdown",
   "metadata": {},
   "source": [
    "Зададим функцию расчета f value и p value :\n",
    "- lmbda - Лямбда Уилкса\n",
    "- n_obs - кол-во объектов\n",
    "- n_var - кол-во признаков\n",
    "- n_cls - кол-во классов"
   ]
  },
  {
   "cell_type": "code",
   "execution_count": 29,
   "metadata": {},
   "outputs": [],
   "source": [
    "def f_value_wilks_lambda(lmbda, n_obs, n_var, n_cls):\n",
    "    num = (1 - lmbda) * (n_obs - n_cls - n_var)\n",
    "    den = lmbda * (n_cls - 1)\n",
    "    f_value = num / den #значение статистики Фишера\n",
    "    # f.sf считает p value для определенного значения статистики Фишера и заданных степеней свободы\n",
    "    p_value = f.sf(f_value, n_cls - 1, n_obs - n_cls - n_var) \n",
    "    return f_value, p_value"
   ]
  },
  {
   "cell_type": "markdown",
   "metadata": {},
   "source": [
    "sda - функция для проведения пошагового дискриминантного анализа:\n",
    " - samples - набор объектов\n",
    " - labels - названия классов\n",
    " - F_in=1e-4 - установленное нами значение F_to_Enter\n",
    "Функция выводит для каждого шага переменные в модели(into) и вне модели(out) и их характеристики."
   ]
  },
  {
   "cell_type": "code",
   "execution_count": 30,
   "metadata": {},
   "outputs": [],
   "source": [
    "def sda(samples, labels, F_in=1e-4):\n",
    "    stat_columns = [\"Wilk's lambda\", \"Partial lambda\", \"F to enter\", \"p-value\"]\n",
    "    n_cls = labels.unique().size # количество классов\n",
    "    n_obs = samples.shape[0] # количество объектов\n",
    "    \n",
    "    # словари для вывода переменных в модели и вне модели на каждом шаге\n",
    "    out = {0: pd.DataFrame(columns=stat_columns, index=samples.columns, dtype=float)} \n",
    "    into = {0: pd.DataFrame(columns=stat_columns, dtype=float)}\n",
    "    \n",
    "    step = 0\n",
    "    while True:\n",
    "        model_lambda = wilks_lambda(samples[into[step].index], labels) #посчитали Лямбду Уилкса для модели на данном шаге\n",
    "        \n",
    "        for x in out[step].index: # проходим по переменным вне модели на данном шаге\n",
    "        # далее рассчитываем характеристики для данных переменных и записываем их в таблицу    \n",
    "            lmbda = wilks_lambda(samples[into[step].index.tolist() + [x]], labels) \n",
    "            partial_lambda = lmbda / model_lambda\n",
    "            f_lambda, p_value = f_value_wilks_lambda(partial_lambda, n_obs, into[step].index.size, n_cls)\n",
    "            out[step].loc[x] = lmbda, partial_lambda, f_lambda, p_value \n",
    "            \n",
    "        for x in into[step].index: # проходим по переменным в модели на данном шаге\n",
    "        # далее рассчитываем характеристики для данных переменных и записываем их в таблицу  \n",
    "            lmbda = wilks_lambda(samples[into[step].index.drop(x)], labels)\n",
    "            partial_lambda = model_lambda / lmbda\n",
    "            f_lambda, p_value = f_value_wilks_lambda(partial_lambda, n_obs, into[step].index.size - 1, n_cls)\n",
    "            into[step].loc[x] = lmbda, partial_lambda, f_lambda, p_value\n",
    "            \n",
    "        # критерий для остановки цикла \n",
    "        # если вне модели нет переменных ИЛИ новая переменная обладает f_to_enter меньше порогового значения, цикл остановлен\n",
    "        if out[step].index.size == 0 or out[step][\"F to enter\"].max() < F_in:\n",
    "            break\n",
    "        \n",
    "        # ищем элемент с max f_to_enter\n",
    "        x_to_enter = out[step][\"F to enter\"].idxmax()\n",
    "        # переносим его из элементов \"вне модели\" в элементы \"в модели\"\n",
    "        into[step + 1] = into[step].append(out[step].loc[x_to_enter])\n",
    "        out[step + 1] = out[step].drop(index=x_to_enter)\n",
    "        \n",
    "        step += 1 # переходим к следующему шагу\n",
    "        \n",
    "    return into, out "
   ]
  },
  {
   "cell_type": "markdown",
   "metadata": {},
   "source": [
    "Вызываем результаты работы заданной выше функции:"
   ]
  },
  {
   "cell_type": "code",
   "execution_count": 31,
   "metadata": {},
   "outputs": [],
   "source": [
    "into, out = sda(train_data[FEATURES], train_data.Class, 2.2)"
   ]
  },
  {
   "cell_type": "markdown",
   "metadata": {},
   "source": [
    "Выводим результаты работы для переменных \"в модели\" на экран:"
   ]
  },
  {
   "cell_type": "code",
   "execution_count": 32,
   "metadata": {},
   "outputs": [
    {
     "name": "stdout",
     "output_type": "stream",
     "text": [
      "Step  0\n",
      "Empty DataFrame\n",
      "Columns: [Wilk's lambda, Partial lambda, F to enter, p-value]\n",
      "Index: []\n",
      "\n",
      "Step  1\n",
      "    Wilk's lambda  Partial lambda  F to enter       p-value\n",
      "X1            1.0        0.181993   67.420568  6.239812e-07\n",
      "\n",
      "Step  2\n",
      "    Wilk's lambda  Partial lambda  F to enter   p-value\n",
      "X1       0.509392        0.273131   37.257409  0.000027\n",
      "X5       0.181993        0.764483    4.313034  0.056714\n",
      "\n"
     ]
    }
   ],
   "source": [
    "for i, t in into.items():\n",
    "    print(\"Step \", i)\n",
    "    print(t, end=\"\\n\\n\")"
   ]
  },
  {
   "cell_type": "markdown",
   "metadata": {},
   "source": [
    "Выводим результаты работы для переменных \"вне модели\" на экран:"
   ]
  },
  {
   "cell_type": "code",
   "execution_count": 33,
   "metadata": {},
   "outputs": [
    {
     "name": "stdout",
     "output_type": "stream",
     "text": [
      "Step  0\n",
      "    Wilk's lambda  Partial lambda  F to enter       p-value\n",
      "X1       0.181993        0.181993   67.420568  6.239812e-07\n",
      "X2       0.948490        0.948490    0.814607  3.810268e-01\n",
      "X3       0.978937        0.978937    0.322739  5.783717e-01\n",
      "X4       0.486927        0.486927   15.805458  1.218306e-03\n",
      "X5       0.509392        0.509392   14.446878  1.740007e-03\n",
      "\n",
      "Step  1\n",
      "    Wilk's lambda  Partial lambda  F to enter   p-value\n",
      "X2       0.176789        0.971401    0.412172  0.531242\n",
      "X3       0.173910        0.955582    0.650765  0.433330\n",
      "X4       0.145961        0.802012    3.456093  0.084165\n",
      "X5       0.139131        0.764483    4.313034  0.056714\n",
      "\n",
      "Step  2\n",
      "    Wilk's lambda  Partial lambda  F to enter   p-value\n",
      "X2       0.119763        0.860796    2.102304  0.170772\n",
      "X3       0.138869        0.998120    0.024492  0.878044\n",
      "X4       0.120795        0.868214    1.973266  0.183543\n",
      "\n"
     ]
    }
   ],
   "source": [
    "for i, t in out.items():\n",
    "    print(\"Step \", i)\n",
    "    print(t, end=\"\\n\\n\")"
   ]
  },
  {
   "cell_type": "markdown",
   "metadata": {},
   "source": [
    "Выводим названия признаков в модели:"
   ]
  },
  {
   "cell_type": "code",
   "execution_count": 34,
   "metadata": {},
   "outputs": [
    {
     "data": {
      "text/plain": [
       "['X1', 'X5']"
      ]
     },
     "execution_count": 34,
     "metadata": {},
     "output_type": "execute_result"
    }
   ],
   "source": [
    "stepwise_features = into[len(into) - 1].index.tolist()\n",
    "stepwise_features"
   ]
  },
  {
   "cell_type": "markdown",
   "metadata": {},
   "source": [
    "Проводим дискриминантный анализ для отобранных признаков."
   ]
  },
  {
   "cell_type": "code",
   "execution_count": 35,
   "metadata": {},
   "outputs": [],
   "source": [
    "stepwise_lda = LinearDiscriminantAnalysis().fit(train_data[stepwise_features], train_data.Class)"
   ]
  },
  {
   "cell_type": "markdown",
   "metadata": {},
   "source": [
    " Выводим коэффициенты функции Фишера на экран."
   ]
  },
  {
   "cell_type": "code",
   "execution_count": 36,
   "metadata": {},
   "outputs": [
    {
     "data": {
      "text/html": [
       "<div>\n",
       "<style scoped>\n",
       "    .dataframe tbody tr th:only-of-type {\n",
       "        vertical-align: middle;\n",
       "    }\n",
       "\n",
       "    .dataframe tbody tr th {\n",
       "        vertical-align: top;\n",
       "    }\n",
       "\n",
       "    .dataframe thead th {\n",
       "        text-align: right;\n",
       "    }\n",
       "</style>\n",
       "<table border=\"1\" class=\"dataframe\">\n",
       "  <thead>\n",
       "    <tr style=\"text-align: right;\">\n",
       "      <th></th>\n",
       "      <th>Discriminant F</th>\n",
       "    </tr>\n",
       "  </thead>\n",
       "  <tbody>\n",
       "    <tr>\n",
       "      <th>Intercept</th>\n",
       "      <td>44.415687</td>\n",
       "    </tr>\n",
       "    <tr>\n",
       "      <th>X1</th>\n",
       "      <td>-4.426668</td>\n",
       "    </tr>\n",
       "    <tr>\n",
       "      <th>X5</th>\n",
       "      <td>-6.152657</td>\n",
       "    </tr>\n",
       "  </tbody>\n",
       "</table>\n",
       "</div>"
      ],
      "text/plain": [
       "           Discriminant F\n",
       "Intercept       44.415687\n",
       "X1              -4.426668\n",
       "X5              -6.152657"
      ]
     },
     "execution_count": 36,
     "metadata": {},
     "output_type": "execute_result"
    }
   ],
   "source": [
    "stepwise_df_coef = get_df_coef(stepwise_lda, stepwise_features)\n",
    "stepwise_df_coef"
   ]
  },
  {
   "cell_type": "markdown",
   "metadata": {},
   "source": [
    "Пполучим полную картину классификации всех объектов."
   ]
  },
  {
   "cell_type": "code",
   "execution_count": 37,
   "metadata": {},
   "outputs": [
    {
     "data": {
      "text/html": [
       "<div>\n",
       "<style scoped>\n",
       "    .dataframe tbody tr th:only-of-type {\n",
       "        vertical-align: middle;\n",
       "    }\n",
       "\n",
       "    .dataframe tbody tr th {\n",
       "        vertical-align: top;\n",
       "    }\n",
       "\n",
       "    .dataframe thead th {\n",
       "        text-align: right;\n",
       "    }\n",
       "</style>\n",
       "<table border=\"1\" class=\"dataframe\">\n",
       "  <thead>\n",
       "    <tr style=\"text-align: right;\">\n",
       "      <th></th>\n",
       "      <th>Class</th>\n",
       "    </tr>\n",
       "  </thead>\n",
       "  <tbody>\n",
       "    <tr>\n",
       "      <th>1</th>\n",
       "      <td>1</td>\n",
       "    </tr>\n",
       "    <tr>\n",
       "      <th>2</th>\n",
       "      <td>1</td>\n",
       "    </tr>\n",
       "    <tr>\n",
       "      <th>3</th>\n",
       "      <td>1</td>\n",
       "    </tr>\n",
       "    <tr>\n",
       "      <th>4</th>\n",
       "      <td>1</td>\n",
       "    </tr>\n",
       "    <tr>\n",
       "      <th>5</th>\n",
       "      <td>1</td>\n",
       "    </tr>\n",
       "  </tbody>\n",
       "</table>\n",
       "</div>"
      ],
      "text/plain": [
       "   Class\n",
       "1      1\n",
       "2      1\n",
       "3      1\n",
       "4      1\n",
       "5      1"
      ]
     },
     "execution_count": 37,
     "metadata": {},
     "output_type": "execute_result"
    }
   ],
   "source": [
    "stepwise_lda_predict = LDA_predict(stepwise_lda, data[stepwise_features])\n",
    "stepwise_lda_predict.head()"
   ]
  },
  {
   "cell_type": "markdown",
   "metadata": {},
   "source": [
    "Запишем результаты классификации в переменную."
   ]
  },
  {
   "cell_type": "code",
   "execution_count": 38,
   "metadata": {},
   "outputs": [],
   "source": [
    "data_to_excel[\"Results stepwise lda\"] = stepwise_lda_predict"
   ]
  },
  {
   "cell_type": "code",
   "execution_count": 39,
   "metadata": {},
   "outputs": [
    {
     "data": {
      "text/html": [
       "<div>\n",
       "<style scoped>\n",
       "    .dataframe tbody tr th:only-of-type {\n",
       "        vertical-align: middle;\n",
       "    }\n",
       "\n",
       "    .dataframe tbody tr th {\n",
       "        vertical-align: top;\n",
       "    }\n",
       "\n",
       "    .dataframe thead th {\n",
       "        text-align: right;\n",
       "    }\n",
       "</style>\n",
       "<table border=\"1\" class=\"dataframe\">\n",
       "  <thead>\n",
       "    <tr style=\"text-align: right;\">\n",
       "      <th></th>\n",
       "      <th>1</th>\n",
       "      <th>2</th>\n",
       "    </tr>\n",
       "  </thead>\n",
       "  <tbody>\n",
       "    <tr>\n",
       "      <th>1</th>\n",
       "      <td>1.83714</td>\n",
       "      <td>12.5948</td>\n",
       "    </tr>\n",
       "    <tr>\n",
       "      <th>2</th>\n",
       "      <td>2.65839</td>\n",
       "      <td>12.6327</td>\n",
       "    </tr>\n",
       "    <tr>\n",
       "      <th>3</th>\n",
       "      <td>5.85345</td>\n",
       "      <td>40.8587</td>\n",
       "    </tr>\n",
       "    <tr>\n",
       "      <th>4</th>\n",
       "      <td>1.00562</td>\n",
       "      <td>27.947</td>\n",
       "    </tr>\n",
       "    <tr>\n",
       "      <th>5</th>\n",
       "      <td>0.343533</td>\n",
       "      <td>17.5584</td>\n",
       "    </tr>\n",
       "  </tbody>\n",
       "</table>\n",
       "</div>"
      ],
      "text/plain": [
       "          1        2\n",
       "1   1.83714  12.5948\n",
       "2   2.65839  12.6327\n",
       "3   5.85345  40.8587\n",
       "4   1.00562   27.947\n",
       "5  0.343533  17.5584"
      ]
     },
     "execution_count": 39,
     "metadata": {},
     "output_type": "execute_result"
    }
   ],
   "source": [
    "stepwise_cov = classes_scatter_matrix(train_data[stepwise_features], train_data.Class) \\\n",
    "    / (train_data.shape[0] - train_data.Class.unique().size)\n",
    "\n",
    "stepwise_means = pd.DataFrame(stepwise_lda.means_, index=stepwise_lda.classes_, columns=stepwise_features)\n",
    "\n",
    "stepwise_samp_dist = calc_mahalanobis_square_dist(stepwise_means, data[stepwise_features], stepwise_cov)\n",
    "stepwise_samp_dist.head()"
   ]
  },
  {
   "cell_type": "code",
   "execution_count": 40,
   "metadata": {},
   "outputs": [],
   "source": [
    "data_to_excel = pd.concat([data_to_excel, stepwise_samp_dist.add_prefix(\"stepwise lda mahalanobis \")], axis=1)"
   ]
  },
  {
   "cell_type": "code",
   "execution_count": 41,
   "metadata": {},
   "outputs": [
    {
     "data": {
      "text/html": [
       "<div>\n",
       "<style scoped>\n",
       "    .dataframe tbody tr th:only-of-type {\n",
       "        vertical-align: middle;\n",
       "    }\n",
       "\n",
       "    .dataframe tbody tr th {\n",
       "        vertical-align: top;\n",
       "    }\n",
       "\n",
       "    .dataframe thead th {\n",
       "        text-align: right;\n",
       "    }\n",
       "</style>\n",
       "<table border=\"1\" class=\"dataframe\">\n",
       "  <thead>\n",
       "    <tr style=\"text-align: right;\">\n",
       "      <th></th>\n",
       "      <th>1</th>\n",
       "      <th>2</th>\n",
       "    </tr>\n",
       "  </thead>\n",
       "  <tbody>\n",
       "    <tr>\n",
       "      <th>1</th>\n",
       "      <td>0.995916</td>\n",
       "      <td>4.083887e-03</td>\n",
       "    </tr>\n",
       "    <tr>\n",
       "      <th>2</th>\n",
       "      <td>0.993970</td>\n",
       "      <td>6.030267e-03</td>\n",
       "    </tr>\n",
       "    <tr>\n",
       "      <th>3</th>\n",
       "      <td>1.000000</td>\n",
       "      <td>2.226153e-08</td>\n",
       "    </tr>\n",
       "    <tr>\n",
       "      <th>4</th>\n",
       "      <td>0.999999</td>\n",
       "      <td>1.254865e-06</td>\n",
       "    </tr>\n",
       "    <tr>\n",
       "      <th>5</th>\n",
       "      <td>0.999838</td>\n",
       "      <td>1.624080e-04</td>\n",
       "    </tr>\n",
       "  </tbody>\n",
       "</table>\n",
       "</div>"
      ],
      "text/plain": [
       "          1             2\n",
       "1  0.995916  4.083887e-03\n",
       "2  0.993970  6.030267e-03\n",
       "3  1.000000  2.226153e-08\n",
       "4  0.999999  1.254865e-06\n",
       "5  0.999838  1.624080e-04"
      ]
     },
     "execution_count": 41,
     "metadata": {},
     "output_type": "execute_result"
    }
   ],
   "source": [
    "stepwise_lda_post_prob = LDA_predict_proba(stepwise_lda, data[stepwise_features])\n",
    "stepwise_lda_post_prob.head()"
   ]
  },
  {
   "cell_type": "code",
   "execution_count": 42,
   "metadata": {},
   "outputs": [
    {
     "data": {
      "text/html": [
       "<div>\n",
       "<style scoped>\n",
       "    .dataframe tbody tr th:only-of-type {\n",
       "        vertical-align: middle;\n",
       "    }\n",
       "\n",
       "    .dataframe tbody tr th {\n",
       "        vertical-align: top;\n",
       "    }\n",
       "\n",
       "    .dataframe thead th {\n",
       "        text-align: right;\n",
       "    }\n",
       "</style>\n",
       "<table border=\"1\" class=\"dataframe\">\n",
       "  <thead>\n",
       "    <tr style=\"text-align: right;\">\n",
       "      <th></th>\n",
       "      <th>X1</th>\n",
       "      <th>X2</th>\n",
       "      <th>X3</th>\n",
       "      <th>X4</th>\n",
       "      <th>X5</th>\n",
       "      <th>Train sample</th>\n",
       "      <th>Results lda</th>\n",
       "      <th>lda mahalanobis 1</th>\n",
       "      <th>lda mahalanobis 2</th>\n",
       "      <th>lda post prob 1</th>\n",
       "      <th>lda post prob 2</th>\n",
       "      <th>Results stepwise lda</th>\n",
       "      <th>stepwise lda mahalanobis 1</th>\n",
       "      <th>stepwise lda mahalanobis 2</th>\n",
       "      <th>stepwise lda post prob 1</th>\n",
       "      <th>stepwise lda post prob 2</th>\n",
       "    </tr>\n",
       "  </thead>\n",
       "  <tbody>\n",
       "    <tr>\n",
       "      <th>1</th>\n",
       "      <td>9.26</td>\n",
       "      <td>0.78</td>\n",
       "      <td>1.37</td>\n",
       "      <td>0.23</td>\n",
       "      <td>1.45</td>\n",
       "      <td>1.0</td>\n",
       "      <td>1</td>\n",
       "      <td>5.75425</td>\n",
       "      <td>17.4819</td>\n",
       "      <td>0.997482</td>\n",
       "      <td>2.518378e-03</td>\n",
       "      <td>1</td>\n",
       "      <td>1.83714</td>\n",
       "      <td>12.5948</td>\n",
       "      <td>0.995916</td>\n",
       "      <td>4.083887e-03</td>\n",
       "    </tr>\n",
       "    <tr>\n",
       "      <th>2</th>\n",
       "      <td>9.38</td>\n",
       "      <td>0.75</td>\n",
       "      <td>1.49</td>\n",
       "      <td>0.39</td>\n",
       "      <td>1.30</td>\n",
       "      <td>NaN</td>\n",
       "      <td>1</td>\n",
       "      <td>8.21605</td>\n",
       "      <td>16.922</td>\n",
       "      <td>0.988691</td>\n",
       "      <td>1.130931e-02</td>\n",
       "      <td>1</td>\n",
       "      <td>2.65839</td>\n",
       "      <td>12.6327</td>\n",
       "      <td>0.993970</td>\n",
       "      <td>6.030267e-03</td>\n",
       "    </tr>\n",
       "    <tr>\n",
       "      <th>3</th>\n",
       "      <td>12.11</td>\n",
       "      <td>0.68</td>\n",
       "      <td>1.44</td>\n",
       "      <td>0.43</td>\n",
       "      <td>1.37</td>\n",
       "      <td>1.0</td>\n",
       "      <td>1</td>\n",
       "      <td>7.6038</td>\n",
       "      <td>49.8337</td>\n",
       "      <td>1.000000</td>\n",
       "      <td>6.008216e-10</td>\n",
       "      <td>1</td>\n",
       "      <td>5.85345</td>\n",
       "      <td>40.8587</td>\n",
       "      <td>1.000000</td>\n",
       "      <td>2.226153e-08</td>\n",
       "    </tr>\n",
       "    <tr>\n",
       "      <th>4</th>\n",
       "      <td>10.81</td>\n",
       "      <td>0.70</td>\n",
       "      <td>1.42</td>\n",
       "      <td>0.18</td>\n",
       "      <td>1.65</td>\n",
       "      <td>1.0</td>\n",
       "      <td>1</td>\n",
       "      <td>1.85128</td>\n",
       "      <td>39.1637</td>\n",
       "      <td>1.000000</td>\n",
       "      <td>7.023529e-09</td>\n",
       "      <td>1</td>\n",
       "      <td>1.00562</td>\n",
       "      <td>27.947</td>\n",
       "      <td>0.999999</td>\n",
       "      <td>1.254865e-06</td>\n",
       "    </tr>\n",
       "    <tr>\n",
       "      <th>5</th>\n",
       "      <td>9.35</td>\n",
       "      <td>0.62</td>\n",
       "      <td>1.35</td>\n",
       "      <td>0.15</td>\n",
       "      <td>1.91</td>\n",
       "      <td>1.0</td>\n",
       "      <td>1</td>\n",
       "      <td>6.30369</td>\n",
       "      <td>41.236</td>\n",
       "      <td>1.000000</td>\n",
       "      <td>2.308814e-08</td>\n",
       "      <td>1</td>\n",
       "      <td>0.343533</td>\n",
       "      <td>17.5584</td>\n",
       "      <td>0.999838</td>\n",
       "      <td>1.624080e-04</td>\n",
       "    </tr>\n",
       "  </tbody>\n",
       "</table>\n",
       "</div>"
      ],
      "text/plain": [
       "      X1    X2    X3    X4    X5  Train sample  Results lda lda mahalanobis 1  \\\n",
       "1   9.26  0.78  1.37  0.23  1.45           1.0            1           5.75425   \n",
       "2   9.38  0.75  1.49  0.39  1.30           NaN            1           8.21605   \n",
       "3  12.11  0.68  1.44  0.43  1.37           1.0            1            7.6038   \n",
       "4  10.81  0.70  1.42  0.18  1.65           1.0            1           1.85128   \n",
       "5   9.35  0.62  1.35  0.15  1.91           1.0            1           6.30369   \n",
       "\n",
       "  lda mahalanobis 2  lda post prob 1  lda post prob 2  Results stepwise lda  \\\n",
       "1           17.4819         0.997482     2.518378e-03                     1   \n",
       "2            16.922         0.988691     1.130931e-02                     1   \n",
       "3           49.8337         1.000000     6.008216e-10                     1   \n",
       "4           39.1637         1.000000     7.023529e-09                     1   \n",
       "5            41.236         1.000000     2.308814e-08                     1   \n",
       "\n",
       "  stepwise lda mahalanobis 1 stepwise lda mahalanobis 2  \\\n",
       "1                    1.83714                    12.5948   \n",
       "2                    2.65839                    12.6327   \n",
       "3                    5.85345                    40.8587   \n",
       "4                    1.00562                     27.947   \n",
       "5                   0.343533                    17.5584   \n",
       "\n",
       "   stepwise lda post prob 1  stepwise lda post prob 2  \n",
       "1                  0.995916              4.083887e-03  \n",
       "2                  0.993970              6.030267e-03  \n",
       "3                  1.000000              2.226153e-08  \n",
       "4                  0.999999              1.254865e-06  \n",
       "5                  0.999838              1.624080e-04  "
      ]
     },
     "execution_count": 42,
     "metadata": {},
     "output_type": "execute_result"
    }
   ],
   "source": [
    "data_to_excel = pd.concat([data_to_excel, stepwise_lda_post_prob.add_prefix(\"stepwise lda post prob \")], axis=1)\n",
    "data_to_excel.head()"
   ]
  },
  {
   "cell_type": "markdown",
   "metadata": {},
   "source": [
    "Записываем результаты проведенной работы в файл."
   ]
  },
  {
   "cell_type": "code",
   "execution_count": 43,
   "metadata": {},
   "outputs": [],
   "source": [
    "data_to_excel.to_excel(\"your path\")"
   ]
  }
 ],
 "metadata": {
  "kernelspec": {
   "display_name": "Python 3",
   "language": "python",
   "name": "python3"
  },
  "language_info": {
   "codemirror_mode": {
    "name": "ipython",
    "version": 3
   },
   "file_extension": ".py",
   "mimetype": "text/x-python",
   "name": "python",
   "nbconvert_exporter": "python",
   "pygments_lexer": "ipython3",
   "version": "3.7.0"
  }
 },
 "nbformat": 4,
 "nbformat_minor": 2
}
