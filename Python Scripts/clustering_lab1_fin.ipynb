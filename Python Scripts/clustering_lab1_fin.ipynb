{
 "cells": [
  {
   "cell_type": "markdown",
   "metadata": {},
   "source": [
    "# Лабораторная работа №1. Кластерный анализ"
   ]
  },
  {
   "cell_type": "markdown",
   "metadata": {},
   "source": [
    "### 0 Подготовка библиотек\n",
    "\n",
    "Перед началом работы необходимо обновить библиотеку matplotlib до версии 3.0.0. \n",
    "<br>\n",
    "<br>\n",
    "**Обновление библиотеки через командную строку:**\n",
    "1. Завершите выполнение текущей команды (если оно было запущено)\n",
    "2. Введите в командной строке: pip install --upgrade matplotlib\n",
    "3. Подождите, пока библиотека обновится\n",
    "4. После окончания загрузки обновленной версии библиотеки введите: ipython notebook\n",
    "<br>\n",
    "\n",
    "**Обновление библиотеки через Anaconda:**\n",
    "AnacondaNavigator -> Environments -> ищем matplotlib -> mark for update -> apply"
   ]
  },
  {
   "cell_type": "markdown",
   "metadata": {},
   "source": [
    "### 1. Обработка данных"
   ]
  },
  {
   "cell_type": "markdown",
   "metadata": {},
   "source": [
    "Импортируем необходимые библиотеки"
   ]
  },
  {
   "cell_type": "code",
   "execution_count": 25,
   "metadata": {},
   "outputs": [],
   "source": [
    "import pandas as pd\n",
    "import numpy as np\n",
    "import matplotlib.pyplot as plt\n",
    "\n",
    "from sklearn.preprocessing import scale\n",
    "from sklearn.cluster import AgglomerativeClustering, KMeans\n",
    "from scipy.cluster import hierarchy\n",
    "\n",
    "%matplotlib inline \n",
    "# авто вывод графиков (отпадает необходимость писать plt.show())"
   ]
  },
  {
   "cell_type": "markdown",
   "metadata": {},
   "source": [
    "Указываем названия признаков"
   ]
  },
  {
   "cell_type": "code",
   "execution_count": 26,
   "metadata": {},
   "outputs": [],
   "source": [
    "features = ['X1', 'X8', 'X11', 'X12', 'X18'] #список переменных\n",
    "f_len = len(features) #в переменную f_len записываем кол-во признаков"
   ]
  },
  {
   "cell_type": "markdown",
   "metadata": {},
   "source": [
    "Считываем данные"
   ]
  },
  {
   "cell_type": "code",
   "execution_count": 27,
   "metadata": {
    "scrolled": true
   },
   "outputs": [
    {
     "data": {
      "text/html": [
       "<div>\n",
       "<style scoped>\n",
       "    .dataframe tbody tr th:only-of-type {\n",
       "        vertical-align: middle;\n",
       "    }\n",
       "\n",
       "    .dataframe tbody tr th {\n",
       "        vertical-align: top;\n",
       "    }\n",
       "\n",
       "    .dataframe thead th {\n",
       "        text-align: right;\n",
       "    }\n",
       "</style>\n",
       "<table border=\"1\" class=\"dataframe\">\n",
       "  <thead>\n",
       "    <tr style=\"text-align: right;\">\n",
       "      <th></th>\n",
       "      <th>X1</th>\n",
       "      <th>X8</th>\n",
       "      <th>X11</th>\n",
       "      <th>X12</th>\n",
       "      <th>X18</th>\n",
       "    </tr>\n",
       "  </thead>\n",
       "  <tbody>\n",
       "    <tr>\n",
       "      <th>Абдулинский</th>\n",
       "      <td>53.69</td>\n",
       "      <td>93.1</td>\n",
       "      <td>42.3</td>\n",
       "      <td>33.9</td>\n",
       "      <td>0.2</td>\n",
       "    </tr>\n",
       "    <tr>\n",
       "      <th>Адамовский</th>\n",
       "      <td>62.31</td>\n",
       "      <td>23.4</td>\n",
       "      <td>63.6</td>\n",
       "      <td>16.7</td>\n",
       "      <td>3.6</td>\n",
       "    </tr>\n",
       "    <tr>\n",
       "      <th>Акбулакский</th>\n",
       "      <td>62.71</td>\n",
       "      <td>23.6</td>\n",
       "      <td>43.7</td>\n",
       "      <td>16.8</td>\n",
       "      <td>3.9</td>\n",
       "    </tr>\n",
       "    <tr>\n",
       "      <th>Александровский</th>\n",
       "      <td>61.69</td>\n",
       "      <td>46.7</td>\n",
       "      <td>41.5</td>\n",
       "      <td>10.4</td>\n",
       "      <td>4.2</td>\n",
       "    </tr>\n",
       "    <tr>\n",
       "      <th>Асекеевский</th>\n",
       "      <td>59.44</td>\n",
       "      <td>44.0</td>\n",
       "      <td>79.3</td>\n",
       "      <td>26.4</td>\n",
       "      <td>4.1</td>\n",
       "    </tr>\n",
       "  </tbody>\n",
       "</table>\n",
       "</div>"
      ],
      "text/plain": [
       "                    X1    X8   X11   X12  X18\n",
       "Абдулинский      53.69  93.1  42.3  33.9  0.2\n",
       "Адамовский       62.31  23.4  63.6  16.7  3.6\n",
       "Акбулакский      62.71  23.6  43.7  16.8  3.9\n",
       "Александровский  61.69  46.7  41.5  10.4  4.2\n",
       "Асекеевский      59.44  44.0  79.3  26.4  4.1"
      ]
     },
     "execution_count": 27,
     "metadata": {},
     "output_type": "execute_result"
    }
   ],
   "source": [
    "#считываем данные из data_lab1.xlsx (файл, который содержит ВСЕ строки и ВСЕ 46 признаков)\n",
    "#метод loc выводит все строки (:) и столбцы с названиями, указанными в переменной features \n",
    "\n",
    "data = pd.read_excel('data_lab1.xlsx').loc[:, features] \n",
    "data.head() # метод head() выводит первые 5 записей "
   ]
  },
  {
   "cell_type": "code",
   "execution_count": 28,
   "metadata": {},
   "outputs": [
    {
     "data": {
      "text/plain": [
       "(47, 5)"
      ]
     },
     "execution_count": 28,
     "metadata": {},
     "output_type": "execute_result"
    }
   ],
   "source": [
    "data.shape #метод shape возвращает размерность матрицы объект-свойство"
   ]
  },
  {
   "cell_type": "markdown",
   "metadata": {},
   "source": [
    "Стандартизируем данные"
   ]
  },
  {
   "cell_type": "code",
   "execution_count": 29,
   "metadata": {},
   "outputs": [
    {
     "data": {
      "text/html": [
       "<div>\n",
       "<style scoped>\n",
       "    .dataframe tbody tr th:only-of-type {\n",
       "        vertical-align: middle;\n",
       "    }\n",
       "\n",
       "    .dataframe tbody tr th {\n",
       "        vertical-align: top;\n",
       "    }\n",
       "\n",
       "    .dataframe thead th {\n",
       "        text-align: right;\n",
       "    }\n",
       "</style>\n",
       "<table border=\"1\" class=\"dataframe\">\n",
       "  <thead>\n",
       "    <tr style=\"text-align: right;\">\n",
       "      <th></th>\n",
       "      <th>X1</th>\n",
       "      <th>X8</th>\n",
       "      <th>X11</th>\n",
       "      <th>X12</th>\n",
       "      <th>X18</th>\n",
       "    </tr>\n",
       "  </thead>\n",
       "  <tbody>\n",
       "    <tr>\n",
       "      <th>Абдулинский</th>\n",
       "      <td>-2.579260</td>\n",
       "      <td>2.914943</td>\n",
       "      <td>-0.481479</td>\n",
       "      <td>1.817417</td>\n",
       "      <td>-2.376303</td>\n",
       "    </tr>\n",
       "    <tr>\n",
       "      <th>Адамовский</th>\n",
       "      <td>0.247940</td>\n",
       "      <td>-1.084664</td>\n",
       "      <td>0.568420</td>\n",
       "      <td>-0.153341</td>\n",
       "      <td>-0.542729</td>\n",
       "    </tr>\n",
       "    <tr>\n",
       "      <th>Акбулакский</th>\n",
       "      <td>0.379133</td>\n",
       "      <td>-1.073188</td>\n",
       "      <td>-0.412472</td>\n",
       "      <td>-0.141883</td>\n",
       "      <td>-0.380943</td>\n",
       "    </tr>\n",
       "    <tr>\n",
       "      <th>Александровский</th>\n",
       "      <td>0.044592</td>\n",
       "      <td>0.252364</td>\n",
       "      <td>-0.520912</td>\n",
       "      <td>-0.875188</td>\n",
       "      <td>-0.219157</td>\n",
       "    </tr>\n",
       "    <tr>\n",
       "      <th>Асекеевский</th>\n",
       "      <td>-0.693367</td>\n",
       "      <td>0.097429</td>\n",
       "      <td>1.342290</td>\n",
       "      <td>0.958075</td>\n",
       "      <td>-0.273085</td>\n",
       "    </tr>\n",
       "  </tbody>\n",
       "</table>\n",
       "</div>"
      ],
      "text/plain": [
       "                       X1        X8       X11       X12       X18\n",
       "Абдулинский     -2.579260  2.914943 -0.481479  1.817417 -2.376303\n",
       "Адамовский       0.247940 -1.084664  0.568420 -0.153341 -0.542729\n",
       "Акбулакский      0.379133 -1.073188 -0.412472 -0.141883 -0.380943\n",
       "Александровский  0.044592  0.252364 -0.520912 -0.875188 -0.219157\n",
       "Асекеевский     -0.693367  0.097429  1.342290  0.958075 -0.273085"
      ]
     },
     "execution_count": 29,
     "metadata": {},
     "output_type": "execute_result"
    }
   ],
   "source": [
    "index = data.index #записываем в переменную index названия строк исходной матрицы\n",
    "columns = data.columns #записываем в переменную columns названия столбцов исходной матрицы\n",
    "\n",
    "#стандартизируем данные: вычитаем среднее и делим на стандартное отклонение\n",
    "scaled = (data - data.mean(axis=0))/data.std() \n",
    "\n",
    "#создаем датафрейм из scaled со столбцами columns и индексами index\n",
    "scaled_data = pd.DataFrame(scaled, columns=columns, index=index) \n",
    "scaled_data.head()"
   ]
  },
  {
   "cell_type": "markdown",
   "metadata": {},
   "source": [
    "### 2. Построение дендрограмм"
   ]
  },
  {
   "cell_type": "code",
   "execution_count": 30,
   "metadata": {
    "scrolled": false
   },
   "outputs": [
    {
     "data": {
      "image/png": "[encoded data removed]",
      "text/plain": [
       "<Figure size 720x432 with 1 Axes>"
      ]
     },
     "metadata": {
      "needs_background": "light"
     },
     "output_type": "display_data"
    },
    {
     "data": {
      "image/png": "[encoded data removed]",
      "text/plain": [
       "<Figure size 720x432 with 1 Axes>"
      ]
     },
     "metadata": {
      "needs_background": "light"
     },
     "output_type": "display_data"
    }
   ],
   "source": [
    "methods = ['complete', 'ward'] \n",
    "q = [6.2,7]\n",
    "i = 0\n",
    "\n",
    "#для каждого из методов в methods проводим кластеризацию и строим дендрограмму\n",
    "for method in methods:\n",
    "    #проводим кластеризацию\n",
    "    Z = hierarchy.linkage(scaled_data, method=method)\n",
    "\n",
    "    #строим дендрограмму \n",
    "    plt.figure(figsize=(10,6))\n",
    "    hierarchy.dendrogram(Z, color_threshold=q[i], labels=scaled_data.index, leaf_font_size=10)\n",
    "    plt.title('{} method'.format(method))\n",
    "    i = i+1\n",
    "    # Z - результат кластеризации, labels - названия строк (ось Х), leaf_font_size - размер шрифта, \n",
    "    #count_sort=True - упорядочивает кластеры от минимального числа элементов в них \n",
    "    plt.title('{} method'.format(method))"
   ]
  },
  {
   "cell_type": "code",
   "execution_count": 31,
   "metadata": {},
   "outputs": [],
   "source": [
    "#проводим кластеризацию методом K-means, указав в n_clusters выбранное число кластеров\n",
    "# (n_clusters - число кластеров, random_state - псевдослучайное число для выбора псевдослучайного центра)\n",
    "kmeans = KMeans(n_clusters=3, random_state=17) \n",
    "kmeans.fit(scaled_data); "
   ]
  },
  {
   "cell_type": "code",
   "execution_count": 32,
   "metadata": {},
   "outputs": [],
   "source": [
    "#добавляем в датафрейм со стандартизированными данными столбец с номерами кластеров, полученными в методе k-means\n",
    "scaled_data['kmeans'] = kmeans.labels_"
   ]
  },
  {
   "cell_type": "code",
   "execution_count": 33,
   "metadata": {},
   "outputs": [
    {
     "name": "stdout",
     "output_type": "stream",
     "text": [
      "Состав кластера 0: ['Курманаевский' 'Тоцкий' 'г.Бугуруслан' 'г.Бузулук' 'г.Гай' 'г.Кувандык'\n",
      " 'г.Оренбург' 'г.Соль-Илецк' 'г.Сорочинск' 'г.Ясный']\n",
      "Состав кластера 1: ['Абдулинский' 'Асекеевский' 'Бугурусланский' 'Бузулукский' 'Кваркенский'\n",
      " 'Новоорский' 'Новосергиевский' 'Переволоцкий' 'Саракташский'\n",
      " 'г.Новотроицк' 'г.Орск']\n",
      "Состав кластера 2: ['Адамовский' 'Акбулакский' 'Александровский' 'Беляевский' 'Гайский'\n",
      " 'Грачевский' 'Домбаровский' 'Илекский' 'Красногвардейский' 'Кувандыкский'\n",
      " 'Матвеевский' 'Октябрьский' 'Оренбургский' 'Первомайский' 'Пономаревский'\n",
      " 'Сакмарский' 'Светлинский' 'Северный' 'Соль-Илецкий' 'Сорочинский'\n",
      " 'Ташлинский' 'Тюльганский' 'Шарлыкский' 'Ясненский' 'г.Абдулино'\n",
      " 'г.Медногорск']\n"
     ]
    }
   ],
   "source": [
    "#смотрим, какое разбиение получилось\n",
    "\n",
    "cluster_dict={} # задаем пустой словарь\n",
    "\n",
    "for i in range(3): # Проходимся в цикле от 0 до 2 \n",
    "    #записываем в словарь состав кластеров\n",
    "    clust_list = scaled_data[scaled_data['kmeans']==i][features].index.values \n",
    "    print('Состав кластера {}: {}' \n",
    "          .format(i, clust_list))      "
   ]
  },
  {
   "cell_type": "markdown",
   "metadata": {},
   "source": [
    "\n",
    "\n",
    "Если видим, что такое разбиение нас не устраивает (выброс образует целый кластер, например), то необходимо удалить выбросы и провести кластеризацию заново."
   ]
  },
  {
   "cell_type": "code",
   "execution_count": null,
   "metadata": {},
   "outputs": [],
   "source": []
  },
  {
   "cell_type": "code",
   "execution_count": 34,
   "metadata": {},
   "outputs": [],
   "source": [
    "#если такое разбиение нас устраивает, продолжаем кластеризацию"
   ]
  },
  {
   "cell_type": "markdown",
   "metadata": {},
   "source": [
    "### 3. Проведение кластеризации тремя методами"
   ]
  },
  {
   "cell_type": "markdown",
   "metadata": {},
   "source": [
    "Т.к. метод hierarchy.linkage не возвращает метки(номера) кластеров, то необходимо провести кластеризацию с помощию AgglomerativeClustering\n",
    "<br>\n",
    "<br>\n",
    "**n_clusters** - кол-во кластеров, которое мы выбираем самомтоятельно\n",
    "<br>\n",
    "**linkage** - выбранные метод"
   ]
  },
  {
   "cell_type": "code",
   "execution_count": 35,
   "metadata": {},
   "outputs": [],
   "source": [
    "CLUSTER_METHODS = [\"complete\", \"ward\", \"kmeans\"]\n",
    "\n",
    "#для каждого из методов выбрать кол-во кластеров \n",
    "N_CLUSTERS = {\n",
    "    \"complete\" : 3,\n",
    "    \"ward\"     : 3,\n",
    "    \"kmeans\"  : 3,\n",
    "}"
   ]
  },
  {
   "cell_type": "code",
   "execution_count": 36,
   "metadata": {},
   "outputs": [],
   "source": [
    "#проводим кластеризацию методом полных связей\n",
    "\n",
    "# создаем объект класса AgglomerativeClustering, указываем для этого объекта значения параметров\n",
    "# т.е. n_clusters - кол-во кластеров, linkage - метод кластеризации\n",
    "# называем созданный объект complete\n",
    "\n",
    "complete = AgglomerativeClustering(n_clusters=N_CLUSTERS['complete'], linkage='complete')\n",
    "\n",
    "#методы, которые можно указывать в linkage: “ward”, “complete”, “average”\n",
    "\n",
    "# с помощью метода .fit \"настраиваем\" объект под наши данные, \n",
    "# т.е. проводим кластеризацию наших данных с параметрами, которые мы указали при создании complete \n",
    "complete.fit(scaled_data);"
   ]
  },
  {
   "cell_type": "code",
   "execution_count": 37,
   "metadata": {},
   "outputs": [],
   "source": [
    "#проводим кластеризацию методом Уорда\n",
    "ward = AgglomerativeClustering(n_clusters=N_CLUSTERS['ward'], linkage='ward')\n",
    "ward.fit(scaled_data);"
   ]
  },
  {
   "cell_type": "markdown",
   "metadata": {},
   "source": [
    "Для проведения кластеризации методом K-means необходимо воспользоваться KMeans из sklearn.cluster\n",
    "<br>\n",
    "<br>\n",
    "**random_state** - параметр, принимающий любое числовое значение. Необходим для воспроизведения результатов"
   ]
  },
  {
   "cell_type": "code",
   "execution_count": 38,
   "metadata": {
    "scrolled": true
   },
   "outputs": [],
   "source": [
    "#проводим кластеризацию методом K-means\n",
    "kmeans = KMeans(n_clusters=N_CLUSTERS['kmeans'], random_state=17)\n",
    "kmeans.fit(scaled_data);"
   ]
  },
  {
   "cell_type": "markdown",
   "metadata": {},
   "source": [
    "Для каждого из созданных шагом ранее объектов с помощью атрибута **.labels_** можно получить метки кластеров для каждой из проведенных кластеризаций.\n",
    "<br>\n",
    "**complete.labels_** - для метода полных связей\n",
    "<br>\n",
    "**ward.labels_** - для метода Уорда\n",
    "<br>\n",
    "**kmeans.labels_** - для K-Means"
   ]
  },
  {
   "cell_type": "markdown",
   "metadata": {},
   "source": [
    "### 4. Работа с метками кластеров. Построение графиков средних значений для каждого кластера по каждому признаку"
   ]
  },
  {
   "cell_type": "code",
   "execution_count": 39,
   "metadata": {},
   "outputs": [
    {
     "name": "stdout",
     "output_type": "stream",
     "text": [
      "                         X1        X8       X11       X12       X18  kmeans  \\\n",
      "Абдулинский       -2.579260  2.914943 -0.481479  1.817417 -2.376303       2   \n",
      "Адамовский         0.247940 -1.084664  0.568420 -0.153341 -0.542729       0   \n",
      "Акбулакский        0.379133 -1.073188 -0.412472 -0.141883 -0.380943       0   \n",
      "Александровский    0.044592  0.252364 -0.520912 -0.875188 -0.219157       0   \n",
      "Асекеевский       -0.693367  0.097429  1.342290  0.958075 -0.273085       2   \n",
      "Беляевский         0.067550 -0.946945 -0.787084 -0.290836 -0.219157       0   \n",
      "Бугурусланский    -0.371945 -0.860870 -0.328677  2.092407  0.320130       2   \n",
      "Бузулукский       -0.798321  0.487635 -0.653998  1.359101  0.535844       2   \n",
      "Гайский           -0.696647 -1.905244  1.928854  1.072654  0.158344       0   \n",
      "Грачевский        -0.499858  0.281055 -0.570203 -1.299130  0.320130       0   \n",
      "Домбаровский       0.264339 -0.275561  1.391581  0.385180  0.266201       0   \n",
      "Илекский          -0.545775  0.981130  0.361398 -0.462704 -0.165228       0   \n",
      "Кваркенский       -0.375225  0.837672  0.238170  0.110191 -0.596657       2   \n",
      "Красногвардейский -0.388344 -1.187954 -0.008285 -0.577283 -0.219157       0   \n",
      "Кувандыкский      -0.913114  1.394289  0.716294 -1.047057 -2.322374       0   \n",
      "Курманаевский     -0.303069  0.177766 -1.822197 -1.493915  0.913345       1   \n",
      "Матвеевский       -0.854078  0.344177  1.519738 -0.485620 -0.758443       0   \n",
      "Новоорский        -0.145638  1.187710  2.554851  1.175775  0.535844       2   \n",
      "Новосергиевский   -0.683527  1.927953  0.105084  1.977828 -0.111300       2   \n",
      "Октябрьский       -0.165317 -0.625599 -0.358252 -0.531451 -0.380943       0   \n",
      "Оренбургский       0.861265 -0.510832 -0.323748 -0.989767 -0.273085       0   \n",
      "Первомайский       0.202023 -0.419019  0.538846 -0.863730 -0.219157       0   \n",
      "Переволоцкий      -0.293229  0.671261 -1.068043  1.794501 -0.920229       2   \n",
      "Пономаревский     -1.018069  0.332700  0.100155 -0.691862 -0.219157       0   \n",
      "Сакмарский         0.513605 -0.350159  0.351540 -0.176257 -0.219157       0   \n",
      "Саракташский      -0.549055  0.212196  0.607853  0.832038  0.104415       2   \n",
      "Светлинский        0.051151  0.636831  0.647286 -0.703320  0.427987       0   \n",
      "Северный          -0.617931  0.258102 -0.545558 -0.050220 -0.542729       0   \n",
      "Соль-Илецкий      -0.306349 -1.170739 -0.052647  0.442470 -2.322374       0   \n",
      "Сорочинский       -1.418206 -0.178010  1.302857 -0.565825  0.158344       0   \n",
      "Ташлинский         0.057711 -0.923991  0.016360 -0.348125 -0.003442       0   \n",
      "Тоцкий             3.878695 -0.998589 -1.708827 -0.359583  0.158344       1   \n",
      "Тюльганский        0.313536 -0.958421  0.164234 -0.600199  0.751559       0   \n",
      "Шарлыкский        -1.083665 -1.027281 -0.885666 -2.066809 -0.219157       0   \n",
      "Ясненский         -0.532656 -1.560945  1.909138  1.404933 -2.322374       0   \n",
      "г.Абдулино         0.152825  0.602401  1.219063 -1.516830  1.021202       0   \n",
      "г.Бугуруслан       0.700555  0.097429 -1.718685 -0.313751  0.374058       1   \n",
      "г.Бузулук          1.477871 -0.556739 -1.457443  0.121649  0.427987       1   \n",
      "г.Гай              0.500486  0.022831 -0.708218 -0.623114  0.751559       1   \n",
      "г.Кувандык         0.280738 -0.396066  0.228312 -0.038762  2.315489       1   \n",
      "г.Медногорск      -0.417862  1.233616  0.080439 -0.909562 -0.003442       0   \n",
      "г.Новотроицк       0.936701  0.619616 -0.387826  1.084112  0.266201       2   \n",
      "г.Оренбург         1.330279  2.249299 -1.393364 -0.405414  0.212272       1   \n",
      "г.Орск             0.487367  0.074476 -0.377968  1.393475  0.374058       2   \n",
      "г.Соль-Илецк       0.585761 -0.688720 -1.072972  0.969533  1.722274       1   \n",
      "г.Сорочинск        0.441449 -0.855131 -0.713147 -0.107509  1.129059       1   \n",
      "г.Ясный            2.474934  0.659784  0.464909 -0.302293  2.585133       1   \n",
      "\n",
      "                   complete  ward  \n",
      "Абдулинский               2     2  \n",
      "Адамовский                0     0  \n",
      "Акбулакский               0     0  \n",
      "Александровский           0     0  \n",
      "Асекеевский               1     2  \n",
      "Беляевский                0     0  \n",
      "Бугурусланский            1     2  \n",
      "Бузулукский               1     2  \n",
      "Гайский                   1     0  \n",
      "Грачевский                0     0  \n",
      "Домбаровский              1     2  \n",
      "Илекский                  0     0  \n",
      "Кваркенский               0     2  \n",
      "Красногвардейский         0     0  \n",
      "Кувандыкский              2     0  \n",
      "Курманаевский             0     1  \n",
      "Матвеевский               1     0  \n",
      "Новоорский                1     2  \n",
      "Новосергиевский           1     2  \n",
      "Октябрьский               0     0  \n",
      "Оренбургский              0     0  \n",
      "Первомайский              0     0  \n",
      "Переволоцкий              1     2  \n",
      "Пономаревский             0     0  \n",
      "Сакмарский                0     0  \n",
      "Саракташский              1     2  \n",
      "Светлинский               0     0  \n",
      "Северный                  0     0  \n",
      "Соль-Илецкий              1     0  \n",
      "Сорочинский               1     0  \n",
      "Ташлинский                0     0  \n",
      "Тоцкий                    0     1  \n",
      "Тюльганский               0     0  \n",
      "Шарлыкский                0     0  \n",
      "Ясненский                 1     0  \n",
      "г.Абдулино                0     0  \n",
      "г.Бугуруслан              0     1  \n",
      "г.Бузулук                 0     1  \n",
      "г.Гай                     0     1  \n",
      "г.Кувандык                0     1  \n",
      "г.Медногорск              0     0  \n",
      "г.Новотроицк              1     2  \n",
      "г.Оренбург                0     1  \n",
      "г.Орск                    1     2  \n",
      "г.Соль-Илецк              0     1  \n",
      "г.Сорочинск               0     1  \n",
      "г.Ясный                   0     1  \n"
     ]
    }
   ],
   "source": [
    "#добавляем в исходный датафрейм столбцы с метками кластеров\n",
    "scaled_data['complete'] = complete.labels_\n",
    "scaled_data['ward'] = ward.labels_\n",
    "scaled_data['kmeans'] = kmeans.labels_\n",
    "\n",
    "print(scaled_data)"
   ]
  },
  {
   "cell_type": "code",
   "execution_count": 40,
   "metadata": {},
   "outputs": [],
   "source": [
    "#ниже объявлена функция, которая возвращает список из средних по каждому столбцу.\n",
    "#т.е. она формирует массив из средних для метода method c кол-вом кластеров n_clust\n",
    "\n",
    "def mean_df(method, n_clust):\n",
    "    mean_data = np.array([]).reshape(0, f_len+1)\n",
    "    for n in range(n_clust): #номер кластера\n",
    "        tmp = [] #список для средних по каждому признаку\n",
    "        for j in range(f_len):\n",
    "            tmp.append(scaled_data[scaled_data[method] == n].iloc[:, j].mean())\n",
    "        tmp.append(scaled_data[scaled_data[method] == n].shape[0])\n",
    "        mean_data = np.vstack((mean_data, np.array(tmp).reshape(1, f_len+1)))\n",
    "    return mean_data"
   ]
  },
  {
   "cell_type": "markdown",
   "metadata": {},
   "source": [
    "Формируем датафрейм из средних значений для каждого кластера по каждому признаку с использованием функции mean_df, описанный выше"
   ]
  },
  {
   "cell_type": "code",
   "execution_count": 41,
   "metadata": {},
   "outputs": [],
   "source": [
    "columns = features + ['count']\n",
    "\n",
    "# Создаем словарь из списком по имени means, в котором имена ключей будут Имя_Метода,\n",
    "# а каждому ключу будет соответствовать датафрейм из средних значений по каждому кластеру\n",
    "\n",
    "means = {}\n",
    "dfs = []\n",
    "\n",
    "path = \"means.xlsx\" # создаем переменную path, которой присваиваем название файла для записи средних\n",
    "writer = pd.ExcelWriter(path, engine = 'xlsxwriter') # вызываем метод ExcelWriter библиотеки pandas \n",
    "\n",
    "\n",
    "for method, n in N_CLUSTERS.items():\n",
    "    #Заполняем словарь\n",
    "    means[method] = pd.DataFrame(\n",
    "        mean_df(method, n), #ищем среднее значение признаков с помощью функции mean_df\n",
    "        columns=columns, \n",
    "        index=[\"{}_{}\".format(method, i) for i in range(n)]\n",
    "    )\n",
    "\n",
    "    #запись средних значений в в файл means на разные листв\n",
    "    #файл создается в той же директории, где лежит ноутбук с кодом\n",
    "    means[method].to_excel(writer, sheet_name = '{} means'.format(method))"
   ]
  },
  {
   "cell_type": "code",
   "execution_count": 42,
   "metadata": {
    "scrolled": true
   },
   "outputs": [
    {
     "name": "stdout",
     "output_type": "stream",
     "text": [
      "                  X1        X8       X11       X12       X18  count\n",
      "complete_0  0.304900 -0.132677 -0.334263 -0.523049  0.289570   30.0\n",
      "complete_1 -0.376974 -0.021928  0.652872  0.994740 -0.265895   15.0\n",
      "complete_2 -1.746187  2.154616  0.117407  0.385180 -2.349338    2.0\n",
      "              X1        X8       X11       X12       X18  count\n",
      "ward_0 -0.262662 -0.304253  0.278392 -0.497078 -0.348586   25.0\n",
      "ward_1  1.136770 -0.028814 -0.990163 -0.255316  1.058952   10.0\n",
      "ward_2 -0.400097  0.657872  0.245153  1.248342 -0.156240   12.0\n",
      "                X1        X8       X11       X12       X18  count\n",
      "kmeans_0 -0.242392 -0.303149  0.321207 -0.463145 -0.324940   26.0\n",
      "kmeans_1  1.136770 -0.028814 -0.990163 -0.255316  1.058952   10.0\n",
      "kmeans_2 -0.460500  0.742729  0.140932  1.326811 -0.194644   11.0\n"
     ]
    }
   ],
   "source": [
    "#Получился словарь means с ключами 'complete', 'ward', 'kmeans'\n",
    "#Каждому ключу соответствует датафрейм из 6 столбцов и стольких строк, \n",
    "#сколько кластеров в данном конкретном методе\n",
    "\n",
    "for method in CLUSTER_METHODS:\n",
    "    print(means[method])"
   ]
  },
  {
   "cell_type": "code",
   "execution_count": 43,
   "metadata": {
    "scrolled": false
   },
   "outputs": [
    {
     "data": {
      "image/png": "[encoded data removed]",
      "text/plain": [
       "<Figure size 432x288 with 1 Axes>"
      ]
     },
     "metadata": {
      "needs_background": "light"
     },
     "output_type": "display_data"
    },
    {
     "data": {
      "image/png": "[encoded data removed]",
      "text/plain": [
       "<Figure size 432x288 with 1 Axes>"
      ]
     },
     "metadata": {
      "needs_background": "light"
     },
     "output_type": "display_data"
    },
    {
     "data": {
      "image/png": "[encoded data removed]",
      "text/plain": [
       "<Figure size 432x288 with 1 Axes>"
      ]
     },
     "metadata": {
      "needs_background": "light"
     },
     "output_type": "display_data"
    }
   ],
   "source": [
    "#строим графики средних значений признаков по каждому кластеру\n",
    "\n",
    "#цикл выполняется для каждого элемента из списка CLUSTER_METHODS т.е. для 'complete', 'ward', 'kmeans'\n",
    "for method in CLUSTER_METHODS:\n",
    "    # в cur_mean записываются средние для текущего метода (по которому проходим на данной итерации цикла)\n",
    "    cur_mean = means[method] \n",
    "    plt.figure(figsize=(6,4)) #формируем область для построения графиков под каждый из методов\n",
    "    for n in range(cur_mean.shape[0]): #для каждого кластера из данного метода\n",
    "        \n",
    "        #plt.plot - для каждого кластера из данного метода строится обычный линейный график, где \n",
    "        #x=features (т.е. названия признаков) \n",
    "        #y=cur_mean.iloc[n, :-1] - т.е. n-ая строка средних \n",
    "        #(n - номер кластера, для которого на данной итерации цикла строим график) \n",
    "        #берем строку без последнего столбца (там count лежит, он нам не нужен), т.е. пишем \":-1\" в методе iloc\n",
    "        \n",
    "        plt.plot(features, cur_mean.iloc[n, :-1].values, marker='o', label='cluster {}'.format(n))\n",
    "    plt.legend(loc = 'upper left') #делаем легенду графиа\n",
    "    plt.title('{} method'.format(cur_mean.index[0][:-2])) #название графика"
   ]
  },
  {
   "cell_type": "markdown",
   "metadata": {},
   "source": [
    "Создадим словарь cluster_dict из списков, в котором ключами будут **Название Метода__Номер Кластера**\n",
    "<br>\n",
    "<br>\n",
    "Например, **complete_0** - элемент словаря, по которому можно получить строки, соответствующие кластеру 0 для метода полных связей"
   ]
  },
  {
   "cell_type": "code",
   "execution_count": 44,
   "metadata": {},
   "outputs": [
    {
     "name": "stdout",
     "output_type": "stream",
     "text": [
      "complete method\n",
      "\n",
      "Состав кластера 0: ['Адамовский' 'Акбулакский' 'Александровский' 'Беляевский' 'Грачевский'\n",
      " 'Илекский' 'Кваркенский' 'Красногвардейский' 'Курманаевский'\n",
      " 'Октябрьский' 'Оренбургский' 'Первомайский' 'Пономаревский' 'Сакмарский'\n",
      " 'Светлинский' 'Северный' 'Ташлинский' 'Тоцкий' 'Тюльганский' 'Шарлыкский'\n",
      " 'г.Абдулино' 'г.Бугуруслан' 'г.Бузулук' 'г.Гай' 'г.Кувандык'\n",
      " 'г.Медногорск' 'г.Оренбург' 'г.Соль-Илецк' 'г.Сорочинск' 'г.Ясный']\n",
      "Состав кластера 1: ['Асекеевский' 'Бугурусланский' 'Бузулукский' 'Гайский' 'Домбаровский'\n",
      " 'Матвеевский' 'Новоорский' 'Новосергиевский' 'Переволоцкий'\n",
      " 'Саракташский' 'Соль-Илецкий' 'Сорочинский' 'Ясненский' 'г.Новотроицк'\n",
      " 'г.Орск']\n",
      "Состав кластера 2: ['Абдулинский' 'Кувандыкский']\n",
      "\n",
      "\n",
      "ward method\n",
      "\n",
      "Состав кластера 0: ['Адамовский' 'Акбулакский' 'Александровский' 'Беляевский' 'Гайский'\n",
      " 'Грачевский' 'Илекский' 'Красногвардейский' 'Кувандыкский' 'Матвеевский'\n",
      " 'Октябрьский' 'Оренбургский' 'Первомайский' 'Пономаревский' 'Сакмарский'\n",
      " 'Светлинский' 'Северный' 'Соль-Илецкий' 'Сорочинский' 'Ташлинский'\n",
      " 'Тюльганский' 'Шарлыкский' 'Ясненский' 'г.Абдулино' 'г.Медногорск']\n",
      "Состав кластера 1: ['Курманаевский' 'Тоцкий' 'г.Бугуруслан' 'г.Бузулук' 'г.Гай' 'г.Кувандык'\n",
      " 'г.Оренбург' 'г.Соль-Илецк' 'г.Сорочинск' 'г.Ясный']\n",
      "Состав кластера 2: ['Абдулинский' 'Асекеевский' 'Бугурусланский' 'Бузулукский' 'Домбаровский'\n",
      " 'Кваркенский' 'Новоорский' 'Новосергиевский' 'Переволоцкий'\n",
      " 'Саракташский' 'г.Новотроицк' 'г.Орск']\n",
      "\n",
      "\n",
      "kmeans method\n",
      "\n",
      "Состав кластера 0: ['Адамовский' 'Акбулакский' 'Александровский' 'Беляевский' 'Гайский'\n",
      " 'Грачевский' 'Домбаровский' 'Илекский' 'Красногвардейский' 'Кувандыкский'\n",
      " 'Матвеевский' 'Октябрьский' 'Оренбургский' 'Первомайский' 'Пономаревский'\n",
      " 'Сакмарский' 'Светлинский' 'Северный' 'Соль-Илецкий' 'Сорочинский'\n",
      " 'Ташлинский' 'Тюльганский' 'Шарлыкский' 'Ясненский' 'г.Абдулино'\n",
      " 'г.Медногорск']\n",
      "Состав кластера 1: ['Курманаевский' 'Тоцкий' 'г.Бугуруслан' 'г.Бузулук' 'г.Гай' 'г.Кувандык'\n",
      " 'г.Оренбург' 'г.Соль-Илецк' 'г.Сорочинск' 'г.Ясный']\n",
      "Состав кластера 2: ['Абдулинский' 'Асекеевский' 'Бугурусланский' 'Бузулукский' 'Кваркенский'\n",
      " 'Новоорский' 'Новосергиевский' 'Переволоцкий' 'Саракташский'\n",
      " 'г.Новотроицк' 'г.Орск']\n",
      "\n",
      "\n"
     ]
    }
   ],
   "source": [
    "cluster_dict = {}\n",
    "\n",
    "\n",
    "path = \"members.xlsx\" # создаем переменную path, которой присваиваем название файла для записи объектов кластеров\n",
    "writer = pd.ExcelWriter(path, engine = 'xlsxwriter') # вызываем метод ExcelWriter библиотеки pandas \n",
    "\n",
    "for method, n in N_CLUSTERS.items():\n",
    "    print('{} method\\n'.format(method)) # выводим заголовки методов по шаблону \n",
    "    dfs = []  \n",
    "    for i in range(n): # для каждого кластера проходимся по объектам и записываем их в словарь \n",
    "        cluster_dict['{}_{}'.format(method, i)] = \\\n",
    "           scaled_data[scaled_data[method]==i][features]\n",
    "        \n",
    "        #запись членов кластеров в файл members на лист с именем Метод_НомерКластера\n",
    "        #файл создается в той же директории, где лежит ноутбук с кодом\n",
    "        cluster_dict['{}_{}'.format(method, i)]\\\n",
    "        .to_excel(writer, sheet_name = '{}_{}'.format(method, i))\n",
    "        \n",
    "        print ('Состав кластера {}: {}'\n",
    "              .format(i, cluster_dict['{}_{}'.format(method, i)].index.values))      \n",
    "    print ('\\n')\n",
    "    #print (cluster_dict)"
   ]
  },
  {
   "cell_type": "markdown",
   "metadata": {},
   "source": [
    "### 5. Функционал ошибки"
   ]
  },
  {
   "cell_type": "code",
   "execution_count": 45,
   "metadata": {},
   "outputs": [],
   "source": [
    "def Q(method_num, mean_data_row):\n",
    "    q = 0 # Обнуляем функционал качества разбиения \n",
    "    for i in range(len(method_num)): # проходимся по каждому элементу кластера\n",
    "        \n",
    "        # Во временную переменную записываем промежуточные значения суммы, чтобы потом добавлять их к Q\n",
    "        tmp = 0\n",
    "        for j, feature in zip(range(len(features)), features):\n",
    "            \n",
    "            #проходя по каждому признаку, считаем сумму квадратов расстояний от значения объекта до центра кластера\n",
    "            tmp = tmp + (method_num.iloc[i, j] - mean_data_row[feature][0])**2 \n",
    "            \n",
    "            # Прибавляем к Q\n",
    "        q = q + tmp\n",
    "    #возвращаем конечную сумму\n",
    "    return q"
   ]
  },
  {
   "cell_type": "code",
   "execution_count": 46,
   "metadata": {},
   "outputs": [
    {
     "data": {
      "text/html": [
       "<div>\n",
       "<style scoped>\n",
       "    .dataframe tbody tr th:only-of-type {\n",
       "        vertical-align: middle;\n",
       "    }\n",
       "\n",
       "    .dataframe tbody tr th {\n",
       "        vertical-align: top;\n",
       "    }\n",
       "\n",
       "    .dataframe thead th {\n",
       "        text-align: right;\n",
       "    }\n",
       "</style>\n",
       "<table border=\"1\" class=\"dataframe\">\n",
       "  <thead>\n",
       "    <tr style=\"text-align: right;\">\n",
       "      <th></th>\n",
       "      <th>X1</th>\n",
       "      <th>X8</th>\n",
       "      <th>X11</th>\n",
       "      <th>X12</th>\n",
       "      <th>X18</th>\n",
       "      <th>count</th>\n",
       "    </tr>\n",
       "  </thead>\n",
       "  <tbody>\n",
       "    <tr>\n",
       "      <th>complete_0</th>\n",
       "      <td>0.304900</td>\n",
       "      <td>-0.132677</td>\n",
       "      <td>-0.334263</td>\n",
       "      <td>-0.523049</td>\n",
       "      <td>0.289570</td>\n",
       "      <td>30.0</td>\n",
       "    </tr>\n",
       "    <tr>\n",
       "      <th>complete_1</th>\n",
       "      <td>-0.376974</td>\n",
       "      <td>-0.021928</td>\n",
       "      <td>0.652872</td>\n",
       "      <td>0.994740</td>\n",
       "      <td>-0.265895</td>\n",
       "      <td>15.0</td>\n",
       "    </tr>\n",
       "    <tr>\n",
       "      <th>complete_2</th>\n",
       "      <td>-1.746187</td>\n",
       "      <td>2.154616</td>\n",
       "      <td>0.117407</td>\n",
       "      <td>0.385180</td>\n",
       "      <td>-2.349338</td>\n",
       "      <td>2.0</td>\n",
       "    </tr>\n",
       "    <tr>\n",
       "      <th>ward_0</th>\n",
       "      <td>-0.262662</td>\n",
       "      <td>-0.304253</td>\n",
       "      <td>0.278392</td>\n",
       "      <td>-0.497078</td>\n",
       "      <td>-0.348586</td>\n",
       "      <td>25.0</td>\n",
       "    </tr>\n",
       "    <tr>\n",
       "      <th>ward_1</th>\n",
       "      <td>1.136770</td>\n",
       "      <td>-0.028814</td>\n",
       "      <td>-0.990163</td>\n",
       "      <td>-0.255316</td>\n",
       "      <td>1.058952</td>\n",
       "      <td>10.0</td>\n",
       "    </tr>\n",
       "    <tr>\n",
       "      <th>ward_2</th>\n",
       "      <td>-0.400097</td>\n",
       "      <td>0.657872</td>\n",
       "      <td>0.245153</td>\n",
       "      <td>1.248342</td>\n",
       "      <td>-0.156240</td>\n",
       "      <td>12.0</td>\n",
       "    </tr>\n",
       "    <tr>\n",
       "      <th>kmeans_0</th>\n",
       "      <td>-0.242392</td>\n",
       "      <td>-0.303149</td>\n",
       "      <td>0.321207</td>\n",
       "      <td>-0.463145</td>\n",
       "      <td>-0.324940</td>\n",
       "      <td>26.0</td>\n",
       "    </tr>\n",
       "    <tr>\n",
       "      <th>kmeans_1</th>\n",
       "      <td>1.136770</td>\n",
       "      <td>-0.028814</td>\n",
       "      <td>-0.990163</td>\n",
       "      <td>-0.255316</td>\n",
       "      <td>1.058952</td>\n",
       "      <td>10.0</td>\n",
       "    </tr>\n",
       "    <tr>\n",
       "      <th>kmeans_2</th>\n",
       "      <td>-0.460500</td>\n",
       "      <td>0.742729</td>\n",
       "      <td>0.140932</td>\n",
       "      <td>1.326811</td>\n",
       "      <td>-0.194644</td>\n",
       "      <td>11.0</td>\n",
       "    </tr>\n",
       "  </tbody>\n",
       "</table>\n",
       "</div>"
      ],
      "text/plain": [
       "                  X1        X8       X11       X12       X18  count\n",
       "complete_0  0.304900 -0.132677 -0.334263 -0.523049  0.289570   30.0\n",
       "complete_1 -0.376974 -0.021928  0.652872  0.994740 -0.265895   15.0\n",
       "complete_2 -1.746187  2.154616  0.117407  0.385180 -2.349338    2.0\n",
       "ward_0     -0.262662 -0.304253  0.278392 -0.497078 -0.348586   25.0\n",
       "ward_1      1.136770 -0.028814 -0.990163 -0.255316  1.058952   10.0\n",
       "ward_2     -0.400097  0.657872  0.245153  1.248342 -0.156240   12.0\n",
       "kmeans_0   -0.242392 -0.303149  0.321207 -0.463145 -0.324940   26.0\n",
       "kmeans_1    1.136770 -0.028814 -0.990163 -0.255316  1.058952   10.0\n",
       "kmeans_2   -0.460500  0.742729  0.140932  1.326811 -0.194644   11.0"
      ]
     },
     "execution_count": 46,
     "metadata": {},
     "output_type": "execute_result"
    }
   ],
   "source": [
    "#создадим общий датафрейм для всех средних значений признаков по каждому кластеру \n",
    "\n",
    "mean_data = pd.DataFrame()\n",
    "for method in CLUSTER_METHODS:\n",
    "    mean_data = mean_data.append(means[method])\n",
    "    \n",
    "#выведим получившийся датафрейм\n",
    "mean_data"
   ]
  },
  {
   "cell_type": "code",
   "execution_count": 47,
   "metadata": {},
   "outputs": [],
   "source": [
    "#создаем пустой словарь, в который будем записывать значения функционалов ошибки для каждого метода\n",
    "Q_dict = {}\n",
    "\n",
    "#k - номер строки в датафрейме mean_data (выведен выше)\n",
    "k = 0\n",
    "\n",
    "for method, n in N_CLUSTERS.items():\n",
    "    #временная переменная, нужна для суммирования функционала ошибки для каждого кластера в рамках одного метода\n",
    "    tmp = 0\n",
    "    #для каждого кластера (их всего n) в данном методе method выполняются действия в теле цикла\n",
    "    for i in range(n):\n",
    "        #в переменную tmp прибавляется значение Q для текущего номера кластера i (изменяется от 0 до n-1)\n",
    "        #в Q передаем в качестве первого аргумента - датафрейм, содержащий члены текущего кластера\n",
    "        #в качестве второго аргумента - строку из mean_data с индексом k (там записаны средние значения для данного кластера i)\n",
    "        tmp += Q(cluster_dict['{}_{}'.format(method, i)], pd.DataFrame(mean_data.iloc[k]).T)\n",
    "        #увеличиваем k на 1 (чтобы перейти к следующей строке mean_data)\n",
    "        k += 1   \n",
    "    #после того, как прошли по всем кластерам в рамках метода method и просуммировали функционалы ошибки в переменной tmp, запишем результирующую сумму в словарь\n",
    "    Q_dict['Q_{}'.format(method)] = round(tmp, 3)"
   ]
  },
  {
   "cell_type": "code",
   "execution_count": 48,
   "metadata": {},
   "outputs": [
    {
     "data": {
      "text/plain": [
       "{'Q_complete': 161.426, 'Q_ward': 153.379, 'Q_kmeans': 152.077}"
      ]
     },
     "execution_count": 48,
     "metadata": {},
     "output_type": "execute_result"
    }
   ],
   "source": [
    "Q_dict"
   ]
  },
  {
   "cell_type": "code",
   "execution_count": null,
   "metadata": {},
   "outputs": [],
   "source": []
  },
  {
   "cell_type": "code",
   "execution_count": null,
   "metadata": {},
   "outputs": [],
   "source": []
  }
 ],
 "metadata": {
  "kernelspec": {
   "display_name": "Python 3",
   "language": "python",
   "name": "python3"
  },
  "language_info": {
   "codemirror_mode": {
    "name": "ipython",
    "version": 3
   },
   "file_extension": ".py",
   "mimetype": "text/x-python",
   "name": "python",
   "nbconvert_exporter": "python",
   "pygments_lexer": "ipython3",
   "version": "3.7.0"
  }
 },
 "nbformat": 4,
 "nbformat_minor": 2
}
