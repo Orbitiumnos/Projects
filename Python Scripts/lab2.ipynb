{
 "cells": [
  {
   "cell_type": "markdown",
   "metadata": {},
   "source": [
    "# Лабораторная работа №2. Дискриминантный анализ.\n"
   ]
  },
  {
   "cell_type": "markdown",
   "metadata": {},
   "source": [
    "### 1. Подготовка библиотек\n",
    "Импортируем необходимые библиотеки:"
   ]
  },
  {
   "cell_type": "code",
   "execution_count": 1,
   "metadata": {},
   "outputs": [],
   "source": [
    "import numpy as np # поддерживает матрицы, массивы, мат.функции для них\n",
    "import pandas as pd # библиотека для анализа данных\n",
    "from scipy.stats import f\n",
    "from scipy.spatial.distance import mahalanobis\n",
    "from sklearn.discriminant_analysis import LinearDiscriminantAnalysis"
   ]
  },
  {
   "cell_type": "markdown",
   "metadata": {},
   "source": [
    "### 2. Преддискриминантный этап анализа\n",
    "Целью дискриминантного анализа является разделение рассматриваемой совокупности объектов или явлений на заданные обучающими выборками классы. Исходные данные для анализа представлены в виде матрицы.\n",
    "\n",
    "Есть два способа создания тренировочной выборки - с помощью списка TRAIN_SAMPLES или заполнение вручную стобца в Excel-файле."
   ]
  },
  {
   "cell_type": "code",
   "execution_count": 2,
   "metadata": {},
   "outputs": [],
   "source": [
    "_ = \\\n",
    "\"\"\"\n",
    "    Что поменять:\n",
    "        0) названия файлов, для считывания и для записи(этот в самом конце)\n",
    "        1) FEATURES\n",
    "        2) задать TRAIN_SAMPLES, если не задается, то удалить параметр из вызова функции gen_train_data\n",
    "        3) задать F to enter в sda\n",
    "\"\"\""
   ]
  },
  {
   "cell_type": "code",
   "execution_count": 3,
   "metadata": {},
   "outputs": [],
   "source": [
    "# В переменную FEATURES записываем названия показателей\n",
    "FEATURES = [\"x1\", \"x2\", \"x3\", \"x4\", \"x5\"] \n",
    "\n",
    "# создаем словарь - для каждого класса перечисляем номера объектов тренировочной выборки в зависимости от варианта\n",
    "\n",
    "TRAIN_SAMPLES = {\n",
    "    1 : [1, 2, 3, 4, 6, 8, 24, 29, 43],\n",
    "    2 : [12, 14, 16, 21, 23, 27, 28, 41],\n",
    "}\n"
   ]
  },
  {
   "cell_type": "code",
   "execution_count": 4,
   "metadata": {
    "scrolled": false
   },
   "outputs": [
    {
     "data": {
      "text/html": [
       "<div>\n",
       "<style scoped>\n",
       "    .dataframe tbody tr th:only-of-type {\n",
       "        vertical-align: middle;\n",
       "    }\n",
       "\n",
       "    .dataframe tbody tr th {\n",
       "        vertical-align: top;\n",
       "    }\n",
       "\n",
       "    .dataframe thead th {\n",
       "        text-align: right;\n",
       "    }\n",
       "</style>\n",
       "<table border=\"1\" class=\"dataframe\">\n",
       "  <thead>\n",
       "    <tr style=\"text-align: right;\">\n",
       "      <th></th>\n",
       "      <th>x1</th>\n",
       "      <th>x2</th>\n",
       "      <th>x3</th>\n",
       "      <th>x4</th>\n",
       "      <th>x5</th>\n",
       "      <th>x6</th>\n",
       "    </tr>\n",
       "  </thead>\n",
       "  <tbody>\n",
       "    <tr>\n",
       "      <th>1</th>\n",
       "      <td>9.26</td>\n",
       "      <td>0.78</td>\n",
       "      <td>1.37</td>\n",
       "      <td>0.23</td>\n",
       "      <td>1.45</td>\n",
       "      <td>1.0</td>\n",
       "    </tr>\n",
       "    <tr>\n",
       "      <th>2</th>\n",
       "      <td>9.38</td>\n",
       "      <td>0.75</td>\n",
       "      <td>1.49</td>\n",
       "      <td>0.39</td>\n",
       "      <td>1.30</td>\n",
       "      <td>1.0</td>\n",
       "    </tr>\n",
       "    <tr>\n",
       "      <th>3</th>\n",
       "      <td>12.11</td>\n",
       "      <td>0.68</td>\n",
       "      <td>1.44</td>\n",
       "      <td>0.43</td>\n",
       "      <td>1.37</td>\n",
       "      <td>1.0</td>\n",
       "    </tr>\n",
       "    <tr>\n",
       "      <th>4</th>\n",
       "      <td>10.81</td>\n",
       "      <td>0.70</td>\n",
       "      <td>1.42</td>\n",
       "      <td>0.18</td>\n",
       "      <td>1.65</td>\n",
       "      <td>1.0</td>\n",
       "    </tr>\n",
       "    <tr>\n",
       "      <th>5</th>\n",
       "      <td>9.35</td>\n",
       "      <td>0.62</td>\n",
       "      <td>1.35</td>\n",
       "      <td>0.15</td>\n",
       "      <td>1.91</td>\n",
       "      <td>NaN</td>\n",
       "    </tr>\n",
       "  </tbody>\n",
       "</table>\n",
       "</div>"
      ],
      "text/plain": [
       "      x1    x2    x3    x4    x5   x6\n",
       "1   9.26  0.78  1.37  0.23  1.45  1.0\n",
       "2   9.38  0.75  1.49  0.39  1.30  1.0\n",
       "3  12.11  0.68  1.44  0.43  1.37  1.0\n",
       "4  10.81  0.70  1.42  0.18  1.65  1.0\n",
       "5   9.35  0.62  1.35  0.15  1.91  NaN"
      ]
     },
     "execution_count": 4,
     "metadata": {},
     "output_type": "execute_result"
    }
   ],
   "source": [
    "data = pd.read_excel(\"C:\\Games\\Ekonometrika\\data_for_lab2_part1_1.xlsx\") # считываем данные из файла (файл, который содержит ВСЕ строки и ВСЕ признаки)\n",
    "data.head() #по умолчанию метод head выведет первые 5 строк"
   ]
  },
  {
   "cell_type": "markdown",
   "metadata": {},
   "source": [
    "Создаем новую переменную, в которую будем записывать все данные, которые необходимо включить в итоговый Excel-файл."
   ]
  },
  {
   "cell_type": "code",
   "execution_count": 5,
   "metadata": {},
   "outputs": [],
   "source": [
    "data_to_excel = data[FEATURES]"
   ]
  },
  {
   "cell_type": "markdown",
   "metadata": {},
   "source": [
    "Далее, вводим функцию gen_train_data по созданию тренировочной выборки.\n",
    "<br>Аргументы функции: \n",
    "- data - данные для анализа\n",
    "- features - названия признаков \n",
    "- train_samples - опциональный параметр: если он передан, то разбиение классов обучающей выборкой задается при помощи train_samples (1 часть ЛР), в противном случае разбиение должно присутствовать в одном из столбцов data (2 часть ЛР)"
   ]
  },
  {
   "cell_type": "code",
   "execution_count": 6,
   "metadata": {},
   "outputs": [],
   "source": [
    "def gen_train_data(data, features, train_samples=None):\n",
    "    if train_samples: # если опциональный параметр задан\n",
    "        train_data = pd.DataFrame() # создаем тренировочную выборку, пока пустую\n",
    "        for cls, samples in train_samples.items(): # в cls записываем номера классов, в samples список объектов этого класса\n",
    "            train_samps = data[features].loc[samples] # выбираем объекты обучающей выборки\n",
    "            train_samps[\"Class\"] = cls # добавляем к ним колонку с номером класса\n",
    "            train_data = pd.concat([train_data, train_samps]) # concat - функция объединения таблиц\n",
    "    else:\n",
    "        assert data.shape[1] == len(features) + 1 # если в исходном файле нет доп.колонки с разбиением, выдаст ошибку\n",
    "        train_data = data.dropna() # берем в тренировочную выборку только те строки, где проставлены классы\n",
    "        cls_col = train_data.drop(columns=features).columns[0] \n",
    "        train_data = train_data.rename({cls_col: \"Class\"}, axis=1) # переименовываем колонку с обучающей выборкой на  \"Class\"\n",
    "    train_data = train_data.astype({\"Class\": 'int32'}) # присваем колонке \"Class\" тип int\n",
    "    return train_data"
   ]
  },
  {
   "cell_type": "code",
   "execution_count": 7,
   "metadata": {
    "scrolled": true
   },
   "outputs": [
    {
     "data": {
      "text/html": [
       "<div>\n",
       "<style scoped>\n",
       "    .dataframe tbody tr th:only-of-type {\n",
       "        vertical-align: middle;\n",
       "    }\n",
       "\n",
       "    .dataframe tbody tr th {\n",
       "        vertical-align: top;\n",
       "    }\n",
       "\n",
       "    .dataframe thead th {\n",
       "        text-align: right;\n",
       "    }\n",
       "</style>\n",
       "<table border=\"1\" class=\"dataframe\">\n",
       "  <thead>\n",
       "    <tr style=\"text-align: right;\">\n",
       "      <th></th>\n",
       "      <th>x1</th>\n",
       "      <th>x2</th>\n",
       "      <th>x3</th>\n",
       "      <th>x4</th>\n",
       "      <th>x5</th>\n",
       "      <th>Class</th>\n",
       "    </tr>\n",
       "  </thead>\n",
       "  <tbody>\n",
       "    <tr>\n",
       "      <th>1</th>\n",
       "      <td>9.26</td>\n",
       "      <td>0.78</td>\n",
       "      <td>1.37</td>\n",
       "      <td>0.23</td>\n",
       "      <td>1.45</td>\n",
       "      <td>1</td>\n",
       "    </tr>\n",
       "    <tr>\n",
       "      <th>2</th>\n",
       "      <td>9.38</td>\n",
       "      <td>0.75</td>\n",
       "      <td>1.49</td>\n",
       "      <td>0.39</td>\n",
       "      <td>1.30</td>\n",
       "      <td>1</td>\n",
       "    </tr>\n",
       "    <tr>\n",
       "      <th>3</th>\n",
       "      <td>12.11</td>\n",
       "      <td>0.68</td>\n",
       "      <td>1.44</td>\n",
       "      <td>0.43</td>\n",
       "      <td>1.37</td>\n",
       "      <td>1</td>\n",
       "    </tr>\n",
       "    <tr>\n",
       "      <th>4</th>\n",
       "      <td>10.81</td>\n",
       "      <td>0.70</td>\n",
       "      <td>1.42</td>\n",
       "      <td>0.18</td>\n",
       "      <td>1.65</td>\n",
       "      <td>1</td>\n",
       "    </tr>\n",
       "    <tr>\n",
       "      <th>6</th>\n",
       "      <td>9.87</td>\n",
       "      <td>0.76</td>\n",
       "      <td>1.39</td>\n",
       "      <td>0.34</td>\n",
       "      <td>1.68</td>\n",
       "      <td>1</td>\n",
       "    </tr>\n",
       "  </tbody>\n",
       "</table>\n",
       "</div>"
      ],
      "text/plain": [
       "      x1    x2    x3    x4    x5  Class\n",
       "1   9.26  0.78  1.37  0.23  1.45      1\n",
       "2   9.38  0.75  1.49  0.39  1.30      1\n",
       "3  12.11  0.68  1.44  0.43  1.37      1\n",
       "4  10.81  0.70  1.42  0.18  1.65      1\n",
       "6   9.87  0.76  1.39  0.34  1.68      1"
      ]
     },
     "execution_count": 7,
     "metadata": {},
     "output_type": "execute_result"
    }
   ],
   "source": [
    "# если классы заданы в файле - TRAIN_SAMPLES надо удалить\n",
    "train_data = gen_train_data(data, FEATURES)\n",
    "train_data.head() # смотрим результаты работы функции gen_train_data"
   ]
  },
  {
   "cell_type": "markdown",
   "metadata": {},
   "source": [
    "Добавим столбец с обучающей выборкой в переменную."
   ]
  },
  {
   "cell_type": "code",
   "execution_count": 8,
   "metadata": {
    "scrolled": true
   },
   "outputs": [],
   "source": [
    "data_to_excel[\"Train sample\"] = train_data.Class"
   ]
  },
  {
   "cell_type": "code",
   "execution_count": null,
   "metadata": {},
   "outputs": [],
   "source": []
  },
  {
   "attachments": {
    "image.png": {
     "image/png": "[encoded data removed]"
    }
   },
   "cell_type": "markdown",
   "metadata": {},
   "source": [
    "Для расчета Лямбды Уилкса необходимо знать: <br>\n",
    "1) общая матрица рассеяния: \n",
    "![image.png](attachment:image.png)"
   ]
  },
  {
   "attachments": {
    "image.png": {
     "image/png": "[encoded data removed]"
    }
   },
   "cell_type": "markdown",
   "metadata": {},
   "source": [
    "2) внутриклассовые матрицы разброса\n",
    "![image.png](attachment:image.png)"
   ]
  },
  {
   "attachments": {
    "image.png": {
     "image/png": "[encoded data removed]"
    }
   },
   "cell_type": "markdown",
   "metadata": {},
   "source": [
    "где ![image.png](attachment:image.png)"
   ]
  },
  {
   "cell_type": "code",
   "execution_count": 9,
   "metadata": {},
   "outputs": [],
   "source": [
    "# проведем расчет матрицы рассеяния \n",
    "\n",
    "def scatter_matrix(samples):\n",
    "    if isinstance(samples, pd.Series):\n",
    "        samples = samples.to_frame()\n",
    "    d = samples - samples.mean()\n",
    "    res = np.zeros((d.shape[1], d.shape[1]))\n",
    "    for _, row in d.iterrows():\n",
    "        col = row.to_frame()\n",
    "        res += col @ col.T\n",
    "    return res"
   ]
  },
  {
   "cell_type": "code",
   "execution_count": 10,
   "metadata": {},
   "outputs": [],
   "source": [
    "# проведем расчет внутриклассовых матриц разброса\n",
    "\n",
    "def classes_scatter_matrix(samples, labels):\n",
    "    A = np.zeros((samples.shape[1], samples.shape[1]))\n",
    "    for cls in labels.unique():\n",
    "        A += scatter_matrix(samples[labels == cls])\n",
    "    return A"
   ]
  },
  {
   "cell_type": "markdown",
   "metadata": {},
   "source": [
    "Рассчитаем ковариационную матрицу:"
   ]
  },
  {
   "cell_type": "code",
   "execution_count": 11,
   "metadata": {},
   "outputs": [
    {
     "data": {
      "text/html": [
       "<div>\n",
       "<style scoped>\n",
       "    .dataframe tbody tr th:only-of-type {\n",
       "        vertical-align: middle;\n",
       "    }\n",
       "\n",
       "    .dataframe tbody tr th {\n",
       "        vertical-align: top;\n",
       "    }\n",
       "\n",
       "    .dataframe thead th {\n",
       "        text-align: right;\n",
       "    }\n",
       "</style>\n",
       "<table border=\"1\" class=\"dataframe\">\n",
       "  <thead>\n",
       "    <tr style=\"text-align: right;\">\n",
       "      <th></th>\n",
       "      <th>x1</th>\n",
       "      <th>x2</th>\n",
       "      <th>x3</th>\n",
       "      <th>x4</th>\n",
       "      <th>x5</th>\n",
       "    </tr>\n",
       "  </thead>\n",
       "  <tbody>\n",
       "    <tr>\n",
       "      <th>x1</th>\n",
       "      <td>0.778698</td>\n",
       "      <td>-0.008771</td>\n",
       "      <td>0.035725</td>\n",
       "      <td>0.002463</td>\n",
       "      <td>-0.092497</td>\n",
       "    </tr>\n",
       "    <tr>\n",
       "      <th>x2</th>\n",
       "      <td>-0.008771</td>\n",
       "      <td>0.001339</td>\n",
       "      <td>0.001063</td>\n",
       "      <td>-0.001158</td>\n",
       "      <td>0.005650</td>\n",
       "    </tr>\n",
       "    <tr>\n",
       "      <th>x3</th>\n",
       "      <td>0.035725</td>\n",
       "      <td>0.001063</td>\n",
       "      <td>0.009425</td>\n",
       "      <td>0.006585</td>\n",
       "      <td>-0.010273</td>\n",
       "    </tr>\n",
       "    <tr>\n",
       "      <th>x4</th>\n",
       "      <td>0.002463</td>\n",
       "      <td>-0.001158</td>\n",
       "      <td>0.006585</td>\n",
       "      <td>0.056295</td>\n",
       "      <td>-0.014133</td>\n",
       "    </tr>\n",
       "    <tr>\n",
       "      <th>x5</th>\n",
       "      <td>-0.092497</td>\n",
       "      <td>0.005650</td>\n",
       "      <td>-0.010273</td>\n",
       "      <td>-0.014133</td>\n",
       "      <td>0.163040</td>\n",
       "    </tr>\n",
       "  </tbody>\n",
       "</table>\n",
       "</div>"
      ],
      "text/plain": [
       "          x1        x2        x3        x4        x5\n",
       "x1  0.778698 -0.008771  0.035725  0.002463 -0.092497\n",
       "x2 -0.008771  0.001339  0.001063 -0.001158  0.005650\n",
       "x3  0.035725  0.001063  0.009425  0.006585 -0.010273\n",
       "x4  0.002463 -0.001158  0.006585  0.056295 -0.014133\n",
       "x5 -0.092497  0.005650 -0.010273 -0.014133  0.163040"
      ]
     },
     "execution_count": 11,
     "metadata": {},
     "output_type": "execute_result"
    }
   ],
   "source": [
    "# выведем ковариационную матрицу\n",
    "# она рассчитывается как классовая матрица рассеяния \"classes_scatter_matrix\", деленная на (кол-во объектов - кол-во классов)\n",
    "\n",
    "cov = pd.DataFrame(\n",
    "    classes_scatter_matrix(train_data[FEATURES], train_data.Class) / (train_data.shape[0] - train_data.Class.unique().size), \n",
    "    index=FEATURES, \n",
    "    columns=FEATURES\n",
    ")\n",
    "\n",
    "cov"
   ]
  },
  {
   "cell_type": "markdown",
   "metadata": {},
   "source": [
    "Для проведения дискриминантного анализа используем возможности класса LinearDiscriminantAnalysis."
   ]
  },
  {
   "cell_type": "code",
   "execution_count": 12,
   "metadata": {},
   "outputs": [],
   "source": [
    "# \"обучаем\" модель с помощью метода fit класса LinearDiscriminantAnalysis \n",
    "# в метод fit передаем исходные данные\n",
    "lda = LinearDiscriminantAnalysis().fit(train_data[FEATURES], train_data.Class)"
   ]
  },
  {
   "cell_type": "markdown",
   "metadata": {},
   "source": [
    "Рассчитаем оценки математических ожиданий в классах."
   ]
  },
  {
   "cell_type": "code",
   "execution_count": 13,
   "metadata": {},
   "outputs": [
    {
     "data": {
      "text/html": [
       "<div>\n",
       "<style scoped>\n",
       "    .dataframe tbody tr th:only-of-type {\n",
       "        vertical-align: middle;\n",
       "    }\n",
       "\n",
       "    .dataframe tbody tr th {\n",
       "        vertical-align: top;\n",
       "    }\n",
       "\n",
       "    .dataframe thead th {\n",
       "        text-align: right;\n",
       "    }\n",
       "</style>\n",
       "<table border=\"1\" class=\"dataframe\">\n",
       "  <thead>\n",
       "    <tr style=\"text-align: right;\">\n",
       "      <th></th>\n",
       "      <th>x1</th>\n",
       "      <th>x2</th>\n",
       "      <th>x3</th>\n",
       "      <th>x4</th>\n",
       "      <th>x5</th>\n",
       "    </tr>\n",
       "  </thead>\n",
       "  <tbody>\n",
       "    <tr>\n",
       "      <th>1</th>\n",
       "      <td>9.928889</td>\n",
       "      <td>0.736667</td>\n",
       "      <td>1.355556</td>\n",
       "      <td>0.274444</td>\n",
       "      <td>1.810</td>\n",
       "    </tr>\n",
       "    <tr>\n",
       "      <th>2</th>\n",
       "      <td>6.153750</td>\n",
       "      <td>0.751250</td>\n",
       "      <td>1.282500</td>\n",
       "      <td>0.580000</td>\n",
       "      <td>1.185</td>\n",
       "    </tr>\n",
       "  </tbody>\n",
       "</table>\n",
       "</div>"
      ],
      "text/plain": [
       "         x1        x2        x3        x4     x5\n",
       "1  9.928889  0.736667  1.355556  0.274444  1.810\n",
       "2  6.153750  0.751250  1.282500  0.580000  1.185"
      ]
     },
     "execution_count": 13,
     "metadata": {},
     "output_type": "execute_result"
    }
   ],
   "source": [
    "# выведем средние значения параметров для каждого класса обучающей выборки\n",
    "means = pd.DataFrame(lda.means_, index=lda.classes_, columns=FEATURES)\n",
    "means"
   ]
  },
  {
   "cell_type": "markdown",
   "metadata": {},
   "source": [
    "### 3.\tДискриминантный анализ"
   ]
  },
  {
   "cell_type": "markdown",
   "metadata": {},
   "source": [
    "Определим линейные дискриминантные функции Фишера.\n",
    "Зададим функцию вывода коэффициентов функции Фишера."
   ]
  },
  {
   "cell_type": "code",
   "execution_count": 14,
   "metadata": {},
   "outputs": [],
   "source": [
    "def get_df_coef(lda, features, ):\n",
    "    if lda.classes_.size == 2: #если 2 класса, то lda вернет разность коэффициентов функций\n",
    "        return pd.DataFrame(\n",
    "            np.concatenate([lda.intercept_, lda.coef_.ravel()]),\n",
    "            index=[\"Intercept\"] + features,\n",
    "            columns=[\"Discriminant F\"]\n",
    "        )\n",
    "# если 3 и более классов, то lda вернет несколько функций (аналогично ППП Statistica)\n",
    "    return pd.DataFrame(\n",
    "        np.vstack([lda.intercept_, lda.coef_.T]),\n",
    "        index=[\"Intercept\"] + features,\n",
    "        columns=lda.classes_\n",
    "    )"
   ]
  },
  {
   "cell_type": "code",
   "execution_count": 15,
   "metadata": {},
   "outputs": [
    {
     "data": {
      "text/html": [
       "<div>\n",
       "<style scoped>\n",
       "    .dataframe tbody tr th:only-of-type {\n",
       "        vertical-align: middle;\n",
       "    }\n",
       "\n",
       "    .dataframe tbody tr th {\n",
       "        vertical-align: top;\n",
       "    }\n",
       "\n",
       "    .dataframe thead th {\n",
       "        text-align: right;\n",
       "    }\n",
       "</style>\n",
       "<table border=\"1\" class=\"dataframe\">\n",
       "  <thead>\n",
       "    <tr style=\"text-align: right;\">\n",
       "      <th></th>\n",
       "      <th>Discriminant F</th>\n",
       "    </tr>\n",
       "  </thead>\n",
       "  <tbody>\n",
       "    <tr>\n",
       "      <th>Intercept</th>\n",
       "      <td>49.694461</td>\n",
       "    </tr>\n",
       "    <tr>\n",
       "      <th>x1</th>\n",
       "      <td>-5.890737</td>\n",
       "    </tr>\n",
       "    <tr>\n",
       "      <th>x2</th>\n",
       "      <td>-1.567142</td>\n",
       "    </tr>\n",
       "    <tr>\n",
       "      <th>x3</th>\n",
       "      <td>5.299984</td>\n",
       "    </tr>\n",
       "    <tr>\n",
       "      <th>x4</th>\n",
       "      <td>3.403398</td>\n",
       "    </tr>\n",
       "    <tr>\n",
       "      <th>x5</th>\n",
       "      <td>-6.492083</td>\n",
       "    </tr>\n",
       "  </tbody>\n",
       "</table>\n",
       "</div>"
      ],
      "text/plain": [
       "           Discriminant F\n",
       "Intercept       49.694461\n",
       "x1              -5.890737\n",
       "x2              -1.567142\n",
       "x3               5.299984\n",
       "x4               3.403398\n",
       "x5              -6.492083"
      ]
     },
     "execution_count": 15,
     "metadata": {},
     "output_type": "execute_result"
    }
   ],
   "source": [
    "df_coef = get_df_coef(lda, FEATURES) # применим эту функцию для наших параметров\n",
    "df_coef"
   ]
  },
  {
   "cell_type": "markdown",
   "metadata": {},
   "source": [
    "Зададим функцию расчета квадратов расстояний Махаланобиса между классами, где:\n",
    " - centers - центры классов\n",
    " - samples - объекты, для которых считаем расстояния\n",
    " - cov - ковариационная матрицы"
   ]
  },
  {
   "cell_type": "code",
   "execution_count": 16,
   "metadata": {},
   "outputs": [],
   "source": [
    "def calc_mahalanobis_square_dist(centers, samples, cov):\n",
    "    # создаем матрицу расстояний между классами и объекnами\n",
    "    res = pd.DataFrame(index=samples.index, columns=centers.index)\n",
    "    for i in centers.index: # проходим по всем центрам классов\n",
    "        for j in samples.index: # проходим по всем объектам\n",
    "            # считаем расстояние между текущим классом и объектом\n",
    "            res[i][j] = mahalanobis(centers.loc[i], samples.loc[j], np.linalg.inv(cov)) ** 2 \n",
    "    return res"
   ]
  },
  {
   "cell_type": "code",
   "execution_count": 17,
   "metadata": {},
   "outputs": [
    {
     "data": {
      "text/html": [
       "<div>\n",
       "<style scoped>\n",
       "    .dataframe tbody tr th:only-of-type {\n",
       "        vertical-align: middle;\n",
       "    }\n",
       "\n",
       "    .dataframe tbody tr th {\n",
       "        vertical-align: top;\n",
       "    }\n",
       "\n",
       "    .dataframe thead th {\n",
       "        text-align: right;\n",
       "    }\n",
       "</style>\n",
       "<table border=\"1\" class=\"dataframe\">\n",
       "  <thead>\n",
       "    <tr style=\"text-align: right;\">\n",
       "      <th></th>\n",
       "      <th>1</th>\n",
       "      <th>2</th>\n",
       "    </tr>\n",
       "  </thead>\n",
       "  <tbody>\n",
       "    <tr>\n",
       "      <th>1</th>\n",
       "      <td>0</td>\n",
       "      <td>26.9258</td>\n",
       "    </tr>\n",
       "    <tr>\n",
       "      <th>2</th>\n",
       "      <td>26.9258</td>\n",
       "      <td>0</td>\n",
       "    </tr>\n",
       "  </tbody>\n",
       "</table>\n",
       "</div>"
      ],
      "text/plain": [
       "         1        2\n",
       "1        0  26.9258\n",
       "2  26.9258        0"
      ]
     },
     "execution_count": 17,
     "metadata": {},
     "output_type": "execute_result"
    }
   ],
   "source": [
    "# выведем квадраты расстояний Махаланобиса между классами\n",
    "center_distance = calc_mahalanobis_square_dist(means, means, cov)\n",
    "center_distance"
   ]
  },
  {
   "cell_type": "markdown",
   "metadata": {},
   "source": [
    "Выведем оценки априорных вероятностей:"
   ]
  },
  {
   "cell_type": "code",
   "execution_count": 18,
   "metadata": {},
   "outputs": [
    {
     "data": {
      "text/plain": [
       "array([0.52941176, 0.47058824])"
      ]
     },
     "execution_count": 18,
     "metadata": {},
     "output_type": "execute_result"
    }
   ],
   "source": [
    "lda.priors_ "
   ]
  },
  {
   "cell_type": "markdown",
   "metadata": {},
   "source": [
    "Далее, определим функцию вывода номеров классов для переданных X:"
   ]
  },
  {
   "cell_type": "code",
   "execution_count": 19,
   "metadata": {},
   "outputs": [],
   "source": [
    "def LDA_predict(lda, X):\n",
    "    return pd.DataFrame(\n",
    "        lda.predict(X),\n",
    "        columns=[\"Class\"],\n",
    "        index=X.index\n",
    "    )"
   ]
  },
  {
   "cell_type": "markdown",
   "metadata": {},
   "source": [
    "Поведем повторную классификацию объектов тренировочной выборки:"
   ]
  },
  {
   "cell_type": "code",
   "execution_count": 20,
   "metadata": {},
   "outputs": [
    {
     "data": {
      "text/plain": [
       "True    1.0\n",
       "Name: Class, dtype: float64"
      ]
     },
     "execution_count": 20,
     "metadata": {},
     "output_type": "execute_result"
    }
   ],
   "source": [
    "lda_predict_train = LDA_predict(lda, train_data[FEATURES])\n",
    "# сравниваем полученные классы с теми, которые были заданы в начале, и смотрим долю совпадения\n",
    "(lda_predict_train.Class == train_data.Class).value_counts(normalize=True)"
   ]
  },
  {
   "cell_type": "markdown",
   "metadata": {},
   "source": [
    "Получим полную картину классификации всех объектов:"
   ]
  },
  {
   "cell_type": "code",
   "execution_count": 21,
   "metadata": {},
   "outputs": [
    {
     "name": "stdout",
     "output_type": "stream",
     "text": [
      "    Class\n",
      "1       1\n",
      "2       1\n",
      "3       1\n",
      "4       1\n",
      "5       1\n",
      "6       1\n",
      "7       1\n",
      "8       1\n",
      "9       2\n",
      "10      2\n",
      "11      2\n",
      "12      2\n",
      "13      2\n",
      "14      2\n",
      "15      2\n",
      "16      2\n",
      "17      2\n",
      "18      2\n",
      "19      2\n",
      "20      1\n",
      "21      2\n",
      "22      2\n",
      "23      2\n",
      "24      1\n",
      "25      1\n",
      "26      2\n",
      "27      2\n",
      "28      2\n",
      "29      1\n",
      "30      1\n",
      "31      2\n",
      "32      2\n",
      "33      1\n",
      "34      2\n",
      "35      1\n",
      "36      2\n",
      "37      1\n",
      "38      1\n",
      "39      1\n",
      "40      1\n",
      "41      2\n",
      "42      2\n",
      "43      1\n",
      "44      2\n",
      "45      2\n",
      "46      2\n",
      "47      2\n",
      "48      2\n",
      "49      2\n",
      "50      2\n",
      "51      2\n",
      "52      1\n",
      "53      1\n"
     ]
    }
   ],
   "source": [
    "lda_predict = LDA_predict(lda, data[FEATURES])\n",
    "lda_predict.head()\n",
    "print(lda_predict)"
   ]
  },
  {
   "cell_type": "markdown",
   "metadata": {},
   "source": [
    "Запишем результаты классификации в переменную."
   ]
  },
  {
   "cell_type": "code",
   "execution_count": 22,
   "metadata": {},
   "outputs": [],
   "source": [
    "data_to_excel[\"Results lda\"] = lda_predict"
   ]
  },
  {
   "cell_type": "markdown",
   "metadata": {},
   "source": [
    "Выведем квадраты расстояний Махаланобиса между классами и объектами:"
   ]
  },
  {
   "cell_type": "code",
   "execution_count": 23,
   "metadata": {},
   "outputs": [
    {
     "name": "stdout",
     "output_type": "stream",
     "text": [
      "           1        2\n",
      "1    4.45332  19.1095\n",
      "2    5.15273    16.82\n",
      "3    7.21173  51.9896\n",
      "4    3.17193  38.2459\n",
      "5    28.2178  50.1621\n",
      "6   0.945794  24.7516\n",
      "7    6.76182  15.9867\n",
      "8    2.96927  23.4827\n",
      "9    32.4264    16.18\n",
      "10   22.8866  11.8414\n",
      "11   26.4201  12.8198\n",
      "12   39.4352  8.05396\n",
      "13    28.461  17.3415\n",
      "14   26.0529  1.68146\n",
      "15   91.3595  35.2878\n",
      "16   17.9565  2.87948\n",
      "17   15.0693  3.24838\n",
      "18   49.9347  42.7859\n",
      "19   37.6077    31.28\n",
      "20   4.64434  21.0462\n",
      "21   20.7057  1.14933\n",
      "22   12.9011  9.43869\n",
      "23   54.9972  10.1803\n",
      "24   2.95269  29.7909\n",
      "25   24.6087  83.2763\n",
      "26   22.3056  7.51611\n",
      "27    35.294  5.32054\n",
      "28   36.0919  4.93898\n",
      "29    8.2454  47.9617\n",
      "30    16.507  18.5604\n",
      "31   169.131  118.832\n",
      "32   18.7388  11.3832\n",
      "33   5.59691  25.4078\n",
      "34   16.9302  7.86949\n",
      "35   13.1008  22.4639\n",
      "36   47.2122  32.3443\n",
      "37   29.0785  57.0162\n",
      "38   6.57822  12.4819\n",
      "39    39.224     90.6\n",
      "40   17.0233  19.7874\n",
      "41   21.5438  2.46699\n",
      "42   26.7366  7.72436\n",
      "43   3.22611  28.5091\n",
      "44   21.5616  20.3238\n",
      "45    40.337  6.03541\n",
      "46    36.495  8.24483\n",
      "47   39.4781  12.9711\n",
      "48   31.1003  16.5952\n",
      "49   81.2705  56.4339\n",
      "50   50.1177  8.63617\n",
      "51   61.8616  23.8548\n",
      "52   125.976  244.103\n",
      "53   28.5466  60.9298\n"
     ]
    }
   ],
   "source": [
    "samp_dist = calc_mahalanobis_square_dist(means, data[FEATURES], cov)\n",
    "samp_dist.head()\n",
    "print(samp_dist)"
   ]
  },
  {
   "cell_type": "code",
   "execution_count": 24,
   "metadata": {},
   "outputs": [],
   "source": [
    "data_to_excel = pd.concat([data_to_excel, samp_dist.add_prefix(\"lda mahalanobis \")], axis=1)"
   ]
  },
  {
   "cell_type": "markdown",
   "metadata": {},
   "source": [
    "Зададим функцию для вывода апостериорных вероятностей:"
   ]
  },
  {
   "cell_type": "code",
   "execution_count": 25,
   "metadata": {},
   "outputs": [],
   "source": [
    "def LDA_predict_proba(lda, X):\n",
    "    return pd.DataFrame(\n",
    "        lda.predict_proba(X),\n",
    "        columns=lda.classes_,\n",
    "        index=X.index\n",
    "    )"
   ]
  },
  {
   "cell_type": "markdown",
   "metadata": {},
   "source": [
    "Применим функцию LDA_predict_proba для наших данных:"
   ]
  },
  {
   "cell_type": "code",
   "execution_count": 26,
   "metadata": {},
   "outputs": [
    {
     "name": "stdout",
     "output_type": "stream",
     "text": [
      "               1             2\n",
      "1   9.994165e-01  5.834948e-04\n",
      "2   9.974046e-01  2.595412e-03\n",
      "3   1.000000e+00  1.680547e-10\n",
      "4   1.000000e+00  2.150997e-08\n",
      "5   9.999847e-01  1.526481e-05\n",
      "6   9.999940e-01  6.018277e-06\n",
      "7   9.912528e-01  8.747171e-03\n",
      "8   9.999688e-01  3.121816e-05\n",
      "9   3.335388e-04  9.996665e-01\n",
      "10  4.474799e-03  9.955252e-01\n",
      "11  1.251264e-03  9.987487e-01\n",
      "12  1.725015e-07  9.999998e-01\n",
      "13  4.312256e-03  9.956877e-01\n",
      "14  5.740673e-06  9.999943e-01\n",
      "15  7.505108e-13  1.000000e+00\n",
      "16  5.983433e-04  9.994017e-01\n",
      "17  3.040562e-03  9.969594e-01\n",
      "18  3.057311e-02  9.694269e-01\n",
      "19  4.538675e-02  9.546132e-01\n",
      "20  9.997562e-01  2.438478e-04\n",
      "21  6.375504e-05  9.999362e-01\n",
      "22  1.661124e-01  8.338876e-01\n",
      "23  2.085809e-10  1.000000e+00\n",
      "24  9.999987e-01  1.321313e-06\n",
      "25  1.000000e+00  1.619374e-13\n",
      "26  6.907951e-04  9.993092e-01\n",
      "27  3.487362e-07  9.999997e-01\n",
      "28  1.933670e-07  9.999998e-01\n",
      "29  1.000000e+00  2.111351e-09\n",
      "30  7.584979e-01  2.415021e-01\n",
      "31  1.345324e-11  1.000000e+00\n",
      "32  2.765212e-02  9.723479e-01\n",
      "33  9.999556e-01  4.435602e-05\n",
      "34  1.197879e-02  9.880212e-01\n",
      "35  9.918320e-01  8.167964e-03\n",
      "36  6.642715e-04  9.993357e-01\n",
      "37  9.999992e-01  7.625195e-07\n",
      "38  9.556213e-01  4.437866e-02\n",
      "39  1.000000e+00  6.204216e-12\n",
      "40  8.175503e-01  1.824497e-01\n",
      "41  8.103046e-05  9.999190e-01\n",
      "42  8.368682e-05  9.999163e-01\n",
      "43  9.999971e-01  2.875521e-06\n",
      "44  3.772816e-01  6.227184e-01\n",
      "45  4.005490e-08  1.000000e+00\n",
      "46  8.254708e-07  9.999992e-01\n",
      "47  1.973445e-06  9.999980e-01\n",
      "48  7.962799e-04  9.992037e-01\n",
      "49  4.549389e-06  9.999955e-01\n",
      "50  1.105473e-09  1.000000e+00\n",
      "51  6.281525e-09  1.000000e+00\n",
      "52  1.000000e+00  1.985484e-26\n",
      "53  9.999999e-01  8.258983e-08\n"
     ]
    }
   ],
   "source": [
    "lda_post_prob = LDA_predict_proba(lda, data[FEATURES])\n",
    "lda_post_prob.head()\n",
    "print(lda_post_prob)"
   ]
  },
  {
   "cell_type": "code",
   "execution_count": 27,
   "metadata": {},
   "outputs": [],
   "source": [
    "data_to_excel = pd.concat([data_to_excel, lda_post_prob.add_prefix(\"lda post prob \")], axis=1)"
   ]
  },
  {
   "cell_type": "markdown",
   "metadata": {},
   "source": [
    "### 4.\tПошаговый дискриминантный анализ"
   ]
  },
  {
   "cell_type": "markdown",
   "metadata": {},
   "source": [
    "Зададим функцию расчета Лямбды Уилкса:"
   ]
  },
  {
   "cell_type": "code",
   "execution_count": 28,
   "metadata": {},
   "outputs": [],
   "source": [
    "def wilks_lambda(samples, labels):\n",
    "    if isinstance(samples, pd.Series):\n",
    "        samples = samples.to_frame()\n",
    "    dT = np.linalg.det(scatter_matrix(samples)) # расчет определителя матрицы рассеяния\n",
    "    dE = np.linalg.det(classes_scatter_matrix(samples, labels)) # расчет определителя матрицы классового рассеяния\n",
    "    return dE / dT # их частное и есть Лямбда Уилкса"
   ]
  },
  {
   "cell_type": "markdown",
   "metadata": {},
   "source": [
    "Зададим функцию расчета f value и p value :\n",
    "- lmbda - Лямбда Уилкса\n",
    "- n_obs - кол-во объектов\n",
    "- n_var - кол-во признаков\n",
    "- n_cls - кол-во классов"
   ]
  },
  {
   "cell_type": "code",
   "execution_count": 29,
   "metadata": {},
   "outputs": [],
   "source": [
    "def f_value_wilks_lambda(lmbda, n_obs, n_var, n_cls):\n",
    "    num = (1 - lmbda) * (n_obs - n_cls - n_var)\n",
    "    den = lmbda * (n_cls - 1)\n",
    "    f_value = num / den #значение статистики Фишера\n",
    "    # f.sf считает p value для определенного значения статистики Фишера и заданных степеней свободы\n",
    "    p_value = f.sf(f_value, n_cls - 1, n_obs - n_cls - n_var) \n",
    "    return f_value, p_value"
   ]
  },
  {
   "cell_type": "markdown",
   "metadata": {},
   "source": [
    "sda - функция для проведения пошагового дискриминантного анализа:\n",
    " - samples - набор объектов\n",
    " - labels - названия классов\n",
    " - F_in=1e-4 - установленное нами значение F_to_Enter\n",
    "Функция выводит для каждого шага переменные в модели(into) и вне модели(out) и их характеристики."
   ]
  },
  {
   "cell_type": "code",
   "execution_count": 30,
   "metadata": {},
   "outputs": [],
   "source": [
    "def sda(samples, labels, F_in = 28.25):\n",
    "    stat_columns = [\"Wilk's lambda\", \"Partial lambda\", \"F to enter\", \"p-value\"]\n",
    "    n_cls = labels.unique().size # количество классов\n",
    "    n_obs = samples.shape[0] # количество объектов\n",
    "    \n",
    "    # словари для вывода переменных в модели и вне модели на каждом шаге\n",
    "    out = {0: pd.DataFrame(columns=stat_columns, index=samples.columns, dtype=float)} \n",
    "    into = {0: pd.DataFrame(columns=stat_columns, dtype=float)}\n",
    "    \n",
    "    step = 0\n",
    "    while True:\n",
    "        model_lambda = wilks_lambda(samples[into[step].index], labels) #посчитали Лямбду Уилкса для модели на данном шаге\n",
    "        \n",
    "        for x in out[step].index: # проходим по переменным вне модели на данном шаге\n",
    "        # далее рассчитываем характеристики для данных переменных и записываем их в таблицу    \n",
    "            lmbda = wilks_lambda(samples[into[step].index.tolist() + [x]], labels) \n",
    "            partial_lambda = lmbda / model_lambda\n",
    "            f_lambda, p_value = f_value_wilks_lambda(partial_lambda, n_obs, into[step].index.size, n_cls)\n",
    "            out[step].loc[x] = lmbda, partial_lambda, f_lambda, p_value \n",
    "            \n",
    "        for x in into[step].index: # проходим по переменным в модели на данном шаге\n",
    "        # далее рассчитываем характеристики для данных переменных и записываем их в таблицу  \n",
    "            lmbda = wilks_lambda(samples[into[step].index.drop(x)], labels)\n",
    "            partial_lambda = model_lambda / lmbda\n",
    "            f_lambda, p_value = f_value_wilks_lambda(partial_lambda, n_obs, into[step].index.size - 1, n_cls)\n",
    "            into[step].loc[x] = lmbda, partial_lambda, f_lambda, p_value\n",
    "            \n",
    "        # критерий для остановки цикла \n",
    "        # если вне модели нет переменных ИЛИ новая переменная обладает f_to_enter меньше порогового значения, цикл остановлен\n",
    "        if out[step].index.size == 0 or out[step][\"F to enter\"].max() < F_in:\n",
    "            break\n",
    "        \n",
    "        # ищем элемент с max f_to_enter\n",
    "        x_to_enter = out[step][\"F to enter\"].idxmax()\n",
    "        # переносим его из элементов \"вне модели\" в элементы \"в модели\"\n",
    "        into[step + 1] = into[step].append(out[step].loc[x_to_enter])\n",
    "        out[step + 1] = out[step].drop(index=x_to_enter)\n",
    "        \n",
    "        step += 1 # переходим к следующему шагу\n",
    "        \n",
    "    return into, out "
   ]
  },
  {
   "cell_type": "markdown",
   "metadata": {},
   "source": [
    "Вызываем результаты работы заданной выше функции:"
   ]
  },
  {
   "cell_type": "code",
   "execution_count": 31,
   "metadata": {},
   "outputs": [],
   "source": [
    "into, out = sda(train_data[FEATURES], train_data.Class, 2.2)"
   ]
  },
  {
   "cell_type": "markdown",
   "metadata": {},
   "source": [
    "Выводим результаты работы для переменных \"в модели\" на экран:"
   ]
  },
  {
   "cell_type": "code",
   "execution_count": 32,
   "metadata": {},
   "outputs": [
    {
     "name": "stdout",
     "output_type": "stream",
     "text": [
      "Step  0\n",
      "Empty DataFrame\n",
      "Columns: [Wilk's lambda, Partial lambda, F to enter, p-value]\n",
      "Index: []\n",
      "\n",
      "Step  1\n",
      "    Wilk's lambda  Partial lambda  F to enter       p-value\n",
      "x1            1.0        0.162138      77.514  2.596437e-07\n",
      "\n",
      "Step  2\n",
      "    Wilk's lambda  Partial lambda  F to enter   p-value\n",
      "x1       0.596486        0.201810   55.372153  0.000003\n",
      "x5       0.162138        0.742437    4.856828  0.044778\n",
      "\n"
     ]
    }
   ],
   "source": [
    "for i, t in into.items():\n",
    "    print(\"Step \", i)\n",
    "    print(t, end=\"\\n\\n\")"
   ]
  },
  {
   "cell_type": "markdown",
   "metadata": {},
   "source": [
    "Выводим результаты работы для переменных \"вне модели\" на экран:"
   ]
  },
  {
   "cell_type": "code",
   "execution_count": 33,
   "metadata": {},
   "outputs": [
    {
     "name": "stdout",
     "output_type": "stream",
     "text": [
      "Step  0\n",
      "    Wilk's lambda  Partial lambda  F to enter       p-value\n",
      "x1       0.162138        0.162138   77.514000  2.596437e-07\n",
      "x2       0.957084        0.957084    0.672609  4.249847e-01\n",
      "x3       0.862149        0.862149    2.398376  1.422985e-01\n",
      "x4       0.681070        0.681070    7.024179  1.817985e-02\n",
      "x5       0.596486        0.596486   10.147275  6.143791e-03\n",
      "\n",
      "Step  1\n",
      "    Wilk's lambda  Partial lambda  F to enter   p-value\n",
      "x2       0.157597        0.971994    0.403387  0.535588\n",
      "x3       0.153109        0.944317    0.825523  0.378946\n",
      "x4       0.149852        0.924226    1.147816  0.302129\n",
      "x5       0.120377        0.742437    4.856828  0.044778\n",
      "\n",
      "Step  2\n",
      "    Wilk's lambda  Partial lambda  F to enter   p-value\n",
      "x2       0.120299        0.999350    0.008460  0.928119\n",
      "x3       0.118606        0.985290    0.194079  0.666780\n",
      "x4       0.116889        0.971027    0.387885  0.544184\n",
      "\n"
     ]
    }
   ],
   "source": [
    "for i, t in out.items():\n",
    "    print(\"Step \", i)\n",
    "    print(t, end=\"\\n\\n\")"
   ]
  },
  {
   "cell_type": "markdown",
   "metadata": {},
   "source": [
    "Выводим названия признаков в модели:"
   ]
  },
  {
   "cell_type": "code",
   "execution_count": 34,
   "metadata": {},
   "outputs": [
    {
     "data": {
      "text/plain": [
       "['x1', 'x5']"
      ]
     },
     "execution_count": 34,
     "metadata": {},
     "output_type": "execute_result"
    }
   ],
   "source": [
    "stepwise_features = into[len(into) - 1].index.tolist()\n",
    "stepwise_features"
   ]
  },
  {
   "cell_type": "markdown",
   "metadata": {},
   "source": [
    "Проводим дискриминантный анализ для отобранных признаков."
   ]
  },
  {
   "cell_type": "code",
   "execution_count": 35,
   "metadata": {},
   "outputs": [],
   "source": [
    "stepwise_lda = LinearDiscriminantAnalysis().fit(train_data[stepwise_features], train_data.Class)"
   ]
  },
  {
   "cell_type": "markdown",
   "metadata": {},
   "source": [
    " Выводим коэффициенты функции Фишера на экран."
   ]
  },
  {
   "cell_type": "code",
   "execution_count": 36,
   "metadata": {},
   "outputs": [
    {
     "data": {
      "text/html": [
       "<div>\n",
       "<style scoped>\n",
       "    .dataframe tbody tr th:only-of-type {\n",
       "        vertical-align: middle;\n",
       "    }\n",
       "\n",
       "    .dataframe tbody tr th {\n",
       "        vertical-align: top;\n",
       "    }\n",
       "\n",
       "    .dataframe thead th {\n",
       "        text-align: right;\n",
       "    }\n",
       "</style>\n",
       "<table border=\"1\" class=\"dataframe\">\n",
       "  <thead>\n",
       "    <tr style=\"text-align: right;\">\n",
       "      <th></th>\n",
       "      <th>Discriminant F</th>\n",
       "    </tr>\n",
       "  </thead>\n",
       "  <tbody>\n",
       "    <tr>\n",
       "      <th>Intercept</th>\n",
       "      <td>56.181422</td>\n",
       "    </tr>\n",
       "    <tr>\n",
       "      <th>x1</th>\n",
       "      <td>-5.686571</td>\n",
       "    </tr>\n",
       "    <tr>\n",
       "      <th>x5</th>\n",
       "      <td>-7.059549</td>\n",
       "    </tr>\n",
       "  </tbody>\n",
       "</table>\n",
       "</div>"
      ],
      "text/plain": [
       "           Discriminant F\n",
       "Intercept       56.181422\n",
       "x1              -5.686571\n",
       "x5              -7.059549"
      ]
     },
     "execution_count": 36,
     "metadata": {},
     "output_type": "execute_result"
    }
   ],
   "source": [
    "stepwise_df_coef = get_df_coef(stepwise_lda, stepwise_features)\n",
    "stepwise_df_coef"
   ]
  },
  {
   "cell_type": "markdown",
   "metadata": {},
   "source": [
    "Пполучим полную картину классификации всех объектов."
   ]
  },
  {
   "cell_type": "code",
   "execution_count": 37,
   "metadata": {},
   "outputs": [
    {
     "name": "stdout",
     "output_type": "stream",
     "text": [
      "    Class\n",
      "1       1\n",
      "2       1\n",
      "3       1\n",
      "4       1\n",
      "5       1\n",
      "6       1\n",
      "7       1\n",
      "8       1\n",
      "9       2\n",
      "10      2\n",
      "11      2\n",
      "12      2\n",
      "13      2\n",
      "14      2\n",
      "15      2\n",
      "16      2\n",
      "17      2\n",
      "18      1\n",
      "19      1\n",
      "20      1\n",
      "21      2\n",
      "22      1\n",
      "23      2\n",
      "24      1\n",
      "25      1\n",
      "26      2\n",
      "27      2\n",
      "28      2\n",
      "29      1\n",
      "30      1\n",
      "31      2\n",
      "32      2\n",
      "33      1\n",
      "34      2\n",
      "35      1\n",
      "36      2\n",
      "37      1\n",
      "38      1\n",
      "39      1\n",
      "40      1\n",
      "41      2\n",
      "42      2\n",
      "43      1\n",
      "44      2\n",
      "45      2\n",
      "46      2\n",
      "47      2\n",
      "48      2\n",
      "49      2\n",
      "50      2\n",
      "51      2\n",
      "52      1\n",
      "53      1\n"
     ]
    }
   ],
   "source": [
    "stepwise_lda_predict = LDA_predict(stepwise_lda, data[stepwise_features])\n",
    "stepwise_lda_predict.head()\n",
    "print(stepwise_lda_predict)"
   ]
  },
  {
   "cell_type": "markdown",
   "metadata": {},
   "source": [
    "Запишем результаты классификации в переменную."
   ]
  },
  {
   "cell_type": "code",
   "execution_count": 38,
   "metadata": {},
   "outputs": [],
   "source": [
    "data_to_excel[\"Results stepwise lda\"] = stepwise_lda_predict"
   ]
  },
  {
   "cell_type": "code",
   "execution_count": 39,
   "metadata": {},
   "outputs": [
    {
     "name": "stdout",
     "output_type": "stream",
     "text": [
      "           1         2\n",
      "1    1.84464   15.0342\n",
      "2    2.56281   14.9993\n",
      "3    6.32449    50.798\n",
      "4    1.01713   34.6589\n",
      "5   0.436767   21.1447\n",
      "6   0.127882   23.5025\n",
      "7    4.01387   11.7251\n",
      "8   0.841951   18.6517\n",
      "9    21.8624   3.52913\n",
      "10   17.1269   5.26464\n",
      "11   18.2204   4.03637\n",
      "12   36.7152  0.956813\n",
      "13   15.9859    3.4332\n",
      "14   25.6782  0.681015\n",
      "15   63.0611    8.3485\n",
      "16   15.3043   1.91576\n",
      "17    12.896   2.72761\n",
      "18   5.13135   7.96357\n",
      "19   6.60247   6.46189\n",
      "20   2.34349   20.2633\n",
      "21   18.9915  0.547995\n",
      "22   6.26496   6.68525\n",
      "23    42.948    2.7303\n",
      "24    1.5813   28.0231\n",
      "25   13.5101   70.0391\n",
      "26   16.7435   1.32379\n",
      "27   28.3311  0.522468\n",
      "28   30.4599   2.92606\n",
      "29   4.44168   42.7942\n",
      "30   4.49805   9.41289\n",
      "31   55.1356   7.27112\n",
      "32   15.2813   8.14884\n",
      "33   3.37016   24.6148\n",
      "34    9.3689   4.10652\n",
      "35   3.69723    10.608\n",
      "36   15.7446   1.25415\n",
      "37   3.67348   32.6754\n",
      "38   4.83917   11.2046\n",
      "39   16.2824   67.1441\n",
      "40   4.96097    12.899\n",
      "41   19.3684  0.477713\n",
      "42   16.7379   1.26331\n",
      "43  0.499987   23.6983\n",
      "44   9.83568   5.55795\n",
      "45   34.8414  0.769508\n",
      "46   26.3453   1.83502\n",
      "47   26.3535   2.03941\n",
      "48   18.1778  0.914788\n",
      "49   17.2161   1.58854\n",
      "50   48.5085   4.77355\n",
      "51   34.9124   1.16617\n",
      "52    85.709   197.735\n",
      "53   2.10709     34.58\n"
     ]
    }
   ],
   "source": [
    "stepwise_cov = classes_scatter_matrix(train_data[stepwise_features], train_data.Class) \\\n",
    "    / (train_data.shape[0] - train_data.Class.unique().size)\n",
    "\n",
    "stepwise_means = pd.DataFrame(stepwise_lda.means_, index=stepwise_lda.classes_, columns=stepwise_features)\n",
    "\n",
    "stepwise_samp_dist = calc_mahalanobis_square_dist(stepwise_means, data[stepwise_features], stepwise_cov)\n",
    "stepwise_samp_dist.head()\n",
    "print(stepwise_samp_dist)"
   ]
  },
  {
   "cell_type": "code",
   "execution_count": 40,
   "metadata": {},
   "outputs": [],
   "source": [
    "data_to_excel = pd.concat([data_to_excel, stepwise_samp_dist.add_prefix(\"stepwise lda mahalanobis \")], axis=1)"
   ]
  },
  {
   "cell_type": "code",
   "execution_count": 41,
   "metadata": {},
   "outputs": [
    {
     "name": "stdout",
     "output_type": "stream",
     "text": [
      "               1             2\n",
      "1   9.987859e-01  1.214063e-03\n",
      "2   9.982318e-01  1.768199e-03\n",
      "3   1.000000e+00  1.956820e-10\n",
      "4   1.000000e+00  4.401823e-08\n",
      "5   9.999717e-01  2.832461e-05\n",
      "6   9.999925e-01  7.466536e-06\n",
      "7   9.815376e-01  1.846239e-02\n",
      "8   9.998794e-01  1.206315e-04\n",
      "9   1.175109e-04  9.998825e-01\n",
      "10  2.978487e-03  9.970215e-01\n",
      "11  9.348050e-04  9.990652e-01\n",
      "12  1.933382e-08  1.000000e+00\n",
      "13  2.110857e-03  9.978891e-01\n",
      "14  4.198465e-06  9.999958e-01\n",
      "15  1.480593e-12  1.000000e+00\n",
      "16  1.390794e-03  9.986092e-01\n",
      "17  6.919842e-03  9.930802e-01\n",
      "18  8.225755e-01  1.774245e-01\n",
      "19  5.118719e-01  4.881281e-01\n",
      "20  9.998858e-01  1.141741e-04\n",
      "21  1.112089e-04  9.998888e-01\n",
      "22  5.812561e-01  4.187439e-01\n",
      "23  2.079664e-09  1.000000e+00\n",
      "24  9.999984e-01  1.610915e-06\n",
      "25  1.000000e+00  4.717652e-13\n",
      "26  5.041777e-04  9.994958e-01\n",
      "27  1.029387e-06  9.999990e-01\n",
      "28  1.181004e-06  9.999988e-01\n",
      "29  1.000000e+00  4.175493e-09\n",
      "30  9.292486e-01  7.075137e-02\n",
      "31  4.544676e-11  1.000000e+00\n",
      "32  3.081482e-02  9.691852e-01\n",
      "33  9.999783e-01  2.165847e-05\n",
      "34  7.492365e-02  9.250764e-01\n",
      "35  9.726995e-01  2.730049e-02\n",
      "36  8.021448e-04  9.991979e-01\n",
      "37  9.999996e-01  4.478784e-07\n",
      "38  9.644467e-01  3.555330e-02\n",
      "39  1.000000e+00  8.023561e-12\n",
      "40  9.834845e-01  1.651546e-02\n",
      "41  8.893120e-05  9.999111e-01\n",
      "42  4.905282e-04  9.995095e-01\n",
      "43  9.999918e-01  8.154299e-06\n",
      "44  1.170072e-01  8.829928e-01\n",
      "45  4.493013e-08  1.000000e+00\n",
      "46  5.355735e-06  9.999946e-01\n",
      "47  5.907499e-06  9.999941e-01\n",
      "48  2.006572e-04  9.997993e-01\n",
      "49  4.544481e-04  9.995456e-01\n",
      "50  3.582852e-10  1.000000e+00\n",
      "51  5.287441e-08  9.999999e-01\n",
      "52  1.000000e+00  4.194668e-25\n",
      "53  9.999999e-01  7.896787e-08\n"
     ]
    }
   ],
   "source": [
    "stepwise_lda_post_prob = LDA_predict_proba(stepwise_lda, data[stepwise_features])\n",
    "stepwise_lda_post_prob.head()\n",
    "print(stepwise_lda_post_prob)"
   ]
  },
  {
   "cell_type": "code",
   "execution_count": 42,
   "metadata": {},
   "outputs": [
    {
     "data": {
      "text/html": [
       "<div>\n",
       "<style scoped>\n",
       "    .dataframe tbody tr th:only-of-type {\n",
       "        vertical-align: middle;\n",
       "    }\n",
       "\n",
       "    .dataframe tbody tr th {\n",
       "        vertical-align: top;\n",
       "    }\n",
       "\n",
       "    .dataframe thead th {\n",
       "        text-align: right;\n",
       "    }\n",
       "</style>\n",
       "<table border=\"1\" class=\"dataframe\">\n",
       "  <thead>\n",
       "    <tr style=\"text-align: right;\">\n",
       "      <th></th>\n",
       "      <th>x1</th>\n",
       "      <th>x2</th>\n",
       "      <th>x3</th>\n",
       "      <th>x4</th>\n",
       "      <th>x5</th>\n",
       "      <th>Train sample</th>\n",
       "      <th>Results lda</th>\n",
       "      <th>lda mahalanobis 1</th>\n",
       "      <th>lda mahalanobis 2</th>\n",
       "      <th>lda post prob 1</th>\n",
       "      <th>lda post prob 2</th>\n",
       "      <th>Results stepwise lda</th>\n",
       "      <th>stepwise lda mahalanobis 1</th>\n",
       "      <th>stepwise lda mahalanobis 2</th>\n",
       "      <th>stepwise lda post prob 1</th>\n",
       "      <th>stepwise lda post prob 2</th>\n",
       "    </tr>\n",
       "  </thead>\n",
       "  <tbody>\n",
       "    <tr>\n",
       "      <th>1</th>\n",
       "      <td>9.26</td>\n",
       "      <td>0.78</td>\n",
       "      <td>1.37</td>\n",
       "      <td>0.23</td>\n",
       "      <td>1.45</td>\n",
       "      <td>1.0</td>\n",
       "      <td>1</td>\n",
       "      <td>4.45332</td>\n",
       "      <td>19.1095</td>\n",
       "      <td>0.999417</td>\n",
       "      <td>5.834948e-04</td>\n",
       "      <td>1</td>\n",
       "      <td>1.84464</td>\n",
       "      <td>15.0342</td>\n",
       "      <td>0.998786</td>\n",
       "      <td>1.214063e-03</td>\n",
       "    </tr>\n",
       "    <tr>\n",
       "      <th>2</th>\n",
       "      <td>9.38</td>\n",
       "      <td>0.75</td>\n",
       "      <td>1.49</td>\n",
       "      <td>0.39</td>\n",
       "      <td>1.30</td>\n",
       "      <td>1.0</td>\n",
       "      <td>1</td>\n",
       "      <td>5.15273</td>\n",
       "      <td>16.82</td>\n",
       "      <td>0.997405</td>\n",
       "      <td>2.595412e-03</td>\n",
       "      <td>1</td>\n",
       "      <td>2.56281</td>\n",
       "      <td>14.9993</td>\n",
       "      <td>0.998232</td>\n",
       "      <td>1.768199e-03</td>\n",
       "    </tr>\n",
       "    <tr>\n",
       "      <th>3</th>\n",
       "      <td>12.11</td>\n",
       "      <td>0.68</td>\n",
       "      <td>1.44</td>\n",
       "      <td>0.43</td>\n",
       "      <td>1.37</td>\n",
       "      <td>1.0</td>\n",
       "      <td>1</td>\n",
       "      <td>7.21173</td>\n",
       "      <td>51.9896</td>\n",
       "      <td>1.000000</td>\n",
       "      <td>1.680547e-10</td>\n",
       "      <td>1</td>\n",
       "      <td>6.32449</td>\n",
       "      <td>50.798</td>\n",
       "      <td>1.000000</td>\n",
       "      <td>1.956820e-10</td>\n",
       "    </tr>\n",
       "    <tr>\n",
       "      <th>4</th>\n",
       "      <td>10.81</td>\n",
       "      <td>0.70</td>\n",
       "      <td>1.42</td>\n",
       "      <td>0.18</td>\n",
       "      <td>1.65</td>\n",
       "      <td>1.0</td>\n",
       "      <td>1</td>\n",
       "      <td>3.17193</td>\n",
       "      <td>38.2459</td>\n",
       "      <td>1.000000</td>\n",
       "      <td>2.150997e-08</td>\n",
       "      <td>1</td>\n",
       "      <td>1.01713</td>\n",
       "      <td>34.6589</td>\n",
       "      <td>1.000000</td>\n",
       "      <td>4.401823e-08</td>\n",
       "    </tr>\n",
       "    <tr>\n",
       "      <th>5</th>\n",
       "      <td>9.35</td>\n",
       "      <td>0.62</td>\n",
       "      <td>1.35</td>\n",
       "      <td>0.15</td>\n",
       "      <td>1.91</td>\n",
       "      <td>NaN</td>\n",
       "      <td>1</td>\n",
       "      <td>28.2178</td>\n",
       "      <td>50.1621</td>\n",
       "      <td>0.999985</td>\n",
       "      <td>1.526481e-05</td>\n",
       "      <td>1</td>\n",
       "      <td>0.436767</td>\n",
       "      <td>21.1447</td>\n",
       "      <td>0.999972</td>\n",
       "      <td>2.832461e-05</td>\n",
       "    </tr>\n",
       "  </tbody>\n",
       "</table>\n",
       "</div>"
      ],
      "text/plain": [
       "      x1    x2    x3    x4    x5  Train sample  Results lda lda mahalanobis 1  \\\n",
       "1   9.26  0.78  1.37  0.23  1.45           1.0            1           4.45332   \n",
       "2   9.38  0.75  1.49  0.39  1.30           1.0            1           5.15273   \n",
       "3  12.11  0.68  1.44  0.43  1.37           1.0            1           7.21173   \n",
       "4  10.81  0.70  1.42  0.18  1.65           1.0            1           3.17193   \n",
       "5   9.35  0.62  1.35  0.15  1.91           NaN            1           28.2178   \n",
       "\n",
       "  lda mahalanobis 2  lda post prob 1  lda post prob 2  Results stepwise lda  \\\n",
       "1           19.1095         0.999417     5.834948e-04                     1   \n",
       "2             16.82         0.997405     2.595412e-03                     1   \n",
       "3           51.9896         1.000000     1.680547e-10                     1   \n",
       "4           38.2459         1.000000     2.150997e-08                     1   \n",
       "5           50.1621         0.999985     1.526481e-05                     1   \n",
       "\n",
       "  stepwise lda mahalanobis 1 stepwise lda mahalanobis 2  \\\n",
       "1                    1.84464                    15.0342   \n",
       "2                    2.56281                    14.9993   \n",
       "3                    6.32449                     50.798   \n",
       "4                    1.01713                    34.6589   \n",
       "5                   0.436767                    21.1447   \n",
       "\n",
       "   stepwise lda post prob 1  stepwise lda post prob 2  \n",
       "1                  0.998786              1.214063e-03  \n",
       "2                  0.998232              1.768199e-03  \n",
       "3                  1.000000              1.956820e-10  \n",
       "4                  1.000000              4.401823e-08  \n",
       "5                  0.999972              2.832461e-05  "
      ]
     },
     "execution_count": 42,
     "metadata": {},
     "output_type": "execute_result"
    }
   ],
   "source": [
    "data_to_excel = pd.concat([data_to_excel, stepwise_lda_post_prob.add_prefix(\"stepwise lda post prob \")], axis=1)\n",
    "data_to_excel.head()"
   ]
  },
  {
   "cell_type": "markdown",
   "metadata": {},
   "source": [
    "Записываем результаты проведенной работы в файл."
   ]
  },
  {
   "cell_type": "code",
   "execution_count": 43,
   "metadata": {},
   "outputs": [],
   "source": [
    "data_to_excel.to_excel(\"C:\\Games\\Ekonometrika\\data_for_lab2_part1_2.xlsx\")"
   ]
  },
  {
   "cell_type": "code",
   "execution_count": null,
   "metadata": {},
   "outputs": [],
   "source": []
  }
 ],
 "metadata": {
  "kernelspec": {
   "display_name": "Python 3",
   "language": "python",
   "name": "python3"
  },
  "language_info": {
   "codemirror_mode": {
    "name": "ipython",
    "version": 3
   },
   "file_extension": ".py",
   "mimetype": "text/x-python",
   "name": "python",
   "nbconvert_exporter": "python",
   "pygments_lexer": "ipython3",
   "version": "3.7.0"
  }
 },
 "nbformat": 4,
 "nbformat_minor": 2
}
