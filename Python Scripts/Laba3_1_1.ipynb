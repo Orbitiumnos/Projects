{
 "cells": [
  {
   "cell_type": "markdown",
   "metadata": {},
   "source": [
    "# Лабораторная №3. Снижение размерности признакового пространства методом главных компонент."
   ]
  },
  {
   "cell_type": "markdown",
   "metadata": {},
   "source": [
    "## 1. Обработка данных\n",
    "Импортируем необходимые библиотеки"
   ]
  },
  {
   "cell_type": "code",
   "execution_count": 1,
   "metadata": {},
   "outputs": [],
   "source": [
    "import pandas as pd\n",
    "import numpy as np\n",
    "import matplotlib.pyplot as plt\n",
    "import seaborn as sns\n",
    "import scipy.stats as ss\n",
    "\n",
    "#%matplotlib inline # авто вывод графиков (отпадает необходимость писать plt.show())"
   ]
  },
  {
   "cell_type": "markdown",
   "metadata": {},
   "source": [
    " Указываем названия выбранных признаков"
   ]
  },
  {
   "cell_type": "code",
   "execution_count": 2,
   "metadata": {},
   "outputs": [],
   "source": [
    "features =[\"X6\", \"X16\", \"X26\", \"X31\", \"X39\"] \n",
    "#в переменную f_len записываем кол-во признаков x1 , x2 , x3 , x4 , x5\n",
    "f_len = len(features) "
   ]
  },
  {
   "cell_type": "markdown",
   "metadata": {},
   "source": [
    "X1 - удельный вес население в трудостпособном возрасте (%);\n",
    "<br>\n",
    "X13 - обеспеченность населения врачами (на 10000 человек);\n",
    "<br>\n",
    "X23 - площадь жилищ, приходящаяся в среднем на одного жителя (кв.м.);\n",
    "<br>\n",
    "X41 - число предприятий обрабатывающего производства;\n",
    "<br>\n",
    "X48 - объем платных услуг на душу населения (рублей).\n"
   ]
  },
  {
   "cell_type": "markdown",
   "metadata": {},
   "source": [
    "Считываем данные"
   ]
  },
  {
   "cell_type": "code",
   "execution_count": 3,
   "metadata": {},
   "outputs": [
    {
     "data": {
      "text/html": [
       "<div>\n",
       "<style scoped>\n",
       "    .dataframe tbody tr th:only-of-type {\n",
       "        vertical-align: middle;\n",
       "    }\n",
       "\n",
       "    .dataframe tbody tr th {\n",
       "        vertical-align: top;\n",
       "    }\n",
       "\n",
       "    .dataframe thead th {\n",
       "        text-align: right;\n",
       "    }\n",
       "</style>\n",
       "<table border=\"1\" class=\"dataframe\">\n",
       "  <thead>\n",
       "    <tr style=\"text-align: right;\">\n",
       "      <th></th>\n",
       "      <th></th>\n",
       "      <th>X6</th>\n",
       "      <th>X16</th>\n",
       "      <th>X26</th>\n",
       "      <th>X31</th>\n",
       "      <th>X39</th>\n",
       "    </tr>\n",
       "  </thead>\n",
       "  <tbody>\n",
       "    <tr>\n",
       "      <th rowspan=\"5\" valign=\"top\">NaN</th>\n",
       "      <th>Абдулинский</th>\n",
       "      <td>53.69</td>\n",
       "      <td>93.1</td>\n",
       "      <td>42.3</td>\n",
       "      <td>33.9</td>\n",
       "      <td>0.2</td>\n",
       "    </tr>\n",
       "    <tr>\n",
       "      <th>Адамовский</th>\n",
       "      <td>62.31</td>\n",
       "      <td>23.4</td>\n",
       "      <td>63.6</td>\n",
       "      <td>16.7</td>\n",
       "      <td>3.6</td>\n",
       "    </tr>\n",
       "    <tr>\n",
       "      <th>Акбулакский</th>\n",
       "      <td>62.71</td>\n",
       "      <td>23.6</td>\n",
       "      <td>43.7</td>\n",
       "      <td>16.8</td>\n",
       "      <td>3.9</td>\n",
       "    </tr>\n",
       "    <tr>\n",
       "      <th>Александровский</th>\n",
       "      <td>61.69</td>\n",
       "      <td>46.7</td>\n",
       "      <td>41.5</td>\n",
       "      <td>10.4</td>\n",
       "      <td>4.2</td>\n",
       "    </tr>\n",
       "    <tr>\n",
       "      <th>Асекеевский</th>\n",
       "      <td>59.44</td>\n",
       "      <td>44.0</td>\n",
       "      <td>79.3</td>\n",
       "      <td>26.4</td>\n",
       "      <td>4.1</td>\n",
       "    </tr>\n",
       "  </tbody>\n",
       "</table>\n",
       "</div>"
      ],
      "text/plain": [
       "                        X6   X16   X26   X31  X39\n",
       "NaN Абдулинский      53.69  93.1  42.3  33.9  0.2\n",
       "    Адамовский       62.31  23.4  63.6  16.7  3.6\n",
       "    Акбулакский      62.71  23.6  43.7  16.8  3.9\n",
       "    Александровский  61.69  46.7  41.5  10.4  4.2\n",
       "    Асекеевский      59.44  44.0  79.3  26.4  4.1"
      ]
     },
     "execution_count": 3,
     "metadata": {},
     "output_type": "execute_result"
    }
   ],
   "source": [
    "data = pd.read_excel(r'C:\\Games\\Ekonometrika\\data_for_3_and_4.xlsx').loc[:,features]\n",
    "data.head()"
   ]
  },
  {
   "cell_type": "markdown",
   "metadata": {},
   "source": [
    "Поскольку исходные признаки отличаются масштабом измерения, то будем рассматривать вектор центрировано-нормированных признаков x* = (x1*, x2*,…, xk*)T и на основе исходной матрицы данных X рассчитаем оценку корреляционной матрицы 𝑅̂𝑥. \n",
    "\n",
    "Объекты, для которых значения хотя бы одного признака отсутствуют, исключены из рассмотрения. \n",
    "\n",
    "Также, для последующей работы, создадим dataframe на основании полученных данных"
   ]
  },
  {
   "cell_type": "code",
   "execution_count": 4,
   "metadata": {},
   "outputs": [
    {
     "data": {
      "text/html": [
       "<div>\n",
       "<style scoped>\n",
       "    .dataframe tbody tr th:only-of-type {\n",
       "        vertical-align: middle;\n",
       "    }\n",
       "\n",
       "    .dataframe tbody tr th {\n",
       "        vertical-align: top;\n",
       "    }\n",
       "\n",
       "    .dataframe thead th {\n",
       "        text-align: right;\n",
       "    }\n",
       "</style>\n",
       "<table border=\"1\" class=\"dataframe\">\n",
       "  <thead>\n",
       "    <tr style=\"text-align: right;\">\n",
       "      <th></th>\n",
       "      <th></th>\n",
       "      <th>X6</th>\n",
       "      <th>X16</th>\n",
       "      <th>X26</th>\n",
       "      <th>X31</th>\n",
       "      <th>X39</th>\n",
       "    </tr>\n",
       "  </thead>\n",
       "  <tbody>\n",
       "    <tr>\n",
       "      <th rowspan=\"5\" valign=\"top\">NaN</th>\n",
       "      <th>Абдулинский</th>\n",
       "      <td>-2.579260</td>\n",
       "      <td>2.914943</td>\n",
       "      <td>-0.481479</td>\n",
       "      <td>1.817417</td>\n",
       "      <td>-2.376303</td>\n",
       "    </tr>\n",
       "    <tr>\n",
       "      <th>Адамовский</th>\n",
       "      <td>0.247940</td>\n",
       "      <td>-1.084664</td>\n",
       "      <td>0.568420</td>\n",
       "      <td>-0.153341</td>\n",
       "      <td>-0.542729</td>\n",
       "    </tr>\n",
       "    <tr>\n",
       "      <th>Акбулакский</th>\n",
       "      <td>0.379133</td>\n",
       "      <td>-1.073188</td>\n",
       "      <td>-0.412472</td>\n",
       "      <td>-0.141883</td>\n",
       "      <td>-0.380943</td>\n",
       "    </tr>\n",
       "    <tr>\n",
       "      <th>Александровский</th>\n",
       "      <td>0.044592</td>\n",
       "      <td>0.252364</td>\n",
       "      <td>-0.520912</td>\n",
       "      <td>-0.875188</td>\n",
       "      <td>-0.219157</td>\n",
       "    </tr>\n",
       "    <tr>\n",
       "      <th>Асекеевский</th>\n",
       "      <td>-0.693367</td>\n",
       "      <td>0.097429</td>\n",
       "      <td>1.342290</td>\n",
       "      <td>0.958075</td>\n",
       "      <td>-0.273085</td>\n",
       "    </tr>\n",
       "  </tbody>\n",
       "</table>\n",
       "</div>"
      ],
      "text/plain": [
       "                           X6       X16       X26       X31       X39\n",
       "NaN Абдулинский     -2.579260  2.914943 -0.481479  1.817417 -2.376303\n",
       "    Адамовский       0.247940 -1.084664  0.568420 -0.153341 -0.542729\n",
       "    Акбулакский      0.379133 -1.073188 -0.412472 -0.141883 -0.380943\n",
       "    Александровский  0.044592  0.252364 -0.520912 -0.875188 -0.219157\n",
       "    Асекеевский     -0.693367  0.097429  1.342290  0.958075 -0.273085"
      ]
     },
     "execution_count": 4,
     "metadata": {},
     "output_type": "execute_result"
    }
   ],
   "source": [
    "data_cleared = data[data!='-'].dropna().astype('float64') # для которых нет значений, удаляем, потом центрируем и нормируем\n",
    "index = data_cleared.index #записываем в переменную index названия строк исходной матрицы\n",
    "columns = data_cleared.columns #записываем в переменную columns названия столбцов исходной матрицы\n",
    "\n",
    "scaled = (data_cleared - data_cleared.mean(axis=0))/data_cleared.std() #стандартизируем данные: вычитаем среднее и делим на стандартное отклонение\n",
    "\n",
    "#создаем датафрейм из scaled со столбцами columns и индексами index\n",
    "scaled_data = pd.DataFrame(scaled, columns=columns, index=index) \n",
    "\n",
    "scaled_data.head()"
   ]
  },
  {
   "cell_type": "markdown",
   "metadata": {},
   "source": [
    "Выведем оставшиеся в выборке объекты:"
   ]
  },
  {
   "cell_type": "code",
   "execution_count": 5,
   "metadata": {},
   "outputs": [
    {
     "name": "stdout",
     "output_type": "stream",
     "text": [
      "Было 47 объектов,стало 47\n"
     ]
    }
   ],
   "source": [
    "print('Было {} объектов,стало {}'.format(data.shape[0],scaled_data.shape[0]))"
   ]
  },
  {
   "cell_type": "markdown",
   "metadata": {},
   "source": [
    "### 2. Корреляционная матрица\n"
   ]
  },
  {
   "cell_type": "markdown",
   "metadata": {},
   "source": [
    "Для расчета коэффициентов корреляции между каждой парой признаков воспользуемся стандартным методом .corr"
   ]
  },
  {
   "cell_type": "code",
   "execution_count": 6,
   "metadata": {},
   "outputs": [
    {
     "data": {
      "text/html": [
       "<div>\n",
       "<style scoped>\n",
       "    .dataframe tbody tr th:only-of-type {\n",
       "        vertical-align: middle;\n",
       "    }\n",
       "\n",
       "    .dataframe tbody tr th {\n",
       "        vertical-align: top;\n",
       "    }\n",
       "\n",
       "    .dataframe thead th {\n",
       "        text-align: right;\n",
       "    }\n",
       "</style>\n",
       "<table border=\"1\" class=\"dataframe\">\n",
       "  <thead>\n",
       "    <tr style=\"text-align: right;\">\n",
       "      <th></th>\n",
       "      <th>X6</th>\n",
       "      <th>X16</th>\n",
       "      <th>X26</th>\n",
       "      <th>X31</th>\n",
       "      <th>X39</th>\n",
       "    </tr>\n",
       "  </thead>\n",
       "  <tbody>\n",
       "    <tr>\n",
       "      <th>X6</th>\n",
       "      <td>1.000000</td>\n",
       "      <td>-0.231259</td>\n",
       "      <td>-0.343271</td>\n",
       "      <td>-0.145015</td>\n",
       "      <td>0.481071</td>\n",
       "    </tr>\n",
       "    <tr>\n",
       "      <th>X16</th>\n",
       "      <td>-0.231259</td>\n",
       "      <td>1.000000</td>\n",
       "      <td>-0.030735</td>\n",
       "      <td>0.117998</td>\n",
       "      <td>-0.087174</td>\n",
       "    </tr>\n",
       "    <tr>\n",
       "      <th>X26</th>\n",
       "      <td>-0.343271</td>\n",
       "      <td>-0.030735</td>\n",
       "      <td>1.000000</td>\n",
       "      <td>0.149341</td>\n",
       "      <td>-0.148282</td>\n",
       "    </tr>\n",
       "    <tr>\n",
       "      <th>X31</th>\n",
       "      <td>-0.145015</td>\n",
       "      <td>0.117998</td>\n",
       "      <td>0.149341</td>\n",
       "      <td>1.000000</td>\n",
       "      <td>-0.153230</td>\n",
       "    </tr>\n",
       "    <tr>\n",
       "      <th>X39</th>\n",
       "      <td>0.481071</td>\n",
       "      <td>-0.087174</td>\n",
       "      <td>-0.148282</td>\n",
       "      <td>-0.153230</td>\n",
       "      <td>1.000000</td>\n",
       "    </tr>\n",
       "  </tbody>\n",
       "</table>\n",
       "</div>"
      ],
      "text/plain": [
       "           X6       X16       X26       X31       X39\n",
       "X6   1.000000 -0.231259 -0.343271 -0.145015  0.481071\n",
       "X16 -0.231259  1.000000 -0.030735  0.117998 -0.087174\n",
       "X26 -0.343271 -0.030735  1.000000  0.149341 -0.148282\n",
       "X31 -0.145015  0.117998  0.149341  1.000000 -0.153230\n",
       "X39  0.481071 -0.087174 -0.148282 -0.153230  1.000000"
      ]
     },
     "execution_count": 6,
     "metadata": {},
     "output_type": "execute_result"
    }
   ],
   "source": [
    "correlation = scaled_data.corr() #корреляционная матрица\n",
    "correlation"
   ]
  },
  {
   "cell_type": "markdown",
   "metadata": {},
   "source": [
    " Выведем корреляционную матрицу в более наглядном виде:"
   ]
  },
  {
   "cell_type": "code",
   "execution_count": 7,
   "metadata": {},
   "outputs": [
    {
     "data": {
      "image/png": "[encoded data removed]",
      "text/plain": [
       "<Figure size 432x648 with 2 Axes>"
      ]
     },
     "metadata": {
      "needs_background": "light"
     },
     "output_type": "display_data"
    }
   ],
   "source": [
    "plt.figure(figsize=(6,9))\n",
    "sns.heatmap(correlation, vmax=1, square=True,annot=True,cmap='Greens')\n",
    "plt.title('Correlation between different fearures')\n",
    "plt.show()"
   ]
  },
  {
   "cell_type": "markdown",
   "metadata": {},
   "source": [
    "###  Проверка гипотезы о незначимости корреляционной матрицы"
   ]
  },
  {
   "cell_type": "markdown",
   "metadata": {},
   "source": [
    "Далее согласно алгоритму, предполагая, что выборка извлечена из нормально распределенной генеральной совокупности, на уровне значимости α = 0,05 проверим гипотезу о незначимости корреляционной матрицы. \n",
    "$$H0: Rx = Е;$$\n",
    "$$H1: Rx ≠ E $$\n",
    "\n",
    "Для проверки гипотезы потребуются оценки собственных чисел корреляционной матрицы. Для воспользуемся встроенным методом np.linalg.eig"
   ]
  },
  {
   "cell_type": "code",
   "execution_count": 8,
   "metadata": {},
   "outputs": [],
   "source": [
    "#проверим гипотезу о незначимости корреляционной матрицы\n",
    "eigenvalues,eigenvectors=np.linalg.eig(correlation)#находим оценки собственных чисел и собственные векотры корреляционной матрицы\n",
    "couple_lst=[]\n",
    "for i in range(len(eigenvalues)): # список по убыванию сз с соответствующими св\n",
    "    couple_lst.append((eigenvalues[i],eigenvectors[:,i]))\n",
    "    \n",
    "from operator import itemgetter\n",
    "couple_lst = sorted(couple_lst, key = itemgetter(0),reverse=True)\n",
    "#значениями оценок собственных чисел (eigenvalues), расположенных по убыванию\n",
    "eigenvalues_sorted=sorted(eigenvalues,reverse=True)"
   ]
  },
  {
   "cell_type": "markdown",
   "metadata": {},
   "source": [
    " Для проверки гипотезы о незначимости матрицы   используется  критерий Уилкса.\n",
    "Наблюдаемое значение:\n",
    "$$ \\chi^2 = -(n - \\frac {2k+5}{6})ln|R_x| $$\n",
    "\n",
    "где |𝑅̂𝑥| - определитель матрицы 𝑅̂𝑥, равный произведению оценок собственных чисел матрицы;\n",
    "\n",
    "k – число факторов;\n",
    "\n",
    "n – объем выборки. \n",
    "\n",
    "Критические значения χкр1 и 2 χкр2 определяются из уравнений: \n",
    "\n",
    "$$ P(\\chi^2<\\chi^2_{кр1}) = \\frac {\\alpha}{2} $$\n",
    "$$ P(\\chi^2>\\chi^2_{кр2}) = \\frac {\\alpha}{2}  $$"
   ]
  },
  {
   "cell_type": "code",
   "execution_count": 9,
   "metadata": {},
   "outputs": [
    {
     "name": "stdout",
     "output_type": "stream",
     "text": [
      "Наблюдаемое значение составило 22.847808175196214\n",
      "Отвергаем гипотезу, матрица парных коэффициентов корреляции значима\n"
     ]
    }
   ],
   "source": [
    "import math\n",
    "from scipy.stats import chi2\n",
    "def chi_2(n,k,R):\n",
    "    return -(n-1/6*(2*k+5))*math.log(np.linalg.det(R), math.e)\n",
    "\n",
    "chi_2_crt=chi_2(data_cleared.shape[0],data_cleared.shape[1],correlation)\n",
    "print('Наблюдаемое значение составило',chi_2_crt)\n",
    "p_value=chi2.sf(chi_2_crt, data_cleared.shape[1]*(data_cleared.shape[1]-1)/2)\n",
    "if p_value>0.05:\n",
    "    print('Принимаем гипотезу, матрица парных коэффициентов корреляции незначима')\n",
    "else:\n",
    "    print('Отвергаем гипотезу, матрица парных коэффициентов корреляции значима')"
   ]
  },
  {
   "cell_type": "markdown",
   "metadata": {},
   "source": [
    "## 3. Доверительные интервалы"
   ]
  },
  {
   "cell_type": "markdown",
   "metadata": {},
   "source": [
    "\n",
    "С вероятностью γ = 0,95 построим доверительные интервалы для собственных чисел.\n",
    "Доверительный интервал для i-ого собственного числа λi при большом объеме выборки имеет вид:\n",
    "\n",
    "$$ \\frac {\\hat \\lambda_i}{1 +  u_{\\frac {1+\\gamma} {2}} \\sqrt {\\frac {2}{n-1}} } < \\lambda_i < \\frac {\\hat \\lambda_i}{1 -  u_{\\frac {1+\\gamma} {2}} \\sqrt {\\frac {2}{n-1}} } $$ \n",
    "\n",
    "где $ u_{\\frac {1+\\gamma} {2}} $ – квантиль уровня $ \\frac {1+\\gamma}{2} $ стандартного нормального распределения\n",
    "<br>\n",
    "n – объем выборки.\n",
    "\n",
    "Для нахождения квантилей нормального распределения используем метод ss.norm.ppf (scipy.stats.norm.ppf)"
   ]
  },
  {
   "cell_type": "code",
   "execution_count": 10,
   "metadata": {},
   "outputs": [
    {
     "data": {
      "text/html": [
       "<div>\n",
       "<style scoped>\n",
       "    .dataframe tbody tr th:only-of-type {\n",
       "        vertical-align: middle;\n",
       "    }\n",
       "\n",
       "    .dataframe tbody tr th {\n",
       "        vertical-align: top;\n",
       "    }\n",
       "\n",
       "    .dataframe thead th {\n",
       "        text-align: right;\n",
       "    }\n",
       "</style>\n",
       "<table border=\"1\" class=\"dataframe\">\n",
       "  <thead>\n",
       "    <tr style=\"text-align: right;\">\n",
       "      <th></th>\n",
       "      <th>Нижняя граница</th>\n",
       "      <th>Собственное значение</th>\n",
       "      <th>Верхняя граница</th>\n",
       "    </tr>\n",
       "  </thead>\n",
       "  <tbody>\n",
       "    <tr>\n",
       "      <th>0</th>\n",
       "      <td>1.286850</td>\n",
       "      <td>1.812762</td>\n",
       "      <td>3.065622</td>\n",
       "    </tr>\n",
       "    <tr>\n",
       "      <th>1</th>\n",
       "      <td>0.731851</td>\n",
       "      <td>1.030945</td>\n",
       "      <td>1.743466</td>\n",
       "    </tr>\n",
       "    <tr>\n",
       "      <th>2</th>\n",
       "      <td>0.655154</td>\n",
       "      <td>0.922903</td>\n",
       "      <td>1.560753</td>\n",
       "    </tr>\n",
       "    <tr>\n",
       "      <th>3</th>\n",
       "      <td>0.567416</td>\n",
       "      <td>0.799309</td>\n",
       "      <td>1.351738</td>\n",
       "    </tr>\n",
       "    <tr>\n",
       "      <th>4</th>\n",
       "      <td>0.308148</td>\n",
       "      <td>0.434082</td>\n",
       "      <td>0.734091</td>\n",
       "    </tr>\n",
       "  </tbody>\n",
       "</table>\n",
       "</div>"
      ],
      "text/plain": [
       "   Нижняя граница  Собственное значение  Верхняя граница\n",
       "0        1.286850              1.812762         3.065622\n",
       "1        0.731851              1.030945         1.743466\n",
       "2        0.655154              0.922903         1.560753\n",
       "3        0.567416              0.799309         1.351738\n",
       "4        0.308148              0.434082         0.734091"
      ]
     },
     "execution_count": 10,
     "metadata": {},
     "output_type": "execute_result"
    }
   ],
   "source": [
    "def eigenval_left(l,n):\n",
    "    return l/(1+ss.norm.ppf(0.975)*math.sqrt(2/(n-1))) #находим нижнюю границу интервала\n",
    "\n",
    "def eigenval_right(l,n):\n",
    "    return l/(1-ss.norm.ppf(0.975)*math.sqrt(2/(n-1))) #находим верхнюю границу интервала\n",
    "\n",
    "conf_interval=np.empty((5, 3)) # создание матрицы для каждого из значений интервала и соответствующего ему собственного числа\n",
    "for i in range(conf_interval.shape[0]):\n",
    "    conf_interval[i,0]=eigenval_left(eigenvalues_sorted[i],data_cleared.shape[0])\n",
    "    conf_interval[i,1]=eigenvalues_sorted[i]\n",
    "    conf_interval[i,2]=eigenval_right(eigenvalues_sorted[i],data_cleared.shape[0])\n",
    "    \n",
    "conf_interval_df=pd.DataFrame(\n",
    "    conf_interval,\n",
    "    columns=['Нижняя граница','Собственное значение','Верхняя граница'])\n",
    "conf_interval_df"
   ]
  },
  {
   "cell_type": "markdown",
   "metadata": {},
   "source": [
    "Оценим уровень информативности первых двух главных компонент составляет:\n",
    "\n",
    "$$I_m(z(x^*)) = \\frac {\\lambda_1+\\lambda_2+...+\\lambda_m}{k} $$"
   ]
  },
  {
   "cell_type": "code",
   "execution_count": 11,
   "metadata": {},
   "outputs": [
    {
     "name": "stdout",
     "output_type": "stream",
     "text": [
      "I(z) = 56.874%\n"
     ]
    }
   ],
   "source": [
    "pc=2 # кол-во главных компонент\n",
    "lmbd=0\n",
    "for i in range(pc):\n",
    "    lmbd=lmbd+eigenvalues_sorted[i]\n",
    "\n",
    "I = lmbd*100/f_len\n",
    "\n",
    "print ('I(z) = {:.3f}%'.format(I))"
   ]
  },
  {
   "cell_type": "markdown",
   "metadata": {},
   "source": [
    "## 3.Критерии о достаточности главных компонент"
   ]
  },
  {
   "cell_type": "markdown",
   "metadata": {},
   "source": [
    "### Критерия Кайзера"
   ]
  },
  {
   "cell_type": "markdown",
   "metadata": {},
   "source": [
    " Количество главных компонент можно посчитать с помощью Критерия Кайзера (отбираются факторы с собственными числами > 1)"
   ]
  },
  {
   "cell_type": "code",
   "execution_count": 12,
   "metadata": {},
   "outputs": [
    {
     "name": "stdout",
     "output_type": "stream",
     "text": [
      "Гипотеза о достаточности двух главных компонент принимается\n"
     ]
    }
   ],
   "source": [
    "if len(eigenvalues[eigenvalues > 1])>=2:\n",
    "    print('Гипотеза о достаточности двух главных компонент принимается')\n",
    "else:\n",
    "    print('Гипотеза о достаточности двух главных компонент не принимается')\n",
    "    "
   ]
  },
  {
   "cell_type": "markdown",
   "metadata": {},
   "source": [
    "### Критерий каменистой осыпи"
   ]
  },
  {
   "cell_type": "markdown",
   "metadata": {},
   "source": [
    "Для той же цели можно использовать критерий каменистой осыпи"
   ]
  },
  {
   "cell_type": "code",
   "execution_count": 13,
   "metadata": {},
   "outputs": [],
   "source": [
    "#матрица дисперсий, чтоб на графике отметить\n",
    "dispersion=np.empty(len(eigenvalues))\n",
    "for i in range(dispersion.shape[0]):\n",
    "    dispersion[i]=eigenvalues_sorted[i]/eigenvalues.sum()"
   ]
  },
  {
   "cell_type": "code",
   "execution_count": 14,
   "metadata": {},
   "outputs": [
    {
     "data": {
      "text/html": [
       "<div>\n",
       "<style scoped>\n",
       "    .dataframe tbody tr th:only-of-type {\n",
       "        vertical-align: middle;\n",
       "    }\n",
       "\n",
       "    .dataframe tbody tr th {\n",
       "        vertical-align: top;\n",
       "    }\n",
       "\n",
       "    .dataframe thead th {\n",
       "        text-align: right;\n",
       "    }\n",
       "</style>\n",
       "<table border=\"1\" class=\"dataframe\">\n",
       "  <thead>\n",
       "    <tr style=\"text-align: right;\">\n",
       "      <th></th>\n",
       "      <th>y</th>\n",
       "      <th>x</th>\n",
       "      <th>Tot_var</th>\n",
       "    </tr>\n",
       "  </thead>\n",
       "  <tbody>\n",
       "    <tr>\n",
       "      <th>0</th>\n",
       "      <td>1.812762</td>\n",
       "      <td>1</td>\n",
       "      <td>36.26%</td>\n",
       "    </tr>\n",
       "    <tr>\n",
       "      <th>1</th>\n",
       "      <td>1.030945</td>\n",
       "      <td>2</td>\n",
       "      <td>20.62%</td>\n",
       "    </tr>\n",
       "    <tr>\n",
       "      <th>2</th>\n",
       "      <td>0.922903</td>\n",
       "      <td>3</td>\n",
       "      <td>18.46%</td>\n",
       "    </tr>\n",
       "    <tr>\n",
       "      <th>3</th>\n",
       "      <td>0.799309</td>\n",
       "      <td>4</td>\n",
       "      <td>15.99%</td>\n",
       "    </tr>\n",
       "    <tr>\n",
       "      <th>4</th>\n",
       "      <td>0.434082</td>\n",
       "      <td>5</td>\n",
       "      <td>8.68%</td>\n",
       "    </tr>\n",
       "  </tbody>\n",
       "</table>\n",
       "</div>"
      ],
      "text/plain": [
       "          y  x Tot_var\n",
       "0  1.812762  1  36.26%\n",
       "1  1.030945  2  20.62%\n",
       "2  0.922903  3  18.46%\n",
       "3  0.799309  4  15.99%\n",
       "4  0.434082  5   8.68%"
      ]
     },
     "execution_count": 14,
     "metadata": {},
     "output_type": "execute_result"
    }
   ],
   "source": [
    "sum_lmbd=eigenvalues.sum()\n",
    "dft = pd.DataFrame([])\n",
    "dft['y'] = eigenvalues_sorted #собственные значения в порядке убывания\n",
    "dft['x'] = list(range(1,6))\n",
    "dft['Tot_var'] = (dft['y']/sum_lmbd).apply(lambda x: round(x * 100, 2)).apply(str) + '%' #относительный вклад каждой \n",
    "#главной компоненты в суммарную дисперсию\n",
    "dft"
   ]
  },
  {
   "cell_type": "code",
   "execution_count": 15,
   "metadata": {},
   "outputs": [
    {
     "data": {
      "image/png": "[encoded data removed]",
      "text/plain": [
       "<Figure size 432x288 with 1 Axes>"
      ]
     },
     "metadata": {
      "needs_background": "light"
     },
     "output_type": "display_data"
    }
   ],
   "source": [
    "plt.figure(figsize=(6,4))\n",
    "plt.plot(dft['x'], dft['y'], marker='o')\n",
    "ax = plt.gca()\n",
    "dft.apply(lambda x: ax.annotate(x['Tot_var'], (x['x'], x['y'])), axis=1);\n",
    "plt.title('Eigenvalues of correlation matrix')\n",
    "plt.show()"
   ]
  },
  {
   "cell_type": "markdown",
   "metadata": {},
   "source": [
    "Следует найти такое место на графике, где убывание собственных значений слева направо максимально замедляется. Предполагается, что справа от этой точки находится только \"факториальная осыпь\".\n",
    "\n",
    "Таким образом, число выделенных факторов не должно превышать количество факторов слева от этой точки.  "
   ]
  },
  {
   "cell_type": "markdown",
   "metadata": {},
   "source": [
    "### Вклады главных компонент в суммарную дисперсию исходных признаков"
   ]
  },
  {
   "cell_type": "code",
   "execution_count": 16,
   "metadata": {},
   "outputs": [],
   "source": [
    "cumlt_dispersion =[0,0,0,0,0]\n",
    "cur=0\n",
    "for i in range(len(features)):\n",
    "    cur=cur+dispersion[i]\n",
    "    cumlt_dispersion[i]=cur\n",
    "\n"
   ]
  },
  {
   "cell_type": "code",
   "execution_count": 17,
   "metadata": {},
   "outputs": [],
   "source": [
    "cumlt=[0,0,0,0,0] \n",
    "cur=0\n",
    "for i in range(len(features)):\n",
    "    cur=cur+eigenvalues_sorted[i]\n",
    "    cumlt[i]=cur\n"
   ]
  },
  {
   "cell_type": "code",
   "execution_count": 18,
   "metadata": {},
   "outputs": [
    {
     "data": {
      "text/html": [
       "<div>\n",
       "<style scoped>\n",
       "    .dataframe tbody tr th:only-of-type {\n",
       "        vertical-align: middle;\n",
       "    }\n",
       "\n",
       "    .dataframe tbody tr th {\n",
       "        vertical-align: top;\n",
       "    }\n",
       "\n",
       "    .dataframe thead th {\n",
       "        text-align: right;\n",
       "    }\n",
       "</style>\n",
       "<table border=\"1\" class=\"dataframe\">\n",
       "  <thead>\n",
       "    <tr style=\"text-align: right;\">\n",
       "      <th></th>\n",
       "      <th>eig</th>\n",
       "      <th>variance</th>\n",
       "      <th>cumlt_eig</th>\n",
       "      <th>cumlt_variance</th>\n",
       "    </tr>\n",
       "  </thead>\n",
       "  <tbody>\n",
       "    <tr>\n",
       "      <th>0</th>\n",
       "      <td>1.812762</td>\n",
       "      <td>0.362552</td>\n",
       "      <td>1.812762</td>\n",
       "      <td>0.362552</td>\n",
       "    </tr>\n",
       "    <tr>\n",
       "      <th>1</th>\n",
       "      <td>1.030945</td>\n",
       "      <td>0.206189</td>\n",
       "      <td>2.843706</td>\n",
       "      <td>0.568741</td>\n",
       "    </tr>\n",
       "    <tr>\n",
       "      <th>2</th>\n",
       "      <td>0.922903</td>\n",
       "      <td>0.184581</td>\n",
       "      <td>3.766609</td>\n",
       "      <td>0.753322</td>\n",
       "    </tr>\n",
       "    <tr>\n",
       "      <th>3</th>\n",
       "      <td>0.799309</td>\n",
       "      <td>0.159862</td>\n",
       "      <td>4.565918</td>\n",
       "      <td>0.913184</td>\n",
       "    </tr>\n",
       "    <tr>\n",
       "      <th>4</th>\n",
       "      <td>0.434082</td>\n",
       "      <td>0.086816</td>\n",
       "      <td>5.000000</td>\n",
       "      <td>1.000000</td>\n",
       "    </tr>\n",
       "  </tbody>\n",
       "</table>\n",
       "</div>"
      ],
      "text/plain": [
       "        eig  variance  cumlt_eig  cumlt_variance\n",
       "0  1.812762  0.362552   1.812762        0.362552\n",
       "1  1.030945  0.206189   2.843706        0.568741\n",
       "2  0.922903  0.184581   3.766609        0.753322\n",
       "3  0.799309  0.159862   4.565918        0.913184\n",
       "4  0.434082  0.086816   5.000000        1.000000"
      ]
     },
     "execution_count": 18,
     "metadata": {},
     "output_type": "execute_result"
    }
   ],
   "source": [
    "d=np.array([eigenvalues_sorted,dispersion,cumlt,cumlt_dispersion]).T\n",
    "s=pd.DataFrame(\n",
    "    data=d,\n",
    "    columns=['eig','variance','cumlt_eig','cumlt_variance'])\n",
    "s"
   ]
  },
  {
   "cell_type": "markdown",
   "metadata": {},
   "source": [
    "где <b>eig</b> -  оценки собственных значений <br>\n",
    "<b>variance</b> - относительный вклад каждой главной компоненты в суммарную дисперсию <br>\n",
    "<b>cumlt_eig</b> - накопленные значения собственных чисел <br>\n",
    "<b>cumlt_variance</b> - накопленный относительный вклад"
   ]
  },
  {
   "cell_type": "markdown",
   "metadata": {},
   "source": [
    "## 4.Непосредственное построение главных компонент "
   ]
  },
  {
   "cell_type": "markdown",
   "metadata": {},
   "source": [
    "Известно, что собственные векторы, соответствующие разным собственным числам, ортогональны. \n",
    "Таким образом будут выполнены требования некоррелированности главных компонент.\n",
    "\n",
    "Следовательно, дисперсия второй главной компоненты будет равна  , а вектор   будет найден как собственный вектор матрицы  , соответствующий собственному числу.\n",
    "\n",
    "Таким образом, можно построить k главных компонент.\n"
   ]
  },
  {
   "cell_type": "code",
   "execution_count": 19,
   "metadata": {},
   "outputs": [
    {
     "data": {
      "text/html": [
       "<div>\n",
       "<style scoped>\n",
       "    .dataframe tbody tr th:only-of-type {\n",
       "        vertical-align: middle;\n",
       "    }\n",
       "\n",
       "    .dataframe tbody tr th {\n",
       "        vertical-align: top;\n",
       "    }\n",
       "\n",
       "    .dataframe thead th {\n",
       "        text-align: right;\n",
       "    }\n",
       "</style>\n",
       "<table border=\"1\" class=\"dataframe\">\n",
       "  <thead>\n",
       "    <tr style=\"text-align: right;\">\n",
       "      <th></th>\n",
       "      <th>Factor_1</th>\n",
       "      <th>Factor_2</th>\n",
       "      <th>Factor_3</th>\n",
       "      <th>Factor_4</th>\n",
       "      <th>Factor_5</th>\n",
       "    </tr>\n",
       "  </thead>\n",
       "  <tbody>\n",
       "    <tr>\n",
       "      <th>X6</th>\n",
       "      <td>-0.617404</td>\n",
       "      <td>0.021257</td>\n",
       "      <td>0.278372</td>\n",
       "      <td>-0.078207</td>\n",
       "      <td>0.731268</td>\n",
       "    </tr>\n",
       "    <tr>\n",
       "      <th>X16</th>\n",
       "      <td>0.263889</td>\n",
       "      <td>0.816461</td>\n",
       "      <td>-0.031998</td>\n",
       "      <td>0.442570</td>\n",
       "      <td>0.258578</td>\n",
       "    </tr>\n",
       "    <tr>\n",
       "      <th>X26</th>\n",
       "      <td>0.406582</td>\n",
       "      <td>-0.559501</td>\n",
       "      <td>0.198944</td>\n",
       "      <td>0.600773</td>\n",
       "      <td>0.348056</td>\n",
       "    </tr>\n",
       "    <tr>\n",
       "      <th>X31</th>\n",
       "      <td>0.322871</td>\n",
       "      <td>0.136458</td>\n",
       "      <td>0.873342</td>\n",
       "      <td>-0.323602</td>\n",
       "      <td>-0.098433</td>\n",
       "    </tr>\n",
       "    <tr>\n",
       "      <th>X39</th>\n",
       "      <td>-0.528792</td>\n",
       "      <td>0.035754</td>\n",
       "      <td>0.345225</td>\n",
       "      <td>0.576515</td>\n",
       "      <td>-0.517254</td>\n",
       "    </tr>\n",
       "  </tbody>\n",
       "</table>\n",
       "</div>"
      ],
      "text/plain": [
       "     Factor_1  Factor_2  Factor_3  Factor_4  Factor_5\n",
       "X6  -0.617404  0.021257  0.278372 -0.078207  0.731268\n",
       "X16  0.263889  0.816461 -0.031998  0.442570  0.258578\n",
       "X26  0.406582 -0.559501  0.198944  0.600773  0.348056\n",
       "X31  0.322871  0.136458  0.873342 -0.323602 -0.098433\n",
       "X39 -0.528792  0.035754  0.345225  0.576515 -0.517254"
      ]
     },
     "execution_count": 19,
     "metadata": {},
     "output_type": "execute_result"
    }
   ],
   "source": [
    "u=np.empty((f_len,f_len))\n",
    "for i in range(f_len):\n",
    "    u[i]=couple_lst[i][1] #достаем главные компоненты(собственные векторы корреляционной матрицы) из матрицы couple_list\n",
    "    \n",
    "u=pd.DataFrame(\n",
    "    data=u.T,\n",
    "    columns=['Factor_' + str(i + 1) for i in range(f_len)],\n",
    "    index=features)\n",
    "u # eigenvectors of correlation matrix"
   ]
  },
  {
   "cell_type": "code",
   "execution_count": 20,
   "metadata": {},
   "outputs": [
    {
     "data": {
      "text/html": [
       "<div>\n",
       "<style scoped>\n",
       "    .dataframe tbody tr th:only-of-type {\n",
       "        vertical-align: middle;\n",
       "    }\n",
       "\n",
       "    .dataframe tbody tr th {\n",
       "        vertical-align: top;\n",
       "    }\n",
       "\n",
       "    .dataframe thead th {\n",
       "        text-align: right;\n",
       "    }\n",
       "</style>\n",
       "<table border=\"1\" class=\"dataframe\">\n",
       "  <thead>\n",
       "    <tr style=\"text-align: right;\">\n",
       "      <th></th>\n",
       "      <th>Factor_1</th>\n",
       "      <th>Factor_2</th>\n",
       "    </tr>\n",
       "  </thead>\n",
       "  <tbody>\n",
       "    <tr>\n",
       "      <th>X6</th>\n",
       "      <td>-0.617404</td>\n",
       "      <td>0.021257</td>\n",
       "    </tr>\n",
       "    <tr>\n",
       "      <th>X16</th>\n",
       "      <td>0.263889</td>\n",
       "      <td>0.816461</td>\n",
       "    </tr>\n",
       "    <tr>\n",
       "      <th>X26</th>\n",
       "      <td>0.406582</td>\n",
       "      <td>-0.559501</td>\n",
       "    </tr>\n",
       "    <tr>\n",
       "      <th>X31</th>\n",
       "      <td>0.322871</td>\n",
       "      <td>0.136458</td>\n",
       "    </tr>\n",
       "    <tr>\n",
       "      <th>X39</th>\n",
       "      <td>-0.528792</td>\n",
       "      <td>0.035754</td>\n",
       "    </tr>\n",
       "  </tbody>\n",
       "</table>\n",
       "</div>"
      ],
      "text/plain": [
       "     Factor_1  Factor_2\n",
       "X6  -0.617404  0.021257\n",
       "X16  0.263889  0.816461\n",
       "X26  0.406582 -0.559501\n",
       "X31  0.322871  0.136458\n",
       "X39 -0.528792  0.035754"
      ]
     },
     "execution_count": 20,
     "metadata": {},
     "output_type": "execute_result"
    }
   ],
   "source": [
    "u=u.iloc[:, :pc]\n",
    "u"
   ]
  },
  {
   "cell_type": "markdown",
   "metadata": {},
   "source": [
    "### Матрица нагрузок"
   ]
  },
  {
   "cell_type": "markdown",
   "metadata": {},
   "source": [
    "Матрица нагрузок главных компонент на исходные признаки является важной характеристикой, позволяющей дать интерпретацию главным компонентам.\n",
    " \n",
    "Если исходные признаки центировано-нормированные, то элементы матрицы нагрузок  :\n",
    "1.\t определяют степень тесноты парной линейной связи между   и   (парный коэффициент корреляции);\n",
    "2.\t удельный вес влияния  -ой главной компоненты на признак  \n",
    "\n",
    "Она определяется следующим образом: \n",
    "$$A = U^T\\lambda^\\frac{1}{2}$$"
   ]
  },
  {
   "cell_type": "code",
   "execution_count": 21,
   "metadata": {},
   "outputs": [
    {
     "data": {
      "text/html": [
       "<div>\n",
       "<style scoped>\n",
       "    .dataframe tbody tr th:only-of-type {\n",
       "        vertical-align: middle;\n",
       "    }\n",
       "\n",
       "    .dataframe tbody tr th {\n",
       "        vertical-align: top;\n",
       "    }\n",
       "\n",
       "    .dataframe thead th {\n",
       "        text-align: right;\n",
       "    }\n",
       "</style>\n",
       "<table border=\"1\" class=\"dataframe\">\n",
       "  <thead>\n",
       "    <tr style=\"text-align: right;\">\n",
       "      <th></th>\n",
       "      <th>Factor_1</th>\n",
       "      <th>Factor_2</th>\n",
       "    </tr>\n",
       "  </thead>\n",
       "  <tbody>\n",
       "    <tr>\n",
       "      <th>X6</th>\n",
       "      <td>-0.831265</td>\n",
       "      <td>0.021583</td>\n",
       "    </tr>\n",
       "    <tr>\n",
       "      <th>X16</th>\n",
       "      <td>0.355297</td>\n",
       "      <td>0.828997</td>\n",
       "    </tr>\n",
       "    <tr>\n",
       "      <th>X26</th>\n",
       "      <td>0.547417</td>\n",
       "      <td>-0.568092</td>\n",
       "    </tr>\n",
       "    <tr>\n",
       "      <th>X31</th>\n",
       "      <td>0.434710</td>\n",
       "      <td>0.138553</td>\n",
       "    </tr>\n",
       "    <tr>\n",
       "      <th>X39</th>\n",
       "      <td>-0.711959</td>\n",
       "      <td>0.036303</td>\n",
       "    </tr>\n",
       "  </tbody>\n",
       "</table>\n",
       "</div>"
      ],
      "text/plain": [
       "     Factor_1  Factor_2\n",
       "X6  -0.831265  0.021583\n",
       "X16  0.355297  0.828997\n",
       "X26  0.547417 -0.568092\n",
       "X31  0.434710  0.138553\n",
       "X39 -0.711959  0.036303"
      ]
     },
     "execution_count": 21,
     "metadata": {},
     "output_type": "execute_result"
    }
   ],
   "source": [
    "sqrt_l=np.eye(pc)\n",
    "for i in range(pc):\n",
    "    sqrt_l[i][i]=math.sqrt(eigenvalues_sorted[i])\n",
    "A=np.dot(u,sqrt_l)\n",
    "pd.DataFrame(\n",
    "    data=A,\n",
    "    columns=['Factor_' + str(i + 1) for i in range(pc)],\n",
    "    index=features)"
   ]
  },
  {
   "cell_type": "markdown",
   "metadata": {},
   "source": [
    "### Матрица индивидуальных значений главных компонент\n",
    "\n",
    "$$ X^T = AF^T $$\n",
    "\n",
    "Если m=k $$ F^T = A^{-1}X^T $$\n",
    "В общем случае m<=k \n",
    "\n",
    "$$ A^TX^T = (A^TA)F^T $$\n",
    "\n",
    "$$ F^T = (A^TA)^{-1}A^TX^T $$"
   ]
  },
  {
   "cell_type": "code",
   "execution_count": 22,
   "metadata": {},
   "outputs": [
    {
     "data": {
      "text/html": [
       "<div>\n",
       "<style scoped>\n",
       "    .dataframe tbody tr th:only-of-type {\n",
       "        vertical-align: middle;\n",
       "    }\n",
       "\n",
       "    .dataframe tbody tr th {\n",
       "        vertical-align: top;\n",
       "    }\n",
       "\n",
       "    .dataframe thead th {\n",
       "        text-align: right;\n",
       "    }\n",
       "</style>\n",
       "<table border=\"1\" class=\"dataframe\">\n",
       "  <thead>\n",
       "    <tr style=\"text-align: right;\">\n",
       "      <th></th>\n",
       "      <th></th>\n",
       "      <th>z1</th>\n",
       "      <th>z2</th>\n",
       "    </tr>\n",
       "  </thead>\n",
       "  <tbody>\n",
       "    <tr>\n",
       "      <th rowspan=\"47\" valign=\"top\">NaN</th>\n",
       "      <th>Абдулинский</th>\n",
       "      <td>2.977793</td>\n",
       "      <td>2.715836</td>\n",
       "    </tr>\n",
       "    <tr>\n",
       "      <th>Ясненский</th>\n",
       "      <td>1.763854</td>\n",
       "      <td>-2.211303</td>\n",
       "    </tr>\n",
       "    <tr>\n",
       "      <th>Кувандыкский</th>\n",
       "      <td>1.569323</td>\n",
       "      <td>0.484849</td>\n",
       "    </tr>\n",
       "    <tr>\n",
       "      <th>Новосергиевский</th>\n",
       "      <td>1.241054</td>\n",
       "      <td>1.739967</td>\n",
       "    </tr>\n",
       "    <tr>\n",
       "      <th>Новоорский</th>\n",
       "      <td>1.142591</td>\n",
       "      <td>-0.278934</td>\n",
       "    </tr>\n",
       "    <tr>\n",
       "      <th>Матвеевский</th>\n",
       "      <td>1.099459</td>\n",
       "      <td>-0.670531</td>\n",
       "    </tr>\n",
       "    <tr>\n",
       "      <th>Асекеевский</th>\n",
       "      <td>1.079398</td>\n",
       "      <td>-0.556684</td>\n",
       "    </tr>\n",
       "    <tr>\n",
       "      <th>Соль-Илецкий</th>\n",
       "      <td>0.913334</td>\n",
       "      <td>-0.941123</td>\n",
       "    </tr>\n",
       "    <tr>\n",
       "      <th>Сорочинский</th>\n",
       "      <td>0.811007</td>\n",
       "      <td>-0.961225</td>\n",
       "    </tr>\n",
       "    <tr>\n",
       "      <th>Переволоцкий</th>\n",
       "      <td>0.735252</td>\n",
       "      <td>1.330932</td>\n",
       "    </tr>\n",
       "    <tr>\n",
       "      <th>Гайский</th>\n",
       "      <td>0.723546</td>\n",
       "      <td>-2.459759</td>\n",
       "    </tr>\n",
       "    <tr>\n",
       "      <th>Кваркенский</th>\n",
       "      <td>0.668929</td>\n",
       "      <td>0.528286</td>\n",
       "    </tr>\n",
       "    <tr>\n",
       "      <th>Саракташский</th>\n",
       "      <td>0.635444</td>\n",
       "      <td>-0.060319</td>\n",
       "    </tr>\n",
       "    <tr>\n",
       "      <th>Илекский</th>\n",
       "      <td>0.505641</td>\n",
       "      <td>0.510367</td>\n",
       "    </tr>\n",
       "    <tr>\n",
       "      <th>Пономаревский</th>\n",
       "      <td>0.482463</td>\n",
       "      <td>0.090326</td>\n",
       "    </tr>\n",
       "    <tr>\n",
       "      <th>Бузулукский</th>\n",
       "      <td>0.379629</td>\n",
       "      <td>0.937303</td>\n",
       "    </tr>\n",
       "    <tr>\n",
       "      <th>Северный</th>\n",
       "      <td>0.370313</td>\n",
       "      <td>0.469371</td>\n",
       "    </tr>\n",
       "    <tr>\n",
       "      <th>Бугурусланский</th>\n",
       "      <td>0.278618</td>\n",
       "      <td>-0.226430</td>\n",
       "    </tr>\n",
       "    <tr>\n",
       "      <th>г.Медногорск</th>\n",
       "      <td>0.240927</td>\n",
       "      <td>0.816534</td>\n",
       "    </tr>\n",
       "    <tr>\n",
       "      <th>Домбаровский</th>\n",
       "      <td>0.232822</td>\n",
       "      <td>-0.921726</td>\n",
       "    </tr>\n",
       "    <tr>\n",
       "      <th>Адамовский</th>\n",
       "      <td>0.021747</td>\n",
       "      <td>-1.219944</td>\n",
       "    </tr>\n",
       "    <tr>\n",
       "      <th>Светлинский</th>\n",
       "      <td>-0.039922</td>\n",
       "      <td>0.077024</td>\n",
       "    </tr>\n",
       "    <tr>\n",
       "      <th>Красногвардейский</th>\n",
       "      <td>-0.109620</td>\n",
       "      <td>-1.044116</td>\n",
       "    </tr>\n",
       "    <tr>\n",
       "      <th>Октябрьский</th>\n",
       "      <td>-0.132823</td>\n",
       "      <td>-0.393941</td>\n",
       "    </tr>\n",
       "    <tr>\n",
       "      <th>Первомайский</th>\n",
       "      <td>-0.133100</td>\n",
       "      <td>-0.753433</td>\n",
       "    </tr>\n",
       "    <tr>\n",
       "      <th>г.Орск</th>\n",
       "      <td>-0.135778</td>\n",
       "      <td>0.478812</td>\n",
       "    </tr>\n",
       "    <tr>\n",
       "      <th>Сакмарский</th>\n",
       "      <td>-0.154187</td>\n",
       "      <td>-0.495933</td>\n",
       "    </tr>\n",
       "    <tr>\n",
       "      <th>Александровский</th>\n",
       "      <td>-0.252092</td>\n",
       "      <td>0.365569</td>\n",
       "    </tr>\n",
       "    <tr>\n",
       "      <th>г.Новотроицк</th>\n",
       "      <td>-0.269783</td>\n",
       "      <td>0.886632</td>\n",
       "    </tr>\n",
       "    <tr>\n",
       "      <th>Ташлинский</th>\n",
       "      <td>-0.284754</td>\n",
       "      <td>-0.797708</td>\n",
       "    </tr>\n",
       "    <tr>\n",
       "      <th>Грачевский</th>\n",
       "      <td>-0.325156</td>\n",
       "      <td>0.366418</td>\n",
       "    </tr>\n",
       "    <tr>\n",
       "      <th>г.Абдулино</th>\n",
       "      <td>-0.348698</td>\n",
       "      <td>-0.352047</td>\n",
       "    </tr>\n",
       "    <tr>\n",
       "      <th>Шарлыкский</th>\n",
       "      <td>-0.381428</td>\n",
       "      <td>-0.646185</td>\n",
       "    </tr>\n",
       "    <tr>\n",
       "      <th>Акбулакский</th>\n",
       "      <td>-0.393166</td>\n",
       "      <td>-0.660222</td>\n",
       "    </tr>\n",
       "    <tr>\n",
       "      <th>Беляевский</th>\n",
       "      <td>-0.437929</td>\n",
       "      <td>-0.373126</td>\n",
       "    </tr>\n",
       "    <tr>\n",
       "      <th>Тюльганский</th>\n",
       "      <td>-0.721134</td>\n",
       "      <td>-0.908814</td>\n",
       "    </tr>\n",
       "    <tr>\n",
       "      <th>Оренбургский</th>\n",
       "      <td>-0.722929</td>\n",
       "      <td>-0.356973</td>\n",
       "    </tr>\n",
       "    <tr>\n",
       "      <th>г.Оренбург</th>\n",
       "      <td>-0.770517</td>\n",
       "      <td>2.557331</td>\n",
       "    </tr>\n",
       "    <tr>\n",
       "      <th>г.Гай</th>\n",
       "      <td>-0.883496</td>\n",
       "      <td>0.361815</td>\n",
       "    </tr>\n",
       "    <tr>\n",
       "      <th>г.Бугуруслан</th>\n",
       "      <td>-1.043310</td>\n",
       "      <td>1.011080</td>\n",
       "    </tr>\n",
       "    <tr>\n",
       "      <th>г.Сорочинск</th>\n",
       "      <td>-1.054609</td>\n",
       "      <td>-0.260100</td>\n",
       "    </tr>\n",
       "    <tr>\n",
       "      <th>г.Кувандык</th>\n",
       "      <td>-1.056118</td>\n",
       "      <td>-0.362088</td>\n",
       "    </tr>\n",
       "    <tr>\n",
       "      <th>Курманаевский</th>\n",
       "      <td>-1.093412</td>\n",
       "      <td>0.972090</td>\n",
       "    </tr>\n",
       "    <tr>\n",
       "      <th>г.Соль-Илецк</th>\n",
       "      <td>-1.171533</td>\n",
       "      <td>0.240650</td>\n",
       "    </tr>\n",
       "    <tr>\n",
       "      <th>г.Бузулук</th>\n",
       "      <td>-1.365853</td>\n",
       "      <td>0.417787</td>\n",
       "    </tr>\n",
       "    <tr>\n",
       "      <th>г.Ясный</th>\n",
       "      <td>-1.953001</td>\n",
       "      <td>0.376576</td>\n",
       "    </tr>\n",
       "    <tr>\n",
       "      <th>Тоцкий</th>\n",
       "      <td>-2.638797</td>\n",
       "      <td>0.177105</td>\n",
       "    </tr>\n",
       "  </tbody>\n",
       "</table>\n",
       "</div>"
      ],
      "text/plain": [
       "                             z1        z2\n",
       "NaN Абдулинский        2.977793  2.715836\n",
       "    Ясненский          1.763854 -2.211303\n",
       "    Кувандыкский       1.569323  0.484849\n",
       "    Новосергиевский    1.241054  1.739967\n",
       "    Новоорский         1.142591 -0.278934\n",
       "    Матвеевский        1.099459 -0.670531\n",
       "    Асекеевский        1.079398 -0.556684\n",
       "    Соль-Илецкий       0.913334 -0.941123\n",
       "    Сорочинский        0.811007 -0.961225\n",
       "    Переволоцкий       0.735252  1.330932\n",
       "    Гайский            0.723546 -2.459759\n",
       "    Кваркенский        0.668929  0.528286\n",
       "    Саракташский       0.635444 -0.060319\n",
       "    Илекский           0.505641  0.510367\n",
       "    Пономаревский      0.482463  0.090326\n",
       "    Бузулукский        0.379629  0.937303\n",
       "    Северный           0.370313  0.469371\n",
       "    Бугурусланский     0.278618 -0.226430\n",
       "    г.Медногорск       0.240927  0.816534\n",
       "    Домбаровский       0.232822 -0.921726\n",
       "    Адамовский         0.021747 -1.219944\n",
       "    Светлинский       -0.039922  0.077024\n",
       "    Красногвардейский -0.109620 -1.044116\n",
       "    Октябрьский       -0.132823 -0.393941\n",
       "    Первомайский      -0.133100 -0.753433\n",
       "    г.Орск            -0.135778  0.478812\n",
       "    Сакмарский        -0.154187 -0.495933\n",
       "    Александровский   -0.252092  0.365569\n",
       "    г.Новотроицк      -0.269783  0.886632\n",
       "    Ташлинский        -0.284754 -0.797708\n",
       "    Грачевский        -0.325156  0.366418\n",
       "    г.Абдулино        -0.348698 -0.352047\n",
       "    Шарлыкский        -0.381428 -0.646185\n",
       "    Акбулакский       -0.393166 -0.660222\n",
       "    Беляевский        -0.437929 -0.373126\n",
       "    Тюльганский       -0.721134 -0.908814\n",
       "    Оренбургский      -0.722929 -0.356973\n",
       "    г.Оренбург        -0.770517  2.557331\n",
       "    г.Гай             -0.883496  0.361815\n",
       "    г.Бугуруслан      -1.043310  1.011080\n",
       "    г.Сорочинск       -1.054609 -0.260100\n",
       "    г.Кувандык        -1.056118 -0.362088\n",
       "    Курманаевский     -1.093412  0.972090\n",
       "    г.Соль-Илецк      -1.171533  0.240650\n",
       "    г.Бузулук         -1.365853  0.417787\n",
       "    г.Ясный           -1.953001  0.376576\n",
       "    Тоцкий            -2.638797  0.177105"
      ]
     },
     "execution_count": 22,
     "metadata": {},
     "output_type": "execute_result"
    }
   ],
   "source": [
    "F=np.dot(np.dot(np.linalg.inv(np.dot(A.T,A)),A.T),scaled_data.T)\n",
    "result=pd.DataFrame(\n",
    "    F.T,\n",
    "    index=scaled_data.index, \n",
    "    columns=['z' + str(i + 1) for i in range(pc)]\n",
    ")\n",
    "result=result.sort_values('z1', ascending=False)\n",
    "result"
   ]
  },
  {
   "cell_type": "code",
   "execution_count": 23,
   "metadata": {},
   "outputs": [],
   "source": [
    "path = \"result.xlsx\"\n",
    "writer = pd.ExcelWriter(path, engine = 'xlsxwriter')\n",
    "sheet_name = 'result'\n",
    "\n",
    "#запись членов кластеров в файл result на лист с именем result\n",
    "#файл создается в той же директории, где лежит ноутбук с кодом\n",
    "result.to_excel(writer, sheet_name=sheet_name)"
   ]
  },
  {
   "cell_type": "code",
   "execution_count": null,
   "metadata": {},
   "outputs": [],
   "source": []
  },
  {
   "cell_type": "code",
   "execution_count": null,
   "metadata": {},
   "outputs": [],
   "source": []
  }
 ],
 "metadata": {
  "kernelspec": {
   "display_name": "Python 3",
   "language": "python",
   "name": "python3"
  },
  "language_info": {
   "codemirror_mode": {
    "name": "ipython",
    "version": 3
   },
   "file_extension": ".py",
   "mimetype": "text/x-python",
   "name": "python",
   "nbconvert_exporter": "python",
   "pygments_lexer": "ipython3",
   "version": "3.7.0"
  }
 },
 "nbformat": 4,
 "nbformat_minor": 2
}
