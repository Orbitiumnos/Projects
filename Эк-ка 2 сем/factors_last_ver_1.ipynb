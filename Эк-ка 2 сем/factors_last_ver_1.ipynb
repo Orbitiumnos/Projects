{
 "cells": [
  {
   "cell_type": "markdown",
   "metadata": {},
   "source": [
    "# Лабораторная №4. Снижение размерности признакового пространства методом главных факторов."
   ]
  },
  {
   "cell_type": "markdown",
   "metadata": {},
   "source": [
    "### Импорт библиотек"
   ]
  },
  {
   "cell_type": "code",
   "execution_count": 1,
   "metadata": {
    "scrolled": true
   },
   "outputs": [],
   "source": [
    "import pandas as pd\n",
    "import numpy as np\n",
    "import matplotlib.pyplot as plt\n",
    "import math\n",
    "import scipy.stats as ss\n",
    "import seaborn as sns\n",
    "\n",
    "from math import  sin, cos, pi \n",
    "from statsmodels.formula.api import ols\n",
    "from scipy.stats import chi2\n",
    "from numpy import arange"
   ]
  },
  {
   "cell_type": "markdown",
   "metadata": {},
   "source": [
    "### Считывание данных"
   ]
  },
  {
   "cell_type": "code",
   "execution_count": 2,
   "metadata": {
    "scrolled": false
   },
   "outputs": [
    {
     "data": {
      "text/html": [
       "<div>\n",
       "<style scoped>\n",
       "    .dataframe tbody tr th:only-of-type {\n",
       "        vertical-align: middle;\n",
       "    }\n",
       "\n",
       "    .dataframe tbody tr th {\n",
       "        vertical-align: top;\n",
       "    }\n",
       "\n",
       "    .dataframe thead th {\n",
       "        text-align: right;\n",
       "    }\n",
       "</style>\n",
       "<table border=\"1\" class=\"dataframe\">\n",
       "  <thead>\n",
       "    <tr style=\"text-align: right;\">\n",
       "      <th></th>\n",
       "      <th>X6</th>\n",
       "      <th>X16</th>\n",
       "      <th>X26</th>\n",
       "      <th>X31</th>\n",
       "      <th>X39</th>\n",
       "    </tr>\n",
       "  </thead>\n",
       "  <tbody>\n",
       "    <tr>\n",
       "      <th>Абдулинский</th>\n",
       "      <td>20.8</td>\n",
       "      <td>58.5</td>\n",
       "      <td>69</td>\n",
       "      <td>15626</td>\n",
       "      <td>0.1</td>\n",
       "    </tr>\n",
       "    <tr>\n",
       "      <th>Адамовский</th>\n",
       "      <td>12.4</td>\n",
       "      <td>93.0</td>\n",
       "      <td>180</td>\n",
       "      <td>23410</td>\n",
       "      <td>1.4</td>\n",
       "    </tr>\n",
       "    <tr>\n",
       "      <th>Акбулакский</th>\n",
       "      <td>11.9</td>\n",
       "      <td>39.8</td>\n",
       "      <td>224</td>\n",
       "      <td>9855</td>\n",
       "      <td>0.7</td>\n",
       "    </tr>\n",
       "    <tr>\n",
       "      <th>Александровский</th>\n",
       "      <td>13.6</td>\n",
       "      <td>55.0</td>\n",
       "      <td>116</td>\n",
       "      <td>4881</td>\n",
       "      <td>0.2</td>\n",
       "    </tr>\n",
       "    <tr>\n",
       "      <th>Асекеевский</th>\n",
       "      <td>17.2</td>\n",
       "      <td>63.5</td>\n",
       "      <td>172</td>\n",
       "      <td>15466</td>\n",
       "      <td>5.3</td>\n",
       "    </tr>\n",
       "  </tbody>\n",
       "</table>\n",
       "</div>"
      ],
      "text/plain": [
       "                   X6   X16  X26    X31  X39\n",
       "Абдулинский      20.8  58.5   69  15626  0.1\n",
       "Адамовский       12.4  93.0  180  23410  1.4\n",
       "Акбулакский      11.9  39.8  224   9855  0.7\n",
       "Александровский  13.6  55.0  116   4881  0.2\n",
       "Асекеевский      17.2  63.5  172  15466  5.3"
      ]
     },
     "execution_count": 2,
     "metadata": {},
     "output_type": "execute_result"
    }
   ],
   "source": [
    "#features =[\"X7\", \"X15\", \"X17\", \"X23\", \"X27\"] \n",
    "features =[\"X6\", \"X16\", \"X26\", \"X31\", \"X39\"] \n",
    "f_len = len (features)\n",
    "unclr_data = pd.read_excel (r'C:\\Games\\Ekonometrika\\data_for_3_and_4.xlsx').loc[:,features]\n",
    "#unclr_data = pd.read_excel (r'C:\\Games\\Ekonometrika\\data_for_3_and_4_sok.xlsx').loc[:,features]\n",
    "unclr_data.head()"
   ]
  },
  {
   "cell_type": "code",
   "execution_count": 3,
   "metadata": {
    "scrolled": true
   },
   "outputs": [
    {
     "data": {
      "text/html": [
       "<div>\n",
       "<style scoped>\n",
       "    .dataframe tbody tr th:only-of-type {\n",
       "        vertical-align: middle;\n",
       "    }\n",
       "\n",
       "    .dataframe tbody tr th {\n",
       "        vertical-align: top;\n",
       "    }\n",
       "\n",
       "    .dataframe thead th {\n",
       "        text-align: right;\n",
       "    }\n",
       "</style>\n",
       "<table border=\"1\" class=\"dataframe\">\n",
       "  <thead>\n",
       "    <tr style=\"text-align: right;\">\n",
       "      <th></th>\n",
       "      <th>X6</th>\n",
       "      <th>X16</th>\n",
       "      <th>X26</th>\n",
       "      <th>X31</th>\n",
       "      <th>X39</th>\n",
       "    </tr>\n",
       "  </thead>\n",
       "  <tbody>\n",
       "    <tr>\n",
       "      <th>Абдулинский</th>\n",
       "      <td>2.134439</td>\n",
       "      <td>-0.704855</td>\n",
       "      <td>-0.509842</td>\n",
       "      <td>-0.254979</td>\n",
       "      <td>-0.506938</td>\n",
       "    </tr>\n",
       "    <tr>\n",
       "      <th>Адамовский</th>\n",
       "      <td>-1.115374</td>\n",
       "      <td>0.529669</td>\n",
       "      <td>-0.066461</td>\n",
       "      <td>-0.059897</td>\n",
       "      <td>-0.464704</td>\n",
       "    </tr>\n",
       "    <tr>\n",
       "      <th>Акбулакский</th>\n",
       "      <td>-1.308815</td>\n",
       "      <td>-1.374003</td>\n",
       "      <td>0.109294</td>\n",
       "      <td>-0.399611</td>\n",
       "      <td>-0.487445</td>\n",
       "    </tr>\n",
       "    <tr>\n",
       "      <th>Александровский</th>\n",
       "      <td>-0.651115</td>\n",
       "      <td>-0.830097</td>\n",
       "      <td>-0.322104</td>\n",
       "      <td>-0.524269</td>\n",
       "      <td>-0.503689</td>\n",
       "    </tr>\n",
       "    <tr>\n",
       "      <th>Асекеевский</th>\n",
       "      <td>0.741662</td>\n",
       "      <td>-0.525938</td>\n",
       "      <td>-0.098416</td>\n",
       "      <td>-0.258989</td>\n",
       "      <td>-0.338005</td>\n",
       "    </tr>\n",
       "  </tbody>\n",
       "</table>\n",
       "</div>"
      ],
      "text/plain": [
       "                       X6       X16       X26       X31       X39\n",
       "Абдулинский      2.134439 -0.704855 -0.509842 -0.254979 -0.506938\n",
       "Адамовский      -1.115374  0.529669 -0.066461 -0.059897 -0.464704\n",
       "Акбулакский     -1.308815 -1.374003  0.109294 -0.399611 -0.487445\n",
       "Александровский -0.651115 -0.830097 -0.322104 -0.524269 -0.503689\n",
       "Асекеевский      0.741662 -0.525938 -0.098416 -0.258989 -0.338005"
      ]
     },
     "execution_count": 3,
     "metadata": {},
     "output_type": "execute_result"
    }
   ],
   "source": [
    "unsc_data = unclr_data[unclr_data!='-'].dropna().astype('float64') # для которых нет значений, удаляем, потом стандартизуем\n",
    "index = unsc_data.index #записываем в переменную index названия строк исходной матрицы\n",
    "columns = unsc_data.columns #записываем в переменную columns названия столбцов исходной матрицы\n",
    "\n",
    "index = unsc_data.index\n",
    "columns = unsc_data.columns\n",
    "\n",
    "scaled = (unsc_data - unsc_data.mean(axis=0))/unsc_data.std()\n",
    "data = pd.DataFrame(scaled, columns=columns, index=index) \n",
    "\n",
    "data.head()"
   ]
  },
  {
   "cell_type": "markdown",
   "metadata": {},
   "source": [
    "### Рассчитаем оценку корреляционной матрицы и проверим ее на значимость."
   ]
  },
  {
   "cell_type": "code",
   "execution_count": 4,
   "metadata": {
    "scrolled": true
   },
   "outputs": [
    {
     "data": {
      "text/html": [
       "<div>\n",
       "<style scoped>\n",
       "    .dataframe tbody tr th:only-of-type {\n",
       "        vertical-align: middle;\n",
       "    }\n",
       "\n",
       "    .dataframe tbody tr th {\n",
       "        vertical-align: top;\n",
       "    }\n",
       "\n",
       "    .dataframe thead th {\n",
       "        text-align: right;\n",
       "    }\n",
       "</style>\n",
       "<table border=\"1\" class=\"dataframe\">\n",
       "  <thead>\n",
       "    <tr style=\"text-align: right;\">\n",
       "      <th></th>\n",
       "      <th>X6</th>\n",
       "      <th>X16</th>\n",
       "      <th>X26</th>\n",
       "      <th>X31</th>\n",
       "      <th>X39</th>\n",
       "    </tr>\n",
       "  </thead>\n",
       "  <tbody>\n",
       "    <tr>\n",
       "      <th>X6</th>\n",
       "      <td>1.000000</td>\n",
       "      <td>-0.073048</td>\n",
       "      <td>-0.160053</td>\n",
       "      <td>-0.109575</td>\n",
       "      <td>0.034846</td>\n",
       "    </tr>\n",
       "    <tr>\n",
       "      <th>X16</th>\n",
       "      <td>-0.073048</td>\n",
       "      <td>1.000000</td>\n",
       "      <td>0.450651</td>\n",
       "      <td>0.480604</td>\n",
       "      <td>0.176877</td>\n",
       "    </tr>\n",
       "    <tr>\n",
       "      <th>X26</th>\n",
       "      <td>-0.160053</td>\n",
       "      <td>0.450651</td>\n",
       "      <td>1.000000</td>\n",
       "      <td>0.159392</td>\n",
       "      <td>0.480870</td>\n",
       "    </tr>\n",
       "    <tr>\n",
       "      <th>X31</th>\n",
       "      <td>-0.109575</td>\n",
       "      <td>0.480604</td>\n",
       "      <td>0.159392</td>\n",
       "      <td>1.000000</td>\n",
       "      <td>0.046086</td>\n",
       "    </tr>\n",
       "    <tr>\n",
       "      <th>X39</th>\n",
       "      <td>0.034846</td>\n",
       "      <td>0.176877</td>\n",
       "      <td>0.480870</td>\n",
       "      <td>0.046086</td>\n",
       "      <td>1.000000</td>\n",
       "    </tr>\n",
       "  </tbody>\n",
       "</table>\n",
       "</div>"
      ],
      "text/plain": [
       "           X6       X16       X26       X31       X39\n",
       "X6   1.000000 -0.073048 -0.160053 -0.109575  0.034846\n",
       "X16 -0.073048  1.000000  0.450651  0.480604  0.176877\n",
       "X26 -0.160053  0.450651  1.000000  0.159392  0.480870\n",
       "X31 -0.109575  0.480604  0.159392  1.000000  0.046086\n",
       "X39  0.034846  0.176877  0.480870  0.046086  1.000000"
      ]
     },
     "execution_count": 4,
     "metadata": {},
     "output_type": "execute_result"
    }
   ],
   "source": [
    "correlations = data.corr()\n",
    "correlations"
   ]
  },
  {
   "cell_type": "code",
   "execution_count": 5,
   "metadata": {},
   "outputs": [
    {
     "data": {
      "image/png": "[encoded data removed]",
      "text/plain": [
       "<Figure size 432x648 with 2 Axes>"
      ]
     },
     "metadata": {
      "needs_background": "light"
     },
     "output_type": "display_data"
    }
   ],
   "source": [
    "plt.figure(figsize=(6,9))\n",
    "sns.heatmap(correlations, vmax=1,vmin=-1, center=0, square=True,annot=True,cmap='coolwarm',annot_kws={\"size\": 16}, \n",
    "            linewidths=1, linecolor='black')\n",
    "plt.title('Correlation between different fearures')\n",
    "plt.show()"
   ]
  },
  {
   "cell_type": "markdown",
   "metadata": {},
   "source": [
    "Далее согласно алгоритму, предполагая, что выборка извлечена из нормально распределенной генеральной совокупности, на уровне значимости α = 0,05 проверим гипотезу о незначимости корреляционной матрицы."
   ]
  },
  {
   "cell_type": "code",
   "execution_count": 6,
   "metadata": {
    "scrolled": true
   },
   "outputs": [
    {
     "name": "stdout",
     "output_type": "stream",
     "text": [
      "Наблюдаемое значение составило 36.16939247904436\n",
      "Значение p-value равно 7.87158807955768e-05\n",
      "Отвергаем гипотезу, матрица парных коэффициентов корреляции значима\n"
     ]
    }
   ],
   "source": [
    "def chi_2(n,k,R):\n",
    "    return -(n-1/6*(2*k+5))*math.log(np.linalg.det(R), math.e)\n",
    "\n",
    "chi_2_crt=chi_2(data.shape[0],data.shape[1],correlations)\n",
    "print('Наблюдаемое значение составило',chi_2_crt)\n",
    "p_value=chi2.sf(chi_2_crt, data.shape[1]*(data.shape[1]-1)/2)\n",
    "print ('Значение p-value равно {}'.format(p_value))\n",
    "if p_value>0.05:\n",
    "    print('Принимаем гипотезу, матрица парных коэффициентов корреляции незначима')\n",
    "else:\n",
    "    print('Отвергаем гипотезу, матрица парных коэффициентов корреляции значима')"
   ]
  },
  {
   "cell_type": "markdown",
   "metadata": {},
   "source": [
    "# Снижение размерности методом главных компонент."
   ]
  },
  {
   "cell_type": "markdown",
   "metadata": {},
   "source": [
    "## Рассчитаем оценки собственных чисел корреляционной матрицы."
   ]
  },
  {
   "cell_type": "code",
   "execution_count": 7,
   "metadata": {
    "scrolled": true
   },
   "outputs": [],
   "source": [
    "uns_eigenvalues,eigenvectors=np.linalg.eig(correlations)\n",
    "couple_lst=[]\n",
    "for i in range(len(uns_eigenvalues)):\n",
    "    couple_lst.append((uns_eigenvalues[i],eigenvectors[:,i]))\n",
    "    \n",
    "from operator import itemgetter\n",
    "couple_lst = sorted(couple_lst, key = itemgetter(0),reverse=True)\n",
    "#список со значениями оценок собственных чисел (eigenvalues), расположенных по убыванию\n",
    "eigenvalues=sorted(uns_eigenvalues,reverse=True)"
   ]
  },
  {
   "cell_type": "code",
   "execution_count": 8,
   "metadata": {
    "scrolled": true
   },
   "outputs": [
    {
     "data": {
      "text/html": [
       "<div>\n",
       "<style scoped>\n",
       "    .dataframe tbody tr th:only-of-type {\n",
       "        vertical-align: middle;\n",
       "    }\n",
       "\n",
       "    .dataframe tbody tr th {\n",
       "        vertical-align: top;\n",
       "    }\n",
       "\n",
       "    .dataframe thead th {\n",
       "        text-align: right;\n",
       "    }\n",
       "</style>\n",
       "<table border=\"1\" class=\"dataframe\">\n",
       "  <thead>\n",
       "    <tr style=\"text-align: right;\">\n",
       "      <th></th>\n",
       "      <th>eigenvalues</th>\n",
       "    </tr>\n",
       "  </thead>\n",
       "  <tbody>\n",
       "    <tr>\n",
       "      <th>1</th>\n",
       "      <td>1.956367</td>\n",
       "    </tr>\n",
       "    <tr>\n",
       "      <th>2</th>\n",
       "      <td>1.146613</td>\n",
       "    </tr>\n",
       "    <tr>\n",
       "      <th>3</th>\n",
       "      <td>0.973859</td>\n",
       "    </tr>\n",
       "    <tr>\n",
       "      <th>4</th>\n",
       "      <td>0.561517</td>\n",
       "    </tr>\n",
       "    <tr>\n",
       "      <th>5</th>\n",
       "      <td>0.361644</td>\n",
       "    </tr>\n",
       "  </tbody>\n",
       "</table>\n",
       "</div>"
      ],
      "text/plain": [
       "   eigenvalues\n",
       "1     1.956367\n",
       "2     1.146613\n",
       "3     0.973859\n",
       "4     0.561517\n",
       "5     0.361644"
      ]
     },
     "execution_count": 8,
     "metadata": {},
     "output_type": "execute_result"
    }
   ],
   "source": [
    "pd.DataFrame(eigenvalues, index=list(range(1,f_len+1)), columns = ['eigenvalues'])"
   ]
  },
  {
   "cell_type": "markdown",
   "metadata": {},
   "source": [
    "## Доверительные интервалы для собственных значений"
   ]
  },
  {
   "cell_type": "markdown",
   "metadata": {},
   "source": [
    "С вероятностью γ=0,95 построим доверительные интервалы для собственных чисел матрицы парных коэффициентов корреляции.\n",
    "Доверительный интервал для i-ого собственного числа λi при большом объеме выборки имеет вид:\n",
    "\n",
    "$$ \\frac {\\hat \\lambda_i}{1 +  u_{\\frac {1+\\gamma} {2}} \\sqrt {\\frac {2}{n-1}} } < \\lambda_i < \\frac {\\hat \\lambda_i}{1 -  u_{\\frac {1+\\gamma} {2}} \\sqrt {\\frac {2}{n-1}} } $$ \n",
    "\n",
    "где $ u_{\\frac {1+\\gamma} {2}} $ – квантиль уровня $ \\frac {1+\\gamma}{2} $ стандартного нормального распределения\n",
    "<br>\n",
    "n – объем выборки."
   ]
  },
  {
   "cell_type": "code",
   "execution_count": 9,
   "metadata": {
    "scrolled": true
   },
   "outputs": [
    {
     "data": {
      "text/html": [
       "<div>\n",
       "<style scoped>\n",
       "    .dataframe tbody tr th:only-of-type {\n",
       "        vertical-align: middle;\n",
       "    }\n",
       "\n",
       "    .dataframe tbody tr th {\n",
       "        vertical-align: top;\n",
       "    }\n",
       "\n",
       "    .dataframe thead th {\n",
       "        text-align: right;\n",
       "    }\n",
       "</style>\n",
       "<table border=\"1\" class=\"dataframe\">\n",
       "  <thead>\n",
       "    <tr style=\"text-align: right;\">\n",
       "      <th></th>\n",
       "      <th>Нижняя граница</th>\n",
       "      <th>Собственное значение</th>\n",
       "      <th>Верхняя граница</th>\n",
       "    </tr>\n",
       "  </thead>\n",
       "  <tbody>\n",
       "    <tr>\n",
       "      <th>0</th>\n",
       "      <td>1.388794</td>\n",
       "      <td>1.956367</td>\n",
       "      <td>3.308478</td>\n",
       "    </tr>\n",
       "    <tr>\n",
       "      <th>1</th>\n",
       "      <td>0.813962</td>\n",
       "      <td>1.146613</td>\n",
       "      <td>1.939076</td>\n",
       "    </tr>\n",
       "    <tr>\n",
       "      <th>2</th>\n",
       "      <td>0.691327</td>\n",
       "      <td>0.973859</td>\n",
       "      <td>1.646926</td>\n",
       "    </tr>\n",
       "    <tr>\n",
       "      <th>3</th>\n",
       "      <td>0.398612</td>\n",
       "      <td>0.561517</td>\n",
       "      <td>0.949600</td>\n",
       "    </tr>\n",
       "    <tr>\n",
       "      <th>4</th>\n",
       "      <td>0.256725</td>\n",
       "      <td>0.361644</td>\n",
       "      <td>0.611589</td>\n",
       "    </tr>\n",
       "  </tbody>\n",
       "</table>\n",
       "</div>"
      ],
      "text/plain": [
       "   Нижняя граница  Собственное значение  Верхняя граница\n",
       "0        1.388794              1.956367         3.308478\n",
       "1        0.813962              1.146613         1.939076\n",
       "2        0.691327              0.973859         1.646926\n",
       "3        0.398612              0.561517         0.949600\n",
       "4        0.256725              0.361644         0.611589"
      ]
     },
     "execution_count": 9,
     "metadata": {},
     "output_type": "execute_result"
    }
   ],
   "source": [
    "def eigenval_left(l,n):\n",
    "    return l/(1+ss.norm.ppf(0.975)*math.sqrt(2/(n-1))) #находим нижнюю границу интервала\n",
    "\n",
    "def eigenval_right(l,n):\n",
    "    return l/(1-ss.norm.ppf(0.975)*math.sqrt(2/(n-1))) #находим верхнюю границу интервала\n",
    "\n",
    "conf_interval=np.empty((5, 3)) # создание матрицы для каждого из значений интервала и соответствующего ему собственного числа\n",
    "for i in range(conf_interval.shape[0]):\n",
    "    conf_interval[i,0]=eigenval_left(eigenvalues[i],data.shape[0])\n",
    "    conf_interval[i,1]=eigenvalues[i]\n",
    "    conf_interval[i,2]=eigenval_right(eigenvalues[i],data.shape[0])\n",
    "    \n",
    "conf_interval_df=pd.DataFrame(\n",
    "    conf_interval,\n",
    "    columns=['Нижняя граница','Собственное значение','Верхняя граница'])\n",
    "conf_interval_df"
   ]
  },
  {
   "cell_type": "markdown",
   "metadata": {},
   "source": [
    "Так как оценки собственных чисел не попадают в доверительные интервалы других собственных чисел, то нет оснований заподозрить кратность собственных чисел."
   ]
  },
  {
   "cell_type": "markdown",
   "metadata": {},
   "source": [
    "## Определение количества ГК"
   ]
  },
  {
   "cell_type": "markdown",
   "metadata": {},
   "source": [
    "Рассчтаем вклад главных компонент в суммарную дисперсию исходных признаков."
   ]
  },
  {
   "cell_type": "code",
   "execution_count": 10,
   "metadata": {
    "scrolled": true
   },
   "outputs": [],
   "source": [
    "dispersion=np.zeros(len(eigenvalues))\n",
    "for i in range(dispersion.shape[0]):\n",
    "    dispersion[i]=eigenvalues[i]/uns_eigenvalues.sum()"
   ]
  },
  {
   "cell_type": "code",
   "execution_count": 11,
   "metadata": {
    "scrolled": true
   },
   "outputs": [],
   "source": [
    "cumlt_dispersion = np.zeros(f_len)\n",
    "cur=0\n",
    "for i in range(len(features)):\n",
    "    cur=cur+dispersion[i]\n",
    "    cumlt_dispersion[i]=cur"
   ]
  },
  {
   "cell_type": "code",
   "execution_count": 12,
   "metadata": {
    "scrolled": true
   },
   "outputs": [],
   "source": [
    "cumlt=np.zeros(f_len)\n",
    "cur=0\n",
    "for i in range(len(features)):\n",
    "    cur=cur+eigenvalues[i]\n",
    "    cumlt[i]=cur"
   ]
  },
  {
   "cell_type": "code",
   "execution_count": 13,
   "metadata": {
    "scrolled": true
   },
   "outputs": [
    {
     "data": {
      "text/html": [
       "<div>\n",
       "<style scoped>\n",
       "    .dataframe tbody tr th:only-of-type {\n",
       "        vertical-align: middle;\n",
       "    }\n",
       "\n",
       "    .dataframe tbody tr th {\n",
       "        vertical-align: top;\n",
       "    }\n",
       "\n",
       "    .dataframe thead th {\n",
       "        text-align: right;\n",
       "    }\n",
       "</style>\n",
       "<table border=\"1\" class=\"dataframe\">\n",
       "  <thead>\n",
       "    <tr style=\"text-align: right;\">\n",
       "      <th></th>\n",
       "      <th>eig</th>\n",
       "      <th>variance</th>\n",
       "      <th>cumlt_eig</th>\n",
       "      <th>cumlt_variance</th>\n",
       "    </tr>\n",
       "  </thead>\n",
       "  <tbody>\n",
       "    <tr>\n",
       "      <th>0</th>\n",
       "      <td>1.956367</td>\n",
       "      <td>0.391273</td>\n",
       "      <td>1.956367</td>\n",
       "      <td>0.391273</td>\n",
       "    </tr>\n",
       "    <tr>\n",
       "      <th>1</th>\n",
       "      <td>1.146613</td>\n",
       "      <td>0.229323</td>\n",
       "      <td>3.102980</td>\n",
       "      <td>0.620596</td>\n",
       "    </tr>\n",
       "    <tr>\n",
       "      <th>2</th>\n",
       "      <td>0.973859</td>\n",
       "      <td>0.194772</td>\n",
       "      <td>4.076839</td>\n",
       "      <td>0.815368</td>\n",
       "    </tr>\n",
       "    <tr>\n",
       "      <th>3</th>\n",
       "      <td>0.561517</td>\n",
       "      <td>0.112303</td>\n",
       "      <td>4.638356</td>\n",
       "      <td>0.927671</td>\n",
       "    </tr>\n",
       "    <tr>\n",
       "      <th>4</th>\n",
       "      <td>0.361644</td>\n",
       "      <td>0.072329</td>\n",
       "      <td>5.000000</td>\n",
       "      <td>1.000000</td>\n",
       "    </tr>\n",
       "  </tbody>\n",
       "</table>\n",
       "</div>"
      ],
      "text/plain": [
       "        eig  variance  cumlt_eig  cumlt_variance\n",
       "0  1.956367  0.391273   1.956367        0.391273\n",
       "1  1.146613  0.229323   3.102980        0.620596\n",
       "2  0.973859  0.194772   4.076839        0.815368\n",
       "3  0.561517  0.112303   4.638356        0.927671\n",
       "4  0.361644  0.072329   5.000000        1.000000"
      ]
     },
     "execution_count": 13,
     "metadata": {},
     "output_type": "execute_result"
    }
   ],
   "source": [
    "d=np.array([eigenvalues,dispersion,cumlt,cumlt_dispersion]).T\n",
    "s=pd.DataFrame(\n",
    "    data=d,\n",
    "    columns=['eig','variance','cumlt_eig','cumlt_variance'])\n",
    "s"
   ]
  },
  {
   "cell_type": "code",
   "execution_count": 14,
   "metadata": {
    "scrolled": true
   },
   "outputs": [
    {
     "name": "stdout",
     "output_type": "stream",
     "text": [
      "Нижняя граница уровня информативности: 44.06%\n"
     ]
    }
   ],
   "source": [
    "#нижняя граница уровня информативности\n",
    "low_inf = (conf_interval[0,0] + conf_interval[1,0])*100/5\n",
    "print ('Нижняя граница уровня информативности:',\"%5.2f\"%(low_inf)+'%')"
   ]
  },
  {
   "cell_type": "markdown",
   "metadata": {},
   "source": [
    "### Критерий Кайзера"
   ]
  },
  {
   "cell_type": "markdown",
   "metadata": {},
   "source": [
    "Посмотрим, сколько главных компонент предлагает взять критерий Кайзера."
   ]
  },
  {
   "cell_type": "code",
   "execution_count": 15,
   "metadata": {
    "scrolled": true
   },
   "outputs": [
    {
     "name": "stdout",
     "output_type": "stream",
     "text": [
      "Критерий Кайзера предлагает 2 ГК.\n"
     ]
    }
   ],
   "source": [
    "print(('Критерий Кайзера предлагает {} ГК.').format(len(s.eig[s.eig > 1])))"
   ]
  },
  {
   "cell_type": "markdown",
   "metadata": {},
   "source": [
    "### Критерий каменистой осыпи"
   ]
  },
  {
   "cell_type": "markdown",
   "metadata": {},
   "source": [
    "Построим график собственных чисел корреляционной матрицы."
   ]
  },
  {
   "cell_type": "code",
   "execution_count": 16,
   "metadata": {
    "scrolled": true
   },
   "outputs": [],
   "source": [
    "sum_lmbd=uns_eigenvalues.sum()\n",
    "dft = pd.DataFrame([])\n",
    "dft['y'] = eigenvalues #собственные значения в порядке убывания\n",
    "dft['x'] = list(range(1,f_len+1))\n",
    "dft['Tot_var'] = (dft['y']/sum_lmbd).apply(lambda x: round(x * 100, 2)).apply(str) + '%' #относительный вклад каждой \n",
    "#главной компоненты в суммарную дисперсию"
   ]
  },
  {
   "cell_type": "code",
   "execution_count": 17,
   "metadata": {},
   "outputs": [
    {
     "data": {
      "text/html": [
       "<div>\n",
       "<style scoped>\n",
       "    .dataframe tbody tr th:only-of-type {\n",
       "        vertical-align: middle;\n",
       "    }\n",
       "\n",
       "    .dataframe tbody tr th {\n",
       "        vertical-align: top;\n",
       "    }\n",
       "\n",
       "    .dataframe thead th {\n",
       "        text-align: right;\n",
       "    }\n",
       "</style>\n",
       "<table border=\"1\" class=\"dataframe\">\n",
       "  <thead>\n",
       "    <tr style=\"text-align: right;\">\n",
       "      <th></th>\n",
       "      <th>y</th>\n",
       "      <th>x</th>\n",
       "      <th>Tot_var</th>\n",
       "    </tr>\n",
       "  </thead>\n",
       "  <tbody>\n",
       "    <tr>\n",
       "      <th>0</th>\n",
       "      <td>1.956367</td>\n",
       "      <td>1</td>\n",
       "      <td>39.13%</td>\n",
       "    </tr>\n",
       "    <tr>\n",
       "      <th>1</th>\n",
       "      <td>1.146613</td>\n",
       "      <td>2</td>\n",
       "      <td>22.93%</td>\n",
       "    </tr>\n",
       "    <tr>\n",
       "      <th>2</th>\n",
       "      <td>0.973859</td>\n",
       "      <td>3</td>\n",
       "      <td>19.48%</td>\n",
       "    </tr>\n",
       "    <tr>\n",
       "      <th>3</th>\n",
       "      <td>0.561517</td>\n",
       "      <td>4</td>\n",
       "      <td>11.23%</td>\n",
       "    </tr>\n",
       "    <tr>\n",
       "      <th>4</th>\n",
       "      <td>0.361644</td>\n",
       "      <td>5</td>\n",
       "      <td>7.23%</td>\n",
       "    </tr>\n",
       "  </tbody>\n",
       "</table>\n",
       "</div>"
      ],
      "text/plain": [
       "          y  x Tot_var\n",
       "0  1.956367  1  39.13%\n",
       "1  1.146613  2  22.93%\n",
       "2  0.973859  3  19.48%\n",
       "3  0.561517  4  11.23%\n",
       "4  0.361644  5   7.23%"
      ]
     },
     "execution_count": 17,
     "metadata": {},
     "output_type": "execute_result"
    }
   ],
   "source": [
    "dft"
   ]
  },
  {
   "cell_type": "code",
   "execution_count": 18,
   "metadata": {
    "scrolled": true
   },
   "outputs": [
    {
     "data": {
      "image/png": "[encoded data removed]",
      "text/plain": [
       "<Figure size 432x288 with 1 Axes>"
      ]
     },
     "metadata": {
      "needs_background": "light"
     },
     "output_type": "display_data"
    }
   ],
   "source": [
    "#plt.figure(figsize=(9,6))\n",
    "plt.plot(dft['x'], dft['y'], marker='o')\n",
    "ax = plt.gca()\n",
    "dft.apply(lambda x: ax.annotate(x['Tot_var'], (x['x'], x['y'])), axis=1);\n",
    "plt.title('Eigenvalues of correlation matrix')\n",
    "plt.grid(axis='y')\n",
    "plt.show()"
   ]
  },
  {
   "cell_type": "markdown",
   "metadata": {},
   "source": [
    "Выбираем количество главных компонент на основе критериев"
   ]
  },
  {
   "cell_type": "code",
   "execution_count": 19,
   "metadata": {},
   "outputs": [],
   "source": [
    "pc = 3"
   ]
  },
  {
   "cell_type": "markdown",
   "metadata": {},
   "source": [
    "## Матрица U"
   ]
  },
  {
   "cell_type": "markdown",
   "metadata": {},
   "source": [
    "Матрица коэффициентов линейного преобразования имеет вид:"
   ]
  },
  {
   "cell_type": "code",
   "execution_count": 20,
   "metadata": {
    "scrolled": true
   },
   "outputs": [],
   "source": [
    "u=np.empty((f_len,f_len))\n",
    "for i in range(f_len):\n",
    "    u[i]=couple_lst[i][1] #достаем главные компоненты(собственные векторы корреляционной матрицы) из матрицы couple_list\n",
    "    \n",
    "#pd.DataFrame(u)"
   ]
  },
  {
   "cell_type": "code",
   "execution_count": 21,
   "metadata": {
    "scrolled": true
   },
   "outputs": [
    {
     "data": {
      "text/html": [
       "<div>\n",
       "<style scoped>\n",
       "    .dataframe tbody tr th:only-of-type {\n",
       "        vertical-align: middle;\n",
       "    }\n",
       "\n",
       "    .dataframe tbody tr th {\n",
       "        vertical-align: top;\n",
       "    }\n",
       "\n",
       "    .dataframe thead th {\n",
       "        text-align: right;\n",
       "    }\n",
       "</style>\n",
       "<table border=\"1\" class=\"dataframe\">\n",
       "  <thead>\n",
       "    <tr style=\"text-align: right;\">\n",
       "      <th></th>\n",
       "      <th>X6</th>\n",
       "      <th>X16</th>\n",
       "      <th>X26</th>\n",
       "      <th>X31</th>\n",
       "      <th>X39</th>\n",
       "    </tr>\n",
       "  </thead>\n",
       "  <tbody>\n",
       "    <tr>\n",
       "      <th>Factor_1</th>\n",
       "      <td>0.170584</td>\n",
       "      <td>-0.562766</td>\n",
       "      <td>-0.565239</td>\n",
       "      <td>-0.415934</td>\n",
       "      <td>-0.402117</td>\n",
       "    </tr>\n",
       "    <tr>\n",
       "      <th>Factor_2</th>\n",
       "      <td>-0.348755</td>\n",
       "      <td>0.255707</td>\n",
       "      <td>-0.315968</td>\n",
       "      <td>0.555395</td>\n",
       "      <td>-0.636148</td>\n",
       "    </tr>\n",
       "    <tr>\n",
       "      <th>Factor_3</th>\n",
       "      <td>0.897828</td>\n",
       "      <td>0.252420</td>\n",
       "      <td>-0.185801</td>\n",
       "      <td>0.307876</td>\n",
       "      <td>-0.029672</td>\n",
       "    </tr>\n",
       "    <tr>\n",
       "      <th>Factor_4</th>\n",
       "      <td>-0.121949</td>\n",
       "      <td>-0.463633</td>\n",
       "      <td>-0.383176</td>\n",
       "      <td>0.558308</td>\n",
       "      <td>0.558249</td>\n",
       "    </tr>\n",
       "    <tr>\n",
       "      <th>Factor_5</th>\n",
       "      <td>-0.168242</td>\n",
       "      <td>0.582440</td>\n",
       "      <td>-0.631920</td>\n",
       "      <td>-0.334723</td>\n",
       "      <td>0.347988</td>\n",
       "    </tr>\n",
       "  </tbody>\n",
       "</table>\n",
       "</div>"
      ],
      "text/plain": [
       "                X6       X16       X26       X31       X39\n",
       "Factor_1  0.170584 -0.562766 -0.565239 -0.415934 -0.402117\n",
       "Factor_2 -0.348755  0.255707 -0.315968  0.555395 -0.636148\n",
       "Factor_3  0.897828  0.252420 -0.185801  0.307876 -0.029672\n",
       "Factor_4 -0.121949 -0.463633 -0.383176  0.558308  0.558249\n",
       "Factor_5 -0.168242  0.582440 -0.631920 -0.334723  0.347988"
      ]
     },
     "execution_count": 21,
     "metadata": {},
     "output_type": "execute_result"
    }
   ],
   "source": [
    "df_u=pd.DataFrame(\n",
    "    data=u,\n",
    "    index=['Factor_' + str(i + 1) for i in range(f_len)],\n",
    "    columns=features)\n",
    "df_u # eigenvectors of correlation matrix\n",
    "# ВНИМАНИЕ !!!!!\n",
    "#Она не сходится со статистикой !!! Но правильная именно в питоне ( в статистике матрица не нормирована, см. методичку) !!!"
   ]
  },
  {
   "cell_type": "markdown",
   "metadata": {},
   "source": [
    "Главные компоненты связаны с центрировано-нормированными исходными признаками следующими линейными комбинациями:"
   ]
  },
  {
   "cell_type": "code",
   "execution_count": 22,
   "metadata": {
    "scrolled": true
   },
   "outputs": [
    {
     "name": "stdout",
     "output_type": "stream",
     "text": [
      "Z1 = 0.171*X1 + -0.563*X2 + -0.565*X3 + -0.416*X4 + -0.402*X5\n",
      "Z2 = -0.349*X1 + 0.256*X2 + -0.316*X3 + 0.555*X4 + -0.636*X5\n",
      "Z3 = 0.898*X1 + 0.252*X2 + -0.186*X3 + 0.308*X4 + -0.030*X5\n"
     ]
    }
   ],
   "source": [
    "for i in range(0,pc):\n",
    "    print(('Z{:1} = '+'{:2.3f}*X{:1} + '*4+'{:2.3f}*X{:1}').format(i+1,u[i][0],1,u[i][1],2,u[i][2],3,u[i][3],4,u[i][4],5))"
   ]
  },
  {
   "cell_type": "markdown",
   "metadata": {},
   "source": [
    "## Матрица нагрузок А"
   ]
  },
  {
   "cell_type": "markdown",
   "metadata": {},
   "source": [
    "Рассчитаем матрицу нагрузок."
   ]
  },
  {
   "cell_type": "code",
   "execution_count": 23,
   "metadata": {
    "scrolled": true
   },
   "outputs": [
    {
     "data": {
      "text/html": [
       "<div>\n",
       "<style scoped>\n",
       "    .dataframe tbody tr th:only-of-type {\n",
       "        vertical-align: middle;\n",
       "    }\n",
       "\n",
       "    .dataframe tbody tr th {\n",
       "        vertical-align: top;\n",
       "    }\n",
       "\n",
       "    .dataframe thead th {\n",
       "        text-align: right;\n",
       "    }\n",
       "</style>\n",
       "<table border=\"1\" class=\"dataframe\">\n",
       "  <thead>\n",
       "    <tr style=\"text-align: right;\">\n",
       "      <th></th>\n",
       "      <th>Factor_1</th>\n",
       "      <th>Factor_2</th>\n",
       "      <th>Factor_3</th>\n",
       "      <th>Factor_4</th>\n",
       "      <th>Factor_5</th>\n",
       "    </tr>\n",
       "  </thead>\n",
       "  <tbody>\n",
       "    <tr>\n",
       "      <th>X6</th>\n",
       "      <td>0.238597</td>\n",
       "      <td>-0.373447</td>\n",
       "      <td>0.886015</td>\n",
       "      <td>-0.091382</td>\n",
       "      <td>-0.101175</td>\n",
       "    </tr>\n",
       "    <tr>\n",
       "      <th>X16</th>\n",
       "      <td>-0.787142</td>\n",
       "      <td>0.273811</td>\n",
       "      <td>0.249099</td>\n",
       "      <td>-0.347421</td>\n",
       "      <td>0.350261</td>\n",
       "    </tr>\n",
       "    <tr>\n",
       "      <th>X26</th>\n",
       "      <td>-0.790601</td>\n",
       "      <td>-0.338339</td>\n",
       "      <td>-0.183357</td>\n",
       "      <td>-0.287130</td>\n",
       "      <td>-0.380017</td>\n",
       "    </tr>\n",
       "    <tr>\n",
       "      <th>X31</th>\n",
       "      <td>-0.581768</td>\n",
       "      <td>0.594718</td>\n",
       "      <td>0.303825</td>\n",
       "      <td>0.418365</td>\n",
       "      <td>-0.201292</td>\n",
       "    </tr>\n",
       "    <tr>\n",
       "      <th>X39</th>\n",
       "      <td>-0.562442</td>\n",
       "      <td>-0.681187</td>\n",
       "      <td>-0.029282</td>\n",
       "      <td>0.418320</td>\n",
       "      <td>0.209269</td>\n",
       "    </tr>\n",
       "  </tbody>\n",
       "</table>\n",
       "</div>"
      ],
      "text/plain": [
       "     Factor_1  Factor_2  Factor_3  Factor_4  Factor_5\n",
       "X6   0.238597 -0.373447  0.886015 -0.091382 -0.101175\n",
       "X16 -0.787142  0.273811  0.249099 -0.347421  0.350261\n",
       "X26 -0.790601 -0.338339 -0.183357 -0.287130 -0.380017\n",
       "X31 -0.581768  0.594718  0.303825  0.418365 -0.201292\n",
       "X39 -0.562442 -0.681187 -0.029282  0.418320  0.209269"
      ]
     },
     "execution_count": 23,
     "metadata": {},
     "output_type": "execute_result"
    }
   ],
   "source": [
    "#матрица нагрузок\n",
    "lmbd = np.zeros((f_len,f_len))\n",
    "for i in range(f_len):\n",
    "    lmbd[i][i]= math.sqrt(eigenvalues[i])\n",
    "            \n",
    "A = np.dot(u.T, lmbd)\n",
    "df_A = pd.DataFrame(data=A,columns=['Factor_' + str(i + 1) for i in range(f_len)],index=features)\n",
    "df_A"
   ]
  },
  {
   "cell_type": "code",
   "execution_count": 24,
   "metadata": {
    "scrolled": false
   },
   "outputs": [],
   "source": [
    "# Могут не совпасть отдельные столбики со Statistica, так как собственные вектора берутся с точностью до знака\n",
    "# Если очень хочется подогнать, можно написать:\n",
    "#df_A['Factor_1'] *= -1  # если не совпал первый столбик\n",
    "#df_A['Factor_2'] *= -1  # если не совпал второй столбик\n",
    "#df_A['Factor_3'] *= -1  # если не совпал третий столбик\n",
    "#df_A['Factor_4'] *= -1  #если не совпал четвертый столбик\n",
    "#df_A['Factor_5'] *= -1  #если не совпал пятый столбик\n",
    "#df_A#проверить, сходится ли теперь"
   ]
  },
  {
   "cell_type": "markdown",
   "metadata": {},
   "source": [
    "Так как размерность признакового пространства снижена до двух, то матрица факторных нагрузок имеет размерность 5х2."
   ]
  },
  {
   "cell_type": "code",
   "execution_count": 25,
   "metadata": {
    "scrolled": true
   },
   "outputs": [
    {
     "data": {
      "text/html": [
       "<div>\n",
       "<style scoped>\n",
       "    .dataframe tbody tr th:only-of-type {\n",
       "        vertical-align: middle;\n",
       "    }\n",
       "\n",
       "    .dataframe tbody tr th {\n",
       "        vertical-align: top;\n",
       "    }\n",
       "\n",
       "    .dataframe thead th {\n",
       "        text-align: right;\n",
       "    }\n",
       "</style>\n",
       "<table border=\"1\" class=\"dataframe\">\n",
       "  <thead>\n",
       "    <tr style=\"text-align: right;\">\n",
       "      <th></th>\n",
       "      <th>Factor_1</th>\n",
       "      <th>Factor_2</th>\n",
       "      <th>Factor_3</th>\n",
       "    </tr>\n",
       "  </thead>\n",
       "  <tbody>\n",
       "    <tr>\n",
       "      <th>X6</th>\n",
       "      <td>0.238597</td>\n",
       "      <td>-0.373447</td>\n",
       "      <td>0.886015</td>\n",
       "    </tr>\n",
       "    <tr>\n",
       "      <th>X16</th>\n",
       "      <td>-0.787142</td>\n",
       "      <td>0.273811</td>\n",
       "      <td>0.249099</td>\n",
       "    </tr>\n",
       "    <tr>\n",
       "      <th>X26</th>\n",
       "      <td>-0.790601</td>\n",
       "      <td>-0.338339</td>\n",
       "      <td>-0.183357</td>\n",
       "    </tr>\n",
       "    <tr>\n",
       "      <th>X31</th>\n",
       "      <td>-0.581768</td>\n",
       "      <td>0.594718</td>\n",
       "      <td>0.303825</td>\n",
       "    </tr>\n",
       "    <tr>\n",
       "      <th>X39</th>\n",
       "      <td>-0.562442</td>\n",
       "      <td>-0.681187</td>\n",
       "      <td>-0.029282</td>\n",
       "    </tr>\n",
       "  </tbody>\n",
       "</table>\n",
       "</div>"
      ],
      "text/plain": [
       "     Factor_1  Factor_2  Factor_3\n",
       "X6   0.238597 -0.373447  0.886015\n",
       "X16 -0.787142  0.273811  0.249099\n",
       "X26 -0.790601 -0.338339 -0.183357\n",
       "X31 -0.581768  0.594718  0.303825\n",
       "X39 -0.562442 -0.681187 -0.029282"
      ]
     },
     "execution_count": 25,
     "metadata": {},
     "output_type": "execute_result"
    }
   ],
   "source": [
    "df_A_cut = pd.DataFrame(data=A[:,:pc],columns=['Factor_' + str(i) for i in range(1,pc+1)],index=features)\n",
    "df_A_cut"
   ]
  },
  {
   "cell_type": "markdown",
   "metadata": {},
   "source": [
    "Получим расположение признаков в пространстве первых двух главных компонент.\n",
    "Если вы вдруг взяли 3 главные компоненты, то тут можно получать сравненение только по двум координатам,\n",
    "меняя в 'Factor_' цифры\n",
    "Трехмерное изображение не предусмотрено"
   ]
  },
  {
   "cell_type": "code",
   "execution_count": 26,
   "metadata": {
    "scrolled": false
   },
   "outputs": [
    {
     "data": {
      "image/png": "[encoded data removed]",
      "text/plain": [
       "<Figure size 432x288 with 1 Axes>"
      ]
     },
     "metadata": {
      "needs_background": "light"
     },
     "output_type": "display_data"
    }
   ],
   "source": [
    "#plt.figure(figsize=(9,6))\n",
    "plt.scatter(df_A_cut['Factor_1'], df_A_cut['Factor_2'])\n",
    "plt.scatter (0,0,c = 'r')\n",
    "for i in features:\n",
    "    plt.annotate('{}'.format(i), xy=(df_A_cut['Factor_1'][i], df_A_cut['Factor_2'][i]))\n",
    "plt.title('loadings')\n",
    "plt.grid()\n",
    "plt.show()"
   ]
  },
  {
   "cell_type": "markdown",
   "metadata": {},
   "source": [
    "Центрировано-нормированные исходные признаки связаны с центрировано-нормированными главными компонентами следующими выражениями:"
   ]
  },
  {
   "cell_type": "code",
   "execution_count": 27,
   "metadata": {
    "scrolled": true
   },
   "outputs": [
    {
     "name": "stdout",
     "output_type": "stream",
     "text": [
      "X1 = 0.239*F1 + -0.373*F2 + 0.886*F3\n",
      "X2 = -0.787*F1 + 0.274*F2 + 0.249*F3\n",
      "X3 = -0.791*F1 + -0.338*F2 + -0.183*F3\n",
      "X4 = -0.582*F1 + 0.595*F2 + 0.304*F3\n",
      "X5 = -0.562*F1 + -0.681*F2 + -0.029*F3\n"
     ]
    }
   ],
   "source": [
    "for i in range(0,f_len):\n",
    "    print(('X{:1} = '+'{:2.3f}*F{:1} + {:2.3f}*F{:1} + {:2.3f}*F{:1}').format(i+1,A[i][0],1,A[i][1],2,A[i][2],3))"
   ]
  },
  {
   "cell_type": "markdown",
   "metadata": {},
   "source": [
    "## Расчет индивидуальных значений (матрица F)"
   ]
  },
  {
   "cell_type": "markdown",
   "metadata": {},
   "source": [
    "Рассчитаем матрицу индивидуальных значений центрировано-нормированных главных компонент."
   ]
  },
  {
   "cell_type": "code",
   "execution_count": 28,
   "metadata": {
    "scrolled": true
   },
   "outputs": [
    {
     "data": {
      "text/html": [
       "<div>\n",
       "<style scoped>\n",
       "    .dataframe tbody tr th:only-of-type {\n",
       "        vertical-align: middle;\n",
       "    }\n",
       "\n",
       "    .dataframe tbody tr th {\n",
       "        vertical-align: top;\n",
       "    }\n",
       "\n",
       "    .dataframe thead th {\n",
       "        text-align: right;\n",
       "    }\n",
       "</style>\n",
       "<table border=\"1\" class=\"dataframe\">\n",
       "  <thead>\n",
       "    <tr style=\"text-align: right;\">\n",
       "      <th></th>\n",
       "      <th>Factor1</th>\n",
       "      <th>Factor2</th>\n",
       "      <th>Factor3</th>\n",
       "    </tr>\n",
       "  </thead>\n",
       "  <tbody>\n",
       "    <tr>\n",
       "      <th>Абдулинский</th>\n",
       "      <td>0.971513</td>\n",
       "      <td>-0.544139</td>\n",
       "      <td>1.793303</td>\n",
       "    </tr>\n",
       "    <tr>\n",
       "      <th>Адамовский</th>\n",
       "      <td>-0.170873</td>\n",
       "      <td>0.754375</td>\n",
       "      <td>-0.871484</td>\n",
       "    </tr>\n",
       "    <tr>\n",
       "      <th>Акбулакский</th>\n",
       "      <td>0.608009</td>\n",
       "      <td>0.148230</td>\n",
       "      <td>-1.672799</td>\n",
       "    </tr>\n",
       "    <tr>\n",
       "      <th>Александровский</th>\n",
       "      <td>0.685457</td>\n",
       "      <td>0.136194</td>\n",
       "      <td>-0.892481</td>\n",
       "    </tr>\n",
       "    <tr>\n",
       "      <th>Асекеевский</th>\n",
       "      <td>0.516025</td>\n",
       "      <td>-0.271636</td>\n",
       "      <td>0.488128</td>\n",
       "    </tr>\n",
       "  </tbody>\n",
       "</table>\n",
       "</div>"
      ],
      "text/plain": [
       "                  Factor1   Factor2   Factor3\n",
       "Абдулинский      0.971513 -0.544139  1.793303\n",
       "Адамовский      -0.170873  0.754375 -0.871484\n",
       "Акбулакский      0.608009  0.148230 -1.672799\n",
       "Александровский  0.685457  0.136194 -0.892481\n",
       "Асекеевский      0.516025 -0.271636  0.488128"
      ]
     },
     "execution_count": 28,
     "metadata": {},
     "output_type": "execute_result"
    }
   ],
   "source": [
    "F=np.dot(np.dot(np.linalg.inv(np.dot(A[:,:pc].T,A[:,:pc])),A[:,:pc].T),data.T)\n",
    "df_F = pd.DataFrame(data=F.T, columns=['Factor'+str(i) for i in range(1,pc+1)], index=data.index).head()\n",
    "df_F"
   ]
  },
  {
   "cell_type": "markdown",
   "metadata": {},
   "source": [
    "# Снижение размерности признакового пространства методом главных факторов"
   ]
  },
  {
   "cell_type": "markdown",
   "metadata": {},
   "source": [
    "## Оценки общностей и ОЦЕНКА редуцированной матрицы"
   ]
  },
  {
   "cell_type": "markdown",
   "metadata": {},
   "source": [
    "### Оценки общностей"
   ]
  },
  {
   "cell_type": "markdown",
   "metadata": {},
   "source": [
    "Оценками общностей будут служить квадраты оценок множественных коэффициентов корреляции."
   ]
  },
  {
   "cell_type": "code",
   "execution_count": 29,
   "metadata": {},
   "outputs": [],
   "source": [
    "communalities=[]\n",
    "for variable in features:\n",
    "    communalities.append(ols(formula=\"{} ~ {}\".format(variable, ' + '.join(set(features)-set([variable]))),\n",
    "                             data=data).fit().rsquared)"
   ]
  },
  {
   "cell_type": "code",
   "execution_count": 30,
   "metadata": {
    "scrolled": true
   },
   "outputs": [
    {
     "data": {
      "text/html": [
       "<div>\n",
       "<style scoped>\n",
       "    .dataframe tbody tr th:only-of-type {\n",
       "        vertical-align: middle;\n",
       "    }\n",
       "\n",
       "    .dataframe tbody tr th {\n",
       "        vertical-align: top;\n",
       "    }\n",
       "\n",
       "    .dataframe thead th {\n",
       "        text-align: right;\n",
       "    }\n",
       "</style>\n",
       "<table border=\"1\" class=\"dataframe\">\n",
       "  <thead>\n",
       "    <tr style=\"text-align: right;\">\n",
       "      <th></th>\n",
       "      <th>Communalities</th>\n",
       "    </tr>\n",
       "  </thead>\n",
       "  <tbody>\n",
       "    <tr>\n",
       "      <th>X6</th>\n",
       "      <td>0.050726</td>\n",
       "    </tr>\n",
       "    <tr>\n",
       "      <th>X16</th>\n",
       "      <td>0.377020</td>\n",
       "    </tr>\n",
       "    <tr>\n",
       "      <th>X26</th>\n",
       "      <td>0.394488</td>\n",
       "    </tr>\n",
       "    <tr>\n",
       "      <th>X31</th>\n",
       "      <td>0.242256</td>\n",
       "    </tr>\n",
       "    <tr>\n",
       "      <th>X39</th>\n",
       "      <td>0.246047</td>\n",
       "    </tr>\n",
       "  </tbody>\n",
       "</table>\n",
       "</div>"
      ],
      "text/plain": [
       "     Communalities\n",
       "X6        0.050726\n",
       "X16       0.377020\n",
       "X26       0.394488\n",
       "X31       0.242256\n",
       "X39       0.246047"
      ]
     },
     "execution_count": 30,
     "metadata": {},
     "output_type": "execute_result"
    }
   ],
   "source": [
    "pd.DataFrame(communalities,index = features,columns = ['Communalities']) # это те самые множественные коэффициенты корреляции, которые являются оценками общностей"
   ]
  },
  {
   "cell_type": "markdown",
   "metadata": {},
   "source": [
    "### Оценка матрицы Rh"
   ]
  },
  {
   "cell_type": "markdown",
   "metadata": {},
   "source": [
    "На основе оценки матрицы парных коэффициентов корреляции и оценок общностей можно составить ОЦЕНКУ редуцированной матрицы R<sub><small>h</small></sub>."
   ]
  },
  {
   "cell_type": "code",
   "execution_count": 31,
   "metadata": {
    "scrolled": true
   },
   "outputs": [
    {
     "data": {
      "text/html": [
       "<div>\n",
       "<style scoped>\n",
       "    .dataframe tbody tr th:only-of-type {\n",
       "        vertical-align: middle;\n",
       "    }\n",
       "\n",
       "    .dataframe tbody tr th {\n",
       "        vertical-align: top;\n",
       "    }\n",
       "\n",
       "    .dataframe thead th {\n",
       "        text-align: right;\n",
       "    }\n",
       "</style>\n",
       "<table border=\"1\" class=\"dataframe\">\n",
       "  <thead>\n",
       "    <tr style=\"text-align: right;\">\n",
       "      <th></th>\n",
       "      <th>X6</th>\n",
       "      <th>X16</th>\n",
       "      <th>X26</th>\n",
       "      <th>X31</th>\n",
       "      <th>X39</th>\n",
       "    </tr>\n",
       "  </thead>\n",
       "  <tbody>\n",
       "    <tr>\n",
       "      <th>X6</th>\n",
       "      <td>0.050726</td>\n",
       "      <td>-0.073048</td>\n",
       "      <td>-0.160053</td>\n",
       "      <td>-0.109575</td>\n",
       "      <td>0.034846</td>\n",
       "    </tr>\n",
       "    <tr>\n",
       "      <th>X16</th>\n",
       "      <td>-0.073048</td>\n",
       "      <td>0.377020</td>\n",
       "      <td>0.450651</td>\n",
       "      <td>0.480604</td>\n",
       "      <td>0.176877</td>\n",
       "    </tr>\n",
       "    <tr>\n",
       "      <th>X26</th>\n",
       "      <td>-0.160053</td>\n",
       "      <td>0.450651</td>\n",
       "      <td>0.394488</td>\n",
       "      <td>0.159392</td>\n",
       "      <td>0.480870</td>\n",
       "    </tr>\n",
       "    <tr>\n",
       "      <th>X31</th>\n",
       "      <td>-0.109575</td>\n",
       "      <td>0.480604</td>\n",
       "      <td>0.159392</td>\n",
       "      <td>0.242256</td>\n",
       "      <td>0.046086</td>\n",
       "    </tr>\n",
       "    <tr>\n",
       "      <th>X39</th>\n",
       "      <td>0.034846</td>\n",
       "      <td>0.176877</td>\n",
       "      <td>0.480870</td>\n",
       "      <td>0.046086</td>\n",
       "      <td>0.246047</td>\n",
       "    </tr>\n",
       "  </tbody>\n",
       "</table>\n",
       "</div>"
      ],
      "text/plain": [
       "           X6       X16       X26       X31       X39\n",
       "X6   0.050726 -0.073048 -0.160053 -0.109575  0.034846\n",
       "X16 -0.073048  0.377020  0.450651  0.480604  0.176877\n",
       "X26 -0.160053  0.450651  0.394488  0.159392  0.480870\n",
       "X31 -0.109575  0.480604  0.159392  0.242256  0.046086\n",
       "X39  0.034846  0.176877  0.480870  0.046086  0.246047"
      ]
     },
     "execution_count": 31,
     "metadata": {},
     "output_type": "execute_result"
    }
   ],
   "source": [
    "Rh_eval = np.empty((f_len,f_len)) # оценка матрицы Rh - она как R, но на диагоналях оценки общностей\n",
    "for i in range (f_len):\n",
    "    for j in range (f_len):\n",
    "        if i==j:\n",
    "            Rh_eval[i][j] = communalities[i]\n",
    "        else:\n",
    "            Rh_eval[i][j] = correlations.values [i][j]\n",
    "            \n",
    "pd.DataFrame(Rh_eval, index=features, columns=features)"
   ]
  },
  {
   "cell_type": "markdown",
   "metadata": {},
   "source": [
    "## Выбор количества факторов"
   ]
  },
  {
   "cell_type": "markdown",
   "metadata": {},
   "source": [
    "Рассчитаем оценку собственных чисел оцененной матрицы R<sub><small>h</small></sub>."
   ]
  },
  {
   "cell_type": "code",
   "execution_count": 32,
   "metadata": {
    "scrolled": true
   },
   "outputs": [],
   "source": [
    "uns_eigenvalues_Rh_eval,eigenvectors_Rh_eval=np.linalg.eig(Rh_eval)\n",
    "couple_lst=[]\n",
    "for i in range(len(uns_eigenvalues_Rh_eval)): # список по убыванию сз с соответствующими св\n",
    "    couple_lst.append((uns_eigenvalues_Rh_eval[i],eigenvectors_Rh_eval[:,i]))\n",
    "    \n",
    "from operator import itemgetter\n",
    "couple_lst = sorted(couple_lst, key = itemgetter(0),reverse=True)\n",
    "#значениями оценок собственных чисел (eigenvalues), расположенных по убыванию\n",
    "eigenvalues_Rh_eval=sorted(uns_eigenvalues_Rh_eval,reverse=True)\n"
   ]
  },
  {
   "cell_type": "markdown",
   "metadata": {},
   "source": [
    "Выведем собственные значения и соответсвующие им собственые вектора оцененной матрицы R<sub><small>h</small></sub>."
   ]
  },
  {
   "cell_type": "code",
   "execution_count": 33,
   "metadata": {
    "scrolled": true
   },
   "outputs": [
    {
     "data": {
      "text/plain": [
       "[(1.289822425714057,\n",
       "  array([ 0.13394899, -0.58028438, -0.59064323, -0.38695547, -0.38305841])),\n",
       " (0.41298588899913274,\n",
       "  array([-0.13745812,  0.36277188, -0.38652728,  0.58783333, -0.5954414 ])),\n",
       " (0.06668779415330427,\n",
       "  array([ 0.91010053,  0.21303234, -0.23975592,  0.14513126,  0.21860528])),\n",
       " (-0.1514456931855765,\n",
       "  array([-0.19642103, -0.4726166 , -0.31616235,  0.58682688,  0.54196672])),\n",
       " (-0.3075139671792069,\n",
       "  array([-0.31032038,  0.5127547 , -0.58676717, -0.37321384,  0.39648405]))]"
      ]
     },
     "execution_count": 33,
     "metadata": {},
     "output_type": "execute_result"
    }
   ],
   "source": [
    "couple_lst"
   ]
  },
  {
   "cell_type": "markdown",
   "metadata": {},
   "source": [
    "### Сравнение общности с суммой лямбд"
   ]
  },
  {
   "cell_type": "code",
   "execution_count": 34,
   "metadata": {
    "scrolled": true
   },
   "outputs": [
    {
     "name": "stdout",
     "output_type": "stream",
     "text": [
      "Суммарная общность:  1.3105364485017097\n",
      "Сумма оценок первых двух собственных чисел редуцированной матрицы: 1.7028083147131896\n",
      "Размерность признакового пространства можно снизить до двух общих факторов.\n"
     ]
    }
   ],
   "source": [
    "print('Суммарная общность: ', np.trace(Rh_eval))\n",
    "print('Сумма оценок первых двух собственных чисел редуцированной матрицы:', eigenvalues_Rh_eval[0]+eigenvalues_Rh_eval[1])\n",
    "if  np.trace(Rh_eval) < eigenvalues_Rh_eval[0]+eigenvalues_Rh_eval[1]:\n",
    "    print('Размерность признакового пространства можно снизить до двух общих факторов.')\n",
    "else:\n",
    "    print ('До двух факторов снизить нельзя')"
   ]
  },
  {
   "cell_type": "markdown",
   "metadata": {},
   "source": [
    "### Критерий каменистой осыпи"
   ]
  },
  {
   "cell_type": "code",
   "execution_count": 35,
   "metadata": {
    "scrolled": true
   },
   "outputs": [
    {
     "data": {
      "text/html": [
       "<div>\n",
       "<style scoped>\n",
       "    .dataframe tbody tr th:only-of-type {\n",
       "        vertical-align: middle;\n",
       "    }\n",
       "\n",
       "    .dataframe tbody tr th {\n",
       "        vertical-align: top;\n",
       "    }\n",
       "\n",
       "    .dataframe thead th {\n",
       "        text-align: right;\n",
       "    }\n",
       "</style>\n",
       "<table border=\"1\" class=\"dataframe\">\n",
       "  <thead>\n",
       "    <tr style=\"text-align: right;\">\n",
       "      <th></th>\n",
       "      <th>y</th>\n",
       "      <th>x</th>\n",
       "      <th>Tot_var</th>\n",
       "    </tr>\n",
       "  </thead>\n",
       "  <tbody>\n",
       "    <tr>\n",
       "      <th>0</th>\n",
       "      <td>1.289822</td>\n",
       "      <td>0</td>\n",
       "      <td>25.8%</td>\n",
       "    </tr>\n",
       "    <tr>\n",
       "      <th>1</th>\n",
       "      <td>0.412986</td>\n",
       "      <td>1</td>\n",
       "      <td>8.26%</td>\n",
       "    </tr>\n",
       "    <tr>\n",
       "      <th>2</th>\n",
       "      <td>0.066688</td>\n",
       "      <td>2</td>\n",
       "      <td>1.33%</td>\n",
       "    </tr>\n",
       "  </tbody>\n",
       "</table>\n",
       "</div>"
      ],
      "text/plain": [
       "          y  x Tot_var\n",
       "0  1.289822  0   25.8%\n",
       "1  0.412986  1   8.26%\n",
       "2  0.066688  2   1.33%"
      ]
     },
     "execution_count": 35,
     "metadata": {},
     "output_type": "execute_result"
    }
   ],
   "source": [
    "dft = pd.DataFrame([])\n",
    "eigenvalues_pos=[]\n",
    "for i in range (len(eigenvalues_Rh_eval)):\n",
    "    if eigenvalues_Rh_eval[i] >= 0:\n",
    "        eigenvalues_pos.append(eigenvalues_Rh_eval[i])\n",
    "dft['y'] = eigenvalues_pos\n",
    "dft['x'] = list (range(len(eigenvalues_pos)))\n",
    "dft['Tot_var'] = (dft['y']/f_len).apply(lambda x: round(x * 100, 2)).apply(str) + '%'\n",
    "dft"
   ]
  },
  {
   "cell_type": "markdown",
   "metadata": {},
   "source": [
    "Построим график собственных чисел (положительных)."
   ]
  },
  {
   "cell_type": "code",
   "execution_count": 36,
   "metadata": {
    "scrolled": true
   },
   "outputs": [
    {
     "data": {
      "image/png": "[encoded data removed]",
      "text/plain": [
       "<Figure size 432x288 with 1 Axes>"
      ]
     },
     "metadata": {
      "needs_background": "light"
     },
     "output_type": "display_data"
    }
   ],
   "source": [
    "plt.figure(figsize=(6,4))\n",
    "plt.plot(dft['x'], dft['y'], marker='o')\n",
    "ax = plt.gca()\n",
    "dft.apply(lambda x: ax.annotate(x['Tot_var'], (x['x'], x['y'])), axis=1)\n",
    "plt.title('Positive eigenvalues of Rh_eval matrix')\n",
    "plt.grid(axis='y')\n",
    "plt.show()"
   ]
  },
  {
   "cell_type": "markdown",
   "metadata": {},
   "source": [
    "### Критерий Кайзера"
   ]
  },
  {
   "cell_type": "markdown",
   "metadata": {},
   "source": [
    "Посмотрим, сколько факторов предлагает брать критерий Кайзера."
   ]
  },
  {
   "cell_type": "code",
   "execution_count": 37,
   "metadata": {
    "scrolled": true
   },
   "outputs": [
    {
     "name": "stdout",
     "output_type": "stream",
     "text": [
      "Критерий Кайзера предлагает 1 фактор(-а/ов).\n"
     ]
    }
   ],
   "source": [
    "print('Критерий Кайзера предлагает {} фактор(-а/ов).'\n",
    "      .format(len(uns_eigenvalues_Rh_eval[uns_eigenvalues_Rh_eval > 1])))"
   ]
  },
  {
   "cell_type": "markdown",
   "metadata": {},
   "source": [
    "### Итоговое решение (на самом деле придется всегда брать 2)"
   ]
  },
  {
   "cell_type": "markdown",
   "metadata": {},
   "source": [
    "Установим число факторов равное двум."
   ]
  },
  {
   "cell_type": "code",
   "execution_count": 38,
   "metadata": {
    "scrolled": true
   },
   "outputs": [],
   "source": [
    "fact = 2"
   ]
  },
  {
   "cell_type": "markdown",
   "metadata": {},
   "source": [
    "## матрица U"
   ]
  },
  {
   "cell_type": "markdown",
   "metadata": {},
   "source": [
    "Рассчитаем матрицу U."
   ]
  },
  {
   "cell_type": "code",
   "execution_count": 39,
   "metadata": {
    "scrolled": true
   },
   "outputs": [
    {
     "data": {
      "text/html": [
       "<div>\n",
       "<style scoped>\n",
       "    .dataframe tbody tr th:only-of-type {\n",
       "        vertical-align: middle;\n",
       "    }\n",
       "\n",
       "    .dataframe tbody tr th {\n",
       "        vertical-align: top;\n",
       "    }\n",
       "\n",
       "    .dataframe thead th {\n",
       "        text-align: right;\n",
       "    }\n",
       "</style>\n",
       "<table border=\"1\" class=\"dataframe\">\n",
       "  <thead>\n",
       "    <tr style=\"text-align: right;\">\n",
       "      <th></th>\n",
       "      <th>X6</th>\n",
       "      <th>X16</th>\n",
       "      <th>X26</th>\n",
       "      <th>X31</th>\n",
       "      <th>X39</th>\n",
       "    </tr>\n",
       "  </thead>\n",
       "  <tbody>\n",
       "    <tr>\n",
       "      <th>Factor_1</th>\n",
       "      <td>0.133949</td>\n",
       "      <td>-0.580284</td>\n",
       "      <td>-0.590643</td>\n",
       "      <td>-0.386955</td>\n",
       "      <td>-0.383058</td>\n",
       "    </tr>\n",
       "    <tr>\n",
       "      <th>Factor_2</th>\n",
       "      <td>-0.137458</td>\n",
       "      <td>0.362772</td>\n",
       "      <td>-0.386527</td>\n",
       "      <td>0.587833</td>\n",
       "      <td>-0.595441</td>\n",
       "    </tr>\n",
       "  </tbody>\n",
       "</table>\n",
       "</div>"
      ],
      "text/plain": [
       "                X6       X16       X26       X31       X39\n",
       "Factor_1  0.133949 -0.580284 -0.590643 -0.386955 -0.383058\n",
       "Factor_2 -0.137458  0.362772 -0.386527  0.587833 -0.595441"
      ]
     },
     "execution_count": 39,
     "metadata": {},
     "output_type": "execute_result"
    }
   ],
   "source": [
    "U = np.empty ((fact,f_len)) # матрица U (у неё по строкам собств. вектора, соотв. положительным значениям РЕДУЦИРОВАННОЙ МАТРИЦЫ (уточнить у Домашовой))\n",
    "for i in range(fact):\n",
    "    U[i]=couple_lst[i][1]\n",
    "    \n",
    "df_U=pd.DataFrame( # обертка в датафрейм\n",
    "    data=U,\n",
    "    index=['Factor_' + str(i + 1) for i in range(fact)],\n",
    "    columns=features)\n",
    "df_U"
   ]
  },
  {
   "cell_type": "markdown",
   "metadata": {},
   "source": [
    "### Матрица нагрузок A"
   ]
  },
  {
   "cell_type": "markdown",
   "metadata": {},
   "source": [
    "Рассчитаем матрицу нагрузок."
   ]
  },
  {
   "cell_type": "code",
   "execution_count": 40,
   "metadata": {
    "scrolled": true
   },
   "outputs": [
    {
     "data": {
      "text/html": [
       "<div>\n",
       "<style scoped>\n",
       "    .dataframe tbody tr th:only-of-type {\n",
       "        vertical-align: middle;\n",
       "    }\n",
       "\n",
       "    .dataframe tbody tr th {\n",
       "        vertical-align: top;\n",
       "    }\n",
       "\n",
       "    .dataframe thead th {\n",
       "        text-align: right;\n",
       "    }\n",
       "</style>\n",
       "<table border=\"1\" class=\"dataframe\">\n",
       "  <thead>\n",
       "    <tr style=\"text-align: right;\">\n",
       "      <th></th>\n",
       "      <th>Factor_1</th>\n",
       "      <th>Factor_2</th>\n",
       "    </tr>\n",
       "  </thead>\n",
       "  <tbody>\n",
       "    <tr>\n",
       "      <th>X6</th>\n",
       "      <td>0.152126</td>\n",
       "      <td>-0.088336</td>\n",
       "    </tr>\n",
       "    <tr>\n",
       "      <th>X16</th>\n",
       "      <td>-0.659031</td>\n",
       "      <td>0.233132</td>\n",
       "    </tr>\n",
       "    <tr>\n",
       "      <th>X26</th>\n",
       "      <td>-0.670796</td>\n",
       "      <td>-0.248398</td>\n",
       "    </tr>\n",
       "    <tr>\n",
       "      <th>X31</th>\n",
       "      <td>-0.439467</td>\n",
       "      <td>0.377765</td>\n",
       "    </tr>\n",
       "    <tr>\n",
       "      <th>X39</th>\n",
       "      <td>-0.435041</td>\n",
       "      <td>-0.382654</td>\n",
       "    </tr>\n",
       "  </tbody>\n",
       "</table>\n",
       "</div>"
      ],
      "text/plain": [
       "     Factor_1  Factor_2\n",
       "X6   0.152126 -0.088336\n",
       "X16 -0.659031  0.233132\n",
       "X26 -0.670796 -0.248398\n",
       "X31 -0.439467  0.377765\n",
       "X39 -0.435041 -0.382654"
      ]
     },
     "execution_count": 40,
     "metadata": {},
     "output_type": "execute_result"
    }
   ],
   "source": [
    "sqrt_l=np.eye(fact)\n",
    "for i in range(fact):\n",
    "    sqrt_l[i][i]=math.sqrt(eigenvalues_Rh_eval[i])  \n",
    "A=np.dot(U.T,sqrt_l)\n",
    "df_A = pd.DataFrame(\n",
    "    data=A,\n",
    "    columns=['Factor_' + str(i + 1) for i in range(fact)],\n",
    "    index=features)\n",
    "df_A # на этом этапе матрица может не совпасть со statistica во всех знаках 1-ого или 2-ого столбца (или в обоих)\n",
    "# Это НЕ ОШИБКА, так как собственные вектора матрицы U (а по ней по сути и строится А) берутся с точностью до знака"
   ]
  },
  {
   "cell_type": "markdown",
   "metadata": {},
   "source": [
    "Если очень хочется подогнать под statistica, то можно написать:"
   ]
  },
  {
   "cell_type": "code",
   "execution_count": 41,
   "metadata": {},
   "outputs": [],
   "source": [
    "#df_A['Factor_1'] *= -1  # если не совпал первый столбец"
   ]
  },
  {
   "cell_type": "code",
   "execution_count": 42,
   "metadata": {},
   "outputs": [],
   "source": [
    "#df_A['Factor_2'] *= -1 #   если не совпал второй столбец"
   ]
  },
  {
   "cell_type": "code",
   "execution_count": 43,
   "metadata": {},
   "outputs": [],
   "source": [
    "#df_A # проверить, совпадает ли теперь"
   ]
  },
  {
   "cell_type": "markdown",
   "metadata": {},
   "source": [
    "Построим расположение исходных признаков на плоскости, образованной двумя главными факторами."
   ]
  },
  {
   "cell_type": "code",
   "execution_count": 44,
   "metadata": {
    "scrolled": true
   },
   "outputs": [
    {
     "data": {
      "image/png": "[encoded data removed]",
      "text/plain": [
       "<Figure size 432x288 with 1 Axes>"
      ]
     },
     "metadata": {
      "needs_background": "light"
     },
     "output_type": "display_data"
    }
   ],
   "source": [
    "plt.scatter(df_A['Factor_1'],df_A['Factor_2'])\n",
    "plt.scatter (0,0,c = 'r') # чтобы было видно, относительно чего потом будем поворачивать\n",
    "plt.grid()\n",
    "plt.title ('factor loadings A')\n",
    "for variable in features :\n",
    "    plt.annotate('{}'.format(variable),xy = (df_A['Factor_1'][variable],df_A['Factor_2'][variable]))"
   ]
  },
  {
   "cell_type": "markdown",
   "metadata": {},
   "source": [
    "## Вращение факторов"
   ]
  },
  {
   "cell_type": "code",
   "execution_count": 45,
   "metadata": {
    "scrolled": true
   },
   "outputs": [],
   "source": [
    "_ = \\\n",
    "'''\n",
    "задумка, чтобы максимально подогнать под статистику\n",
    "\n",
    "Будем осуществлять повороты на углы от 0 до pi/2 с очень маленьким шагом и считать квартимакс(варимакс) \n",
    "для каждого угла\n",
    "По максимальному квартимаксу(варимаксу) отбираем соответствующую матрицу B\n",
    "'''"
   ]
  },
  {
   "cell_type": "code",
   "execution_count": 46,
   "metadata": {
    "scrolled": true
   },
   "outputs": [],
   "source": [
    "def quartimax (X): # ФУНКЦИИ ДЛЯ ВЫБОРА И  РАСЧЕТА КРИТЕРИЯ\n",
    "    value = 0\n",
    "    m = X.shape[1]\n",
    "    for row in X:\n",
    "        value += (sum (row**4) - (sum(row**2))**2)/m**2\n",
    "    return value\n",
    "\n",
    "def varimax (X) :\n",
    "    value = 0\n",
    "    k = X.shape[0]\n",
    "    for row in X.T:\n",
    "        value += (k*sum(row**4) - sum(row**2)**2)/k**2\n",
    "    return value\n",
    "    \n",
    "def criteria (method,X):\n",
    "    if method == 'varimax':\n",
    "        return varimax(X)\n",
    "    elif method == 'quartimax':\n",
    "        return quartimax (X)\n",
    "    else :\n",
    "        print ('wrong input')"
   ]
  },
  {
   "cell_type": "code",
   "execution_count": 47,
   "metadata": {
    "scrolled": true
   },
   "outputs": [],
   "source": [
    "rad_column = [] # это список, в который будут складываться углы в радианах\n",
    "grad_column=[] # это список, в который будут складывать углы в градусах\n",
    "\n",
    "criteria_column = [] # это список, в который будут складываться квартимаксы\n",
    "dict_for_B = {} # это словарь, где ключами будут квартимаксы, а значениями - матрицы\n",
    "\n",
    "for alpha in arange (0,pi/2,0.0001): # Проходим от 0 до pi/2 с шагом 0.0001\n",
    "    \n",
    "    rad_column.append(alpha)\n",
    "    grad_column.append(alpha*180/pi)\n",
    "    \n",
    "    grad = alpha\n",
    "    T = [[cos(grad),sin(grad)],\n",
    "         [-sin(grad),cos(grad)]]\n",
    "    B = np.dot (A,T)\n",
    "    dict_for_B[criteria('quartimax',B)] = B # здесь пишем метод, который мы хотим\n",
    "    criteria_column.append (criteria('quartimax',B)) # и здесь тоже"
   ]
  },
  {
   "cell_type": "code",
   "execution_count": 48,
   "metadata": {
    "scrolled": true
   },
   "outputs": [],
   "source": [
    "df_rotation = pd.DataFrame([]) # дата фрейм, в который мы положим заполненные списки\n",
    "df_rotation['rad'] = rad_column\n",
    "df_rotation['grad'] = grad_column\n",
    "df_rotation ['criteria'] = criteria_column\n",
    "#df_rotation # это по сути и есть та самая сетка"
   ]
  },
  {
   "cell_type": "markdown",
   "metadata": {},
   "source": [
    "### Максимальное значение критерия"
   ]
  },
  {
   "cell_type": "code",
   "execution_count": 49,
   "metadata": {
    "scrolled": true
   },
   "outputs": [
    {
     "data": {
      "text/plain": [
       "-0.03737524878647298"
      ]
     },
     "execution_count": 49,
     "metadata": {},
     "output_type": "execute_result"
    }
   ],
   "source": [
    "criteria_best = df_rotation ['criteria'].max() # ищем максимальное значение критерия\n",
    "criteria_best"
   ]
  },
  {
   "cell_type": "markdown",
   "metadata": {},
   "source": [
    "### Лучший угол для вращения"
   ]
  },
  {
   "cell_type": "code",
   "execution_count": 50,
   "metadata": {
    "scrolled": true
   },
   "outputs": [
    {
     "name": "stdout",
     "output_type": "stream",
     "text": [
      "Лучший угол для вращения :0.823 радиан или 47.172 градусов\n"
     ]
    }
   ],
   "source": [
    "rad_best = df_rotation.loc[df_rotation['criteria'].idxmax(),'rad']# вывод лучшего угла\n",
    "grad_best = df_rotation.loc [df_rotation['criteria'].idxmax(),'grad']\n",
    "print ('Лучший угол для вращения :{:.3f} радиан или {:.3f} градусов'.format (rad_best,grad_best)) "
   ]
  },
  {
   "cell_type": "markdown",
   "metadata": {},
   "source": [
    "### Матрица B "
   ]
  },
  {
   "cell_type": "markdown",
   "metadata": {},
   "source": [
    "Весовые коэффициенты факторов после вращения:"
   ]
  },
  {
   "cell_type": "code",
   "execution_count": 51,
   "metadata": {
    "scrolled": true
   },
   "outputs": [
    {
     "data": {
      "text/html": [
       "<div>\n",
       "<style scoped>\n",
       "    .dataframe tbody tr th:only-of-type {\n",
       "        vertical-align: middle;\n",
       "    }\n",
       "\n",
       "    .dataframe tbody tr th {\n",
       "        vertical-align: top;\n",
       "    }\n",
       "\n",
       "    .dataframe thead th {\n",
       "        text-align: right;\n",
       "    }\n",
       "</style>\n",
       "<table border=\"1\" class=\"dataframe\">\n",
       "  <thead>\n",
       "    <tr style=\"text-align: right;\">\n",
       "      <th></th>\n",
       "      <th>Factor_1</th>\n",
       "      <th>Factor_2</th>\n",
       "    </tr>\n",
       "  </thead>\n",
       "  <tbody>\n",
       "    <tr>\n",
       "      <th>X6</th>\n",
       "      <td>0.168201</td>\n",
       "      <td>0.051517</td>\n",
       "    </tr>\n",
       "    <tr>\n",
       "      <th>X16</th>\n",
       "      <td>-0.618990</td>\n",
       "      <td>-0.324845</td>\n",
       "    </tr>\n",
       "    <tr>\n",
       "      <th>X26</th>\n",
       "      <td>-0.273837</td>\n",
       "      <td>-0.660819</td>\n",
       "    </tr>\n",
       "    <tr>\n",
       "      <th>X31</th>\n",
       "      <td>-0.575802</td>\n",
       "      <td>-0.065495</td>\n",
       "    </tr>\n",
       "    <tr>\n",
       "      <th>X39</th>\n",
       "      <td>-0.015107</td>\n",
       "      <td>-0.579186</td>\n",
       "    </tr>\n",
       "  </tbody>\n",
       "</table>\n",
       "</div>"
      ],
      "text/plain": [
       "     Factor_1  Factor_2\n",
       "X6   0.168201  0.051517\n",
       "X16 -0.618990 -0.324845\n",
       "X26 -0.273837 -0.660819\n",
       "X31 -0.575802 -0.065495\n",
       "X39 -0.015107 -0.579186"
      ]
     },
     "execution_count": 51,
     "metadata": {},
     "output_type": "execute_result"
    }
   ],
   "source": [
    "B = dict_for_B [criteria_best] # вывод лучшей матрицы\n",
    "df_B = pd.DataFrame(data=B, columns=['Factor_' + str(i + 1) for i in range(fact)], index=features)\n",
    "df_B"
   ]
  },
  {
   "cell_type": "code",
   "execution_count": 52,
   "metadata": {},
   "outputs": [],
   "source": [
    "_ = \\\n",
    "'''\n",
    "Результат может не сходиться со statistica (могут не совпадать все знаки в столбце(-цах), \n",
    "а также в statistica может быть другой порядок столбцов (или всё вместе))\n",
    "Это НЕ ОШИБКА, так как данное несоответствие обуславливается тем, что: \n",
    " a) Могло быть несоответствие в матрице A и его не поправляли\n",
    " б) Угол поворота в statistica был не в интервале [0;pi/2]\n",
    "Если очень хочется подогнать под статистику,то:\n",
    "1)подгоните матрицу A (если надо) \n",
    "2)попробуйте поменять промежуток в цикле на :\n",
    "\n",
    "2a)[pi/2 ; pi]  в случае, если столбцы  поменялись местами и не совпадает знак ПЕРВОГО столбца в полученной матрице\n",
    "2б) [pi;3*pi/2] в случае если столбцы на месте, но отличаются АБСОЛЮТНО ВСЕ ЗНАКИ\n",
    "2в) [3*pi/2;2*pi] в случае если столбцы поменялись местами и не совпадает знак ВТОРОГО столбца в полученной матрице\n",
    "\n",
    "Если у вас матрица B не сходится со статистикой и при этом не подходит ни одному из случаев, то вы либо\n",
    "не подогнали A, либо накосячили ещё где-то )))\n",
    "\n",
    "'''"
   ]
  },
  {
   "cell_type": "code",
   "execution_count": 53,
   "metadata": {
    "scrolled": true
   },
   "outputs": [
    {
     "data": {
      "image/png": "[encoded data removed]",
      "text/plain": [
       "<Figure size 432x288 with 1 Axes>"
      ]
     },
     "metadata": {
      "needs_background": "light"
     },
     "output_type": "display_data"
    }
   ],
   "source": [
    "plt.scatter(df_B['Factor_1'],df_B['Factor_2'])\n",
    "plt.scatter (0,0,c= 'r')\n",
    "plt.grid()\n",
    "plt.title ('factor loadings B')\n",
    "for variable in features :\n",
    "    plt.annotate('{}'.format(variable),xy = (df_B['Factor_1'][variable],df_B['Factor_2'][variable]))\n",
    "    #график может не совпасть со statistica по описанным ранее причинам"
   ]
  },
  {
   "cell_type": "markdown",
   "metadata": {},
   "source": [
    "### Теперь сравниваем два графика (две матрицы) A и B и решаем, помогло ли вращение.Если НЕ помогло, то следует снять комментарий и прораннить следующую строчку:"
   ]
  },
  {
   "cell_type": "code",
   "execution_count": 54,
   "metadata": {
    "scrolled": true
   },
   "outputs": [],
   "source": [
    "#B = A"
   ]
  },
  {
   "cell_type": "markdown",
   "metadata": {},
   "source": [
    "## Rh, D2, значения характерностей"
   ]
  },
  {
   "cell_type": "markdown",
   "metadata": {},
   "source": [
    "Рассчитаем характерности. Для этого нам необходимо получить матрицы R<sub><small>h</small></sub> (оценка редуцированной матрицы) и D<sup>2</sup> (оценка остаточной матрицы парных коэффициентов корреляции)."
   ]
  },
  {
   "cell_type": "code",
   "execution_count": 55,
   "metadata": {
    "scrolled": true
   },
   "outputs": [
    {
     "data": {
      "text/html": [
       "<div>\n",
       "<style scoped>\n",
       "    .dataframe tbody tr th:only-of-type {\n",
       "        vertical-align: middle;\n",
       "    }\n",
       "\n",
       "    .dataframe tbody tr th {\n",
       "        vertical-align: top;\n",
       "    }\n",
       "\n",
       "    .dataframe thead th {\n",
       "        text-align: right;\n",
       "    }\n",
       "</style>\n",
       "<table border=\"1\" class=\"dataframe\">\n",
       "  <thead>\n",
       "    <tr style=\"text-align: right;\">\n",
       "      <th></th>\n",
       "      <th>X6</th>\n",
       "      <th>X16</th>\n",
       "      <th>X26</th>\n",
       "      <th>X31</th>\n",
       "      <th>X39</th>\n",
       "    </tr>\n",
       "  </thead>\n",
       "  <tbody>\n",
       "    <tr>\n",
       "      <th>X6</th>\n",
       "      <td>0.030946</td>\n",
       "      <td>-0.120850</td>\n",
       "      <td>-0.080103</td>\n",
       "      <td>-0.100225</td>\n",
       "      <td>-0.032379</td>\n",
       "    </tr>\n",
       "    <tr>\n",
       "      <th>X16</th>\n",
       "      <td>-0.120850</td>\n",
       "      <td>0.488672</td>\n",
       "      <td>0.384166</td>\n",
       "      <td>0.377691</td>\n",
       "      <td>0.197497</td>\n",
       "    </tr>\n",
       "    <tr>\n",
       "      <th>X26</th>\n",
       "      <td>-0.080103</td>\n",
       "      <td>0.384166</td>\n",
       "      <td>0.511668</td>\n",
       "      <td>0.200956</td>\n",
       "      <td>0.386874</td>\n",
       "    </tr>\n",
       "    <tr>\n",
       "      <th>X31</th>\n",
       "      <td>-0.100225</td>\n",
       "      <td>0.377691</td>\n",
       "      <td>0.200956</td>\n",
       "      <td>0.335837</td>\n",
       "      <td>0.046632</td>\n",
       "    </tr>\n",
       "    <tr>\n",
       "      <th>X39</th>\n",
       "      <td>-0.032379</td>\n",
       "      <td>0.197497</td>\n",
       "      <td>0.386874</td>\n",
       "      <td>0.046632</td>\n",
       "      <td>0.335685</td>\n",
       "    </tr>\n",
       "  </tbody>\n",
       "</table>\n",
       "</div>"
      ],
      "text/plain": [
       "           X6       X16       X26       X31       X39\n",
       "X6   0.030946 -0.120850 -0.080103 -0.100225 -0.032379\n",
       "X16 -0.120850  0.488672  0.384166  0.377691  0.197497\n",
       "X26 -0.080103  0.384166  0.511668  0.200956  0.386874\n",
       "X31 -0.100225  0.377691  0.200956  0.335837  0.046632\n",
       "X39 -0.032379  0.197497  0.386874  0.046632  0.335685"
      ]
     },
     "execution_count": 55,
     "metadata": {},
     "output_type": "execute_result"
    }
   ],
   "source": [
    "Rh_real = np.dot(B,B.T)\n",
    "pd.DataFrame(Rh_real,index = features,columns = features) # в statistica это reproduced corr"
   ]
  },
  {
   "cell_type": "code",
   "execution_count": 56,
   "metadata": {
    "scrolled": true
   },
   "outputs": [
    {
     "data": {
      "text/html": [
       "<div>\n",
       "<style scoped>\n",
       "    .dataframe tbody tr th:only-of-type {\n",
       "        vertical-align: middle;\n",
       "    }\n",
       "\n",
       "    .dataframe tbody tr th {\n",
       "        vertical-align: top;\n",
       "    }\n",
       "\n",
       "    .dataframe thead th {\n",
       "        text-align: right;\n",
       "    }\n",
       "</style>\n",
       "<table border=\"1\" class=\"dataframe\">\n",
       "  <thead>\n",
       "    <tr style=\"text-align: right;\">\n",
       "      <th></th>\n",
       "      <th>X6</th>\n",
       "      <th>X16</th>\n",
       "      <th>X26</th>\n",
       "      <th>X31</th>\n",
       "      <th>X39</th>\n",
       "    </tr>\n",
       "  </thead>\n",
       "  <tbody>\n",
       "    <tr>\n",
       "      <th>X6</th>\n",
       "      <td>0.969054</td>\n",
       "      <td>0.047802</td>\n",
       "      <td>-0.079950</td>\n",
       "      <td>-0.009350</td>\n",
       "      <td>0.067225</td>\n",
       "    </tr>\n",
       "    <tr>\n",
       "      <th>X16</th>\n",
       "      <td>0.047802</td>\n",
       "      <td>0.511328</td>\n",
       "      <td>0.066485</td>\n",
       "      <td>0.102912</td>\n",
       "      <td>-0.020620</td>\n",
       "    </tr>\n",
       "    <tr>\n",
       "      <th>X26</th>\n",
       "      <td>-0.079950</td>\n",
       "      <td>0.066485</td>\n",
       "      <td>0.488332</td>\n",
       "      <td>-0.041565</td>\n",
       "      <td>0.093996</td>\n",
       "    </tr>\n",
       "    <tr>\n",
       "      <th>X31</th>\n",
       "      <td>-0.009350</td>\n",
       "      <td>0.102912</td>\n",
       "      <td>-0.041565</td>\n",
       "      <td>0.664163</td>\n",
       "      <td>-0.000546</td>\n",
       "    </tr>\n",
       "    <tr>\n",
       "      <th>X39</th>\n",
       "      <td>0.067225</td>\n",
       "      <td>-0.020620</td>\n",
       "      <td>0.093996</td>\n",
       "      <td>-0.000546</td>\n",
       "      <td>0.664315</td>\n",
       "    </tr>\n",
       "  </tbody>\n",
       "</table>\n",
       "</div>"
      ],
      "text/plain": [
       "           X6       X16       X26       X31       X39\n",
       "X6   0.969054  0.047802 -0.079950 -0.009350  0.067225\n",
       "X16  0.047802  0.511328  0.066485  0.102912 -0.020620\n",
       "X26 -0.079950  0.066485  0.488332 -0.041565  0.093996\n",
       "X31 -0.009350  0.102912 -0.041565  0.664163 -0.000546\n",
       "X39  0.067225 -0.020620  0.093996 -0.000546  0.664315"
      ]
     },
     "execution_count": 56,
     "metadata": {},
     "output_type": "execute_result"
    }
   ],
   "source": [
    "D2 = correlations.values - Rh_real\n",
    "pd.DataFrame(D2,index = features,columns = features) # в statistica это residual corr"
   ]
  },
  {
   "cell_type": "code",
   "execution_count": 57,
   "metadata": {
    "scrolled": true
   },
   "outputs": [
    {
     "data": {
      "text/plain": [
       "[0.9844055657770608,\n",
       " 0.7150718732567741,\n",
       " 0.6988074266658403,\n",
       " 0.8149617039824844,\n",
       " 0.8150553262875072]"
      ]
     },
     "execution_count": 57,
     "metadata": {},
     "output_type": "execute_result"
    }
   ],
   "source": [
    "charact =[]\n",
    "for i in range(D2.shape[0]):\n",
    "    charact.append (math.sqrt(D2[i][i]))\n",
    "    \n",
    "charact"
   ]
  },
  {
   "cell_type": "code",
   "execution_count": 58,
   "metadata": {
    "scrolled": true
   },
   "outputs": [
    {
     "name": "stdout",
     "output_type": "stream",
     "text": [
      "X1 = 0.168*F1 + 0.052*F2 + 0.984*D1\n",
      "X2 = -0.619*F1 + -0.325*F2 + 0.715*D2\n",
      "X3 = -0.274*F1 + -0.661*F2 + 0.699*D3\n",
      "X4 = -0.576*F1 + -0.065*F2 + 0.815*D4\n",
      "X5 = -0.015*F1 + -0.579*F2 + 0.815*D5\n"
     ]
    }
   ],
   "source": [
    "for i in range(0,f_len):\n",
    "    print('X{} = {:.3f}*F{} + {:.3f}*F{} + {:.3f}*D{}'.format(i+1,B[i,0],1,B[i,1],2,charact[i],i+1))"
   ]
  },
  {
   "cell_type": "markdown",
   "metadata": {},
   "source": [
    "## Матрица индивидуальных значений обобщенных факторов (как считает Statistica)"
   ]
  },
  {
   "cell_type": "code",
   "execution_count": 59,
   "metadata": {
    "scrolled": true
   },
   "outputs": [
    {
     "data": {
      "text/plain": [
       "array([[ 0.08501862, -0.01115084],\n",
       "       [-0.43572517, -0.0840338 ],\n",
       "       [-0.05702298, -0.47141186],\n",
       "       [-0.35271783,  0.06448816],\n",
       "       [ 0.10267636, -0.34021815]])"
      ]
     },
     "execution_count": 59,
     "metadata": {},
     "output_type": "execute_result"
    }
   ],
   "source": [
    "factor_score_coefficients = np.dot(np.linalg.inv(correlations),B)\n",
    "factor_score_coefficients "
   ]
  },
  {
   "cell_type": "code",
   "execution_count": 60,
   "metadata": {
    "scrolled": true
   },
   "outputs": [
    {
     "data": {
      "text/html": [
       "<div>\n",
       "<style scoped>\n",
       "    .dataframe tbody tr th:only-of-type {\n",
       "        vertical-align: middle;\n",
       "    }\n",
       "\n",
       "    .dataframe tbody tr th {\n",
       "        vertical-align: top;\n",
       "    }\n",
       "\n",
       "    .dataframe thead th {\n",
       "        text-align: right;\n",
       "    }\n",
       "</style>\n",
       "<table border=\"1\" class=\"dataframe\">\n",
       "  <thead>\n",
       "    <tr style=\"text-align: right;\">\n",
       "      <th></th>\n",
       "      <th>Factor1_stat</th>\n",
       "      <th>Factor2_stat</th>\n",
       "    </tr>\n",
       "  </thead>\n",
       "  <tbody>\n",
       "    <tr>\n",
       "      <th>Абдулинский</th>\n",
       "      <td>0.555548</td>\n",
       "      <td>0.431803</td>\n",
       "    </tr>\n",
       "    <tr>\n",
       "      <th>Адамовский</th>\n",
       "      <td>-0.348415</td>\n",
       "      <td>0.153496</td>\n",
       "    </tr>\n",
       "    <tr>\n",
       "      <th>Акбулакский</th>\n",
       "      <td>0.572082</td>\n",
       "      <td>0.218602</td>\n",
       "    </tr>\n",
       "    <tr>\n",
       "      <th>Александровский</th>\n",
       "      <td>0.457906</td>\n",
       "      <td>0.366415</td>\n",
       "    </tr>\n",
       "    <tr>\n",
       "      <th>Асекеевский</th>\n",
       "      <td>0.354477</td>\n",
       "      <td>0.180614</td>\n",
       "    </tr>\n",
       "    <tr>\n",
       "      <th>Беляевский</th>\n",
       "      <td>0.483959</td>\n",
       "      <td>0.298709</td>\n",
       "    </tr>\n",
       "    <tr>\n",
       "      <th>Бугурусланский</th>\n",
       "      <td>0.524389</td>\n",
       "      <td>0.326369</td>\n",
       "    </tr>\n",
       "    <tr>\n",
       "      <th>Бузулукский</th>\n",
       "      <td>0.779648</td>\n",
       "      <td>0.271340</td>\n",
       "    </tr>\n",
       "    <tr>\n",
       "      <th>Гайский</th>\n",
       "      <td>0.072646</td>\n",
       "      <td>0.399973</td>\n",
       "    </tr>\n",
       "    <tr>\n",
       "      <th>Грачевский</th>\n",
       "      <td>0.268087</td>\n",
       "      <td>0.189746</td>\n",
       "    </tr>\n",
       "    <tr>\n",
       "      <th>Домбаровский</th>\n",
       "      <td>0.463993</td>\n",
       "      <td>0.393210</td>\n",
       "    </tr>\n",
       "    <tr>\n",
       "      <th>Илекский</th>\n",
       "      <td>0.040348</td>\n",
       "      <td>0.162149</td>\n",
       "    </tr>\n",
       "    <tr>\n",
       "      <th>Кваркенский</th>\n",
       "      <td>-0.303622</td>\n",
       "      <td>-0.041489</td>\n",
       "    </tr>\n",
       "    <tr>\n",
       "      <th>Красногвардейский</th>\n",
       "      <td>0.543748</td>\n",
       "      <td>-0.455451</td>\n",
       "    </tr>\n",
       "    <tr>\n",
       "      <th>Кувандыкский</th>\n",
       "      <td>0.472656</td>\n",
       "      <td>0.340863</td>\n",
       "    </tr>\n",
       "    <tr>\n",
       "      <th>Курманаевский</th>\n",
       "      <td>0.784670</td>\n",
       "      <td>0.134298</td>\n",
       "    </tr>\n",
       "    <tr>\n",
       "      <th>Матвеевский</th>\n",
       "      <td>0.830243</td>\n",
       "      <td>0.366120</td>\n",
       "    </tr>\n",
       "    <tr>\n",
       "      <th>Новоорский</th>\n",
       "      <td>0.229403</td>\n",
       "      <td>0.447058</td>\n",
       "    </tr>\n",
       "    <tr>\n",
       "      <th>Новосергиевский</th>\n",
       "      <td>0.285483</td>\n",
       "      <td>-0.118324</td>\n",
       "    </tr>\n",
       "    <tr>\n",
       "      <th>Октябрьский</th>\n",
       "      <td>0.139939</td>\n",
       "      <td>0.237011</td>\n",
       "    </tr>\n",
       "    <tr>\n",
       "      <th>Оренбургский</th>\n",
       "      <td>-0.651594</td>\n",
       "      <td>0.264539</td>\n",
       "    </tr>\n",
       "    <tr>\n",
       "      <th>Первомайский</th>\n",
       "      <td>-0.322764</td>\n",
       "      <td>-0.072735</td>\n",
       "    </tr>\n",
       "    <tr>\n",
       "      <th>Переволоцкий</th>\n",
       "      <td>0.666400</td>\n",
       "      <td>-0.774481</td>\n",
       "    </tr>\n",
       "    <tr>\n",
       "      <th>Пономаревский</th>\n",
       "      <td>0.402553</td>\n",
       "      <td>0.042100</td>\n",
       "    </tr>\n",
       "    <tr>\n",
       "      <th>Сакмарский</th>\n",
       "      <td>-0.287708</td>\n",
       "      <td>0.309351</td>\n",
       "    </tr>\n",
       "    <tr>\n",
       "      <th>Саракташский</th>\n",
       "      <td>-0.066834</td>\n",
       "      <td>0.272252</td>\n",
       "    </tr>\n",
       "    <tr>\n",
       "      <th>Светлинский</th>\n",
       "      <td>0.806047</td>\n",
       "      <td>0.399020</td>\n",
       "    </tr>\n",
       "    <tr>\n",
       "      <th>Северный</th>\n",
       "      <td>-0.026009</td>\n",
       "      <td>0.313043</td>\n",
       "    </tr>\n",
       "    <tr>\n",
       "      <th>Соль-Илецкий</th>\n",
       "      <td>0.453849</td>\n",
       "      <td>0.398225</td>\n",
       "    </tr>\n",
       "    <tr>\n",
       "      <th>Сорочинский</th>\n",
       "      <td>-0.026742</td>\n",
       "      <td>0.109460</td>\n",
       "    </tr>\n",
       "    <tr>\n",
       "      <th>Ташлинский</th>\n",
       "      <td>0.052873</td>\n",
       "      <td>0.286009</td>\n",
       "    </tr>\n",
       "    <tr>\n",
       "      <th>Тоцкий</th>\n",
       "      <td>0.697207</td>\n",
       "      <td>0.256414</td>\n",
       "    </tr>\n",
       "    <tr>\n",
       "      <th>Тюльганский</th>\n",
       "      <td>-0.451932</td>\n",
       "      <td>0.099016</td>\n",
       "    </tr>\n",
       "    <tr>\n",
       "      <th>Шарлыкский</th>\n",
       "      <td>0.296700</td>\n",
       "      <td>0.280238</td>\n",
       "    </tr>\n",
       "    <tr>\n",
       "      <th>Ясненский</th>\n",
       "      <td>-0.108373</td>\n",
       "      <td>0.377098</td>\n",
       "    </tr>\n",
       "    <tr>\n",
       "      <th>г.Абдулино</th>\n",
       "      <td>-0.160770</td>\n",
       "      <td>0.135937</td>\n",
       "    </tr>\n",
       "    <tr>\n",
       "      <th>г.Бугуруслан</th>\n",
       "      <td>-0.055328</td>\n",
       "      <td>0.097754</td>\n",
       "    </tr>\n",
       "    <tr>\n",
       "      <th>г.Бузулук</th>\n",
       "      <td>-3.049204</td>\n",
       "      <td>0.030207</td>\n",
       "    </tr>\n",
       "    <tr>\n",
       "      <th>г.Гай</th>\n",
       "      <td>-1.185276</td>\n",
       "      <td>0.259108</td>\n",
       "    </tr>\n",
       "    <tr>\n",
       "      <th>г.Кувандык</th>\n",
       "      <td>-0.380039</td>\n",
       "      <td>-0.065093</td>\n",
       "    </tr>\n",
       "    <tr>\n",
       "      <th>г.Медногорск</th>\n",
       "      <td>0.517258</td>\n",
       "      <td>-0.375706</td>\n",
       "    </tr>\n",
       "    <tr>\n",
       "      <th>г.Новотроицк</th>\n",
       "      <td>-1.096737</td>\n",
       "      <td>-0.797665</td>\n",
       "    </tr>\n",
       "    <tr>\n",
       "      <th>г.Оренбург</th>\n",
       "      <td>-1.499756</td>\n",
       "      <td>-3.273325</td>\n",
       "    </tr>\n",
       "    <tr>\n",
       "      <th>г.Орск</th>\n",
       "      <td>0.002057</td>\n",
       "      <td>-3.057012</td>\n",
       "    </tr>\n",
       "    <tr>\n",
       "      <th>г.Соль-Илецк</th>\n",
       "      <td>-0.619120</td>\n",
       "      <td>0.035718</td>\n",
       "    </tr>\n",
       "    <tr>\n",
       "      <th>г.Сорочинск</th>\n",
       "      <td>-0.491192</td>\n",
       "      <td>0.010035</td>\n",
       "    </tr>\n",
       "    <tr>\n",
       "      <th>г.Ясный</th>\n",
       "      <td>-0.622756</td>\n",
       "      <td>0.137981</td>\n",
       "    </tr>\n",
       "  </tbody>\n",
       "</table>\n",
       "</div>"
      ],
      "text/plain": [
       "                   Factor1_stat  Factor2_stat\n",
       "Абдулинский            0.555548      0.431803\n",
       "Адамовский            -0.348415      0.153496\n",
       "Акбулакский            0.572082      0.218602\n",
       "Александровский        0.457906      0.366415\n",
       "Асекеевский            0.354477      0.180614\n",
       "Беляевский             0.483959      0.298709\n",
       "Бугурусланский         0.524389      0.326369\n",
       "Бузулукский            0.779648      0.271340\n",
       "Гайский                0.072646      0.399973\n",
       "Грачевский             0.268087      0.189746\n",
       "Домбаровский           0.463993      0.393210\n",
       "Илекский               0.040348      0.162149\n",
       "Кваркенский           -0.303622     -0.041489\n",
       "Красногвардейский      0.543748     -0.455451\n",
       "Кувандыкский           0.472656      0.340863\n",
       "Курманаевский          0.784670      0.134298\n",
       "Матвеевский            0.830243      0.366120\n",
       "Новоорский             0.229403      0.447058\n",
       "Новосергиевский        0.285483     -0.118324\n",
       "Октябрьский            0.139939      0.237011\n",
       "Оренбургский          -0.651594      0.264539\n",
       "Первомайский          -0.322764     -0.072735\n",
       "Переволоцкий           0.666400     -0.774481\n",
       "Пономаревский          0.402553      0.042100\n",
       "Сакмарский            -0.287708      0.309351\n",
       "Саракташский          -0.066834      0.272252\n",
       "Светлинский            0.806047      0.399020\n",
       "Северный              -0.026009      0.313043\n",
       "Соль-Илецкий           0.453849      0.398225\n",
       "Сорочинский           -0.026742      0.109460\n",
       "Ташлинский             0.052873      0.286009\n",
       "Тоцкий                 0.697207      0.256414\n",
       "Тюльганский           -0.451932      0.099016\n",
       "Шарлыкский             0.296700      0.280238\n",
       "Ясненский             -0.108373      0.377098\n",
       "г.Абдулино            -0.160770      0.135937\n",
       "г.Бугуруслан          -0.055328      0.097754\n",
       "г.Бузулук             -3.049204      0.030207\n",
       "г.Гай                 -1.185276      0.259108\n",
       "г.Кувандык            -0.380039     -0.065093\n",
       "г.Медногорск           0.517258     -0.375706\n",
       "г.Новотроицк          -1.096737     -0.797665\n",
       "г.Оренбург            -1.499756     -3.273325\n",
       "г.Орск                 0.002057     -3.057012\n",
       "г.Соль-Илецк          -0.619120      0.035718\n",
       "г.Сорочинск           -0.491192      0.010035\n",
       "г.Ясный               -0.622756      0.137981"
      ]
     },
     "execution_count": 60,
     "metadata": {},
     "output_type": "execute_result"
    }
   ],
   "source": [
    "factor_scores = np.dot (data.values,factor_score_coefficients)\n",
    "df_factor_scores_stat = pd.DataFrame (data = factor_scores,index = index , columns = ['Factor1_stat','Factor2_stat'])\n",
    "df_factor_scores_stat # если в матрицах A или B были несовпадения со статистикой по знаку или в порядке столбцов\n",
    "# и вы их не исправляли, то они  иначе отобразятся и здесь\n",
    "# НО ЭТО НЕ ОШИБКА"
   ]
  },
  {
   "cell_type": "markdown",
   "metadata": {},
   "source": [
    " ### Значения факторов (по формулам из лекции)"
   ]
  },
  {
   "cell_type": "code",
   "execution_count": 61,
   "metadata": {
    "scrolled": true
   },
   "outputs": [
    {
     "data": {
      "text/html": [
       "<div>\n",
       "<style scoped>\n",
       "    .dataframe tbody tr th:only-of-type {\n",
       "        vertical-align: middle;\n",
       "    }\n",
       "\n",
       "    .dataframe tbody tr th {\n",
       "        vertical-align: top;\n",
       "    }\n",
       "\n",
       "    .dataframe thead th {\n",
       "        text-align: right;\n",
       "    }\n",
       "</style>\n",
       "<table border=\"1\" class=\"dataframe\">\n",
       "  <thead>\n",
       "    <tr style=\"text-align: right;\">\n",
       "      <th></th>\n",
       "      <th>Factor1_lect</th>\n",
       "      <th>Factor2_lect</th>\n",
       "    </tr>\n",
       "  </thead>\n",
       "  <tbody>\n",
       "    <tr>\n",
       "      <th>Абдулинский</th>\n",
       "      <td>0.946744</td>\n",
       "      <td>0.550602</td>\n",
       "    </tr>\n",
       "    <tr>\n",
       "      <th>Адамовский</th>\n",
       "      <td>-0.849296</td>\n",
       "      <td>0.524499</td>\n",
       "    </tr>\n",
       "    <tr>\n",
       "      <th>Акбулакский</th>\n",
       "      <td>1.111063</td>\n",
       "      <td>0.103587</td>\n",
       "    </tr>\n",
       "    <tr>\n",
       "      <th>Александровский</th>\n",
       "      <td>0.774020</td>\n",
       "      <td>0.475365</td>\n",
       "    </tr>\n",
       "    <tr>\n",
       "      <th>Асекеевский</th>\n",
       "      <td>0.661243</td>\n",
       "      <td>0.156769</td>\n",
       "    </tr>\n",
       "    <tr>\n",
       "      <th>Беляевский</th>\n",
       "      <td>0.871391</td>\n",
       "      <td>0.320877</td>\n",
       "    </tr>\n",
       "    <tr>\n",
       "      <th>Бугурусланский</th>\n",
       "      <td>0.942557</td>\n",
       "      <td>0.353231</td>\n",
       "    </tr>\n",
       "    <tr>\n",
       "      <th>Бузулукский</th>\n",
       "      <td>1.530190</td>\n",
       "      <td>0.086690</td>\n",
       "    </tr>\n",
       "    <tr>\n",
       "      <th>Гайский</th>\n",
       "      <td>-0.083080</td>\n",
       "      <td>0.776184</td>\n",
       "    </tr>\n",
       "    <tr>\n",
       "      <th>Грачевский</th>\n",
       "      <td>0.468081</td>\n",
       "      <td>0.227517</td>\n",
       "    </tr>\n",
       "    <tr>\n",
       "      <th>Домбаровский</th>\n",
       "      <td>0.771105</td>\n",
       "      <td>0.526627</td>\n",
       "    </tr>\n",
       "    <tr>\n",
       "      <th>Илекский</th>\n",
       "      <td>-0.010009</td>\n",
       "      <td>0.308101</td>\n",
       "    </tr>\n",
       "    <tr>\n",
       "      <th>Кваркенский</th>\n",
       "      <td>-0.634561</td>\n",
       "      <td>0.097806</td>\n",
       "    </tr>\n",
       "    <tr>\n",
       "      <th>Красногвардейский</th>\n",
       "      <td>1.455467</td>\n",
       "      <td>-1.261140</td>\n",
       "    </tr>\n",
       "    <tr>\n",
       "      <th>Кувандыкский</th>\n",
       "      <td>0.821450</td>\n",
       "      <td>0.414100</td>\n",
       "    </tr>\n",
       "    <tr>\n",
       "      <th>Курманаевский</th>\n",
       "      <td>1.623634</td>\n",
       "      <td>-0.197267</td>\n",
       "    </tr>\n",
       "    <tr>\n",
       "      <th>Матвеевский</th>\n",
       "      <td>1.583014</td>\n",
       "      <td>0.250517</td>\n",
       "    </tr>\n",
       "    <tr>\n",
       "      <th>Новоорский</th>\n",
       "      <td>0.229080</td>\n",
       "      <td>0.778299</td>\n",
       "    </tr>\n",
       "    <tr>\n",
       "      <th>Новосергиевский</th>\n",
       "      <td>0.691408</td>\n",
       "      <td>-0.414497</td>\n",
       "    </tr>\n",
       "    <tr>\n",
       "      <th>Октябрьский</th>\n",
       "      <td>0.161243</td>\n",
       "      <td>0.401587</td>\n",
       "    </tr>\n",
       "    <tr>\n",
       "      <th>Оренбургский</th>\n",
       "      <td>-1.574760</td>\n",
       "      <td>0.934726</td>\n",
       "    </tr>\n",
       "    <tr>\n",
       "      <th>Первомайский</th>\n",
       "      <td>-0.657327</td>\n",
       "      <td>0.045283</td>\n",
       "    </tr>\n",
       "    <tr>\n",
       "      <th>Переволоцкий</th>\n",
       "      <td>1.914040</td>\n",
       "      <td>-1.989013</td>\n",
       "    </tr>\n",
       "    <tr>\n",
       "      <th>Пономаревский</th>\n",
       "      <td>0.849099</td>\n",
       "      <td>-0.156138</td>\n",
       "    </tr>\n",
       "    <tr>\n",
       "      <th>Сакмарский</th>\n",
       "      <td>-0.811289</td>\n",
       "      <td>0.807437</td>\n",
       "    </tr>\n",
       "    <tr>\n",
       "      <th>Саракташский</th>\n",
       "      <td>-0.309148</td>\n",
       "      <td>0.598362</td>\n",
       "    </tr>\n",
       "    <tr>\n",
       "      <th>Светлинский</th>\n",
       "      <td>1.510640</td>\n",
       "      <td>0.332532</td>\n",
       "    </tr>\n",
       "    <tr>\n",
       "      <th>Северный</th>\n",
       "      <td>-0.245031</td>\n",
       "      <td>0.657395</td>\n",
       "    </tr>\n",
       "    <tr>\n",
       "      <th>Соль-Илецкий</th>\n",
       "      <td>0.746049</td>\n",
       "      <td>0.543018</td>\n",
       "    </tr>\n",
       "    <tr>\n",
       "      <th>Сорочинский</th>\n",
       "      <td>-0.124015</td>\n",
       "      <td>0.240496</td>\n",
       "    </tr>\n",
       "    <tr>\n",
       "      <th>Ташлинский</th>\n",
       "      <td>-0.057398</td>\n",
       "      <td>0.554468</td>\n",
       "    </tr>\n",
       "    <tr>\n",
       "      <th>Тоцкий</th>\n",
       "      <td>1.360096</td>\n",
       "      <td>0.105743</td>\n",
       "    </tr>\n",
       "    <tr>\n",
       "      <th>Тюльганский</th>\n",
       "      <td>-1.041352</td>\n",
       "      <td>0.475161</td>\n",
       "    </tr>\n",
       "    <tr>\n",
       "      <th>Шарлыкский</th>\n",
       "      <td>0.475736</td>\n",
       "      <td>0.395791</td>\n",
       "    </tr>\n",
       "    <tr>\n",
       "      <th>Ясненский</th>\n",
       "      <td>-0.462527</td>\n",
       "      <td>0.838311</td>\n",
       "    </tr>\n",
       "    <tr>\n",
       "      <th>г.Абдулино</th>\n",
       "      <td>-0.431105</td>\n",
       "      <td>0.375493</td>\n",
       "    </tr>\n",
       "    <tr>\n",
       "      <th>г.Бугуруслан</th>\n",
       "      <td>-0.179060</td>\n",
       "      <td>0.233715</td>\n",
       "    </tr>\n",
       "    <tr>\n",
       "      <th>г.Бузулук</th>\n",
       "      <td>-6.641891</td>\n",
       "      <td>1.898333</td>\n",
       "    </tr>\n",
       "    <tr>\n",
       "      <th>г.Гай</th>\n",
       "      <td>-2.730790</td>\n",
       "      <td>1.245007</td>\n",
       "    </tr>\n",
       "    <tr>\n",
       "      <th>г.Кувандык</th>\n",
       "      <td>-0.786345</td>\n",
       "      <td>0.095443</td>\n",
       "    </tr>\n",
       "    <tr>\n",
       "      <th>г.Медногорск</th>\n",
       "      <td>1.349897</td>\n",
       "      <td>-1.081711</td>\n",
       "    </tr>\n",
       "    <tr>\n",
       "      <th>г.Новотроицк</th>\n",
       "      <td>-1.902009</td>\n",
       "      <td>-0.974674</td>\n",
       "    </tr>\n",
       "    <tr>\n",
       "      <th>г.Оренбург</th>\n",
       "      <td>-1.286488</td>\n",
       "      <td>-5.806996</td>\n",
       "    </tr>\n",
       "    <tr>\n",
       "      <th>г.Орск</th>\n",
       "      <td>1.845580</td>\n",
       "      <td>-6.268040</td>\n",
       "    </tr>\n",
       "    <tr>\n",
       "      <th>г.Соль-Илецк</th>\n",
       "      <td>-1.366407</td>\n",
       "      <td>0.446091</td>\n",
       "    </tr>\n",
       "    <tr>\n",
       "      <th>г.Сорочинск</th>\n",
       "      <td>-1.073046</td>\n",
       "      <td>0.316396</td>\n",
       "    </tr>\n",
       "    <tr>\n",
       "      <th>г.Ясный</th>\n",
       "      <td>-1.435895</td>\n",
       "      <td>0.657918</td>\n",
       "    </tr>\n",
       "  </tbody>\n",
       "</table>\n",
       "</div>"
      ],
      "text/plain": [
       "                   Factor1_lect  Factor2_lect\n",
       "Абдулинский            0.946744      0.550602\n",
       "Адамовский            -0.849296      0.524499\n",
       "Акбулакский            1.111063      0.103587\n",
       "Александровский        0.774020      0.475365\n",
       "Асекеевский            0.661243      0.156769\n",
       "Беляевский             0.871391      0.320877\n",
       "Бугурусланский         0.942557      0.353231\n",
       "Бузулукский            1.530190      0.086690\n",
       "Гайский               -0.083080      0.776184\n",
       "Грачевский             0.468081      0.227517\n",
       "Домбаровский           0.771105      0.526627\n",
       "Илекский              -0.010009      0.308101\n",
       "Кваркенский           -0.634561      0.097806\n",
       "Красногвардейский      1.455467     -1.261140\n",
       "Кувандыкский           0.821450      0.414100\n",
       "Курманаевский          1.623634     -0.197267\n",
       "Матвеевский            1.583014      0.250517\n",
       "Новоорский             0.229080      0.778299\n",
       "Новосергиевский        0.691408     -0.414497\n",
       "Октябрьский            0.161243      0.401587\n",
       "Оренбургский          -1.574760      0.934726\n",
       "Первомайский          -0.657327      0.045283\n",
       "Переволоцкий           1.914040     -1.989013\n",
       "Пономаревский          0.849099     -0.156138\n",
       "Сакмарский            -0.811289      0.807437\n",
       "Саракташский          -0.309148      0.598362\n",
       "Светлинский            1.510640      0.332532\n",
       "Северный              -0.245031      0.657395\n",
       "Соль-Илецкий           0.746049      0.543018\n",
       "Сорочинский           -0.124015      0.240496\n",
       "Ташлинский            -0.057398      0.554468\n",
       "Тоцкий                 1.360096      0.105743\n",
       "Тюльганский           -1.041352      0.475161\n",
       "Шарлыкский             0.475736      0.395791\n",
       "Ясненский             -0.462527      0.838311\n",
       "г.Абдулино            -0.431105      0.375493\n",
       "г.Бугуруслан          -0.179060      0.233715\n",
       "г.Бузулук             -6.641891      1.898333\n",
       "г.Гай                 -2.730790      1.245007\n",
       "г.Кувандык            -0.786345      0.095443\n",
       "г.Медногорск           1.349897     -1.081711\n",
       "г.Новотроицк          -1.902009     -0.974674\n",
       "г.Оренбург            -1.286488     -5.806996\n",
       "г.Орск                 1.845580     -6.268040\n",
       "г.Соль-Илецк          -1.366407      0.446091\n",
       "г.Сорочинск           -1.073046      0.316396\n",
       "г.Ясный               -1.435895      0.657918"
      ]
     },
     "execution_count": 61,
     "metadata": {},
     "output_type": "execute_result"
    }
   ],
   "source": [
    "Q = np.linalg.inv(np.dot(np.dot(B.T,np.linalg.inv(D2)),B)) # первый множитель в той длинной формуле (чтоб не нагромождать)\n",
    "W = np.dot(np.dot (B.T,np.linalg.inv(D2)),data.values.T) # второй множитель \n",
    "F = np.dot (Q,W)\n",
    "df_factor_scores_lect = pd.DataFrame (data =F.T,index = index, columns = ['Factor1_lect','Factor2_lect'] )\n",
    "df_factor_scores_lect"
   ]
  },
  {
   "cell_type": "markdown",
   "metadata": {},
   "source": [
    "## Объединение двух датафреймов в один и выгрузка в файл"
   ]
  },
  {
   "cell_type": "code",
   "execution_count": 62,
   "metadata": {
    "scrolled": true
   },
   "outputs": [
    {
     "data": {
      "text/html": [
       "<div>\n",
       "<style scoped>\n",
       "    .dataframe tbody tr th:only-of-type {\n",
       "        vertical-align: middle;\n",
       "    }\n",
       "\n",
       "    .dataframe tbody tr th {\n",
       "        vertical-align: top;\n",
       "    }\n",
       "\n",
       "    .dataframe thead th {\n",
       "        text-align: right;\n",
       "    }\n",
       "</style>\n",
       "<table border=\"1\" class=\"dataframe\">\n",
       "  <thead>\n",
       "    <tr style=\"text-align: right;\">\n",
       "      <th></th>\n",
       "      <th>Factor1_lect</th>\n",
       "      <th>Factor2_lect</th>\n",
       "      <th>Factor1_stat</th>\n",
       "      <th>Factor2_stat</th>\n",
       "    </tr>\n",
       "  </thead>\n",
       "  <tbody>\n",
       "    <tr>\n",
       "      <th>Абдулинский</th>\n",
       "      <td>0.946744</td>\n",
       "      <td>0.550602</td>\n",
       "      <td>0.555548</td>\n",
       "      <td>0.431803</td>\n",
       "    </tr>\n",
       "    <tr>\n",
       "      <th>Адамовский</th>\n",
       "      <td>-0.849296</td>\n",
       "      <td>0.524499</td>\n",
       "      <td>-0.348415</td>\n",
       "      <td>0.153496</td>\n",
       "    </tr>\n",
       "    <tr>\n",
       "      <th>Акбулакский</th>\n",
       "      <td>1.111063</td>\n",
       "      <td>0.103587</td>\n",
       "      <td>0.572082</td>\n",
       "      <td>0.218602</td>\n",
       "    </tr>\n",
       "    <tr>\n",
       "      <th>Александровский</th>\n",
       "      <td>0.774020</td>\n",
       "      <td>0.475365</td>\n",
       "      <td>0.457906</td>\n",
       "      <td>0.366415</td>\n",
       "    </tr>\n",
       "    <tr>\n",
       "      <th>Асекеевский</th>\n",
       "      <td>0.661243</td>\n",
       "      <td>0.156769</td>\n",
       "      <td>0.354477</td>\n",
       "      <td>0.180614</td>\n",
       "    </tr>\n",
       "    <tr>\n",
       "      <th>Беляевский</th>\n",
       "      <td>0.871391</td>\n",
       "      <td>0.320877</td>\n",
       "      <td>0.483959</td>\n",
       "      <td>0.298709</td>\n",
       "    </tr>\n",
       "    <tr>\n",
       "      <th>Бугурусланский</th>\n",
       "      <td>0.942557</td>\n",
       "      <td>0.353231</td>\n",
       "      <td>0.524389</td>\n",
       "      <td>0.326369</td>\n",
       "    </tr>\n",
       "    <tr>\n",
       "      <th>Бузулукский</th>\n",
       "      <td>1.530190</td>\n",
       "      <td>0.086690</td>\n",
       "      <td>0.779648</td>\n",
       "      <td>0.271340</td>\n",
       "    </tr>\n",
       "    <tr>\n",
       "      <th>Гайский</th>\n",
       "      <td>-0.083080</td>\n",
       "      <td>0.776184</td>\n",
       "      <td>0.072646</td>\n",
       "      <td>0.399973</td>\n",
       "    </tr>\n",
       "    <tr>\n",
       "      <th>Грачевский</th>\n",
       "      <td>0.468081</td>\n",
       "      <td>0.227517</td>\n",
       "      <td>0.268087</td>\n",
       "      <td>0.189746</td>\n",
       "    </tr>\n",
       "    <tr>\n",
       "      <th>Домбаровский</th>\n",
       "      <td>0.771105</td>\n",
       "      <td>0.526627</td>\n",
       "      <td>0.463993</td>\n",
       "      <td>0.393210</td>\n",
       "    </tr>\n",
       "    <tr>\n",
       "      <th>Илекский</th>\n",
       "      <td>-0.010009</td>\n",
       "      <td>0.308101</td>\n",
       "      <td>0.040348</td>\n",
       "      <td>0.162149</td>\n",
       "    </tr>\n",
       "    <tr>\n",
       "      <th>Кваркенский</th>\n",
       "      <td>-0.634561</td>\n",
       "      <td>0.097806</td>\n",
       "      <td>-0.303622</td>\n",
       "      <td>-0.041489</td>\n",
       "    </tr>\n",
       "    <tr>\n",
       "      <th>Красногвардейский</th>\n",
       "      <td>1.455467</td>\n",
       "      <td>-1.261140</td>\n",
       "      <td>0.543748</td>\n",
       "      <td>-0.455451</td>\n",
       "    </tr>\n",
       "    <tr>\n",
       "      <th>Кувандыкский</th>\n",
       "      <td>0.821450</td>\n",
       "      <td>0.414100</td>\n",
       "      <td>0.472656</td>\n",
       "      <td>0.340863</td>\n",
       "    </tr>\n",
       "    <tr>\n",
       "      <th>Курманаевский</th>\n",
       "      <td>1.623634</td>\n",
       "      <td>-0.197267</td>\n",
       "      <td>0.784670</td>\n",
       "      <td>0.134298</td>\n",
       "    </tr>\n",
       "    <tr>\n",
       "      <th>Матвеевский</th>\n",
       "      <td>1.583014</td>\n",
       "      <td>0.250517</td>\n",
       "      <td>0.830243</td>\n",
       "      <td>0.366120</td>\n",
       "    </tr>\n",
       "    <tr>\n",
       "      <th>Новоорский</th>\n",
       "      <td>0.229080</td>\n",
       "      <td>0.778299</td>\n",
       "      <td>0.229403</td>\n",
       "      <td>0.447058</td>\n",
       "    </tr>\n",
       "    <tr>\n",
       "      <th>Новосергиевский</th>\n",
       "      <td>0.691408</td>\n",
       "      <td>-0.414497</td>\n",
       "      <td>0.285483</td>\n",
       "      <td>-0.118324</td>\n",
       "    </tr>\n",
       "    <tr>\n",
       "      <th>Октябрьский</th>\n",
       "      <td>0.161243</td>\n",
       "      <td>0.401587</td>\n",
       "      <td>0.139939</td>\n",
       "      <td>0.237011</td>\n",
       "    </tr>\n",
       "    <tr>\n",
       "      <th>Оренбургский</th>\n",
       "      <td>-1.574760</td>\n",
       "      <td>0.934726</td>\n",
       "      <td>-0.651594</td>\n",
       "      <td>0.264539</td>\n",
       "    </tr>\n",
       "    <tr>\n",
       "      <th>Первомайский</th>\n",
       "      <td>-0.657327</td>\n",
       "      <td>0.045283</td>\n",
       "      <td>-0.322764</td>\n",
       "      <td>-0.072735</td>\n",
       "    </tr>\n",
       "    <tr>\n",
       "      <th>Переволоцкий</th>\n",
       "      <td>1.914040</td>\n",
       "      <td>-1.989013</td>\n",
       "      <td>0.666400</td>\n",
       "      <td>-0.774481</td>\n",
       "    </tr>\n",
       "    <tr>\n",
       "      <th>Пономаревский</th>\n",
       "      <td>0.849099</td>\n",
       "      <td>-0.156138</td>\n",
       "      <td>0.402553</td>\n",
       "      <td>0.042100</td>\n",
       "    </tr>\n",
       "    <tr>\n",
       "      <th>Сакмарский</th>\n",
       "      <td>-0.811289</td>\n",
       "      <td>0.807437</td>\n",
       "      <td>-0.287708</td>\n",
       "      <td>0.309351</td>\n",
       "    </tr>\n",
       "    <tr>\n",
       "      <th>Саракташский</th>\n",
       "      <td>-0.309148</td>\n",
       "      <td>0.598362</td>\n",
       "      <td>-0.066834</td>\n",
       "      <td>0.272252</td>\n",
       "    </tr>\n",
       "    <tr>\n",
       "      <th>Светлинский</th>\n",
       "      <td>1.510640</td>\n",
       "      <td>0.332532</td>\n",
       "      <td>0.806047</td>\n",
       "      <td>0.399020</td>\n",
       "    </tr>\n",
       "    <tr>\n",
       "      <th>Северный</th>\n",
       "      <td>-0.245031</td>\n",
       "      <td>0.657395</td>\n",
       "      <td>-0.026009</td>\n",
       "      <td>0.313043</td>\n",
       "    </tr>\n",
       "    <tr>\n",
       "      <th>Соль-Илецкий</th>\n",
       "      <td>0.746049</td>\n",
       "      <td>0.543018</td>\n",
       "      <td>0.453849</td>\n",
       "      <td>0.398225</td>\n",
       "    </tr>\n",
       "    <tr>\n",
       "      <th>Сорочинский</th>\n",
       "      <td>-0.124015</td>\n",
       "      <td>0.240496</td>\n",
       "      <td>-0.026742</td>\n",
       "      <td>0.109460</td>\n",
       "    </tr>\n",
       "    <tr>\n",
       "      <th>Ташлинский</th>\n",
       "      <td>-0.057398</td>\n",
       "      <td>0.554468</td>\n",
       "      <td>0.052873</td>\n",
       "      <td>0.286009</td>\n",
       "    </tr>\n",
       "    <tr>\n",
       "      <th>Тоцкий</th>\n",
       "      <td>1.360096</td>\n",
       "      <td>0.105743</td>\n",
       "      <td>0.697207</td>\n",
       "      <td>0.256414</td>\n",
       "    </tr>\n",
       "    <tr>\n",
       "      <th>Тюльганский</th>\n",
       "      <td>-1.041352</td>\n",
       "      <td>0.475161</td>\n",
       "      <td>-0.451932</td>\n",
       "      <td>0.099016</td>\n",
       "    </tr>\n",
       "    <tr>\n",
       "      <th>Шарлыкский</th>\n",
       "      <td>0.475736</td>\n",
       "      <td>0.395791</td>\n",
       "      <td>0.296700</td>\n",
       "      <td>0.280238</td>\n",
       "    </tr>\n",
       "    <tr>\n",
       "      <th>Ясненский</th>\n",
       "      <td>-0.462527</td>\n",
       "      <td>0.838311</td>\n",
       "      <td>-0.108373</td>\n",
       "      <td>0.377098</td>\n",
       "    </tr>\n",
       "    <tr>\n",
       "      <th>г.Абдулино</th>\n",
       "      <td>-0.431105</td>\n",
       "      <td>0.375493</td>\n",
       "      <td>-0.160770</td>\n",
       "      <td>0.135937</td>\n",
       "    </tr>\n",
       "    <tr>\n",
       "      <th>г.Бугуруслан</th>\n",
       "      <td>-0.179060</td>\n",
       "      <td>0.233715</td>\n",
       "      <td>-0.055328</td>\n",
       "      <td>0.097754</td>\n",
       "    </tr>\n",
       "    <tr>\n",
       "      <th>г.Бузулук</th>\n",
       "      <td>-6.641891</td>\n",
       "      <td>1.898333</td>\n",
       "      <td>-3.049204</td>\n",
       "      <td>0.030207</td>\n",
       "    </tr>\n",
       "    <tr>\n",
       "      <th>г.Гай</th>\n",
       "      <td>-2.730790</td>\n",
       "      <td>1.245007</td>\n",
       "      <td>-1.185276</td>\n",
       "      <td>0.259108</td>\n",
       "    </tr>\n",
       "    <tr>\n",
       "      <th>г.Кувандык</th>\n",
       "      <td>-0.786345</td>\n",
       "      <td>0.095443</td>\n",
       "      <td>-0.380039</td>\n",
       "      <td>-0.065093</td>\n",
       "    </tr>\n",
       "    <tr>\n",
       "      <th>г.Медногорск</th>\n",
       "      <td>1.349897</td>\n",
       "      <td>-1.081711</td>\n",
       "      <td>0.517258</td>\n",
       "      <td>-0.375706</td>\n",
       "    </tr>\n",
       "    <tr>\n",
       "      <th>г.Новотроицк</th>\n",
       "      <td>-1.902009</td>\n",
       "      <td>-0.974674</td>\n",
       "      <td>-1.096737</td>\n",
       "      <td>-0.797665</td>\n",
       "    </tr>\n",
       "    <tr>\n",
       "      <th>г.Оренбург</th>\n",
       "      <td>-1.286488</td>\n",
       "      <td>-5.806996</td>\n",
       "      <td>-1.499756</td>\n",
       "      <td>-3.273325</td>\n",
       "    </tr>\n",
       "    <tr>\n",
       "      <th>г.Орск</th>\n",
       "      <td>1.845580</td>\n",
       "      <td>-6.268040</td>\n",
       "      <td>0.002057</td>\n",
       "      <td>-3.057012</td>\n",
       "    </tr>\n",
       "    <tr>\n",
       "      <th>г.Соль-Илецк</th>\n",
       "      <td>-1.366407</td>\n",
       "      <td>0.446091</td>\n",
       "      <td>-0.619120</td>\n",
       "      <td>0.035718</td>\n",
       "    </tr>\n",
       "    <tr>\n",
       "      <th>г.Сорочинск</th>\n",
       "      <td>-1.073046</td>\n",
       "      <td>0.316396</td>\n",
       "      <td>-0.491192</td>\n",
       "      <td>0.010035</td>\n",
       "    </tr>\n",
       "    <tr>\n",
       "      <th>г.Ясный</th>\n",
       "      <td>-1.435895</td>\n",
       "      <td>0.657918</td>\n",
       "      <td>-0.622756</td>\n",
       "      <td>0.137981</td>\n",
       "    </tr>\n",
       "  </tbody>\n",
       "</table>\n",
       "</div>"
      ],
      "text/plain": [
       "                   Factor1_lect  Factor2_lect  Factor1_stat  Factor2_stat\n",
       "Абдулинский            0.946744      0.550602      0.555548      0.431803\n",
       "Адамовский            -0.849296      0.524499     -0.348415      0.153496\n",
       "Акбулакский            1.111063      0.103587      0.572082      0.218602\n",
       "Александровский        0.774020      0.475365      0.457906      0.366415\n",
       "Асекеевский            0.661243      0.156769      0.354477      0.180614\n",
       "Беляевский             0.871391      0.320877      0.483959      0.298709\n",
       "Бугурусланский         0.942557      0.353231      0.524389      0.326369\n",
       "Бузулукский            1.530190      0.086690      0.779648      0.271340\n",
       "Гайский               -0.083080      0.776184      0.072646      0.399973\n",
       "Грачевский             0.468081      0.227517      0.268087      0.189746\n",
       "Домбаровский           0.771105      0.526627      0.463993      0.393210\n",
       "Илекский              -0.010009      0.308101      0.040348      0.162149\n",
       "Кваркенский           -0.634561      0.097806     -0.303622     -0.041489\n",
       "Красногвардейский      1.455467     -1.261140      0.543748     -0.455451\n",
       "Кувандыкский           0.821450      0.414100      0.472656      0.340863\n",
       "Курманаевский          1.623634     -0.197267      0.784670      0.134298\n",
       "Матвеевский            1.583014      0.250517      0.830243      0.366120\n",
       "Новоорский             0.229080      0.778299      0.229403      0.447058\n",
       "Новосергиевский        0.691408     -0.414497      0.285483     -0.118324\n",
       "Октябрьский            0.161243      0.401587      0.139939      0.237011\n",
       "Оренбургский          -1.574760      0.934726     -0.651594      0.264539\n",
       "Первомайский          -0.657327      0.045283     -0.322764     -0.072735\n",
       "Переволоцкий           1.914040     -1.989013      0.666400     -0.774481\n",
       "Пономаревский          0.849099     -0.156138      0.402553      0.042100\n",
       "Сакмарский            -0.811289      0.807437     -0.287708      0.309351\n",
       "Саракташский          -0.309148      0.598362     -0.066834      0.272252\n",
       "Светлинский            1.510640      0.332532      0.806047      0.399020\n",
       "Северный              -0.245031      0.657395     -0.026009      0.313043\n",
       "Соль-Илецкий           0.746049      0.543018      0.453849      0.398225\n",
       "Сорочинский           -0.124015      0.240496     -0.026742      0.109460\n",
       "Ташлинский            -0.057398      0.554468      0.052873      0.286009\n",
       "Тоцкий                 1.360096      0.105743      0.697207      0.256414\n",
       "Тюльганский           -1.041352      0.475161     -0.451932      0.099016\n",
       "Шарлыкский             0.475736      0.395791      0.296700      0.280238\n",
       "Ясненский             -0.462527      0.838311     -0.108373      0.377098\n",
       "г.Абдулино            -0.431105      0.375493     -0.160770      0.135937\n",
       "г.Бугуруслан          -0.179060      0.233715     -0.055328      0.097754\n",
       "г.Бузулук             -6.641891      1.898333     -3.049204      0.030207\n",
       "г.Гай                 -2.730790      1.245007     -1.185276      0.259108\n",
       "г.Кувандык            -0.786345      0.095443     -0.380039     -0.065093\n",
       "г.Медногорск           1.349897     -1.081711      0.517258     -0.375706\n",
       "г.Новотроицк          -1.902009     -0.974674     -1.096737     -0.797665\n",
       "г.Оренбург            -1.286488     -5.806996     -1.499756     -3.273325\n",
       "г.Орск                 1.845580     -6.268040      0.002057     -3.057012\n",
       "г.Соль-Илецк          -1.366407      0.446091     -0.619120      0.035718\n",
       "г.Сорочинск           -1.073046      0.316396     -0.491192      0.010035\n",
       "г.Ясный               -1.435895      0.657918     -0.622756      0.137981"
      ]
     },
     "execution_count": 62,
     "metadata": {},
     "output_type": "execute_result"
    }
   ],
   "source": [
    "df_result = pd.concat([df_factor_scores_lect, df_factor_scores_stat], axis=1)\n",
    "df_result"
   ]
  },
  {
   "cell_type": "code",
   "execution_count": 63,
   "metadata": {
    "scrolled": true
   },
   "outputs": [],
   "source": [
    "df_result.to_excel('4lab_result.xlsx')"
   ]
  },
  {
   "cell_type": "code",
   "execution_count": null,
   "metadata": {},
   "outputs": [],
   "source": []
  },
  {
   "cell_type": "code",
   "execution_count": null,
   "metadata": {},
   "outputs": [],
   "source": []
  }
 ],
 "metadata": {
  "kernelspec": {
   "display_name": "Python 3",
   "language": "python",
   "name": "python3"
  },
  "language_info": {
   "codemirror_mode": {
    "name": "ipython",
    "version": 3
   },
   "file_extension": ".py",
   "mimetype": "text/x-python",
   "name": "python",
   "nbconvert_exporter": "python",
   "pygments_lexer": "ipython3",
   "version": "3.7.0"
  }
 },
 "nbformat": 4,
 "nbformat_minor": 2
}
