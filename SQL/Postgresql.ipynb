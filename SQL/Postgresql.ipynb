{
 "cells": [
  {
   "cell_type": "code",
   "execution_count": 3,
   "metadata": {},
   "outputs": [],
   "source": [
    "import psycopg2\n",
    "import pandas as pd\n",
    "import numpy as np\n",
    "import sql as sql"
   ]
  },
  {
   "cell_type": "code",
   "execution_count": 15,
   "metadata": {},
   "outputs": [],
   "source": [
    "conn = psycopg2.connect(dbname='My_DB', user='postgres', \n",
    "                        password='legomania97', host='localhost')\n",
    "cur = conn.cursor()"
   ]
  },
  {
   "cell_type": "code",
   "execution_count": 11,
   "metadata": {},
   "outputs": [],
   "source": [
    "def CREATE(conn):\n",
    "    cur = conn.cursor()\n",
    "    #query = str(input())\n",
    "    query = 'CREATE TABLE podft (iyear VARCHAR (20),imonth VARCHAR (20),iday VARCHAR (20),country_txt VARCHAR (200),region_txt VARCHAR (200),latitude VARCHAR (20),longitude VARCHAR (20),accident_date VARCHAR (20))'\n",
    "    cur.execute(query)\n",
    "    cur.close()\n",
    "    \n",
    "def SELECT(conn):\n",
    "    cur = conn.cursor()\n",
    "    #db = str(input())\n",
    "    ds = cur.execute('SELECT * FROM podft')\n",
    "   \n",
    "    for res in ds:\n",
    "        print(res)\n",
    "    data = cur.fetchall()\n",
    "    print(data)\n",
    "\n",
    "def INSERT(conn):\n",
    "    cur = conn.cursor()\n",
    "    statement = 'insert into podft values (:2, :3, :4, :5, :6, :7, :8, :9)'\n",
    "    for index, row in df.iterrows():\n",
    "        cur.execute(statement, (row['iyear'],row['imonth'],row['iday'],row['country_txt'],row['region_txt'],row['latitude'],row['longitude'],row['accident_date']))\n",
    "\n",
    "        \n",
    "    statement = sql.SQL('INSERT INTO city (code, name, country_name) VALUES {}').format(\n",
    "        sql.SQL(',').join(map(sql.Literal, values))    \n",
    "        \n",
    "        \n",
    "def DROP(conn):\n",
    "    cur = conn.cursor()\n",
    "    statement = 'DROP TABLE podft'\n",
    "    cur.execute(statement)\n",
    "\n",
    "def DELETE(conn):\n",
    "    cur = conn.cursor()\n",
    "    statement = 'DELETE * FROM podft'\n",
    "    cur.execute(statement)\n",
    "    "
   ]
  },
  {
   "cell_type": "code",
   "execution_count": 6,
   "metadata": {},
   "outputs": [
    {
     "name": "stdout",
     "output_type": "stream",
     "text": [
      "(160596, 8)\n"
     ]
    }
   ],
   "source": [
    "df = pd.read_csv(\"C:\\Jypiter\\Glob_terror.csv\", encoding='latin1', error_bad_lines = False, warn_bad_lines = False, low_memory=False)\n",
    "\n",
    "#создаем набор из указанных полей\n",
    "features = ['iyear', 'imonth', 'iday', 'country_txt', 'region_txt', 'latitude', 'longitude']\n",
    "df = df.loc[:,features]\n",
    "df = df.dropna().reset_index(drop=True) \n",
    "df = df.loc[(df['iyear'].isin(list(range(0, 2019)))) & (df['imonth'].isin(list(range(1, 12)))) & (df['iday'].isin(list(range(1, 31))))]\n",
    "\n",
    "#добавляем новый столбец, склеиный из других\n",
    "df.loc[:,'accident_date'] = pd.to_datetime(df.astype('str').loc[:,'iyear'] + df.astype('str').loc[:,'imonth'] + df.astype('str').loc[:,'iday'], format='%Y%m%d', errors='ignore')\n",
    "df.head(5)\n",
    "print(df.shape)\n"
   ]
  },
  {
   "cell_type": "code",
   "execution_count": 16,
   "metadata": {
    "scrolled": true
   },
   "outputs": [],
   "source": [
    "CREATE(conn)"
   ]
  },
  {
   "cell_type": "code",
   "execution_count": 13,
   "metadata": {},
   "outputs": [
    {
     "ename": "ProgrammingError",
     "evalue": "ОШИБКА:  ошибка синтаксиса (примерное положение: \":\")\nLINE 1: insert into podft values (:2, :3, :4, :5, :6, :7, :8, :9)\n                                  ^\n",
     "output_type": "error",
     "traceback": [
      "\u001b[1;31m---------------------------------------------------------------------------\u001b[0m",
      "\u001b[1;31mProgrammingError\u001b[0m                          Traceback (most recent call last)",
      "\u001b[1;32m<ipython-input-13-014808f79bd6>\u001b[0m in \u001b[0;36m<module>\u001b[1;34m\u001b[0m\n\u001b[1;32m----> 1\u001b[1;33m \u001b[0mINSERT\u001b[0m\u001b[1;33m(\u001b[0m\u001b[0mconn\u001b[0m\u001b[1;33m)\u001b[0m\u001b[1;33m\u001b[0m\u001b[1;33m\u001b[0m\u001b[0m\n\u001b[0m\u001b[0;32m      2\u001b[0m \u001b[0mSELECT\u001b[0m\u001b[1;33m(\u001b[0m\u001b[0mconn\u001b[0m\u001b[1;33m)\u001b[0m\u001b[1;33m\u001b[0m\u001b[1;33m\u001b[0m\u001b[0m\n",
      "\u001b[1;32m<ipython-input-11-1f4eefa3c3fb>\u001b[0m in \u001b[0;36mINSERT\u001b[1;34m(conn)\u001b[0m\n\u001b[0;32m     20\u001b[0m     \u001b[0mstatement\u001b[0m \u001b[1;33m=\u001b[0m \u001b[1;34m'insert into podft values (:2, :3, :4, :5, :6, :7, :8, :9)'\u001b[0m\u001b[1;33m\u001b[0m\u001b[1;33m\u001b[0m\u001b[0m\n\u001b[0;32m     21\u001b[0m     \u001b[1;32mfor\u001b[0m \u001b[0mindex\u001b[0m\u001b[1;33m,\u001b[0m \u001b[0mrow\u001b[0m \u001b[1;32min\u001b[0m \u001b[0mdf\u001b[0m\u001b[1;33m.\u001b[0m\u001b[0miterrows\u001b[0m\u001b[1;33m(\u001b[0m\u001b[1;33m)\u001b[0m\u001b[1;33m:\u001b[0m\u001b[1;33m\u001b[0m\u001b[1;33m\u001b[0m\u001b[0m\n\u001b[1;32m---> 22\u001b[1;33m         \u001b[0mcur\u001b[0m\u001b[1;33m.\u001b[0m\u001b[0mexecute\u001b[0m\u001b[1;33m(\u001b[0m\u001b[0mstatement\u001b[0m\u001b[1;33m,\u001b[0m \u001b[1;33m(\u001b[0m\u001b[0mrow\u001b[0m\u001b[1;33m[\u001b[0m\u001b[1;34m'iyear'\u001b[0m\u001b[1;33m]\u001b[0m\u001b[1;33m,\u001b[0m\u001b[0mrow\u001b[0m\u001b[1;33m[\u001b[0m\u001b[1;34m'imonth'\u001b[0m\u001b[1;33m]\u001b[0m\u001b[1;33m,\u001b[0m\u001b[0mrow\u001b[0m\u001b[1;33m[\u001b[0m\u001b[1;34m'iday'\u001b[0m\u001b[1;33m]\u001b[0m\u001b[1;33m,\u001b[0m\u001b[0mrow\u001b[0m\u001b[1;33m[\u001b[0m\u001b[1;34m'country_txt'\u001b[0m\u001b[1;33m]\u001b[0m\u001b[1;33m,\u001b[0m\u001b[0mrow\u001b[0m\u001b[1;33m[\u001b[0m\u001b[1;34m'region_txt'\u001b[0m\u001b[1;33m]\u001b[0m\u001b[1;33m,\u001b[0m\u001b[0mrow\u001b[0m\u001b[1;33m[\u001b[0m\u001b[1;34m'latitude'\u001b[0m\u001b[1;33m]\u001b[0m\u001b[1;33m,\u001b[0m\u001b[0mrow\u001b[0m\u001b[1;33m[\u001b[0m\u001b[1;34m'longitude'\u001b[0m\u001b[1;33m]\u001b[0m\u001b[1;33m,\u001b[0m\u001b[0mrow\u001b[0m\u001b[1;33m[\u001b[0m\u001b[1;34m'accident_date'\u001b[0m\u001b[1;33m]\u001b[0m\u001b[1;33m)\u001b[0m\u001b[1;33m)\u001b[0m\u001b[1;33m\u001b[0m\u001b[1;33m\u001b[0m\u001b[0m\n\u001b[0m\u001b[0;32m     23\u001b[0m \u001b[1;33m\u001b[0m\u001b[0m\n\u001b[0;32m     24\u001b[0m \u001b[1;32mdef\u001b[0m \u001b[0mDROP\u001b[0m\u001b[1;33m(\u001b[0m\u001b[0mconn\u001b[0m\u001b[1;33m)\u001b[0m\u001b[1;33m:\u001b[0m\u001b[1;33m\u001b[0m\u001b[1;33m\u001b[0m\u001b[0m\n",
      "\u001b[1;31mProgrammingError\u001b[0m: ОШИБКА:  ошибка синтаксиса (примерное положение: \":\")\nLINE 1: insert into podft values (:2, :3, :4, :5, :6, :7, :8, :9)\n                                  ^\n"
     ]
    }
   ],
   "source": [
    "INSERT(conn)\n",
    "SELECT(conn)"
   ]
  },
  {
   "cell_type": "code",
   "execution_count": 17,
   "metadata": {},
   "outputs": [],
   "source": [
    "conn.close()"
   ]
  },
  {
   "cell_type": "code",
   "execution_count": null,
   "metadata": {},
   "outputs": [],
   "source": []
  }
 ],
 "metadata": {
  "kernelspec": {
   "display_name": "Python 3",
   "language": "python",
   "name": "python3"
  },
  "language_info": {
   "codemirror_mode": {
    "name": "ipython",
    "version": 3
   },
   "file_extension": ".py",
   "mimetype": "text/x-python",
   "name": "python",
   "nbconvert_exporter": "python",
   "pygments_lexer": "ipython3",
   "version": "3.6.8"
  }
 },
 "nbformat": 4,
 "nbformat_minor": 2
}
